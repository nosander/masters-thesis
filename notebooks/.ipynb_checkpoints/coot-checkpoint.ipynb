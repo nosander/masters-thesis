{
 "cells": [
  {
   "cell_type": "code",
   "execution_count": 6,
   "id": "afa485ac",
   "metadata": {},
   "outputs": [
    {
     "name": "stdout",
     "output_type": "stream",
     "text": [
      "The autoreload extension is already loaded. To reload it, use:\n",
      "  %reload_ext autoreload\n"
     ]
    }
   ],
   "source": [
    "%load_ext autoreload\n",
    "%autoreload 2"
   ]
  },
  {
   "cell_type": "code",
   "execution_count": 2,
   "id": "0a4205f5",
   "metadata": {},
   "outputs": [],
   "source": [
    "import numpy as np\n",
    "import scanpy as sc\n",
    "from scipy import ndimage\n",
    "import scipy as sp\n",
    "import matplotlib.pylab as pl\n",
    "import ot\n",
    "import scipy.io\n",
    "import sys\n",
    "sys.path.append('../git_repos/COOT/code')\n",
    "import cot\n",
    "import helper_functions as fcts\n",
    "from tqdm import tqdm\n",
    "from sklearn import preprocessing as pp\n",
    "import scib"
   ]
  },
  {
   "cell_type": "code",
   "execution_count": 3,
   "id": "318e8d9d",
   "metadata": {},
   "outputs": [],
   "source": [
    "import pandas as pd"
   ]
  },
  {
   "cell_type": "code",
   "execution_count": 4,
   "id": "4eb1bdfb",
   "metadata": {},
   "outputs": [],
   "source": [
    "results = []"
   ]
  },
  {
   "cell_type": "code",
   "execution_count": 5,
   "id": "54d82ae3",
   "metadata": {},
   "outputs": [
    {
     "name": "stderr",
     "output_type": "stream",
     "text": [
      "  0%|          | 0/5 [00:00<?, ?it/s]\n",
      "  0%|          | 0/6 [00:00<?, ?it/s]\u001b[A\n",
      "\n",
      "  0%|          | 0/6 [00:00<?, ?it/s]\u001b[A\u001b[A"
     ]
    },
    {
     "name": "stdout",
     "output_type": "stream",
     "text": [
      "Delta: 0.011696845662163663  Loss: 0.07362875362759039\n",
      "Delta: 0.039891321552907706  Loss: 0.06869377754288088\n",
      "Delta: 0.0388498443070155  Loss: 0.06214612306579361\n",
      "Delta: 0.03701186471731894  Loss: 0.05878116490456542\n",
      "Delta: 0.035605770382223664  Loss: 0.05634434472696123\n",
      "Delta: 0.039502082310292216  Loss: 0.054463380167367584\n",
      "Delta: 0.02823241258016003  Loss: 0.05272028860452946\n",
      "Delta: 0.01961662844895235  Loss: 0.05195712838445244\n",
      "Delta: 0.014914449062071452  Loss: 0.05160091969127891\n",
      "Delta: 0.011581821035210715  Loss: 0.05138429951762746\n",
      "Delta: 0.010194738736840993  Loss: 0.05124445196954288\n",
      "Delta: 0.00371298877035401  Loss: 0.051175979876972436\n",
      "Delta: 0.001480588701616692  Loss: 0.051167200986166395\n",
      "Delta: 0.0010198405042879423  Loss: 0.05116668326281958\n",
      "Delta: 0.0007562305506588026  Loss: 0.051166132483772504\n",
      "Delta: 0.0005406349378782083  Loss: 0.05116545610877894\n",
      "Delta: 0.00037962125629008406  Loss: 0.05116479414647797\n",
      "Delta: 0.00027251274233403683  Loss: 0.051164214152290825\n",
      "Delta: 0.00020204756460706562  Loss: 0.051163733718977304\n",
      "Delta: 0.00015202755141781945  Loss: 0.051163349939193296\n",
      "Delta: 0.0001139906426713549  Loss: 0.05116305230419503\n",
      "Delta: 8.442894376127655e-05  Loss: 0.05116282734588879\n",
      "Delta: 6.165956440996867e-05  Loss: 0.05116266099832077\n",
      "Delta: 4.446233508343379e-05  Loss: 0.05116254016109111\n",
      "Delta: 3.17327282971028e-05  Loss: 0.051162453595172255\n",
      "converged at iter  24\n",
      "Elapsed time : 206.40853548049927 s\n"
     ]
    },
    {
     "name": "stderr",
     "output_type": "stream",
     "text": [
      "/dss/dsshome1/01/di93bur/miniconda3/envs/moscot_env_2/lib/python3.9/site-packages/tqdm/auto.py:21: TqdmWarning: IProgress not found. Please update jupyter and ipywidgets. See https://ipywidgets.readthedocs.io/en/stable/user_install.html\n",
      "  from .autonotebook import tqdm as notebook_tqdm\n",
      "/tmp/ipykernel_3530284/1559086866.py:26: DeprecationWarning: Call to deprecated function (or staticmethod) opt_louvain.\n",
      "  scib.cl.opt_louvain(adata,label_key='cell_type',cluster_key='cluster_key',plot=False,inplace=True,force=True,verbose = False)\n",
      "\n",
      "\n",
      " 17%|█▋        | 1/6 [04:53<24:25, 293.16s/it]\u001b[A\u001b[A"
     ]
    },
    {
     "name": "stdout",
     "output_type": "stream",
     "text": [
      "Delta: 0.0027533655740806977  Loss: 0.07371071442806136\n",
      "Delta: 0.01653452124378257  Loss: 0.07263426753646998\n",
      "Delta: 0.02584212927133947  Loss: 0.06752699243174447\n",
      "Delta: 0.01948897029898547  Loss: 0.06426237103565767\n",
      "Delta: 0.01754140900454921  Loss: 0.06241718116439755\n",
      "Delta: 0.004286981258661213  Loss: 0.06141849223193675\n",
      "Delta: 0.004518909162881424  Loss: 0.06127182342505449\n",
      "Delta: 0.009189208655005636  Loss: 0.06097236152668484\n",
      "Delta: 0.00878318316720742  Loss: 0.06041064932690994\n",
      "Delta: 0.009682808807684452  Loss: 0.05991770688193128\n",
      "Delta: 0.007022363068258361  Loss: 0.05942926452618041\n",
      "Delta: 0.0014919607691609733  Loss: 0.05925711258593609\n",
      "Delta: 0.0007106018143967644  Loss: 0.05922488284540763\n",
      "Delta: 0.000499160385075834  Loss: 0.0592107822776451\n",
      "Delta: 0.00045935812438468624  Loss: 0.059200758723312014\n",
      "Delta: 0.0005402098759945407  Loss: 0.059191391315230824\n",
      "Delta: 0.0007285959606194581  Loss: 0.05918009395211246\n",
      "Delta: 0.001074287866971122  Loss: 0.059163162740271696\n",
      "Delta: 0.001719106810863083  Loss: 0.059132921286299864\n",
      "Delta: 0.002946120995298432  Loss: 0.05907068628867403\n",
      "Delta: 0.004926177246840418  Loss: 0.05893558874309293\n",
      "Delta: 0.005968067420700218  Loss: 0.0587028360528692\n",
      "Delta: 0.003845628821412162  Loss: 0.058489153503108425\n",
      "Delta: 0.0015868006854849318  Loss: 0.05839059169213135\n",
      "Delta: 0.0005699138306368204  Loss: 0.05836033083563834\n",
      "Delta: 0.0002693607533211962  Loss: 0.058352075547359016\n",
      "Delta: 0.00021868928776524725  Loss: 0.05834937006447791\n",
      "Delta: 0.00022803797231331666  Loss: 0.05834768130498185\n",
      "Delta: 0.0002586902579350386  Loss: 0.058345782956991055\n",
      "Delta: 0.00030805302487060647  Loss: 0.05834323459830839\n",
      "Delta: 0.0003822244390895203  Loss: 0.05833968316418528\n",
      "Delta: 0.000494094827219804  Loss: 0.0583345954082372\n",
      "Delta: 0.0006665666339132191  Loss: 0.058327007448206555\n",
      "Delta: 0.0009381795783249061  Loss: 0.05831508742895247\n",
      "Delta: 0.0013652652555264887  Loss: 0.05829532127535703\n",
      "Delta: 0.0019884623285334516  Loss: 0.05826148532693748\n",
      "Delta: 0.002669987665014506  Loss: 0.05820606524237126\n",
      "Delta: 0.00285267950578727  Loss: 0.058131598247115224\n",
      "Delta: 0.0020963142682142405  Loss: 0.05806291217090036\n",
      "Delta: 0.0010538551664147791  Loss: 0.05802211438569868\n",
      "Delta: 0.00041844870948237577  Loss: 0.05800480090588086\n",
      "Delta: 0.00015429195451962974  Loss: 0.05799854346418152\n",
      "Delta: 5.964611490509294e-05  Loss: 0.05799632913737441\n",
      "Delta: 2.649111480638838e-05  Loss: 0.057995496760968476\n",
      "Delta: 1.4009531097421877e-05  Loss: 0.05799515010381663\n",
      "Delta: 8.478327901905885e-06  Loss: 0.05799498825798602\n",
      "Delta: 5.5408182258017056e-06  Loss: 0.057994904628533614\n",
      "converged at iter  46\n",
      "Elapsed time : 398.5482134819031 s\n"
     ]
    },
    {
     "name": "stderr",
     "output_type": "stream",
     "text": [
      "/tmp/ipykernel_3530284/1559086866.py:26: DeprecationWarning: Call to deprecated function (or staticmethod) opt_louvain.\n",
      "  scib.cl.opt_louvain(adata,label_key='cell_type',cluster_key='cluster_key',plot=False,inplace=True,force=True,verbose = False)\n",
      "\n",
      "\n",
      " 33%|███▎      | 2/6 [12:29<25:55, 388.92s/it]\u001b[A\u001b[A"
     ]
    },
    {
     "name": "stdout",
     "output_type": "stream",
     "text": [
      "Delta: 0.0014981888262970743  Loss: 0.07372539033520262\n",
      "Delta: 0.005291402459977237  Loss: 0.07345649309403636\n",
      "Delta: 0.017017048658670732  Loss: 0.07097034464104998\n",
      "Delta: 0.011612037617371947  Loss: 0.06816733442902503\n",
      "Delta: 0.004297962280021529  Loss: 0.0673598958831377\n",
      "Delta: 0.011382850750777001  Loss: 0.0666209501499892\n",
      "Delta: 0.01439859262911613  Loss: 0.06474270321243561\n",
      "Delta: 0.010155657739664628  Loss: 0.06382722170751029\n",
      "Delta: 0.009893151780856096  Loss: 0.06283811284410115\n",
      "Delta: 0.001678579658831931  Loss: 0.062443693175858024\n",
      "Delta: 0.0011662031569195127  Loss: 0.06237876079870012\n",
      "Delta: 0.0013403376940770656  Loss: 0.06232266202134683\n",
      "Delta: 0.0017324337902199865  Loss: 0.06225472883869232\n",
      "Delta: 0.0024238982511844524  Loss: 0.06216646472254693\n",
      "Delta: 0.003193331541277565  Loss: 0.06204868038918093\n",
      "Delta: 0.0033032395185610243  Loss: 0.06191002952887768\n",
      "Delta: 0.002394099896949408  Loss: 0.06179071154497602\n",
      "Delta: 0.0012364281420828064  Loss: 0.06172035845017329\n",
      "Delta: 0.000513580767548825  Loss: 0.06168932090891161\n",
      "Delta: 0.00020092167421181117  Loss: 0.061677479981898625\n",
      "Delta: 9.095101672458452e-05  Loss: 0.06167309646150136\n",
      "Delta: 5.6950190362409194e-05  Loss: 0.061671359741066384\n",
      "Delta: 4.432938688758505e-05  Loss: 0.06167053576544372\n",
      "Delta: 3.6926798980486344e-05  Loss: 0.061670029974820156\n",
      "Delta: 3.134940405991999e-05  Loss: 0.06166964393454446\n",
      "Delta: 2.682770658620248e-05  Loss: 0.06166931302154974\n",
      "Delta: 2.3075083260260633e-05  Loss: 0.06166901669323967\n",
      "Delta: 1.992428440216884e-05  Loss: 0.0616687483469575\n",
      "Delta: 1.7257616006943152e-05  Loss: 0.06166850542815223\n",
      "Delta: 1.4986680788646978e-05  Loss: 0.06166828632992068\n",
      "Delta: 1.3043026285348988e-05  Loss: 0.06166808952229799\n",
      "Delta: 1.1372569256842721e-05  Loss: 0.0616679133808917\n",
      "Delta: 9.931909964469714e-06  Loss: 0.06166775621135197\n",
      "Delta: 8.68577495071389e-06  Loss: 0.061667616311025616\n",
      "Delta: 7.605187401719546e-06  Loss: 0.0616674920228974\n",
      "Delta: 6.666126634647827e-06  Loss: 0.06166738177297727\n",
      "Delta: 5.848526130569734e-06  Loss: 0.06166728409265115\n",
      "converged at iter  36\n",
      "Elapsed time : 247.4929814338684 s\n"
     ]
    },
    {
     "name": "stderr",
     "output_type": "stream",
     "text": [
      "/tmp/ipykernel_3530284/1559086866.py:26: DeprecationWarning: Call to deprecated function (or staticmethod) opt_louvain.\n",
      "  scib.cl.opt_louvain(adata,label_key='cell_type',cluster_key='cluster_key',plot=False,inplace=True,force=True,verbose = False)\n",
      "\n",
      "\n",
      " 50%|█████     | 3/6 [17:35<17:33, 351.22s/it]\u001b[A\u001b[A"
     ]
    },
    {
     "name": "stdout",
     "output_type": "stream",
     "text": [
      "Delta: 0.0004519099089494121  Loss: 0.07373819216623663\n",
      "Delta: 0.00018561855464820385  Loss: 0.073732205613433\n",
      "Delta: 0.00016192153984249347  Loss: 0.07372602754062238\n",
      "Delta: 0.00017344700651114378  Loss: 0.07371863486963179\n",
      "Delta: 0.00021801752923403345  Loss: 0.07370813291306248\n",
      "Delta: 0.00031843389234927934  Loss: 0.07369009896562084\n",
      "Delta: 0.0005637278010960594  Loss: 0.073650903854958\n",
      "Delta: 0.0013452704354186722  Loss: 0.07352786941171041\n",
      "Delta: 0.004101489909220688  Loss: 0.07293595635321226\n",
      "Delta: 0.005536091730456177  Loss: 0.07163086073399869\n",
      "Delta: 0.0013545716832672461  Loss: 0.07123014007712966\n",
      "Delta: 0.00029414674032290114  Loss: 0.07117116502571103\n",
      "Delta: 0.00021826124401201462  Loss: 0.07115292558438792\n",
      "Delta: 0.0002288175585858854  Loss: 0.07113888790096459\n",
      "Delta: 0.00026949716562009245  Loss: 0.07112224569844178\n",
      "Delta: 0.00035140528239282  Loss: 0.07109806115514654\n",
      "Delta: 0.0005005378423631767  Loss: 0.07105772095564793\n",
      "Delta: 0.0007471869894583151  Loss: 0.0709847534129511\n",
      "Delta: 0.0010615559555511675  Loss: 0.07085778481639518\n",
      "Delta: 0.001213930590064022  Loss: 0.07068451344686924\n",
      "Delta: 0.0009688220504764684  Loss: 0.0705289224874668\n",
      "Delta: 0.00055265072672516  Loss: 0.07043492249781276\n",
      "Delta: 0.0002582481337147893  Loss: 0.07038995642287472\n",
      "Delta: 0.00011083001148382722  Loss: 0.07037046526217813\n",
      "Delta: 4.631485045669055e-05  Loss: 0.07036229205760386\n",
      "Delta: 1.9309449955638206e-05  Loss: 0.07035888990325692\n",
      "Delta: 8.107459963670646e-06  Loss: 0.07035747056903932\n",
      "Delta: 3.4414734924263904e-06  Loss: 0.07035687505625826\n",
      "Delta: 1.4800022752738662e-06  Loss: 0.07035662346045367\n",
      "Delta: 6.458948714810767e-07  Loss: 0.0703565163793042\n",
      "Delta: 2.864891451720101e-07  Loss: 0.07035647045795988\n",
      "converged at iter  30\n",
      "Elapsed time : 179.6280233860016 s\n"
     ]
    },
    {
     "name": "stderr",
     "output_type": "stream",
     "text": [
      "/tmp/ipykernel_3530284/1559086866.py:26: DeprecationWarning: Call to deprecated function (or staticmethod) opt_louvain.\n",
      "  scib.cl.opt_louvain(adata,label_key='cell_type',cluster_key='cluster_key',plot=False,inplace=True,force=True,verbose = False)\n",
      "\n",
      "\n",
      " 67%|██████▋   | 4/6 [21:19<10:02, 301.04s/it]\u001b[A\u001b[A"
     ]
    },
    {
     "name": "stdout",
     "output_type": "stream",
     "text": [
      "Delta: 0.0003164527558784186  Loss: 0.07373986712310121\n",
      "Delta: 4.843799682004977e-05  Loss: 0.07373831164525581\n",
      "Delta: 2.0002340131531802e-05  Loss: 0.07373770819260418\n",
      "Delta: 9.584460150924857e-06  Loss: 0.07373744863332236\n",
      "Delta: 5.007062599039942e-06  Loss: 0.073737328475278\n",
      "Delta: 2.7476071456922658e-06  Loss: 0.073737269520463\n",
      "converged at iter  5\n",
      "Elapsed time : 17.726702213287354 s\n"
     ]
    },
    {
     "name": "stderr",
     "output_type": "stream",
     "text": [
      "/tmp/ipykernel_3530284/1559086866.py:26: DeprecationWarning: Call to deprecated function (or staticmethod) opt_louvain.\n",
      "  scib.cl.opt_louvain(adata,label_key='cell_type',cluster_key='cluster_key',plot=False,inplace=True,force=True,verbose = False)\n",
      "\n",
      "\n",
      " 83%|████████▎ | 5/6 [22:20<03:34, 214.54s/it]\u001b[A\u001b[A"
     ]
    },
    {
     "name": "stdout",
     "output_type": "stream",
     "text": [
      "Delta: 0.00020713376937345895  Loss: 0.07374121961855964\n",
      "Delta: 2.643695644033221e-06  Loss: 0.07374109080658328\n",
      "Delta: 2.1097659013993828e-07  Loss: 0.07374108291166738\n",
      "converged at iter  2\n",
      "Elapsed time : 9.651789903640747 s\n"
     ]
    },
    {
     "name": "stderr",
     "output_type": "stream",
     "text": [
      "/tmp/ipykernel_3530284/1559086866.py:26: DeprecationWarning: Call to deprecated function (or staticmethod) opt_louvain.\n",
      "  scib.cl.opt_louvain(adata,label_key='cell_type',cluster_key='cluster_key',plot=False,inplace=True,force=True,verbose = False)\n",
      "\n",
      "\n",
      "100%|██████████| 6/6 [23:13<00:00, 232.22s/it]\u001b[A\u001b[A\n",
      "\n",
      " 17%|█▋        | 1/6 [23:13<1:56:06, 1393.30s/it]\u001b[A\n",
      "\n",
      "  0%|          | 0/6 [00:00<?, ?it/s]\u001b[A\u001b[A"
     ]
    },
    {
     "name": "stdout",
     "output_type": "stream",
     "text": [
      "Delta: 0.007979226476529202  Loss: 0.07464368151340973\n",
      "Delta: 0.025192216418099628  Loss: 0.072963162228059\n",
      "Delta: 0.021927887186744804  Loss: 0.06887309776876858\n",
      "Delta: 0.024365336874558493  Loss: 0.0676080980171181\n",
      "Delta: 0.014704931383350845  Loss: 0.0663212830015206\n",
      "Delta: 0.014695438683766595  Loss: 0.06589240291286051\n",
      "Delta: 0.008485787503349607  Loss: 0.06549236632311836\n",
      "Delta: 0.011867631019863415  Loss: 0.06526453702586932\n",
      "Delta: 0.011637777379160621  Loss: 0.0649724003865629\n",
      "Delta: 0.007385644954499206  Loss: 0.06472077439032067\n",
      "Delta: 0.004433250836908092  Loss: 0.06460596755625604\n",
      "Delta: 0.0053532233149282855  Loss: 0.06455736146757897\n",
      "Delta: 0.011122303987385384  Loss: 0.06447164094970242\n",
      "Delta: 0.005724932055056533  Loss: 0.06430994631482545\n",
      "Delta: 0.0014722777791515518  Loss: 0.06424066013195191\n",
      "Delta: 0.00133004846143034  Loss: 0.06423152310343169\n",
      "Delta: 0.00180573244016764  Loss: 0.06422425265070139\n",
      "Delta: 0.0029655868761980825  Loss: 0.06421097683459186\n",
      "Delta: 0.00516489628009431  Loss: 0.06418005825902771\n",
      "Delta: 0.005343510774361625  Loss: 0.0641201757455386\n",
      "Delta: 0.0036445339187534498  Loss: 0.06406203101943816\n",
      "Delta: 0.007561396746928283  Loss: 0.06400761347132111\n",
      "Delta: 0.00528996115925525  Loss: 0.06391110711505996\n",
      "Delta: 0.0034597134422770046  Loss: 0.06384751599487888\n",
      "Delta: 0.005400444102355156  Loss: 0.06380557974407478\n",
      "Delta: 0.005728986911049536  Loss: 0.06373903961757182\n",
      "Delta: 0.006517004488259138  Loss: 0.06366302883216582\n",
      "Delta: 0.0024045069167568985  Loss: 0.06359848723774778\n",
      "Delta: 0.0005512335436556432  Loss: 0.06357747218596055\n",
      "Delta: 0.0005124835037152238  Loss: 0.06357334865845628\n",
      "Delta: 0.0005991645325193353  Loss: 0.06357021895347077\n",
      "Delta: 0.0007731758182670436  Loss: 0.06356658956676706\n",
      "Delta: 0.0010774825669001655  Loss: 0.06356166356698209\n",
      "Delta: 0.0016179030025248139  Loss: 0.06355400904510664\n",
      "Delta: 0.0025778603475239245  Loss: 0.06354046044456568\n",
      "Delta: 0.0039914023589530815  Loss: 0.06351431937925968\n",
      "Delta: 0.004664391642101876  Loss: 0.06346858145494838\n",
      "Delta: 0.004139768525630966  Loss: 0.06341209027735545\n",
      "Delta: 0.005097043129048575  Loss: 0.06335405725209178\n",
      "Delta: 0.0044905180816421485  Loss: 0.06328846947992336\n",
      "Delta: 0.0021032363357237024  Loss: 0.06323708189752715\n",
      "Delta: 0.0013272461117590584  Loss: 0.06321351908800342\n",
      "Delta: 0.0019375287827388564  Loss: 0.06320118274944024\n",
      "Delta: 0.0033413411164659374  Loss: 0.06318539993173844\n",
      "Delta: 0.004773157690959268  Loss: 0.06315429009387685\n",
      "Delta: 0.003157822923573513  Loss: 0.06311183016985743\n",
      "Delta: 0.0007744223590476549  Loss: 0.06308717475250367\n",
      "Delta: 0.0004199832254639898  Loss: 0.06308075120181424\n",
      "Delta: 0.0004446194188258108  Loss: 0.0630781436353768\n",
      "Delta: 0.0005324660679733408  Loss: 0.06307580212948938\n",
      "Elapsed time : 113.80700445175171 s\n"
     ]
    },
    {
     "name": "stderr",
     "output_type": "stream",
     "text": [
      "/tmp/ipykernel_3530284/1559086866.py:26: DeprecationWarning: Call to deprecated function (or staticmethod) opt_louvain.\n",
      "  scib.cl.opt_louvain(adata,label_key='cell_type',cluster_key='cluster_key',plot=False,inplace=True,force=True,verbose = False)\n",
      "\n",
      "\n",
      " 17%|█▋        | 1/6 [02:45<13:48, 165.72s/it]\u001b[A\u001b[A"
     ]
    },
    {
     "name": "stdout",
     "output_type": "stream",
     "text": [
      "Delta: 0.0014545105591296738  Loss: 0.07467344623223354\n",
      "Delta: 0.004093238941912066  Loss: 0.07459741520995203\n",
      "Delta: 0.015522737435571025  Loss: 0.07369574995349094\n",
      "Delta: 0.015540032768368538  Loss: 0.0713531564853882\n",
      "Delta: 0.004085855294565343  Loss: 0.0694290813521273\n",
      "Delta: 0.009315558611632512  Loss: 0.0690922762018588\n",
      "Delta: 0.006776434997983244  Loss: 0.06840896421047687\n",
      "Delta: 0.0019792989260373076  Loss: 0.06812046054351745\n",
      "Delta: 0.0021104685499444492  Loss: 0.06806731114576052\n",
      "Delta: 0.003038489075669635  Loss: 0.06798784790823248\n",
      "Delta: 0.004946472856524799  Loss: 0.06782704317323683\n",
      "Delta: 0.008242183234975588  Loss: 0.06746493126887704\n",
      "Delta: 0.005957278042080038  Loss: 0.06689967361797947\n",
      "Delta: 0.000864061838015699  Loss: 0.06662920561192691\n",
      "Delta: 0.0006719404086820968  Loss: 0.06659597218456184\n",
      "Delta: 0.0010253678263050824  Loss: 0.06658019925469316\n",
      "Delta: 0.001939761506266386  Loss: 0.06655194638084432\n",
      "Delta: 0.0042734977419135334  Loss: 0.06646738588622653\n",
      "Delta: 0.007180385269377345  Loss: 0.06621140874660053\n",
      "Delta: 0.002697592218289117  Loss: 0.06590027269008625\n",
      "Delta: 0.0001932348579499884  Loss: 0.06581817004213925\n",
      "Delta: 3.6537821695559155e-05  Loss: 0.06581349734795067\n",
      "Delta: 1.2074423635843477e-05  Loss: 0.0658131329010607\n",
      "Delta: 4.5678859400751066e-06  Loss: 0.06581304629956526\n",
      "converged at iter  23\n",
      "Elapsed time : 51.95443606376648 s\n"
     ]
    },
    {
     "name": "stderr",
     "output_type": "stream",
     "text": [
      "/tmp/ipykernel_3530284/1559086866.py:26: DeprecationWarning: Call to deprecated function (or staticmethod) opt_louvain.\n",
      "  scib.cl.opt_louvain(adata,label_key='cell_type',cluster_key='cluster_key',plot=False,inplace=True,force=True,verbose = False)\n",
      "\n",
      "\n",
      " 33%|███▎      | 2/6 [04:24<08:24, 126.17s/it]\u001b[A\u001b[A"
     ]
    },
    {
     "name": "stdout",
     "output_type": "stream",
     "text": [
      "Delta: 0.0007780961997087543  Loss: 0.07467780783133003\n",
      "Delta: 0.0007069668947631418  Loss: 0.07466395568505879\n",
      "Delta: 0.0011393797480435852  Loss: 0.07463732484280708\n",
      "Delta: 0.0032748592334581545  Loss: 0.07453860851341707\n",
      "Delta: 0.012541613517244461  Loss: 0.0737276762383927\n",
      "Delta: 0.0024634693500564073  Loss: 0.07208735536451875\n",
      "Delta: 0.002781970566228742  Loss: 0.07189954185306796\n",
      "Delta: 0.010850955223946716  Loss: 0.07130315380243472\n",
      "Delta: 0.004249857356961711  Loss: 0.06970943664450915\n",
      "Delta: 0.0008027528101444998  Loss: 0.0694028283268498\n",
      "Delta: 0.0005952230650993474  Loss: 0.06937961841265297\n",
      "Delta: 0.0005826182927337136  Loss: 0.06936223203174278\n",
      "Delta: 0.0006400728414652135  Loss: 0.06934341303957262\n",
      "Delta: 0.0007704431356661594  Loss: 0.06931935797707367\n",
      "Delta: 0.001008074709629191  Loss: 0.06928499009648893\n",
      "Delta: 0.0014179802362511676  Loss: 0.06923090497546637\n",
      "Delta: 0.0020765890381684365  Loss: 0.06913908467396734\n",
      "Delta: 0.0028944951649513143  Loss: 0.06898239971430664\n",
      "Delta: 0.003173261282548842  Loss: 0.06875624710061073\n",
      "Delta: 0.0021809007403490225  Loss: 0.06853881739603862\n",
      "Delta: 0.0009126800459227222  Loss: 0.06841530773287034\n",
      "Delta: 0.00028783406975459955  Loss: 0.06836945377177922\n",
      "Delta: 8.399970062235745e-05  Loss: 0.06835569796937137\n",
      "Delta: 2.4953603266646872e-05  Loss: 0.06835181677651667\n",
      "Delta: 7.817355451272508e-06  Loss: 0.06835072049506444\n",
      "Delta: 2.616083802970881e-06  Loss: 0.06835040390107852\n",
      "Delta: 9.358033695514582e-07  Loss: 0.06835030966885759\n",
      "converged at iter  26\n",
      "Elapsed time : 55.423032999038696 s\n"
     ]
    },
    {
     "name": "stderr",
     "output_type": "stream",
     "text": [
      "/tmp/ipykernel_3530284/1559086866.py:26: DeprecationWarning: Call to deprecated function (or staticmethod) opt_louvain.\n",
      "  scib.cl.opt_louvain(adata,label_key='cell_type',cluster_key='cluster_key',plot=False,inplace=True,force=True,verbose = False)\n",
      "\n",
      "\n",
      " 50%|█████     | 3/6 [06:06<05:45, 115.26s/it]\u001b[A\u001b[A"
     ]
    },
    {
     "name": "stdout",
     "output_type": "stream",
     "text": [
      "Delta: 0.00021225852035808784  Loss: 0.07468157103059866\n",
      "Delta: 2.790701763677335e-05  Loss: 0.07468080016750528\n",
      "Delta: 5.742273134788526e-06  Loss: 0.07468066118403316\n",
      "Delta: 1.2752746468514731e-06  Loss: 0.07468063457419385\n",
      "converged at iter  3\n",
      "Elapsed time : 6.175155162811279 s\n"
     ]
    },
    {
     "name": "stderr",
     "output_type": "stream",
     "text": [
      "/tmp/ipykernel_3530284/1559086866.py:26: DeprecationWarning: Call to deprecated function (or staticmethod) opt_louvain.\n",
      "  scib.cl.opt_louvain(adata,label_key='cell_type',cluster_key='cluster_key',plot=False,inplace=True,force=True,verbose = False)\n",
      "\n",
      "\n",
      " 67%|██████▋   | 4/6 [06:53<02:56, 88.47s/it] \u001b[A\u001b[A"
     ]
    },
    {
     "name": "stdout",
     "output_type": "stream",
     "text": [
      "Delta: 0.00013894221529478745  Loss: 0.07468206164918342\n",
      "Delta: 7.269976368539828e-06  Loss: 0.07468177042919592\n",
      "Delta: 7.417789473954958e-07  Loss: 0.07468174577319131\n",
      "converged at iter  2\n",
      "Elapsed time : 4.660809755325317 s\n"
     ]
    },
    {
     "name": "stderr",
     "output_type": "stream",
     "text": [
      "/tmp/ipykernel_3530284/1559086866.py:26: DeprecationWarning: Call to deprecated function (or staticmethod) opt_louvain.\n",
      "  scib.cl.opt_louvain(adata,label_key='cell_type',cluster_key='cluster_key',plot=False,inplace=True,force=True,verbose = False)\n",
      "\n",
      "\n",
      " 83%|████████▎ | 5/6 [07:42<01:14, 74.22s/it]\u001b[A\u001b[A"
     ]
    },
    {
     "name": "stdout",
     "output_type": "stream",
     "text": [
      "Delta: 7.978630568714001e-05  Loss: 0.07468245762743098\n",
      "Delta: 3.701266052316699e-07  Loss: 0.07468241352682548\n",
      "converged at iter  1\n",
      "Elapsed time : 3.593413829803467 s\n"
     ]
    },
    {
     "name": "stderr",
     "output_type": "stream",
     "text": [
      "/tmp/ipykernel_3530284/1559086866.py:26: DeprecationWarning: Call to deprecated function (or staticmethod) opt_louvain.\n",
      "  scib.cl.opt_louvain(adata,label_key='cell_type',cluster_key='cluster_key',plot=False,inplace=True,force=True,verbose = False)\n",
      "\n",
      "\n",
      "100%|██████████| 6/6 [08:30<00:00, 85.15s/it]\u001b[A\u001b[A\n",
      "\n",
      " 33%|███▎      | 2/6 [31:44<58:17, 874.26s/it]   \u001b[A\n",
      "\n",
      "  0%|          | 0/6 [00:00<?, ?it/s]\u001b[A\u001b[A"
     ]
    },
    {
     "name": "stdout",
     "output_type": "stream",
     "text": [
      "Delta: 0.00817618209807407  Loss: 0.07503565973836845\n",
      "Delta: 0.017099512647476393  Loss: 0.07414546172439831\n",
      "Delta: 0.018448484648724325  Loss: 0.0724910308070291\n",
      "Delta: 0.02348229097115068  Loss: 0.07134872746167\n",
      "Delta: 0.004305790639504836  Loss: 0.07044386426512995\n",
      "Delta: 0.012539656142291486  Loss: 0.07032464295222977\n",
      "Delta: 0.01002609082504063  Loss: 0.0699772855946796\n",
      "Delta: 0.0028667386740587326  Loss: 0.06976666093023678\n",
      "Delta: 0.0029281830569826807  Loss: 0.06972966101820967\n",
      "Delta: 0.004818434465981901  Loss: 0.06969650579043991\n",
      "Delta: 0.009142735106828784  Loss: 0.06961352811435555\n",
      "Delta: 0.006144231899343206  Loss: 0.06945726148078846\n",
      "Delta: 0.0026260643053213576  Loss: 0.06936102849780076\n",
      "Delta: 0.002377002071854122  Loss: 0.06933214161402557\n",
      "Delta: 0.003096575488184409  Loss: 0.06931003226379182\n",
      "Delta: 0.0039210477633206745  Loss: 0.06927966002678593\n",
      "Delta: 0.0036488551899145263  Loss: 0.06923929145693838\n",
      "Delta: 0.0021399010088001317  Loss: 0.0692035656636594\n",
      "Delta: 0.002597681469215756  Loss: 0.06918112361693671\n",
      "Delta: 0.006268313799835346  Loss: 0.06914835093177388\n",
      "Delta: 0.0067182308188794395  Loss: 0.06906395801828227\n",
      "Delta: 0.0012702621818917678  Loss: 0.06899310676350276\n",
      "Delta: 0.0007637985543479784  Loss: 0.06898529440141721\n",
      "Delta: 0.0005350980115509718  Loss: 0.06898288271983982\n",
      "Delta: 0.0004046728056136872  Loss: 0.06898109339875834\n",
      "Delta: 0.00031917970778053026  Loss: 0.06897966020819205\n",
      "Delta: 0.0002587602083224408  Loss: 0.06897847648406583\n",
      "Delta: 0.00021395710279545859  Loss: 0.06897748096453389\n",
      "Delta: 0.000179577707299131  Loss: 0.06897663325983741\n",
      "Delta: 0.00015250330622346525  Loss: 0.06897590460074066\n",
      "Delta: 0.00013074007343478618  Loss: 0.06897527354054386\n",
      "Delta: 0.00011295263696162811  Loss: 0.06897472361163291\n",
      "Delta: 9.821339475765681e-05  Loss: 0.06897424189359344\n",
      "Delta: 8.585851084889906e-05  Loss: 0.06897381807263345\n",
      "Delta: 7.540085516849719e-05  Loss: 0.06897344379507706\n",
      "Delta: 6.647518912076701e-05  Loss: 0.06897311220918738\n",
      "Delta: 5.8802482330017754e-05  Loss: 0.06897281763290501\n",
      "Delta: 5.2166017626501436e-05  Loss: 0.06897255530828506\n",
      "Delta: 4.63949934742418e-05  Loss: 0.06897232121697741\n",
      "Delta: 4.135302634807732e-05  Loss: 0.06897211193949043\n",
      "Delta: 3.69299326654666e-05  Loss: 0.06897192454637516\n",
      "Delta: 3.303575266508505e-05  Loss: 0.06897175651302918\n",
      "Delta: 2.9596336274635737e-05  Loss: 0.06897160565221801\n",
      "Delta: 2.65500360685941e-05  Loss: 0.06897147006005684\n",
      "Delta: 2.3845197241934787e-05  Loss: 0.06897134807233983\n",
      "Delta: 2.1438229618841113e-05  Loss: 0.06897123822891185\n",
      "Delta: 1.929211031273202e-05  Loss: 0.06897113924435634\n",
      "converged at iter  46\n",
      "Elapsed time : 64.69216227531433 s\n"
     ]
    },
    {
     "name": "stderr",
     "output_type": "stream",
     "text": [
      "/tmp/ipykernel_3530284/1559086866.py:26: DeprecationWarning: Call to deprecated function (or staticmethod) opt_louvain.\n",
      "  scib.cl.opt_louvain(adata,label_key='cell_type',cluster_key='cluster_key',plot=False,inplace=True,force=True,verbose = False)\n",
      "\n",
      "\n",
      " 17%|█▋        | 1/6 [02:00<10:02, 120.51s/it]\u001b[A\u001b[A"
     ]
    },
    {
     "name": "stdout",
     "output_type": "stream",
     "text": [
      "Delta: 0.0011947198763285843  Loss: 0.07506136947903796\n",
      "Delta: 0.0018197517053934905  Loss: 0.07503829087904901\n",
      "Delta: 0.00666875597854244  Loss: 0.07491250930209921\n",
      "Delta: 0.010602730679951499  Loss: 0.07409465350751482\n",
      "Delta: 0.0013345439980033155  Loss: 0.07315662289855904\n",
      "Delta: 0.001393265945875746  Loss: 0.07312478437595304\n",
      "Delta: 0.0016369038555192823  Loss: 0.07308127581743329\n",
      "Delta: 0.0018208875601571641  Loss: 0.07301777689436263\n",
      "Delta: 0.0031441956121103054  Loss: 0.07293095492162564\n",
      "Delta: 0.01138852830982686  Loss: 0.07264280887310184\n",
      "Delta: 0.003021354788351259  Loss: 0.07169955681038503\n",
      "Delta: 0.0005470186236532174  Loss: 0.07149440449394331\n",
      "Delta: 0.00028959408838752853  Loss: 0.07148670217863584\n",
      "Delta: 0.00022768567596046828  Loss: 0.07148255113556788\n",
      "Delta: 0.00020218233598926343  Loss: 0.07147947227212392\n",
      "Delta: 0.00018942047994443468  Loss: 0.07147673967595061\n",
      "Delta: 0.0001849082516278486  Loss: 0.07147408557802512\n",
      "Delta: 0.00018741251264637506  Loss: 0.07147136407043275\n",
      "Delta: 0.00019697590543877664  Loss: 0.07146845283359832\n",
      "Delta: 0.00021468917179630516  Loss: 0.0714652137238577\n",
      "Delta: 0.00024293229130529983  Loss: 0.07146146242405299\n",
      "Delta: 0.00028604933092646253  Loss: 0.07145692671200858\n",
      "Delta: 0.0003517595768542019  Loss: 0.07145117235732523\n",
      "Delta: 0.00045404822842686556  Loss: 0.07144345569030973\n",
      "Delta: 0.0006191957042451149  Loss: 0.0714324052565338\n",
      "Delta: 0.0008983326627578649  Loss: 0.07141528110820627\n",
      "Delta: 0.001390477055609675  Loss: 0.07138615423085218\n",
      "Delta: 0.0022542848314977557  Loss: 0.07133160932145682\n",
      "Delta: 0.0034796993867591275  Loss: 0.07122506758485503\n",
      "Delta: 0.0038361789711816555  Loss: 0.07104963528445501\n",
      "Delta: 0.001975159092553915  Loss: 0.07087999105334761\n",
      "Delta: 0.0004961740722506819  Loss: 0.07080407216193957\n",
      "Delta: 0.00012463549312324203  Loss: 0.07078632031564558\n",
      "Delta: 4.169103816143533e-05  Loss: 0.0707828247254098\n",
      "Delta: 1.5656647265325926e-05  Loss: 0.07078204278538242\n",
      "Delta: 6.135083871496787e-06  Loss: 0.07078183139613962\n",
      "Delta: 2.4713046738108272e-06  Loss: 0.07078176488319357\n",
      "converged at iter  36\n",
      "Elapsed time : 51.85676383972168 s\n"
     ]
    },
    {
     "name": "stderr",
     "output_type": "stream",
     "text": [
      "/tmp/ipykernel_3530284/1559086866.py:26: DeprecationWarning: Call to deprecated function (or staticmethod) opt_louvain.\n",
      "  scib.cl.opt_louvain(adata,label_key='cell_type',cluster_key='cluster_key',plot=False,inplace=True,force=True,verbose = False)\n",
      "\n",
      "\n",
      " 33%|███▎      | 2/6 [03:39<07:11, 108.00s/it]\u001b[A\u001b[A"
     ]
    },
    {
     "name": "stdout",
     "output_type": "stream",
     "text": [
      "Delta: 0.0006148087679114083  Loss: 0.0750643306376324\n",
      "Delta: 0.0003221209043789653  Loss: 0.0750597665155302\n",
      "Delta: 0.00022995162524547271  Loss: 0.07505640824088561\n",
      "Delta: 0.00019198893287327714  Loss: 0.07505363547625671\n",
      "Delta: 0.0001767543016571676  Loss: 0.0750510449569286\n",
      "Delta: 0.00017597268740557646  Loss: 0.07504837852437042\n",
      "Delta: 0.0001880161977533821  Loss: 0.07504539781680952\n",
      "Delta: 0.00021512571070599835  Loss: 0.07504178927757171\n",
      "Delta: 0.00026443289905519503  Loss: 0.07503703636865094\n",
      "Delta: 0.0003524639625178531  Loss: 0.07503014389622613\n",
      "Delta: 0.0005183183727605762  Loss: 0.07501888942584055\n",
      "Delta: 0.000865307628989128  Loss: 0.07499736267889817\n",
      "Delta: 0.0017097474139268441  Loss: 0.07494583870167981\n",
      "Delta: 0.00406123663768471  Loss: 0.07477920372659477\n",
      "Delta: 0.007750828359787494  Loss: 0.07419216680743057\n",
      "Delta: 0.0023932408002265764  Loss: 0.07337492286399327\n",
      "Delta: 0.00012511885298320384  Loss: 0.07319412915660119\n",
      "Delta: 3.978048563472263e-05  Loss: 0.0731901774895963\n",
      "Delta: 1.7026636380160176e-05  Loss: 0.07318985402472793\n",
      "Delta: 7.774495083767485e-06  Loss: 0.07318973696102603\n",
      "Delta: 3.673283688677272e-06  Loss: 0.07318968635310481\n",
      "converged at iter  20\n",
      "Elapsed time : 29.720386743545532 s\n"
     ]
    },
    {
     "name": "stderr",
     "output_type": "stream",
     "text": [
      "/tmp/ipykernel_3530284/1559086866.py:26: DeprecationWarning: Call to deprecated function (or staticmethod) opt_louvain.\n",
      "  scib.cl.opt_louvain(adata,label_key='cell_type',cluster_key='cluster_key',plot=False,inplace=True,force=True,verbose = False)\n",
      "\n",
      "\n",
      " 50%|█████     | 3/6 [04:54<04:38, 92.99s/it] \u001b[A\u001b[A"
     ]
    },
    {
     "name": "stdout",
     "output_type": "stream",
     "text": [
      "Delta: 0.0001527601164947226  Loss: 0.07506677247627494\n",
      "Delta: 1.2420915658094308e-05  Loss: 0.07506649394890982\n",
      "Delta: 1.3748277403804065e-06  Loss: 0.07506646762265633\n",
      "converged at iter  2\n",
      "Elapsed time : 4.722829580307007 s\n"
     ]
    },
    {
     "name": "stderr",
     "output_type": "stream",
     "text": [
      "/tmp/ipykernel_3530284/1559086866.py:26: DeprecationWarning: Call to deprecated function (or staticmethod) opt_louvain.\n",
      "  scib.cl.opt_louvain(adata,label_key='cell_type',cluster_key='cluster_key',plot=False,inplace=True,force=True,verbose = False)\n",
      "\n",
      "\n",
      " 67%|██████▋   | 4/6 [05:42<02:29, 74.96s/it]\u001b[A\u001b[A"
     ]
    },
    {
     "name": "stdout",
     "output_type": "stream",
     "text": [
      "Delta: 9.409826199061484e-05  Loss: 0.07506708470009846\n",
      "Delta: 3.2187975364996486e-06  Loss: 0.07506697805480012\n",
      "Delta: 1.7752595716767954e-07  Loss: 0.07506697328374173\n",
      "converged at iter  2\n",
      "Elapsed time : 4.82558798789978 s\n"
     ]
    },
    {
     "name": "stderr",
     "output_type": "stream",
     "text": [
      "/tmp/ipykernel_3530284/1559086866.py:26: DeprecationWarning: Call to deprecated function (or staticmethod) opt_louvain.\n",
      "  scib.cl.opt_louvain(adata,label_key='cell_type',cluster_key='cluster_key',plot=False,inplace=True,force=True,verbose = False)\n",
      "\n",
      "\n",
      " 83%|████████▎ | 5/6 [06:30<01:05, 65.25s/it]\u001b[A\u001b[A"
     ]
    },
    {
     "name": "stdout",
     "output_type": "stream",
     "text": [
      "Delta: 4.69360483100573e-05  Loss: 0.07506733580486746\n",
      "Delta: 1.6165900640953286e-07  Loss: 0.0750673195125749\n",
      "converged at iter  1\n",
      "Elapsed time : 3.2890655994415283 s\n"
     ]
    },
    {
     "name": "stderr",
     "output_type": "stream",
     "text": [
      "/tmp/ipykernel_3530284/1559086866.py:26: DeprecationWarning: Call to deprecated function (or staticmethod) opt_louvain.\n",
      "  scib.cl.opt_louvain(adata,label_key='cell_type',cluster_key='cluster_key',plot=False,inplace=True,force=True,verbose = False)\n",
      "\n",
      "\n",
      "100%|██████████| 6/6 [07:19<00:00, 73.21s/it]\u001b[A\u001b[A\n",
      "\n",
      " 50%|█████     | 3/6 [39:03<33:46, 675.63s/it]\u001b[A\n",
      "\n",
      "  0%|          | 0/6 [00:00<?, ?it/s]\u001b[A\u001b[A"
     ]
    },
    {
     "name": "stdout",
     "output_type": "stream",
     "text": [
      "Delta: 0.008693849843365579  Loss: 0.07542244476428253\n",
      "Delta: 0.011762935690472499  Loss: 0.07522405252804795\n",
      "Delta: 0.011995093277861446  Loss: 0.0749244608539806\n",
      "Delta: 0.0036287071321620627  Loss: 0.07473850340627379\n",
      "Delta: 0.00026010673478103866  Loss: 0.07468835038778271\n",
      "Delta: 0.0001146709800170624  Loss: 0.0746875824711638\n",
      "Delta: 5.89331622574298e-05  Loss: 0.07468726790430114\n",
      "Delta: 3.244937535083832e-05  Loss: 0.07468712024905716\n",
      "Delta: 1.8427822252021023e-05  Loss: 0.07468704602615525\n",
      "converged at iter  8\n",
      "Elapsed time : 13.355042934417725 s\n"
     ]
    },
    {
     "name": "stderr",
     "output_type": "stream",
     "text": [
      "/tmp/ipykernel_3530284/1559086866.py:26: DeprecationWarning: Call to deprecated function (or staticmethod) opt_louvain.\n",
      "  scib.cl.opt_louvain(adata,label_key='cell_type',cluster_key='cluster_key',plot=False,inplace=True,force=True,verbose = False)\n",
      "\n",
      "\n",
      " 17%|█▋        | 1/6 [00:57<04:47, 57.52s/it]\u001b[A\u001b[A"
     ]
    },
    {
     "name": "stdout",
     "output_type": "stream",
     "text": [
      "Delta: 0.0010540898296769348  Loss: 0.07544780988429947\n",
      "Delta: 0.0003156943976600507  Loss: 0.07544515681359609\n",
      "Delta: 0.00011623447827949858  Loss: 0.07544423031289745\n",
      "Delta: 4.506766563735458e-05  Loss: 0.07544388564856652\n",
      "Delta: 1.774087832680445e-05  Loss: 0.07544375279785438\n",
      "Delta: 7.019673975873522e-06  Loss: 0.07544370083921825\n",
      "converged at iter  5\n",
      "Elapsed time : 8.373798847198486 s\n"
     ]
    },
    {
     "name": "stderr",
     "output_type": "stream",
     "text": [
      "/tmp/ipykernel_3530284/1559086866.py:26: DeprecationWarning: Call to deprecated function (or staticmethod) opt_louvain.\n",
      "  scib.cl.opt_louvain(adata,label_key='cell_type',cluster_key='cluster_key',plot=False,inplace=True,force=True,verbose = False)\n",
      "\n",
      "\n",
      " 33%|███▎      | 2/6 [01:49<03:37, 54.27s/it]\u001b[A\u001b[A"
     ]
    },
    {
     "name": "stdout",
     "output_type": "stream",
     "text": [
      "Delta: 0.0005153713676541299  Loss: 0.07545015084154269\n",
      "Delta: 6.1261593171933e-05  Loss: 0.07544955731498784\n",
      "Delta: 8.067040118780945e-06  Loss: 0.07544948484122765\n",
      "converged at iter  2\n",
      "Elapsed time : 4.710857629776001 s\n"
     ]
    },
    {
     "name": "stderr",
     "output_type": "stream",
     "text": [
      "/tmp/ipykernel_3530284/1559086866.py:26: DeprecationWarning: Call to deprecated function (or staticmethod) opt_louvain.\n",
      "  scib.cl.opt_louvain(adata,label_key='cell_type',cluster_key='cluster_key',plot=False,inplace=True,force=True,verbose = False)\n",
      "\n",
      "\n",
      " 50%|█████     | 3/6 [02:40<02:37, 52.59s/it]\u001b[A\u001b[A"
     ]
    },
    {
     "name": "stdout",
     "output_type": "stream",
     "text": [
      "Delta: 0.00010823689061821729  Loss: 0.0754519870521014\n",
      "Delta: 2.326252430529558e-06  Loss: 0.07545195583128107\n",
      "converged at iter  1\n",
      "Elapsed time : 3.3777201175689697 s\n"
     ]
    },
    {
     "name": "stderr",
     "output_type": "stream",
     "text": [
      "/tmp/ipykernel_3530284/1559086866.py:26: DeprecationWarning: Call to deprecated function (or staticmethod) opt_louvain.\n",
      "  scib.cl.opt_louvain(adata,label_key='cell_type',cluster_key='cluster_key',plot=False,inplace=True,force=True,verbose = False)\n",
      "\n",
      "\n",
      " 67%|██████▋   | 4/6 [03:25<01:39, 49.90s/it]\u001b[A\u001b[A"
     ]
    },
    {
     "name": "stdout",
     "output_type": "stream",
     "text": [
      "Delta: 5.776006963422616e-05  Loss: 0.07545221657521065\n",
      "Delta: 5.99724384210092e-07  Loss: 0.07545220603070968\n",
      "converged at iter  1\n",
      "Elapsed time : 3.244030237197876 s\n"
     ]
    },
    {
     "name": "stderr",
     "output_type": "stream",
     "text": [
      "/tmp/ipykernel_3530284/1559086866.py:26: DeprecationWarning: Call to deprecated function (or staticmethod) opt_louvain.\n",
      "  scib.cl.opt_louvain(adata,label_key='cell_type',cluster_key='cluster_key',plot=False,inplace=True,force=True,verbose = False)\n",
      "\n",
      "\n",
      " 83%|████████▎ | 5/6 [04:12<00:48, 48.77s/it]\u001b[A\u001b[A"
     ]
    },
    {
     "name": "stdout",
     "output_type": "stream",
     "text": [
      "Delta: 1.7352523601049273e-05  Loss: 0.0754524003873445\n",
      "Delta: 2.9805556390368924e-08  Loss: 0.07545239908241008\n",
      "converged at iter  1\n",
      "Elapsed time : 3.531296730041504 s\n"
     ]
    },
    {
     "name": "stderr",
     "output_type": "stream",
     "text": [
      "/tmp/ipykernel_3530284/1559086866.py:26: DeprecationWarning: Call to deprecated function (or staticmethod) opt_louvain.\n",
      "  scib.cl.opt_louvain(adata,label_key='cell_type',cluster_key='cluster_key',plot=False,inplace=True,force=True,verbose = False)\n",
      "\n",
      "\n",
      "100%|██████████| 6/6 [05:00<00:00, 50.16s/it]\u001b[A\u001b[A\n",
      "\n",
      " 67%|██████▋   | 4/6 [44:04<17:35, 527.73s/it]\u001b[A\n",
      "\n",
      "  0%|          | 0/6 [00:00<?, ?it/s]\u001b[A\u001b[A"
     ]
    },
    {
     "name": "stdout",
     "output_type": "stream",
     "text": [
      "Delta: 0.008765901417001535  Loss: 0.07547313957505553\n",
      "Delta: 0.010672384298373036  Loss: 0.0753650969587999\n",
      "Delta: 0.002951708965238044  Loss: 0.07525359402172113\n",
      "Delta: 0.004099076971121856  Loss: 0.07522678577416486\n",
      "Delta: 0.005439208489497462  Loss: 0.07518564800105837\n",
      "Delta: 0.0039463525921403925  Loss: 0.07513010059998834\n",
      "Delta: 0.0009151405693295933  Loss: 0.07509606009377084\n",
      "Delta: 9.760319895686393e-05  Loss: 0.07508871726737518\n",
      "Delta: 9.191798708680222e-06  Loss: 0.07508793809517614\n",
      "Delta: 9.842981976706597e-07  Loss: 0.07508786623869615\n",
      "converged at iter  9\n",
      "Elapsed time : 14.111017227172852 s\n"
     ]
    },
    {
     "name": "stderr",
     "output_type": "stream",
     "text": [
      "/tmp/ipykernel_3530284/1559086866.py:26: DeprecationWarning: Call to deprecated function (or staticmethod) opt_louvain.\n",
      "  scib.cl.opt_louvain(adata,label_key='cell_type',cluster_key='cluster_key',plot=False,inplace=True,force=True,verbose = False)\n",
      "\n",
      "\n",
      " 17%|█▋        | 1/6 [00:55<04:38, 55.77s/it]\u001b[A\u001b[A"
     ]
    },
    {
     "name": "stdout",
     "output_type": "stream",
     "text": [
      "Delta: 0.0010458591182289081  Loss: 0.07549867085942995\n",
      "Delta: 0.00015481544383357806  Loss: 0.07549744530476885\n",
      "Delta: 2.6553943494284383e-05  Loss: 0.0754972552296348\n",
      "Delta: 4.6771745497381585e-06  Loss: 0.07549722398801989\n",
      "converged at iter  3\n",
      "Elapsed time : 6.496585369110107 s\n"
     ]
    },
    {
     "name": "stderr",
     "output_type": "stream",
     "text": [
      "/tmp/ipykernel_3530284/1559086866.py:26: DeprecationWarning: Call to deprecated function (or staticmethod) opt_louvain.\n",
      "  scib.cl.opt_louvain(adata,label_key='cell_type',cluster_key='cluster_key',plot=False,inplace=True,force=True,verbose = False)\n",
      "\n",
      "\n",
      " 33%|███▎      | 2/6 [01:46<03:31, 52.81s/it]\u001b[A\u001b[A"
     ]
    },
    {
     "name": "stdout",
     "output_type": "stream",
     "text": [
      "Delta: 0.0005079570678114986  Loss: 0.07550098409082781\n",
      "Delta: 3.0563328998587114e-05  Loss: 0.07550070375298601\n",
      "Delta: 1.9931827604777325e-06  Loss: 0.07550068704588278\n",
      "converged at iter  2\n",
      "Elapsed time : 4.8638389110565186 s\n"
     ]
    },
    {
     "name": "stderr",
     "output_type": "stream",
     "text": [
      "/tmp/ipykernel_3530284/1559086866.py:26: DeprecationWarning: Call to deprecated function (or staticmethod) opt_louvain.\n",
      "  scib.cl.opt_louvain(adata,label_key='cell_type',cluster_key='cluster_key',plot=False,inplace=True,force=True,verbose = False)\n",
      "\n",
      "\n",
      " 50%|█████     | 3/6 [02:32<02:29, 49.81s/it]\u001b[A\u001b[A"
     ]
    },
    {
     "name": "stdout",
     "output_type": "stream",
     "text": [
      "Delta: 0.00010361588559768331  Loss: 0.07550278848764677\n",
      "Delta: 1.160602827028286e-06  Loss: 0.07550277445681226\n",
      "converged at iter  1\n",
      "Elapsed time : 3.6752097606658936 s\n"
     ]
    },
    {
     "name": "stderr",
     "output_type": "stream",
     "text": [
      "/tmp/ipykernel_3530284/1559086866.py:26: DeprecationWarning: Call to deprecated function (or staticmethod) opt_louvain.\n",
      "  scib.cl.opt_louvain(adata,label_key='cell_type',cluster_key='cluster_key',plot=False,inplace=True,force=True,verbose = False)\n",
      "\n",
      "\n",
      " 67%|██████▋   | 4/6 [03:19<01:37, 48.67s/it]\u001b[A\u001b[A"
     ]
    },
    {
     "name": "stdout",
     "output_type": "stream",
     "text": [
      "Delta: 5.362491488027078e-05  Loss: 0.07550301340766988\n",
      "Delta: 2.9903999148662845e-07  Loss: 0.07550300887857536\n",
      "converged at iter  1\n",
      "Elapsed time : 3.8863630294799805 s\n"
     ]
    },
    {
     "name": "stderr",
     "output_type": "stream",
     "text": [
      "/tmp/ipykernel_3530284/1559086866.py:26: DeprecationWarning: Call to deprecated function (or staticmethod) opt_louvain.\n",
      "  scib.cl.opt_louvain(adata,label_key='cell_type',cluster_key='cluster_key',plot=False,inplace=True,force=True,verbose = False)\n",
      "\n",
      "\n",
      " 83%|████████▎ | 5/6 [04:11<00:49, 49.80s/it]\u001b[A\u001b[A"
     ]
    },
    {
     "name": "stdout",
     "output_type": "stream",
     "text": [
      "Delta: 1.3628284121495142e-05  Loss: 0.0755031934347289\n",
      "Delta: 1.4847211138356984e-08  Loss: 0.07550319292507493\n",
      "converged at iter  1\n",
      "Elapsed time : 3.65830659866333 s\n"
     ]
    },
    {
     "name": "stderr",
     "output_type": "stream",
     "text": [
      "/tmp/ipykernel_3530284/1559086866.py:26: DeprecationWarning: Call to deprecated function (or staticmethod) opt_louvain.\n",
      "  scib.cl.opt_louvain(adata,label_key='cell_type',cluster_key='cluster_key',plot=False,inplace=True,force=True,verbose = False)\n",
      "\n",
      "\n",
      "100%|██████████| 6/6 [04:58<00:00, 49.74s/it]\u001b[A\u001b[A\n",
      "\n",
      " 83%|████████▎ | 5/6 [49:02<07:25, 445.04s/it]\u001b[A\n",
      "\n",
      "  0%|          | 0/6 [00:00<?, ?it/s]\u001b[A\u001b[A"
     ]
    },
    {
     "name": "stdout",
     "output_type": "stream",
     "text": [
      "Delta: 0.008822736385695048  Loss: 0.07551375524206452\n",
      "Delta: 0.0036558368581200724  Loss: 0.07549353552688681\n",
      "Delta: 0.0013965895495053333  Loss: 0.07548414434979979\n",
      "Delta: 0.0004936816098254093  Loss: 0.07548048768049888\n",
      "Delta: 0.00016871531797460883  Loss: 0.0754791887293707\n",
      "Delta: 5.695336744664181e-05  Loss: 0.0754787440524591\n",
      "Delta: 1.914501664233458e-05  Loss: 0.07547859384145969\n",
      "Delta: 6.4265840407897694e-06  Loss: 0.07547854333398606\n",
      "converged at iter  7\n",
      "Elapsed time : 10.895092248916626 s\n"
     ]
    },
    {
     "name": "stderr",
     "output_type": "stream",
     "text": [
      "/tmp/ipykernel_3530284/1559086866.py:26: DeprecationWarning: Call to deprecated function (or staticmethod) opt_louvain.\n",
      "  scib.cl.opt_louvain(adata,label_key='cell_type',cluster_key='cluster_key',plot=False,inplace=True,force=True,verbose = False)\n",
      "\n",
      "\n",
      " 17%|█▋        | 1/6 [00:53<04:28, 53.71s/it]\u001b[A\u001b[A"
     ]
    },
    {
     "name": "stdout",
     "output_type": "stream",
     "text": [
      "Delta: 0.0010411685958056085  Loss: 0.07553945543739468\n",
      "Delta: 3.0492308028867172e-05  Loss: 0.07553922567809074\n",
      "Delta: 9.943975683836234e-07  Loss: 0.07553921914681441\n",
      "converged at iter  2\n",
      "Elapsed time : 4.516051769256592 s\n"
     ]
    },
    {
     "name": "stderr",
     "output_type": "stream",
     "text": [
      "/tmp/ipykernel_3530284/1559086866.py:26: DeprecationWarning: Call to deprecated function (or staticmethod) opt_louvain.\n",
      "  scib.cl.opt_louvain(adata,label_key='cell_type',cluster_key='cluster_key',plot=False,inplace=True,force=True,verbose = False)\n",
      "\n",
      "\n",
      " 33%|███▎      | 2/6 [01:43<03:26, 51.59s/it]\u001b[A\u001b[A"
     ]
    },
    {
     "name": "stdout",
     "output_type": "stream",
     "text": [
      "Delta: 0.0005030653873487254  Loss: 0.07554175568843613\n",
      "Delta: 6.107495628184579e-06  Loss: 0.07554170208360098\n",
      "converged at iter  1\n",
      "Elapsed time : 3.1443188190460205 s\n"
     ]
    },
    {
     "name": "stderr",
     "output_type": "stream",
     "text": [
      "/tmp/ipykernel_3530284/1559086866.py:26: DeprecationWarning: Call to deprecated function (or staticmethod) opt_louvain.\n",
      "  scib.cl.opt_louvain(adata,label_key='cell_type',cluster_key='cluster_key',plot=False,inplace=True,force=True,verbose = False)\n",
      "\n",
      "\n",
      " 50%|█████     | 3/6 [02:30<02:28, 49.55s/it]\u001b[A\u001b[A"
     ]
    },
    {
     "name": "stdout",
     "output_type": "stream",
     "text": [
      "Delta: 0.00010013266174913984  Loss: 0.07554354252475212\n",
      "Delta: 2.3200977084354752e-07  Loss: 0.07554353997083499\n",
      "converged at iter  1\n",
      "Elapsed time : 2.5270586013793945 s\n"
     ]
    },
    {
     "name": "stderr",
     "output_type": "stream",
     "text": [
      "/tmp/ipykernel_3530284/1559086866.py:26: DeprecationWarning: Call to deprecated function (or staticmethod) opt_louvain.\n",
      "  scib.cl.opt_louvain(adata,label_key='cell_type',cluster_key='cluster_key',plot=False,inplace=True,force=True,verbose = False)\n",
      "\n",
      "\n",
      " 67%|██████▋   | 4/6 [03:14<01:34, 47.09s/it]\u001b[A\u001b[A"
     ]
    },
    {
     "name": "stdout",
     "output_type": "stream",
     "text": [
      "Delta: 5.0421144608254764e-05  Loss: 0.07554376477799385\n",
      "Delta: 5.975329879819807e-08  Loss: 0.07554376399240995\n",
      "converged at iter  1\n",
      "Elapsed time : 2.3767316341400146 s\n"
     ]
    },
    {
     "name": "stderr",
     "output_type": "stream",
     "text": [
      "/tmp/ipykernel_3530284/1559086866.py:26: DeprecationWarning: Call to deprecated function (or staticmethod) opt_louvain.\n",
      "  scib.cl.opt_louvain(adata,label_key='cell_type',cluster_key='cluster_key',plot=False,inplace=True,force=True,verbose = False)\n",
      "\n",
      "\n",
      " 83%|████████▎ | 5/6 [03:59<00:46, 46.30s/it]\u001b[A\u001b[A"
     ]
    },
    {
     "name": "stdout",
     "output_type": "stream",
     "text": [
      "Delta: 1.0665197126971158e-05  Loss: 0.07554394259391076\n",
      "Delta: 2.9646266721572798e-09  Loss: 0.07554394251534775\n",
      "converged at iter  1\n",
      "Elapsed time : 2.939765691757202 s\n"
     ]
    },
    {
     "name": "stderr",
     "output_type": "stream",
     "text": [
      "/tmp/ipykernel_3530284/1559086866.py:26: DeprecationWarning: Call to deprecated function (or staticmethod) opt_louvain.\n",
      "  scib.cl.opt_louvain(adata,label_key='cell_type',cluster_key='cluster_key',plot=False,inplace=True,force=True,verbose = False)\n",
      "\n",
      "\n",
      "100%|██████████| 6/6 [04:45<00:00, 47.62s/it]\u001b[A\u001b[A\n",
      "\n",
      "100%|██████████| 6/6 [53:48<00:00, 538.11s/it]\u001b[A\n",
      " 20%|██        | 1/5 [53:56<3:35:47, 3236.87s/it]\n",
      "  0%|          | 0/6 [00:00<?, ?it/s]\u001b[A\n",
      "\n",
      "  0%|          | 0/6 [00:00<?, ?it/s]\u001b[A\u001b[A"
     ]
    },
    {
     "name": "stdout",
     "output_type": "stream",
     "text": [
      "Delta: 0.011513662337702185  Loss: 0.073495980661754\n",
      "Delta: 0.042064292866391455  Loss: 0.06960716065398712\n",
      "Delta: 0.03616798715323139  Loss: 0.06294431504785129\n",
      "Delta: 0.04204998188882185  Loss: 0.06005467002444691\n",
      "Delta: 0.04740537887669737  Loss: 0.05661664263927779\n",
      "Delta: 0.04834133359482765  Loss: 0.052878172588520816\n",
      "Delta: 0.021179347570774658  Loss: 0.050960684840595585\n",
      "Delta: 0.01289813840470137  Loss: 0.05061462484090779\n",
      "Delta: 0.005977684741535646  Loss: 0.05051719223799861\n",
      "Delta: 0.0043945709811462645  Loss: 0.05048512287712841\n",
      "Delta: 0.0029810879959344446  Loss: 0.05046688485941206\n",
      "Delta: 0.0025549188303718375  Loss: 0.05045340758344512\n",
      "Delta: 0.0011380763440349338  Loss: 0.05044446236118845\n",
      "Delta: 0.0006643869170254398  Loss: 0.050440882693307265\n",
      "Delta: 0.00047222945353178516  Loss: 0.050438892160659624\n",
      "Delta: 0.0003998337607925951  Loss: 0.05043768341045566\n",
      "Delta: 0.0003797946550260533  Loss: 0.05043686750516331\n",
      "Delta: 0.00037273845450889423  Loss: 0.05043623533224431\n",
      "Delta: 0.0003637734471897248  Loss: 0.0504356936443023\n",
      "Delta: 0.0003487072335342618  Loss: 0.050435211351046595\n",
      "Delta: 0.0003282569440159899  Loss: 0.05043478591077073\n",
      "Delta: 0.00030565656702542907  Loss: 0.05043442253964083\n",
      "Delta: 0.0002845193964108032  Loss: 0.05043412274443854\n",
      "Delta: 0.00026710081758837205  Loss: 0.05043388088199195\n",
      "Delta: 0.00025372745619888675  Loss: 0.050433686030612705\n",
      "Delta: 0.00024330233466626983  Loss: 0.05043352563514217\n",
      "Delta: 0.00023414977240820568  Loss: 0.050433388518014\n",
      "Delta: 0.00022464937779902405  Loss: 0.05043326653009485\n",
      "Delta: 0.00021357005556711556  Loss: 0.050433155029242505\n",
      "Delta: 0.00020022151748599936  Loss: 0.05043305250083595\n",
      "Delta: 0.00018450295148300178  Loss: 0.050432959631774424\n",
      "converged at iter  30\n",
      "Elapsed time : 187.84883284568787 s\n"
     ]
    },
    {
     "name": "stderr",
     "output_type": "stream",
     "text": [
      "/tmp/ipykernel_3530284/1559086866.py:26: DeprecationWarning: Call to deprecated function (or staticmethod) opt_louvain.\n",
      "  scib.cl.opt_louvain(adata,label_key='cell_type',cluster_key='cluster_key',plot=False,inplace=True,force=True,verbose = False)\n",
      "\n",
      "\n",
      " 17%|█▋        | 1/6 [04:14<21:14, 254.88s/it]\u001b[A\u001b[A"
     ]
    },
    {
     "name": "stdout",
     "output_type": "stream",
     "text": [
      "Delta: 0.002434378672253319  Loss: 0.0735684396043908\n",
      "Delta: 0.010279689613000147  Loss: 0.07289749890323219\n",
      "Delta: 0.02512066216693756  Loss: 0.07021990618450667\n",
      "Delta: 0.02256129691781435  Loss: 0.06583098014931585\n",
      "Delta: 0.006980875574738402  Loss: 0.06425855420105306\n",
      "Delta: 0.010184450563940753  Loss: 0.06378964948509744\n",
      "Delta: 0.0070440537949060765  Loss: 0.063104157907522\n",
      "Delta: 0.0037342684752515  Loss: 0.0628646368284475\n",
      "Delta: 0.007367370966759964  Loss: 0.06263575871239586\n",
      "Delta: 0.013693112750525347  Loss: 0.06202461504928753\n",
      "Delta: 0.014774628161525576  Loss: 0.06102442501537395\n",
      "Delta: 0.0065922322095025125  Loss: 0.060348842549106496\n",
      "Delta: 0.005938581068982232  Loss: 0.06013994764652483\n",
      "Delta: 0.007498987534370133  Loss: 0.05986420125455276\n",
      "Delta: 0.0047496128622471195  Loss: 0.05960855427519195\n",
      "Delta: 0.005641702535814838  Loss: 0.05939455309688489\n",
      "Delta: 0.006740522479159294  Loss: 0.05911407552226893\n",
      "Delta: 0.0031927480225536296  Loss: 0.05890135303853189\n",
      "Delta: 0.0011506238485484337  Loss: 0.05883060961387437\n",
      "Delta: 0.0005379588205893564  Loss: 0.05880858005993667\n",
      "Delta: 0.0002558738168319719  Loss: 0.05879967623646864\n",
      "Delta: 0.00012825894232789965  Loss: 0.05879575344660731\n",
      "Delta: 7.50033630660641e-05  Loss: 0.05879392771894446\n",
      "Delta: 5.2939590194991656e-05  Loss: 0.05879300444049984\n",
      "Delta: 4.244773447330574e-05  Loss: 0.058792481199419655\n",
      "Delta: 3.629063807951911e-05  Loss: 0.05879214460257604\n",
      "Delta: 3.209889887249551e-05  Loss: 0.05879190184893901\n",
      "Delta: 2.9036845175563627e-05  Loss: 0.058791710962106725\n",
      "Delta: 2.6738600137219502e-05  Loss: 0.058791551822793615\n",
      "Delta: 2.500225660114492e-05  Loss: 0.058791413992016664\n",
      "Delta: 2.369634999358992e-05  Loss: 0.05879129149410658\n",
      "Delta: 2.2726674986441112e-05  Loss: 0.058791180525321576\n",
      "Delta: 2.2022370572881975e-05  Loss: 0.0587910784148726\n",
      "Delta: 2.152910665351506e-05  Loss: 0.05879098313392005\n",
      "converged at iter  33\n",
      "Elapsed time : 185.94380593299866 s\n"
     ]
    },
    {
     "name": "stderr",
     "output_type": "stream",
     "text": [
      "/tmp/ipykernel_3530284/1559086866.py:26: DeprecationWarning: Call to deprecated function (or staticmethod) opt_louvain.\n",
      "  scib.cl.opt_louvain(adata,label_key='cell_type',cluster_key='cluster_key',plot=False,inplace=True,force=True,verbose = False)\n",
      "\n",
      "\n",
      " 33%|███▎      | 2/6 [08:29<16:58, 254.52s/it]\u001b[A\u001b[A"
     ]
    },
    {
     "name": "stdout",
     "output_type": "stream",
     "text": [
      "Delta: 0.0012436721122795272  Loss: 0.07357896869702513\n",
      "Delta: 0.0045893530630113045  Loss: 0.07339510955983554\n",
      "Delta: 0.014647190021981636  Loss: 0.07206744751173208\n",
      "Delta: 0.008091852368246564  Loss: 0.06993987810732735\n",
      "Delta: 0.01352209012016263  Loss: 0.0683159340149907\n",
      "Delta: 0.0071414878517485295  Loss: 0.06722240214052944\n",
      "Delta: 0.010521876821784211  Loss: 0.06642582293282726\n",
      "Delta: 0.011001792193957818  Loss: 0.06519673374201397\n",
      "Delta: 0.010315053264549323  Loss: 0.0640030365417985\n",
      "Delta: 0.00309685889824192  Loss: 0.06345467290871805\n",
      "Delta: 0.0016211877456064473  Loss: 0.06334637331813121\n",
      "Delta: 0.0010900293505667596  Loss: 0.0632984472975664\n",
      "Delta: 0.0006605674529401807  Loss: 0.06326977808520654\n",
      "Delta: 0.0003731233254752395  Loss: 0.06325349945741601\n",
      "Delta: 0.00020912761330943113  Loss: 0.06324446314200875\n",
      "Delta: 0.00012797271253930896  Loss: 0.06323930179469517\n",
      "Delta: 9.501683083894632e-05  Loss: 0.06323611490751063\n",
      "Delta: 8.509399716672505e-05  Loss: 0.0632338969362796\n",
      "Delta: 8.398771604869806e-05  Loss: 0.06323212554044562\n",
      "Delta: 8.627425882344944e-05  Loss: 0.06323052557300497\n",
      "Delta: 9.04510260360921e-05  Loss: 0.0632289441713826\n",
      "Delta: 9.628671953320693e-05  Loss: 0.06322728608913583\n",
      "Delta: 0.00010396806380861744  Loss: 0.0632254796530054\n",
      "Delta: 0.00011389094268051422  Loss: 0.06322345750418554\n",
      "Delta: 0.00012664521993737256  Loss: 0.06322114369045496\n",
      "Delta: 0.00014307039723823698  Loss: 0.06321844226415041\n",
      "Delta: 0.0001643603536131829  Loss: 0.06321522395013919\n",
      "Delta: 0.00019222780585339573  Loss: 0.06321130746455231\n",
      "Delta: 0.0002291546049252355  Loss: 0.06320643089877546\n",
      "Delta: 0.0002787633716553689  Loss: 0.06320020605639591\n",
      "Delta: 0.00034633786958302245  Loss: 0.06319204443049725\n",
      "Delta: 0.0004394419766482359  Loss: 0.06318103814555887\n",
      "Delta: 0.0005682799386179322  Loss: 0.06316577783788935\n",
      "Delta: 0.00074449794676338  Loss: 0.06314411491227456\n",
      "Delta: 0.0009748974361514975  Loss: 0.06311300050636894\n",
      "Delta: 0.0012437673649626417  Loss: 0.06306890126951555\n",
      "Delta: 0.0014836168041061331  Loss: 0.06300983436706724\n",
      "Delta: 0.0015701946147238985  Loss: 0.06293934829962627\n",
      "Delta: 0.0014093580986021203  Loss: 0.06286852616659072\n",
      "Delta: 0.001058075895253871  Loss: 0.06281017522729042\n",
      "Delta: 0.0006807347662504197  Loss: 0.06277008757409504\n",
      "Delta: 0.0003924794566925533  Loss: 0.0627460478300838\n",
      "Delta: 0.0002116336007649663  Loss: 0.06273282734558244\n",
      "Delta: 0.00011001432434330171  Loss: 0.06272590561126773\n",
      "Delta: 5.6151534882908105e-05  Loss: 0.06272237443951702\n",
      "Delta: 2.8430980742181928e-05  Loss: 0.06272059642488674\n",
      "Delta: 1.4365217393565413e-05  Loss: 0.06271970691365394\n",
      "Delta: 7.272264456723916e-06  Loss: 0.06271926330163044\n",
      "Delta: 3.7023577053913573e-06  Loss: 0.06271904240932552\n",
      "Delta: 1.9041318731088643e-06  Loss: 0.06271893251002408\n",
      "Elapsed time : 282.8713610172272 s\n"
     ]
    },
    {
     "name": "stderr",
     "output_type": "stream",
     "text": [
      "/tmp/ipykernel_3530284/1559086866.py:26: DeprecationWarning: Call to deprecated function (or staticmethod) opt_louvain.\n",
      "  scib.cl.opt_louvain(adata,label_key='cell_type',cluster_key='cluster_key',plot=False,inplace=True,force=True,verbose = False)\n",
      "\n",
      "\n",
      " 50%|█████     | 3/6 [14:18<14:52, 297.61s/it]\u001b[A\u001b[A"
     ]
    },
    {
     "name": "stdout",
     "output_type": "stream",
     "text": [
      "Delta: 0.00038081851701954664  Loss: 0.07358672473850345\n",
      "Delta: 0.00013672649399381912  Loss: 0.07358359812901186\n",
      "Delta: 0.00010613705084606488  Loss: 0.0735805590843592\n",
      "Delta: 9.30765585990233e-05  Loss: 0.0735775697372625\n",
      "Delta: 9.092021437597123e-05  Loss: 0.07357445853274099\n",
      "Delta: 9.697301396982236e-05  Loss: 0.07357094389070508\n",
      "Delta: 0.00011054429678699569  Loss: 0.07356660686250321\n",
      "Delta: 0.00013280962331195778  Loss: 0.07356079651461261\n",
      "Delta: 0.00016720111058682202  Loss: 0.07355242717667085\n",
      "Delta: 0.00022050956792367873  Loss: 0.07353956172998197\n",
      "Delta: 0.0003050266211801882  Loss: 0.073518549588008\n",
      "Delta: 0.0004412699366096952  Loss: 0.07348231596340857\n",
      "Delta: 0.0006556488512684036  Loss: 0.0734176919232043\n",
      "Delta: 0.0009494251632414988  Loss: 0.07330520566224977\n",
      "Delta: 0.0012106718605693  Loss: 0.073134876614843\n",
      "Delta: 0.0012113139161772524  Loss: 0.0729389871044172\n",
      "Delta: 0.0009114958014720099  Loss: 0.07277724496833701\n",
      "Delta: 0.0005461789566126717  Loss: 0.07267528969430778\n",
      "Delta: 0.00028564109810887194  Loss: 0.07262068246924572\n",
      "Delta: 0.00013996824845532998  Loss: 0.07259367257358956\n",
      "Delta: 6.707971882106667e-05  Loss: 0.07258073467923165\n",
      "Delta: 3.230664149248309e-05  Loss: 0.07257458517455162\n",
      "Delta: 1.601034226365168e-05  Loss: 0.07257164698851709\n",
      "Delta: 8.385572608217644e-06  Loss: 0.07257022397170895\n",
      "Delta: 4.762024822155498e-06  Loss: 0.07256952047072592\n",
      "Delta: 2.958799494663831e-06  Loss: 0.07256916299953027\n",
      "Delta: 1.9818718493626147e-06  Loss: 0.07256897500460331\n",
      "Delta: 1.3949853429144406e-06  Loss: 0.07256887204259574\n",
      "Delta: 1.010104503092441e-06  Loss: 0.07256881306371163\n",
      "converged at iter  28\n",
      "Elapsed time : 89.69673252105713 s\n"
     ]
    },
    {
     "name": "stderr",
     "output_type": "stream",
     "text": [
      "/tmp/ipykernel_3530284/1559086866.py:26: DeprecationWarning: Call to deprecated function (or staticmethod) opt_louvain.\n",
      "  scib.cl.opt_louvain(adata,label_key='cell_type',cluster_key='cluster_key',plot=False,inplace=True,force=True,verbose = False)\n",
      "\n",
      "\n",
      " 67%|██████▋   | 4/6 [16:45<07:56, 238.25s/it]\u001b[A\u001b[A"
     ]
    },
    {
     "name": "stdout",
     "output_type": "stream",
     "text": [
      "Delta: 0.0002786731887663918  Loss: 0.07358764652770551\n",
      "Delta: 3.47321150349023e-05  Loss: 0.07358688985363668\n",
      "Delta: 1.2921941127977708e-05  Loss: 0.07358660408667032\n",
      "Delta: 5.261507505835695e-06  Loss: 0.07358649288816192\n",
      "Delta: 2.2755328317856708e-06  Loss: 0.07358644817980244\n",
      "converged at iter  4\n",
      "Elapsed time : 15.441943168640137 s\n"
     ]
    },
    {
     "name": "stderr",
     "output_type": "stream",
     "text": [
      "/tmp/ipykernel_3530284/1559086866.py:26: DeprecationWarning: Call to deprecated function (or staticmethod) opt_louvain.\n",
      "  scib.cl.opt_louvain(adata,label_key='cell_type',cluster_key='cluster_key',plot=False,inplace=True,force=True,verbose = False)\n",
      "\n",
      "\n",
      " 83%|████████▎ | 5/6 [17:54<02:57, 177.21s/it]\u001b[A\u001b[A"
     ]
    },
    {
     "name": "stdout",
     "output_type": "stream",
     "text": [
      "Delta: 0.00019784820998970776  Loss: 0.07358837606642857\n",
      "Delta: 1.8424008668388871e-06  Loss: 0.07358832364815107\n",
      "converged at iter  1\n",
      "Elapsed time : 6.342931509017944 s\n"
     ]
    },
    {
     "name": "stderr",
     "output_type": "stream",
     "text": [
      "/tmp/ipykernel_3530284/1559086866.py:26: DeprecationWarning: Call to deprecated function (or staticmethod) opt_louvain.\n",
      "  scib.cl.opt_louvain(adata,label_key='cell_type',cluster_key='cluster_key',plot=False,inplace=True,force=True,verbose = False)\n",
      "\n",
      "\n",
      "100%|██████████| 6/6 [18:52<00:00, 188.80s/it]\u001b[A\u001b[A\n",
      "\n",
      " 17%|█▋        | 1/6 [18:52<1:34:23, 1132.80s/it]\u001b[A\n",
      "\n",
      "  0%|          | 0/6 [00:00<?, ?it/s]\u001b[A\u001b[A"
     ]
    },
    {
     "name": "stdout",
     "output_type": "stream",
     "text": [
      "Delta: 0.008457272645900396  Loss: 0.07453495904808427\n",
      "Delta: 0.02280301206034933  Loss: 0.0733369654612859\n",
      "Delta: 0.026159938583923736  Loss: 0.0703270332990828\n",
      "Delta: 0.02130867284894695  Loss: 0.06868423805187455\n",
      "Delta: 0.012601839275533438  Loss: 0.06788724429398196\n",
      "Delta: 0.006176715492250833  Loss: 0.06762221264067053\n",
      "Delta: 0.01017934289582987  Loss: 0.06747519632597815\n",
      "Delta: 0.013981527446709255  Loss: 0.06718880069300719\n",
      "Delta: 0.016304012100371523  Loss: 0.06678672354022977\n",
      "Delta: 0.012881757427886095  Loss: 0.06635344548523546\n",
      "Delta: 0.0032605870891068054  Loss: 0.06610925678851219\n",
      "Delta: 0.005829548793091788  Loss: 0.06604994556039817\n",
      "Delta: 0.006128000767982758  Loss: 0.0659633495780232\n",
      "Delta: 0.003344564309926249  Loss: 0.06588966830848564\n",
      "Delta: 0.005510401112030944  Loss: 0.06584293893639206\n",
      "Delta: 0.008096237979177688  Loss: 0.0657546302554197\n",
      "Delta: 0.00795983449221572  Loss: 0.06561509159596535\n",
      "Delta: 0.0052625642692389505  Loss: 0.0654932325325285\n",
      "Delta: 0.006448054026016357  Loss: 0.06541697665416178\n",
      "Delta: 0.006596218009929343  Loss: 0.06532413659110944\n",
      "Delta: 0.005259161058833574  Loss: 0.06524122189092811\n",
      "Delta: 0.0055841587856206845  Loss: 0.06517808998459283\n",
      "Delta: 0.001516307707929328  Loss: 0.06512755266611311\n",
      "Delta: 0.0010926132575212475  Loss: 0.06511349762990386\n",
      "Delta: 0.0014251566123743237  Loss: 0.06510550134113308\n",
      "Delta: 0.002239997843534374  Loss: 0.06509327969737164\n",
      "Delta: 0.004432044361586426  Loss: 0.06506799714024765\n",
      "Delta: 0.008546518064877846  Loss: 0.06499877303769269\n",
      "Delta: 0.00805467318565205  Loss: 0.06485961166018964\n",
      "Delta: 0.009324087938388228  Loss: 0.06469900558878248\n",
      "Delta: 0.008327977282109194  Loss: 0.06452835940302859\n",
      "Delta: 0.007128706604604963  Loss: 0.06438229881666098\n",
      "Delta: 0.007462503567924996  Loss: 0.06425862066486422\n",
      "Delta: 0.007709126656058541  Loss: 0.0641373070284735\n",
      "Delta: 0.007318146496253648  Loss: 0.06401141013017607\n",
      "Delta: 0.010844367400667356  Loss: 0.063861519980942\n",
      "Delta: 0.011875745375768756  Loss: 0.06362545539351681\n",
      "Delta: 0.00990648080979987  Loss: 0.06337321845456692\n",
      "Delta: 0.011242256678239377  Loss: 0.06314534568362629\n",
      "Delta: 0.010077406887687363  Loss: 0.06289626716260624\n",
      "Delta: 0.007132915269459745  Loss: 0.06269779791305356\n",
      "Delta: 0.007262765730344061  Loss: 0.06257428423300371\n",
      "Delta: 0.006306261111176567  Loss: 0.06246825766955209\n",
      "Delta: 0.003054326294698615  Loss: 0.06238965050577112\n",
      "Delta: 0.0031461305523037973  Loss: 0.06234999033153879\n",
      "Delta: 0.003822589362171487  Loss: 0.06231214035843538\n",
      "Delta: 0.004322706184298847  Loss: 0.06226361941410338\n",
      "Delta: 0.0043399023283242424  Loss: 0.06220814450219297\n",
      "Delta: 0.0041333299782013375  Loss: 0.062154215638752494\n",
      "Delta: 0.00445239452744096  Loss: 0.06210340556142056\n",
      "Elapsed time : 102.47649478912354 s\n"
     ]
    },
    {
     "name": "stderr",
     "output_type": "stream",
     "text": [
      "/tmp/ipykernel_3530284/1559086866.py:26: DeprecationWarning: Call to deprecated function (or staticmethod) opt_louvain.\n",
      "  scib.cl.opt_louvain(adata,label_key='cell_type',cluster_key='cluster_key',plot=False,inplace=True,force=True,verbose = False)\n",
      "\n",
      "\n",
      " 17%|█▋        | 1/6 [02:39<13:17, 159.54s/it]\u001b[A\u001b[A"
     ]
    },
    {
     "name": "stdout",
     "output_type": "stream",
     "text": [
      "Delta: 0.0014568784316483982  Loss: 0.07456847611232909\n",
      "Delta: 0.003049738308388807  Loss: 0.07451290006244318\n",
      "Delta: 0.011642507174391045  Loss: 0.07413562179574809\n",
      "Delta: 0.005817909574504466  Loss: 0.07277989325994087\n",
      "Delta: 0.003719867732575913  Loss: 0.07238293554023048\n",
      "Delta: 0.01251736517456965  Loss: 0.07193683008822327\n",
      "Delta: 0.005457363586729714  Loss: 0.07071201238875427\n",
      "Delta: 0.005527979010730893  Loss: 0.07030380042123806\n",
      "Delta: 0.007977946609150941  Loss: 0.0699299647480698\n",
      "Delta: 0.009504607020490441  Loss: 0.06935418897119636\n",
      "Delta: 0.006267253497409312  Loss: 0.06879872927302735\n",
      "Delta: 0.0016022454055551888  Loss: 0.06856368242722741\n",
      "Delta: 0.00033347168346460724  Loss: 0.06851871183069663\n",
      "Delta: 8.706055183865712e-05  Loss: 0.06851092096013131\n",
      "Delta: 3.727985247651561e-05  Loss: 0.06850919562013336\n",
      "Delta: 2.07384797292614e-05  Loss: 0.06850865614871537\n",
      "Delta: 1.2665041454571079e-05  Loss: 0.06850842066541496\n",
      "Delta: 8.171457663246854e-06  Loss: 0.06850829368432852\n",
      "Delta: 5.4917443039863425e-06  Loss: 0.06850821745565504\n",
      "converged at iter  18\n",
      "Elapsed time : 36.80982184410095 s\n"
     ]
    },
    {
     "name": "stderr",
     "output_type": "stream",
     "text": [
      "/tmp/ipykernel_3530284/1559086866.py:26: DeprecationWarning: Call to deprecated function (or staticmethod) opt_louvain.\n",
      "  scib.cl.opt_louvain(adata,label_key='cell_type',cluster_key='cluster_key',plot=False,inplace=True,force=True,verbose = False)\n",
      "\n",
      "\n",
      " 33%|███▎      | 2/6 [04:09<07:55, 118.83s/it]\u001b[A\u001b[A"
     ]
    },
    {
     "name": "stdout",
     "output_type": "stream",
     "text": [
      "Delta: 0.0007480650748778238  Loss: 0.07457268307110415\n",
      "Delta: 0.000581691742052788  Loss: 0.07456262359479673\n",
      "Delta: 0.0006281821691243101  Loss: 0.07454863956182183\n",
      "Delta: 0.0008391389679143978  Loss: 0.07452653872880985\n",
      "Delta: 0.0013776202248288539  Loss: 0.0744830576390822\n",
      "Delta: 0.0028243820213440067  Loss: 0.07437002643248498\n",
      "Delta: 0.007094893434283898  Loss: 0.07398831281077138\n",
      "Delta: 0.007586516817726181  Loss: 0.07302706083965319\n",
      "Delta: 0.0008104488548840098  Loss: 0.07253397572566418\n",
      "Delta: 0.0002676824083330363  Loss: 0.07251424608203512\n",
      "Delta: 0.0001432115463453853  Loss: 0.07251018226380454\n",
      "Delta: 0.00011179845703857188  Loss: 0.07250811478775832\n",
      "Delta: 0.0001043702116650801  Loss: 0.07250660464001363\n",
      "Delta: 0.00010591618623590566  Loss: 0.07250521144511396\n",
      "Delta: 0.00011337508941041988  Loss: 0.0725037350800905\n",
      "Delta: 0.0001271380620926347  Loss: 0.07250202211480178\n",
      "Delta: 0.00014957060090130307  Loss: 0.07249988633582374\n",
      "Delta: 0.00018566760063493728  Loss: 0.07249703217255576\n",
      "Delta: 0.0002456349041369509  Loss: 0.07249291100640488\n",
      "Delta: 0.00035187505255236993  Loss: 0.0724863627478065\n",
      "Delta: 0.000559556314865615  Loss: 0.0724745410336162\n",
      "Delta: 0.0010264077773491493  Loss: 0.072448966591427\n",
      "Delta: 0.002276000630341575  Loss: 0.07237715511550447\n",
      "Delta: 0.005738478566760271  Loss: 0.07210951142704902\n",
      "Delta: 0.00728989027527724  Loss: 0.07137524005938653\n",
      "Delta: 0.0012608713827285645  Loss: 0.07084312766386036\n",
      "Delta: 0.00028517606956050237  Loss: 0.07077450935337128\n",
      "Delta: 0.00010620941666362771  Loss: 0.07076668531038617\n",
      "Delta: 4.467591815598727e-05  Loss: 0.07076428256065101\n",
      "Delta: 2.0165203767579e-05  Loss: 0.07076332109819111\n",
      "Delta: 9.523630435446321e-06  Loss: 0.07076290272582414\n",
      "Delta: 4.630854505079729e-06  Loss: 0.07076271208923093\n",
      "Delta: 2.2927819381020973e-06  Loss: 0.07076262256328544\n",
      "converged at iter  32\n",
      "Elapsed time : 62.420544385910034 s\n"
     ]
    },
    {
     "name": "stderr",
     "output_type": "stream",
     "text": [
      "/tmp/ipykernel_3530284/1559086866.py:26: DeprecationWarning: Call to deprecated function (or staticmethod) opt_louvain.\n",
      "  scib.cl.opt_louvain(adata,label_key='cell_type',cluster_key='cluster_key',plot=False,inplace=True,force=True,verbose = False)\n",
      "\n",
      "\n",
      " 50%|█████     | 3/6 [06:05<05:52, 117.56s/it]\u001b[A\u001b[A"
     ]
    },
    {
     "name": "stdout",
     "output_type": "stream",
     "text": [
      "Delta: 0.00019968917015036105  Loss: 0.07457601450670143\n",
      "Delta: 2.2048323142594968e-05  Loss: 0.07457553400676079\n",
      "Delta: 3.770830399937546e-06  Loss: 0.07457545477861441\n",
      "converged at iter  2\n",
      "Elapsed time : 5.022564649581909 s\n"
     ]
    },
    {
     "name": "stderr",
     "output_type": "stream",
     "text": [
      "/tmp/ipykernel_3530284/1559086866.py:26: DeprecationWarning: Call to deprecated function (or staticmethod) opt_louvain.\n",
      "  scib.cl.opt_louvain(adata,label_key='cell_type',cluster_key='cluster_key',plot=False,inplace=True,force=True,verbose = False)\n",
      "\n",
      "\n",
      " 67%|██████▋   | 4/6 [07:04<03:08, 94.31s/it] \u001b[A\u001b[A"
     ]
    },
    {
     "name": "stdout",
     "output_type": "stream",
     "text": [
      "Delta: 0.00013173993605395805  Loss: 0.07457642941946176\n",
      "Delta: 5.693955674952634e-06  Loss: 0.07457625861215916\n",
      "Delta: 4.855892359162288e-07  Loss: 0.07457624521318179\n",
      "converged at iter  2\n",
      "Elapsed time : 5.448760747909546 s\n"
     ]
    },
    {
     "name": "stderr",
     "output_type": "stream",
     "text": [
      "/tmp/ipykernel_3530284/1559086866.py:26: DeprecationWarning: Call to deprecated function (or staticmethod) opt_louvain.\n",
      "  scib.cl.opt_louvain(adata,label_key='cell_type',cluster_key='cluster_key',plot=False,inplace=True,force=True,verbose = False)\n",
      "\n",
      "\n",
      " 83%|████████▎ | 5/6 [08:02<01:21, 81.08s/it]\u001b[A\u001b[A"
     ]
    },
    {
     "name": "stdout",
     "output_type": "stream",
     "text": [
      "Delta: 7.742420425817532e-05  Loss: 0.07457676116884818\n",
      "Delta: 2.8786428753649714e-07  Loss: 0.07457673738054238\n",
      "converged at iter  1\n",
      "Elapsed time : 3.7378034591674805 s\n"
     ]
    },
    {
     "name": "stderr",
     "output_type": "stream",
     "text": [
      "/tmp/ipykernel_3530284/1559086866.py:26: DeprecationWarning: Call to deprecated function (or staticmethod) opt_louvain.\n",
      "  scib.cl.opt_louvain(adata,label_key='cell_type',cluster_key='cluster_key',plot=False,inplace=True,force=True,verbose = False)\n",
      "\n",
      "\n",
      "100%|██████████| 6/6 [08:58<00:00, 89.77s/it]\u001b[A\u001b[A\n",
      "\n",
      " 33%|███▎      | 2/6 [27:51<52:13, 783.30s/it]   \u001b[A\n",
      "\n",
      "  0%|          | 0/6 [00:00<?, ?it/s]\u001b[A\u001b[A"
     ]
    },
    {
     "name": "stdout",
     "output_type": "stream",
     "text": [
      "Delta: 0.006529089051104381  Loss: 0.07497605247354969\n",
      "Delta: 0.016540509136228926  Loss: 0.07455485625823065\n",
      "Delta: 0.02381257870787298  Loss: 0.07317864614807065\n",
      "Delta: 0.017743146558760352  Loss: 0.07176063473525207\n",
      "Delta: 0.005681182195590815  Loss: 0.07121356469203789\n",
      "Delta: 0.008794202776408492  Loss: 0.07107911698062758\n",
      "Delta: 0.013912271893760987  Loss: 0.07085803945026471\n",
      "Delta: 0.004471234160460599  Loss: 0.07057749416366549\n",
      "Delta: 0.005150634060475513  Loss: 0.07051249724411907\n",
      "Delta: 0.0029287553294731743  Loss: 0.07046416356777335\n",
      "Delta: 0.001500386073621282  Loss: 0.07044004957910766\n",
      "Delta: 0.001437926294572715  Loss: 0.07042868008287244\n",
      "Delta: 0.0008780650235894161  Loss: 0.07041756369862584\n",
      "Delta: 0.00032932686385368933  Loss: 0.07041072530362857\n",
      "Delta: 0.00021986084861701384  Loss: 0.07040830271254428\n",
      "Delta: 0.0002199047693265918  Loss: 0.07040723691443973\n",
      "Delta: 0.00023978924113271613  Loss: 0.07040637799530011\n",
      "Delta: 0.00027551410549328406  Loss: 0.07040545492118515\n",
      "Delta: 0.0003330904995943433  Loss: 0.07040434327947198\n",
      "Delta: 0.0004258048090618824  Loss: 0.07040289581032191\n",
      "Delta: 0.0005800819158731183  Loss: 0.07040085498932505\n",
      "Delta: 0.0008502569319455619  Loss: 0.07039769499079918\n",
      "Delta: 0.0013512355273871237  Loss: 0.07039221059583646\n",
      "Delta: 0.002305794602783281  Loss: 0.07038138159075666\n",
      "Delta: 0.0038775418828572187  Loss: 0.07035798767332471\n",
      "Delta: 0.004661732361132858  Loss: 0.07031389984192368\n",
      "Delta: 0.0021606786209142585  Loss: 0.07026782666678118\n",
      "Delta: 0.00044187316703152063  Loss: 0.07024908328800439\n",
      "Delta: 0.00034024806680988523  Loss: 0.07024566231184057\n",
      "Delta: 0.00042742184295366443  Loss: 0.07024440174656771\n",
      "Delta: 0.0005988139445222962  Loss: 0.07024294599583225\n",
      "Delta: 0.0009290359668358793  Loss: 0.07024051213408022\n",
      "Delta: 0.0016193859810926788  Loss: 0.07023551209228253\n",
      "Delta: 0.0031576486661229726  Loss: 0.07022288566926738\n",
      "Delta: 0.005743664068925418  Loss: 0.07018735424513606\n",
      "Delta: 0.004427343940865271  Loss: 0.07012064627108917\n",
      "Delta: 0.0009012340023588275  Loss: 0.07007589400212147\n",
      "Delta: 0.0004819040613095378  Loss: 0.07006808607250178\n",
      "Delta: 0.00035327408224550754  Loss: 0.07006593914288306\n",
      "Delta: 0.0002877528975418829  Loss: 0.07006452687668271\n",
      "Delta: 0.00024696652281363716  Loss: 0.07006340410627004\n",
      "Delta: 0.00021863153052698278  Loss: 0.07006244529762008\n",
      "Delta: 0.0001978299734696233  Loss: 0.07006159033591837\n",
      "Delta: 0.00018214096353761446  Loss: 0.07006080548808605\n",
      "Delta: 0.00017017516299396257  Loss: 0.07006006983914281\n",
      "Delta: 0.00016105297657816633  Loss: 0.07005936924623933\n",
      "Delta: 0.00015418487311738704  Loss: 0.070058693364272\n",
      "Delta: 0.0001491633408349932  Loss: 0.0700580340802959\n",
      "Delta: 0.0001457029023761613  Loss: 0.07005738463605396\n",
      "Delta: 0.0001436039994457849  Loss: 0.07005673910162741\n",
      "Elapsed time : 79.67945170402527 s\n"
     ]
    },
    {
     "name": "stderr",
     "output_type": "stream",
     "text": [
      "/tmp/ipykernel_3530284/1559086866.py:26: DeprecationWarning: Call to deprecated function (or staticmethod) opt_louvain.\n",
      "  scib.cl.opt_louvain(adata,label_key='cell_type',cluster_key='cluster_key',plot=False,inplace=True,force=True,verbose = False)\n",
      "\n",
      "\n",
      " 17%|█▋        | 1/6 [02:16<11:21, 136.36s/it]\u001b[A\u001b[A"
     ]
    },
    {
     "name": "stdout",
     "output_type": "stream",
     "text": [
      "Delta: 0.0011736621364107425  Loss: 0.07499752631785836\n",
      "Delta: 0.0010367789027148728  Loss: 0.0749837460992997\n",
      "Delta: 0.0014607512728016987  Loss: 0.07496045475448479\n",
      "Delta: 0.0031602902277877466  Loss: 0.07490086358285179\n",
      "Delta: 0.009816251811799416  Loss: 0.07462634420908087\n",
      "Delta: 0.004497599569476968  Loss: 0.07389265161008765\n",
      "Delta: 0.0007461952127894934  Loss: 0.07364366836606026\n",
      "Delta: 0.00028571425043179543  Loss: 0.07363438801\n",
      "Delta: 0.00015200210679935938  Loss: 0.07363074906998715\n",
      "Delta: 0.00010828389621420961  Loss: 0.07362891836874536\n",
      "Delta: 9.448734393052961e-05  Loss: 0.07362776136469713\n",
      "Delta: 9.361598740293308e-05  Loss: 0.07362685976563048\n",
      "Delta: 0.00010025160514780516  Loss: 0.07362602504930765\n",
      "Delta: 0.0001133620866649307  Loss: 0.07362514055748204\n",
      "Delta: 0.00013448565915485786  Loss: 0.0736240977106901\n",
      "Delta: 0.00016782927788412222  Loss: 0.07362275122809883\n",
      "Delta: 0.0002222231292995405  Loss: 0.07362085309628152\n",
      "Delta: 0.00031686834720206716  Loss: 0.07361790129257786\n",
      "Delta: 0.0004982711394273369  Loss: 0.07361270257889843\n",
      "Delta: 0.0008975006808499938  Loss: 0.07360180804211072\n",
      "Delta: 0.0019557372992919904  Loss: 0.07357226606362485\n",
      "Delta: 0.005161994388209191  Loss: 0.07345980257541221\n",
      "Delta: 0.008306244001683848  Loss: 0.07306241626721381\n",
      "Delta: 0.001505593080222506  Loss: 0.07261614403122776\n",
      "Delta: 0.0005444560230334501  Loss: 0.0725521307851803\n",
      "Delta: 0.0002740357423104913  Loss: 0.07254428838245322\n",
      "Delta: 0.0001464704109795412  Loss: 0.07254065080962988\n",
      "Delta: 8.021987879358121e-05  Loss: 0.07253872740847991\n",
      "Delta: 4.4481253762575904e-05  Loss: 0.0725376749953731\n",
      "Delta: 2.4832682195054372e-05  Loss: 0.0725370904394469\n",
      "Delta: 1.3917044843919506e-05  Loss: 0.07253676332502423\n",
      "Delta: 7.817058156508736e-06  Loss: 0.07253657954206097\n",
      "Delta: 4.396614037960028e-06  Loss: 0.07253647605418949\n",
      "Delta: 2.474854196235573e-06  Loss: 0.07253641770348365\n",
      "converged at iter  33\n",
      "Elapsed time : 52.68411302566528 s\n"
     ]
    },
    {
     "name": "stderr",
     "output_type": "stream",
     "text": [
      "/tmp/ipykernel_3530284/1559086866.py:26: DeprecationWarning: Call to deprecated function (or staticmethod) opt_louvain.\n",
      "  scib.cl.opt_louvain(adata,label_key='cell_type',cluster_key='cluster_key',plot=False,inplace=True,force=True,verbose = False)\n",
      "\n",
      "\n",
      " 33%|███▎      | 2/6 [04:06<08:03, 120.76s/it]\u001b[A\u001b[A"
     ]
    },
    {
     "name": "stdout",
     "output_type": "stream",
     "text": [
      "Delta: 0.0006098910595730873  Loss: 0.07500042117562529\n",
      "Delta: 0.00022964016757445665  Loss: 0.07499719472707717\n",
      "Delta: 0.000105746324118796  Loss: 0.07499557603717624\n",
      "Delta: 5.436846556134121e-05  Loss: 0.07499477271407404\n",
      "Delta: 2.9797080997078296e-05  Loss: 0.07499435778911455\n",
      "Delta: 1.6904180481345126e-05  Loss: 0.07499413507619822\n",
      "Delta: 9.784172550532478e-06  Loss: 0.07499401207361331\n",
      "Delta: 5.735795034814516e-06  Loss: 0.07499394276272037\n",
      "converged at iter  7\n",
      "Elapsed time : 13.264267444610596 s\n"
     ]
    },
    {
     "name": "stderr",
     "output_type": "stream",
     "text": [
      "/tmp/ipykernel_3530284/1559086866.py:26: DeprecationWarning: Call to deprecated function (or staticmethod) opt_louvain.\n",
      "  scib.cl.opt_louvain(adata,label_key='cell_type',cluster_key='cluster_key',plot=False,inplace=True,force=True,verbose = False)\n",
      "\n",
      "\n",
      " 50%|█████     | 3/6 [05:12<04:47, 95.91s/it] \u001b[A\u001b[A"
     ]
    },
    {
     "name": "stdout",
     "output_type": "stream",
     "text": [
      "Delta: 0.0001517730615288929  Loss: 0.07500283502093733\n",
      "Delta: 9.747876882678809e-06  Loss: 0.07500264210761487\n",
      "Delta: 8.426354118303142e-07  Loss: 0.07500262583055897\n",
      "converged at iter  2\n",
      "Elapsed time : 5.437082529067993 s\n"
     ]
    },
    {
     "name": "stderr",
     "output_type": "stream",
     "text": [
      "/tmp/ipykernel_3530284/1559086866.py:26: DeprecationWarning: Call to deprecated function (or staticmethod) opt_louvain.\n",
      "  scib.cl.opt_louvain(adata,label_key='cell_type',cluster_key='cluster_key',plot=False,inplace=True,force=True,verbose = False)\n",
      "\n",
      "\n",
      " 67%|██████▋   | 4/6 [06:08<02:40, 80.12s/it]\u001b[A\u001b[A"
     ]
    },
    {
     "name": "stdout",
     "output_type": "stream",
     "text": [
      "Delta: 9.339603178843415e-05  Loss: 0.07500314428458628\n",
      "Delta: 2.54582444039255e-06  Loss: 0.07500307352209015\n",
      "converged at iter  1\n",
      "Elapsed time : 4.128963470458984 s\n"
     ]
    },
    {
     "name": "stderr",
     "output_type": "stream",
     "text": [
      "/tmp/ipykernel_3530284/1559086866.py:26: DeprecationWarning: Call to deprecated function (or staticmethod) opt_louvain.\n",
      "  scib.cl.opt_louvain(adata,label_key='cell_type',cluster_key='cluster_key',plot=False,inplace=True,force=True,verbose = False)\n",
      "\n",
      "\n",
      " 83%|████████▎ | 5/6 [07:03<01:10, 70.95s/it]\u001b[A\u001b[A"
     ]
    },
    {
     "name": "stdout",
     "output_type": "stream",
     "text": [
      "Delta: 4.6457129474116696e-05  Loss: 0.07500339301959592\n",
      "Delta: 1.2915535428400036e-07  Loss: 0.07500338289760045\n",
      "converged at iter  1\n",
      "Elapsed time : 3.826507329940796 s\n"
     ]
    },
    {
     "name": "stderr",
     "output_type": "stream",
     "text": [
      "/tmp/ipykernel_3530284/1559086866.py:26: DeprecationWarning: Call to deprecated function (or staticmethod) opt_louvain.\n",
      "  scib.cl.opt_louvain(adata,label_key='cell_type',cluster_key='cluster_key',plot=False,inplace=True,force=True,verbose = False)\n",
      "\n",
      "\n",
      "100%|██████████| 6/6 [07:56<00:00, 79.36s/it]\u001b[A\u001b[A\n",
      "\n",
      " 50%|█████     | 3/6 [35:47<32:09, 643.05s/it]\u001b[A\n",
      "\n",
      "  0%|          | 0/6 [00:00<?, ?it/s]\u001b[A\u001b[A"
     ]
    },
    {
     "name": "stdout",
     "output_type": "stream",
     "text": [
      "Delta: 0.005007636632729427  Loss: 0.0754241534011483\n",
      "Delta: 0.007121993407441587  Loss: 0.07537040232736567\n",
      "Delta: 0.008682763278587182  Loss: 0.07527833829878083\n",
      "Delta: 0.003384578568546838  Loss: 0.07516655432110732\n",
      "Delta: 0.0008178065616174276  Loss: 0.07512992455208864\n",
      "Delta: 0.00039914578569073074  Loss: 0.07512789519434296\n",
      "Delta: 0.0002474456615728937  Loss: 0.07512679867231617\n",
      "Delta: 0.000180440198377402  Loss: 0.07512610364414368\n",
      "Delta: 0.00014660182420701986  Loss: 0.07512560601849796\n",
      "Delta: 0.00013018971067959797  Loss: 0.07512521402130751\n",
      "Delta: 0.00012502293512417086  Loss: 0.07512487887329627\n",
      "Delta: 0.0001282846751333564  Loss: 0.07512456885993854\n",
      "Delta: 0.00013917922151569396  Loss: 0.07512425826748484\n",
      "Delta: 0.00015872868586922376  Loss: 0.07512392083572263\n",
      "Delta: 0.00019017853330449244  Loss: 0.07512352308410784\n",
      "Delta: 0.00024039287977525617  Loss: 0.0751230134137455\n",
      "Delta: 0.00032347640622301866  Loss: 0.07512229891201086\n",
      "Delta: 0.0004702615931260412  Loss: 0.07512118681404323\n",
      "Delta: 0.0007554625903293095  Loss: 0.07511921091404164\n",
      "Delta: 0.0013837591619280476  Loss: 0.07511501284024433\n",
      "Delta: 0.0029529359318468252  Loss: 0.07510369342473519\n",
      "Delta: 0.006290414158657822  Loss: 0.07506685582387793\n",
      "Delta: 0.005099156379403591  Loss: 0.07498853706461159\n",
      "Delta: 0.00065289839639406  Loss: 0.07493765456635638\n",
      "Delta: 0.00024736523059336346  Loss: 0.07493276428609849\n",
      "Delta: 0.00011678021531606724  Loss: 0.07493203878319757\n",
      "Delta: 6.17715771304315e-05  Loss: 0.07493168525603908\n",
      "Delta: 3.632694043369362e-05  Loss: 0.07493147791285784\n",
      "Delta: 2.3074960158231385e-05  Loss: 0.07493134865827039\n",
      "Delta: 1.531431493737765e-05  Loss: 0.07493126511426215\n",
      "converged at iter  29\n",
      "Elapsed time : 48.30612897872925 s\n"
     ]
    },
    {
     "name": "stderr",
     "output_type": "stream",
     "text": [
      "/tmp/ipykernel_3530284/1559086866.py:26: DeprecationWarning: Call to deprecated function (or staticmethod) opt_louvain.\n",
      "  scib.cl.opt_louvain(adata,label_key='cell_type',cluster_key='cluster_key',plot=False,inplace=True,force=True,verbose = False)\n",
      "\n",
      "\n",
      " 17%|█▋        | 1/6 [01:48<09:01, 108.40s/it]\u001b[A\u001b[A"
     ]
    },
    {
     "name": "stdout",
     "output_type": "stream",
     "text": [
      "Delta: 0.0009786191403921693  Loss: 0.07543810998783823\n",
      "Delta: 0.0001443550616260593  Loss: 0.07543667002555761\n",
      "Delta: 2.6915342819346376e-05  Loss: 0.07543643215461754\n",
      "Delta: 5.604013675770569e-06  Loss: 0.07543638963937452\n",
      "converged at iter  3\n",
      "Elapsed time : 7.323057413101196 s\n"
     ]
    },
    {
     "name": "stderr",
     "output_type": "stream",
     "text": [
      "/tmp/ipykernel_3530284/1559086866.py:26: DeprecationWarning: Call to deprecated function (or staticmethod) opt_louvain.\n",
      "  scib.cl.opt_louvain(adata,label_key='cell_type',cluster_key='cluster_key',plot=False,inplace=True,force=True,verbose = False)\n",
      "\n",
      "\n",
      " 33%|███▎      | 2/6 [02:49<05:21, 80.46s/it] \u001b[A\u001b[A"
     ]
    },
    {
     "name": "stdout",
     "output_type": "stream",
     "text": [
      "Delta: 0.000512754552300374  Loss: 0.07544027923368675\n",
      "Delta: 3.7289200705389105e-05  Loss: 0.07543986944350056\n",
      "Delta: 2.99880574223571e-06  Loss: 0.0754398364548194\n",
      "converged at iter  2\n",
      "Elapsed time : 4.933196067810059 s\n"
     ]
    },
    {
     "name": "stderr",
     "output_type": "stream",
     "text": [
      "/tmp/ipykernel_3530284/1559086866.py:26: DeprecationWarning: Call to deprecated function (or staticmethod) opt_louvain.\n",
      "  scib.cl.opt_louvain(adata,label_key='cell_type',cluster_key='cluster_key',plot=False,inplace=True,force=True,verbose = False)\n",
      "\n",
      "\n",
      " 50%|█████     | 3/6 [03:45<03:28, 69.51s/it]\u001b[A\u001b[A"
     ]
    },
    {
     "name": "stdout",
     "output_type": "stream",
     "text": [
      "Delta: 0.00011274830372683974  Loss: 0.07544219227238233\n",
      "Delta: 1.7538404416035873e-06  Loss: 0.0754421678759941\n",
      "converged at iter  1\n",
      "Elapsed time : 3.462325096130371 s\n"
     ]
    },
    {
     "name": "stderr",
     "output_type": "stream",
     "text": [
      "/tmp/ipykernel_3530284/1559086866.py:26: DeprecationWarning: Call to deprecated function (or staticmethod) opt_louvain.\n",
      "  scib.cl.opt_louvain(adata,label_key='cell_type',cluster_key='cluster_key',plot=False,inplace=True,force=True,verbose = False)\n",
      "\n",
      "\n",
      " 67%|██████▋   | 4/6 [04:44<02:10, 65.07s/it]\u001b[A\u001b[A"
     ]
    },
    {
     "name": "stdout",
     "output_type": "stream",
     "text": [
      "Delta: 6.028347973289557e-05  Loss: 0.07544244452028719\n",
      "Delta: 4.6338081795444965e-07  Loss: 0.07544243634474049\n",
      "converged at iter  1\n",
      "Elapsed time : 3.628779411315918 s\n"
     ]
    },
    {
     "name": "stderr",
     "output_type": "stream",
     "text": [
      "/tmp/ipykernel_3530284/1559086866.py:26: DeprecationWarning: Call to deprecated function (or staticmethod) opt_louvain.\n",
      "  scib.cl.opt_louvain(adata,label_key='cell_type',cluster_key='cluster_key',plot=False,inplace=True,force=True,verbose = False)\n",
      "\n",
      "\n",
      " 83%|████████▎ | 5/6 [05:38<01:01, 61.34s/it]\u001b[A\u001b[A"
     ]
    },
    {
     "name": "stdout",
     "output_type": "stream",
     "text": [
      "Delta: 1.7850421450126012e-05  Loss: 0.07544264858860336\n",
      "Delta: 2.3701098156163285e-08  Loss: 0.07544264761337263\n",
      "converged at iter  1\n",
      "Elapsed time : 3.5795960426330566 s\n"
     ]
    },
    {
     "name": "stderr",
     "output_type": "stream",
     "text": [
      "/tmp/ipykernel_3530284/1559086866.py:26: DeprecationWarning: Call to deprecated function (or staticmethod) opt_louvain.\n",
      "  scib.cl.opt_louvain(adata,label_key='cell_type',cluster_key='cluster_key',plot=False,inplace=True,force=True,verbose = False)\n",
      "\n",
      "\n",
      "100%|██████████| 6/6 [06:37<00:00, 66.27s/it]\u001b[A\u001b[A\n",
      "\n",
      " 67%|██████▋   | 4/6 [42:25<18:12, 546.15s/it]\u001b[A\n",
      "\n",
      "  0%|          | 0/6 [00:00<?, ?it/s]\u001b[A\u001b[A"
     ]
    },
    {
     "name": "stdout",
     "output_type": "stream",
     "text": [
      "Delta: 0.004873678789762639  Loss: 0.07548327440877967\n",
      "Delta: 0.00410954902000666  Loss: 0.07546065468632732\n",
      "Delta: 0.004496072464600182  Loss: 0.07543239663159161\n",
      "Delta: 0.006138070214579439  Loss: 0.07539418493858539\n",
      "Delta: 0.002556284153003145  Loss: 0.07534921185430506\n",
      "Delta: 0.00025133026225523155  Loss: 0.07533259837812309\n",
      "Delta: 3.976543937800823e-05  Loss: 0.07533124148687517\n",
      "Delta: 8.511351200154782e-06  Loss: 0.07533115438300654\n",
      "converged at iter  7\n",
      "Elapsed time : 12.379405498504639 s\n"
     ]
    },
    {
     "name": "stderr",
     "output_type": "stream",
     "text": [
      "/tmp/ipykernel_3530284/1559086866.py:26: DeprecationWarning: Call to deprecated function (or staticmethod) opt_louvain.\n",
      "  scib.cl.opt_louvain(adata,label_key='cell_type',cluster_key='cluster_key',plot=False,inplace=True,force=True,verbose = False)\n",
      "\n",
      "\n",
      " 17%|█▋        | 1/6 [01:07<05:38, 67.75s/it]\u001b[A\u001b[A"
     ]
    },
    {
     "name": "stdout",
     "output_type": "stream",
     "text": [
      "Delta: 0.0009615230154657417  Loss: 0.07549663354930451\n",
      "Delta: 6.956456767678194e-05  Loss: 0.07549596691699771\n",
      "Delta: 6.235780113257658e-06  Loss: 0.07549591534352712\n",
      "converged at iter  2\n",
      "Elapsed time : 5.443248987197876 s\n"
     ]
    },
    {
     "name": "stderr",
     "output_type": "stream",
     "text": [
      "/tmp/ipykernel_3530284/1559086866.py:26: DeprecationWarning: Call to deprecated function (or staticmethod) opt_louvain.\n",
      "  scib.cl.opt_louvain(adata,label_key='cell_type',cluster_key='cluster_key',plot=False,inplace=True,force=True,verbose = False)\n",
      "\n",
      "\n",
      " 33%|███▎      | 2/6 [02:05<04:07, 62.00s/it]\u001b[A\u001b[A"
     ]
    },
    {
     "name": "stdout",
     "output_type": "stream",
     "text": [
      "Delta: 0.0005038388016592514  Loss: 0.07549874981056261\n",
      "Delta: 1.826794312465806e-05  Loss: 0.07549855676641753\n",
      "Delta: 7.235486629500426e-07  Loss: 0.07549854918686658\n",
      "converged at iter  2\n",
      "Elapsed time : 5.36454963684082 s\n"
     ]
    },
    {
     "name": "stderr",
     "output_type": "stream",
     "text": [
      "/tmp/ipykernel_3530284/1559086866.py:26: DeprecationWarning: Call to deprecated function (or staticmethod) opt_louvain.\n",
      "  scib.cl.opt_louvain(adata,label_key='cell_type',cluster_key='cluster_key',plot=False,inplace=True,force=True,verbose = False)\n",
      "\n",
      "\n",
      " 50%|█████     | 3/6 [03:08<03:07, 62.55s/it]\u001b[A\u001b[A"
     ]
    },
    {
     "name": "stdout",
     "output_type": "stream",
     "text": [
      "Delta: 0.00010834476683650973  Loss: 0.07550062799358476\n",
      "Delta: 8.682511242317306e-07  Loss: 0.07550061680737391\n",
      "converged at iter  1\n",
      "Elapsed time : 3.6140825748443604 s\n"
     ]
    },
    {
     "name": "stderr",
     "output_type": "stream",
     "text": [
      "/tmp/ipykernel_3530284/1559086866.py:26: DeprecationWarning: Call to deprecated function (or staticmethod) opt_louvain.\n",
      "  scib.cl.opt_louvain(adata,label_key='cell_type',cluster_key='cluster_key',plot=False,inplace=True,force=True,verbose = False)\n",
      "\n",
      "\n",
      " 67%|██████▋   | 4/6 [04:05<02:00, 60.08s/it]\u001b[A\u001b[A"
     ]
    },
    {
     "name": "stdout",
     "output_type": "stream",
     "text": [
      "Delta: 5.630578064514085e-05  Loss: 0.07550087642752873\n",
      "Delta: 2.2969812248784907e-07  Loss: 0.07550087279916887\n",
      "converged at iter  1\n",
      "Elapsed time : 4.458464622497559 s\n"
     ]
    },
    {
     "name": "stderr",
     "output_type": "stream",
     "text": [
      "/tmp/ipykernel_3530284/1559086866.py:26: DeprecationWarning: Call to deprecated function (or staticmethod) opt_louvain.\n",
      "  scib.cl.opt_louvain(adata,label_key='cell_type',cluster_key='cluster_key',plot=False,inplace=True,force=True,verbose = False)\n",
      "\n",
      "\n",
      " 83%|████████▎ | 5/6 [05:03<00:59, 59.51s/it]\u001b[A\u001b[A"
     ]
    },
    {
     "name": "stdout",
     "output_type": "stream",
     "text": [
      "Delta: 1.4190274477461379e-05  Loss: 0.07550107753808202\n",
      "Delta: 1.176260286219262e-08  Loss: 0.07550107713647097\n",
      "converged at iter  1\n",
      "Elapsed time : 3.6801505088806152 s\n"
     ]
    },
    {
     "name": "stderr",
     "output_type": "stream",
     "text": [
      "/tmp/ipykernel_3530284/1559086866.py:26: DeprecationWarning: Call to deprecated function (or staticmethod) opt_louvain.\n",
      "  scib.cl.opt_louvain(adata,label_key='cell_type',cluster_key='cluster_key',plot=False,inplace=True,force=True,verbose = False)\n",
      "\n",
      "\n",
      "100%|██████████| 6/6 [06:04<00:00, 60.74s/it]\u001b[A\u001b[A\n",
      "\n",
      " 83%|████████▎ | 5/6 [48:29<08:00, 480.62s/it]\u001b[A\n",
      "\n",
      "  0%|          | 0/6 [00:00<?, ?it/s]\u001b[A\u001b[A"
     ]
    },
    {
     "name": "stdout",
     "output_type": "stream",
     "text": [
      "Delta: 0.00477893126452082  Loss: 0.07553064805614394\n",
      "Delta: 0.0008020035339247529  Loss: 0.0755271976208141\n",
      "Delta: 0.0001730119208974651  Loss: 0.07552655255080465\n",
      "Delta: 4.245999239293418e-05  Loss: 0.07552641929056793\n",
      "Delta: 1.159849348705235e-05  Loss: 0.07552639009574869\n",
      "converged at iter  4\n",
      "Elapsed time : 8.545593738555908 s\n"
     ]
    },
    {
     "name": "stderr",
     "output_type": "stream",
     "text": [
      "/tmp/ipykernel_3530284/1559086866.py:26: DeprecationWarning: Call to deprecated function (or staticmethod) opt_louvain.\n",
      "  scib.cl.opt_louvain(adata,label_key='cell_type',cluster_key='cluster_key',plot=False,inplace=True,force=True,verbose = False)\n",
      "\n",
      "\n",
      " 17%|█▋        | 1/6 [01:03<05:16, 63.25s/it]\u001b[A\u001b[A"
     ]
    },
    {
     "name": "stdout",
     "output_type": "stream",
     "text": [
      "Delta: 0.0009494306326145739  Loss: 0.07554359306668801\n",
      "Delta: 1.3545610566623778e-05  Loss: 0.07554346749956244\n",
      "Delta: 2.358364340114065e-07  Loss: 0.07554346564818715\n",
      "converged at iter  2\n",
      "Elapsed time : 5.596576690673828 s\n"
     ]
    },
    {
     "name": "stderr",
     "output_type": "stream",
     "text": [
      "/tmp/ipykernel_3530284/1559086866.py:26: DeprecationWarning: Call to deprecated function (or staticmethod) opt_louvain.\n",
      "  scib.cl.opt_louvain(adata,label_key='cell_type',cluster_key='cluster_key',plot=False,inplace=True,force=True,verbose = False)\n",
      "\n",
      "\n",
      " 33%|███▎      | 2/6 [02:04<04:08, 62.01s/it]\u001b[A\u001b[A"
     ]
    },
    {
     "name": "stdout",
     "output_type": "stream",
     "text": [
      "Delta: 0.0004974141993367098  Loss: 0.0755456738835014\n",
      "Delta: 3.600638886056591e-06  Loss: 0.0755456370606635\n",
      "converged at iter  1\n",
      "Elapsed time : 4.138804197311401 s\n"
     ]
    },
    {
     "name": "stderr",
     "output_type": "stream",
     "text": [
      "/tmp/ipykernel_3530284/1559086866.py:26: DeprecationWarning: Call to deprecated function (or staticmethod) opt_louvain.\n",
      "  scib.cl.opt_louvain(adata,label_key='cell_type',cluster_key='cluster_key',plot=False,inplace=True,force=True,verbose = False)\n",
      "\n",
      "\n",
      " 50%|█████     | 3/6 [03:00<02:57, 59.17s/it]\u001b[A\u001b[A"
     ]
    },
    {
     "name": "stdout",
     "output_type": "stream",
     "text": [
      "Delta: 0.0001049452113190657  Loss: 0.0755475293794094\n",
      "Delta: 1.7243808495985415e-07  Loss: 0.07554752730393469\n",
      "converged at iter  1\n",
      "Elapsed time : 3.7778823375701904 s\n"
     ]
    },
    {
     "name": "stderr",
     "output_type": "stream",
     "text": [
      "/tmp/ipykernel_3530284/1559086866.py:26: DeprecationWarning: Call to deprecated function (or staticmethod) opt_louvain.\n",
      "  scib.cl.opt_louvain(adata,label_key='cell_type',cluster_key='cluster_key',plot=False,inplace=True,force=True,verbose = False)\n",
      "\n",
      "\n",
      " 67%|██████▋   | 4/6 [04:02<02:00, 60.29s/it]\u001b[A\u001b[A"
     ]
    },
    {
     "name": "stdout",
     "output_type": "stream",
     "text": [
      "Delta: 5.3181288296406216e-05  Loss: 0.07554777538825877\n",
      "Delta: 4.566330781225351e-08  Loss: 0.07554777473692009\n",
      "converged at iter  1\n",
      "Elapsed time : 3.683816909790039 s\n"
     ]
    },
    {
     "name": "stderr",
     "output_type": "stream",
     "text": [
      "/tmp/ipykernel_3530284/1559086866.py:26: DeprecationWarning: Call to deprecated function (or staticmethod) opt_louvain.\n",
      "  scib.cl.opt_louvain(adata,label_key='cell_type',cluster_key='cluster_key',plot=False,inplace=True,force=True,verbose = False)\n",
      "\n",
      "\n",
      " 83%|████████▎ | 5/6 [04:55<00:57, 57.63s/it]\u001b[A\u001b[A"
     ]
    },
    {
     "name": "stdout",
     "output_type": "stream",
     "text": [
      "Delta: 1.1268545049632362e-05  Loss: 0.07554797462958476\n",
      "Delta: 2.3405758560354085e-09  Loss: 0.07554797456332187\n",
      "converged at iter  1\n",
      "Elapsed time : 3.5212111473083496 s\n"
     ]
    },
    {
     "name": "stderr",
     "output_type": "stream",
     "text": [
      "/tmp/ipykernel_3530284/1559086866.py:26: DeprecationWarning: Call to deprecated function (or staticmethod) opt_louvain.\n",
      "  scib.cl.opt_louvain(adata,label_key='cell_type',cluster_key='cluster_key',plot=False,inplace=True,force=True,verbose = False)\n",
      "\n",
      "\n",
      "100%|██████████| 6/6 [05:47<00:00, 57.88s/it]\u001b[A\u001b[A\n",
      "\n",
      "100%|██████████| 6/6 [54:16<00:00, 542.82s/it]\u001b[A\n",
      " 40%|████      | 2/5 [1:48:23<2:42:43, 3254.42s/it]\n",
      "  0%|          | 0/6 [00:00<?, ?it/s]\u001b[A\n",
      "\n",
      "  0%|          | 0/6 [00:00<?, ?it/s]\u001b[A\u001b[A"
     ]
    },
    {
     "name": "stdout",
     "output_type": "stream",
     "text": [
      "Delta: 0.013781608372608481  Loss: 0.0707760266113374\n",
      "Delta: 0.04735022616929826  Loss: 0.06589239456027074\n",
      "Delta: 0.04084312984995983  Loss: 0.05984005031393253\n",
      "Delta: 0.035507226955470816  Loss: 0.0570402764520692\n",
      "Delta: 0.04746823253662225  Loss: 0.05465303979588001\n",
      "Delta: 0.03881973623023554  Loss: 0.051506277082918044\n",
      "Delta: 0.017634236144661454  Loss: 0.050339279612351906\n",
      "Delta: 0.009111250020647272  Loss: 0.050116450563934226\n",
      "Delta: 0.00845340395834666  Loss: 0.05002788958388556\n",
      "Delta: 0.007129896036985248  Loss: 0.04995274242539643\n",
      "Delta: 0.004546183541211824  Loss: 0.04989985891366333\n",
      "Delta: 0.002285638854245826  Loss: 0.049878555932014984\n",
      "Delta: 0.0017733037593450122  Loss: 0.04986784880840023\n",
      "Delta: 0.0012891050669364941  Loss: 0.04985966469485703\n",
      "Delta: 0.0008847419584333811  Loss: 0.04985541384613189\n",
      "Delta: 0.0006979469050031563  Loss: 0.049853682087460896\n",
      "Delta: 0.000623991860870749  Loss: 0.049852930244503935\n",
      "Delta: 0.0005605513223847233  Loss: 0.04985250734017567\n",
      "Delta: 0.0004901524790562448  Loss: 0.04985226150446684\n",
      "Delta: 0.00045795911395906465  Loss: 0.04985214998985722\n",
      "Delta: 0.0004906225112454319  Loss: 0.04985206814738681\n",
      "converged at iter  20\n",
      "Elapsed time : 51.48123836517334 s\n"
     ]
    },
    {
     "name": "stderr",
     "output_type": "stream",
     "text": [
      "/tmp/ipykernel_3530284/1559086866.py:26: DeprecationWarning: Call to deprecated function (or staticmethod) opt_louvain.\n",
      "  scib.cl.opt_louvain(adata,label_key='cell_type',cluster_key='cluster_key',plot=False,inplace=True,force=True,verbose = False)\n",
      "\n",
      "\n",
      " 17%|█▋        | 1/6 [01:21<06:49, 81.91s/it]\u001b[A\u001b[A"
     ]
    },
    {
     "name": "stdout",
     "output_type": "stream",
     "text": [
      "Delta: 0.003197774441988681  Loss: 0.070887612790836\n",
      "Delta: 0.015746868249277807  Loss: 0.06972516504835366\n",
      "Delta: 0.023529877513396386  Loss: 0.06495051535300603\n",
      "Delta: 0.017306425891365728  Loss: 0.06292648702917489\n",
      "Delta: 0.015854487241220214  Loss: 0.06154936265936477\n",
      "Delta: 0.014489936598141363  Loss: 0.06042710003633641\n",
      "Delta: 0.018286813202418394  Loss: 0.05889184233508422\n",
      "Delta: 0.007419884295217767  Loss: 0.057954772529189576\n",
      "Delta: 0.005269520036311968  Loss: 0.05771657921754811\n",
      "Delta: 0.002579886819428541  Loss: 0.057624781450237916\n",
      "Delta: 0.0015539996103321881  Loss: 0.05760887245559851\n",
      "Delta: 0.0013431746673249626  Loss: 0.05761263771262089\n",
      "Delta: 0.0012290162356584072  Loss: 0.057618758723493674\n",
      "Delta: 0.0011056351174106851  Loss: 0.057623779198537214\n",
      "Delta: 0.0009530112731415892  Loss: 0.05762699066067484\n",
      "Delta: 0.0007774366626553345  Loss: 0.05762846105171944\n",
      "Delta: 0.0006006351796305125  Loss: 0.05762861068985822\n",
      "Delta: 0.0004452437590503163  Loss: 0.057627945901950445\n",
      "Delta: 0.00032350961149885745  Loss: 0.05762688281402707\n",
      "Delta: 0.0002359573035044843  Loss: 0.05762569307804974\n",
      "Delta: 0.00017640638270197145  Loss: 0.057624525279050404\n",
      "Delta: 0.00013711389032107865  Loss: 0.05762344622087887\n",
      "Delta: 0.00011151866730840988  Loss: 0.05762247576053728\n",
      "Delta: 9.497324373166992e-05  Loss: 0.05762160981820758\n",
      "Delta: 8.449415935581056e-05  Loss: 0.05762083368404058\n",
      "Delta: 7.825590908998027e-05  Loss: 0.05762012893771601\n",
      "Delta: 7.515849319638221e-05  Loss: 0.05761947660918605\n",
      "Delta: 7.454755652884059e-05  Loss: 0.05761885827428567\n",
      "Delta: 7.606054787124867e-05  Loss: 0.057618256049705455\n",
      "Delta: 7.95525880821872e-05  Loss: 0.05761765197164577\n",
      "Delta: 8.506884819704243e-05  Loss: 0.057617026941620686\n",
      "Delta: 9.284818950148901e-05  Loss: 0.057616359219334154\n",
      "Delta: 0.00010335675993398398  Loss: 0.05761562226367366\n",
      "Delta: 0.00011736115877003212  Loss: 0.057614781495224546\n",
      "Delta: 0.00013606340876825892  Loss: 0.05761378917397015\n",
      "Delta: 0.00016134115026022507  Loss: 0.057612575861605286\n",
      "Delta: 0.00019617762233405692  Loss: 0.05761103545422956\n",
      "Delta: 0.00024545017742951566  Loss: 0.0576089975612316\n",
      "Delta: 0.0003174224421746563  Loss: 0.0576061736919521\n",
      "Delta: 0.00042665256224374155  Loss: 0.05760204620432159\n",
      "Delta: 0.0005997266428409527  Loss: 0.05759562550675268\n",
      "Delta: 0.0008859856968254139  Loss: 0.0575848941738525\n",
      "Delta: 0.0013719966833597441  Loss: 0.057565540017598185\n",
      "Delta: 0.0021634494235704153  Loss: 0.057528601855561856\n",
      "Delta: 0.0031505503609949945  Loss: 0.05746033295758177\n",
      "Delta: 0.0034555704123006626  Loss: 0.057361065413166386\n",
      "Delta: 0.0023302848565926533  Loss: 0.05727213419357032\n",
      "Delta: 0.0010095516914588774  Loss: 0.057225807425021286\n",
      "Delta: 0.00038987517203060767  Loss: 0.05720892910380157\n",
      "Delta: 0.00019446797347214397  Loss: 0.05720328752803111\n",
      "Elapsed time : 148.70032787322998 s\n"
     ]
    },
    {
     "name": "stderr",
     "output_type": "stream",
     "text": [
      "/tmp/ipykernel_3530284/1559086866.py:26: DeprecationWarning: Call to deprecated function (or staticmethod) opt_louvain.\n",
      "  scib.cl.opt_louvain(adata,label_key='cell_type',cluster_key='cluster_key',plot=False,inplace=True,force=True,verbose = False)\n",
      "\n",
      "\n",
      " 33%|███▎      | 2/6 [04:21<09:18, 139.58s/it]\u001b[A\u001b[A"
     ]
    },
    {
     "name": "stdout",
     "output_type": "stream",
     "text": [
      "Delta: 0.0017474983394863575  Loss: 0.07090739141953385\n",
      "Delta: 0.005725136708615405  Loss: 0.0705853306318801\n",
      "Delta: 0.015561265361571305  Loss: 0.06868392500064453\n",
      "Delta: 0.017315613616842078  Loss: 0.06493050189732343\n",
      "Delta: 0.007505499896572058  Loss: 0.06377756526309213\n",
      "Delta: 0.006093875418722111  Loss: 0.06326695190313153\n",
      "Delta: 0.006329814482005438  Loss: 0.06279494464478325\n",
      "Delta: 0.005579778575640958  Loss: 0.06231007050426838\n",
      "Delta: 0.005239129980448512  Loss: 0.06190306776257567\n",
      "Delta: 0.0056161354882868315  Loss: 0.06149300666876772\n",
      "Delta: 0.004113889679175952  Loss: 0.06116341654401351\n",
      "Delta: 0.002252500464728735  Loss: 0.06100275406788877\n",
      "Delta: 0.0019687748635504186  Loss: 0.060919844691462985\n",
      "Delta: 0.002320183179306344  Loss: 0.060832701485888076\n",
      "Delta: 0.0030589195478845925  Loss: 0.06070609351348862\n",
      "Delta: 0.003958805915120176  Loss: 0.06051784969197636\n",
      "Delta: 0.0034113286312364415  Loss: 0.06032261052093882\n",
      "Delta: 0.0016816605862663495  Loss: 0.06022311286884497\n",
      "Delta: 0.0007579835151814407  Loss: 0.06019799006739343\n",
      "Delta: 0.0004930891221080365  Loss: 0.06019645254953794\n",
      "Delta: 0.00041705032752888495  Loss: 0.06019945432578507\n",
      "Delta: 0.00040141349505867796  Loss: 0.06020262932999505\n",
      "Delta: 0.00041818303269534847  Loss: 0.060205247911818825\n",
      "Delta: 0.0004614898390349314  Loss: 0.060207269255731596\n",
      "Delta: 0.0005341598907170709  Loss: 0.06020868157087783\n",
      "Delta: 0.0006453860432932008  Loss: 0.06020931845886207\n",
      "Delta: 0.0008114491845649244  Loss: 0.06020870623875652\n",
      "Delta: 0.0010575708515511042  Loss: 0.06020577693680296\n",
      "Delta: 0.0014179583151621364  Loss: 0.060198283358701296\n",
      "Delta: 0.0019236968160247967  Loss: 0.060181758135350635\n",
      "Delta: 0.002548866933990584  Loss: 0.06014846887716295\n",
      "Delta: 0.0030767139049797487  Loss: 0.06008971954450941\n",
      "Delta: 0.0030090882628463515  Loss: 0.06000913139915359\n",
      "Delta: 0.0021151698574000347  Loss: 0.05993588136359251\n",
      "Delta: 0.0010793687149804377  Loss: 0.059894137298658445\n",
      "Delta: 0.0004592030574590018  Loss: 0.059877969664179034\n",
      "Delta: 0.0001931641078499358  Loss: 0.05987363579375065\n",
      "Delta: 9.370456654186118e-05  Loss: 0.05987340550511838\n",
      "Delta: 5.503214662572094e-05  Loss: 0.05987428111097011\n",
      "Delta: 3.638765851353089e-05  Loss: 0.0598752797350803\n",
      "Delta: 2.524207181650552e-05  Loss: 0.059876130092097864\n",
      "Delta: 1.7818690713250275e-05  Loss: 0.05987679018869575\n",
      "Delta: 1.2667204155016173e-05  Loss: 0.05987728336501753\n",
      "Delta: 9.035651515862001e-06  Loss: 0.05987764536751595\n",
      "Delta: 6.457618792041263e-06  Loss: 0.05987790876397078\n",
      "Delta: 4.6207129646365746e-06  Loss: 0.05987809953118446\n",
      "Delta: 3.3089773088543245e-06  Loss: 0.059878237339365134\n",
      "Delta: 2.370922943263521e-06  Loss: 0.05987833673587483\n",
      "converged at iter  47\n",
      "Elapsed time : 130.12879872322083 s\n"
     ]
    },
    {
     "name": "stderr",
     "output_type": "stream",
     "text": [
      "/tmp/ipykernel_3530284/1559086866.py:26: DeprecationWarning: Call to deprecated function (or staticmethod) opt_louvain.\n",
      "  scib.cl.opt_louvain(adata,label_key='cell_type',cluster_key='cluster_key',plot=False,inplace=True,force=True,verbose = False)\n",
      "\n",
      "\n",
      " 50%|█████     | 3/6 [07:01<07:26, 148.85s/it]\u001b[A\u001b[A"
     ]
    },
    {
     "name": "stdout",
     "output_type": "stream",
     "text": [
      "Delta: 0.0005657789887845075  Loss: 0.07092454351849926\n",
      "Delta: 0.0001960503176801162  Loss: 0.07091726850935776\n",
      "Delta: 0.00015917585837454487  Loss: 0.07091061358769365\n",
      "Delta: 0.00014821739925952986  Loss: 0.07090362117698773\n",
      "Delta: 0.00014822695722806526  Loss: 0.07089570419639825\n",
      "Delta: 0.00015468436665163067  Loss: 0.07088633545062571\n",
      "Delta: 0.0001659885450531162  Loss: 0.0708749585255145\n",
      "Delta: 0.00018134309145550508  Loss: 0.07086095247424504\n",
      "Delta: 0.00019983121198775778  Loss: 0.07084365429180904\n",
      "Delta: 0.00021972448714818366  Loss: 0.07082247023794055\n",
      "Delta: 0.0002379028194753757  Loss: 0.07079711334814018\n",
      "Delta: 0.0002497686869353398  Loss: 0.07076795188135404\n",
      "Delta: 0.00025034293325926416  Loss: 0.07073630674260184\n",
      "Delta: 0.00023670069404530886  Loss: 0.0707043899186309\n",
      "Delta: 0.00021028526769351977  Loss: 0.07067470414846556\n",
      "Delta: 0.00017678725979152775  Loss: 0.07064919238863243\n",
      "Delta: 0.00014329482583366063  Loss: 0.07062871338422727\n",
      "Delta: 0.00011510087692420256  Loss: 0.07061310459264734\n",
      "Delta: 9.42990325409114e-05  Loss: 0.07060160089964682\n",
      "Delta: 8.025659694209978e-05  Loss: 0.07059325766578528\n",
      "Delta: 7.10051698052887e-05  Loss: 0.07058720912157339\n",
      "Delta: 6.455192300687593e-05  Loss: 0.07058276816954023\n",
      "Delta: 5.9507219823676865e-05  Loss: 0.07057943282845859\n",
      "Delta: 5.5101751758823425e-05  Loss: 0.0705768545369356\n",
      "Delta: 5.097954308544689e-05  Loss: 0.07057479884398747\n",
      "Delta: 4.700758549795265e-05  Loss: 0.07057311104140494\n",
      "Delta: 4.315750679455559e-05  Loss: 0.0705716899860224\n",
      "Delta: 3.944323537598166e-05  Loss: 0.07057046956116579\n",
      "Delta: 3.5891070874985506e-05  Loss: 0.07056940611994247\n",
      "Delta: 3.252643264896211e-05  Loss: 0.07056847023460654\n",
      "Delta: 2.936872808930996e-05  Loss: 0.0705676413977509\n",
      "Delta: 2.643003243685122e-05  Loss: 0.07056690468253657\n",
      "Delta: 2.371547180519144e-05  Loss: 0.07056624867220226\n",
      "Delta: 2.122428594009306e-05  Loss: 0.07056566419577232\n",
      "Delta: 1.8951077315365822e-05  Loss: 0.07056514356663882\n",
      "Delta: 1.6887015027621013e-05  Loss: 0.0705646801292443\n",
      "Delta: 1.5020893586141456e-05  Loss: 0.07056426799098883\n",
      "Delta: 1.3340013550051652e-05  Loss: 0.07056390186316748\n",
      "Delta: 1.1830884506673862e-05  Loss: 0.0705635769645422\n",
      "Delta: 1.0479766756021605e-05  Loss: 0.07056328895987019\n",
      "Delta: 9.27307440323755e-06  Loss: 0.07056303391727921\n",
      "Delta: 8.197663786821747e-06  Loss: 0.07056280827540572\n",
      "Delta: 7.241029773174855e-06  Loss: 0.07056260881539006\n",
      "Delta: 6.391429845478558e-06  Loss: 0.0705624326352469\n",
      "Delta: 5.637952910698853e-06  Loss: 0.07056227712548592\n",
      "Delta: 4.970546780541202e-06  Loss: 0.07056213994558272\n",
      "Delta: 4.38001557247536e-06  Loss: 0.07056201900125599\n",
      "Delta: 3.8579959185032875e-06  Loss: 0.07056191242265672\n",
      "Delta: 3.3969188832989027e-06  Loss: 0.0705618185436164\n",
      "converged at iter  48\n",
      "Elapsed time : 58.22914409637451 s\n"
     ]
    },
    {
     "name": "stderr",
     "output_type": "stream",
     "text": [
      "/tmp/ipykernel_3530284/1559086866.py:26: DeprecationWarning: Call to deprecated function (or staticmethod) opt_louvain.\n",
      "  scib.cl.opt_louvain(adata,label_key='cell_type',cluster_key='cluster_key',plot=False,inplace=True,force=True,verbose = False)\n",
      "\n",
      "\n",
      " 67%|██████▋   | 4/6 [08:26<04:06, 123.41s/it]\u001b[A\u001b[A"
     ]
    },
    {
     "name": "stdout",
     "output_type": "stream",
     "text": [
      "Delta: 0.0004130400653057807  Loss: 0.07092679587959924\n",
      "Delta: 5.2123421079177625e-05  Loss: 0.07092481242456158\n",
      "Delta: 1.9954179296398267e-05  Loss: 0.07092414361575605\n",
      "Delta: 8.565889464641743e-06  Loss: 0.07092388263616527\n",
      "Delta: 3.8784300065686604e-06  Loss: 0.07092377386224777\n",
      "Delta: 1.8017244490116333e-06  Loss: 0.0709237266174516\n",
      "converged at iter  5\n",
      "Elapsed time : 7.253448963165283 s\n"
     ]
    },
    {
     "name": "stderr",
     "output_type": "stream",
     "text": [
      "/tmp/ipykernel_3530284/1559086866.py:26: DeprecationWarning: Call to deprecated function (or staticmethod) opt_louvain.\n",
      "  scib.cl.opt_louvain(adata,label_key='cell_type',cluster_key='cluster_key',plot=False,inplace=True,force=True,verbose = False)\n",
      "\n",
      "\n",
      " 83%|████████▎ | 5/6 [09:00<01:31, 91.40s/it] \u001b[A\u001b[A"
     ]
    },
    {
     "name": "stdout",
     "output_type": "stream",
     "text": [
      "Delta: 0.00028961911357229704  Loss: 0.07092861747805765\n",
      "Delta: 3.2460591292117807e-06  Loss: 0.07092843272290611\n",
      "Delta: 2.3742233212654054e-07  Loss: 0.07092842343568699\n",
      "converged at iter  2\n",
      "Elapsed time : 3.861826181411743 s\n"
     ]
    },
    {
     "name": "stderr",
     "output_type": "stream",
     "text": [
      "/tmp/ipykernel_3530284/1559086866.py:26: DeprecationWarning: Call to deprecated function (or staticmethod) opt_louvain.\n",
      "  scib.cl.opt_louvain(adata,label_key='cell_type',cluster_key='cluster_key',plot=False,inplace=True,force=True,verbose = False)\n",
      "\n",
      "\n",
      "100%|██████████| 6/6 [09:32<00:00, 95.34s/it]\u001b[A\u001b[A\n",
      "\n",
      " 17%|█▋        | 1/6 [09:32<47:40, 572.02s/it]\u001b[A\n",
      "\n",
      "  0%|          | 0/6 [00:00<?, ?it/s]\u001b[A\u001b[A"
     ]
    },
    {
     "name": "stdout",
     "output_type": "stream",
     "text": [
      "Delta: 0.007903944950078368  Loss: 0.07178782778834969\n",
      "Delta: 0.02668227581901526  Loss: 0.07066986733311725\n",
      "Delta: 0.024007255377741777  Loss: 0.06703931610850296\n",
      "Delta: 0.025593494934060573  Loss: 0.06484669010690922\n",
      "Delta: 0.016241023802874493  Loss: 0.06348450877935258\n",
      "Delta: 0.015323450165899366  Loss: 0.06303294031332554\n",
      "Delta: 0.01131470113813523  Loss: 0.06262014995491025\n",
      "Delta: 0.007709258716721568  Loss: 0.06237270044842528\n",
      "Delta: 0.008123011582338895  Loss: 0.06224419836760614\n",
      "Delta: 0.007785110451024973  Loss: 0.062122366007478336\n",
      "Delta: 0.007001478685222056  Loss: 0.06202107799964804\n",
      "Delta: 0.003526840121703693  Loss: 0.06195866796911678\n",
      "Delta: 0.0024237504645208572  Loss: 0.06193463416764561\n",
      "Delta: 0.0027197495328474134  Loss: 0.06192477059566735\n",
      "Delta: 0.0038236231245107  Loss: 0.06191367537427023\n",
      "Delta: 0.006491594677318674  Loss: 0.06189188847831345\n",
      "Delta: 0.008334482916874683  Loss: 0.06183061583643746\n",
      "Delta: 0.005961256905579303  Loss: 0.06173869459022813\n",
      "Delta: 0.0026341133301061204  Loss: 0.06167810567294223\n",
      "Delta: 0.0019286993082393265  Loss: 0.06165687322978376\n",
      "Delta: 0.0018858764090445988  Loss: 0.06164781842118215\n",
      "Delta: 0.0023665945276781348  Loss: 0.06163968868561112\n",
      "Delta: 0.003995565880631551  Loss: 0.06162624877982148\n",
      "Delta: 0.006981010315801264  Loss: 0.061591493652099365\n",
      "Delta: 0.005455108129053661  Loss: 0.061528000047435936\n",
      "Delta: 0.00201149370072542  Loss: 0.06149167746277424\n",
      "Delta: 0.0013073302503678016  Loss: 0.061487488044852094\n",
      "Delta: 0.0007971636759015288  Loss: 0.061486295503827976\n",
      "Delta: 0.0005859191867661805  Loss: 0.061485034939975855\n",
      "Delta: 0.0006118849583710594  Loss: 0.061483374965182636\n",
      "Delta: 0.0007674205492067945  Loss: 0.06148106864796955\n",
      "Delta: 0.0010685490778611707  Loss: 0.061477592598638754\n",
      "Delta: 0.0016522614578798381  Loss: 0.06147165332124033\n",
      "Delta: 0.0027872942540618445  Loss: 0.06145982227109722\n",
      "Delta: 0.004443214512536564  Loss: 0.06143413783137914\n",
      "Delta: 0.0042188903860591875  Loss: 0.06139070669844325\n",
      "Delta: 0.001387367042888935  Loss: 0.061355325643728115\n",
      "Delta: 0.0004932223867117085  Loss: 0.06134401632310071\n",
      "Delta: 0.00046400429785799544  Loss: 0.0613407826942318\n",
      "Delta: 0.0005205106244889713  Loss: 0.06133841355630407\n",
      "Delta: 0.000637662424721424  Loss: 0.061335753045604846\n",
      "Delta: 0.0008306621853568947  Loss: 0.06133229343618719\n",
      "Delta: 0.0011324801804600832  Loss: 0.06132732740750896\n",
      "Delta: 0.0015862439299444992  Loss: 0.06131964196545492\n",
      "Delta: 0.002191180859046691  Loss: 0.06130728046307169\n",
      "Delta: 0.0027260326023780235  Loss: 0.0612881638615536\n",
      "Delta: 0.002606467669384879  Loss: 0.06126353556891201\n",
      "Delta: 0.001621734127869547  Loss: 0.061241345253183074\n",
      "Delta: 0.0006507119586626913  Loss: 0.06122868218438154\n",
      "Delta: 0.00020491425135646133  Loss: 0.06122383242336474\n",
      "Elapsed time : 41.93333029747009 s\n"
     ]
    },
    {
     "name": "stderr",
     "output_type": "stream",
     "text": [
      "/tmp/ipykernel_3530284/1559086866.py:26: DeprecationWarning: Call to deprecated function (or staticmethod) opt_louvain.\n",
      "  scib.cl.opt_louvain(adata,label_key='cell_type',cluster_key='cluster_key',plot=False,inplace=True,force=True,verbose = False)\n",
      "\n",
      "\n",
      " 17%|█▋        | 1/6 [01:11<05:58, 71.76s/it]\u001b[A\u001b[A"
     ]
    },
    {
     "name": "stdout",
     "output_type": "stream",
     "text": [
      "Delta: 0.0016313277351629103  Loss: 0.07182433959706218\n",
      "Delta: 0.0030909256473250334  Loss: 0.0717543245172142\n",
      "Delta: 0.007061263739973001  Loss: 0.0714170958619712\n",
      "Delta: 0.014327270784876611  Loss: 0.07045345911118761\n",
      "Delta: 0.011025115065663687  Loss: 0.06900230359571519\n",
      "Delta: 0.012009870260395147  Loss: 0.0681787198401955\n",
      "Delta: 0.005099397422650916  Loss: 0.06727536426677347\n",
      "Delta: 0.004039484741937432  Loss: 0.06701577936648122\n",
      "Delta: 0.006821773583019818  Loss: 0.06678476736343238\n",
      "Delta: 0.00462751004896931  Loss: 0.06645709296240723\n",
      "Delta: 0.0008780027411917705  Loss: 0.06630847194664076\n",
      "Delta: 0.0004980848915936313  Loss: 0.06627975828573537\n",
      "Delta: 0.0005141953893076759  Loss: 0.06626635221110556\n",
      "Delta: 0.0005982713482775502  Loss: 0.06625297757715107\n",
      "Delta: 0.0007542473944179955  Loss: 0.06623669247566524\n",
      "Delta: 0.0010122416666904649  Loss: 0.06621452179575849\n",
      "Delta: 0.0014201436952038069  Loss: 0.06618142918871157\n",
      "Delta: 0.0020108955173683187  Loss: 0.06612878175977593\n",
      "Delta: 0.0026511839049207  Loss: 0.0660454129277138\n",
      "Delta: 0.002796155752001084  Loss: 0.0659309455899684\n",
      "Delta: 0.0020102968605271616  Loss: 0.065816686844074\n",
      "Delta: 0.0010804381060797663  Loss: 0.06574004520650059\n",
      "Delta: 0.0007762653607793987  Loss: 0.06569946161719965\n",
      "Delta: 0.0008685499159570788  Loss: 0.06567376729010901\n",
      "Delta: 0.0011399860087501267  Loss: 0.06564779777270664\n",
      "Delta: 0.0016228736458411227  Loss: 0.06561081803014308\n",
      "Delta: 0.002392015228691731  Loss: 0.06554924499848294\n",
      "Delta: 0.003264757046308159  Loss: 0.06544508613510296\n",
      "Delta: 0.0032912002116770177  Loss: 0.06529954963238398\n",
      "Delta: 0.0019701329827764747  Loss: 0.06516734501118548\n",
      "Delta: 0.0009570948450032232  Loss: 0.06509249788635696\n",
      "Delta: 0.0009591023819453194  Loss: 0.06505333133342374\n",
      "Delta: 0.0013435398681116678  Loss: 0.06501777990880017\n",
      "Delta: 0.0019961467653772462  Loss: 0.06496510095463576\n",
      "Delta: 0.002935740654203562  Loss: 0.0648738067821123\n",
      "Delta: 0.003742264939691447  Loss: 0.06472204665888455\n",
      "Delta: 0.0034886722811581982  Loss: 0.0645248948328038\n",
      "Delta: 0.00255107221810236  Loss: 0.06435023600225104\n",
      "Delta: 0.0017227389481444752  Loss: 0.06423629716685436\n",
      "Delta: 0.0010161598169057089  Loss: 0.06417135705268756\n",
      "Delta: 0.0005303659746197429  Loss: 0.06413688487269595\n",
      "Delta: 0.0002574940484280383  Loss: 0.06411965524667673\n",
      "Delta: 0.00012062731039269124  Loss: 0.06411138990443574\n",
      "Delta: 5.567075779536303e-05  Loss: 0.06410751138676572\n",
      "Delta: 2.559411700643906e-05  Loss: 0.06410570875972546\n",
      "Delta: 1.1797507032044037e-05  Loss: 0.06410487304110407\n",
      "Delta: 5.477365627426636e-06  Loss: 0.06410448502773397\n",
      "Delta: 2.571756280088619e-06  Loss: 0.06410430419003482\n",
      "Delta: 1.225805207252148e-06  Loss: 0.06410421945241912\n",
      "converged at iter  48\n",
      "Elapsed time : 40.50186586380005 s\n"
     ]
    },
    {
     "name": "stderr",
     "output_type": "stream",
     "text": [
      "/tmp/ipykernel_3530284/1559086866.py:26: DeprecationWarning: Call to deprecated function (or staticmethod) opt_louvain.\n",
      "  scib.cl.opt_louvain(adata,label_key='cell_type',cluster_key='cluster_key',plot=False,inplace=True,force=True,verbose = False)\n",
      "\n",
      "\n",
      " 33%|███▎      | 2/6 [02:21<04:42, 70.55s/it]\u001b[A\u001b[A"
     ]
    },
    {
     "name": "stdout",
     "output_type": "stream",
     "text": [
      "Delta: 0.0008799019665426438  Loss: 0.07182994176031522\n",
      "Delta: 0.0006576949846255691  Loss: 0.07181542952861467\n",
      "Delta: 0.0007096805922349232  Loss: 0.07179619619954444\n",
      "Delta: 0.0009139264306980692  Loss: 0.07176627813045357\n",
      "Delta: 0.0013294211767662083  Loss: 0.07171162048845281\n",
      "Delta: 0.0020432664030006465  Loss: 0.07160115069395899\n",
      "Delta: 0.0036865852644278586  Loss: 0.07137905358831334\n",
      "Delta: 0.009081602917131691  Loss: 0.07084287969235657\n",
      "Delta: 0.005820612335941505  Loss: 0.0699465862519357\n",
      "Delta: 0.005795348735863346  Loss: 0.06942062461785099\n",
      "Delta: 0.004135026034532264  Loss: 0.06900817236966215\n",
      "Delta: 0.0015719314989360018  Loss: 0.06878402893468571\n",
      "Delta: 0.0006291490594852406  Loss: 0.0687073745301569\n",
      "Delta: 0.0006811496031475563  Loss: 0.06867564837094317\n",
      "Delta: 0.001076074899570446  Loss: 0.0686427363089939\n",
      "Delta: 0.0020773863928764762  Loss: 0.06857302020837713\n",
      "Delta: 0.004638795611114297  Loss: 0.06836259912094944\n",
      "Delta: 0.007197527658705949  Loss: 0.06778353537095345\n",
      "Delta: 0.002388260263900769  Loss: 0.06720582436175729\n",
      "Delta: 0.0002837058191712611  Loss: 0.06707453548399371\n",
      "Delta: 6.964352521790287e-05  Loss: 0.06706329182078967\n",
      "Delta: 2.0046167282942202e-05  Loss: 0.0670617053203523\n",
      "Delta: 6.046618434613473e-06  Loss: 0.06706134611573798\n",
      "Delta: 1.879947998717701e-06  Loss: 0.06706125168938254\n",
      "converged at iter  23\n",
      "Elapsed time : 18.87909722328186 s\n"
     ]
    },
    {
     "name": "stderr",
     "output_type": "stream",
     "text": [
      "/tmp/ipykernel_3530284/1559086866.py:26: DeprecationWarning: Call to deprecated function (or staticmethod) opt_louvain.\n",
      "  scib.cl.opt_louvain(adata,label_key='cell_type',cluster_key='cluster_key',plot=False,inplace=True,force=True,verbose = False)\n",
      "\n",
      "\n",
      " 50%|█████     | 3/6 [03:07<02:57, 59.19s/it]\u001b[A\u001b[A"
     ]
    },
    {
     "name": "stdout",
     "output_type": "stream",
     "text": [
      "Delta: 0.00025465874538891243  Loss: 0.071834808606389\n",
      "Delta: 2.7079733964560647e-05  Loss: 0.07183398608130673\n",
      "Delta: 4.623654061580912e-06  Loss: 0.07183385596847297\n",
      "Delta: 8.301530644066146e-07  Loss: 0.0718338338025463\n",
      "converged at iter  3\n",
      "Elapsed time : 2.775831699371338 s\n"
     ]
    },
    {
     "name": "stderr",
     "output_type": "stream",
     "text": [
      "/tmp/ipykernel_3530284/1559086866.py:26: DeprecationWarning: Call to deprecated function (or staticmethod) opt_louvain.\n",
      "  scib.cl.opt_louvain(adata,label_key='cell_type',cluster_key='cluster_key',plot=False,inplace=True,force=True,verbose = False)\n",
      "\n",
      "\n",
      " 67%|██████▋   | 4/6 [03:35<01:34, 47.16s/it]\u001b[A\u001b[A"
     ]
    },
    {
     "name": "stdout",
     "output_type": "stream",
     "text": [
      "Delta: 0.0001733100784325683  Loss: 0.07183544814813578\n",
      "Delta: 7.206631391567791e-06  Loss: 0.07183514154018694\n",
      "Delta: 6.109523958215038e-07  Loss: 0.07183511836896186\n",
      "converged at iter  2\n",
      "Elapsed time : 2.3521509170532227 s\n"
     ]
    },
    {
     "name": "stderr",
     "output_type": "stream",
     "text": [
      "/tmp/ipykernel_3530284/1559086866.py:26: DeprecationWarning: Call to deprecated function (or staticmethod) opt_louvain.\n",
      "  scib.cl.opt_louvain(adata,label_key='cell_type',cluster_key='cluster_key',plot=False,inplace=True,force=True,verbose = False)\n",
      "\n",
      "\n",
      " 83%|████████▎ | 5/6 [04:04<00:40, 40.56s/it]\u001b[A\u001b[A"
     ]
    },
    {
     "name": "stdout",
     "output_type": "stream",
     "text": [
      "Delta: 0.0001075475836340292  Loss: 0.07183596542442572\n",
      "Delta: 4.102775842502141e-07  Loss: 0.07183592008753015\n",
      "converged at iter  1\n",
      "Elapsed time : 1.5942778587341309 s\n"
     ]
    },
    {
     "name": "stderr",
     "output_type": "stream",
     "text": [
      "/tmp/ipykernel_3530284/1559086866.py:26: DeprecationWarning: Call to deprecated function (or staticmethod) opt_louvain.\n",
      "  scib.cl.opt_louvain(adata,label_key='cell_type',cluster_key='cluster_key',plot=False,inplace=True,force=True,verbose = False)\n",
      "\n",
      "\n",
      "100%|██████████| 6/6 [04:31<00:00, 45.29s/it]\u001b[A\u001b[A\n",
      "\n",
      " 33%|███▎      | 2/6 [14:03<26:21, 395.39s/it]\u001b[A\n",
      "\n",
      "  0%|          | 0/6 [00:00<?, ?it/s]\u001b[A\u001b[A"
     ]
    },
    {
     "name": "stdout",
     "output_type": "stream",
     "text": [
      "Delta: 0.007060355179834383  Loss: 0.07215304345489466\n",
      "Delta: 0.016938287327774807  Loss: 0.07173057152706452\n",
      "Delta: 0.02154419292794928  Loss: 0.07030424616199313\n",
      "Delta: 0.013638521182731988  Loss: 0.06904345759729166\n",
      "Delta: 0.020753325266250136  Loss: 0.06848318943933601\n",
      "Delta: 0.01450061555213789  Loss: 0.06765414578935698\n",
      "Delta: 0.002442850661169711  Loss: 0.06725909049494883\n",
      "Delta: 0.0005617962974305526  Loss: 0.06722297818067256\n",
      "Delta: 0.0002613146832213387  Loss: 0.06721906774122988\n",
      "Delta: 0.00016224025078821256  Loss: 0.0672180154268571\n",
      "Delta: 0.0001156605508500164  Loss: 0.06721746455644216\n",
      "Delta: 9.217740105491813e-05  Loss: 0.06721711952748326\n",
      "Delta: 8.015201327338437e-05  Loss: 0.06721687916438762\n",
      "Delta: 7.425247883706861e-05  Loss: 0.06721669397088345\n",
      "Delta: 7.204348742778013e-05  Loss: 0.06721653649033812\n",
      "Delta: 7.247968026395834e-05  Loss: 0.06721638987816966\n",
      "Delta: 7.521929307703928e-05  Loss: 0.06721624240427101\n",
      "Delta: 8.034204128544139e-05  Loss: 0.06721608436540125\n",
      "Delta: 8.827258787820784e-05  Loss: 0.06721590596224468\n",
      "Delta: 9.98298425149518e-05  Loss: 0.06721569534386322\n",
      "Delta: 0.00011639419384150284  Loss: 0.06721543614673417\n",
      "Delta: 0.00014024157784590737  Loss: 0.06721510361967824\n",
      "Delta: 0.00017516271082931625  Loss: 0.0672146576851379\n",
      "Delta: 0.00022758560847440875  Loss: 0.06721402953638514\n",
      "Delta: 0.0003084940683187298  Loss: 0.06721309449516194\n",
      "Delta: 0.00043595690790720096  Loss: 0.06721161647343979\n",
      "Delta: 0.0006341144920291644  Loss: 0.06720914469955552\n",
      "Delta: 0.000906203947534328  Loss: 0.0672049108832517\n",
      "Delta: 0.0011309636189968753  Loss: 0.06719820825299641\n",
      "Delta: 0.001034639493755021  Loss: 0.06719020028389996\n",
      "Delta: 0.0007015187184610173  Loss: 0.06718450255901741\n",
      "Delta: 0.0004985731601676863  Loss: 0.06718268729943239\n",
      "Delta: 0.00045056981967913566  Loss: 0.06718311025799563\n",
      "Delta: 0.0005156893777527664  Loss: 0.06718442650794107\n",
      "Delta: 0.0007442195026657449  Loss: 0.06718642280300226\n",
      "Delta: 0.0013956615414746965  Loss: 0.06718949447716992\n",
      "Delta: 0.0035767961638018477  Loss: 0.06719346301028793\n",
      "Delta: 0.008869029195494387  Loss: 0.06717790715621877\n",
      "Delta: 0.0019631593031006894  Loss: 0.06711156124302799\n",
      "Delta: 0.00028496223168368915  Loss: 0.06709792525154712\n",
      "Delta: 0.00011476935356763052  Loss: 0.06709726417931706\n",
      "Delta: 6.197109896573606e-05  Loss: 0.0670970427714568\n",
      "Delta: 3.895807472993626e-05  Loss: 0.06709695063200369\n",
      "converged at iter  42\n",
      "Elapsed time : 29.154328107833862 s\n"
     ]
    },
    {
     "name": "stderr",
     "output_type": "stream",
     "text": [
      "/tmp/ipykernel_3530284/1559086866.py:26: DeprecationWarning: Call to deprecated function (or staticmethod) opt_louvain.\n",
      "  scib.cl.opt_louvain(adata,label_key='cell_type',cluster_key='cluster_key',plot=False,inplace=True,force=True,verbose = False)\n",
      "\n",
      "\n",
      " 17%|█▋        | 1/6 [00:57<04:45, 57.05s/it]\u001b[A\u001b[A"
     ]
    },
    {
     "name": "stdout",
     "output_type": "stream",
     "text": [
      "Delta: 0.0013853476137718661  Loss: 0.07218163017165849\n",
      "Delta: 0.0012691551104023105  Loss: 0.07216128543196466\n",
      "Delta: 0.0015432058609464053  Loss: 0.07212816213522974\n",
      "Delta: 0.00215594375576022  Loss: 0.0720691693520909\n",
      "Delta: 0.004629003232814336  Loss: 0.07194631877774904\n",
      "Delta: 0.010288649673695138  Loss: 0.07153817708471583\n",
      "Delta: 0.0033339978659647405  Loss: 0.0709164593323414\n",
      "Delta: 0.00365080143221527  Loss: 0.07075992319290625\n",
      "Delta: 0.004320802351548089  Loss: 0.07061436619035866\n",
      "Delta: 0.0040118768115327925  Loss: 0.07042869571404234\n",
      "Delta: 0.00206487135669169  Loss: 0.07027407398746728\n",
      "Delta: 0.0006951771976137005  Loss: 0.07020331659647994\n",
      "Delta: 0.00056193327596813  Loss: 0.07018007896048332\n",
      "Delta: 0.0008635693580340266  Loss: 0.07016597578625833\n",
      "Delta: 0.0016513398479948887  Loss: 0.07014087732424454\n",
      "Delta: 0.0038426862011795237  Loss: 0.0700632440269582\n",
      "Delta: 0.007823524056032599  Loss: 0.06978537829335374\n",
      "Delta: 0.0033895739532510383  Loss: 0.06933010714806279\n",
      "Delta: 0.0005051270054422489  Loss: 0.06917338858539551\n",
      "Delta: 0.00023027978574760005  Loss: 0.06916174178621823\n",
      "Delta: 0.00012297056659872928  Loss: 0.06915846630679737\n",
      "Delta: 6.884341143637662e-05  Loss: 0.06915689371372905\n",
      "Delta: 3.92303941688696e-05  Loss: 0.06915604991978153\n",
      "Delta: 2.2533265224532653e-05  Loss: 0.06915557791339035\n",
      "Delta: 1.2994647532198285e-05  Loss: 0.06915530896639183\n",
      "Delta: 7.510130739881052e-06  Loss: 0.06915515439151669\n",
      "Delta: 4.345700322346596e-06  Loss: 0.0691550651785601\n",
      "converged at iter  26\n",
      "Elapsed time : 16.67959976196289 s\n"
     ]
    },
    {
     "name": "stderr",
     "output_type": "stream",
     "text": [
      "/tmp/ipykernel_3530284/1559086866.py:26: DeprecationWarning: Call to deprecated function (or staticmethod) opt_louvain.\n",
      "  scib.cl.opt_louvain(adata,label_key='cell_type',cluster_key='cluster_key',plot=False,inplace=True,force=True,verbose = False)\n",
      "\n",
      "\n",
      " 33%|███▎      | 2/6 [01:37<03:08, 47.14s/it]\u001b[A\u001b[A"
     ]
    },
    {
     "name": "stdout",
     "output_type": "stream",
     "text": [
      "Delta: 0.000732276869426458  Loss: 0.07218584641217425\n",
      "Delta: 0.0002822309197543319  Loss: 0.07218114776715827\n",
      "Delta: 0.0001332073536533933  Loss: 0.07217876892184716\n",
      "Delta: 6.684716437347609e-05  Loss: 0.07217757569288993\n",
      "Delta: 3.444164028917251e-05  Loss: 0.07217696614639596\n",
      "Delta: 1.805507712745794e-05  Loss: 0.07217665037970623\n",
      "Delta: 9.613492908811262e-06  Loss: 0.07217648511491986\n",
      "Delta: 5.1989930090887285e-06  Loss: 0.07217639787371899\n",
      "converged at iter  7\n",
      "Elapsed time : 5.105974912643433 s\n"
     ]
    },
    {
     "name": "stderr",
     "output_type": "stream",
     "text": [
      "/tmp/ipykernel_3530284/1559086866.py:26: DeprecationWarning: Call to deprecated function (or staticmethod) opt_louvain.\n",
      "  scib.cl.opt_louvain(adata,label_key='cell_type',cluster_key='cluster_key',plot=False,inplace=True,force=True,verbose = False)\n",
      "\n",
      "\n",
      " 50%|█████     | 3/6 [02:07<01:58, 39.37s/it]\u001b[A\u001b[A"
     ]
    },
    {
     "name": "stdout",
     "output_type": "stream",
     "text": [
      "Delta: 0.00019049562019785455  Loss: 0.0721895002473274\n",
      "Delta: 1.2044757369422626e-05  Loss: 0.07218923672778749\n",
      "Delta: 1.0236829487885504e-06  Loss: 0.07218921427289401\n",
      "converged at iter  2\n",
      "Elapsed time : 2.4183316230773926 s\n"
     ]
    },
    {
     "name": "stderr",
     "output_type": "stream",
     "text": [
      "/tmp/ipykernel_3530284/1559086866.py:26: DeprecationWarning: Call to deprecated function (or staticmethod) opt_louvain.\n",
      "  scib.cl.opt_louvain(adata,label_key='cell_type',cluster_key='cluster_key',plot=False,inplace=True,force=True,verbose = False)\n",
      "\n",
      "\n",
      " 67%|██████▋   | 4/6 [02:34<01:09, 34.56s/it]\u001b[A\u001b[A"
     ]
    },
    {
     "name": "stdout",
     "output_type": "stream",
     "text": [
      "Delta: 0.0001200248748586445  Loss: 0.07218998022164944\n",
      "Delta: 3.2117304279939365e-06  Loss: 0.07218988774841523\n",
      "converged at iter  1\n",
      "Elapsed time : 1.5134766101837158 s\n"
     ]
    },
    {
     "name": "stderr",
     "output_type": "stream",
     "text": [
      "/tmp/ipykernel_3530284/1559086866.py:26: DeprecationWarning: Call to deprecated function (or staticmethod) opt_louvain.\n",
      "  scib.cl.opt_louvain(adata,label_key='cell_type',cluster_key='cluster_key',plot=False,inplace=True,force=True,verbose = False)\n",
      "\n",
      "\n",
      " 83%|████████▎ | 5/6 [03:02<00:31, 31.99s/it]\u001b[A\u001b[A"
     ]
    },
    {
     "name": "stdout",
     "output_type": "stream",
     "text": [
      "Delta: 6.30543750854817e-05  Loss: 0.07219036844341752\n",
      "Delta: 1.8224306680455303e-07  Loss: 0.07219035616323304\n",
      "converged at iter  1\n",
      "Elapsed time : 1.6435258388519287 s\n"
     ]
    },
    {
     "name": "stderr",
     "output_type": "stream",
     "text": [
      "/tmp/ipykernel_3530284/1559086866.py:26: DeprecationWarning: Call to deprecated function (or staticmethod) opt_louvain.\n",
      "  scib.cl.opt_louvain(adata,label_key='cell_type',cluster_key='cluster_key',plot=False,inplace=True,force=True,verbose = False)\n",
      "\n",
      "\n",
      "100%|██████████| 6/6 [03:27<00:00, 34.58s/it]\u001b[A\u001b[A\n",
      "\n",
      " 50%|█████     | 3/6 [17:31<15:28, 309.59s/it]\u001b[A\n",
      "\n",
      "  0%|          | 0/6 [00:00<?, ?it/s]\u001b[A\u001b[A"
     ]
    },
    {
     "name": "stdout",
     "output_type": "stream",
     "text": [
      "Delta: 0.008237443407745342  Loss: 0.07249889146675187\n",
      "Delta: 0.012335961339644947  Loss: 0.07237031284433983\n",
      "Delta: 0.010512633665579897  Loss: 0.07214668252696035\n",
      "Delta: 0.005674154246435077  Loss: 0.0719976126910051\n",
      "Delta: 0.00029450988820961576  Loss: 0.07194222888697568\n",
      "Delta: 9.053033351300625e-05  Loss: 0.071940506166499\n",
      "Delta: 4.624929852819664e-05  Loss: 0.07194037800258513\n",
      "Delta: 2.8365711502115936e-05  Loss: 0.07194033374314733\n",
      "converged at iter  7\n",
      "Elapsed time : 5.071614742279053 s\n"
     ]
    },
    {
     "name": "stderr",
     "output_type": "stream",
     "text": [
      "/tmp/ipykernel_3530284/1559086866.py:26: DeprecationWarning: Call to deprecated function (or staticmethod) opt_louvain.\n",
      "  scib.cl.opt_louvain(adata,label_key='cell_type',cluster_key='cluster_key',plot=False,inplace=True,force=True,verbose = False)\n",
      "\n",
      "\n",
      " 17%|█▋        | 1/6 [00:32<02:43, 32.62s/it]\u001b[A\u001b[A"
     ]
    },
    {
     "name": "stdout",
     "output_type": "stream",
     "text": [
      "Delta: 0.0013365332652679062  Loss: 0.07253087153829449\n",
      "Delta: 0.00025931344040749  Loss: 0.07252800537058976\n",
      "Delta: 6.104690801433502e-05  Loss: 0.07252739119869898\n",
      "Delta: 1.5353802898707094e-05  Loss: 0.07252725174444916\n",
      "Delta: 4.018535816853425e-06  Loss: 0.07252721864073594\n",
      "converged at iter  4\n",
      "Elapsed time : 3.051743984222412 s\n"
     ]
    },
    {
     "name": "stderr",
     "output_type": "stream",
     "text": [
      "/tmp/ipykernel_3530284/1559086866.py:26: DeprecationWarning: Call to deprecated function (or staticmethod) opt_louvain.\n",
      "  scib.cl.opt_louvain(adata,label_key='cell_type',cluster_key='cluster_key',plot=False,inplace=True,force=True,verbose = False)\n",
      "\n",
      "\n",
      " 33%|███▎      | 2/6 [01:02<02:03, 30.98s/it]\u001b[A\u001b[A"
     ]
    },
    {
     "name": "stdout",
     "output_type": "stream",
     "text": [
      "Delta: 0.0006743172268785222  Loss: 0.07253493119079836\n",
      "Delta: 5.508932451116372e-05  Loss: 0.07253425574579321\n",
      "Delta: 5.054221831569898e-06  Loss: 0.07253419746761985\n",
      "converged at iter  2\n",
      "Elapsed time : 2.441649913787842 s\n"
     ]
    },
    {
     "name": "stderr",
     "output_type": "stream",
     "text": [
      "/tmp/ipykernel_3530284/1559086866.py:26: DeprecationWarning: Call to deprecated function (or staticmethod) opt_louvain.\n",
      "  scib.cl.opt_louvain(adata,label_key='cell_type',cluster_key='cluster_key',plot=False,inplace=True,force=True,verbose = False)\n",
      "\n",
      "\n",
      " 50%|█████     | 3/6 [01:29<01:27, 29.18s/it]\u001b[A\u001b[A"
     ]
    },
    {
     "name": "stdout",
     "output_type": "stream",
     "text": [
      "Delta: 0.00014583825226162616  Loss: 0.07253833120590136\n",
      "Delta: 2.278485649043066e-06  Loss: 0.07253830367956449\n",
      "converged at iter  1\n",
      "Elapsed time : 1.436812400817871 s\n"
     ]
    },
    {
     "name": "stderr",
     "output_type": "stream",
     "text": [
      "/tmp/ipykernel_3530284/1559086866.py:26: DeprecationWarning: Call to deprecated function (or staticmethod) opt_louvain.\n",
      "  scib.cl.opt_louvain(adata,label_key='cell_type',cluster_key='cluster_key',plot=False,inplace=True,force=True,verbose = False)\n",
      "\n",
      "\n",
      " 67%|██████▋   | 4/6 [01:55<00:56, 28.03s/it]\u001b[A\u001b[A"
     ]
    },
    {
     "name": "stdout",
     "output_type": "stream",
     "text": [
      "Delta: 7.821021585595462e-05  Loss: 0.0725387711049037\n",
      "Delta: 6.062090143837065e-07  Loss: 0.07253876418910182\n",
      "converged at iter  1\n",
      "Elapsed time : 1.533705234527588 s\n"
     ]
    },
    {
     "name": "stderr",
     "output_type": "stream",
     "text": [
      "/tmp/ipykernel_3530284/1559086866.py:26: DeprecationWarning: Call to deprecated function (or staticmethod) opt_louvain.\n",
      "  scib.cl.opt_louvain(adata,label_key='cell_type',cluster_key='cluster_key',plot=False,inplace=True,force=True,verbose = False)\n",
      "\n",
      "\n",
      " 83%|████████▎ | 5/6 [02:22<00:27, 27.70s/it]\u001b[A\u001b[A"
     ]
    },
    {
     "name": "stdout",
     "output_type": "stream",
     "text": [
      "Delta: 2.3696134407946176e-05  Loss: 0.07253912590157098\n",
      "Delta: 3.441706049060457e-08  Loss: 0.0725391256271116\n",
      "converged at iter  1\n",
      "Elapsed time : 1.577416181564331 s\n"
     ]
    },
    {
     "name": "stderr",
     "output_type": "stream",
     "text": [
      "/tmp/ipykernel_3530284/1559086866.py:26: DeprecationWarning: Call to deprecated function (or staticmethod) opt_louvain.\n",
      "  scib.cl.opt_louvain(adata,label_key='cell_type',cluster_key='cluster_key',plot=False,inplace=True,force=True,verbose = False)\n",
      "\n",
      "\n",
      "100%|██████████| 6/6 [02:49<00:00, 28.29s/it]\u001b[A\u001b[A\n",
      "\n",
      " 67%|██████▋   | 4/6 [20:21<08:28, 254.38s/it]\u001b[A\n",
      "\n",
      "  0%|          | 0/6 [00:00<?, ?it/s]\u001b[A\u001b[A"
     ]
    },
    {
     "name": "stdout",
     "output_type": "stream",
     "text": [
      "Delta: 0.008493135990848475  Loss: 0.07254358226318885\n",
      "Delta: 0.008727951741550173  Loss: 0.07247598224127133\n",
      "Delta: 0.005080682042544277  Loss: 0.07239752290163631\n",
      "Delta: 0.003126666535274729  Loss: 0.07235462005231559\n",
      "Delta: 0.002708900990146808  Loss: 0.07233477575175735\n",
      "Delta: 0.0021508492006319874  Loss: 0.07231679064158258\n",
      "Delta: 0.001513833205051386  Loss: 0.07230178642346718\n",
      "Delta: 0.0009392995012560215  Loss: 0.07229108558926631\n",
      "Delta: 0.0005269480475278164  Loss: 0.07228445336709506\n",
      "Delta: 0.00027665055453857736  Loss: 0.07228074703118205\n",
      "Delta: 0.0001397983008222907  Loss: 0.07227880697187347\n",
      "Delta: 6.922416650786345e-05  Loss: 0.07227782832528853\n",
      "Delta: 3.3926379573630705e-05  Loss: 0.07227734417427552\n",
      "Delta: 1.6542342418615298e-05  Loss: 0.07227710700489302\n",
      "Delta: 8.045778602284276e-06  Loss: 0.07227699138877702\n",
      "Delta: 3.908487523280826e-06  Loss: 0.07227693516233458\n",
      "converged at iter  15\n",
      "Elapsed time : 11.083633422851562 s\n"
     ]
    },
    {
     "name": "stderr",
     "output_type": "stream",
     "text": [
      "/tmp/ipykernel_3530284/1559086866.py:26: DeprecationWarning: Call to deprecated function (or staticmethod) opt_louvain.\n",
      "  scib.cl.opt_louvain(adata,label_key='cell_type',cluster_key='cluster_key',plot=False,inplace=True,force=True,verbose = False)\n",
      "\n",
      "\n",
      " 17%|█▋        | 1/6 [00:36<03:03, 36.65s/it]\u001b[A\u001b[A"
     ]
    },
    {
     "name": "stdout",
     "output_type": "stream",
     "text": [
      "Delta: 0.0013414526889739017  Loss: 0.0725765951816454\n",
      "Delta: 0.00013072375717812078  Loss: 0.07257521969183817\n",
      "Delta: 1.5157986372364316e-05  Loss: 0.0725750811589963\n",
      "Delta: 1.8608167245679105e-06  Loss: 0.07257506604367622\n",
      "converged at iter  3\n",
      "Elapsed time : 3.4547269344329834 s\n"
     ]
    },
    {
     "name": "stderr",
     "output_type": "stream",
     "text": [
      "/tmp/ipykernel_3530284/1559086866.py:26: DeprecationWarning: Call to deprecated function (or staticmethod) opt_louvain.\n",
      "  scib.cl.opt_louvain(adata,label_key='cell_type',cluster_key='cluster_key',plot=False,inplace=True,force=True,verbose = False)\n",
      "\n",
      "\n",
      " 33%|███▎      | 2/6 [01:06<02:09, 32.37s/it]\u001b[A\u001b[A"
     ]
    },
    {
     "name": "stdout",
     "output_type": "stream",
     "text": [
      "Delta: 0.0006719143516847219  Loss: 0.07258069986697127\n",
      "Delta: 2.764947177122232e-05  Loss: 0.0725803738413614\n",
      "Delta: 1.265637137363337e-06  Loss: 0.07258036007693844\n",
      "converged at iter  2\n",
      "Elapsed time : 2.3470113277435303 s\n"
     ]
    },
    {
     "name": "stderr",
     "output_type": "stream",
     "text": [
      "/tmp/ipykernel_3530284/1559086866.py:26: DeprecationWarning: Call to deprecated function (or staticmethod) opt_louvain.\n",
      "  scib.cl.opt_louvain(adata,label_key='cell_type',cluster_key='cluster_key',plot=False,inplace=True,force=True,verbose = False)\n",
      "\n",
      "\n",
      " 50%|█████     | 3/6 [01:34<01:31, 30.51s/it]\u001b[A\u001b[A"
     ]
    },
    {
     "name": "stdout",
     "output_type": "stream",
     "text": [
      "Delta: 0.00014102122945595444  Loss: 0.07258411739031914\n",
      "Delta: 1.1363278711009863e-06  Loss: 0.0725841049814731\n",
      "converged at iter  1\n",
      "Elapsed time : 1.5650553703308105 s\n"
     ]
    },
    {
     "name": "stderr",
     "output_type": "stream",
     "text": [
      "/tmp/ipykernel_3530284/1559086866.py:26: DeprecationWarning: Call to deprecated function (or staticmethod) opt_louvain.\n",
      "  scib.cl.opt_louvain(adata,label_key='cell_type',cluster_key='cluster_key',plot=False,inplace=True,force=True,verbose = False)\n",
      "\n",
      "\n",
      " 67%|██████▋   | 4/6 [02:01<00:58, 29.27s/it]\u001b[A\u001b[A"
     ]
    },
    {
     "name": "stdout",
     "output_type": "stream",
     "text": [
      "Delta: 7.328244199039763e-05  Loss: 0.07258455833383665\n",
      "Delta: 3.0216575520395735e-07  Loss: 0.07258455552872135\n",
      "converged at iter  1\n",
      "Elapsed time : 1.6437547206878662 s\n"
     ]
    },
    {
     "name": "stderr",
     "output_type": "stream",
     "text": [
      "/tmp/ipykernel_3530284/1559086866.py:26: DeprecationWarning: Call to deprecated function (or staticmethod) opt_louvain.\n",
      "  scib.cl.opt_louvain(adata,label_key='cell_type',cluster_key='cluster_key',plot=False,inplace=True,force=True,verbose = False)\n",
      "\n",
      "\n",
      " 83%|████████▎ | 5/6 [02:30<00:29, 29.01s/it]\u001b[A\u001b[A"
     ]
    },
    {
     "name": "stdout",
     "output_type": "stream",
     "text": [
      "Delta: 1.870853911672432e-05  Loss: 0.07258491378405348\n",
      "Delta: 1.7158192824923795e-08  Loss: 0.0725849137748265\n",
      "converged at iter  1\n",
      "Elapsed time : 1.815934658050537 s\n"
     ]
    },
    {
     "name": "stderr",
     "output_type": "stream",
     "text": [
      "/tmp/ipykernel_3530284/1559086866.py:26: DeprecationWarning: Call to deprecated function (or staticmethod) opt_louvain.\n",
      "  scib.cl.opt_louvain(adata,label_key='cell_type',cluster_key='cluster_key',plot=False,inplace=True,force=True,verbose = False)\n",
      "\n",
      "\n",
      "100%|██████████| 6/6 [03:00<00:00, 30.06s/it]\u001b[A\u001b[A\n",
      "\n",
      " 83%|████████▎ | 5/6 [23:21<03:47, 227.68s/it]\u001b[A\n",
      "\n",
      "  0%|          | 0/6 [00:00<?, ?it/s]\u001b[A\u001b[A"
     ]
    },
    {
     "name": "stdout",
     "output_type": "stream",
     "text": [
      "Delta: 0.008705473574107442  Loss: 0.07257933730356102\n",
      "Delta: 0.0021599777323156578  Loss: 0.07256685606718848\n",
      "Delta: 0.0007705026758694327  Loss: 0.07256349847644779\n",
      "Delta: 0.0002852267071993539  Loss: 0.07256237582339069\n",
      "Delta: 0.00010526462023250563  Loss: 0.07256197175634876\n",
      "Delta: 3.873326948582076e-05  Loss: 0.07256182393216731\n",
      "Delta: 1.4233393499293536e-05  Loss: 0.07256176968539169\n",
      "converged at iter  6\n",
      "Elapsed time : 4.411942481994629 s\n"
     ]
    },
    {
     "name": "stderr",
     "output_type": "stream",
     "text": [
      "/tmp/ipykernel_3530284/1559086866.py:26: DeprecationWarning: Call to deprecated function (or staticmethod) opt_louvain.\n",
      "  scib.cl.opt_louvain(adata,label_key='cell_type',cluster_key='cluster_key',plot=False,inplace=True,force=True,verbose = False)\n",
      "\n",
      "\n",
      " 17%|█▋        | 1/6 [00:28<02:20, 28.17s/it]\u001b[A\u001b[A"
     ]
    },
    {
     "name": "stdout",
     "output_type": "stream",
     "text": [
      "Delta: 0.0013469013182309223  Loss: 0.07261324723128684\n",
      "Delta: 2.6307339281861043e-05  Loss: 0.07261298112974512\n",
      "Delta: 6.01882329643634e-07  Loss: 0.07261297603147003\n",
      "converged at iter  2\n",
      "Elapsed time : 2.026740312576294 s\n"
     ]
    },
    {
     "name": "stderr",
     "output_type": "stream",
     "text": [
      "/tmp/ipykernel_3530284/1559086866.py:26: DeprecationWarning: Call to deprecated function (or staticmethod) opt_louvain.\n",
      "  scib.cl.opt_louvain(adata,label_key='cell_type',cluster_key='cluster_key',plot=False,inplace=True,force=True,verbose = False)\n",
      "\n",
      "\n",
      " 33%|███▎      | 2/6 [00:55<01:49, 27.41s/it]\u001b[A\u001b[A"
     ]
    },
    {
     "name": "stdout",
     "output_type": "stream",
     "text": [
      "Delta: 0.0006707084383078111  Loss: 0.0726173972326647\n",
      "Delta: 5.550714807186125e-06  Loss: 0.07261733375296928\n",
      "converged at iter  1\n",
      "Elapsed time : 1.509352207183838 s\n"
     ]
    },
    {
     "name": "stderr",
     "output_type": "stream",
     "text": [
      "/tmp/ipykernel_3530284/1559086866.py:26: DeprecationWarning: Call to deprecated function (or staticmethod) opt_louvain.\n",
      "  scib.cl.opt_louvain(adata,label_key='cell_type',cluster_key='cluster_key',plot=False,inplace=True,force=True,verbose = False)\n",
      "\n",
      "\n",
      " 50%|█████     | 3/6 [01:21<01:21, 27.06s/it]\u001b[A\u001b[A"
     ]
    },
    {
     "name": "stdout",
     "output_type": "stream",
     "text": [
      "Delta: 0.00013730083480022252  Loss: 0.07262083602910825\n",
      "Delta: 2.2695901129166203e-07  Loss: 0.07262083375789949\n",
      "converged at iter  1\n",
      "Elapsed time : 1.185351848602295 s\n"
     ]
    },
    {
     "name": "stderr",
     "output_type": "stream",
     "text": [
      "/tmp/ipykernel_3530284/1559086866.py:26: DeprecationWarning: Call to deprecated function (or staticmethod) opt_louvain.\n",
      "  scib.cl.opt_louvain(adata,label_key='cell_type',cluster_key='cluster_key',plot=False,inplace=True,force=True,verbose = False)\n",
      "\n",
      "\n",
      " 67%|██████▋   | 4/6 [01:46<00:52, 26.02s/it]\u001b[A\u001b[A"
     ]
    },
    {
     "name": "stdout",
     "output_type": "stream",
     "text": [
      "Delta: 6.940333324564298e-05  Loss: 0.07262127871257046\n",
      "Delta: 6.032431991668988e-08  Loss: 0.07262127825404154\n",
      "converged at iter  1\n",
      "Elapsed time : 1.2832374572753906 s\n"
     ]
    },
    {
     "name": "stderr",
     "output_type": "stream",
     "text": [
      "/tmp/ipykernel_3530284/1559086866.py:26: DeprecationWarning: Call to deprecated function (or staticmethod) opt_louvain.\n",
      "  scib.cl.opt_louvain(adata,label_key='cell_type',cluster_key='cluster_key',plot=False,inplace=True,force=True,verbose = False)\n",
      "\n",
      "\n",
      " 83%|████████▎ | 5/6 [02:13<00:26, 26.50s/it]\u001b[A\u001b[A"
     ]
    },
    {
     "name": "stdout",
     "output_type": "stream",
     "text": [
      "Delta: 1.4725874362081467e-05  Loss: 0.07262163540902197\n",
      "Delta: 3.425997267119709e-09  Loss: 0.07262163542744168\n",
      "converged at iter  1\n",
      "Elapsed time : 1.1726930141448975 s\n"
     ]
    },
    {
     "name": "stderr",
     "output_type": "stream",
     "text": [
      "/tmp/ipykernel_3530284/1559086866.py:26: DeprecationWarning: Call to deprecated function (or staticmethod) opt_louvain.\n",
      "  scib.cl.opt_louvain(adata,label_key='cell_type',cluster_key='cluster_key',plot=False,inplace=True,force=True,verbose = False)\n",
      "\n",
      "\n",
      "100%|██████████| 6/6 [02:40<00:00, 26.79s/it]\u001b[A\u001b[A\n",
      "\n",
      "100%|██████████| 6/6 [26:02<00:00, 260.35s/it]\u001b[A\n",
      " 60%|██████    | 3/5 [2:14:31<1:22:48, 2484.27s/it]\n",
      "  0%|          | 0/6 [00:00<?, ?it/s]\u001b[A\n",
      "\n",
      "  0%|          | 0/6 [00:00<?, ?it/s]\u001b[A\u001b[A"
     ]
    },
    {
     "name": "stdout",
     "output_type": "stream",
     "text": [
      "Delta: 0.007490074233276826  Loss: 0.0735996140221356\n",
      "Delta: 0.03934035124384718  Loss: 0.0705458667109347\n",
      "Delta: 0.036816152502967256  Loss: 0.06403696821873361\n",
      "Delta: 0.035017555630400536  Loss: 0.06077554093176857\n",
      "Delta: 0.037450118564508215  Loss: 0.058512934331186414\n",
      "Delta: 0.049192009351772384  Loss: 0.055681042336321804\n",
      "Delta: 0.03784122424734701  Loss: 0.053210967602394826\n",
      "Delta: 0.012695814113346988  Loss: 0.052307572015466305\n",
      "Delta: 0.004461086240534791  Loss: 0.05222214904875083\n",
      "Delta: 0.002189859680526781  Loss: 0.05220838003962969\n",
      "Delta: 0.001438430519558121  Loss: 0.05220328458065221\n",
      "Delta: 0.0009713489724620143  Loss: 0.052200338205945246\n",
      "Delta: 0.0007040246180326396  Loss: 0.05219868459264109\n",
      "Delta: 0.0005644218578405748  Loss: 0.05219777045766759\n",
      "Delta: 0.00047398603840787657  Loss: 0.052197268064772456\n",
      "Delta: 0.0004472816199607037  Loss: 0.052197011978181856\n",
      "Delta: 0.000483511979714058  Loss: 0.052196878429226753\n",
      "Delta: 0.0006296753318979602  Loss: 0.05219677758137217\n",
      "Delta: 0.0010188795707324057  Loss: 0.05219642695627632\n",
      "Delta: 0.0017757415706293068  Loss: 0.052194485121439066\n",
      "Delta: 0.001969294206104505  Loss: 0.05218862155806869\n",
      "Delta: 0.000933005298568914  Loss: 0.052183578972029514\n",
      "Delta: 0.0006632316080962974  Loss: 0.05218157274301364\n",
      "Delta: 0.0006303041820635756  Loss: 0.05217990438424963\n"
     ]
    },
    {
     "name": "stderr",
     "output_type": "stream",
     "text": [
      "/dss/dsshome1/01/di93bur/miniconda3/envs/moscot_env_2/lib/python3.9/site-packages/ot/bregman.py:535: UserWarning: Sinkhorn did not converge. You might want to increase the number of iterations `numItermax` or the regularization parameter `reg`.\n",
      "  warnings.warn(\"Sinkhorn did not converge. You might want to \"\n"
     ]
    },
    {
     "name": "stdout",
     "output_type": "stream",
     "text": [
      "Delta: 0.0005770724262108959  Loss: 0.0521781314518788\n",
      "Delta: 0.00048528839046784437  Loss: 0.05217643554635826\n",
      "Delta: 0.0003716252895913893  Loss: 0.052175017479020466\n",
      "Delta: 0.0002616152953552873  Loss: 0.05217396696955575\n",
      "Delta: 0.00017466719027249883  Loss: 0.05217325592739942\n",
      "Delta: 0.00011554011291689753  Loss: 0.052172799596520256\n",
      "Delta: 7.880836208863404e-05  Loss: 0.05217251301426057\n",
      "Delta: 5.660412648346607e-05  Loss: 0.05217233309840781\n",
      "Delta: 4.275868681138533e-05  Loss: 0.052172218742557355\n",
      "Delta: 3.3524292888565654e-05  Loss: 0.0521721446235438\n",
      "converged at iter  33\n",
      "Elapsed time : 83.038330078125 s\n"
     ]
    },
    {
     "name": "stderr",
     "output_type": "stream",
     "text": [
      "/tmp/ipykernel_3530284/1559086866.py:26: DeprecationWarning: Call to deprecated function (or staticmethod) opt_louvain.\n",
      "  scib.cl.opt_louvain(adata,label_key='cell_type',cluster_key='cluster_key',plot=False,inplace=True,force=True,verbose = False)\n",
      "\n",
      "\n",
      " 17%|█▋        | 1/6 [01:58<09:50, 118.02s/it]\u001b[A\u001b[A"
     ]
    },
    {
     "name": "stdout",
     "output_type": "stream",
     "text": [
      "Delta: 0.0017534129341308887  Loss: 0.07363310423650214\n",
      "Delta: 0.012452314044672518  Loss: 0.07312264510513757\n",
      "Delta: 0.02019301838745782  Loss: 0.06921965969224579\n",
      "Delta: 0.014235736452071051  Loss: 0.06661638230869846\n",
      "Delta: 0.01576055746564108  Loss: 0.06542336115543947\n",
      "Delta: 0.011967246432002563  Loss: 0.064336768378877\n",
      "Delta: 0.006377134118863558  Loss: 0.06381676944300334\n",
      "Delta: 0.012521742576515432  Loss: 0.06341859847809012\n",
      "Delta: 0.012437259625541644  Loss: 0.06273391596896369\n",
      "Delta: 0.004353585087306304  Loss: 0.0621756003557407\n",
      "Delta: 0.0016638892771200866  Loss: 0.06207662938835022\n",
      "Delta: 0.0016917641335344874  Loss: 0.06203809189401992\n",
      "Delta: 0.004248583804613316  Loss: 0.06197365959562386\n",
      "Delta: 0.010047778965084781  Loss: 0.06171444748619509\n",
      "Delta: 0.003741648775780174  Loss: 0.06140886167275949\n",
      "Delta: 0.0005471118162698114  Loss: 0.06136314252668429\n",
      "Delta: 0.00022699175119450675  Loss: 0.06136057890211581\n",
      "Delta: 0.00014336321144446564  Loss: 0.06135954722563398\n",
      "Delta: 0.00010243616558127465  Loss: 0.06135887217479353\n",
      "Delta: 7.888279286248105e-05  Loss: 0.061358412221433185\n",
      "Delta: 6.473158259007506e-05  Loss: 0.06135809946288455\n",
      "Delta: 5.6453434265002406e-05  Loss: 0.06135789089485671\n",
      "Delta: 5.198731538284901e-05  Loss: 0.06135775676451919\n",
      "Delta: 4.9909904758451684e-05  Loss: 0.0613576755815137\n",
      "converged at iter  23\n",
      "Elapsed time : 48.79875063896179 s\n"
     ]
    },
    {
     "name": "stderr",
     "output_type": "stream",
     "text": [
      "/tmp/ipykernel_3530284/1559086866.py:26: DeprecationWarning: Call to deprecated function (or staticmethod) opt_louvain.\n",
      "  scib.cl.opt_louvain(adata,label_key='cell_type',cluster_key='cluster_key',plot=False,inplace=True,force=True,verbose = False)\n",
      "\n",
      "\n",
      " 33%|███▎      | 2/6 [03:18<06:24, 96.20s/it] \u001b[A\u001b[A"
     ]
    },
    {
     "name": "stdout",
     "output_type": "stream",
     "text": [
      "Delta: 0.0010163045816340888  Loss: 0.07363807913879507\n",
      "Delta: 0.0031418829527467907  Loss: 0.07353611429654025\n",
      "Delta: 0.015566983017276844  Loss: 0.0722097461320352\n",
      "Delta: 0.015671693951353503  Loss: 0.06882673835054735\n",
      "Delta: 0.006523862029118473  Loss: 0.06774010847414066\n",
      "Delta: 0.011353348545294656  Loss: 0.06680841168040665\n",
      "Delta: 0.0033077598756451635  Loss: 0.06629932568166673\n",
      "Delta: 0.00533436604058647  Loss: 0.06604576190944177\n",
      "Delta: 0.006776146679502921  Loss: 0.0656629911163853\n",
      "Delta: 0.0029984087091619056  Loss: 0.06537196179645459\n",
      "Delta: 0.0006338270931840606  Loss: 0.06530906478178261\n",
      "Delta: 0.0004473867489412169  Loss: 0.06529657389646576\n",
      "Delta: 0.0005386087208199617  Loss: 0.06528742732190594\n",
      "Delta: 0.0008551541374930215  Loss: 0.06527294811227322\n",
      "Delta: 0.0017547963309396395  Loss: 0.06523647702612079\n",
      "Delta: 0.004402161224021004  Loss: 0.0650997677402199\n",
      "Delta: 0.00784768175416252  Loss: 0.06465624246862427\n",
      "Delta: 0.003296142695061671  Loss: 0.06426288846709308\n",
      "Delta: 0.0005292177660013166  Loss: 0.06418486460776618\n",
      "Delta: 0.0004458996038403557  Loss: 0.06417150091588386\n",
      "Delta: 0.0006398022312695765  Loss: 0.06415847955768361\n",
      "Delta: 0.0010057117809406633  Loss: 0.06413527695703099\n",
      "Delta: 0.0016930028634271866  Loss: 0.06408813993965924\n",
      "Delta: 0.0028378898673263784  Loss: 0.0639883402214009\n",
      "Delta: 0.0038736858976244704  Loss: 0.06380866191109981\n",
      "Delta: 0.003249235728662458  Loss: 0.06360819332357358\n",
      "Delta: 0.0015425839829597806  Loss: 0.06348953657257418\n",
      "Delta: 0.0005084990812629851  Loss: 0.0634461699977905\n",
      "Delta: 0.0001475479071937225  Loss: 0.063433476322759\n",
      "Delta: 4.519862636060228e-05  Loss: 0.06342996926635139\n",
      "Delta: 1.8313620691567563e-05  Loss: 0.0634289912499736\n",
      "Delta: 1.0660729287692888e-05  Loss: 0.0634287067497113\n",
      "Delta: 7.491820467422586e-06  Loss: 0.06342861740849706\n",
      "converged at iter  32\n",
      "Elapsed time : 69.46319770812988 s\n"
     ]
    },
    {
     "name": "stderr",
     "output_type": "stream",
     "text": [
      "/tmp/ipykernel_3530284/1559086866.py:26: DeprecationWarning: Call to deprecated function (or staticmethod) opt_louvain.\n",
      "  scib.cl.opt_louvain(adata,label_key='cell_type',cluster_key='cluster_key',plot=False,inplace=True,force=True,verbose = False)\n",
      "\n",
      "\n",
      " 50%|█████     | 3/6 [05:00<04:55, 98.48s/it]\u001b[A\u001b[A"
     ]
    },
    {
     "name": "stdout",
     "output_type": "stream",
     "text": [
      "Delta: 0.0004168885560702026  Loss: 0.07364217989159913\n",
      "Delta: 0.0001165844961922578  Loss: 0.07364005314351618\n",
      "Delta: 0.00010275617262445931  Loss: 0.07363758031090151\n",
      "Delta: 9.940045939570762e-05  Loss: 0.07363467715994237\n",
      "Delta: 0.00010285610831481384  Loss: 0.07363121128198234\n",
      "Delta: 0.00011254268891002626  Loss: 0.07362694656253764\n",
      "Delta: 0.00012933934042314328  Loss: 0.07362149302937052\n",
      "Delta: 0.00015551803955521755  Loss: 0.07361420689255552\n",
      "Delta: 0.00019557070250083295  Loss: 0.07360399198656159\n",
      "Delta: 0.0002582905770830094  Loss: 0.07358887337925324\n",
      "Delta: 0.0003610738038242472  Loss: 0.07356498036102829\n",
      "Delta: 0.0005368187793585621  Loss: 0.07352395371469284\n",
      "Delta: 0.0008363641010698354  Loss: 0.07344687886697213\n",
      "Delta: 0.0012881629712239012  Loss: 0.07329681626994208\n",
      "Delta: 0.001735621853817218  Loss: 0.07303992826211628\n",
      "Delta: 0.0017508166326294817  Loss: 0.0727270819258938\n",
      "Delta: 0.0012347747961028532  Loss: 0.07247912185600253\n",
      "Delta: 0.0006735253531336702  Loss: 0.07233705814128227\n",
      "Delta: 0.00038334733470252554  Loss: 0.07226406296874656\n",
      "Delta: 0.0003367195014160889  Loss: 0.0722206817024856\n",
      "Delta: 0.00039593272432521037  Loss: 0.07218414415723413\n",
      "Delta: 0.0004971930106242221  Loss: 0.07214200936017695\n",
      "Delta: 0.0006232678988116223  Loss: 0.07208652299037657\n",
      "Delta: 0.0007440385594129906  Loss: 0.07201431934301165\n",
      "Delta: 0.0007993785759025968  Loss: 0.07193048758452504\n",
      "Delta: 0.0007369961396633629  Loss: 0.07184969152798047\n",
      "Delta: 0.000576424177472221  Loss: 0.07178653530168468\n",
      "Delta: 0.00039313334559413864  Loss: 0.07174533637873948\n",
      "Delta: 0.00024427668868929307  Loss: 0.0717216839788227\n",
      "Delta: 0.00014369124922662826  Loss: 0.07170911676969619\n",
      "Delta: 8.208800941859233e-05  Loss: 0.07170270298748044\n",
      "Delta: 4.621120991425397e-05  Loss: 0.07169948064023707\n",
      "Delta: 2.582923849075136e-05  Loss: 0.07169786249561547\n",
      "Delta: 1.4387681301255019e-05  Loss: 0.07169704327800676\n",
      "Delta: 8.001459094992084e-06  Loss: 0.07169662342510005\n",
      "Delta: 4.446607081458935e-06  Loss: 0.07169640536166069\n",
      "Delta: 2.4703553910163174e-06  Loss: 0.07169629066802947\n",
      "Delta: 1.3723288340043067e-06  Loss: 0.07169622967908024\n",
      "converged at iter  37\n",
      "Elapsed time : 45.35749125480652 s\n"
     ]
    },
    {
     "name": "stderr",
     "output_type": "stream",
     "text": [
      "/tmp/ipykernel_3530284/1559086866.py:26: DeprecationWarning: Call to deprecated function (or staticmethod) opt_louvain.\n",
      "  scib.cl.opt_louvain(adata,label_key='cell_type',cluster_key='cluster_key',plot=False,inplace=True,force=True,verbose = False)\n",
      "\n",
      "\n",
      " 67%|██████▋   | 4/6 [06:10<02:54, 87.39s/it]\u001b[A\u001b[A"
     ]
    },
    {
     "name": "stdout",
     "output_type": "stream",
     "text": [
      "Delta: 0.00034102221472486426  Loss: 0.07364270045428048\n",
      "Delta: 3.111045075705438e-05  Loss: 0.07364215678699348\n",
      "Delta: 1.3370406288234732e-05  Loss: 0.07364191498193662\n",
      "Delta: 6.16862986963988e-06  Loss: 0.07364180295588327\n",
      "Delta: 2.9626901564250863e-06  Loss: 0.07364175045814678\n",
      "converged at iter  4\n",
      "Elapsed time : 5.813781261444092 s\n"
     ]
    },
    {
     "name": "stderr",
     "output_type": "stream",
     "text": [
      "/tmp/ipykernel_3530284/1559086866.py:26: DeprecationWarning: Call to deprecated function (or staticmethod) opt_louvain.\n",
      "  scib.cl.opt_louvain(adata,label_key='cell_type',cluster_key='cluster_key',plot=False,inplace=True,force=True,verbose = False)\n",
      "\n",
      "\n",
      " 83%|████████▎ | 5/6 [06:40<01:06, 66.74s/it]\u001b[A\u001b[A"
     ]
    },
    {
     "name": "stdout",
     "output_type": "stream",
     "text": [
      "Delta: 0.00028014623066030764  Loss: 0.07364311822322789\n",
      "Delta: 1.893176763850978e-06  Loss: 0.07364307400322002\n",
      "converged at iter  1\n",
      "Elapsed time : 2.6705260276794434 s\n"
     ]
    },
    {
     "name": "stderr",
     "output_type": "stream",
     "text": [
      "/tmp/ipykernel_3530284/1559086866.py:26: DeprecationWarning: Call to deprecated function (or staticmethod) opt_louvain.\n",
      "  scib.cl.opt_louvain(adata,label_key='cell_type',cluster_key='cluster_key',plot=False,inplace=True,force=True,verbose = False)\n",
      "\n",
      "\n",
      "100%|██████████| 6/6 [07:08<00:00, 71.48s/it]\u001b[A\u001b[A\n",
      "\n",
      " 17%|█▋        | 1/6 [07:08<35:44, 428.90s/it]\u001b[A\n",
      "\n",
      "  0%|          | 0/6 [00:00<?, ?it/s]\u001b[A\u001b[A"
     ]
    },
    {
     "name": "stdout",
     "output_type": "stream",
     "text": [
      "Delta: 0.0030552581971001517  Loss: 0.07460484500017213\n",
      "Delta: 0.026143372385939622  Loss: 0.07420340842387904\n",
      "Delta: 0.022279748325862193  Loss: 0.07013109669489642\n",
      "Delta: 0.0202602140138469  Loss: 0.06932687447252626\n",
      "Delta: 0.014426654437438012  Loss: 0.06849705367254777\n",
      "Delta: 0.0058245195396752015  Loss: 0.0680191798353745\n",
      "Delta: 0.012338935648701822  Loss: 0.06783323021405535\n",
      "Delta: 0.012980868254760861  Loss: 0.06749533677653208\n",
      "Delta: 0.011276354593883669  Loss: 0.06717823143907786\n",
      "Delta: 0.004886498291221888  Loss: 0.06696112364430126\n",
      "Delta: 0.0017804645528252656  Loss: 0.0669178269323428\n",
      "Delta: 0.001403414003698612  Loss: 0.06690308622549615\n",
      "Delta: 0.002073456431077759  Loss: 0.06689224537298041\n",
      "Delta: 0.0042074660469684924  Loss: 0.06687028617790612\n",
      "Delta: 0.008595485638590545  Loss: 0.0668034582690854\n",
      "Delta: 0.005332222610960087  Loss: 0.06668623841947147\n",
      "Delta: 0.005989912117028806  Loss: 0.0666046896365485\n",
      "Delta: 0.009055090415266838  Loss: 0.06650586440987934\n",
      "Delta: 0.004668835393021818  Loss: 0.06636729594549144\n",
      "Delta: 0.0016993533753187824  Loss: 0.06631131680169436\n",
      "Delta: 0.00349575835459066  Loss: 0.06629646693667013\n",
      "Delta: 0.006627752489366158  Loss: 0.06625713914938927\n",
      "Delta: 0.0038325432882231627  Loss: 0.06619001971591111\n",
      "Delta: 0.0006662616423693309  Loss: 0.06615794235038802\n",
      "Delta: 0.0006328565231886553  Loss: 0.06615290768609096\n",
      "Delta: 0.0007762513926931997  Loss: 0.0661492225857638\n",
      "Delta: 0.0011001505440756416  Loss: 0.06614430527719525\n",
      "Delta: 0.0017924360997413887  Loss: 0.06613620467712791\n",
      "Delta: 0.0033008577676025665  Loss: 0.06611944105843862\n",
      "Delta: 0.005915857223545737  Loss: 0.06607828133008274\n",
      "Delta: 0.006982075394198067  Loss: 0.06599393071082499\n",
      "Delta: 0.006893284671648412  Loss: 0.06588422175916842\n",
      "Delta: 0.004747256512256783  Loss: 0.06579381243051774\n",
      "Delta: 0.007047708273302858  Loss: 0.06572191741178413\n",
      "Delta: 0.0061301172465370035  Loss: 0.06562304679305211\n",
      "Delta: 0.0022081849578802007  Loss: 0.065551355207038\n",
      "Delta: 0.0025996539973235848  Loss: 0.06552645504778637\n",
      "Delta: 0.004394976280149309  Loss: 0.06550137885041696\n",
      "Delta: 0.004953221432119889  Loss: 0.06545486486038529\n",
      "Delta: 0.001789438823067426  Loss: 0.06541187665519312\n",
      "Delta: 0.0002211974823329979  Loss: 0.06539883394785115\n",
      "Delta: 6.296061099125711e-05  Loss: 0.06539741475748198\n",
      "Delta: 3.970066678761545e-05  Loss: 0.06539726310604321\n",
      "Delta: 2.874228448564115e-05  Loss: 0.06539722552467525\n",
      "converged at iter  43\n",
      "Elapsed time : 38.62732672691345 s\n"
     ]
    },
    {
     "name": "stderr",
     "output_type": "stream",
     "text": [
      "/tmp/ipykernel_3530284/1559086866.py:26: DeprecationWarning: Call to deprecated function (or staticmethod) opt_louvain.\n",
      "  scib.cl.opt_louvain(adata,label_key='cell_type',cluster_key='cluster_key',plot=False,inplace=True,force=True,verbose = False)\n",
      "\n",
      "\n",
      " 17%|█▋        | 1/6 [01:08<05:41, 68.22s/it]\u001b[A\u001b[A"
     ]
    },
    {
     "name": "stdout",
     "output_type": "stream",
     "text": [
      "Delta: 0.0009563728850545828  Loss: 0.07461255802168251\n",
      "Delta: 0.0010197688094034727  Loss: 0.0745969409505766\n",
      "Delta: 0.0022173174549378273  Loss: 0.07455623979057552\n",
      "Delta: 0.013401176705863603  Loss: 0.07417150593424321\n",
      "Delta: 0.013509671617465836  Loss: 0.07165848355996743\n",
      "Delta: 0.0020068560728877007  Loss: 0.07039642514414321\n",
      "Delta: 0.0012782297211096335  Loss: 0.07036236913452786\n",
      "Delta: 0.0014624081849536525  Loss: 0.07033272032955083\n",
      "Delta: 0.0025305827055449232  Loss: 0.07028311822083053\n",
      "Delta: 0.0053118211452444  Loss: 0.07014970847127182\n",
      "Delta: 0.007020028142959086  Loss: 0.06983312095527942\n",
      "Delta: 0.00160594946638715  Loss: 0.06959400820571512\n",
      "Delta: 0.00020175928684801193  Loss: 0.06955666056349921\n",
      "Delta: 0.00013715037033020219  Loss: 0.06955286605809458\n",
      "Delta: 0.00010271103914193069  Loss: 0.06955077113823888\n",
      "Delta: 7.762737926359077e-05  Loss: 0.06954919987240159\n",
      "Delta: 5.892284489300694e-05  Loss: 0.06954800458378821\n",
      "Delta: 4.4836910190052135e-05  Loss: 0.06954709320286905\n",
      "Delta: 3.417251874061917e-05  Loss: 0.06954639736560145\n",
      "Delta: 2.607273759369773e-05  Loss: 0.06954586564231499\n",
      "Delta: 1.990804900695651e-05  Loss: 0.06954545910727851\n",
      "Delta: 1.5209446324449573e-05  Loss: 0.06954514818008811\n",
      "Delta: 1.1624607394881759e-05  Loss: 0.06954491032418114\n",
      "Delta: 8.887475592396758e-06  Loss: 0.06954472834163293\n",
      "Delta: 6.796427968306559e-06  Loss: 0.06954458909503831\n",
      "Delta: 5.198290248408625e-06  Loss: 0.06954448254227034\n",
      "Delta: 3.976484454950064e-06  Loss: 0.06954440100401946\n",
      "converged at iter  26\n",
      "Elapsed time : 21.48083233833313 s\n"
     ]
    },
    {
     "name": "stderr",
     "output_type": "stream",
     "text": [
      "/tmp/ipykernel_3530284/1559086866.py:26: DeprecationWarning: Call to deprecated function (or staticmethod) opt_louvain.\n",
      "  scib.cl.opt_louvain(adata,label_key='cell_type',cluster_key='cluster_key',plot=False,inplace=True,force=True,verbose = False)\n",
      "\n",
      "\n",
      " 33%|███▎      | 2/6 [01:56<03:47, 56.75s/it]\u001b[A\u001b[A"
     ]
    },
    {
     "name": "stdout",
     "output_type": "stream",
     "text": [
      "Delta: 0.000564770238811306  Loss: 0.07461432774993818\n",
      "Delta: 0.00033317914925039467  Loss: 0.07460997966203944\n",
      "Delta: 0.0002524269645346441  Loss: 0.07460552670129336\n",
      "Delta: 0.00022704035025461857  Loss: 0.07460138662426632\n",
      "Delta: 0.00025445945262048814  Loss: 0.07459709358473685\n",
      "Delta: 0.000349850466213874  Loss: 0.07459138594342263\n",
      "Delta: 0.000608699108970103  Loss: 0.07458081166531574\n",
      "Delta: 0.0014580708961425114  Loss: 0.07454966308727407\n",
      "Delta: 0.005302245760882601  Loss: 0.07436875294458052\n",
      "Delta: 0.011006990318408485  Loss: 0.07329702008059369\n",
      "Delta: 0.0012638009028240944  Loss: 0.07225609960190799\n",
      "Delta: 0.0010347458558628902  Loss: 0.0721967881849154\n",
      "Delta: 0.0013507383055085488  Loss: 0.07215193874516213\n",
      "Delta: 0.0020942753758737102  Loss: 0.07207119758458341\n",
      "Delta: 0.00392456922558066  Loss: 0.0718969858722526\n",
      "Delta: 0.006727808887468091  Loss: 0.0714762797784629\n",
      "Delta: 0.003319256889314114  Loss: 0.07097449124241935\n",
      "Delta: 0.00028042383220870486  Loss: 0.07083508374217476\n",
      "Delta: 2.5676840509441357e-05  Loss: 0.07082615452067421\n",
      "Delta: 8.082096154339075e-06  Loss: 0.07082578835641681\n",
      "Delta: 3.2134104747276776e-06  Loss: 0.07082577687503815\n",
      "converged at iter  20\n",
      "Elapsed time : 16.37981128692627 s\n"
     ]
    },
    {
     "name": "stderr",
     "output_type": "stream",
     "text": [
      "/tmp/ipykernel_3530284/1559086866.py:26: DeprecationWarning: Call to deprecated function (or staticmethod) opt_louvain.\n",
      "  scib.cl.opt_louvain(adata,label_key='cell_type',cluster_key='cluster_key',plot=False,inplace=True,force=True,verbose = False)\n",
      "\n",
      "\n",
      " 50%|█████     | 3/6 [02:41<02:33, 51.13s/it]\u001b[A\u001b[A"
     ]
    },
    {
     "name": "stdout",
     "output_type": "stream",
     "text": [
      "Delta: 0.000199380571204675  Loss: 0.07461599939824116\n",
      "Delta: 1.8022208604647768e-05  Loss: 0.07461580867605153\n",
      "Delta: 3.33686198000197e-06  Loss: 0.07461577613123954\n",
      "converged at iter  2\n",
      "Elapsed time : 2.3857643604278564 s\n"
     ]
    },
    {
     "name": "stderr",
     "output_type": "stream",
     "text": [
      "/tmp/ipykernel_3530284/1559086866.py:26: DeprecationWarning: Call to deprecated function (or staticmethod) opt_louvain.\n",
      "  scib.cl.opt_louvain(adata,label_key='cell_type',cluster_key='cluster_key',plot=False,inplace=True,force=True,verbose = False)\n",
      "\n",
      "\n",
      " 67%|██████▋   | 4/6 [03:11<01:25, 42.72s/it]\u001b[A\u001b[A"
     ]
    },
    {
     "name": "stdout",
     "output_type": "stream",
     "text": [
      "Delta: 0.00014983714206916543  Loss: 0.07461622657567853\n",
      "Delta: 4.87709775173241e-06  Loss: 0.07461617257038576\n",
      "converged at iter  1\n",
      "Elapsed time : 1.4835107326507568 s\n"
     ]
    },
    {
     "name": "stderr",
     "output_type": "stream",
     "text": [
      "/tmp/ipykernel_3530284/1559086866.py:26: DeprecationWarning: Call to deprecated function (or staticmethod) opt_louvain.\n",
      "  scib.cl.opt_louvain(adata,label_key='cell_type',cluster_key='cluster_key',plot=False,inplace=True,force=True,verbose = False)\n",
      "\n",
      "\n",
      " 83%|████████▎ | 5/6 [03:38<00:36, 36.98s/it]\u001b[A\u001b[A"
     ]
    },
    {
     "name": "stdout",
     "output_type": "stream",
     "text": [
      "Delta: 0.00010952931995900356  Loss: 0.07461641142416445\n",
      "Delta: 2.7696333368898457e-07  Loss: 0.07461640704108037\n",
      "converged at iter  1\n",
      "Elapsed time : 1.5123445987701416 s\n"
     ]
    },
    {
     "name": "stderr",
     "output_type": "stream",
     "text": [
      "/tmp/ipykernel_3530284/1559086866.py:26: DeprecationWarning: Call to deprecated function (or staticmethod) opt_louvain.\n",
      "  scib.cl.opt_louvain(adata,label_key='cell_type',cluster_key='cluster_key',plot=False,inplace=True,force=True,verbose = False)\n",
      "\n",
      "\n",
      "100%|██████████| 6/6 [04:06<00:00, 41.05s/it]\u001b[A\u001b[A\n",
      "\n",
      " 33%|███▎      | 2/6 [11:15<21:26, 321.50s/it]\u001b[A\n",
      "\n",
      "  0%|          | 0/6 [00:00<?, ?it/s]\u001b[A\u001b[A"
     ]
    },
    {
     "name": "stdout",
     "output_type": "stream",
     "text": [
      "Delta: 0.00315325555948962  Loss: 0.0750202231375483\n",
      "Delta: 0.020529823767616626  Loss: 0.0747946060034346\n",
      "Delta: 0.011582010309209741  Loss: 0.07272691621962935\n",
      "Delta: 0.007339448973939384  Loss: 0.07208633131634429\n",
      "Delta: 0.01475443509943831  Loss: 0.0718674094779128\n",
      "Delta: 0.010384760690058135  Loss: 0.07140810148296658\n",
      "Delta: 0.013251833348378957  Loss: 0.07110916741475645\n",
      "Delta: 0.003384586406290695  Loss: 0.07086177979167614\n",
      "Delta: 0.011634666099501213  Loss: 0.07078195742852837\n",
      "Delta: 0.0028724064141578323  Loss: 0.0705698002608566\n",
      "Delta: 0.0005383969595455707  Loss: 0.07052360885591624\n",
      "Delta: 0.0004989680514207715  Loss: 0.070521727760265\n",
      "Delta: 0.0005800762580025335  Loss: 0.07051967831014644\n",
      "Delta: 0.0008403044905536834  Loss: 0.07051682692264488\n",
      "Delta: 0.0015898740830491628  Loss: 0.07051143792494745\n",
      "Delta: 0.0040608757795790535  Loss: 0.07049520245397203\n",
      "Delta: 0.00931340855466579  Loss: 0.0704263903505985\n",
      "Delta: 0.005643331308411974  Loss: 0.07028789239156406\n",
      "Delta: 0.008694911047380715  Loss: 0.07019204596542211\n",
      "Delta: 0.0037874940737752357  Loss: 0.07009626169205453\n",
      "Delta: 0.001195769679313862  Loss: 0.07005919899145913\n",
      "Delta: 0.0008675828727192258  Loss: 0.07005249360387569\n",
      "Delta: 0.0006670278350017832  Loss: 0.0700481407242763\n",
      "Delta: 0.0005316971893580845  Loss: 0.07004456751819158\n",
      "Delta: 0.0004319845292499707  Loss: 0.07004157037494649\n",
      "Delta: 0.0003544113611248862  Loss: 0.07003904344918577\n",
      "Delta: 0.00029208631837283563  Loss: 0.07003691231829953\n",
      "Delta: 0.00024108710191865376  Loss: 0.07003511865717547\n",
      "Delta: 0.00019895466689760007  Loss: 0.0700336138906031\n",
      "Delta: 0.00016400270610011767  Loss: 0.07003235618228976\n",
      "Delta: 0.00013498104380193528  Loss: 0.07003130895956017\n",
      "Delta: 0.00011090571673177182  Loss: 0.07003044015732973\n",
      "Delta: 9.097098237587545e-05  Loss: 0.07002972177033831\n",
      "Delta: 7.450211649322898e-05  Loss: 0.07002912951264395\n",
      "Delta: 6.0928383510522456e-05  Loss: 0.07002864249744395\n",
      "Delta: 4.9765832224738174e-05  Loss: 0.07002824290948069\n",
      "Delta: 4.060484360532139e-05  Loss: 0.07002791566975693\n",
      "Delta: 3.310005680310142e-05  Loss: 0.07002764810235734\n",
      "Delta: 2.6961640977592474e-05  Loss: 0.07002742961456435\n",
      "Delta: 2.194751046965807e-05  Loss: 0.07002725139918464\n",
      "Delta: 1.78563489504225e-05  Loss: 0.07002710616471966\n",
      "Delta: 1.4521402270624625e-05  Loss: 0.07002698789595874\n",
      "Delta: 1.1805017703184702e-05  Loss: 0.07002689164520598\n",
      "converged at iter  42\n",
      "Elapsed time : 29.355953693389893 s\n"
     ]
    },
    {
     "name": "stderr",
     "output_type": "stream",
     "text": [
      "/tmp/ipykernel_3530284/1559086866.py:26: DeprecationWarning: Call to deprecated function (or staticmethod) opt_louvain.\n",
      "  scib.cl.opt_louvain(adata,label_key='cell_type',cluster_key='cluster_key',plot=False,inplace=True,force=True,verbose = False)\n",
      "\n",
      "\n",
      " 17%|█▋        | 1/6 [00:55<04:39, 55.82s/it]\u001b[A\u001b[A"
     ]
    },
    {
     "name": "stdout",
     "output_type": "stream",
     "text": [
      "Delta: 0.0009118210284225636  Loss: 0.07502811781903274\n",
      "Delta: 0.0006130419481051605  Loss: 0.07502075352634777\n",
      "Delta: 0.0006161669147164313  Loss: 0.07501269504484429\n",
      "Delta: 0.0009029070389728067  Loss: 0.07500110611763805\n",
      "Delta: 0.0018862699054778052  Loss: 0.07497266022839666\n",
      "Delta: 0.005947828758137118  Loss: 0.07483656091542701\n",
      "Delta: 0.015685629461628825  Loss: 0.07393647039942891\n",
      "Delta: 0.0031757223017216197  Loss: 0.07244971299379618\n",
      "Delta: 0.00013594290638805826  Loss: 0.07228057101473093\n",
      "Delta: 2.5596490915375296e-05  Loss: 0.07227962106372479\n",
      "Delta: 8.300617990308544e-06  Loss: 0.07227953367188722\n",
      "converged at iter  10\n",
      "Elapsed time : 7.6321868896484375 s\n"
     ]
    },
    {
     "name": "stderr",
     "output_type": "stream",
     "text": [
      "/tmp/ipykernel_3530284/1559086866.py:26: DeprecationWarning: Call to deprecated function (or staticmethod) opt_louvain.\n",
      "  scib.cl.opt_louvain(adata,label_key='cell_type',cluster_key='cluster_key',plot=False,inplace=True,force=True,verbose = False)\n",
      "\n",
      "\n",
      " 33%|███▎      | 2/6 [01:33<03:00, 45.22s/it]\u001b[A\u001b[A"
     ]
    },
    {
     "name": "stdout",
     "output_type": "stream",
     "text": [
      "Delta: 0.0005192456180411562  Loss: 0.0750298864432083\n",
      "Delta: 0.00018882354201846073  Loss: 0.0750278781579785\n",
      "Delta: 8.28796994395263e-05  Loss: 0.07502687992388551\n",
      "Delta: 4.0186840228371666e-05  Loss: 0.07502642582263336\n",
      "Delta: 2.1159205736729572e-05  Loss: 0.07502621641320963\n",
      "Delta: 1.1759111586969994e-05  Loss: 0.07502611573279035\n",
      "Delta: 6.749146970838651e-06  Loss: 0.0750260651005249\n",
      "converged at iter  6\n",
      "Elapsed time : 4.499316930770874 s\n"
     ]
    },
    {
     "name": "stderr",
     "output_type": "stream",
     "text": [
      "/tmp/ipykernel_3530284/1559086866.py:26: DeprecationWarning: Call to deprecated function (or staticmethod) opt_louvain.\n",
      "  scib.cl.opt_louvain(adata,label_key='cell_type',cluster_key='cluster_key',plot=False,inplace=True,force=True,verbose = False)\n",
      "\n",
      "\n",
      " 50%|█████     | 3/6 [02:04<01:55, 38.61s/it]\u001b[A\u001b[A"
     ]
    },
    {
     "name": "stdout",
     "output_type": "stream",
     "text": [
      "Delta: 0.0001540530077984007  Loss: 0.07503155413885296\n",
      "Delta: 9.76887562667793e-06  Loss: 0.07503148125325337\n",
      "converged at iter  1\n",
      "Elapsed time : 1.7446010112762451 s\n"
     ]
    },
    {
     "name": "stderr",
     "output_type": "stream",
     "text": [
      "/tmp/ipykernel_3530284/1559086866.py:26: DeprecationWarning: Call to deprecated function (or staticmethod) opt_louvain.\n",
      "  scib.cl.opt_louvain(adata,label_key='cell_type',cluster_key='cluster_key',plot=False,inplace=True,force=True,verbose = False)\n",
      "\n",
      "\n",
      " 67%|██████▋   | 4/6 [02:33<01:09, 34.98s/it]\u001b[A\u001b[A"
     ]
    },
    {
     "name": "stdout",
     "output_type": "stream",
     "text": [
      "Delta: 0.00010457936295457952  Loss: 0.07503178062634802\n",
      "Delta: 2.631110183519318e-06  Loss: 0.07503176584281795\n",
      "converged at iter  1\n",
      "Elapsed time : 1.5940029621124268 s\n"
     ]
    },
    {
     "name": "stderr",
     "output_type": "stream",
     "text": [
      "/tmp/ipykernel_3530284/1559086866.py:26: DeprecationWarning: Call to deprecated function (or staticmethod) opt_louvain.\n",
      "  scib.cl.opt_louvain(adata,label_key='cell_type',cluster_key='cluster_key',plot=False,inplace=True,force=True,verbose = False)\n",
      "\n",
      "\n",
      " 83%|████████▎ | 5/6 [03:02<00:32, 32.70s/it]\u001b[A\u001b[A"
     ]
    },
    {
     "name": "stdout",
     "output_type": "stream",
     "text": [
      "Delta: 6.43335923525993e-05  Loss: 0.07503196489078467\n",
      "Delta: 1.4724358742395055e-07  Loss: 0.07503196540187271\n",
      "converged at iter  1\n",
      "Elapsed time : 1.5387160778045654 s\n"
     ]
    },
    {
     "name": "stderr",
     "output_type": "stream",
     "text": [
      "/tmp/ipykernel_3530284/1559086866.py:26: DeprecationWarning: Call to deprecated function (or staticmethod) opt_louvain.\n",
      "  scib.cl.opt_louvain(adata,label_key='cell_type',cluster_key='cluster_key',plot=False,inplace=True,force=True,verbose = False)\n",
      "\n",
      "\n",
      "100%|██████████| 6/6 [03:31<00:00, 35.20s/it]\u001b[A\u001b[A\n",
      "\n",
      " 50%|█████     | 3/6 [14:46<13:33, 271.12s/it]\u001b[A\n",
      "\n",
      "  0%|          | 0/6 [00:00<?, ?it/s]\u001b[A\u001b[A"
     ]
    },
    {
     "name": "stdout",
     "output_type": "stream",
     "text": [
      "Delta: 0.003997202681975815  Loss: 0.07543947134624054\n",
      "Delta: 0.008890668130672812  Loss: 0.07538584825467903\n",
      "Delta: 0.016423602134668817  Loss: 0.07512014826160425\n",
      "Delta: 0.0011657496824821812  Loss: 0.0747124120170129\n",
      "Delta: 0.00023747892987227174  Loss: 0.07469770898109557\n",
      "Delta: 8.619773313844213e-05  Loss: 0.07469706796995658\n",
      "Delta: 3.792174079025723e-05  Loss: 0.07469688441415101\n",
      "Delta: 1.703169335196239e-05  Loss: 0.07469681295669485\n",
      "converged at iter  7\n",
      "Elapsed time : 5.396983623504639 s\n"
     ]
    },
    {
     "name": "stderr",
     "output_type": "stream",
     "text": [
      "/tmp/ipykernel_3530284/1559086866.py:26: DeprecationWarning: Call to deprecated function (or staticmethod) opt_louvain.\n",
      "  scib.cl.opt_louvain(adata,label_key='cell_type',cluster_key='cluster_key',plot=False,inplace=True,force=True,verbose = False)\n",
      "\n",
      "\n",
      " 17%|█▋        | 1/6 [00:32<02:43, 32.66s/it]\u001b[A\u001b[A"
     ]
    },
    {
     "name": "stdout",
     "output_type": "stream",
     "text": [
      "Delta: 0.0009398898719892537  Loss: 0.07545039593101299\n",
      "Delta: 0.0001630918011384828  Loss: 0.07544891310000013\n",
      "Delta: 3.5533116138758766e-05  Loss: 0.07544863264964226\n",
      "Delta: 8.6861914404364e-06  Loss: 0.07544857647028\n",
      "converged at iter  3\n",
      "Elapsed time : 2.8561604022979736 s\n"
     ]
    },
    {
     "name": "stderr",
     "output_type": "stream",
     "text": [
      "/tmp/ipykernel_3530284/1559086866.py:26: DeprecationWarning: Call to deprecated function (or staticmethod) opt_louvain.\n",
      "  scib.cl.opt_louvain(adata,label_key='cell_type',cluster_key='cluster_key',plot=False,inplace=True,force=True,verbose = False)\n",
      "\n",
      "\n",
      " 33%|███▎      | 2/6 [01:04<02:09, 32.34s/it]\u001b[A\u001b[A"
     ]
    },
    {
     "name": "stdout",
     "output_type": "stream",
     "text": [
      "Delta: 0.0005050333992078649  Loss: 0.07545242988524148\n",
      "Delta: 4.484741206952918e-05  Loss: 0.07545203286411664\n",
      "Delta: 4.46626682540676e-06  Loss: 0.0754519959555635\n",
      "converged at iter  2\n",
      "Elapsed time : 2.1462676525115967 s\n"
     ]
    },
    {
     "name": "stderr",
     "output_type": "stream",
     "text": [
      "/tmp/ipykernel_3530284/1559086866.py:26: DeprecationWarning: Call to deprecated function (or staticmethod) opt_louvain.\n",
      "  scib.cl.opt_louvain(adata,label_key='cell_type',cluster_key='cluster_key',plot=False,inplace=True,force=True,verbose = False)\n",
      "\n",
      "\n",
      " 50%|█████     | 3/6 [01:35<01:34, 31.41s/it]\u001b[A\u001b[A"
     ]
    },
    {
     "name": "stdout",
     "output_type": "stream",
     "text": [
      "Delta: 0.00011577071168661295  Loss: 0.07545428285260644\n",
      "Delta: 2.140838383422774e-06  Loss: 0.0754542710346359\n",
      "converged at iter  1\n",
      "Elapsed time : 1.56950044631958 s\n"
     ]
    },
    {
     "name": "stderr",
     "output_type": "stream",
     "text": [
      "/tmp/ipykernel_3530284/1559086866.py:26: DeprecationWarning: Call to deprecated function (or staticmethod) opt_louvain.\n",
      "  scib.cl.opt_louvain(adata,label_key='cell_type',cluster_key='cluster_key',plot=False,inplace=True,force=True,verbose = False)\n",
      "\n",
      "\n",
      " 67%|██████▋   | 4/6 [02:06<01:02, 31.36s/it]\u001b[A\u001b[A"
     ]
    },
    {
     "name": "stdout",
     "output_type": "stream",
     "text": [
      "Delta: 6.389281331748456e-05  Loss: 0.07545453062166559\n",
      "Delta: 5.722195803250825e-07  Loss: 0.07545452946428688\n",
      "converged at iter  1\n",
      "Elapsed time : 1.7342548370361328 s\n"
     ]
    },
    {
     "name": "stderr",
     "output_type": "stream",
     "text": [
      "/tmp/ipykernel_3530284/1559086866.py:26: DeprecationWarning: Call to deprecated function (or staticmethod) opt_louvain.\n",
      "  scib.cl.opt_louvain(adata,label_key='cell_type',cluster_key='cluster_key',plot=False,inplace=True,force=True,verbose = False)\n",
      "\n",
      "\n",
      " 83%|████████▎ | 5/6 [02:32<00:29, 29.61s/it]\u001b[A\u001b[A"
     ]
    },
    {
     "name": "stdout",
     "output_type": "stream",
     "text": [
      "Delta: 2.1819962362095337e-05  Loss: 0.0754547315936161\n",
      "Delta: 3.17034998469382e-08  Loss: 0.07545473214119235\n",
      "converged at iter  1\n",
      "Elapsed time : 1.6522715091705322 s\n"
     ]
    },
    {
     "name": "stderr",
     "output_type": "stream",
     "text": [
      "/tmp/ipykernel_3530284/1559086866.py:26: DeprecationWarning: Call to deprecated function (or staticmethod) opt_louvain.\n",
      "  scib.cl.opt_louvain(adata,label_key='cell_type',cluster_key='cluster_key',plot=False,inplace=True,force=True,verbose = False)\n",
      "\n",
      "\n",
      "100%|██████████| 6/6 [02:58<00:00, 29.75s/it]\u001b[A\u001b[A\n",
      "\n",
      " 67%|██████▋   | 4/6 [17:44<07:49, 234.55s/it]\u001b[A\n",
      "\n",
      "  0%|          | 0/6 [00:00<?, ?it/s]\u001b[A\u001b[A"
     ]
    },
    {
     "name": "stdout",
     "output_type": "stream",
     "text": [
      "Delta: 0.0041384750310265285  Loss: 0.07549483258520098\n",
      "Delta: 0.004367972115001599  Loss: 0.07547262972417554\n",
      "Delta: 0.007493698919020626  Loss: 0.07542339824061534\n",
      "Delta: 0.010443618879459183  Loss: 0.07529728919391665\n",
      "Delta: 0.0030883230722544928  Loss: 0.07514500885916688\n",
      "Delta: 0.00013991428386954315  Loss: 0.07510560159619697\n",
      "Delta: 9.645807689601497e-06  Loss: 0.07510436648324777\n",
      "Delta: 1.3521553656361579e-06  Loss: 0.07510432797011055\n",
      "converged at iter  7\n",
      "Elapsed time : 5.37758207321167 s\n"
     ]
    },
    {
     "name": "stderr",
     "output_type": "stream",
     "text": [
      "/tmp/ipykernel_3530284/1559086866.py:26: DeprecationWarning: Call to deprecated function (or staticmethod) opt_louvain.\n",
      "  scib.cl.opt_louvain(adata,label_key='cell_type',cluster_key='cluster_key',plot=False,inplace=True,force=True,verbose = False)\n",
      "\n",
      "\n",
      " 17%|█▋        | 1/6 [00:30<02:33, 30.65s/it]\u001b[A\u001b[A"
     ]
    },
    {
     "name": "stdout",
     "output_type": "stream",
     "text": [
      "Delta: 0.0009470593715155373  Loss: 0.07550632559600118\n",
      "Delta: 8.427759914417261e-05  Loss: 0.07550559024317378\n",
      "Delta: 9.195042960551297e-06  Loss: 0.07550552325887991\n",
      "converged at iter  2\n",
      "Elapsed time : 2.126085042953491 s\n"
     ]
    },
    {
     "name": "stderr",
     "output_type": "stream",
     "text": [
      "/tmp/ipykernel_3530284/1559086866.py:26: DeprecationWarning: Call to deprecated function (or staticmethod) opt_louvain.\n",
      "  scib.cl.opt_louvain(adata,label_key='cell_type',cluster_key='cluster_key',plot=False,inplace=True,force=True,verbose = False)\n",
      "\n",
      "\n",
      " 33%|███▎      | 2/6 [00:58<01:55, 28.95s/it]\u001b[A\u001b[A"
     ]
    },
    {
     "name": "stdout",
     "output_type": "stream",
     "text": [
      "Delta: 0.0005046385149680879  Loss: 0.07550840940049593\n",
      "Delta: 2.2913180172813303e-05  Loss: 0.07550821133762908\n",
      "Delta: 1.1525464327438979e-06  Loss: 0.07550820227386869\n",
      "converged at iter  2\n",
      "Elapsed time : 1.9976544380187988 s\n"
     ]
    },
    {
     "name": "stderr",
     "output_type": "stream",
     "text": [
      "/tmp/ipykernel_3530284/1559086866.py:26: DeprecationWarning: Call to deprecated function (or staticmethod) opt_louvain.\n",
      "  scib.cl.opt_louvain(adata,label_key='cell_type',cluster_key='cluster_key',plot=False,inplace=True,force=True,verbose = False)\n",
      "\n",
      "\n",
      " 50%|█████     | 3/6 [01:27<01:27, 29.01s/it]\u001b[A\u001b[A"
     ]
    },
    {
     "name": "stdout",
     "output_type": "stream",
     "text": [
      "Delta: 0.00011101883127714097  Loss: 0.07551029708477469\n",
      "Delta: 1.0826579203239127e-06  Loss: 0.07551029130120043\n",
      "converged at iter  1\n",
      "Elapsed time : 1.447298288345337 s\n"
     ]
    },
    {
     "name": "stderr",
     "output_type": "stream",
     "text": [
      "/tmp/ipykernel_3530284/1559086866.py:26: DeprecationWarning: Call to deprecated function (or staticmethod) opt_louvain.\n",
      "  scib.cl.opt_louvain(adata,label_key='cell_type',cluster_key='cluster_key',plot=False,inplace=True,force=True,verbose = False)\n",
      "\n",
      "\n",
      " 67%|██████▋   | 4/6 [01:52<00:55, 27.61s/it]\u001b[A\u001b[A"
     ]
    },
    {
     "name": "stdout",
     "output_type": "stream",
     "text": [
      "Delta: 5.870305504529935e-05  Loss: 0.07551054883674369\n",
      "Delta: 2.8908083820408794e-07  Loss: 0.0755105483504203\n",
      "converged at iter  1\n",
      "Elapsed time : 1.452476978302002 s\n"
     ]
    },
    {
     "name": "stderr",
     "output_type": "stream",
     "text": [
      "/tmp/ipykernel_3530284/1559086866.py:26: DeprecationWarning: Call to deprecated function (or staticmethod) opt_louvain.\n",
      "  scib.cl.opt_louvain(adata,label_key='cell_type',cluster_key='cluster_key',plot=False,inplace=True,force=True,verbose = False)\n",
      "\n",
      "\n",
      " 83%|████████▎ | 5/6 [02:22<00:28, 28.21s/it]\u001b[A\u001b[A"
     ]
    },
    {
     "name": "stdout",
     "output_type": "stream",
     "text": [
      "Delta: 1.6297026080895656e-05  Loss: 0.07551075293490131\n",
      "Delta: 1.6001212324397456e-08  Loss: 0.07551075323322984\n",
      "converged at iter  1\n",
      "Elapsed time : 1.6094763278961182 s\n"
     ]
    },
    {
     "name": "stderr",
     "output_type": "stream",
     "text": [
      "/tmp/ipykernel_3530284/1559086866.py:26: DeprecationWarning: Call to deprecated function (or staticmethod) opt_louvain.\n",
      "  scib.cl.opt_louvain(adata,label_key='cell_type',cluster_key='cluster_key',plot=False,inplace=True,force=True,verbose = False)\n",
      "\n",
      "\n",
      "100%|██████████| 6/6 [02:51<00:00, 28.52s/it]\u001b[A\u001b[A\n",
      "\n",
      " 83%|████████▎ | 5/6 [20:35<03:31, 211.67s/it]\u001b[A\n",
      "\n",
      "  0%|          | 0/6 [00:00<?, ?it/s]\u001b[A\u001b[A"
     ]
    },
    {
     "name": "stdout",
     "output_type": "stream",
     "text": [
      "Delta: 0.00425493246798165  Loss: 0.07553922923996137\n",
      "Delta: 0.0008073822994285996  Loss: 0.07553573745281382\n",
      "Delta: 0.00020515842150189837  Loss: 0.07553500009514158\n",
      "Delta: 5.511053882547775e-05  Loss: 0.07553481664265321\n",
      "Delta: 1.5051421611818214e-05  Loss: 0.07553476862381664\n",
      "converged at iter  4\n",
      "Elapsed time : 3.5664806365966797 s\n"
     ]
    },
    {
     "name": "stderr",
     "output_type": "stream",
     "text": [
      "/tmp/ipykernel_3530284/1559086866.py:26: DeprecationWarning: Call to deprecated function (or staticmethod) opt_louvain.\n",
      "  scib.cl.opt_louvain(adata,label_key='cell_type',cluster_key='cluster_key',plot=False,inplace=True,force=True,verbose = False)\n",
      "\n",
      "\n",
      " 17%|█▋        | 1/6 [00:30<02:34, 30.95s/it]\u001b[A\u001b[A"
     ]
    },
    {
     "name": "stdout",
     "output_type": "stream",
     "text": [
      "Delta: 0.0009532633029240246  Loss: 0.0755512032013354\n",
      "Delta: 1.7286379341927086e-05  Loss: 0.0755510574815777\n",
      "Delta: 3.7732637153354856e-07  Loss: 0.07555105490941501\n",
      "converged at iter  2\n",
      "Elapsed time : 2.192234516143799 s\n"
     ]
    },
    {
     "name": "stderr",
     "output_type": "stream",
     "text": [
      "/tmp/ipykernel_3530284/1559086866.py:26: DeprecationWarning: Call to deprecated function (or staticmethod) opt_louvain.\n",
      "  scib.cl.opt_louvain(adata,label_key='cell_type',cluster_key='cluster_key',plot=False,inplace=True,force=True,verbose = False)\n",
      "\n",
      "\n",
      " 33%|███▎      | 2/6 [00:58<01:55, 28.93s/it]\u001b[A\u001b[A"
     ]
    },
    {
     "name": "stdout",
     "output_type": "stream",
     "text": [
      "Delta: 0.0005045190340403535  Loss: 0.07555332925894201\n",
      "Delta: 4.660824393410863e-06  Loss: 0.0755532897405638\n",
      "converged at iter  1\n",
      "Elapsed time : 1.5418941974639893 s\n"
     ]
    },
    {
     "name": "stderr",
     "output_type": "stream",
     "text": [
      "/tmp/ipykernel_3530284/1559086866.py:26: DeprecationWarning: Call to deprecated function (or staticmethod) opt_louvain.\n",
      "  scib.cl.opt_louvain(adata,label_key='cell_type',cluster_key='cluster_key',plot=False,inplace=True,force=True,verbose = False)\n",
      "\n",
      "\n",
      " 50%|█████     | 3/6 [01:25<01:24, 28.24s/it]\u001b[A\u001b[A"
     ]
    },
    {
     "name": "stdout",
     "output_type": "stream",
     "text": [
      "Delta: 0.00010724275817030475  Loss: 0.07555524637626977\n",
      "Delta: 2.1847776100750708e-07  Loss: 0.07555524523803817\n",
      "converged at iter  1\n",
      "Elapsed time : 1.549708604812622 s\n"
     ]
    },
    {
     "name": "stderr",
     "output_type": "stream",
     "text": [
      "/tmp/ipykernel_3530284/1559086866.py:26: DeprecationWarning: Call to deprecated function (or staticmethod) opt_louvain.\n",
      "  scib.cl.opt_louvain(adata,label_key='cell_type',cluster_key='cluster_key',plot=False,inplace=True,force=True,verbose = False)\n",
      "\n",
      "\n",
      " 67%|██████▋   | 4/6 [01:54<00:56, 28.34s/it]\u001b[A\u001b[A"
     ]
    },
    {
     "name": "stdout",
     "output_type": "stream",
     "text": [
      "Delta: 5.455852331409674e-05  Loss: 0.07555550150604012\n",
      "Delta: 5.828780549159729e-08  Loss: 0.0755555014227723\n",
      "converged at iter  1\n",
      "Elapsed time : 1.4870030879974365 s\n"
     ]
    },
    {
     "name": "stderr",
     "output_type": "stream",
     "text": [
      "/tmp/ipykernel_3530284/1559086866.py:26: DeprecationWarning: Call to deprecated function (or staticmethod) opt_louvain.\n",
      "  scib.cl.opt_louvain(adata,label_key='cell_type',cluster_key='cluster_key',plot=False,inplace=True,force=True,verbose = False)\n",
      "\n",
      "\n",
      " 83%|████████▎ | 5/6 [02:21<00:27, 27.90s/it]\u001b[A\u001b[A"
     ]
    },
    {
     "name": "stdout",
     "output_type": "stream",
     "text": [
      "Delta: 1.1871963430658015e-05  Loss: 0.0755557082557029\n",
      "Delta: 3.224123011940967e-09  Loss: 0.07555570831914776\n",
      "converged at iter  1\n",
      "Elapsed time : 1.6084926128387451 s\n"
     ]
    },
    {
     "name": "stderr",
     "output_type": "stream",
     "text": [
      "/tmp/ipykernel_3530284/1559086866.py:26: DeprecationWarning: Call to deprecated function (or staticmethod) opt_louvain.\n",
      "  scib.cl.opt_louvain(adata,label_key='cell_type',cluster_key='cluster_key',plot=False,inplace=True,force=True,verbose = False)\n",
      "\n",
      "\n",
      "100%|██████████| 6/6 [02:53<00:00, 28.95s/it]\u001b[A\u001b[A\n",
      "\n",
      "100%|██████████| 6/6 [23:29<00:00, 234.95s/it]\u001b[A\n",
      " 80%|████████  | 4/5 [2:38:07<34:22, 2062.51s/it]  \n",
      "  0%|          | 0/6 [00:00<?, ?it/s]\u001b[A\n",
      "\n",
      "  0%|          | 0/6 [00:00<?, ?it/s]\u001b[A\u001b[A"
     ]
    },
    {
     "name": "stdout",
     "output_type": "stream",
     "text": [
      "Delta: 0.018719337680891325  Loss: 0.07362453490897976\n",
      "Delta: 0.044252703318794606  Loss: 0.0674247838541327\n",
      "Delta: 0.029111554300448553  Loss: 0.061876208352333165\n",
      "Delta: 0.022912815968476493  Loss: 0.06059439368983545\n",
      "Delta: 0.04016543494042565  Loss: 0.059171318219115004\n",
      "Delta: 0.04606250907653535  Loss: 0.056156444644736535\n",
      "Delta: 0.036909335412873986  Loss: 0.05350049441529024\n",
      "Delta: 0.021468485108721704  Loss: 0.052358813307184913\n",
      "Delta: 0.011500535063332177  Loss: 0.052043988274810826\n",
      "Delta: 0.009786573006154969  Loss: 0.05191078754382325\n",
      "Delta: 0.0062680315951271085  Loss: 0.05183710813937078\n",
      "Delta: 0.004393098980838861  Loss: 0.051805351481476844\n",
      "Delta: 0.0029437966291829456  Loss: 0.05178868661883225\n",
      "Delta: 0.0014991374059371216  Loss: 0.05178286858178144\n",
      "Delta: 0.0009369395440513178  Loss: 0.05178118888889278\n",
      "Delta: 0.0005810985361408395  Loss: 0.05178037637117566\n",
      "Delta: 0.00038751688747628833  Loss: 0.05177994933597159\n",
      "Delta: 0.00030411817144906337  Loss: 0.0517797400016447\n",
      "Delta: 0.00027410699498181437  Loss: 0.05177964814745819\n",
      "converged at iter  18\n",
      "Elapsed time : 112.90675663948059 s\n"
     ]
    },
    {
     "name": "stderr",
     "output_type": "stream",
     "text": [
      "/tmp/ipykernel_3530284/1559086866.py:26: DeprecationWarning: Call to deprecated function (or staticmethod) opt_louvain.\n",
      "  scib.cl.opt_louvain(adata,label_key='cell_type',cluster_key='cluster_key',plot=False,inplace=True,force=True,verbose = False)\n",
      "\n",
      "\n",
      " 17%|█▋        | 1/6 [02:48<14:01, 168.34s/it]\u001b[A\u001b[A"
     ]
    },
    {
     "name": "stdout",
     "output_type": "stream",
     "text": [
      "Delta: 0.0034100839668154406  Loss: 0.07375186465886416\n",
      "Delta: 0.017824200213799754  Loss: 0.07139753887548508\n",
      "Delta: 0.014483762796373693  Loss: 0.06855189754136376\n",
      "Delta: 0.017346172960481278  Loss: 0.06619433128128478\n",
      "Delta: 0.021125591578815425  Loss: 0.06414626455881038\n",
      "Delta: 0.014583340293430124  Loss: 0.06194262430929045\n",
      "Delta: 0.004892656692965122  Loss: 0.0613616436553338\n",
      "Delta: 0.003407837023125529  Loss: 0.061239799329316676\n",
      "Delta: 0.0056728115859673535  Loss: 0.061105543575940634\n",
      "Delta: 0.006300635659723778  Loss: 0.06087888640534526\n",
      "Delta: 0.0027027675117276546  Loss: 0.060732503586094194\n",
      "Delta: 0.001745259487618331  Loss: 0.060698415816281874\n",
      "Delta: 0.00157425358487649  Loss: 0.06068989753373853\n",
      "Delta: 0.001400616986427947  Loss: 0.06068352906634336\n",
      "Delta: 0.0011925927262864539  Loss: 0.06067668964173658\n",
      "Delta: 0.0009677564061991282  Loss: 0.060669716655467734\n",
      "Delta: 0.0007502220277059148  Loss: 0.06066329657845343\n",
      "Delta: 0.0005593381238354036  Loss: 0.060657893940895845\n",
      "Delta: 0.0004047298573585095  Loss: 0.06065365306693647\n",
      "Delta: 0.0002871041772249583  Loss: 0.06065048833712752\n",
      "Delta: 0.00020181580573341263  Loss: 0.06064820812598004\n",
      "Delta: 0.00014230676350232758  Loss: 0.06064660279201205\n",
      "Delta: 0.00010222227428727665  Loss: 0.06064548820638545\n",
      "Delta: 7.626847408302742e-05  Loss: 0.06064471924642993\n",
      "Delta: 6.029621300170893e-05  Loss: 0.0606441883483746\n",
      "Delta: 5.1097125421667866e-05  Loss: 0.06064381865242919\n",
      "Delta: 4.625484570056729e-05  Loss: 0.06064355640684036\n",
      "Delta: 4.4101589594549015e-05  Loss: 0.06064336442651529\n",
      "Delta: 4.362948013350892e-05  Loss: 0.06064321702391477\n",
      "Delta: 4.4314912402752184e-05  Loss: 0.06064309628018958\n",
      "Delta: 4.594140158796836e-05  Loss: 0.06064298936307329\n",
      "Delta: 4.8479946507140996e-05  Loss: 0.06064288659179667\n",
      "Delta: 5.2029416853877154e-05  Loss: 0.0606427799888944\n",
      "Delta: 5.680118542154756e-05  Loss: 0.06064266209618856\n",
      "Delta: 6.31372133184214e-05  Loss: 0.06064252484421598\n",
      "Delta: 7.156171811914525e-05  Loss: 0.06064235823075387\n",
      "Delta: 8.287993843065751e-05  Loss: 0.06064214844871532\n",
      "Delta: 9.835808412843058e-05  Loss: 0.06064187482231986\n",
      "Delta: 0.00012005896496661453  Loss: 0.06064150425193847\n",
      "Delta: 0.00015149882408424075  Loss: 0.060640980268108075\n",
      "Delta: 0.00019901547111378853  Loss: 0.06064019962055262\n",
      "Delta: 0.0002748407033910791  Loss: 0.06063895736427111\n",
      "Delta: 0.000404640831549188  Loss: 0.060636802947499874\n",
      "Delta: 0.0006479761708510276  Loss: 0.06063260808854637\n",
      "Delta: 0.0011592430847947753  Loss: 0.060623039980697374\n",
      "Delta: 0.002364808092508893  Loss: 0.06059624779963407\n",
      "Delta: 0.005049194883597546  Loss: 0.06050799066574014\n",
      "Delta: 0.006454448272338697  Loss: 0.06030122830294318\n",
      "Delta: 0.002035305019548652  Loss: 0.06016272826727154\n",
      "Delta: 0.00041307917270857965  Loss: 0.060145234181805875\n",
      "Elapsed time : 267.24746227264404 s\n"
     ]
    },
    {
     "name": "stderr",
     "output_type": "stream",
     "text": [
      "/tmp/ipykernel_3530284/1559086866.py:26: DeprecationWarning: Call to deprecated function (or staticmethod) opt_louvain.\n",
      "  scib.cl.opt_louvain(adata,label_key='cell_type',cluster_key='cluster_key',plot=False,inplace=True,force=True,verbose = False)\n",
      "\n",
      "\n",
      " 33%|███▎      | 2/6 [08:13<17:21, 260.43s/it]\u001b[A\u001b[A"
     ]
    },
    {
     "name": "stdout",
     "output_type": "stream",
     "text": [
      "Delta: 0.001643280908900748  Loss: 0.07377172119410111\n",
      "Delta: 0.016647718896928534  Loss: 0.07266415269070198\n",
      "Delta: 0.004249000588599335  Loss: 0.06943904838321402\n",
      "Delta: 0.009039165614337309  Loss: 0.06873576886103423\n",
      "Delta: 0.011164830186526057  Loss: 0.06758450715492981\n",
      "Delta: 0.009490356025861065  Loss: 0.06666881362940011\n",
      "Delta: 0.0041108701619285365  Loss: 0.06615240193537175\n",
      "Delta: 0.003640941469098394  Loss: 0.06593874069345532\n",
      "Delta: 0.0077073683643149715  Loss: 0.06548740586681229\n",
      "Delta: 0.0130029046632026  Loss: 0.0642805307715473\n",
      "Delta: 0.008077006197505782  Loss: 0.06317285314345988\n",
      "Delta: 0.0012376759991532562  Loss: 0.06292511023021202\n",
      "Delta: 0.0002160048645479666  Loss: 0.0629053781302592\n",
      "Delta: 0.00010833837977050413  Loss: 0.06290215231230106\n",
      "Delta: 7.854577919020032e-05  Loss: 0.06290086620313662\n",
      "Delta: 6.492520555833205e-05  Loss: 0.06290011689427821\n",
      "Delta: 5.74619041079644e-05  Loss: 0.06289956489961288\n",
      "Delta: 5.29665440348959e-05  Loss: 0.06289909793637911\n",
      "Delta: 5.013928574177159e-05  Loss: 0.06289867077787711\n",
      "Delta: 4.839152747065178e-05  Loss: 0.06289826110890154\n",
      "Delta: 4.744154413360151e-05  Loss: 0.06289785561510901\n",
      "Delta: 4.715335982850463e-05  Loss: 0.06289744488966541\n",
      "Delta: 4.746874797801624e-05  Loss: 0.06289702119869572\n",
      "Delta: 4.8378164687433114e-05  Loss: 0.06289657728498907\n",
      "Delta: 4.990934207492375e-05  Loss: 0.06289610557267533\n",
      "Delta: 5.212504624873057e-05  Loss: 0.06289559750128307\n",
      "Delta: 5.512685862891737e-05  Loss: 0.06289504283560463\n",
      "Delta: 5.906440781274231e-05  Loss: 0.0628944288266172\n",
      "Delta: 6.415113112693058e-05  Loss: 0.06289373908151122\n",
      "Delta: 7.068928277545294e-05  Loss: 0.06289295194227765\n",
      "Delta: 7.910919912035428e-05  Loss: 0.06289203805540264\n",
      "Delta: 9.00316334917826e-05  Loss: 0.0628909565973186\n",
      "Delta: 0.00010436875476929099  Loss: 0.06288964921142096\n",
      "Delta: 0.00012349200080791288  Loss: 0.06288802992359552\n",
      "Delta: 0.0001495190639521422  Loss: 0.0628859677251368\n",
      "Delta: 0.0001858193074148659  Loss: 0.0628832552276273\n",
      "Delta: 0.0002379292319810854  Loss: 0.06287954968185247\n",
      "Delta: 0.00031524510095338267  Loss: 0.06287425671613478\n",
      "Delta: 0.00043414600223259426  Loss: 0.06286629092383117\n",
      "Delta: 0.0006233702177192658  Loss: 0.06285356879717884\n",
      "Delta: 0.0009306183907899906  Loss: 0.06283196033294472\n",
      "Delta: 0.0014160354143962902  Loss: 0.0627935196931079\n",
      "Delta: 0.0020703029289540985  Loss: 0.06272596219044874\n",
      "Delta: 0.0025865782914718653  Loss: 0.06262279205518095\n",
      "Delta: 0.0024031655540252585  Loss: 0.06250701650284451\n",
      "Delta: 0.0015707478453299527  Loss: 0.06242023849703214\n",
      "Delta: 0.0007783493127080289  Loss: 0.06237465725329209\n",
      "Delta: 0.00033096160488890725  Loss: 0.06235550597309353\n",
      "Delta: 0.00013204838475636027  Loss: 0.0623482601986286\n",
      "Delta: 5.1646789879206835e-05  Loss: 0.06234561668505399\n",
      "Elapsed time : 241.1135528087616 s\n"
     ]
    },
    {
     "name": "stderr",
     "output_type": "stream",
     "text": [
      "/tmp/ipykernel_3530284/1559086866.py:26: DeprecationWarning: Call to deprecated function (or staticmethod) opt_louvain.\n",
      "  scib.cl.opt_louvain(adata,label_key='cell_type',cluster_key='cluster_key',plot=False,inplace=True,force=True,verbose = False)\n",
      "\n",
      "\n",
      " 50%|█████     | 3/6 [13:10<13:51, 277.04s/it]\u001b[A\u001b[A"
     ]
    },
    {
     "name": "stdout",
     "output_type": "stream",
     "text": [
      "Delta: 0.0004612065347693481  Loss: 0.07378589944514839\n",
      "Delta: 0.0003355357225470866  Loss: 0.07377489830068294\n",
      "Delta: 0.0006249347552104723  Loss: 0.07373947798237643\n",
      "Delta: 0.0014224575566445991  Loss: 0.07360325615758126\n",
      "Delta: 0.0037217660719853067  Loss: 0.07305243000352285\n",
      "Delta: 0.006579021833504592  Loss: 0.0715862379679223\n",
      "Delta: 0.0027375948119161926  Loss: 0.07070551450930489\n",
      "Delta: 0.00035904012698196377  Loss: 0.07058283079827884\n",
      "Delta: 8.155688525386227e-05  Loss: 0.0705687191416021\n",
      "Delta: 4.795811682564069e-05  Loss: 0.07056571445587989\n",
      "Delta: 3.2695730691635295e-05  Loss: 0.07056434512867805\n",
      "Delta: 2.3530338183470692e-05  Loss: 0.0705634963576671\n",
      "Delta: 1.7696513283554184e-05  Loss: 0.07056292509526202\n",
      "Delta: 1.3790699109315233e-05  Loss: 0.07056252632733723\n",
      "Delta: 1.1040764951049331e-05  Loss: 0.07056223979179325\n",
      "Delta: 9.014039527649495e-06  Loss: 0.07056202822472572\n",
      "Delta: 7.4629546314295954e-06  Loss: 0.07056186796485689\n",
      "Delta: 6.241070822184552e-06  Loss: 0.07056174371053921\n",
      "Delta: 5.25779202767664e-06  Loss: 0.07056164538327435\n",
      "converged at iter  18\n",
      "Elapsed time : 63.78077244758606 s\n"
     ]
    },
    {
     "name": "stderr",
     "output_type": "stream",
     "text": [
      "/tmp/ipykernel_3530284/1559086866.py:26: DeprecationWarning: Call to deprecated function (or staticmethod) opt_louvain.\n",
      "  scib.cl.opt_louvain(adata,label_key='cell_type',cluster_key='cluster_key',plot=False,inplace=True,force=True,verbose = False)\n",
      "\n",
      "\n",
      " 67%|██████▋   | 4/6 [14:56<06:59, 209.77s/it]\u001b[A\u001b[A"
     ]
    },
    {
     "name": "stdout",
     "output_type": "stream",
     "text": [
      "Delta: 0.00032340744056941304  Loss: 0.07378757755725837\n",
      "Delta: 7.991395165155555e-05  Loss: 0.07378518782362509\n",
      "Delta: 6.207769756532379e-05  Loss: 0.07378308100053195\n",
      "Delta: 5.071883696235516e-05  Loss: 0.07378105849551019\n",
      "Delta: 4.2357571159802615e-05  Loss: 0.07377915239103021\n",
      "Delta: 3.5875957501528346e-05  Loss: 0.07377738618266944\n",
      "Delta: 3.068271265124778e-05  Loss: 0.0737757676933902\n",
      "Delta: 2.6425316737327344e-05  Loss: 0.07377429547471531\n",
      "Delta: 2.287773182172421e-05  Loss: 0.07377296320069038\n",
      "Delta: 1.988621559129349e-05  Loss: 0.0737717621278755\n",
      "Delta: 1.73410053015297e-05  Loss: 0.0737706824595008\n",
      "Delta: 1.5160608815024237e-05  Loss: 0.07376971411872184\n",
      "Delta: 1.328260690632676e-05  Loss: 0.07376884719470059\n",
      "Delta: 1.1657995365168842e-05  Loss: 0.07376807219934806\n",
      "Delta: 1.0247544226694626e-05  Loss: 0.07376738020968417\n",
      "Delta: 9.01935754773361e-06  Loss: 0.07376676293876047\n",
      "Delta: 7.947177311238814e-06  Loss: 0.0737662127610814\n",
      "Delta: 7.0091664323165675e-06  Loss: 0.07376572270892459\n",
      "Delta: 6.187011333766623e-06  Loss: 0.0737652864503042\n",
      "Delta: 5.465244684800529e-06  Loss: 0.07376489825578504\n",
      "Delta: 4.830724268267849e-06  Loss: 0.0737645529590423\n",
      "Delta: 4.27222540420756e-06  Loss: 0.0737642459144978\n",
      "Delta: 3.7801177841247757e-06  Loss: 0.07376397295428139\n",
      "Delta: 3.34610622512002e-06  Loss: 0.07376373034600622\n",
      "Delta: 2.963020595019047e-06  Loss: 0.07376351475231123\n",
      "Delta: 2.6246440737239404e-06  Loss: 0.07376332319274495\n",
      "Delta: 2.325571650723066e-06  Loss: 0.07376315300830147\n",
      "Delta: 2.061092712008395e-06  Loss: 0.07376300182873455\n",
      "Delta: 1.8270929917703004e-06  Loss: 0.07376286754265285\n",
      "Delta: 1.6199722170096529e-06  Loss: 0.07376274827031605\n",
      "Delta: 1.4365745635226777e-06  Loss: 0.07376264233900107\n",
      "Delta: 1.2741296423417843e-06  Loss: 0.07376254826077613\n",
      "converged at iter  31\n",
      "Elapsed time : 72.46679759025574 s\n"
     ]
    },
    {
     "name": "stderr",
     "output_type": "stream",
     "text": [
      "/tmp/ipykernel_3530284/1559086866.py:26: DeprecationWarning: Call to deprecated function (or staticmethod) opt_louvain.\n",
      "  scib.cl.opt_louvain(adata,label_key='cell_type',cluster_key='cluster_key',plot=False,inplace=True,force=True,verbose = False)\n",
      "\n",
      "\n",
      " 83%|████████▎ | 5/6 [16:50<02:55, 175.26s/it]\u001b[A\u001b[A"
     ]
    },
    {
     "name": "stdout",
     "output_type": "stream",
     "text": [
      "Delta: 0.00021434053971625084  Loss: 0.07378890676429085\n",
      "Delta: 3.959764141105473e-06  Loss: 0.07378874079338857\n",
      "Delta: 5.7264377492064e-07  Loss: 0.07378872477057642\n",
      "converged at iter  2\n",
      "Elapsed time : 6.932872772216797 s\n"
     ]
    },
    {
     "name": "stderr",
     "output_type": "stream",
     "text": [
      "/tmp/ipykernel_3530284/1559086866.py:26: DeprecationWarning: Call to deprecated function (or staticmethod) opt_louvain.\n",
      "  scib.cl.opt_louvain(adata,label_key='cell_type',cluster_key='cluster_key',plot=False,inplace=True,force=True,verbose = False)\n",
      "\n",
      "\n",
      "100%|██████████| 6/6 [17:39<00:00, 176.50s/it]\u001b[A\u001b[A\n",
      "\n",
      " 17%|█▋        | 1/6 [17:39<1:28:15, 1059.03s/it]\u001b[A\n",
      "\n",
      "  0%|          | 0/6 [00:00<?, ?it/s]\u001b[A\u001b[A"
     ]
    },
    {
     "name": "stdout",
     "output_type": "stream",
     "text": [
      "Delta: 0.009540094515431065  Loss: 0.07466914924699058\n",
      "Delta: 0.017566503876180525  Loss: 0.07250830211454226\n",
      "Delta: 0.021424825592595287  Loss: 0.06983669531276779\n",
      "Delta: 0.022237359829295266  Loss: 0.06822225601177667\n",
      "Delta: 0.01861568613862563  Loss: 0.06696070068117087\n",
      "Delta: 0.007565429279716653  Loss: 0.06628287509291433\n",
      "Delta: 0.005768505623842757  Loss: 0.06616617712950341\n",
      "Delta: 0.009821850061190854  Loss: 0.06606773566746643\n",
      "Delta: 0.012769718257128491  Loss: 0.06589129686187367\n",
      "Delta: 0.008102215142393294  Loss: 0.06562647551542622\n",
      "Delta: 0.00814076728195413  Loss: 0.06546348109272135\n",
      "Delta: 0.005788139632204552  Loss: 0.0653512192425956\n",
      "Delta: 0.002973079522191775  Loss: 0.06529052351926638\n",
      "Delta: 0.004568278680764031  Loss: 0.065260536347803\n",
      "Delta: 0.005746711705322214  Loss: 0.06521332731017732\n",
      "Delta: 0.001922209982078165  Loss: 0.06516407676934827\n",
      "Delta: 0.0002422268324477779  Loss: 0.06514957398049658\n",
      "Delta: 0.00011458839334027862  Loss: 0.06514796849313646\n",
      "Delta: 8.259563472090166e-05  Loss: 0.06514748404768891\n",
      "Delta: 6.636060456996765e-05  Loss: 0.06514715064567675\n",
      "Delta: 5.5561117465750145e-05  Loss: 0.06514688418654026\n",
      "Delta: 4.72942217179772e-05  Loss: 0.06514666307761702\n",
      "Delta: 4.054414779537907e-05  Loss: 0.06514647636667568\n",
      "Delta: 3.4871298148376585e-05  Loss: 0.06514631718538388\n",
      "Delta: 3.0040501272542315e-05  Loss: 0.06514618073336693\n",
      "Delta: 2.5900773781071392e-05  Loss: 0.06514606339643894\n",
      "Delta: 2.2341983855588845e-05  Loss: 0.06514596231172745\n",
      "Delta: 1.9277450135357643e-05  Loss: 0.0651458751350682\n",
      "converged at iter  27\n",
      "Elapsed time : 44.72254705429077 s\n"
     ]
    },
    {
     "name": "stderr",
     "output_type": "stream",
     "text": [
      "/tmp/ipykernel_3530284/1559086866.py:26: DeprecationWarning: Call to deprecated function (or staticmethod) opt_louvain.\n",
      "  scib.cl.opt_louvain(adata,label_key='cell_type',cluster_key='cluster_key',plot=False,inplace=True,force=True,verbose = False)\n",
      "\n",
      "\n",
      " 17%|█▋        | 1/6 [01:40<08:24, 100.84s/it]\u001b[A\u001b[A"
     ]
    },
    {
     "name": "stdout",
     "output_type": "stream",
     "text": [
      "Delta: 0.0012641880074108888  Loss: 0.07470227238564014\n",
      "Delta: 0.00840467563960433  Loss: 0.0745385907258926\n",
      "Delta: 0.010800081933558732  Loss: 0.07255331544701013\n",
      "Delta: 0.0012681820295341586  Loss: 0.07137585835716431\n",
      "Delta: 0.0019617858339146736  Loss: 0.0713391133753643\n",
      "Delta: 0.005708258329989751  Loss: 0.07120087200849212\n",
      "Delta: 0.011989739726807919  Loss: 0.07058552929290803\n",
      "Delta: 0.0008717021880789067  Loss: 0.06986178233845466\n",
      "Delta: 0.000350632840592679  Loss: 0.06983824405058295\n",
      "Delta: 0.0002851709722454927  Loss: 0.06983420767257958\n",
      "Delta: 0.0002836922129107489  Loss: 0.06983058596150896\n",
      "Delta: 0.00031040446070379886  Loss: 0.069826623712398\n",
      "Delta: 0.000363342852207548  Loss: 0.0698217111974854\n",
      "Delta: 0.00045361076823613965  Loss: 0.06981502663215626\n",
      "Delta: 0.0006078869606561539  Loss: 0.06980508644735076\n",
      "Delta: 0.0008859621761117879  Loss: 0.06978872887175219\n",
      "Delta: 0.0014317502284032276  Loss: 0.06975816614571538\n",
      "Delta: 0.002625583659277609  Loss: 0.06969099386388786\n",
      "Delta: 0.005459997459182032  Loss: 0.06951410272069743\n",
      "Delta: 0.009725678011616229  Loss: 0.06904732365114918\n",
      "Delta: 0.005870087043801367  Loss: 0.06841996119727826\n",
      "Delta: 0.000505203798562893  Loss: 0.06820274601506934\n",
      "Delta: 9.975191615621731e-05  Loss: 0.06818881788592954\n",
      "Delta: 4.660947055321901e-05  Loss: 0.0681878335544777\n",
      "Delta: 2.5409877429543505e-05  Loss: 0.06818756221430748\n",
      "Delta: 1.5070054056416508e-05  Loss: 0.06818743726772532\n",
      "Delta: 9.413154749843071e-06  Loss: 0.06818737143354033\n",
      "converged at iter  26\n",
      "Elapsed time : 42.75802397727966 s\n"
     ]
    },
    {
     "name": "stderr",
     "output_type": "stream",
     "text": [
      "/tmp/ipykernel_3530284/1559086866.py:26: DeprecationWarning: Call to deprecated function (or staticmethod) opt_louvain.\n",
      "  scib.cl.opt_louvain(adata,label_key='cell_type',cluster_key='cluster_key',plot=False,inplace=True,force=True,verbose = False)\n",
      "\n",
      "\n",
      " 33%|███▎      | 2/6 [03:10<06:16, 94.13s/it] \u001b[A\u001b[A"
     ]
    },
    {
     "name": "stdout",
     "output_type": "stream",
     "text": [
      "Delta: 0.000628390861654075  Loss: 0.07470525665335165\n",
      "Delta: 0.0010990627847213376  Loss: 0.07468769105691736\n",
      "Delta: 0.004343352179913243  Loss: 0.07455586166064043\n",
      "Delta: 0.01379988946624856  Loss: 0.07325502764699772\n",
      "Delta: 0.0007717421684937198  Loss: 0.07142916176915284\n",
      "Delta: 0.00023368386156734703  Loss: 0.07139721997472784\n",
      "Delta: 0.00016022500604324753  Loss: 0.07139423582722809\n",
      "Delta: 0.00012107773144728307  Loss: 0.0713922106420963\n",
      "Delta: 9.668723376197126e-05  Loss: 0.07139060891573393\n",
      "Delta: 8.083774538948965e-05  Loss: 0.07138927755472443\n",
      "Delta: 7.062138036210845e-05  Loss: 0.07138813323392759\n",
      "Delta: 6.447471261754853e-05  Loss: 0.07138711829569941\n",
      "Delta: 6.147811918975949e-05  Loss: 0.07138618762084066\n",
      "Delta: 6.106642906818745e-05  Loss: 0.07138530232334979\n",
      "Delta: 6.292024232559103e-05  Loss: 0.07138442557341815\n",
      "Delta: 6.694880384412008e-05  Loss: 0.07138351893819805\n",
      "Delta: 7.33240852424058e-05  Loss: 0.0713825382322082\n",
      "Delta: 8.25614520734928e-05  Loss: 0.07138142772260059\n",
      "Delta: 9.567765058379593e-05  Loss: 0.07138011076669262\n",
      "Delta: 0.00011450372137950336  Loss: 0.07137847305157183\n",
      "Delta: 0.00014232589465807766  Loss: 0.07137632993938339\n",
      "Delta: 0.00018526877334781508  Loss: 0.07137335721243152\n",
      "Delta: 0.00025551146719402217  Loss: 0.07136892929000331\n",
      "Delta: 0.00037952502242559114  Loss: 0.07136169412603756\n",
      "Delta: 0.0006217907019184123  Loss: 0.07134827862984287\n",
      "Delta: 0.0011619689572620626  Loss: 0.07131855149089956\n",
      "Delta: 0.002551010466367335  Loss: 0.07123459864110139\n",
      "Delta: 0.005840466816583561  Loss: 0.07094500236298257\n",
      "Delta: 0.006128676751280515  Loss: 0.07030437022900193\n",
      "Delta: 0.0009667927607884938  Loss: 0.06992953656334376\n",
      "Delta: 6.45962613641718e-05  Loss: 0.0698872174143371\n",
      "Delta: 1.3939891385298661e-05  Loss: 0.06988518425347014\n",
      "Delta: 4.595973506473891e-06  Loss: 0.0698850437781769\n",
      "Delta: 1.6556729738535055e-06  Loss: 0.06988501993204724\n",
      "converged at iter  33\n",
      "Elapsed time : 53.115394592285156 s\n"
     ]
    },
    {
     "name": "stderr",
     "output_type": "stream",
     "text": [
      "/tmp/ipykernel_3530284/1559086866.py:26: DeprecationWarning: Call to deprecated function (or staticmethod) opt_louvain.\n",
      "  scib.cl.opt_louvain(adata,label_key='cell_type',cluster_key='cluster_key',plot=False,inplace=True,force=True,verbose = False)\n",
      "\n",
      "\n",
      " 50%|█████     | 3/6 [04:46<04:45, 95.03s/it]\u001b[A\u001b[A"
     ]
    },
    {
     "name": "stdout",
     "output_type": "stream",
     "text": [
      "Delta: 0.0001737372013829189  Loss: 0.07470742268789843\n",
      "Delta: 3.1441278312496116e-05  Loss: 0.07470672432962155\n",
      "Delta: 1.0705722470089398e-05  Loss: 0.07470651742817852\n",
      "Delta: 3.7676897853308837e-06  Loss: 0.07470644774601688\n",
      "converged at iter  3\n",
      "Elapsed time : 5.6879003047943115 s\n"
     ]
    },
    {
     "name": "stderr",
     "output_type": "stream",
     "text": [
      "/tmp/ipykernel_3530284/1559086866.py:26: DeprecationWarning: Call to deprecated function (or staticmethod) opt_louvain.\n",
      "  scib.cl.opt_louvain(adata,label_key='cell_type',cluster_key='cluster_key',plot=False,inplace=True,force=True,verbose = False)\n",
      "\n",
      "\n",
      " 67%|██████▋   | 4/6 [05:33<02:32, 76.01s/it]\u001b[A\u001b[A"
     ]
    },
    {
     "name": "stdout",
     "output_type": "stream",
     "text": [
      "Delta: 0.00011976298370528448  Loss: 0.07470768067819764\n",
      "Delta: 7.867860232331709e-06  Loss: 0.07470741289581229\n",
      "Delta: 1.3005474440981587e-06  Loss: 0.07470737824069484\n",
      "converged at iter  2\n",
      "Elapsed time : 4.002293109893799 s\n"
     ]
    },
    {
     "name": "stderr",
     "output_type": "stream",
     "text": [
      "/tmp/ipykernel_3530284/1559086866.py:26: DeprecationWarning: Call to deprecated function (or staticmethod) opt_louvain.\n",
      "  scib.cl.opt_louvain(adata,label_key='cell_type',cluster_key='cluster_key',plot=False,inplace=True,force=True,verbose = False)\n",
      "\n",
      "\n",
      " 83%|████████▎ | 5/6 [06:18<01:05, 65.09s/it]\u001b[A\u001b[A"
     ]
    },
    {
     "name": "stdout",
     "output_type": "stream",
     "text": [
      "Delta: 7.699724284092129e-05  Loss: 0.07470788512722261\n",
      "Delta: 3.773434928762504e-07  Loss: 0.0747078427174977\n",
      "converged at iter  1\n",
      "Elapsed time : 2.991694211959839 s\n"
     ]
    },
    {
     "name": "stderr",
     "output_type": "stream",
     "text": [
      "/tmp/ipykernel_3530284/1559086866.py:26: DeprecationWarning: Call to deprecated function (or staticmethod) opt_louvain.\n",
      "  scib.cl.opt_louvain(adata,label_key='cell_type',cluster_key='cluster_key',plot=False,inplace=True,force=True,verbose = False)\n",
      "\n",
      "\n",
      "100%|██████████| 6/6 [07:04<00:00, 70.72s/it]\u001b[A\u001b[A\n",
      "\n",
      " 33%|███▎      | 2/6 [24:43<45:42, 685.68s/it]   \u001b[A\n",
      "\n",
      "  0%|          | 0/6 [00:00<?, ?it/s]\u001b[A\u001b[A"
     ]
    },
    {
     "name": "stdout",
     "output_type": "stream",
     "text": [
      "Delta: 0.004563625155793581  Loss: 0.07507003794933287\n",
      "Delta: 0.01598245168184257  Loss: 0.07448871128875485\n",
      "Delta: 0.016297999668042563  Loss: 0.07266379421292951\n",
      "Delta: 0.012447141551395733  Loss: 0.0717151956634556\n",
      "Delta: 0.010450711079057269  Loss: 0.07125093926074305\n",
      "Delta: 0.018825545012705888  Loss: 0.07085170717098643\n",
      "Delta: 0.0032329688674905075  Loss: 0.07028045068386368\n",
      "Delta: 0.0010583256666755075  Loss: 0.07020632233265489\n",
      "Delta: 0.0010448122996571526  Loss: 0.07019836391351691\n",
      "Delta: 0.0013765719201141128  Loss: 0.07019025220679834\n",
      "Delta: 0.0024892503735037966  Loss: 0.07017848322574571\n",
      "Delta: 0.005791931208187403  Loss: 0.07014964228133594\n",
      "Delta: 0.0076898130372733435  Loss: 0.07006815166912254\n",
      "Delta: 0.003699696386978166  Loss: 0.0699782190193829\n",
      "Delta: 0.006656594251590192  Loss: 0.06992671481911217\n",
      "Delta: 0.006733259165558805  Loss: 0.06983021386198475\n",
      "Delta: 0.0030531914487555165  Loss: 0.06974362869021264\n",
      "Delta: 0.0009790114806441678  Loss: 0.0697148953083689\n",
      "Delta: 0.00024077176251635903  Loss: 0.06970742623268095\n",
      "Delta: 9.304688675193679e-05  Loss: 0.06970578806316191\n",
      "Delta: 4.653901226319392e-05  Loss: 0.06970536310489264\n",
      "Delta: 2.441301284807841e-05  Loss: 0.06970521128706827\n",
      "Delta: 1.2951893014176385e-05  Loss: 0.06970514322026966\n",
      "converged at iter  22\n",
      "Elapsed time : 29.941489934921265 s\n"
     ]
    },
    {
     "name": "stderr",
     "output_type": "stream",
     "text": [
      "/tmp/ipykernel_3530284/1559086866.py:26: DeprecationWarning: Call to deprecated function (or staticmethod) opt_louvain.\n",
      "  scib.cl.opt_louvain(adata,label_key='cell_type',cluster_key='cluster_key',plot=False,inplace=True,force=True,verbose = False)\n",
      "\n",
      "\n",
      " 17%|█▋        | 1/6 [01:12<06:02, 72.49s/it]\u001b[A\u001b[A"
     ]
    },
    {
     "name": "stdout",
     "output_type": "stream",
     "text": [
      "Delta: 0.0006852712750694426  Loss: 0.07507973623583997\n",
      "Delta: 0.0014198679823610282  Loss: 0.07506662836049928\n",
      "Delta: 0.006715067659823678  Loss: 0.07494194645438437\n",
      "Delta: 0.011398695981683974  Loss: 0.07392737879595701\n",
      "Delta: 0.0006406391827810007  Loss: 0.0728009904499787\n",
      "Delta: 0.00018550556327702721  Loss: 0.07279443179347247\n",
      "Delta: 0.00011653948252907803  Loss: 0.07279313064858073\n",
      "Delta: 8.112981489825134e-05  Loss: 0.07279244172196367\n",
      "Delta: 5.919039113051784e-05  Loss: 0.07279197407434154\n",
      "Delta: 4.444558547642591e-05  Loss: 0.07279163365003659\n",
      "Delta: 3.4088433282025e-05  Loss: 0.07279137777605868\n",
      "Delta: 2.6611820746017668e-05  Loss: 0.07279118170409415\n",
      "Delta: 2.111111692550739e-05  Loss: 0.07279102940376202\n",
      "Delta: 1.7005099878241004e-05  Loss: 0.0727909098263074\n",
      "Delta: 1.3902632526488301e-05  Loss: 0.07279081506332703\n",
      "converged at iter  14\n",
      "Elapsed time : 20.214118480682373 s\n"
     ]
    },
    {
     "name": "stderr",
     "output_type": "stream",
     "text": [
      "/tmp/ipykernel_3530284/1559086866.py:26: DeprecationWarning: Call to deprecated function (or staticmethod) opt_louvain.\n",
      "  scib.cl.opt_louvain(adata,label_key='cell_type',cluster_key='cluster_key',plot=False,inplace=True,force=True,verbose = False)\n",
      "\n",
      "\n",
      " 33%|███▎      | 2/6 [02:16<04:29, 67.31s/it]\u001b[A\u001b[A"
     ]
    },
    {
     "name": "stdout",
     "output_type": "stream",
     "text": [
      "Delta: 0.00034850891166948554  Loss: 0.07508064674864322\n",
      "Delta: 0.0002608567429023293  Loss: 0.07507821311813129\n",
      "Delta: 0.0002803225676250713  Loss: 0.07507495441692932\n",
      "Delta: 0.0003468319247737971  Loss: 0.075070008788485\n",
      "Delta: 0.0004972233132297491  Loss: 0.0750614093696319\n",
      "Delta: 0.0008585834730777973  Loss: 0.07504319081706037\n",
      "Delta: 0.0019191916491672215  Loss: 0.07499060524261095\n",
      "Delta: 0.005739372928797978  Loss: 0.07475367617814828\n",
      "Delta: 0.009218060460251821  Loss: 0.07379255706155245\n",
      "Delta: 0.0006609750113299404  Loss: 0.07285536021826612\n",
      "Delta: 4.34039656102924e-05  Loss: 0.07280673744877868\n",
      "Delta: 1.0869950928555114e-05  Loss: 0.07280632711324961\n",
      "Delta: 3.3884338842148034e-06  Loss: 0.07280628021719276\n",
      "converged at iter  12\n",
      "Elapsed time : 16.661993741989136 s\n"
     ]
    },
    {
     "name": "stderr",
     "output_type": "stream",
     "text": [
      "/tmp/ipykernel_3530284/1559086866.py:26: DeprecationWarning: Call to deprecated function (or staticmethod) opt_louvain.\n",
      "  scib.cl.opt_louvain(adata,label_key='cell_type',cluster_key='cluster_key',plot=False,inplace=True,force=True,verbose = False)\n",
      "\n",
      "\n",
      " 50%|█████     | 3/6 [03:15<03:11, 63.82s/it]\u001b[A\u001b[A"
     ]
    },
    {
     "name": "stdout",
     "output_type": "stream",
     "text": [
      "Delta: 9.638967274275113e-05  Loss: 0.07508133192423205\n",
      "Delta: 9.095238383527379e-06  Loss: 0.07508114811508887\n",
      "Delta: 1.5452494190584705e-06  Loss: 0.07508112116011073\n",
      "converged at iter  2\n",
      "Elapsed time : 4.101309537887573 s\n"
     ]
    },
    {
     "name": "stderr",
     "output_type": "stream",
     "text": [
      "/tmp/ipykernel_3530284/1559086866.py:26: DeprecationWarning: Call to deprecated function (or staticmethod) opt_louvain.\n",
      "  scib.cl.opt_louvain(adata,label_key='cell_type',cluster_key='cluster_key',plot=False,inplace=True,force=True,verbose = False)\n",
      "\n",
      "\n",
      " 67%|██████▋   | 4/6 [04:00<01:52, 56.41s/it]\u001b[A\u001b[A"
     ]
    },
    {
     "name": "stdout",
     "output_type": "stream",
     "text": [
      "Delta: 6.585197630770378e-05  Loss: 0.07508141500635668\n",
      "Delta: 2.301415693764638e-06  Loss: 0.07508133559856917\n",
      "converged at iter  1\n",
      "Elapsed time : 2.9410905838012695 s\n"
     ]
    },
    {
     "name": "stderr",
     "output_type": "stream",
     "text": [
      "/tmp/ipykernel_3530284/1559086866.py:26: DeprecationWarning: Call to deprecated function (or staticmethod) opt_louvain.\n",
      "  scib.cl.opt_louvain(adata,label_key='cell_type',cluster_key='cluster_key',plot=False,inplace=True,force=True,verbose = False)\n",
      "\n",
      "\n",
      " 83%|████████▎ | 5/6 [04:44<00:51, 51.71s/it]\u001b[A\u001b[A"
     ]
    },
    {
     "name": "stdout",
     "output_type": "stream",
     "text": [
      "Delta: 4.15696174039186e-05  Loss: 0.07508148107355353\n",
      "Delta: 1.1045458006020396e-07  Loss: 0.07508146702902264\n",
      "converged at iter  1\n",
      "Elapsed time : 2.8832778930664062 s\n"
     ]
    },
    {
     "name": "stderr",
     "output_type": "stream",
     "text": [
      "/tmp/ipykernel_3530284/1559086866.py:26: DeprecationWarning: Call to deprecated function (or staticmethod) opt_louvain.\n",
      "  scib.cl.opt_louvain(adata,label_key='cell_type',cluster_key='cluster_key',plot=False,inplace=True,force=True,verbose = False)\n",
      "\n",
      "\n",
      "100%|██████████| 6/6 [05:28<00:00, 54.70s/it]\u001b[A\u001b[A\n",
      "\n",
      " 50%|█████     | 3/6 [30:11<26:07, 522.45s/it]\u001b[A\n",
      "\n",
      "  0%|          | 0/6 [00:00<?, ?it/s]\u001b[A\u001b[A"
     ]
    },
    {
     "name": "stdout",
     "output_type": "stream",
     "text": [
      "Delta: 0.001006618379919146  Loss: 0.07545616202515973\n",
      "Delta: 0.0017072973168589915  Loss: 0.07545243606387679\n",
      "Delta: 0.008808623721101812  Loss: 0.07541491128610467\n",
      "Delta: 0.008920922153034519  Loss: 0.07514584251181113\n",
      "Delta: 0.0006035349656913382  Loss: 0.0749119969650062\n",
      "Delta: 0.0001865133138920739  Loss: 0.07491046752632494\n",
      "Delta: 0.00011122713287515524  Loss: 0.07491016640876572\n",
      "Delta: 7.755830920544176e-05  Loss: 0.07491002331134339\n",
      "Delta: 6.045105731099452e-05  Loss: 0.07490993017240555\n",
      "converged at iter  8\n",
      "Elapsed time : 12.258822679519653 s\n"
     ]
    },
    {
     "name": "stderr",
     "output_type": "stream",
     "text": [
      "/tmp/ipykernel_3530284/1559086866.py:26: DeprecationWarning: Call to deprecated function (or staticmethod) opt_louvain.\n",
      "  scib.cl.opt_louvain(adata,label_key='cell_type',cluster_key='cluster_key',plot=False,inplace=True,force=True,verbose = False)\n",
      "\n",
      "\n",
      " 17%|█▋        | 1/6 [00:57<04:47, 57.52s/it]\u001b[A\u001b[A"
     ]
    },
    {
     "name": "stdout",
     "output_type": "stream",
     "text": [
      "Delta: 0.00020631325941432597  Loss: 0.07545687309830086\n",
      "Delta: 4.205453651401118e-05  Loss: 0.07545673635279004\n",
      "Delta: 1.4666130502044909e-05  Loss: 0.07545669330830343\n",
      "converged at iter  2\n",
      "Elapsed time : 4.116806983947754 s\n"
     ]
    },
    {
     "name": "stderr",
     "output_type": "stream",
     "text": [
      "/tmp/ipykernel_3530284/1559086866.py:26: DeprecationWarning: Call to deprecated function (or staticmethod) opt_louvain.\n",
      "  scib.cl.opt_louvain(adata,label_key='cell_type',cluster_key='cluster_key',plot=False,inplace=True,force=True,verbose = False)\n",
      "\n",
      "\n",
      " 33%|███▎      | 2/6 [01:43<03:22, 50.70s/it]\u001b[A\u001b[A"
     ]
    },
    {
     "name": "stdout",
     "output_type": "stream",
     "text": [
      "Delta: 0.00010685926520336993  Loss: 0.0754569622379817\n",
      "Delta: 1.0184356535012664e-05  Loss: 0.07545691087933744\n",
      "converged at iter  1\n",
      "Elapsed time : 2.776954174041748 s\n"
     ]
    },
    {
     "name": "stderr",
     "output_type": "stream",
     "text": [
      "/tmp/ipykernel_3530284/1559086866.py:26: DeprecationWarning: Call to deprecated function (or staticmethod) opt_louvain.\n",
      "  scib.cl.opt_louvain(adata,label_key='cell_type',cluster_key='cluster_key',plot=False,inplace=True,force=True,verbose = False)\n",
      "\n",
      "\n",
      " 50%|█████     | 3/6 [02:27<02:23, 47.80s/it]\u001b[A\u001b[A"
     ]
    },
    {
     "name": "stdout",
     "output_type": "stream",
     "text": [
      "Delta: 2.7221674410579603e-05  Loss: 0.07545703364686213\n",
      "Delta: 4.0711172677424556e-07  Loss: 0.07545702573766219\n",
      "converged at iter  1\n",
      "Elapsed time : 2.9578967094421387 s\n"
     ]
    },
    {
     "name": "stderr",
     "output_type": "stream",
     "text": [
      "/tmp/ipykernel_3530284/1559086866.py:26: DeprecationWarning: Call to deprecated function (or staticmethod) opt_louvain.\n",
      "  scib.cl.opt_louvain(adata,label_key='cell_type',cluster_key='cluster_key',plot=False,inplace=True,force=True,verbose = False)\n",
      "\n",
      "\n",
      " 67%|██████▋   | 4/6 [03:11<01:32, 46.22s/it]\u001b[A\u001b[A"
     ]
    },
    {
     "name": "stdout",
     "output_type": "stream",
     "text": [
      "Delta: 1.726032073074455e-05  Loss: 0.07545704257971055\n",
      "Delta: 1.0446225714779904e-07  Loss: 0.07545703876249388\n",
      "converged at iter  1\n",
      "Elapsed time : 2.8741750717163086 s\n"
     ]
    },
    {
     "name": "stderr",
     "output_type": "stream",
     "text": [
      "/tmp/ipykernel_3530284/1559086866.py:26: DeprecationWarning: Call to deprecated function (or staticmethod) opt_louvain.\n",
      "  scib.cl.opt_louvain(adata,label_key='cell_type',cluster_key='cluster_key',plot=False,inplace=True,force=True,verbose = False)\n",
      "\n",
      "\n",
      " 83%|████████▎ | 5/6 [03:57<00:45, 45.96s/it]\u001b[A\u001b[A"
     ]
    },
    {
     "name": "stdout",
     "output_type": "stream",
     "text": [
      "Delta: 9.29000834878271e-06  Loss: 0.07545704972712208\n",
      "Delta: 5.11829190188181e-09  Loss: 0.07545704898534535\n",
      "converged at iter  1\n",
      "Elapsed time : 3.0360422134399414 s\n"
     ]
    },
    {
     "name": "stderr",
     "output_type": "stream",
     "text": [
      "/tmp/ipykernel_3530284/1559086866.py:26: DeprecationWarning: Call to deprecated function (or staticmethod) opt_louvain.\n",
      "  scib.cl.opt_louvain(adata,label_key='cell_type',cluster_key='cluster_key',plot=False,inplace=True,force=True,verbose = False)\n",
      "\n",
      "\n",
      "100%|██████████| 6/6 [04:39<00:00, 46.58s/it]\u001b[A\u001b[A\n",
      "\n",
      " 67%|██████▋   | 4/6 [34:51<14:13, 426.53s/it]\u001b[A\n",
      "\n",
      "  0%|          | 0/6 [00:00<?, ?it/s]\u001b[A\u001b[A"
     ]
    },
    {
     "name": "stdout",
     "output_type": "stream",
     "text": [
      "Delta: 0.0007883656402494119  Loss: 0.07550613355545992\n",
      "Delta: 0.00031869937254827547  Loss: 0.07550568013068654\n",
      "Delta: 0.00033820584680210316  Loss: 0.07550520633453797\n",
      "Delta: 0.00044816943019126916  Loss: 0.0755044756453862\n",
      "Delta: 0.0007205064613164615  Loss: 0.07550305496650847\n",
      "Delta: 0.0014889350052744086  Loss: 0.07549933808394821\n",
      "Delta: 0.004263443780520952  Loss: 0.07548407828292747\n",
      "Delta: 0.010320403614235958  Loss: 0.07540433187170376\n",
      "Delta: 0.0017336481592122642  Loss: 0.07525614993733387\n",
      "Delta: 8.11005274048443e-05  Loss: 0.07523330616431417\n",
      "Delta: 1.3218478339485427e-05  Loss: 0.07523319366621936\n",
      "Delta: 3.933370950252598e-06  Loss: 0.07523318458431508\n",
      "converged at iter  11\n",
      "Elapsed time : 15.423131465911865 s\n"
     ]
    },
    {
     "name": "stderr",
     "output_type": "stream",
     "text": [
      "/tmp/ipykernel_3530284/1559086866.py:26: DeprecationWarning: Call to deprecated function (or staticmethod) opt_louvain.\n",
      "  scib.cl.opt_louvain(adata,label_key='cell_type',cluster_key='cluster_key',plot=False,inplace=True,force=True,verbose = False)\n",
      "\n",
      "\n",
      " 17%|█▋        | 1/6 [00:55<04:36, 55.29s/it]\u001b[A\u001b[A"
     ]
    },
    {
     "name": "stdout",
     "output_type": "stream",
     "text": [
      "Delta: 0.0001666977004783267  Loss: 0.07550659220484243\n",
      "Delta: 1.0986683642440903e-05  Loss: 0.07550656131583902\n",
      "converged at iter  1\n",
      "Elapsed time : 2.927354097366333 s\n"
     ]
    },
    {
     "name": "stderr",
     "output_type": "stream",
     "text": [
      "/tmp/ipykernel_3530284/1559086866.py:26: DeprecationWarning: Call to deprecated function (or staticmethod) opt_louvain.\n",
      "  scib.cl.opt_louvain(adata,label_key='cell_type',cluster_key='cluster_key',plot=False,inplace=True,force=True,verbose = False)\n",
      "\n",
      "\n",
      " 33%|███▎      | 2/6 [01:38<03:12, 48.10s/it]\u001b[A\u001b[A"
     ]
    },
    {
     "name": "stdout",
     "output_type": "stream",
     "text": [
      "Delta: 8.560853582346132e-05  Loss: 0.07550665232378259\n",
      "Delta: 2.723339135417989e-06  Loss: 0.07550663980365108\n",
      "converged at iter  1\n",
      "Elapsed time : 2.8939666748046875 s\n"
     ]
    },
    {
     "name": "stderr",
     "output_type": "stream",
     "text": [
      "/tmp/ipykernel_3530284/1559086866.py:26: DeprecationWarning: Call to deprecated function (or staticmethod) opt_louvain.\n",
      "  scib.cl.opt_louvain(adata,label_key='cell_type',cluster_key='cluster_key',plot=False,inplace=True,force=True,verbose = False)\n",
      "\n",
      "\n",
      " 50%|█████     | 3/6 [02:23<02:19, 46.64s/it]\u001b[A\u001b[A"
     ]
    },
    {
     "name": "stdout",
     "output_type": "stream",
     "text": [
      "Delta: 2.0114650906919775e-05  Loss: 0.07550670089222022\n",
      "Delta: 1.1103789093405355e-07  Loss: 0.07550669883704647\n",
      "converged at iter  1\n",
      "Elapsed time : 2.856640100479126 s\n"
     ]
    },
    {
     "name": "stderr",
     "output_type": "stream",
     "text": [
      "/tmp/ipykernel_3530284/1559086866.py:26: DeprecationWarning: Call to deprecated function (or staticmethod) opt_louvain.\n",
      "  scib.cl.opt_louvain(adata,label_key='cell_type',cluster_key='cluster_key',plot=False,inplace=True,force=True,verbose = False)\n",
      "\n",
      "\n",
      " 67%|██████▋   | 4/6 [03:07<01:31, 45.69s/it]\u001b[A\u001b[A"
     ]
    },
    {
     "name": "stdout",
     "output_type": "stream",
     "text": [
      "Delta: 1.1888017927349057e-05  Loss: 0.0755067069931597\n",
      "Delta: 2.8681996751959885e-08  Loss: 0.07550670599306102\n",
      "converged at iter  1\n",
      "Elapsed time : 2.7371010780334473 s\n"
     ]
    },
    {
     "name": "stderr",
     "output_type": "stream",
     "text": [
      "/tmp/ipykernel_3530284/1559086866.py:26: DeprecationWarning: Call to deprecated function (or staticmethod) opt_louvain.\n",
      "  scib.cl.opt_louvain(adata,label_key='cell_type',cluster_key='cluster_key',plot=False,inplace=True,force=True,verbose = False)\n",
      "\n",
      "\n",
      " 83%|████████▎ | 5/6 [03:49<00:44, 44.21s/it]\u001b[A\u001b[A"
     ]
    },
    {
     "name": "stdout",
     "output_type": "stream",
     "text": [
      "Delta: 5.300246636516989e-06  Loss: 0.07550671187871742\n",
      "Delta: 1.45042818336726e-09  Loss: 0.07550671168307818\n",
      "converged at iter  1\n",
      "Elapsed time : 2.855922222137451 s\n"
     ]
    },
    {
     "name": "stderr",
     "output_type": "stream",
     "text": [
      "/tmp/ipykernel_3530284/1559086866.py:26: DeprecationWarning: Call to deprecated function (or staticmethod) opt_louvain.\n",
      "  scib.cl.opt_louvain(adata,label_key='cell_type',cluster_key='cluster_key',plot=False,inplace=True,force=True,verbose = False)\n",
      "\n",
      "\n",
      "100%|██████████| 6/6 [04:35<00:00, 45.90s/it]\u001b[A\u001b[A\n",
      "\n",
      " 83%|████████▎ | 5/6 [39:26<06:12, 372.03s/it]\u001b[A\n",
      "\n",
      "  0%|          | 0/6 [00:00<?, ?it/s]\u001b[A\u001b[A"
     ]
    },
    {
     "name": "stdout",
     "output_type": "stream",
     "text": [
      "Delta: 0.0007086598825282232  Loss: 0.07554609124165487\n",
      "Delta: 2.426668754118683e-05  Loss: 0.07554606103018688\n",
      "converged at iter  1\n",
      "Elapsed time : 2.8626420497894287 s\n"
     ]
    },
    {
     "name": "stderr",
     "output_type": "stream",
     "text": [
      "/tmp/ipykernel_3530284/1559086866.py:26: DeprecationWarning: Call to deprecated function (or staticmethod) opt_louvain.\n",
      "  scib.cl.opt_louvain(adata,label_key='cell_type',cluster_key='cluster_key',plot=False,inplace=True,force=True,verbose = False)\n",
      "\n",
      "\n",
      " 17%|█▋        | 1/6 [00:44<03:44, 44.85s/it]\u001b[A\u001b[A"
     ]
    },
    {
     "name": "stdout",
     "output_type": "stream",
     "text": [
      "Delta: 0.00014981761601803452  Loss: 0.07554646967007049\n",
      "Delta: 9.865966904649479e-07  Loss: 0.07554646764008997\n",
      "converged at iter  1\n",
      "Elapsed time : 3.0375359058380127 s\n"
     ]
    },
    {
     "name": "stderr",
     "output_type": "stream",
     "text": [
      "/tmp/ipykernel_3530284/1559086866.py:26: DeprecationWarning: Call to deprecated function (or staticmethod) opt_louvain.\n",
      "  scib.cl.opt_louvain(adata,label_key='cell_type',cluster_key='cluster_key',plot=False,inplace=True,force=True,verbose = False)\n",
      "\n",
      "\n",
      " 33%|███▎      | 2/6 [01:26<02:52, 43.20s/it]\u001b[A\u001b[A"
     ]
    },
    {
     "name": "stdout",
     "output_type": "stream",
     "text": [
      "Delta: 7.578792243022851e-05  Loss: 0.07554652001425599\n",
      "Delta: 2.492221422853341e-07  Loss: 0.0755465192710583\n",
      "converged at iter  1\n",
      "Elapsed time : 2.896976947784424 s\n"
     ]
    },
    {
     "name": "stderr",
     "output_type": "stream",
     "text": [
      "/tmp/ipykernel_3530284/1559086866.py:26: DeprecationWarning: Call to deprecated function (or staticmethod) opt_louvain.\n",
      "  scib.cl.opt_louvain(adata,label_key='cell_type',cluster_key='cluster_key',plot=False,inplace=True,force=True,verbose = False)\n",
      "\n",
      "\n",
      " 50%|█████     | 3/6 [02:18<02:21, 47.01s/it]\u001b[A\u001b[A"
     ]
    },
    {
     "name": "stdout",
     "output_type": "stream",
     "text": [
      "Delta: 1.5825845091634125e-05  Loss: 0.07554656080024855\n",
      "Delta: 1.0452728874370258e-08  Loss: 0.07554656069593393\n",
      "converged at iter  1\n",
      "Elapsed time : 3.060516119003296 s\n"
     ]
    },
    {
     "name": "stderr",
     "output_type": "stream",
     "text": [
      "/tmp/ipykernel_3530284/1559086866.py:26: DeprecationWarning: Call to deprecated function (or staticmethod) opt_louvain.\n",
      "  scib.cl.opt_louvain(adata,label_key='cell_type',cluster_key='cluster_key',plot=False,inplace=True,force=True,verbose = False)\n",
      "\n",
      "\n",
      " 67%|██████▋   | 4/6 [03:01<01:30, 45.27s/it]\u001b[A\u001b[A"
     ]
    },
    {
     "name": "stdout",
     "output_type": "stream",
     "text": [
      "Delta: 8.283590960369255e-06  Loss: 0.0755465659306802\n",
      "Delta: 2.751947162337222e-09  Loss: 0.07554656588132039\n",
      "converged at iter  1\n",
      "Elapsed time : 3.0167477130889893 s\n"
     ]
    },
    {
     "name": "stderr",
     "output_type": "stream",
     "text": [
      "/tmp/ipykernel_3530284/1559086866.py:26: DeprecationWarning: Call to deprecated function (or staticmethod) opt_louvain.\n",
      "  scib.cl.opt_louvain(adata,label_key='cell_type',cluster_key='cluster_key',plot=False,inplace=True,force=True,verbose = False)\n",
      "\n",
      "\n",
      " 83%|████████▎ | 5/6 [03:44<00:44, 44.60s/it]\u001b[A\u001b[A"
     ]
    },
    {
     "name": "stdout",
     "output_type": "stream",
     "text": [
      "Delta: 2.2421986766537165e-06  Loss: 0.07554657004019627\n",
      "Delta: 1.5405377558299128e-10  Loss: 0.07554657003077281\n",
      "converged at iter  1\n",
      "Elapsed time : 2.92742657661438 s\n"
     ]
    },
    {
     "name": "stderr",
     "output_type": "stream",
     "text": [
      "/tmp/ipykernel_3530284/1559086866.py:26: DeprecationWarning: Call to deprecated function (or staticmethod) opt_louvain.\n",
      "  scib.cl.opt_louvain(adata,label_key='cell_type',cluster_key='cluster_key',plot=False,inplace=True,force=True,verbose = False)\n",
      "\n",
      "\n",
      "100%|██████████| 6/6 [04:28<00:00, 44.83s/it]\u001b[A\u001b[A\n",
      "\n",
      "100%|██████████| 6/6 [43:55<00:00, 439.24s/it]\u001b[A\n",
      "100%|██████████| 5/5 [3:22:09<00:00, 2425.87s/it]\n"
     ]
    }
   ],
   "source": [
    "for i in tqdm(['s1d1', 's1d2', 's1d3', 's2d1', 's2d4', 's2d5', 's3d10', 's3d3', 's3d6', 's3d7', 's4d1', 's4d8', 's4d9']):\n",
    "    atac = sc.read('data/'+i+'/atac-emb_gc.h5ad')\n",
    "    rna = sc.read('data/'+i+'/rna-emb_gc.h5ad')\n",
    "    xs = pp.normalize(rna.obsm['X_pca'])\n",
    "    xt = pp.normalize(atac.obsm['X_lsi_red']) \n",
    "    \n",
    "    for eps_1 in tqdm([1e-3,.5e-2,1e-2,.5e-1,1e-1, .5]):\n",
    "        for eps_2 in tqdm([1e-3,.5e-2,1e-2,.5e-1,1e-1, .5]):\n",
    "            ot.tic()\n",
    "            Ts,Tv,_,log=cot.cot_numpy(xs,xt,niter=50,algo = 'sinkhorn', algo2='sinkhorn', reg=eps_1, reg2=eps_2, log=True)\n",
    "            ot.toc()\n",
    "        \n",
    "            translated = Ts.dot(xt)/ np.sum(Ts,axis=1)[:,None]\n",
    "\n",
    "            adata = sc.concat([rna, atac], join = 'outer', label='batch', index_unique = '-', keys=[\"RNA (translated)\", \"ATAC\"])\n",
    "            adata.obsm[\"X_coot\"] = np.concatenate((translated, xt), axis=0)\n",
    "\n",
    "            # Evaluation metrics\n",
    "            f = fcts.foscttm(translated, xt)\n",
    "            lta = fcts.transfer_accuracy(translated, xt, atac.obs['cell_type'], rna.obs['cell_type'])\n",
    "            alg_score = fcts.alignment_score(np.array(translated), np.array(xt))\n",
    "            rmse = fcts.calculate_rmse(translated, xt)\n",
    "\n",
    "            # Bio-conservation metrics\n",
    "            sc.pp.neighbors(adata, use_rep='X_coot')\n",
    "            scib.cl.opt_louvain(adata,label_key='cell_type',cluster_key='cluster_key',plot=False,inplace=True,force=True,verbose = False)\n",
    "            nmi = scib.me.nmi(adata, cluster_key='cluster_key', label_key='cell_type')\n",
    "            asw_label = scib.me.silhouette(adata, label_key='cell_type', embed='X_coot')\n",
    "            ari = scib.me.ari(adata, cluster_key='cluster_key', label_key='cell_type')\n",
    "\n",
    "            # Batch correction metrics\n",
    "            asw_batch = scib.me.silhouette_batch(adata,batch_key='batch',label_key='cell_type',embed='X_coot',verbose=False)\n",
    "            graph_connectivity = scib.me.graph_connectivity(adata, label_key='cell_type')\n",
    "\n",
    "            results.append([i, eps_1, eps_2, f, lta, alg_score, rmse, nmi, asw_label, ari, asw_batch, graph_connectivity])\n",
    "            df_results = pd.DataFrame(\n",
    "                results,\n",
    "                columns = [\"donor\", \"epsilon_1\", \"epsilon_2\", \"foscttm\", \"label_transfer_accuracy\", \"alignment_score\", \"rmse\", \"nmi\", \"asw_label\", \"ari\", \"asw_batch\", \"graph_connectivity\"]\n",
    "            )\n",
    "            df_results.to_csv('results_coot.csv', index = False)"
   ]
  },
  {
   "cell_type": "code",
   "execution_count": null,
   "id": "b00f4f14",
   "metadata": {},
   "outputs": [],
   "source": []
  },
  {
   "cell_type": "code",
   "execution_count": 9,
   "id": "7499515a",
   "metadata": {},
   "outputs": [
    {
     "data": {
      "text/html": [
       "<div>\n",
       "<style scoped>\n",
       "    .dataframe tbody tr th:only-of-type {\n",
       "        vertical-align: middle;\n",
       "    }\n",
       "\n",
       "    .dataframe tbody tr th {\n",
       "        vertical-align: top;\n",
       "    }\n",
       "\n",
       "    .dataframe thead th {\n",
       "        text-align: right;\n",
       "    }\n",
       "</style>\n",
       "<table border=\"1\" class=\"dataframe\">\n",
       "  <thead>\n",
       "    <tr style=\"text-align: right;\">\n",
       "      <th></th>\n",
       "      <th>donor</th>\n",
       "      <th>epsilon_1</th>\n",
       "      <th>epsilon_2</th>\n",
       "      <th>foscttm</th>\n",
       "      <th>label_transfer_accuracy</th>\n",
       "      <th>alignment_score</th>\n",
       "      <th>rmse</th>\n",
       "      <th>nmi</th>\n",
       "      <th>asw_label</th>\n",
       "      <th>ari</th>\n",
       "      <th>asw_batch</th>\n",
       "      <th>graph_connectivity</th>\n",
       "    </tr>\n",
       "  </thead>\n",
       "  <tbody>\n",
       "    <tr>\n",
       "      <th>0</th>\n",
       "      <td>s1d1</td>\n",
       "      <td>0.001</td>\n",
       "      <td>0.001</td>\n",
       "      <td>0.3759</td>\n",
       "      <td>0.306395</td>\n",
       "      <td>0.853630</td>\n",
       "      <td>0.275386</td>\n",
       "      <td>0.462986</td>\n",
       "      <td>0.497683</td>\n",
       "      <td>0.370139</td>\n",
       "      <td>0.790501</td>\n",
       "      <td>0.749880</td>\n",
       "    </tr>\n",
       "    <tr>\n",
       "      <th>1</th>\n",
       "      <td>s1d1</td>\n",
       "      <td>0.001</td>\n",
       "      <td>0.005</td>\n",
       "      <td>0.3647</td>\n",
       "      <td>0.275868</td>\n",
       "      <td>0.830658</td>\n",
       "      <td>0.258202</td>\n",
       "      <td>0.504794</td>\n",
       "      <td>0.505869</td>\n",
       "      <td>0.405349</td>\n",
       "      <td>0.691036</td>\n",
       "      <td>0.740942</td>\n",
       "    </tr>\n",
       "    <tr>\n",
       "      <th>2</th>\n",
       "      <td>s1d1</td>\n",
       "      <td>0.001</td>\n",
       "      <td>0.010</td>\n",
       "      <td>0.4892</td>\n",
       "      <td>0.081941</td>\n",
       "      <td>0.801822</td>\n",
       "      <td>0.263598</td>\n",
       "      <td>0.441205</td>\n",
       "      <td>0.499662</td>\n",
       "      <td>0.264707</td>\n",
       "      <td>0.632119</td>\n",
       "      <td>0.722633</td>\n",
       "    </tr>\n",
       "    <tr>\n",
       "      <th>3</th>\n",
       "      <td>s1d1</td>\n",
       "      <td>0.001</td>\n",
       "      <td>0.050</td>\n",
       "      <td>0.4599</td>\n",
       "      <td>0.112789</td>\n",
       "      <td>0.551727</td>\n",
       "      <td>0.247105</td>\n",
       "      <td>0.493765</td>\n",
       "      <td>0.495997</td>\n",
       "      <td>0.271899</td>\n",
       "      <td>0.532512</td>\n",
       "      <td>0.608115</td>\n",
       "    </tr>\n",
       "    <tr>\n",
       "      <th>4</th>\n",
       "      <td>s1d1</td>\n",
       "      <td>0.001</td>\n",
       "      <td>0.100</td>\n",
       "      <td>0.4602</td>\n",
       "      <td>0.173522</td>\n",
       "      <td>0.217355</td>\n",
       "      <td>0.238604</td>\n",
       "      <td>0.433398</td>\n",
       "      <td>0.492608</td>\n",
       "      <td>0.269628</td>\n",
       "      <td>0.495688</td>\n",
       "      <td>0.435200</td>\n",
       "    </tr>\n",
       "    <tr>\n",
       "      <th>...</th>\n",
       "      <td>...</td>\n",
       "      <td>...</td>\n",
       "      <td>...</td>\n",
       "      <td>...</td>\n",
       "      <td>...</td>\n",
       "      <td>...</td>\n",
       "      <td>...</td>\n",
       "      <td>...</td>\n",
       "      <td>...</td>\n",
       "      <td>...</td>\n",
       "      <td>...</td>\n",
       "      <td>...</td>\n",
       "    </tr>\n",
       "    <tr>\n",
       "      <th>175</th>\n",
       "      <td>s2d4</td>\n",
       "      <td>0.500</td>\n",
       "      <td>0.005</td>\n",
       "      <td>0.5099</td>\n",
       "      <td>0.063001</td>\n",
       "      <td>0.109601</td>\n",
       "      <td>0.235634</td>\n",
       "      <td>0.284054</td>\n",
       "      <td>0.500606</td>\n",
       "      <td>0.213107</td>\n",
       "      <td>0.406894</td>\n",
       "      <td>0.407509</td>\n",
       "    </tr>\n",
       "    <tr>\n",
       "      <th>176</th>\n",
       "      <td>s2d4</td>\n",
       "      <td>0.500</td>\n",
       "      <td>0.010</td>\n",
       "      <td>0.5101</td>\n",
       "      <td>0.063001</td>\n",
       "      <td>0.109602</td>\n",
       "      <td>0.235634</td>\n",
       "      <td>0.278308</td>\n",
       "      <td>0.500606</td>\n",
       "      <td>0.210832</td>\n",
       "      <td>0.406894</td>\n",
       "      <td>0.401572</td>\n",
       "    </tr>\n",
       "    <tr>\n",
       "      <th>177</th>\n",
       "      <td>s2d4</td>\n",
       "      <td>0.500</td>\n",
       "      <td>0.050</td>\n",
       "      <td>0.5103</td>\n",
       "      <td>0.063001</td>\n",
       "      <td>0.109601</td>\n",
       "      <td>0.235634</td>\n",
       "      <td>0.278028</td>\n",
       "      <td>0.500606</td>\n",
       "      <td>0.208791</td>\n",
       "      <td>0.406894</td>\n",
       "      <td>0.401198</td>\n",
       "    </tr>\n",
       "    <tr>\n",
       "      <th>178</th>\n",
       "      <td>s2d4</td>\n",
       "      <td>0.500</td>\n",
       "      <td>0.100</td>\n",
       "      <td>0.5103</td>\n",
       "      <td>0.063001</td>\n",
       "      <td>0.109601</td>\n",
       "      <td>0.235634</td>\n",
       "      <td>0.281382</td>\n",
       "      <td>0.500606</td>\n",
       "      <td>0.213653</td>\n",
       "      <td>0.406894</td>\n",
       "      <td>0.403340</td>\n",
       "    </tr>\n",
       "    <tr>\n",
       "      <th>179</th>\n",
       "      <td>s2d4</td>\n",
       "      <td>0.500</td>\n",
       "      <td>0.500</td>\n",
       "      <td>0.5103</td>\n",
       "      <td>0.063001</td>\n",
       "      <td>0.109601</td>\n",
       "      <td>0.235634</td>\n",
       "      <td>0.277922</td>\n",
       "      <td>0.500606</td>\n",
       "      <td>0.211758</td>\n",
       "      <td>0.406894</td>\n",
       "      <td>0.402532</td>\n",
       "    </tr>\n",
       "  </tbody>\n",
       "</table>\n",
       "<p>180 rows × 12 columns</p>\n",
       "</div>"
      ],
      "text/plain": [
       "    donor  epsilon_1  epsilon_2  foscttm  label_transfer_accuracy  \\\n",
       "0    s1d1      0.001      0.001   0.3759                 0.306395   \n",
       "1    s1d1      0.001      0.005   0.3647                 0.275868   \n",
       "2    s1d1      0.001      0.010   0.4892                 0.081941   \n",
       "3    s1d1      0.001      0.050   0.4599                 0.112789   \n",
       "4    s1d1      0.001      0.100   0.4602                 0.173522   \n",
       "..    ...        ...        ...      ...                      ...   \n",
       "175  s2d4      0.500      0.005   0.5099                 0.063001   \n",
       "176  s2d4      0.500      0.010   0.5101                 0.063001   \n",
       "177  s2d4      0.500      0.050   0.5103                 0.063001   \n",
       "178  s2d4      0.500      0.100   0.5103                 0.063001   \n",
       "179  s2d4      0.500      0.500   0.5103                 0.063001   \n",
       "\n",
       "     alignment_score      rmse       nmi  asw_label       ari  asw_batch  \\\n",
       "0           0.853630  0.275386  0.462986   0.497683  0.370139   0.790501   \n",
       "1           0.830658  0.258202  0.504794   0.505869  0.405349   0.691036   \n",
       "2           0.801822  0.263598  0.441205   0.499662  0.264707   0.632119   \n",
       "3           0.551727  0.247105  0.493765   0.495997  0.271899   0.532512   \n",
       "4           0.217355  0.238604  0.433398   0.492608  0.269628   0.495688   \n",
       "..               ...       ...       ...        ...       ...        ...   \n",
       "175         0.109601  0.235634  0.284054   0.500606  0.213107   0.406894   \n",
       "176         0.109602  0.235634  0.278308   0.500606  0.210832   0.406894   \n",
       "177         0.109601  0.235634  0.278028   0.500606  0.208791   0.406894   \n",
       "178         0.109601  0.235634  0.281382   0.500606  0.213653   0.406894   \n",
       "179         0.109601  0.235634  0.277922   0.500606  0.211758   0.406894   \n",
       "\n",
       "     graph_connectivity  \n",
       "0              0.749880  \n",
       "1              0.740942  \n",
       "2              0.722633  \n",
       "3              0.608115  \n",
       "4              0.435200  \n",
       "..                  ...  \n",
       "175            0.407509  \n",
       "176            0.401572  \n",
       "177            0.401198  \n",
       "178            0.403340  \n",
       "179            0.402532  \n",
       "\n",
       "[180 rows x 12 columns]"
      ]
     },
     "execution_count": 9,
     "metadata": {},
     "output_type": "execute_result"
    }
   ],
   "source": [
    "df_results = pd.DataFrame(\n",
    "    results,\n",
    "    columns = [\"donor\", \"epsilon_1\",\"epsilon_2\", \"foscttm\", \"label_transfer_accuracy\", \"alignment_score\", \"rmse\", \"nmi\", \"asw_label\", \"ari\", \"asw_batch\", \"graph_connectivity\"]\n",
    ")\n",
    "df_results"
   ]
  },
  {
   "cell_type": "code",
   "execution_count": null,
   "id": "bb80e75f",
   "metadata": {},
   "outputs": [],
   "source": []
  },
  {
   "cell_type": "code",
   "execution_count": null,
   "id": "b10148ce",
   "metadata": {},
   "outputs": [],
   "source": []
  }
 ],
 "metadata": {
  "kernelspec": {
   "display_name": "moscot_env_2",
   "language": "python",
   "name": "moscot_env_2"
  },
  "language_info": {
   "codemirror_mode": {
    "name": "ipython",
    "version": 3
   },
   "file_extension": ".py",
   "mimetype": "text/x-python",
   "name": "python",
   "nbconvert_exporter": "python",
   "pygments_lexer": "ipython3",
   "version": "3.9.16"
  }
 },
 "nbformat": 4,
 "nbformat_minor": 5
}
