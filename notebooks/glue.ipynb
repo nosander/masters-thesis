{
 "cells": [
  {
   "cell_type": "code",
   "execution_count": 1,
   "id": "67c5205a",
   "metadata": {},
   "outputs": [],
   "source": [
    "%load_ext autoreload\n",
    "%autoreload 2"
   ]
  },
  {
   "cell_type": "code",
   "execution_count": 2,
   "id": "b729ba73",
   "metadata": {},
   "outputs": [
    {
     "name": "stderr",
     "output_type": "stream",
     "text": [
      "/dss/dsshome1/01/di93bur/miniconda3/envs/scglue_env_2/lib/python3.9/site-packages/tqdm/auto.py:21: TqdmWarning: IProgress not found. Please update jupyter and ipywidgets. See https://ipywidgets.readthedocs.io/en/stable/user_install.html\n",
      "  from .autonotebook import tqdm as notebook_tqdm\n"
     ]
    }
   ],
   "source": [
    "import warnings\n",
    "\n",
    "import networkx as nx\n",
    "import scglue\n",
    "from itertools import chain\n",
    "import itertools\n",
    "from tqdm import tqdm\n",
    "\n",
    "import scanpy as sc\n",
    "import anndata as ad\n",
    "import numpy as np\n",
    "import scipy\n",
    "import matplotlib.pyplot as plt\n",
    "import pandas as pd\n",
    "from sklearn import preprocessing as pp\n",
    "\n",
    "import time\n",
    "from tqdm import tqdm\n",
    "import seaborn as sns\n",
    "import scib_metrics\n",
    "import helper_functions as fcts"
   ]
  },
  {
   "cell_type": "code",
   "execution_count": 3,
   "id": "59126736",
   "metadata": {},
   "outputs": [],
   "source": [
    "i = 's1d2'\n",
    "atac = sc.read('data/'+i+'/atac-glue.h5ad')\n",
    "rna = sc.read('data/'+i+'/rna-glue.h5ad')\n",
    "guidance = nx.read_graphml('data/'+i+'/guidance.graphml.gz')"
   ]
  },
  {
   "cell_type": "code",
   "execution_count": 4,
   "id": "b3ac941f",
   "metadata": {},
   "outputs": [],
   "source": [
    "scglue.models.configure_dataset(\n",
    "    rna, \"NB\", use_highly_variable=True,\n",
    "    use_layer=\"counts\", use_rep=\"X_pca\",\n",
    "    use_obs_names=True\n",
    ")"
   ]
  },
  {
   "cell_type": "code",
   "execution_count": 5,
   "id": "17ddc9c1",
   "metadata": {},
   "outputs": [],
   "source": [
    "scglue.models.configure_dataset(\n",
    "    atac, \"NB\", use_highly_variable=True,\n",
    "    use_layer=\"counts\", use_rep=\"X_lsi_red\",\n",
    "    use_obs_names=True\n",
    ")"
   ]
  },
  {
   "cell_type": "code",
   "execution_count": 6,
   "id": "84cc8e35",
   "metadata": {},
   "outputs": [],
   "source": [
    "guidance_hvf = guidance.subgraph(chain(\n",
    "    rna.var.query(\"highly_variable\").index,\n",
    "    atac.var.query(\"highly_variable\").index\n",
    ")).copy()"
   ]
  },
  {
   "cell_type": "code",
   "execution_count": 7,
   "id": "b901d069",
   "metadata": {},
   "outputs": [
    {
     "name": "stdout",
     "output_type": "stream",
     "text": [
      "[INFO] fit_SCGLUE: Pretraining SCGLUE model...\n"
     ]
    },
    {
     "name": "stderr",
     "output_type": "stream",
     "text": [
      "[WARNING] PairedSCGLUEModel: It is recommended that `use_rep` dimensionality be equal or larger than `latent_dim`.\n"
     ]
    },
    {
     "name": "stdout",
     "output_type": "stream",
     "text": [
      "[INFO] autodevice: Using CPU as computation device.\n",
      "[INFO] check_graph: Checking variable coverage...\n",
      "[INFO] check_graph: Checking edge attributes...\n",
      "[INFO] check_graph: Checking self-loops...\n",
      "[INFO] check_graph: Checking graph symmetry...\n",
      "[INFO] PairedSCGLUEModel: Setting `graph_batch_size` = 3437\n",
      "[INFO] PairedSCGLUEModel: Setting `max_epochs` = 507\n",
      "[INFO] PairedSCGLUEModel: Setting `patience` = 43\n",
      "[INFO] PairedSCGLUEModel: Setting `reduce_lr_patience` = 22\n",
      "[INFO] PairedSCGLUETrainer: Using training directory: \"glue/pretrain\"\n",
      "[INFO] PairedSCGLUETrainer: [Epoch 10] train={'g_nll': 0.624, 'g_kl': 0.034, 'g_elbo': 0.659, 'x_rna_nll': 0.528, 'x_rna_kl': 0.014, 'x_rna_elbo': 0.542, 'x_atac_nll': 0.671, 'x_atac_kl': 0.007, 'x_atac_elbo': 0.678, 'dsc_loss': 0.683, 'vae_loss': 1.301, 'gen_loss': 1.267, 'joint_cross_loss': 1.197, 'real_cross_loss': 1.216, 'cos_loss': 0.342}, val={'g_nll': 0.626, 'g_kl': 0.035, 'g_elbo': 0.661, 'x_rna_nll': 0.521, 'x_rna_kl': 0.012, 'x_rna_elbo': 0.533, 'x_atac_nll': 0.682, 'x_atac_kl': 0.006, 'x_atac_elbo': 0.688, 'dsc_loss': 0.689, 'vae_loss': 1.303, 'gen_loss': 1.268, 'joint_cross_loss': 1.203, 'real_cross_loss': 1.219, 'cos_loss': 0.323}, 5.1s elapsed\n",
      "[INFO] PairedSCGLUETrainer: [Epoch 20] train={'g_nll': 0.59, 'g_kl': 0.046, 'g_elbo': 0.636, 'x_rna_nll': 0.513, 'x_rna_kl': 0.01, 'x_rna_elbo': 0.523, 'x_atac_nll': 0.656, 'x_atac_kl': 0.004, 'x_atac_elbo': 0.661, 'dsc_loss': 0.686, 'vae_loss': 1.265, 'gen_loss': 1.231, 'joint_cross_loss': 1.173, 'real_cross_loss': 1.192, 'cos_loss': 0.435}, val={'g_nll': 0.584, 'g_kl': 0.046, 'g_elbo': 0.631, 'x_rna_nll': 0.505, 'x_rna_kl': 0.009, 'x_rna_elbo': 0.514, 'x_atac_nll': 0.669, 'x_atac_kl': 0.004, 'x_atac_elbo': 0.673, 'dsc_loss': 0.688, 'vae_loss': 1.268, 'gen_loss': 1.234, 'joint_cross_loss': 1.178, 'real_cross_loss': 1.197, 'cos_loss': 0.43}, 5.4s elapsed\n",
      "[INFO] PairedSCGLUETrainer: [Epoch 30] train={'g_nll': 0.511, 'g_kl': 0.045, 'g_elbo': 0.556, 'x_rna_nll': 0.508, 'x_rna_kl': 0.009, 'x_rna_elbo': 0.517, 'x_atac_nll': 0.653, 'x_atac_kl': 0.004, 'x_atac_elbo': 0.657, 'dsc_loss': 0.687, 'vae_loss': 1.252, 'gen_loss': 1.218, 'joint_cross_loss': 1.164, 'real_cross_loss': 1.186, 'cos_loss': 0.471}, val={'g_nll': 0.505, 'g_kl': 0.045, 'g_elbo': 0.549, 'x_rna_nll': 0.503, 'x_rna_kl': 0.009, 'x_rna_elbo': 0.512, 'x_atac_nll': 0.667, 'x_atac_kl': 0.004, 'x_atac_elbo': 0.671, 'dsc_loss': 0.695, 'vae_loss': 1.262, 'gen_loss': 1.227, 'joint_cross_loss': 1.174, 'real_cross_loss': 1.196, 'cos_loss': 0.471}, 5.0s elapsed\n",
      "[INFO] PairedSCGLUETrainer: [Epoch 40] train={'g_nll': 0.483, 'g_kl': 0.043, 'g_elbo': 0.526, 'x_rna_nll': 0.506, 'x_rna_kl': 0.009, 'x_rna_elbo': 0.515, 'x_atac_nll': 0.652, 'x_atac_kl': 0.004, 'x_atac_elbo': 0.656, 'dsc_loss': 0.689, 'vae_loss': 1.249, 'gen_loss': 1.214, 'joint_cross_loss': 1.163, 'real_cross_loss': 1.185, 'cos_loss': 0.479}, val={'g_nll': 0.48, 'g_kl': 0.043, 'g_elbo': 0.523, 'x_rna_nll': 0.498, 'x_rna_kl': 0.009, 'x_rna_elbo': 0.507, 'x_atac_nll': 0.667, 'x_atac_kl': 0.004, 'x_atac_elbo': 0.67, 'dsc_loss': 0.689, 'vae_loss': 1.255, 'gen_loss': 1.221, 'joint_cross_loss': 1.17, 'real_cross_loss': 1.191, 'cos_loss': 0.479}, 5.5s elapsed\n",
      "[INFO] PairedSCGLUETrainer: [Epoch 50] train={'g_nll': 0.472, 'g_kl': 0.042, 'g_elbo': 0.514, 'x_rna_nll': 0.505, 'x_rna_kl': 0.009, 'x_rna_elbo': 0.514, 'x_atac_nll': 0.652, 'x_atac_kl': 0.004, 'x_atac_elbo': 0.656, 'dsc_loss': 0.69, 'vae_loss': 1.246, 'gen_loss': 1.212, 'joint_cross_loss': 1.162, 'real_cross_loss': 1.185, 'cos_loss': 0.478}, val={'g_nll': 0.477, 'g_kl': 0.042, 'g_elbo': 0.518, 'x_rna_nll': 0.497, 'x_rna_kl': 0.009, 'x_rna_elbo': 0.506, 'x_atac_nll': 0.665, 'x_atac_kl': 0.004, 'x_atac_elbo': 0.668, 'dsc_loss': 0.694, 'vae_loss': 1.252, 'gen_loss': 1.217, 'joint_cross_loss': 1.168, 'real_cross_loss': 1.192, 'cos_loss': 0.471}, 5.3s elapsed\n",
      "[INFO] PairedSCGLUETrainer: [Epoch 60] train={'g_nll': 0.462, 'g_kl': 0.04, 'g_elbo': 0.502, 'x_rna_nll': 0.504, 'x_rna_kl': 0.009, 'x_rna_elbo': 0.513, 'x_atac_nll': 0.652, 'x_atac_kl': 0.004, 'x_atac_elbo': 0.656, 'dsc_loss': 0.69, 'vae_loss': 1.245, 'gen_loss': 1.211, 'joint_cross_loss': 1.161, 'real_cross_loss': 1.185, 'cos_loss': 0.474}, val={'g_nll': 0.464, 'g_kl': 0.04, 'g_elbo': 0.504, 'x_rna_nll': 0.498, 'x_rna_kl': 0.009, 'x_rna_elbo': 0.507, 'x_atac_nll': 0.667, 'x_atac_kl': 0.003, 'x_atac_elbo': 0.67, 'dsc_loss': 0.69, 'vae_loss': 1.254, 'gen_loss': 1.22, 'joint_cross_loss': 1.17, 'real_cross_loss': 1.194, 'cos_loss': 0.477}, 5.1s elapsed\n",
      "[INFO] PairedSCGLUETrainer: [Epoch 70] train={'g_nll': 0.458, 'g_kl': 0.039, 'g_elbo': 0.497, 'x_rna_nll': 0.504, 'x_rna_kl': 0.009, 'x_rna_elbo': 0.513, 'x_atac_nll': 0.653, 'x_atac_kl': 0.003, 'x_atac_elbo': 0.656, 'dsc_loss': 0.69, 'vae_loss': 1.246, 'gen_loss': 1.211, 'joint_cross_loss': 1.162, 'real_cross_loss': 1.186, 'cos_loss': 0.471}, val={'g_nll': 0.454, 'g_kl': 0.039, 'g_elbo': 0.493, 'x_rna_nll': 0.502, 'x_rna_kl': 0.009, 'x_rna_elbo': 0.511, 'x_atac_nll': 0.664, 'x_atac_kl': 0.003, 'x_atac_elbo': 0.668, 'dsc_loss': 0.691, 'vae_loss': 1.255, 'gen_loss': 1.221, 'joint_cross_loss': 1.172, 'real_cross_loss': 1.197, 'cos_loss': 0.471}, 5.0s elapsed\n",
      "[INFO] PairedSCGLUETrainer: [Epoch 80] train={'g_nll': 0.451, 'g_kl': 0.038, 'g_elbo': 0.489, 'x_rna_nll': 0.504, 'x_rna_kl': 0.009, 'x_rna_elbo': 0.513, 'x_atac_nll': 0.652, 'x_atac_kl': 0.003, 'x_atac_elbo': 0.656, 'dsc_loss': 0.691, 'vae_loss': 1.245, 'gen_loss': 1.21, 'joint_cross_loss': 1.162, 'real_cross_loss': 1.187, 'cos_loss': 0.466}, val={'g_nll': 0.449, 'g_kl': 0.038, 'g_elbo': 0.487, 'x_rna_nll': 0.496, 'x_rna_kl': 0.009, 'x_rna_elbo': 0.505, 'x_atac_nll': 0.667, 'x_atac_kl': 0.003, 'x_atac_elbo': 0.67, 'dsc_loss': 0.691, 'vae_loss': 1.251, 'gen_loss': 1.216, 'joint_cross_loss': 1.169, 'real_cross_loss': 1.194, 'cos_loss': 0.469}, 4.6s elapsed\n",
      "Epoch 00087: reducing learning rate of group 0 to 2.0000e-04.\n",
      "Epoch 00087: reducing learning rate of group 0 to 2.0000e-04.\n",
      "[INFO] LRScheduler: Learning rate reduction: step 1\n",
      "[INFO] PairedSCGLUETrainer: [Epoch 90] train={'g_nll': 0.446, 'g_kl': 0.038, 'g_elbo': 0.484, 'x_rna_nll': 0.502, 'x_rna_kl': 0.009, 'x_rna_elbo': 0.511, 'x_atac_nll': 0.653, 'x_atac_kl': 0.003, 'x_atac_elbo': 0.656, 'dsc_loss': 0.69, 'vae_loss': 1.242, 'gen_loss': 1.207, 'joint_cross_loss': 1.16, 'real_cross_loss': 1.184, 'cos_loss': 0.462}, val={'g_nll': 0.448, 'g_kl': 0.038, 'g_elbo': 0.485, 'x_rna_nll': 0.494, 'x_rna_kl': 0.009, 'x_rna_elbo': 0.503, 'x_atac_nll': 0.668, 'x_atac_kl': 0.003, 'x_atac_elbo': 0.671, 'dsc_loss': 0.691, 'vae_loss': 1.25, 'gen_loss': 1.216, 'joint_cross_loss': 1.168, 'real_cross_loss': 1.194, 'cos_loss': 0.458}, 5.0s elapsed\n",
      "[INFO] PairedSCGLUETrainer: [Epoch 100] train={'g_nll': 0.447, 'g_kl': 0.037, 'g_elbo': 0.484, 'x_rna_nll': 0.501, 'x_rna_kl': 0.009, 'x_rna_elbo': 0.51, 'x_atac_nll': 0.651, 'x_atac_kl': 0.003, 'x_atac_elbo': 0.655, 'dsc_loss': 0.691, 'vae_loss': 1.241, 'gen_loss': 1.206, 'joint_cross_loss': 1.158, 'real_cross_loss': 1.183, 'cos_loss': 0.46}, val={'g_nll': 0.447, 'g_kl': 0.037, 'g_elbo': 0.485, 'x_rna_nll': 0.499, 'x_rna_kl': 0.009, 'x_rna_elbo': 0.508, 'x_atac_nll': 0.668, 'x_atac_kl': 0.003, 'x_atac_elbo': 0.671, 'dsc_loss': 0.69, 'vae_loss': 1.255, 'gen_loss': 1.221, 'joint_cross_loss': 1.172, 'real_cross_loss': 1.197, 'cos_loss': 0.459}, 5.6s elapsed\n",
      "[INFO] PairedSCGLUETrainer: [Epoch 110] train={'g_nll': 0.445, 'g_kl': 0.037, 'g_elbo': 0.482, 'x_rna_nll': 0.502, 'x_rna_kl': 0.009, 'x_rna_elbo': 0.511, 'x_atac_nll': 0.652, 'x_atac_kl': 0.003, 'x_atac_elbo': 0.655, 'dsc_loss': 0.692, 'vae_loss': 1.241, 'gen_loss': 1.207, 'joint_cross_loss': 1.159, 'real_cross_loss': 1.184, 'cos_loss': 0.462}, val={'g_nll': 0.446, 'g_kl': 0.037, 'g_elbo': 0.483, 'x_rna_nll': 0.491, 'x_rna_kl': 0.009, 'x_rna_elbo': 0.5, 'x_atac_nll': 0.66, 'x_atac_kl': 0.003, 'x_atac_elbo': 0.663, 'dsc_loss': 0.691, 'vae_loss': 1.239, 'gen_loss': 1.204, 'joint_cross_loss': 1.157, 'real_cross_loss': 1.182, 'cos_loss': 0.459}, 8.5s elapsed\n",
      "Epoch 00119: reducing learning rate of group 0 to 2.0000e-05.\n",
      "Epoch 00119: reducing learning rate of group 0 to 2.0000e-05.\n",
      "[INFO] LRScheduler: Learning rate reduction: step 2\n",
      "[INFO] PairedSCGLUETrainer: [Epoch 120] train={'g_nll': 0.445, 'g_kl': 0.037, 'g_elbo': 0.482, 'x_rna_nll': 0.501, 'x_rna_kl': 0.009, 'x_rna_elbo': 0.51, 'x_atac_nll': 0.652, 'x_atac_kl': 0.003, 'x_atac_elbo': 0.656, 'dsc_loss': 0.692, 'vae_loss': 1.241, 'gen_loss': 1.207, 'joint_cross_loss': 1.159, 'real_cross_loss': 1.185, 'cos_loss': 0.461}, val={'g_nll': 0.446, 'g_kl': 0.037, 'g_elbo': 0.483, 'x_rna_nll': 0.499, 'x_rna_kl': 0.009, 'x_rna_elbo': 0.508, 'x_atac_nll': 0.668, 'x_atac_kl': 0.003, 'x_atac_elbo': 0.671, 'dsc_loss': 0.687, 'vae_loss': 1.255, 'gen_loss': 1.22, 'joint_cross_loss': 1.173, 'real_cross_loss': 1.198, 'cos_loss': 0.455}, 5.3s elapsed\n",
      "[INFO] PairedSCGLUETrainer: [Epoch 130] train={'g_nll': 0.445, 'g_kl': 0.037, 'g_elbo': 0.482, 'x_rna_nll': 0.502, 'x_rna_kl': 0.009, 'x_rna_elbo': 0.511, 'x_atac_nll': 0.651, 'x_atac_kl': 0.003, 'x_atac_elbo': 0.655, 'dsc_loss': 0.69, 'vae_loss': 1.241, 'gen_loss': 1.206, 'joint_cross_loss': 1.159, 'real_cross_loss': 1.184, 'cos_loss': 0.46}, val={'g_nll': 0.448, 'g_kl': 0.037, 'g_elbo': 0.485, 'x_rna_nll': 0.496, 'x_rna_kl': 0.009, 'x_rna_elbo': 0.505, 'x_atac_nll': 0.666, 'x_atac_kl': 0.003, 'x_atac_elbo': 0.669, 'dsc_loss': 0.693, 'vae_loss': 1.25, 'gen_loss': 1.216, 'joint_cross_loss': 1.168, 'real_cross_loss': 1.193, 'cos_loss': 0.46}, 13.8s elapsed\n"
     ]
    },
    {
     "name": "stderr",
     "output_type": "stream",
     "text": [
      "2023-05-05 14:04:56,054 ignite.handlers.early_stopping.EarlyStopping INFO: EarlyStopping: Stop training\n"
     ]
    },
    {
     "name": "stdout",
     "output_type": "stream",
     "text": [
      "[INFO] EarlyStopping: Restoring checkpoint \"112\"...\n",
      "[INFO] EarlyStopping: Restoring checkpoint \"112\"...\n",
      "[INFO] fit_SCGLUE: Estimating balancing weight...\n",
      "[INFO] estimate_balancing_weight: Clustering cells...\n",
      "[INFO] estimate_balancing_weight: Matching clusters...\n",
      "[INFO] estimate_balancing_weight: Matching array shape = (16, 18)...\n",
      "[INFO] estimate_balancing_weight: Estimating balancing weight...\n"
     ]
    },
    {
     "name": "stderr",
     "output_type": "stream",
     "text": [
      "/dss/dsshome1/01/di93bur/miniconda3/envs/scglue_env_2/lib/python3.9/site-packages/anndata/_core/anndata.py:117: ImplicitModificationWarning: Transforming to str index.\n",
      "  warnings.warn(\"Transforming to str index.\", ImplicitModificationWarning)\n",
      "/dss/dsshome1/01/di93bur/miniconda3/envs/scglue_env_2/lib/python3.9/site-packages/anndata/_core/anndata.py:117: ImplicitModificationWarning: Transforming to str index.\n",
      "  warnings.warn(\"Transforming to str index.\", ImplicitModificationWarning)\n"
     ]
    },
    {
     "name": "stdout",
     "output_type": "stream",
     "text": [
      "[INFO] fit_SCGLUE: Fine-tuning SCGLUE model...\n"
     ]
    },
    {
     "name": "stderr",
     "output_type": "stream",
     "text": [
      "[WARNING] PairedSCGLUEModel: It is recommended that `use_rep` dimensionality be equal or larger than `latent_dim`.\n"
     ]
    },
    {
     "name": "stdout",
     "output_type": "stream",
     "text": [
      "[INFO] check_graph: Checking variable coverage...\n",
      "[INFO] check_graph: Checking edge attributes...\n",
      "[INFO] check_graph: Checking self-loops...\n",
      "[INFO] check_graph: Checking graph symmetry...\n",
      "[INFO] PairedSCGLUEModel: Setting `graph_batch_size` = 3437\n",
      "[INFO] PairedSCGLUEModel: Setting `align_burnin` = 85\n",
      "[INFO] PairedSCGLUEModel: Setting `max_epochs` = 507\n",
      "[INFO] PairedSCGLUEModel: Setting `patience` = 43\n",
      "[INFO] PairedSCGLUEModel: Setting `reduce_lr_patience` = 22\n",
      "[INFO] PairedSCGLUETrainer: Using training directory: \"glue/fine-tune\"\n",
      "[INFO] PairedSCGLUETrainer: [Epoch 10] train={'g_nll': 0.442, 'g_kl': 0.036, 'g_elbo': 0.479, 'x_rna_nll': 0.504, 'x_rna_kl': 0.009, 'x_rna_elbo': 0.513, 'x_atac_nll': 0.653, 'x_atac_kl': 0.003, 'x_atac_elbo': 0.657, 'dsc_loss': 0.691, 'vae_loss': 1.246, 'gen_loss': 1.211, 'joint_cross_loss': 1.163, 'real_cross_loss': 1.189, 'cos_loss': 0.461}, val={'g_nll': 0.44, 'g_kl': 0.036, 'g_elbo': 0.476, 'x_rna_nll': 0.49, 'x_rna_kl': 0.009, 'x_rna_elbo': 0.499, 'x_atac_nll': 0.656, 'x_atac_kl': 0.003, 'x_atac_elbo': 0.659, 'dsc_loss': 0.697, 'vae_loss': 1.232, 'gen_loss': 1.197, 'joint_cross_loss': 1.15, 'real_cross_loss': 1.173, 'cos_loss': 0.457}, 6.9s elapsed\n",
      "[INFO] PairedSCGLUETrainer: [Epoch 20] train={'g_nll': 0.439, 'g_kl': 0.036, 'g_elbo': 0.474, 'x_rna_nll': 0.503, 'x_rna_kl': 0.009, 'x_rna_elbo': 0.512, 'x_atac_nll': 0.653, 'x_atac_kl': 0.003, 'x_atac_elbo': 0.656, 'dsc_loss': 0.691, 'vae_loss': 1.243, 'gen_loss': 1.209, 'joint_cross_loss': 1.162, 'real_cross_loss': 1.188, 'cos_loss': 0.458}, val={'g_nll': 0.439, 'g_kl': 0.036, 'g_elbo': 0.474, 'x_rna_nll': 0.488, 'x_rna_kl': 0.009, 'x_rna_elbo': 0.496, 'x_atac_nll': 0.651, 'x_atac_kl': 0.003, 'x_atac_elbo': 0.655, 'dsc_loss': 0.696, 'vae_loss': 1.226, 'gen_loss': 1.191, 'joint_cross_loss': 1.144, 'real_cross_loss': 1.167, 'cos_loss': 0.465}, 5.1s elapsed\n",
      "[INFO] PairedSCGLUETrainer: [Epoch 30] train={'g_nll': 0.435, 'g_kl': 0.035, 'g_elbo': 0.47, 'x_rna_nll': 0.503, 'x_rna_kl': 0.009, 'x_rna_elbo': 0.512, 'x_atac_nll': 0.653, 'x_atac_kl': 0.003, 'x_atac_elbo': 0.656, 'dsc_loss': 0.691, 'vae_loss': 1.244, 'gen_loss': 1.209, 'joint_cross_loss': 1.162, 'real_cross_loss': 1.189, 'cos_loss': 0.455}, val={'g_nll': 0.437, 'g_kl': 0.035, 'g_elbo': 0.472, 'x_rna_nll': 0.49, 'x_rna_kl': 0.009, 'x_rna_elbo': 0.499, 'x_atac_nll': 0.655, 'x_atac_kl': 0.003, 'x_atac_elbo': 0.658, 'dsc_loss': 0.696, 'vae_loss': 1.231, 'gen_loss': 1.197, 'joint_cross_loss': 1.15, 'real_cross_loss': 1.174, 'cos_loss': 0.459}, 5.5s elapsed\n",
      "[INFO] PairedSCGLUETrainer: [Epoch 40] train={'g_nll': 0.432, 'g_kl': 0.034, 'g_elbo': 0.467, 'x_rna_nll': 0.503, 'x_rna_kl': 0.009, 'x_rna_elbo': 0.512, 'x_atac_nll': 0.653, 'x_atac_kl': 0.003, 'x_atac_elbo': 0.656, 'dsc_loss': 0.69, 'vae_loss': 1.243, 'gen_loss': 1.209, 'joint_cross_loss': 1.162, 'real_cross_loss': 1.189, 'cos_loss': 0.453}, val={'g_nll': 0.431, 'g_kl': 0.034, 'g_elbo': 0.465, 'x_rna_nll': 0.491, 'x_rna_kl': 0.009, 'x_rna_elbo': 0.5, 'x_atac_nll': 0.656, 'x_atac_kl': 0.003, 'x_atac_elbo': 0.66, 'dsc_loss': 0.699, 'vae_loss': 1.234, 'gen_loss': 1.199, 'joint_cross_loss': 1.152, 'real_cross_loss': 1.175, 'cos_loss': 0.455}, 5.3s elapsed\n",
      "[INFO] PairedSCGLUETrainer: [Epoch 50] train={'g_nll': 0.43, 'g_kl': 0.034, 'g_elbo': 0.464, 'x_rna_nll': 0.502, 'x_rna_kl': 0.009, 'x_rna_elbo': 0.512, 'x_atac_nll': 0.653, 'x_atac_kl': 0.003, 'x_atac_elbo': 0.656, 'dsc_loss': 0.69, 'vae_loss': 1.242, 'gen_loss': 1.208, 'joint_cross_loss': 1.161, 'real_cross_loss': 1.189, 'cos_loss': 0.452}, val={'g_nll': 0.429, 'g_kl': 0.034, 'g_elbo': 0.462, 'x_rna_nll': 0.495, 'x_rna_kl': 0.009, 'x_rna_elbo': 0.504, 'x_atac_nll': 0.662, 'x_atac_kl': 0.003, 'x_atac_elbo': 0.665, 'dsc_loss': 0.694, 'vae_loss': 1.243, 'gen_loss': 1.208, 'joint_cross_loss': 1.161, 'real_cross_loss': 1.187, 'cos_loss': 0.46}, 5.1s elapsed\n",
      "[INFO] PairedSCGLUETrainer: [Epoch 60] train={'g_nll': 0.427, 'g_kl': 0.033, 'g_elbo': 0.46, 'x_rna_nll': 0.502, 'x_rna_kl': 0.009, 'x_rna_elbo': 0.512, 'x_atac_nll': 0.653, 'x_atac_kl': 0.003, 'x_atac_elbo': 0.656, 'dsc_loss': 0.69, 'vae_loss': 1.242, 'gen_loss': 1.208, 'joint_cross_loss': 1.161, 'real_cross_loss': 1.189, 'cos_loss': 0.452}, val={'g_nll': 0.428, 'g_kl': 0.033, 'g_elbo': 0.461, 'x_rna_nll': 0.487, 'x_rna_kl': 0.009, 'x_rna_elbo': 0.495, 'x_atac_nll': 0.654, 'x_atac_kl': 0.003, 'x_atac_elbo': 0.658, 'dsc_loss': 0.7, 'vae_loss': 1.227, 'gen_loss': 1.192, 'joint_cross_loss': 1.147, 'real_cross_loss': 1.172, 'cos_loss': 0.455}, 5.1s elapsed\n",
      "[INFO] PairedSCGLUETrainer: [Epoch 70] train={'g_nll': 0.427, 'g_kl': 0.033, 'g_elbo': 0.46, 'x_rna_nll': 0.502, 'x_rna_kl': 0.009, 'x_rna_elbo': 0.511, 'x_atac_nll': 0.653, 'x_atac_kl': 0.003, 'x_atac_elbo': 0.656, 'dsc_loss': 0.688, 'vae_loss': 1.242, 'gen_loss': 1.208, 'joint_cross_loss': 1.162, 'real_cross_loss': 1.19, 'cos_loss': 0.45}, val={'g_nll': 0.422, 'g_kl': 0.033, 'g_elbo': 0.455, 'x_rna_nll': 0.488, 'x_rna_kl': 0.009, 'x_rna_elbo': 0.497, 'x_atac_nll': 0.656, 'x_atac_kl': 0.003, 'x_atac_elbo': 0.659, 'dsc_loss': 0.696, 'vae_loss': 1.23, 'gen_loss': 1.196, 'joint_cross_loss': 1.15, 'real_cross_loss': 1.176, 'cos_loss': 0.451}, 5.1s elapsed\n",
      "[INFO] PairedSCGLUETrainer: [Epoch 80] train={'g_nll': 0.425, 'g_kl': 0.033, 'g_elbo': 0.457, 'x_rna_nll': 0.502, 'x_rna_kl': 0.009, 'x_rna_elbo': 0.511, 'x_atac_nll': 0.653, 'x_atac_kl': 0.003, 'x_atac_elbo': 0.656, 'dsc_loss': 0.688, 'vae_loss': 1.242, 'gen_loss': 1.207, 'joint_cross_loss': 1.161, 'real_cross_loss': 1.19, 'cos_loss': 0.452}, val={'g_nll': 0.426, 'g_kl': 0.033, 'g_elbo': 0.459, 'x_rna_nll': 0.49, 'x_rna_kl': 0.009, 'x_rna_elbo': 0.499, 'x_atac_nll': 0.657, 'x_atac_kl': 0.003, 'x_atac_elbo': 0.66, 'dsc_loss': 0.697, 'vae_loss': 1.233, 'gen_loss': 1.198, 'joint_cross_loss': 1.153, 'real_cross_loss': 1.178, 'cos_loss': 0.451}, 5.2s elapsed\n",
      "[INFO] PairedSCGLUETrainer: [Epoch 90] train={'g_nll': 0.424, 'g_kl': 0.032, 'g_elbo': 0.457, 'x_rna_nll': 0.502, 'x_rna_kl': 0.009, 'x_rna_elbo': 0.511, 'x_atac_nll': 0.652, 'x_atac_kl': 0.003, 'x_atac_elbo': 0.656, 'dsc_loss': 0.688, 'vae_loss': 1.241, 'gen_loss': 1.206, 'joint_cross_loss': 1.161, 'real_cross_loss': 1.189, 'cos_loss': 0.451}, val={'g_nll': 0.426, 'g_kl': 0.032, 'g_elbo': 0.458, 'x_rna_nll': 0.49, 'x_rna_kl': 0.009, 'x_rna_elbo': 0.498, 'x_atac_nll': 0.66, 'x_atac_kl': 0.003, 'x_atac_elbo': 0.663, 'dsc_loss': 0.696, 'vae_loss': 1.236, 'gen_loss': 1.201, 'joint_cross_loss': 1.155, 'real_cross_loss': 1.181, 'cos_loss': 0.461}, 5.8s elapsed\n",
      "[INFO] PairedSCGLUETrainer: [Epoch 100] train={'g_nll': 0.423, 'g_kl': 0.032, 'g_elbo': 0.455, 'x_rna_nll': 0.502, 'x_rna_kl': 0.009, 'x_rna_elbo': 0.511, 'x_atac_nll': 0.653, 'x_atac_kl': 0.003, 'x_atac_elbo': 0.656, 'dsc_loss': 0.688, 'vae_loss': 1.241, 'gen_loss': 1.207, 'joint_cross_loss': 1.161, 'real_cross_loss': 1.189, 'cos_loss': 0.452}, val={'g_nll': 0.426, 'g_kl': 0.032, 'g_elbo': 0.458, 'x_rna_nll': 0.491, 'x_rna_kl': 0.009, 'x_rna_elbo': 0.499, 'x_atac_nll': 0.659, 'x_atac_kl': 0.003, 'x_atac_elbo': 0.662, 'dsc_loss': 0.694, 'vae_loss': 1.236, 'gen_loss': 1.201, 'joint_cross_loss': 1.155, 'real_cross_loss': 1.18, 'cos_loss': 0.456}, 5.0s elapsed\n",
      "[INFO] PairedSCGLUETrainer: [Epoch 110] train={'g_nll': 0.423, 'g_kl': 0.032, 'g_elbo': 0.455, 'x_rna_nll': 0.502, 'x_rna_kl': 0.009, 'x_rna_elbo': 0.511, 'x_atac_nll': 0.652, 'x_atac_kl': 0.003, 'x_atac_elbo': 0.656, 'dsc_loss': 0.688, 'vae_loss': 1.241, 'gen_loss': 1.207, 'joint_cross_loss': 1.161, 'real_cross_loss': 1.189, 'cos_loss': 0.454}, val={'g_nll': 0.42, 'g_kl': 0.032, 'g_elbo': 0.452, 'x_rna_nll': 0.488, 'x_rna_kl': 0.009, 'x_rna_elbo': 0.497, 'x_atac_nll': 0.655, 'x_atac_kl': 0.003, 'x_atac_elbo': 0.659, 'dsc_loss': 0.698, 'vae_loss': 1.229, 'gen_loss': 1.194, 'joint_cross_loss': 1.149, 'real_cross_loss': 1.175, 'cos_loss': 0.453}, 5.2s elapsed\n",
      "[INFO] PairedSCGLUETrainer: [Epoch 120] train={'g_nll': 0.421, 'g_kl': 0.032, 'g_elbo': 0.453, 'x_rna_nll': 0.502, 'x_rna_kl': 0.009, 'x_rna_elbo': 0.511, 'x_atac_nll': 0.653, 'x_atac_kl': 0.003, 'x_atac_elbo': 0.656, 'dsc_loss': 0.687, 'vae_loss': 1.241, 'gen_loss': 1.207, 'joint_cross_loss': 1.161, 'real_cross_loss': 1.189, 'cos_loss': 0.454}, val={'g_nll': 0.426, 'g_kl': 0.031, 'g_elbo': 0.457, 'x_rna_nll': 0.489, 'x_rna_kl': 0.008, 'x_rna_elbo': 0.498, 'x_atac_nll': 0.66, 'x_atac_kl': 0.003, 'x_atac_elbo': 0.663, 'dsc_loss': 0.695, 'vae_loss': 1.235, 'gen_loss': 1.2, 'joint_cross_loss': 1.155, 'real_cross_loss': 1.18, 'cos_loss': 0.467}, 5.1s elapsed\n",
      "[INFO] PairedSCGLUETrainer: [Epoch 130] train={'g_nll': 0.421, 'g_kl': 0.031, 'g_elbo': 0.453, 'x_rna_nll': 0.501, 'x_rna_kl': 0.009, 'x_rna_elbo': 0.51, 'x_atac_nll': 0.652, 'x_atac_kl': 0.003, 'x_atac_elbo': 0.655, 'dsc_loss': 0.689, 'vae_loss': 1.239, 'gen_loss': 1.205, 'joint_cross_loss': 1.159, 'real_cross_loss': 1.187, 'cos_loss': 0.452}, val={'g_nll': 0.423, 'g_kl': 0.031, 'g_elbo': 0.454, 'x_rna_nll': 0.488, 'x_rna_kl': 0.008, 'x_rna_elbo': 0.496, 'x_atac_nll': 0.653, 'x_atac_kl': 0.003, 'x_atac_elbo': 0.656, 'dsc_loss': 0.696, 'vae_loss': 1.226, 'gen_loss': 1.191, 'joint_cross_loss': 1.147, 'real_cross_loss': 1.171, 'cos_loss': 0.451}, 5.9s elapsed\n",
      "Epoch 00131: reducing learning rate of group 0 to 2.0000e-04.\n",
      "Epoch 00131: reducing learning rate of group 0 to 2.0000e-04.\n",
      "[INFO] LRScheduler: Learning rate reduction: step 1\n",
      "[INFO] PairedSCGLUETrainer: [Epoch 140] train={'g_nll': 0.421, 'g_kl': 0.031, 'g_elbo': 0.452, 'x_rna_nll': 0.501, 'x_rna_kl': 0.009, 'x_rna_elbo': 0.51, 'x_atac_nll': 0.653, 'x_atac_kl': 0.003, 'x_atac_elbo': 0.656, 'dsc_loss': 0.69, 'vae_loss': 1.24, 'gen_loss': 1.206, 'joint_cross_loss': 1.161, 'real_cross_loss': 1.188, 'cos_loss': 0.451}, val={'g_nll': 0.421, 'g_kl': 0.031, 'g_elbo': 0.452, 'x_rna_nll': 0.49, 'x_rna_kl': 0.009, 'x_rna_elbo': 0.499, 'x_atac_nll': 0.658, 'x_atac_kl': 0.003, 'x_atac_elbo': 0.661, 'dsc_loss': 0.692, 'vae_loss': 1.234, 'gen_loss': 1.199, 'joint_cross_loss': 1.155, 'real_cross_loss': 1.179, 'cos_loss': 0.457}, 5.4s elapsed\n",
      "[INFO] PairedSCGLUETrainer: [Epoch 150] train={'g_nll': 0.419, 'g_kl': 0.031, 'g_elbo': 0.45, 'x_rna_nll': 0.501, 'x_rna_kl': 0.009, 'x_rna_elbo': 0.51, 'x_atac_nll': 0.653, 'x_atac_kl': 0.003, 'x_atac_elbo': 0.656, 'dsc_loss': 0.689, 'vae_loss': 1.24, 'gen_loss': 1.205, 'joint_cross_loss': 1.16, 'real_cross_loss': 1.188, 'cos_loss': 0.45}, val={'g_nll': 0.42, 'g_kl': 0.031, 'g_elbo': 0.452, 'x_rna_nll': 0.486, 'x_rna_kl': 0.009, 'x_rna_elbo': 0.494, 'x_atac_nll': 0.652, 'x_atac_kl': 0.003, 'x_atac_elbo': 0.655, 'dsc_loss': 0.694, 'vae_loss': 1.223, 'gen_loss': 1.189, 'joint_cross_loss': 1.145, 'real_cross_loss': 1.17, 'cos_loss': 0.461}, 5.3s elapsed\n",
      "[INFO] PairedSCGLUETrainer: [Epoch 160] train={'g_nll': 0.421, 'g_kl': 0.031, 'g_elbo': 0.452, 'x_rna_nll': 0.501, 'x_rna_kl': 0.009, 'x_rna_elbo': 0.51, 'x_atac_nll': 0.653, 'x_atac_kl': 0.003, 'x_atac_elbo': 0.656, 'dsc_loss': 0.69, 'vae_loss': 1.24, 'gen_loss': 1.205, 'joint_cross_loss': 1.16, 'real_cross_loss': 1.187, 'cos_loss': 0.452}, val={'g_nll': 0.421, 'g_kl': 0.031, 'g_elbo': 0.452, 'x_rna_nll': 0.488, 'x_rna_kl': 0.009, 'x_rna_elbo': 0.497, 'x_atac_nll': 0.654, 'x_atac_kl': 0.003, 'x_atac_elbo': 0.657, 'dsc_loss': 0.693, 'vae_loss': 1.227, 'gen_loss': 1.192, 'joint_cross_loss': 1.148, 'real_cross_loss': 1.173, 'cos_loss': 0.46}, 6.5s elapsed\n",
      "[INFO] PairedSCGLUETrainer: [Epoch 170] train={'g_nll': 0.419, 'g_kl': 0.031, 'g_elbo': 0.45, 'x_rna_nll': 0.501, 'x_rna_kl': 0.009, 'x_rna_elbo': 0.51, 'x_atac_nll': 0.653, 'x_atac_kl': 0.003, 'x_atac_elbo': 0.657, 'dsc_loss': 0.688, 'vae_loss': 1.241, 'gen_loss': 1.206, 'joint_cross_loss': 1.161, 'real_cross_loss': 1.188, 'cos_loss': 0.451}, val={'g_nll': 0.42, 'g_kl': 0.031, 'g_elbo': 0.451, 'x_rna_nll': 0.491, 'x_rna_kl': 0.009, 'x_rna_elbo': 0.5, 'x_atac_nll': 0.66, 'x_atac_kl': 0.003, 'x_atac_elbo': 0.663, 'dsc_loss': 0.695, 'vae_loss': 1.237, 'gen_loss': 1.202, 'joint_cross_loss': 1.157, 'real_cross_loss': 1.181, 'cos_loss': 0.457}, 5.2s elapsed\n",
      "[INFO] PairedSCGLUETrainer: [Epoch 180] train={'g_nll': 0.421, 'g_kl': 0.031, 'g_elbo': 0.452, 'x_rna_nll': 0.501, 'x_rna_kl': 0.009, 'x_rna_elbo': 0.509, 'x_atac_nll': 0.652, 'x_atac_kl': 0.003, 'x_atac_elbo': 0.655, 'dsc_loss': 0.689, 'vae_loss': 1.239, 'gen_loss': 1.204, 'joint_cross_loss': 1.159, 'real_cross_loss': 1.186, 'cos_loss': 0.453}, val={'g_nll': 0.42, 'g_kl': 0.031, 'g_elbo': 0.451, 'x_rna_nll': 0.49, 'x_rna_kl': 0.009, 'x_rna_elbo': 0.498, 'x_atac_nll': 0.65, 'x_atac_kl': 0.003, 'x_atac_elbo': 0.653, 'dsc_loss': 0.685, 'vae_loss': 1.224, 'gen_loss': 1.19, 'joint_cross_loss': 1.145, 'real_cross_loss': 1.169, 'cos_loss': 0.453}, 5.7s elapsed\n",
      "Epoch 00184: reducing learning rate of group 0 to 2.0000e-05.\n",
      "Epoch 00184: reducing learning rate of group 0 to 2.0000e-05.\n",
      "[INFO] LRScheduler: Learning rate reduction: step 2\n",
      "[INFO] PairedSCGLUETrainer: [Epoch 190] train={'g_nll': 0.419, 'g_kl': 0.031, 'g_elbo': 0.45, 'x_rna_nll': 0.501, 'x_rna_kl': 0.009, 'x_rna_elbo': 0.509, 'x_atac_nll': 0.653, 'x_atac_kl': 0.003, 'x_atac_elbo': 0.656, 'dsc_loss': 0.69, 'vae_loss': 1.24, 'gen_loss': 1.205, 'joint_cross_loss': 1.16, 'real_cross_loss': 1.188, 'cos_loss': 0.451}, val={'g_nll': 0.42, 'g_kl': 0.031, 'g_elbo': 0.451, 'x_rna_nll': 0.488, 'x_rna_kl': 0.009, 'x_rna_elbo': 0.497, 'x_atac_nll': 0.656, 'x_atac_kl': 0.003, 'x_atac_elbo': 0.659, 'dsc_loss': 0.692, 'vae_loss': 1.229, 'gen_loss': 1.194, 'joint_cross_loss': 1.15, 'real_cross_loss': 1.175, 'cos_loss': 0.448}, 4.9s elapsed\n",
      "[INFO] PairedSCGLUETrainer: [Epoch 200] train={'g_nll': 0.419, 'g_kl': 0.031, 'g_elbo': 0.451, 'x_rna_nll': 0.501, 'x_rna_kl': 0.009, 'x_rna_elbo': 0.509, 'x_atac_nll': 0.652, 'x_atac_kl': 0.003, 'x_atac_elbo': 0.656, 'dsc_loss': 0.689, 'vae_loss': 1.239, 'gen_loss': 1.205, 'joint_cross_loss': 1.16, 'real_cross_loss': 1.186, 'cos_loss': 0.451}, val={'g_nll': 0.42, 'g_kl': 0.031, 'g_elbo': 0.451, 'x_rna_nll': 0.488, 'x_rna_kl': 0.009, 'x_rna_elbo': 0.496, 'x_atac_nll': 0.656, 'x_atac_kl': 0.003, 'x_atac_elbo': 0.659, 'dsc_loss': 0.693, 'vae_loss': 1.229, 'gen_loss': 1.194, 'joint_cross_loss': 1.15, 'real_cross_loss': 1.175, 'cos_loss': 0.452}, 5.1s elapsed\n"
     ]
    },
    {
     "name": "stderr",
     "output_type": "stream",
     "text": [
      "2023-05-05 14:35:06,669 ignite.handlers.early_stopping.EarlyStopping INFO: EarlyStopping: Stop training\n"
     ]
    },
    {
     "name": "stdout",
     "output_type": "stream",
     "text": [
      "[INFO] EarlyStopping: Restoring checkpoint \"161\"...\n",
      "[INFO] EarlyStopping: Restoring checkpoint \"161\"...\n"
     ]
    }
   ],
   "source": [
    "glue = scglue.models.fit_SCGLUE(\n",
    "    {\"rna\": rna, \"atac\": atac}, guidance_hvf,\n",
    "    model=scglue.models.PairedSCGLUEModel,\n",
    "    fit_kws={\"directory\": \"glue\"}\n",
    ")"
   ]
  },
  {
   "cell_type": "code",
   "execution_count": 8,
   "id": "471ef34e",
   "metadata": {},
   "outputs": [],
   "source": [
    "rna.obsm[\"X_glue\"] = glue.encode_data(\"rna\", rna)\n",
    "atac.obsm[\"X_glue\"] = glue.encode_data(\"atac\", atac)"
   ]
  },
  {
   "cell_type": "code",
   "execution_count": 11,
   "id": "50f0b183",
   "metadata": {},
   "outputs": [],
   "source": [
    "adata = sc.concat([rna, atac], join = 'outer', label='batch', index_unique = '-', keys=[\"RNA\", \"ATAC\"])"
   ]
  },
  {
   "cell_type": "code",
   "execution_count": 12,
   "id": "4e127821",
   "metadata": {},
   "outputs": [
    {
     "data": {
      "text/plain": [
       "AnnData object with n_obs × n_vars = 13480 × 22805\n",
       "    obs: 'GEX_pct_counts_mt', 'GEX_n_counts', 'GEX_n_genes', 'GEX_size_factors', 'GEX_phase', 'ATAC_nCount_peaks', 'ATAC_atac_fragments', 'ATAC_reads_in_peaks_frac', 'ATAC_blacklist_fraction', 'ATAC_nucleosome_signal', 'cell_type', 'batch', 'ATAC_pseudotime_order', 'GEX_pseudotime_order', 'Samplename', 'Site', 'DonorNumber', 'Modality', 'VendorLot', 'DonorID', 'DonorAge', 'DonorBMI', 'DonorBloodType', 'DonorRace', 'Ethnicity', 'DonorGender', 'QCMeds', 'DonorSmoker', 'n_counts', '_scvi_batch', '_scvi_labels', 'cluster', 'balancing_weight'\n",
       "    obsm: 'ATAC_gene_activity', 'ATAC_lsi_full', 'ATAC_lsi_red', 'ATAC_umap', 'GEX_X_pca', 'GEX_X_umap', 'X_mde', 'X_pca', 'X_scVI', 'X_umap', 'X_glue', 'ATAC_lsi_red_new', 'X_PeakVI', 'X_lsi', 'X_lsi_red', 'X_poissonVI'\n",
       "    layers: 'counts'"
      ]
     },
     "execution_count": 12,
     "metadata": {},
     "output_type": "execute_result"
    }
   ],
   "source": [
    "adata"
   ]
  },
  {
   "cell_type": "code",
   "execution_count": 10,
   "id": "02083381",
   "metadata": {},
   "outputs": [
    {
     "name": "stdout",
     "output_type": "stream",
     "text": [
      "The average FOSCTTM for the alignment is:  0.0422\n"
     ]
    }
   ],
   "source": [
    "f = fcts.foscttm(rna.obsm[\"X_glue\"], atac.obsm[\"X_glue\"])\n",
    "print(\"The average FOSCTTM for the alignment is: \", f)"
   ]
  },
  {
   "cell_type": "code",
   "execution_count": 14,
   "id": "0b46585a",
   "metadata": {},
   "outputs": [],
   "source": [
    "import scib"
   ]
  },
  {
   "cell_type": "code",
   "execution_count": 16,
   "id": "c140eead",
   "metadata": {},
   "outputs": [
    {
     "name": "stderr",
     "output_type": "stream",
     "text": [
      "/tmp/ipykernel_413349/3849138315.py:9: DeprecationWarning: Call to deprecated function (or staticmethod) opt_louvain.\n",
      "  scib.cl.opt_louvain(adata,label_key='cell_type',cluster_key='cluster_key',plot=False,inplace=True,force=True,verbose = False)\n",
      "/dss/dsshome1/01/di93bur/miniconda3/envs/scglue_env_2/lib/python3.9/site-packages/scanpy/tools/_louvain.py:138: DeprecationWarning: This package has been superseded by the `leidenalg` package and will no longer be maintained. Please upgrade to the `leidenalg` package.\n",
      "  import louvain\n"
     ]
    }
   ],
   "source": [
    "# Evaluation metrics\n",
    "f = fcts.foscttm(rna.obsm[\"X_glue\"], atac.obsm[\"X_glue\"])\n",
    "lta = fcts.transfer_accuracy(rna.obsm[\"X_glue\"], atac.obsm[\"X_glue\"], rna.obs['cell_type'], atac.obs['cell_type'])\n",
    "alg_score = fcts.alignment_score(rna.obsm[\"X_glue\"], atac.obsm[\"X_glue\"])\n",
    "rmse = fcts.calculate_rmse(rna.obsm[\"X_glue\"], atac.obsm[\"X_glue\"])\n",
    "\n",
    "# Bio-conservation metrics\n",
    "sc.pp.neighbors(adata, use_rep='X_glue')\n",
    "scib.cl.opt_louvain(adata,label_key='cell_type',cluster_key='cluster_key',plot=False,inplace=True,force=True,verbose = False)\n",
    "nmi = scib.me.nmi(adata, cluster_key='cluster_key', label_key='cell_type')\n",
    "asw_label = scib.me.silhouette(adata, label_key='cell_type', embed='X_glue')\n",
    "ari = scib.me.ari(adata, cluster_key='cluster_key', label_key='cell_type')\n",
    "\n",
    "# Batch correction metrics\n",
    "asw_batch = scib.me.silhouette_batch(adata,batch_key='batch',label_key='cell_type',embed='X_glue',verbose=False)\n",
    "graph_connectivity = scib.me.graph_connectivity(adata, label_key='cell_type')"
   ]
  },
  {
   "cell_type": "code",
   "execution_count": 19,
   "id": "d8eab2fb",
   "metadata": {},
   "outputs": [],
   "source": [
    "results = []\n",
    "results.append([i, f, lta, alg_score, rmse, nmi, asw_label, ari, asw_batch, graph_connectivity])"
   ]
  },
  {
   "cell_type": "code",
   "execution_count": 21,
   "id": "322f1b54",
   "metadata": {},
   "outputs": [],
   "source": [
    "df_results = pd.DataFrame(\n",
    "    results,\n",
    "    columns = [\"donor\", \"foscttm\", \"label_transfer_accuracy\", \"alignment_score\", \"rmse\", \"nmi\", \"asw_label\", \"ari\", \"asw_batch\", \"graph_connectivity\"]\n",
    ")"
   ]
  },
  {
   "cell_type": "code",
   "execution_count": 22,
   "id": "5943ebbf",
   "metadata": {},
   "outputs": [
    {
     "data": {
      "text/html": [
       "<div>\n",
       "<style scoped>\n",
       "    .dataframe tbody tr th:only-of-type {\n",
       "        vertical-align: middle;\n",
       "    }\n",
       "\n",
       "    .dataframe tbody tr th {\n",
       "        vertical-align: top;\n",
       "    }\n",
       "\n",
       "    .dataframe thead th {\n",
       "        text-align: right;\n",
       "    }\n",
       "</style>\n",
       "<table border=\"1\" class=\"dataframe\">\n",
       "  <thead>\n",
       "    <tr style=\"text-align: right;\">\n",
       "      <th></th>\n",
       "      <th>donor</th>\n",
       "      <th>foscttm</th>\n",
       "      <th>label_transfer_accuracy</th>\n",
       "      <th>alignment_score</th>\n",
       "      <th>rmse</th>\n",
       "      <th>nmi</th>\n",
       "      <th>asw_label</th>\n",
       "      <th>ari</th>\n",
       "      <th>asw_batch</th>\n",
       "      <th>graph_connectivity</th>\n",
       "    </tr>\n",
       "  </thead>\n",
       "  <tbody>\n",
       "    <tr>\n",
       "      <th>0</th>\n",
       "      <td>s1d2</td>\n",
       "      <td>0.0422</td>\n",
       "      <td>0.842285</td>\n",
       "      <td>0.956476</td>\n",
       "      <td>0.169282</td>\n",
       "      <td>0.700974</td>\n",
       "      <td>0.585814</td>\n",
       "      <td>0.648648</td>\n",
       "      <td>0.910727</td>\n",
       "      <td>0.951778</td>\n",
       "    </tr>\n",
       "  </tbody>\n",
       "</table>\n",
       "</div>"
      ],
      "text/plain": [
       "  donor  foscttm  label_transfer_accuracy  alignment_score      rmse   \n",
       "0  s1d2   0.0422                 0.842285         0.956476  0.169282  \\\n",
       "\n",
       "        nmi  asw_label       ari  asw_batch  graph_connectivity  \n",
       "0  0.700974   0.585814  0.648648   0.910727            0.951778  "
      ]
     },
     "execution_count": 22,
     "metadata": {},
     "output_type": "execute_result"
    }
   ],
   "source": [
    "df_results"
   ]
  },
  {
   "cell_type": "code",
   "execution_count": 23,
   "id": "cabd27a0",
   "metadata": {},
   "outputs": [],
   "source": [
    "df_results.to_csv('output/scglue_2.csv', index = False)"
   ]
  },
  {
   "cell_type": "code",
   "execution_count": 24,
   "id": "9f5e607a",
   "metadata": {},
   "outputs": [
    {
     "name": "stderr",
     "output_type": "stream",
     "text": [
      "  0%|          | 0/11 [00:00<?, ?it/s]"
     ]
    },
    {
     "name": "stdout",
     "output_type": "stream",
     "text": [
      "[INFO] fit_SCGLUE: Pretraining SCGLUE model...\n"
     ]
    },
    {
     "name": "stderr",
     "output_type": "stream",
     "text": [
      "[WARNING] PairedSCGLUEModel: It is recommended that `use_rep` dimensionality be equal or larger than `latent_dim`.\n"
     ]
    },
    {
     "name": "stdout",
     "output_type": "stream",
     "text": [
      "[INFO] check_graph: Checking variable coverage...\n",
      "[INFO] check_graph: Checking edge attributes...\n",
      "[INFO] check_graph: Checking self-loops...\n",
      "[INFO] check_graph: Checking graph symmetry...\n",
      "[INFO] PairedSCGLUEModel: Setting `graph_batch_size` = 3438\n",
      "[INFO] PairedSCGLUEModel: Setting `max_epochs` = 798\n",
      "[INFO] PairedSCGLUEModel: Setting `patience` = 67\n",
      "[INFO] PairedSCGLUEModel: Setting `reduce_lr_patience` = 34\n",
      "[INFO] PairedSCGLUETrainer: Using training directory: \"glue/pretrain\"\n",
      "[INFO] PairedSCGLUETrainer: [Epoch 10] train={'g_nll': 0.586, 'g_kl': 0.025, 'g_elbo': 0.611, 'x_rna_nll': 0.509, 'x_rna_kl': 0.021, 'x_rna_elbo': 0.529, 'x_atac_nll': 0.699, 'x_atac_kl': 0.013, 'x_atac_elbo': 0.712, 'dsc_loss': 0.66, 'vae_loss': 1.32, 'gen_loss': 1.287, 'joint_cross_loss': 1.206, 'real_cross_loss': 1.232, 'cos_loss': 0.279}, val={'g_nll': 0.589, 'g_kl': 0.026, 'g_elbo': 0.615, 'x_rna_nll': 0.51, 'x_rna_kl': 0.02, 'x_rna_elbo': 0.53, 'x_atac_nll': 0.705, 'x_atac_kl': 0.012, 'x_atac_elbo': 0.717, 'dsc_loss': 0.673, 'vae_loss': 1.326, 'gen_loss': 1.292, 'joint_cross_loss': 1.223, 'real_cross_loss': 1.249, 'cos_loss': 0.229}, 6.1s elapsed\n",
      "[INFO] PairedSCGLUETrainer: [Epoch 20] train={'g_nll': 0.612, 'g_kl': 0.037, 'g_elbo': 0.649, 'x_rna_nll': 0.489, 'x_rna_kl': 0.014, 'x_rna_elbo': 0.503, 'x_atac_nll': 0.681, 'x_atac_kl': 0.007, 'x_atac_elbo': 0.688, 'dsc_loss': 0.682, 'vae_loss': 1.271, 'gen_loss': 1.237, 'joint_cross_loss': 1.169, 'real_cross_loss': 1.191, 'cos_loss': 0.33}, val={'g_nll': 0.615, 'g_kl': 0.038, 'g_elbo': 0.653, 'x_rna_nll': 0.491, 'x_rna_kl': 0.013, 'x_rna_elbo': 0.504, 'x_atac_nll': 0.682, 'x_atac_kl': 0.006, 'x_atac_elbo': 0.689, 'dsc_loss': 0.697, 'vae_loss': 1.272, 'gen_loss': 1.237, 'joint_cross_loss': 1.177, 'real_cross_loss': 1.196, 'cos_loss': 0.319}, 3.3s elapsed\n",
      "[INFO] PairedSCGLUETrainer: [Epoch 30] train={'g_nll': 0.589, 'g_kl': 0.045, 'g_elbo': 0.634, 'x_rna_nll': 0.478, 'x_rna_kl': 0.012, 'x_rna_elbo': 0.49, 'x_atac_nll': 0.673, 'x_atac_kl': 0.005, 'x_atac_elbo': 0.679, 'dsc_loss': 0.688, 'vae_loss': 1.248, 'gen_loss': 1.213, 'joint_cross_loss': 1.152, 'real_cross_loss': 1.174, 'cos_loss': 0.383}, val={'g_nll': 0.59, 'g_kl': 0.045, 'g_elbo': 0.635, 'x_rna_nll': 0.482, 'x_rna_kl': 0.011, 'x_rna_elbo': 0.493, 'x_atac_nll': 0.682, 'x_atac_kl': 0.005, 'x_atac_elbo': 0.688, 'dsc_loss': 0.691, 'vae_loss': 1.261, 'gen_loss': 1.227, 'joint_cross_loss': 1.165, 'real_cross_loss': 1.187, 'cos_loss': 0.38}, 56.5s elapsed\n",
      "[INFO] PairedSCGLUETrainer: [Epoch 40] train={'g_nll': 0.557, 'g_kl': 0.046, 'g_elbo': 0.603, 'x_rna_nll': 0.471, 'x_rna_kl': 0.01, 'x_rna_elbo': 0.482, 'x_atac_nll': 0.67, 'x_atac_kl': 0.005, 'x_atac_elbo': 0.675, 'dsc_loss': 0.69, 'vae_loss': 1.235, 'gen_loss': 1.201, 'joint_cross_loss': 1.144, 'real_cross_loss': 1.165, 'cos_loss': 0.421}, val={'g_nll': 0.559, 'g_kl': 0.046, 'g_elbo': 0.606, 'x_rna_nll': 0.476, 'x_rna_kl': 0.01, 'x_rna_elbo': 0.487, 'x_atac_nll': 0.671, 'x_atac_kl': 0.005, 'x_atac_elbo': 0.676, 'dsc_loss': 0.69, 'vae_loss': 1.242, 'gen_loss': 1.208, 'joint_cross_loss': 1.151, 'real_cross_loss': 1.174, 'cos_loss': 0.419}, 3.2s elapsed\n",
      "[INFO] PairedSCGLUETrainer: [Epoch 50] train={'g_nll': 0.524, 'g_kl': 0.045, 'g_elbo': 0.569, 'x_rna_nll': 0.467, 'x_rna_kl': 0.01, 'x_rna_elbo': 0.477, 'x_atac_nll': 0.669, 'x_atac_kl': 0.005, 'x_atac_elbo': 0.674, 'dsc_loss': 0.687, 'vae_loss': 1.229, 'gen_loss': 1.194, 'joint_cross_loss': 1.139, 'real_cross_loss': 1.161, 'cos_loss': 0.433}, val={'g_nll': 0.516, 'g_kl': 0.045, 'g_elbo': 0.561, 'x_rna_nll': 0.469, 'x_rna_kl': 0.01, 'x_rna_elbo': 0.48, 'x_atac_nll': 0.668, 'x_atac_kl': 0.005, 'x_atac_elbo': 0.673, 'dsc_loss': 0.689, 'vae_loss': 1.23, 'gen_loss': 1.195, 'joint_cross_loss': 1.143, 'real_cross_loss': 1.166, 'cos_loss': 0.432}, 3.0s elapsed\n",
      "[INFO] PairedSCGLUETrainer: [Epoch 60] train={'g_nll': 0.493, 'g_kl': 0.044, 'g_elbo': 0.537, 'x_rna_nll': 0.466, 'x_rna_kl': 0.011, 'x_rna_elbo': 0.476, 'x_atac_nll': 0.669, 'x_atac_kl': 0.005, 'x_atac_elbo': 0.674, 'dsc_loss': 0.69, 'vae_loss': 1.226, 'gen_loss': 1.192, 'joint_cross_loss': 1.138, 'real_cross_loss': 1.162, 'cos_loss': 0.435}, val={'g_nll': 0.486, 'g_kl': 0.044, 'g_elbo': 0.531, 'x_rna_nll': 0.474, 'x_rna_kl': 0.01, 'x_rna_elbo': 0.484, 'x_atac_nll': 0.673, 'x_atac_kl': 0.005, 'x_atac_elbo': 0.677, 'dsc_loss': 0.688, 'vae_loss': 1.238, 'gen_loss': 1.204, 'joint_cross_loss': 1.152, 'real_cross_loss': 1.176, 'cos_loss': 0.438}, 28.9s elapsed\n",
      "[INFO] PairedSCGLUETrainer: [Epoch 70] train={'g_nll': 0.477, 'g_kl': 0.043, 'g_elbo': 0.52, 'x_rna_nll': 0.463, 'x_rna_kl': 0.011, 'x_rna_elbo': 0.474, 'x_atac_nll': 0.668, 'x_atac_kl': 0.005, 'x_atac_elbo': 0.673, 'dsc_loss': 0.688, 'vae_loss': 1.222, 'gen_loss': 1.188, 'joint_cross_loss': 1.135, 'real_cross_loss': 1.159, 'cos_loss': 0.437}, val={'g_nll': 0.473, 'g_kl': 0.043, 'g_elbo': 0.516, 'x_rna_nll': 0.473, 'x_rna_kl': 0.011, 'x_rna_elbo': 0.484, 'x_atac_nll': 0.669, 'x_atac_kl': 0.005, 'x_atac_elbo': 0.674, 'dsc_loss': 0.687, 'vae_loss': 1.233, 'gen_loss': 1.199, 'joint_cross_loss': 1.146, 'real_cross_loss': 1.166, 'cos_loss': 0.431}, 3.1s elapsed\n",
      "[INFO] PairedSCGLUETrainer: [Epoch 80] train={'g_nll': 0.467, 'g_kl': 0.042, 'g_elbo': 0.51, 'x_rna_nll': 0.463, 'x_rna_kl': 0.011, 'x_rna_elbo': 0.474, 'x_atac_nll': 0.669, 'x_atac_kl': 0.005, 'x_atac_elbo': 0.674, 'dsc_loss': 0.688, 'vae_loss': 1.223, 'gen_loss': 1.188, 'joint_cross_loss': 1.136, 'real_cross_loss': 1.161, 'cos_loss': 0.436}, val={'g_nll': 0.464, 'g_kl': 0.042, 'g_elbo': 0.507, 'x_rna_nll': 0.472, 'x_rna_kl': 0.011, 'x_rna_elbo': 0.483, 'x_atac_nll': 0.674, 'x_atac_kl': 0.005, 'x_atac_elbo': 0.678, 'dsc_loss': 0.694, 'vae_loss': 1.236, 'gen_loss': 1.202, 'joint_cross_loss': 1.151, 'real_cross_loss': 1.177, 'cos_loss': 0.432}, 3.2s elapsed\n",
      "[INFO] PairedSCGLUETrainer: [Epoch 90] train={'g_nll': 0.463, 'g_kl': 0.042, 'g_elbo': 0.504, 'x_rna_nll': 0.461, 'x_rna_kl': 0.011, 'x_rna_elbo': 0.472, 'x_atac_nll': 0.668, 'x_atac_kl': 0.005, 'x_atac_elbo': 0.673, 'dsc_loss': 0.691, 'vae_loss': 1.22, 'gen_loss': 1.185, 'joint_cross_loss': 1.134, 'real_cross_loss': 1.16, 'cos_loss': 0.435}, val={'g_nll': 0.464, 'g_kl': 0.042, 'g_elbo': 0.505, 'x_rna_nll': 0.471, 'x_rna_kl': 0.011, 'x_rna_elbo': 0.482, 'x_atac_nll': 0.679, 'x_atac_kl': 0.005, 'x_atac_elbo': 0.683, 'dsc_loss': 0.684, 'vae_loss': 1.241, 'gen_loss': 1.207, 'joint_cross_loss': 1.155, 'real_cross_loss': 1.181, 'cos_loss': 0.43}, 11.7s elapsed\n",
      "[INFO] PairedSCGLUETrainer: [Epoch 100] train={'g_nll': 0.459, 'g_kl': 0.041, 'g_elbo': 0.5, 'x_rna_nll': 0.462, 'x_rna_kl': 0.011, 'x_rna_elbo': 0.473, 'x_atac_nll': 0.669, 'x_atac_kl': 0.005, 'x_atac_elbo': 0.673, 'dsc_loss': 0.691, 'vae_loss': 1.221, 'gen_loss': 1.186, 'joint_cross_loss': 1.135, 'real_cross_loss': 1.162, 'cos_loss': 0.433}, val={'g_nll': 0.459, 'g_kl': 0.041, 'g_elbo': 0.5, 'x_rna_nll': 0.465, 'x_rna_kl': 0.011, 'x_rna_elbo': 0.476, 'x_atac_nll': 0.673, 'x_atac_kl': 0.004, 'x_atac_elbo': 0.677, 'dsc_loss': 0.687, 'vae_loss': 1.228, 'gen_loss': 1.194, 'joint_cross_loss': 1.144, 'real_cross_loss': 1.17, 'cos_loss': 0.434}, 3.2s elapsed\n",
      "[INFO] PairedSCGLUETrainer: [Epoch 110] train={'g_nll': 0.455, 'g_kl': 0.041, 'g_elbo': 0.496, 'x_rna_nll': 0.461, 'x_rna_kl': 0.011, 'x_rna_elbo': 0.472, 'x_atac_nll': 0.668, 'x_atac_kl': 0.004, 'x_atac_elbo': 0.672, 'dsc_loss': 0.69, 'vae_loss': 1.218, 'gen_loss': 1.184, 'joint_cross_loss': 1.134, 'real_cross_loss': 1.161, 'cos_loss': 0.433}, val={'g_nll': 0.453, 'g_kl': 0.041, 'g_elbo': 0.493, 'x_rna_nll': 0.47, 'x_rna_kl': 0.011, 'x_rna_elbo': 0.481, 'x_atac_nll': 0.675, 'x_atac_kl': 0.004, 'x_atac_elbo': 0.68, 'dsc_loss': 0.689, 'vae_loss': 1.235, 'gen_loss': 1.201, 'joint_cross_loss': 1.151, 'real_cross_loss': 1.177, 'cos_loss': 0.425}, 3.1s elapsed\n",
      "[INFO] PairedSCGLUETrainer: [Epoch 120] train={'g_nll': 0.452, 'g_kl': 0.04, 'g_elbo': 0.492, 'x_rna_nll': 0.461, 'x_rna_kl': 0.011, 'x_rna_elbo': 0.471, 'x_atac_nll': 0.668, 'x_atac_kl': 0.004, 'x_atac_elbo': 0.672, 'dsc_loss': 0.691, 'vae_loss': 1.218, 'gen_loss': 1.183, 'joint_cross_loss': 1.133, 'real_cross_loss': 1.161, 'cos_loss': 0.434}, val={'g_nll': 0.45, 'g_kl': 0.04, 'g_elbo': 0.491, 'x_rna_nll': 0.467, 'x_rna_kl': 0.011, 'x_rna_elbo': 0.478, 'x_atac_nll': 0.678, 'x_atac_kl': 0.004, 'x_atac_elbo': 0.682, 'dsc_loss': 0.69, 'vae_loss': 1.235, 'gen_loss': 1.201, 'joint_cross_loss': 1.151, 'real_cross_loss': 1.176, 'cos_loss': 0.433}, 65.6s elapsed\n",
      "[INFO] PairedSCGLUETrainer: [Epoch 130] train={'g_nll': 0.449, 'g_kl': 0.04, 'g_elbo': 0.489, 'x_rna_nll': 0.461, 'x_rna_kl': 0.011, 'x_rna_elbo': 0.471, 'x_atac_nll': 0.668, 'x_atac_kl': 0.004, 'x_atac_elbo': 0.672, 'dsc_loss': 0.69, 'vae_loss': 1.218, 'gen_loss': 1.183, 'joint_cross_loss': 1.134, 'real_cross_loss': 1.161, 'cos_loss': 0.431}, val={'g_nll': 0.445, 'g_kl': 0.04, 'g_elbo': 0.484, 'x_rna_nll': 0.471, 'x_rna_kl': 0.011, 'x_rna_elbo': 0.482, 'x_atac_nll': 0.677, 'x_atac_kl': 0.004, 'x_atac_elbo': 0.681, 'dsc_loss': 0.686, 'vae_loss': 1.238, 'gen_loss': 1.204, 'joint_cross_loss': 1.155, 'real_cross_loss': 1.184, 'cos_loss': 0.426}, 3.2s elapsed\n",
      "[INFO] PairedSCGLUETrainer: [Epoch 140] train={'g_nll': 0.448, 'g_kl': 0.039, 'g_elbo': 0.487, 'x_rna_nll': 0.46, 'x_rna_kl': 0.011, 'x_rna_elbo': 0.471, 'x_atac_nll': 0.669, 'x_atac_kl': 0.004, 'x_atac_elbo': 0.673, 'dsc_loss': 0.69, 'vae_loss': 1.218, 'gen_loss': 1.184, 'joint_cross_loss': 1.134, 'real_cross_loss': 1.161, 'cos_loss': 0.429}, val={'g_nll': 0.445, 'g_kl': 0.039, 'g_elbo': 0.485, 'x_rna_nll': 0.468, 'x_rna_kl': 0.011, 'x_rna_elbo': 0.478, 'x_atac_nll': 0.673, 'x_atac_kl': 0.004, 'x_atac_elbo': 0.678, 'dsc_loss': 0.692, 'vae_loss': 1.23, 'gen_loss': 1.196, 'joint_cross_loss': 1.147, 'real_cross_loss': 1.175, 'cos_loss': 0.429}, 111.6s elapsed\n",
      "[INFO] PairedSCGLUETrainer: [Epoch 150] train={'g_nll': 0.443, 'g_kl': 0.039, 'g_elbo': 0.482, 'x_rna_nll': 0.46, 'x_rna_kl': 0.011, 'x_rna_elbo': 0.471, 'x_atac_nll': 0.668, 'x_atac_kl': 0.004, 'x_atac_elbo': 0.672, 'dsc_loss': 0.69, 'vae_loss': 1.217, 'gen_loss': 1.183, 'joint_cross_loss': 1.133, 'real_cross_loss': 1.161, 'cos_loss': 0.43}, val={'g_nll': 0.445, 'g_kl': 0.039, 'g_elbo': 0.484, 'x_rna_nll': 0.472, 'x_rna_kl': 0.011, 'x_rna_elbo': 0.483, 'x_atac_nll': 0.675, 'x_atac_kl': 0.004, 'x_atac_elbo': 0.679, 'dsc_loss': 0.697, 'vae_loss': 1.237, 'gen_loss': 1.202, 'joint_cross_loss': 1.155, 'real_cross_loss': 1.184, 'cos_loss': 0.425}, 5.7s elapsed\n",
      "[INFO] PairedSCGLUETrainer: [Epoch 160] train={'g_nll': 0.444, 'g_kl': 0.038, 'g_elbo': 0.483, 'x_rna_nll': 0.46, 'x_rna_kl': 0.011, 'x_rna_elbo': 0.471, 'x_atac_nll': 0.668, 'x_atac_kl': 0.004, 'x_atac_elbo': 0.672, 'dsc_loss': 0.691, 'vae_loss': 1.217, 'gen_loss': 1.183, 'joint_cross_loss': 1.133, 'real_cross_loss': 1.161, 'cos_loss': 0.431}, val={'g_nll': 0.44, 'g_kl': 0.038, 'g_elbo': 0.478, 'x_rna_nll': 0.47, 'x_rna_kl': 0.011, 'x_rna_elbo': 0.481, 'x_atac_nll': 0.675, 'x_atac_kl': 0.004, 'x_atac_elbo': 0.679, 'dsc_loss': 0.691, 'vae_loss': 1.234, 'gen_loss': 1.199, 'joint_cross_loss': 1.151, 'real_cross_loss': 1.179, 'cos_loss': 0.422}, 3.3s elapsed\n",
      "Epoch 00167: reducing learning rate of group 0 to 2.0000e-04.\n",
      "Epoch 00167: reducing learning rate of group 0 to 2.0000e-04.\n",
      "[INFO] LRScheduler: Learning rate reduction: step 1\n",
      "[INFO] PairedSCGLUETrainer: [Epoch 170] train={'g_nll': 0.44, 'g_kl': 0.038, 'g_elbo': 0.479, 'x_rna_nll': 0.457, 'x_rna_kl': 0.011, 'x_rna_elbo': 0.468, 'x_atac_nll': 0.668, 'x_atac_kl': 0.004, 'x_atac_elbo': 0.673, 'dsc_loss': 0.692, 'vae_loss': 1.214, 'gen_loss': 1.18, 'joint_cross_loss': 1.131, 'real_cross_loss': 1.16, 'cos_loss': 0.428}, val={'g_nll': 0.442, 'g_kl': 0.038, 'g_elbo': 0.48, 'x_rna_nll': 0.473, 'x_rna_kl': 0.011, 'x_rna_elbo': 0.484, 'x_atac_nll': 0.677, 'x_atac_kl': 0.004, 'x_atac_elbo': 0.682, 'dsc_loss': 0.693, 'vae_loss': 1.24, 'gen_loss': 1.205, 'joint_cross_loss': 1.157, 'real_cross_loss': 1.187, 'cos_loss': 0.428}, 3.3s elapsed\n",
      "[INFO] PairedSCGLUETrainer: [Epoch 180] train={'g_nll': 0.441, 'g_kl': 0.038, 'g_elbo': 0.479, 'x_rna_nll': 0.458, 'x_rna_kl': 0.011, 'x_rna_elbo': 0.468, 'x_atac_nll': 0.668, 'x_atac_kl': 0.004, 'x_atac_elbo': 0.672, 'dsc_loss': 0.691, 'vae_loss': 1.214, 'gen_loss': 1.18, 'joint_cross_loss': 1.131, 'real_cross_loss': 1.159, 'cos_loss': 0.426}, val={'g_nll': 0.44, 'g_kl': 0.038, 'g_elbo': 0.478, 'x_rna_nll': 0.465, 'x_rna_kl': 0.011, 'x_rna_elbo': 0.476, 'x_atac_nll': 0.669, 'x_atac_kl': 0.004, 'x_atac_elbo': 0.673, 'dsc_loss': 0.69, 'vae_loss': 1.223, 'gen_loss': 1.188, 'joint_cross_loss': 1.14, 'real_cross_loss': 1.168, 'cos_loss': 0.427}, 32.7s elapsed\n",
      "[INFO] PairedSCGLUETrainer: [Epoch 190] train={'g_nll': 0.44, 'g_kl': 0.038, 'g_elbo': 0.478, 'x_rna_nll': 0.457, 'x_rna_kl': 0.011, 'x_rna_elbo': 0.468, 'x_atac_nll': 0.668, 'x_atac_kl': 0.004, 'x_atac_elbo': 0.672, 'dsc_loss': 0.69, 'vae_loss': 1.214, 'gen_loss': 1.179, 'joint_cross_loss': 1.13, 'real_cross_loss': 1.158, 'cos_loss': 0.427}, val={'g_nll': 0.437, 'g_kl': 0.038, 'g_elbo': 0.475, 'x_rna_nll': 0.465, 'x_rna_kl': 0.011, 'x_rna_elbo': 0.476, 'x_atac_nll': 0.672, 'x_atac_kl': 0.004, 'x_atac_elbo': 0.676, 'dsc_loss': 0.691, 'vae_loss': 1.226, 'gen_loss': 1.192, 'joint_cross_loss': 1.145, 'real_cross_loss': 1.174, 'cos_loss': 0.42}, 3.2s elapsed\n",
      "[INFO] PairedSCGLUETrainer: [Epoch 200] train={'g_nll': 0.44, 'g_kl': 0.038, 'g_elbo': 0.478, 'x_rna_nll': 0.457, 'x_rna_kl': 0.011, 'x_rna_elbo': 0.468, 'x_atac_nll': 0.667, 'x_atac_kl': 0.004, 'x_atac_elbo': 0.671, 'dsc_loss': 0.691, 'vae_loss': 1.213, 'gen_loss': 1.178, 'joint_cross_loss': 1.129, 'real_cross_loss': 1.157, 'cos_loss': 0.423}, val={'g_nll': 0.444, 'g_kl': 0.038, 'g_elbo': 0.482, 'x_rna_nll': 0.465, 'x_rna_kl': 0.011, 'x_rna_elbo': 0.475, 'x_atac_nll': 0.675, 'x_atac_kl': 0.004, 'x_atac_elbo': 0.679, 'dsc_loss': 0.689, 'vae_loss': 1.229, 'gen_loss': 1.194, 'joint_cross_loss': 1.146, 'real_cross_loss': 1.173, 'cos_loss': 0.421}, 3.3s elapsed\n",
      "Epoch 00202: reducing learning rate of group 0 to 2.0000e-05.\n",
      "Epoch 00202: reducing learning rate of group 0 to 2.0000e-05.\n",
      "[INFO] LRScheduler: Learning rate reduction: step 2\n",
      "[INFO] PairedSCGLUETrainer: [Epoch 210] train={'g_nll': 0.44, 'g_kl': 0.038, 'g_elbo': 0.479, 'x_rna_nll': 0.457, 'x_rna_kl': 0.011, 'x_rna_elbo': 0.467, 'x_atac_nll': 0.667, 'x_atac_kl': 0.004, 'x_atac_elbo': 0.672, 'dsc_loss': 0.692, 'vae_loss': 1.213, 'gen_loss': 1.178, 'joint_cross_loss': 1.13, 'real_cross_loss': 1.158, 'cos_loss': 0.425}, val={'g_nll': 0.441, 'g_kl': 0.038, 'g_elbo': 0.48, 'x_rna_nll': 0.466, 'x_rna_kl': 0.011, 'x_rna_elbo': 0.477, 'x_atac_nll': 0.678, 'x_atac_kl': 0.004, 'x_atac_elbo': 0.682, 'dsc_loss': 0.694, 'vae_loss': 1.233, 'gen_loss': 1.199, 'joint_cross_loss': 1.151, 'real_cross_loss': 1.179, 'cos_loss': 0.419}, 6.5s elapsed\n",
      "[INFO] PairedSCGLUETrainer: [Epoch 220] train={'g_nll': 0.439, 'g_kl': 0.038, 'g_elbo': 0.477, 'x_rna_nll': 0.457, 'x_rna_kl': 0.011, 'x_rna_elbo': 0.468, 'x_atac_nll': 0.667, 'x_atac_kl': 0.004, 'x_atac_elbo': 0.672, 'dsc_loss': 0.691, 'vae_loss': 1.213, 'gen_loss': 1.178, 'joint_cross_loss': 1.13, 'real_cross_loss': 1.157, 'cos_loss': 0.424}, val={'g_nll': 0.441, 'g_kl': 0.038, 'g_elbo': 0.479, 'x_rna_nll': 0.463, 'x_rna_kl': 0.011, 'x_rna_elbo': 0.474, 'x_atac_nll': 0.672, 'x_atac_kl': 0.004, 'x_atac_elbo': 0.677, 'dsc_loss': 0.693, 'vae_loss': 1.224, 'gen_loss': 1.19, 'joint_cross_loss': 1.141, 'real_cross_loss': 1.167, 'cos_loss': 0.427}, 3.2s elapsed\n",
      "[INFO] PairedSCGLUETrainer: [Epoch 230] train={'g_nll': 0.439, 'g_kl': 0.038, 'g_elbo': 0.478, 'x_rna_nll': 0.457, 'x_rna_kl': 0.011, 'x_rna_elbo': 0.468, 'x_atac_nll': 0.668, 'x_atac_kl': 0.004, 'x_atac_elbo': 0.672, 'dsc_loss': 0.691, 'vae_loss': 1.214, 'gen_loss': 1.179, 'joint_cross_loss': 1.131, 'real_cross_loss': 1.159, 'cos_loss': 0.426}, val={'g_nll': 0.439, 'g_kl': 0.038, 'g_elbo': 0.477, 'x_rna_nll': 0.469, 'x_rna_kl': 0.011, 'x_rna_elbo': 0.479, 'x_atac_nll': 0.673, 'x_atac_kl': 0.004, 'x_atac_elbo': 0.678, 'dsc_loss': 0.691, 'vae_loss': 1.231, 'gen_loss': 1.197, 'joint_cross_loss': 1.149, 'real_cross_loss': 1.178, 'cos_loss': 0.428}, 3.2s elapsed\n",
      "Epoch 00237: reducing learning rate of group 0 to 2.0000e-06.\n",
      "Epoch 00237: reducing learning rate of group 0 to 2.0000e-06.\n",
      "[INFO] LRScheduler: Learning rate reduction: step 3\n",
      "[INFO] PairedSCGLUETrainer: [Epoch 240] train={'g_nll': 0.44, 'g_kl': 0.038, 'g_elbo': 0.478, 'x_rna_nll': 0.457, 'x_rna_kl': 0.011, 'x_rna_elbo': 0.468, 'x_atac_nll': 0.668, 'x_atac_kl': 0.004, 'x_atac_elbo': 0.672, 'dsc_loss': 0.69, 'vae_loss': 1.213, 'gen_loss': 1.179, 'joint_cross_loss': 1.13, 'real_cross_loss': 1.158, 'cos_loss': 0.426}, val={'g_nll': 0.441, 'g_kl': 0.038, 'g_elbo': 0.479, 'x_rna_nll': 0.466, 'x_rna_kl': 0.011, 'x_rna_elbo': 0.477, 'x_atac_nll': 0.675, 'x_atac_kl': 0.004, 'x_atac_elbo': 0.679, 'dsc_loss': 0.691, 'vae_loss': 1.231, 'gen_loss': 1.196, 'joint_cross_loss': 1.149, 'real_cross_loss': 1.178, 'cos_loss': 0.422}, 28.0s elapsed\n",
      "[INFO] PairedSCGLUETrainer: [Epoch 250] train={'g_nll': 0.44, 'g_kl': 0.038, 'g_elbo': 0.478, 'x_rna_nll': 0.457, 'x_rna_kl': 0.011, 'x_rna_elbo': 0.468, 'x_atac_nll': 0.668, 'x_atac_kl': 0.004, 'x_atac_elbo': 0.672, 'dsc_loss': 0.692, 'vae_loss': 1.213, 'gen_loss': 1.179, 'joint_cross_loss': 1.13, 'real_cross_loss': 1.158, 'cos_loss': 0.424}, val={'g_nll': 0.439, 'g_kl': 0.038, 'g_elbo': 0.477, 'x_rna_nll': 0.465, 'x_rna_kl': 0.011, 'x_rna_elbo': 0.476, 'x_atac_nll': 0.676, 'x_atac_kl': 0.004, 'x_atac_elbo': 0.68, 'dsc_loss': 0.69, 'vae_loss': 1.23, 'gen_loss': 1.196, 'joint_cross_loss': 1.147, 'real_cross_loss': 1.174, 'cos_loss': 0.429}, 72.6s elapsed\n"
     ]
    },
    {
     "name": "stderr",
     "output_type": "stream",
     "text": [
      "2023-05-05 15:55:54,432 ignite.handlers.early_stopping.EarlyStopping INFO: EarlyStopping: Stop training\n"
     ]
    },
    {
     "name": "stdout",
     "output_type": "stream",
     "text": [
      "[INFO] EarlyStopping: Restoring checkpoint \"249\"...\n",
      "[INFO] EarlyStopping: Restoring checkpoint \"249\"...\n"
     ]
    },
    {
     "name": "stderr",
     "output_type": "stream",
     "text": [
      "/dss/dsshome1/01/di93bur/miniconda3/envs/scglue_env_2/lib/python3.9/multiprocessing/popen_fork.py:66: ResourceWarning: unclosed socket <zmq.Socket(zmq.PUSH) at 0x7f3dd8395b20>\n",
      "  self.pid = os.fork()\n",
      "ResourceWarning: Enable tracemalloc to get the object allocation traceback\n"
     ]
    },
    {
     "name": "stdout",
     "output_type": "stream",
     "text": [
      "[INFO] fit_SCGLUE: Estimating balancing weight...\n",
      "[INFO] estimate_balancing_weight: Clustering cells...\n",
      "[INFO] estimate_balancing_weight: Matching clusters...\n",
      "[INFO] estimate_balancing_weight: Matching array shape = (20, 14)...\n",
      "[INFO] estimate_balancing_weight: Estimating balancing weight...\n",
      "[INFO] fit_SCGLUE: Fine-tuning SCGLUE model...\n"
     ]
    },
    {
     "name": "stderr",
     "output_type": "stream",
     "text": [
      "/dss/dsshome1/01/di93bur/miniconda3/envs/scglue_env_2/lib/python3.9/site-packages/anndata/_core/anndata.py:117: ImplicitModificationWarning: Transforming to str index.\n",
      "  warnings.warn(\"Transforming to str index.\", ImplicitModificationWarning)\n",
      "/dss/dsshome1/01/di93bur/miniconda3/envs/scglue_env_2/lib/python3.9/site-packages/anndata/_core/anndata.py:117: ImplicitModificationWarning: Transforming to str index.\n",
      "  warnings.warn(\"Transforming to str index.\", ImplicitModificationWarning)\n",
      "[WARNING] PairedSCGLUEModel: It is recommended that `use_rep` dimensionality be equal or larger than `latent_dim`.\n"
     ]
    },
    {
     "name": "stdout",
     "output_type": "stream",
     "text": [
      "[INFO] check_graph: Checking variable coverage...\n",
      "[INFO] check_graph: Checking edge attributes...\n",
      "[INFO] check_graph: Checking self-loops...\n",
      "[INFO] check_graph: Checking graph symmetry...\n",
      "[INFO] PairedSCGLUEModel: Setting `graph_batch_size` = 3438\n",
      "[INFO] PairedSCGLUEModel: Setting `align_burnin` = 133\n",
      "[INFO] PairedSCGLUEModel: Setting `max_epochs` = 798\n",
      "[INFO] PairedSCGLUEModel: Setting `patience` = 67\n",
      "[INFO] PairedSCGLUEModel: Setting `reduce_lr_patience` = 34\n",
      "[INFO] PairedSCGLUETrainer: Using training directory: \"glue/fine-tune\"\n",
      "[INFO] PairedSCGLUETrainer: [Epoch 10] train={'g_nll': 0.441, 'g_kl': 0.038, 'g_elbo': 0.478, 'x_rna_nll': 0.461, 'x_rna_kl': 0.011, 'x_rna_elbo': 0.472, 'x_atac_nll': 0.67, 'x_atac_kl': 0.004, 'x_atac_elbo': 0.675, 'dsc_loss': 0.692, 'vae_loss': 1.22, 'gen_loss': 1.185, 'joint_cross_loss': 1.137, 'real_cross_loss': 1.165, 'cos_loss': 0.427}, val={'g_nll': 0.436, 'g_kl': 0.038, 'g_elbo': 0.474, 'x_rna_nll': 0.449, 'x_rna_kl': 0.011, 'x_rna_elbo': 0.459, 'x_atac_nll': 0.651, 'x_atac_kl': 0.004, 'x_atac_elbo': 0.655, 'dsc_loss': 0.678, 'vae_loss': 1.187, 'gen_loss': 1.153, 'joint_cross_loss': 1.105, 'real_cross_loss': 1.13, 'cos_loss': 0.428}, 3.1s elapsed\n",
      "[INFO] PairedSCGLUETrainer: [Epoch 20] train={'g_nll': 0.439, 'g_kl': 0.037, 'g_elbo': 0.477, 'x_rna_nll': 0.461, 'x_rna_kl': 0.011, 'x_rna_elbo': 0.472, 'x_atac_nll': 0.671, 'x_atac_kl': 0.004, 'x_atac_elbo': 0.675, 'dsc_loss': 0.693, 'vae_loss': 1.221, 'gen_loss': 1.186, 'joint_cross_loss': 1.138, 'real_cross_loss': 1.167, 'cos_loss': 0.426}, val={'g_nll': 0.439, 'g_kl': 0.037, 'g_elbo': 0.476, 'x_rna_nll': 0.451, 'x_rna_kl': 0.011, 'x_rna_elbo': 0.461, 'x_atac_nll': 0.648, 'x_atac_kl': 0.004, 'x_atac_elbo': 0.652, 'dsc_loss': 0.685, 'vae_loss': 1.185, 'gen_loss': 1.151, 'joint_cross_loss': 1.105, 'real_cross_loss': 1.133, 'cos_loss': 0.427}, 3.1s elapsed\n",
      "[INFO] PairedSCGLUETrainer: [Epoch 30] train={'g_nll': 0.437, 'g_kl': 0.037, 'g_elbo': 0.475, 'x_rna_nll': 0.462, 'x_rna_kl': 0.011, 'x_rna_elbo': 0.472, 'x_atac_nll': 0.67, 'x_atac_kl': 0.004, 'x_atac_elbo': 0.675, 'dsc_loss': 0.693, 'vae_loss': 1.221, 'gen_loss': 1.186, 'joint_cross_loss': 1.138, 'real_cross_loss': 1.166, 'cos_loss': 0.427}, val={'g_nll': 0.436, 'g_kl': 0.037, 'g_elbo': 0.473, 'x_rna_nll': 0.452, 'x_rna_kl': 0.01, 'x_rna_elbo': 0.463, 'x_atac_nll': 0.65, 'x_atac_kl': 0.004, 'x_atac_elbo': 0.654, 'dsc_loss': 0.688, 'vae_loss': 1.189, 'gen_loss': 1.155, 'joint_cross_loss': 1.109, 'real_cross_loss': 1.137, 'cos_loss': 0.427}, 3.1s elapsed\n",
      "[INFO] PairedSCGLUETrainer: [Epoch 40] train={'g_nll': 0.435, 'g_kl': 0.037, 'g_elbo': 0.472, 'x_rna_nll': 0.461, 'x_rna_kl': 0.011, 'x_rna_elbo': 0.472, 'x_atac_nll': 0.671, 'x_atac_kl': 0.004, 'x_atac_elbo': 0.675, 'dsc_loss': 0.692, 'vae_loss': 1.22, 'gen_loss': 1.185, 'joint_cross_loss': 1.137, 'real_cross_loss': 1.167, 'cos_loss': 0.427}, val={'g_nll': 0.436, 'g_kl': 0.037, 'g_elbo': 0.473, 'x_rna_nll': 0.451, 'x_rna_kl': 0.011, 'x_rna_elbo': 0.462, 'x_atac_nll': 0.643, 'x_atac_kl': 0.004, 'x_atac_elbo': 0.647, 'dsc_loss': 0.687, 'vae_loss': 1.181, 'gen_loss': 1.147, 'joint_cross_loss': 1.101, 'real_cross_loss': 1.13, 'cos_loss': 0.423}, 3.1s elapsed\n",
      "[INFO] PairedSCGLUETrainer: [Epoch 50] train={'g_nll': 0.436, 'g_kl': 0.036, 'g_elbo': 0.472, 'x_rna_nll': 0.461, 'x_rna_kl': 0.011, 'x_rna_elbo': 0.471, 'x_atac_nll': 0.67, 'x_atac_kl': 0.004, 'x_atac_elbo': 0.674, 'dsc_loss': 0.691, 'vae_loss': 1.219, 'gen_loss': 1.185, 'joint_cross_loss': 1.137, 'real_cross_loss': 1.166, 'cos_loss': 0.426}, val={'g_nll': 0.437, 'g_kl': 0.037, 'g_elbo': 0.473, 'x_rna_nll': 0.451, 'x_rna_kl': 0.011, 'x_rna_elbo': 0.461, 'x_atac_nll': 0.648, 'x_atac_kl': 0.004, 'x_atac_elbo': 0.653, 'dsc_loss': 0.685, 'vae_loss': 1.186, 'gen_loss': 1.152, 'joint_cross_loss': 1.106, 'real_cross_loss': 1.136, 'cos_loss': 0.424}, 31.7s elapsed\n",
      "[INFO] PairedSCGLUETrainer: [Epoch 60] train={'g_nll': 0.434, 'g_kl': 0.036, 'g_elbo': 0.471, 'x_rna_nll': 0.461, 'x_rna_kl': 0.011, 'x_rna_elbo': 0.471, 'x_atac_nll': 0.67, 'x_atac_kl': 0.004, 'x_atac_elbo': 0.674, 'dsc_loss': 0.693, 'vae_loss': 1.219, 'gen_loss': 1.185, 'joint_cross_loss': 1.137, 'real_cross_loss': 1.166, 'cos_loss': 0.425}, val={'g_nll': 0.431, 'g_kl': 0.036, 'g_elbo': 0.467, 'x_rna_nll': 0.456, 'x_rna_kl': 0.01, 'x_rna_elbo': 0.466, 'x_atac_nll': 0.653, 'x_atac_kl': 0.004, 'x_atac_elbo': 0.657, 'dsc_loss': 0.688, 'vae_loss': 1.196, 'gen_loss': 1.162, 'joint_cross_loss': 1.116, 'real_cross_loss': 1.147, 'cos_loss': 0.429}, 3.1s elapsed\n",
      "[INFO] PairedSCGLUETrainer: [Epoch 70] train={'g_nll': 0.435, 'g_kl': 0.036, 'g_elbo': 0.471, 'x_rna_nll': 0.461, 'x_rna_kl': 0.011, 'x_rna_elbo': 0.471, 'x_atac_nll': 0.67, 'x_atac_kl': 0.004, 'x_atac_elbo': 0.675, 'dsc_loss': 0.69, 'vae_loss': 1.219, 'gen_loss': 1.185, 'joint_cross_loss': 1.137, 'real_cross_loss': 1.167, 'cos_loss': 0.426}, val={'g_nll': 0.437, 'g_kl': 0.036, 'g_elbo': 0.473, 'x_rna_nll': 0.456, 'x_rna_kl': 0.01, 'x_rna_elbo': 0.466, 'x_atac_nll': 0.652, 'x_atac_kl': 0.004, 'x_atac_elbo': 0.657, 'dsc_loss': 0.685, 'vae_loss': 1.195, 'gen_loss': 1.161, 'joint_cross_loss': 1.116, 'real_cross_loss': 1.147, 'cos_loss': 0.419}, 3.2s elapsed\n",
      "[INFO] PairedSCGLUETrainer: [Epoch 80] train={'g_nll': 0.434, 'g_kl': 0.036, 'g_elbo': 0.469, 'x_rna_nll': 0.46, 'x_rna_kl': 0.01, 'x_rna_elbo': 0.471, 'x_atac_nll': 0.67, 'x_atac_kl': 0.004, 'x_atac_elbo': 0.674, 'dsc_loss': 0.692, 'vae_loss': 1.218, 'gen_loss': 1.183, 'joint_cross_loss': 1.136, 'real_cross_loss': 1.166, 'cos_loss': 0.428}, val={'g_nll': 0.432, 'g_kl': 0.036, 'g_elbo': 0.468, 'x_rna_nll': 0.456, 'x_rna_kl': 0.01, 'x_rna_elbo': 0.466, 'x_atac_nll': 0.654, 'x_atac_kl': 0.004, 'x_atac_elbo': 0.659, 'dsc_loss': 0.681, 'vae_loss': 1.197, 'gen_loss': 1.163, 'joint_cross_loss': 1.115, 'real_cross_loss': 1.142, 'cos_loss': 0.421}, 3.1s elapsed\n",
      "[INFO] PairedSCGLUETrainer: [Epoch 90] train={'g_nll': 0.433, 'g_kl': 0.036, 'g_elbo': 0.469, 'x_rna_nll': 0.46, 'x_rna_kl': 0.01, 'x_rna_elbo': 0.47, 'x_atac_nll': 0.67, 'x_atac_kl': 0.004, 'x_atac_elbo': 0.674, 'dsc_loss': 0.691, 'vae_loss': 1.218, 'gen_loss': 1.184, 'joint_cross_loss': 1.136, 'real_cross_loss': 1.166, 'cos_loss': 0.426}, val={'g_nll': 0.437, 'g_kl': 0.036, 'g_elbo': 0.472, 'x_rna_nll': 0.454, 'x_rna_kl': 0.01, 'x_rna_elbo': 0.465, 'x_atac_nll': 0.656, 'x_atac_kl': 0.004, 'x_atac_elbo': 0.66, 'dsc_loss': 0.682, 'vae_loss': 1.197, 'gen_loss': 1.163, 'joint_cross_loss': 1.116, 'real_cross_loss': 1.145, 'cos_loss': 0.416}, 3.1s elapsed\n",
      "[INFO] PairedSCGLUETrainer: [Epoch 100] train={'g_nll': 0.433, 'g_kl': 0.036, 'g_elbo': 0.469, 'x_rna_nll': 0.461, 'x_rna_kl': 0.01, 'x_rna_elbo': 0.471, 'x_atac_nll': 0.67, 'x_atac_kl': 0.004, 'x_atac_elbo': 0.674, 'dsc_loss': 0.689, 'vae_loss': 1.219, 'gen_loss': 1.185, 'joint_cross_loss': 1.137, 'real_cross_loss': 1.166, 'cos_loss': 0.426}, val={'g_nll': 0.431, 'g_kl': 0.036, 'g_elbo': 0.466, 'x_rna_nll': 0.454, 'x_rna_kl': 0.01, 'x_rna_elbo': 0.464, 'x_atac_nll': 0.651, 'x_atac_kl': 0.004, 'x_atac_elbo': 0.655, 'dsc_loss': 0.679, 'vae_loss': 1.192, 'gen_loss': 1.158, 'joint_cross_loss': 1.112, 'real_cross_loss': 1.144, 'cos_loss': 0.422}, 19.1s elapsed\n",
      "[INFO] PairedSCGLUETrainer: [Epoch 110] train={'g_nll': 0.434, 'g_kl': 0.035, 'g_elbo': 0.469, 'x_rna_nll': 0.46, 'x_rna_kl': 0.01, 'x_rna_elbo': 0.471, 'x_atac_nll': 0.67, 'x_atac_kl': 0.004, 'x_atac_elbo': 0.674, 'dsc_loss': 0.689, 'vae_loss': 1.219, 'gen_loss': 1.184, 'joint_cross_loss': 1.137, 'real_cross_loss': 1.167, 'cos_loss': 0.426}, val={'g_nll': 0.429, 'g_kl': 0.035, 'g_elbo': 0.464, 'x_rna_nll': 0.448, 'x_rna_kl': 0.01, 'x_rna_elbo': 0.458, 'x_atac_nll': 0.652, 'x_atac_kl': 0.004, 'x_atac_elbo': 0.656, 'dsc_loss': 0.674, 'vae_loss': 1.187, 'gen_loss': 1.153, 'joint_cross_loss': 1.108, 'real_cross_loss': 1.139, 'cos_loss': 0.432}, 3.1s elapsed\n",
      "[INFO] PairedSCGLUETrainer: [Epoch 120] train={'g_nll': 0.431, 'g_kl': 0.035, 'g_elbo': 0.466, 'x_rna_nll': 0.46, 'x_rna_kl': 0.01, 'x_rna_elbo': 0.471, 'x_atac_nll': 0.671, 'x_atac_kl': 0.004, 'x_atac_elbo': 0.675, 'dsc_loss': 0.688, 'vae_loss': 1.219, 'gen_loss': 1.185, 'joint_cross_loss': 1.138, 'real_cross_loss': 1.168, 'cos_loss': 0.427}, val={'g_nll': 0.428, 'g_kl': 0.035, 'g_elbo': 0.463, 'x_rna_nll': 0.454, 'x_rna_kl': 0.01, 'x_rna_elbo': 0.465, 'x_atac_nll': 0.652, 'x_atac_kl': 0.004, 'x_atac_elbo': 0.656, 'dsc_loss': 0.682, 'vae_loss': 1.193, 'gen_loss': 1.159, 'joint_cross_loss': 1.114, 'real_cross_loss': 1.146, 'cos_loss': 0.422}, 3.0s elapsed\n",
      "[INFO] PairedSCGLUETrainer: [Epoch 130] train={'g_nll': 0.43, 'g_kl': 0.035, 'g_elbo': 0.465, 'x_rna_nll': 0.46, 'x_rna_kl': 0.01, 'x_rna_elbo': 0.47, 'x_atac_nll': 0.67, 'x_atac_kl': 0.004, 'x_atac_elbo': 0.674, 'dsc_loss': 0.689, 'vae_loss': 1.217, 'gen_loss': 1.183, 'joint_cross_loss': 1.136, 'real_cross_loss': 1.166, 'cos_loss': 0.425}, val={'g_nll': 0.43, 'g_kl': 0.035, 'g_elbo': 0.465, 'x_rna_nll': 0.452, 'x_rna_kl': 0.01, 'x_rna_elbo': 0.462, 'x_atac_nll': 0.655, 'x_atac_kl': 0.004, 'x_atac_elbo': 0.659, 'dsc_loss': 0.684, 'vae_loss': 1.193, 'gen_loss': 1.159, 'joint_cross_loss': 1.113, 'real_cross_loss': 1.142, 'cos_loss': 0.427}, 3.1s elapsed\n",
      "[INFO] PairedSCGLUETrainer: [Epoch 140] train={'g_nll': 0.432, 'g_kl': 0.035, 'g_elbo': 0.467, 'x_rna_nll': 0.461, 'x_rna_kl': 0.01, 'x_rna_elbo': 0.471, 'x_atac_nll': 0.671, 'x_atac_kl': 0.004, 'x_atac_elbo': 0.675, 'dsc_loss': 0.687, 'vae_loss': 1.219, 'gen_loss': 1.185, 'joint_cross_loss': 1.138, 'real_cross_loss': 1.168, 'cos_loss': 0.428}, val={'g_nll': 0.432, 'g_kl': 0.035, 'g_elbo': 0.467, 'x_rna_nll': 0.453, 'x_rna_kl': 0.01, 'x_rna_elbo': 0.463, 'x_atac_nll': 0.656, 'x_atac_kl': 0.004, 'x_atac_elbo': 0.66, 'dsc_loss': 0.682, 'vae_loss': 1.196, 'gen_loss': 1.162, 'joint_cross_loss': 1.116, 'real_cross_loss': 1.147, 'cos_loss': 0.425}, 2.9s elapsed\n",
      "[INFO] PairedSCGLUETrainer: [Epoch 150] train={'g_nll': 0.431, 'g_kl': 0.035, 'g_elbo': 0.465, 'x_rna_nll': 0.461, 'x_rna_kl': 0.01, 'x_rna_elbo': 0.471, 'x_atac_nll': 0.671, 'x_atac_kl': 0.004, 'x_atac_elbo': 0.675, 'dsc_loss': 0.689, 'vae_loss': 1.219, 'gen_loss': 1.185, 'joint_cross_loss': 1.138, 'real_cross_loss': 1.168, 'cos_loss': 0.427}, val={'g_nll': 0.429, 'g_kl': 0.035, 'g_elbo': 0.464, 'x_rna_nll': 0.448, 'x_rna_kl': 0.01, 'x_rna_elbo': 0.459, 'x_atac_nll': 0.652, 'x_atac_kl': 0.004, 'x_atac_elbo': 0.656, 'dsc_loss': 0.675, 'vae_loss': 1.186, 'gen_loss': 1.152, 'joint_cross_loss': 1.107, 'real_cross_loss': 1.138, 'cos_loss': 0.425}, 4.5s elapsed\n",
      "[INFO] PairedSCGLUETrainer: [Epoch 160] train={'g_nll': 0.429, 'g_kl': 0.035, 'g_elbo': 0.464, 'x_rna_nll': 0.461, 'x_rna_kl': 0.01, 'x_rna_elbo': 0.471, 'x_atac_nll': 0.671, 'x_atac_kl': 0.004, 'x_atac_elbo': 0.675, 'dsc_loss': 0.689, 'vae_loss': 1.22, 'gen_loss': 1.185, 'joint_cross_loss': 1.138, 'real_cross_loss': 1.168, 'cos_loss': 0.425}, val={'g_nll': 0.43, 'g_kl': 0.035, 'g_elbo': 0.465, 'x_rna_nll': 0.451, 'x_rna_kl': 0.01, 'x_rna_elbo': 0.461, 'x_atac_nll': 0.651, 'x_atac_kl': 0.004, 'x_atac_elbo': 0.655, 'dsc_loss': 0.671, 'vae_loss': 1.188, 'gen_loss': 1.155, 'joint_cross_loss': 1.109, 'real_cross_loss': 1.14, 'cos_loss': 0.428}, 15.9s elapsed\n",
      "[INFO] PairedSCGLUETrainer: [Epoch 170] train={'g_nll': 0.429, 'g_kl': 0.034, 'g_elbo': 0.464, 'x_rna_nll': 0.459, 'x_rna_kl': 0.01, 'x_rna_elbo': 0.47, 'x_atac_nll': 0.67, 'x_atac_kl': 0.004, 'x_atac_elbo': 0.674, 'dsc_loss': 0.688, 'vae_loss': 1.217, 'gen_loss': 1.183, 'joint_cross_loss': 1.136, 'real_cross_loss': 1.166, 'cos_loss': 0.427}, val={'g_nll': 0.431, 'g_kl': 0.034, 'g_elbo': 0.465, 'x_rna_nll': 0.451, 'x_rna_kl': 0.01, 'x_rna_elbo': 0.462, 'x_atac_nll': 0.644, 'x_atac_kl': 0.004, 'x_atac_elbo': 0.648, 'dsc_loss': 0.684, 'vae_loss': 1.182, 'gen_loss': 1.148, 'joint_cross_loss': 1.103, 'real_cross_loss': 1.134, 'cos_loss': 0.43}, 3.6s elapsed\n",
      "[INFO] PairedSCGLUETrainer: [Epoch 180] train={'g_nll': 0.43, 'g_kl': 0.034, 'g_elbo': 0.464, 'x_rna_nll': 0.46, 'x_rna_kl': 0.01, 'x_rna_elbo': 0.47, 'x_atac_nll': 0.67, 'x_atac_kl': 0.004, 'x_atac_elbo': 0.674, 'dsc_loss': 0.688, 'vae_loss': 1.217, 'gen_loss': 1.183, 'joint_cross_loss': 1.136, 'real_cross_loss': 1.166, 'cos_loss': 0.426}, val={'g_nll': 0.428, 'g_kl': 0.034, 'g_elbo': 0.463, 'x_rna_nll': 0.451, 'x_rna_kl': 0.01, 'x_rna_elbo': 0.461, 'x_atac_nll': 0.652, 'x_atac_kl': 0.004, 'x_atac_elbo': 0.656, 'dsc_loss': 0.682, 'vae_loss': 1.189, 'gen_loss': 1.155, 'joint_cross_loss': 1.109, 'real_cross_loss': 1.14, 'cos_loss': 0.431}, 3.1s elapsed\n",
      "Epoch 00186: reducing learning rate of group 0 to 2.0000e-04.\n",
      "Epoch 00186: reducing learning rate of group 0 to 2.0000e-04.\n",
      "[INFO] LRScheduler: Learning rate reduction: step 1\n",
      "[INFO] PairedSCGLUETrainer: [Epoch 190] train={'g_nll': 0.427, 'g_kl': 0.034, 'g_elbo': 0.462, 'x_rna_nll': 0.458, 'x_rna_kl': 0.01, 'x_rna_elbo': 0.468, 'x_atac_nll': 0.67, 'x_atac_kl': 0.004, 'x_atac_elbo': 0.674, 'dsc_loss': 0.69, 'vae_loss': 1.215, 'gen_loss': 1.181, 'joint_cross_loss': 1.134, 'real_cross_loss': 1.164, 'cos_loss': 0.424}, val={'g_nll': 0.426, 'g_kl': 0.034, 'g_elbo': 0.461, 'x_rna_nll': 0.453, 'x_rna_kl': 0.01, 'x_rna_elbo': 0.463, 'x_atac_nll': 0.655, 'x_atac_kl': 0.004, 'x_atac_elbo': 0.659, 'dsc_loss': 0.673, 'vae_loss': 1.193, 'gen_loss': 1.16, 'joint_cross_loss': 1.114, 'real_cross_loss': 1.146, 'cos_loss': 0.431}, 3.1s elapsed\n",
      "[INFO] PairedSCGLUETrainer: [Epoch 200] train={'g_nll': 0.429, 'g_kl': 0.034, 'g_elbo': 0.463, 'x_rna_nll': 0.459, 'x_rna_kl': 0.01, 'x_rna_elbo': 0.469, 'x_atac_nll': 0.671, 'x_atac_kl': 0.004, 'x_atac_elbo': 0.675, 'dsc_loss': 0.69, 'vae_loss': 1.217, 'gen_loss': 1.182, 'joint_cross_loss': 1.136, 'real_cross_loss': 1.166, 'cos_loss': 0.423}, val={'g_nll': 0.427, 'g_kl': 0.034, 'g_elbo': 0.462, 'x_rna_nll': 0.45, 'x_rna_kl': 0.01, 'x_rna_elbo': 0.46, 'x_atac_nll': 0.651, 'x_atac_kl': 0.004, 'x_atac_elbo': 0.655, 'dsc_loss': 0.679, 'vae_loss': 1.187, 'gen_loss': 1.153, 'joint_cross_loss': 1.108, 'real_cross_loss': 1.138, 'cos_loss': 0.423}, 4.6s elapsed\n",
      "[INFO] PairedSCGLUETrainer: [Epoch 210] train={'g_nll': 0.428, 'g_kl': 0.034, 'g_elbo': 0.462, 'x_rna_nll': 0.458, 'x_rna_kl': 0.01, 'x_rna_elbo': 0.469, 'x_atac_nll': 0.67, 'x_atac_kl': 0.004, 'x_atac_elbo': 0.674, 'dsc_loss': 0.69, 'vae_loss': 1.216, 'gen_loss': 1.181, 'joint_cross_loss': 1.135, 'real_cross_loss': 1.164, 'cos_loss': 0.425}, val={'g_nll': 0.429, 'g_kl': 0.034, 'g_elbo': 0.463, 'x_rna_nll': 0.457, 'x_rna_kl': 0.01, 'x_rna_elbo': 0.468, 'x_atac_nll': 0.66, 'x_atac_kl': 0.004, 'x_atac_elbo': 0.664, 'dsc_loss': 0.674, 'vae_loss': 1.205, 'gen_loss': 1.171, 'joint_cross_loss': 1.125, 'real_cross_loss': 1.154, 'cos_loss': 0.419}, 12.2s elapsed\n",
      "[INFO] PairedSCGLUETrainer: [Epoch 220] train={'g_nll': 0.428, 'g_kl': 0.034, 'g_elbo': 0.462, 'x_rna_nll': 0.458, 'x_rna_kl': 0.01, 'x_rna_elbo': 0.469, 'x_atac_nll': 0.671, 'x_atac_kl': 0.004, 'x_atac_elbo': 0.675, 'dsc_loss': 0.688, 'vae_loss': 1.217, 'gen_loss': 1.182, 'joint_cross_loss': 1.136, 'real_cross_loss': 1.166, 'cos_loss': 0.429}, val={'g_nll': 0.427, 'g_kl': 0.034, 'g_elbo': 0.462, 'x_rna_nll': 0.451, 'x_rna_kl': 0.01, 'x_rna_elbo': 0.461, 'x_atac_nll': 0.652, 'x_atac_kl': 0.004, 'x_atac_elbo': 0.656, 'dsc_loss': 0.677, 'vae_loss': 1.189, 'gen_loss': 1.155, 'joint_cross_loss': 1.11, 'real_cross_loss': 1.14, 'cos_loss': 0.425}, 3.1s elapsed\n",
      "Epoch 00221: reducing learning rate of group 0 to 2.0000e-05.\n",
      "Epoch 00221: reducing learning rate of group 0 to 2.0000e-05.\n",
      "[INFO] LRScheduler: Learning rate reduction: step 2\n",
      "[INFO] PairedSCGLUETrainer: [Epoch 230] train={'g_nll': 0.427, 'g_kl': 0.034, 'g_elbo': 0.461, 'x_rna_nll': 0.458, 'x_rna_kl': 0.01, 'x_rna_elbo': 0.469, 'x_atac_nll': 0.67, 'x_atac_kl': 0.004, 'x_atac_elbo': 0.674, 'dsc_loss': 0.688, 'vae_loss': 1.216, 'gen_loss': 1.182, 'joint_cross_loss': 1.135, 'real_cross_loss': 1.165, 'cos_loss': 0.426}, val={'g_nll': 0.429, 'g_kl': 0.034, 'g_elbo': 0.463, 'x_rna_nll': 0.455, 'x_rna_kl': 0.01, 'x_rna_elbo': 0.465, 'x_atac_nll': 0.656, 'x_atac_kl': 0.004, 'x_atac_elbo': 0.66, 'dsc_loss': 0.683, 'vae_loss': 1.198, 'gen_loss': 1.163, 'joint_cross_loss': 1.118, 'real_cross_loss': 1.15, 'cos_loss': 0.423}, 3.2s elapsed\n",
      "[INFO] PairedSCGLUETrainer: [Epoch 240] train={'g_nll': 0.428, 'g_kl': 0.034, 'g_elbo': 0.462, 'x_rna_nll': 0.458, 'x_rna_kl': 0.01, 'x_rna_elbo': 0.469, 'x_atac_nll': 0.67, 'x_atac_kl': 0.004, 'x_atac_elbo': 0.674, 'dsc_loss': 0.691, 'vae_loss': 1.216, 'gen_loss': 1.182, 'joint_cross_loss': 1.135, 'real_cross_loss': 1.165, 'cos_loss': 0.427}, val={'g_nll': 0.427, 'g_kl': 0.034, 'g_elbo': 0.461, 'x_rna_nll': 0.448, 'x_rna_kl': 0.01, 'x_rna_elbo': 0.458, 'x_atac_nll': 0.657, 'x_atac_kl': 0.004, 'x_atac_elbo': 0.661, 'dsc_loss': 0.676, 'vae_loss': 1.192, 'gen_loss': 1.158, 'joint_cross_loss': 1.113, 'real_cross_loss': 1.143, 'cos_loss': 0.424}, 56.7s elapsed\n",
      "[INFO] PairedSCGLUETrainer: [Epoch 250] train={'g_nll': 0.428, 'g_kl': 0.034, 'g_elbo': 0.462, 'x_rna_nll': 0.458, 'x_rna_kl': 0.01, 'x_rna_elbo': 0.468, 'x_atac_nll': 0.67, 'x_atac_kl': 0.004, 'x_atac_elbo': 0.674, 'dsc_loss': 0.689, 'vae_loss': 1.216, 'gen_loss': 1.181, 'joint_cross_loss': 1.135, 'real_cross_loss': 1.165, 'cos_loss': 0.427}, val={'g_nll': 0.428, 'g_kl': 0.034, 'g_elbo': 0.462, 'x_rna_nll': 0.45, 'x_rna_kl': 0.01, 'x_rna_elbo': 0.46, 'x_atac_nll': 0.653, 'x_atac_kl': 0.004, 'x_atac_elbo': 0.657, 'dsc_loss': 0.68, 'vae_loss': 1.189, 'gen_loss': 1.155, 'joint_cross_loss': 1.112, 'real_cross_loss': 1.143, 'cos_loss': 0.423}, 3.2s elapsed\n",
      "Epoch 00256: reducing learning rate of group 0 to 2.0000e-06.\n",
      "Epoch 00256: reducing learning rate of group 0 to 2.0000e-06.\n",
      "[INFO] LRScheduler: Learning rate reduction: step 3\n",
      "[INFO] PairedSCGLUETrainer: [Epoch 260] train={'g_nll': 0.428, 'g_kl': 0.034, 'g_elbo': 0.462, 'x_rna_nll': 0.458, 'x_rna_kl': 0.01, 'x_rna_elbo': 0.468, 'x_atac_nll': 0.67, 'x_atac_kl': 0.004, 'x_atac_elbo': 0.674, 'dsc_loss': 0.691, 'vae_loss': 1.215, 'gen_loss': 1.181, 'joint_cross_loss': 1.135, 'real_cross_loss': 1.164, 'cos_loss': 0.425}, val={'g_nll': 0.425, 'g_kl': 0.034, 'g_elbo': 0.459, 'x_rna_nll': 0.454, 'x_rna_kl': 0.01, 'x_rna_elbo': 0.464, 'x_atac_nll': 0.652, 'x_atac_kl': 0.004, 'x_atac_elbo': 0.656, 'dsc_loss': 0.676, 'vae_loss': 1.192, 'gen_loss': 1.158, 'joint_cross_loss': 1.114, 'real_cross_loss': 1.144, 'cos_loss': 0.426}, 8.5s elapsed\n",
      "[INFO] PairedSCGLUETrainer: [Epoch 270] train={'g_nll': 0.428, 'g_kl': 0.034, 'g_elbo': 0.463, 'x_rna_nll': 0.458, 'x_rna_kl': 0.01, 'x_rna_elbo': 0.469, 'x_atac_nll': 0.671, 'x_atac_kl': 0.004, 'x_atac_elbo': 0.675, 'dsc_loss': 0.69, 'vae_loss': 1.216, 'gen_loss': 1.182, 'joint_cross_loss': 1.135, 'real_cross_loss': 1.165, 'cos_loss': 0.426}, val={'g_nll': 0.426, 'g_kl': 0.034, 'g_elbo': 0.461, 'x_rna_nll': 0.45, 'x_rna_kl': 0.01, 'x_rna_elbo': 0.46, 'x_atac_nll': 0.652, 'x_atac_kl': 0.004, 'x_atac_elbo': 0.656, 'dsc_loss': 0.676, 'vae_loss': 1.188, 'gen_loss': 1.154, 'joint_cross_loss': 1.11, 'real_cross_loss': 1.142, 'cos_loss': 0.428}, 3.1s elapsed\n",
      "[INFO] PairedSCGLUETrainer: [Epoch 280] train={'g_nll': 0.428, 'g_kl': 0.034, 'g_elbo': 0.462, 'x_rna_nll': 0.459, 'x_rna_kl': 0.01, 'x_rna_elbo': 0.469, 'x_atac_nll': 0.671, 'x_atac_kl': 0.004, 'x_atac_elbo': 0.675, 'dsc_loss': 0.69, 'vae_loss': 1.217, 'gen_loss': 1.183, 'joint_cross_loss': 1.136, 'real_cross_loss': 1.166, 'cos_loss': 0.427}, val={'g_nll': 0.426, 'g_kl': 0.034, 'g_elbo': 0.46, 'x_rna_nll': 0.457, 'x_rna_kl': 0.01, 'x_rna_elbo': 0.467, 'x_atac_nll': 0.649, 'x_atac_kl': 0.004, 'x_atac_elbo': 0.653, 'dsc_loss': 0.683, 'vae_loss': 1.192, 'gen_loss': 1.158, 'joint_cross_loss': 1.113, 'real_cross_loss': 1.144, 'cos_loss': 0.418}, 3.7s elapsed\n",
      "[INFO] PairedSCGLUETrainer: [Epoch 290] train={'g_nll': 0.428, 'g_kl': 0.034, 'g_elbo': 0.462, 'x_rna_nll': 0.458, 'x_rna_kl': 0.01, 'x_rna_elbo': 0.468, 'x_atac_nll': 0.67, 'x_atac_kl': 0.004, 'x_atac_elbo': 0.675, 'dsc_loss': 0.691, 'vae_loss': 1.216, 'gen_loss': 1.181, 'joint_cross_loss': 1.135, 'real_cross_loss': 1.165, 'cos_loss': 0.425}, val={'g_nll': 0.428, 'g_kl': 0.034, 'g_elbo': 0.462, 'x_rna_nll': 0.451, 'x_rna_kl': 0.01, 'x_rna_elbo': 0.462, 'x_atac_nll': 0.651, 'x_atac_kl': 0.004, 'x_atac_elbo': 0.655, 'dsc_loss': 0.673, 'vae_loss': 1.189, 'gen_loss': 1.155, 'joint_cross_loss': 1.109, 'real_cross_loss': 1.139, 'cos_loss': 0.42}, 3.0s elapsed\n",
      "Epoch 00291: reducing learning rate of group 0 to 2.0000e-07.\n",
      "Epoch 00291: reducing learning rate of group 0 to 2.0000e-07.\n",
      "[INFO] LRScheduler: Learning rate reduction: step 4\n",
      "[INFO] PairedSCGLUETrainer: [Epoch 300] train={'g_nll': 0.428, 'g_kl': 0.034, 'g_elbo': 0.463, 'x_rna_nll': 0.458, 'x_rna_kl': 0.01, 'x_rna_elbo': 0.468, 'x_atac_nll': 0.67, 'x_atac_kl': 0.004, 'x_atac_elbo': 0.674, 'dsc_loss': 0.691, 'vae_loss': 1.215, 'gen_loss': 1.181, 'joint_cross_loss': 1.134, 'real_cross_loss': 1.163, 'cos_loss': 0.425}, val={'g_nll': 0.426, 'g_kl': 0.034, 'g_elbo': 0.46, 'x_rna_nll': 0.456, 'x_rna_kl': 0.01, 'x_rna_elbo': 0.467, 'x_atac_nll': 0.657, 'x_atac_kl': 0.004, 'x_atac_elbo': 0.661, 'dsc_loss': 0.681, 'vae_loss': 1.199, 'gen_loss': 1.165, 'joint_cross_loss': 1.12, 'real_cross_loss': 1.152, 'cos_loss': 0.419}, 3.2s elapsed\n"
     ]
    },
    {
     "name": "stderr",
     "output_type": "stream",
     "text": [
      "2023-05-05 16:47:02,277 ignite.handlers.early_stopping.EarlyStopping INFO: EarlyStopping: Stop training\n"
     ]
    },
    {
     "name": "stdout",
     "output_type": "stream",
     "text": [
      "[INFO] EarlyStopping: Restoring checkpoint \"293\"...\n",
      "[INFO] EarlyStopping: Restoring checkpoint \"293\"...\n"
     ]
    },
    {
     "name": "stderr",
     "output_type": "stream",
     "text": [
      "/dss/dsshome1/01/di93bur/miniconda3/envs/scglue_env_2/lib/python3.9/multiprocessing/popen_fork.py:66: ResourceWarning: unclosed socket <zmq.Socket(zmq.PUSH) at 0x7f3dd8395b20>\n",
      "  self.pid = os.fork()\n",
      "ResourceWarning: Enable tracemalloc to get the object allocation traceback\n",
      "/tmp/ipykernel_413349/637290968.py:24: DeprecationWarning: Call to deprecated function (or staticmethod) opt_louvain.\n",
      "  scib.cl.opt_louvain(adata,label_key='cell_type',cluster_key='cluster_key',plot=False,inplace=True,force=True,verbose = False)\n",
      "  9%|▉         | 1/11 [1:42:58<17:09:41, 6178.15s/it]"
     ]
    },
    {
     "name": "stdout",
     "output_type": "stream",
     "text": [
      "[INFO] fit_SCGLUE: Pretraining SCGLUE model...\n"
     ]
    },
    {
     "name": "stderr",
     "output_type": "stream",
     "text": [
      "[WARNING] PairedSCGLUEModel: It is recommended that `use_rep` dimensionality be equal or larger than `latent_dim`.\n"
     ]
    },
    {
     "name": "stdout",
     "output_type": "stream",
     "text": [
      "[INFO] check_graph: Checking variable coverage...\n",
      "[INFO] check_graph: Checking edge attributes...\n",
      "[INFO] check_graph: Checking self-loops...\n",
      "[INFO] check_graph: Checking graph symmetry...\n",
      "[INFO] PairedSCGLUEModel: Setting `graph_batch_size` = 2677\n",
      "[INFO] PairedSCGLUEModel: Setting `max_epochs` = 809\n",
      "[INFO] PairedSCGLUEModel: Setting `patience` = 68\n",
      "[INFO] PairedSCGLUEModel: Setting `reduce_lr_patience` = 34\n",
      "[INFO] PairedSCGLUETrainer: Using training directory: \"glue/pretrain\"\n",
      "[INFO] PairedSCGLUETrainer: [Epoch 10] train={'g_nll': 0.598, 'g_kl': 0.032, 'g_elbo': 0.63, 'x_rna_nll': 0.524, 'x_rna_kl': 0.018, 'x_rna_elbo': 0.542, 'x_atac_nll': 0.563, 'x_atac_kl': 0.01, 'x_atac_elbo': 0.573, 'dsc_loss': 0.657, 'vae_loss': 1.192, 'gen_loss': 1.159, 'joint_cross_loss': 1.088, 'real_cross_loss': 1.116, 'cos_loss': 0.375}, val={'g_nll': 0.6, 'g_kl': 0.033, 'g_elbo': 0.633, 'x_rna_nll': 0.498, 'x_rna_kl': 0.016, 'x_rna_elbo': 0.513, 'x_atac_nll': 0.561, 'x_atac_kl': 0.009, 'x_atac_elbo': 0.57, 'dsc_loss': 0.669, 'vae_loss': 1.159, 'gen_loss': 1.126, 'joint_cross_loss': 1.062, 'real_cross_loss': 1.084, 'cos_loss': 0.357}, 2.6s elapsed\n",
      "[INFO] PairedSCGLUETrainer: [Epoch 20] train={'g_nll': 0.605, 'g_kl': 0.047, 'g_elbo': 0.652, 'x_rna_nll': 0.505, 'x_rna_kl': 0.01, 'x_rna_elbo': 0.515, 'x_atac_nll': 0.546, 'x_atac_kl': 0.005, 'x_atac_elbo': 0.551, 'dsc_loss': 0.674, 'vae_loss': 1.144, 'gen_loss': 1.11, 'joint_cross_loss': 1.055, 'real_cross_loss': 1.082, 'cos_loss': 0.435}, val={'g_nll': 0.599, 'g_kl': 0.047, 'g_elbo': 0.646, 'x_rna_nll': 0.481, 'x_rna_kl': 0.009, 'x_rna_elbo': 0.49, 'x_atac_nll': 0.542, 'x_atac_kl': 0.005, 'x_atac_elbo': 0.547, 'dsc_loss': 0.68, 'vae_loss': 1.114, 'gen_loss': 1.08, 'joint_cross_loss': 1.027, 'real_cross_loss': 1.051, 'cos_loss': 0.426}, 2.5s elapsed\n",
      "[INFO] PairedSCGLUETrainer: [Epoch 30] train={'g_nll': 0.563, 'g_kl': 0.053, 'g_elbo': 0.616, 'x_rna_nll': 0.495, 'x_rna_kl': 0.009, 'x_rna_elbo': 0.504, 'x_atac_nll': 0.538, 'x_atac_kl': 0.005, 'x_atac_elbo': 0.543, 'dsc_loss': 0.676, 'vae_loss': 1.123, 'gen_loss': 1.089, 'joint_cross_loss': 1.039, 'real_cross_loss': 1.069, 'cos_loss': 0.47}, val={'g_nll': 0.559, 'g_kl': 0.054, 'g_elbo': 0.613, 'x_rna_nll': 0.475, 'x_rna_kl': 0.008, 'x_rna_elbo': 0.484, 'x_atac_nll': 0.536, 'x_atac_kl': 0.004, 'x_atac_elbo': 0.541, 'dsc_loss': 0.677, 'vae_loss': 1.1, 'gen_loss': 1.066, 'joint_cross_loss': 1.018, 'real_cross_loss': 1.044, 'cos_loss': 0.479}, 3.4s elapsed\n",
      "[INFO] PairedSCGLUETrainer: [Epoch 40] train={'g_nll': 0.521, 'g_kl': 0.053, 'g_elbo': 0.574, 'x_rna_nll': 0.491, 'x_rna_kl': 0.009, 'x_rna_elbo': 0.5, 'x_atac_nll': 0.536, 'x_atac_kl': 0.004, 'x_atac_elbo': 0.541, 'dsc_loss': 0.682, 'vae_loss': 1.116, 'gen_loss': 1.082, 'joint_cross_loss': 1.034, 'real_cross_loss': 1.064, 'cos_loss': 0.488}, val={'g_nll': 0.52, 'g_kl': 0.053, 'g_elbo': 0.573, 'x_rna_nll': 0.469, 'x_rna_kl': 0.009, 'x_rna_elbo': 0.478, 'x_atac_nll': 0.534, 'x_atac_kl': 0.004, 'x_atac_elbo': 0.538, 'dsc_loss': 0.688, 'vae_loss': 1.09, 'gen_loss': 1.055, 'joint_cross_loss': 1.01, 'real_cross_loss': 1.035, 'cos_loss': 0.482}, 2.7s elapsed\n",
      "[INFO] PairedSCGLUETrainer: [Epoch 50] train={'g_nll': 0.488, 'g_kl': 0.052, 'g_elbo': 0.54, 'x_rna_nll': 0.489, 'x_rna_kl': 0.009, 'x_rna_elbo': 0.498, 'x_atac_nll': 0.536, 'x_atac_kl': 0.004, 'x_atac_elbo': 0.541, 'dsc_loss': 0.686, 'vae_loss': 1.112, 'gen_loss': 1.078, 'joint_cross_loss': 1.033, 'real_cross_loss': 1.065, 'cos_loss': 0.492}, val={'g_nll': 0.486, 'g_kl': 0.052, 'g_elbo': 0.538, 'x_rna_nll': 0.471, 'x_rna_kl': 0.009, 'x_rna_elbo': 0.48, 'x_atac_nll': 0.54, 'x_atac_kl': 0.004, 'x_atac_elbo': 0.544, 'dsc_loss': 0.686, 'vae_loss': 1.096, 'gen_loss': 1.062, 'joint_cross_loss': 1.017, 'real_cross_loss': 1.044, 'cos_loss': 0.49}, 2.7s elapsed\n",
      "[INFO] PairedSCGLUETrainer: [Epoch 60] train={'g_nll': 0.472, 'g_kl': 0.051, 'g_elbo': 0.523, 'x_rna_nll': 0.488, 'x_rna_kl': 0.009, 'x_rna_elbo': 0.497, 'x_atac_nll': 0.533, 'x_atac_kl': 0.004, 'x_atac_elbo': 0.537, 'dsc_loss': 0.687, 'vae_loss': 1.107, 'gen_loss': 1.073, 'joint_cross_loss': 1.029, 'real_cross_loss': 1.062, 'cos_loss': 0.492}, val={'g_nll': 0.474, 'g_kl': 0.051, 'g_elbo': 0.525, 'x_rna_nll': 0.469, 'x_rna_kl': 0.009, 'x_rna_elbo': 0.479, 'x_atac_nll': 0.534, 'x_atac_kl': 0.004, 'x_atac_elbo': 0.538, 'dsc_loss': 0.686, 'vae_loss': 1.088, 'gen_loss': 1.054, 'joint_cross_loss': 1.01, 'real_cross_loss': 1.039, 'cos_loss': 0.492}, 28.5s elapsed\n",
      "[INFO] PairedSCGLUETrainer: [Epoch 70] train={'g_nll': 0.461, 'g_kl': 0.049, 'g_elbo': 0.511, 'x_rna_nll': 0.488, 'x_rna_kl': 0.009, 'x_rna_elbo': 0.497, 'x_atac_nll': 0.535, 'x_atac_kl': 0.004, 'x_atac_elbo': 0.539, 'dsc_loss': 0.688, 'vae_loss': 1.109, 'gen_loss': 1.074, 'joint_cross_loss': 1.031, 'real_cross_loss': 1.065, 'cos_loss': 0.492}, val={'g_nll': 0.463, 'g_kl': 0.05, 'g_elbo': 0.513, 'x_rna_nll': 0.468, 'x_rna_kl': 0.009, 'x_rna_elbo': 0.477, 'x_atac_nll': 0.539, 'x_atac_kl': 0.004, 'x_atac_elbo': 0.542, 'dsc_loss': 0.698, 'vae_loss': 1.091, 'gen_loss': 1.056, 'joint_cross_loss': 1.014, 'real_cross_loss': 1.045, 'cos_loss': 0.495}, 2.7s elapsed\n",
      "[INFO] PairedSCGLUETrainer: [Epoch 80] train={'g_nll': 0.457, 'g_kl': 0.049, 'g_elbo': 0.505, 'x_rna_nll': 0.487, 'x_rna_kl': 0.009, 'x_rna_elbo': 0.496, 'x_atac_nll': 0.535, 'x_atac_kl': 0.004, 'x_atac_elbo': 0.538, 'dsc_loss': 0.688, 'vae_loss': 1.107, 'gen_loss': 1.072, 'joint_cross_loss': 1.03, 'real_cross_loss': 1.065, 'cos_loss': 0.491}, val={'g_nll': 0.458, 'g_kl': 0.048, 'g_elbo': 0.507, 'x_rna_nll': 0.467, 'x_rna_kl': 0.009, 'x_rna_elbo': 0.476, 'x_atac_nll': 0.534, 'x_atac_kl': 0.004, 'x_atac_elbo': 0.538, 'dsc_loss': 0.69, 'vae_loss': 1.085, 'gen_loss': 1.05, 'joint_cross_loss': 1.009, 'real_cross_loss': 1.039, 'cos_loss': 0.486}, 2.7s elapsed\n",
      "[INFO] PairedSCGLUETrainer: [Epoch 90] train={'g_nll': 0.453, 'g_kl': 0.048, 'g_elbo': 0.5, 'x_rna_nll': 0.486, 'x_rna_kl': 0.009, 'x_rna_elbo': 0.495, 'x_atac_nll': 0.535, 'x_atac_kl': 0.004, 'x_atac_elbo': 0.539, 'dsc_loss': 0.689, 'vae_loss': 1.106, 'gen_loss': 1.071, 'joint_cross_loss': 1.029, 'real_cross_loss': 1.065, 'cos_loss': 0.492}, val={'g_nll': 0.454, 'g_kl': 0.048, 'g_elbo': 0.501, 'x_rna_nll': 0.467, 'x_rna_kl': 0.009, 'x_rna_elbo': 0.476, 'x_atac_nll': 0.532, 'x_atac_kl': 0.004, 'x_atac_elbo': 0.536, 'dsc_loss': 0.69, 'vae_loss': 1.083, 'gen_loss': 1.048, 'joint_cross_loss': 1.007, 'real_cross_loss': 1.039, 'cos_loss': 0.496}, 2.7s elapsed\n",
      "[INFO] PairedSCGLUETrainer: [Epoch 100] train={'g_nll': 0.448, 'g_kl': 0.047, 'g_elbo': 0.495, 'x_rna_nll': 0.485, 'x_rna_kl': 0.009, 'x_rna_elbo': 0.495, 'x_atac_nll': 0.535, 'x_atac_kl': 0.004, 'x_atac_elbo': 0.539, 'dsc_loss': 0.69, 'vae_loss': 1.105, 'gen_loss': 1.07, 'joint_cross_loss': 1.029, 'real_cross_loss': 1.065, 'cos_loss': 0.486}, val={'g_nll': 0.444, 'g_kl': 0.047, 'g_elbo': 0.491, 'x_rna_nll': 0.467, 'x_rna_kl': 0.009, 'x_rna_elbo': 0.476, 'x_atac_nll': 0.538, 'x_atac_kl': 0.004, 'x_atac_elbo': 0.542, 'dsc_loss': 0.694, 'vae_loss': 1.089, 'gen_loss': 1.054, 'joint_cross_loss': 1.014, 'real_cross_loss': 1.047, 'cos_loss': 0.493}, 30.0s elapsed\n",
      "[INFO] PairedSCGLUETrainer: [Epoch 110] train={'g_nll': 0.443, 'g_kl': 0.046, 'g_elbo': 0.489, 'x_rna_nll': 0.486, 'x_rna_kl': 0.009, 'x_rna_elbo': 0.495, 'x_atac_nll': 0.535, 'x_atac_kl': 0.004, 'x_atac_elbo': 0.539, 'dsc_loss': 0.69, 'vae_loss': 1.105, 'gen_loss': 1.071, 'joint_cross_loss': 1.03, 'real_cross_loss': 1.066, 'cos_loss': 0.483}, val={'g_nll': 0.448, 'g_kl': 0.046, 'g_elbo': 0.494, 'x_rna_nll': 0.474, 'x_rna_kl': 0.009, 'x_rna_elbo': 0.484, 'x_atac_nll': 0.546, 'x_atac_kl': 0.003, 'x_atac_elbo': 0.55, 'dsc_loss': 0.689, 'vae_loss': 1.105, 'gen_loss': 1.07, 'joint_cross_loss': 1.028, 'real_cross_loss': 1.062, 'cos_loss': 0.486}, 2.7s elapsed\n",
      "[INFO] PairedSCGLUETrainer: [Epoch 120] train={'g_nll': 0.439, 'g_kl': 0.045, 'g_elbo': 0.484, 'x_rna_nll': 0.486, 'x_rna_kl': 0.009, 'x_rna_elbo': 0.495, 'x_atac_nll': 0.536, 'x_atac_kl': 0.003, 'x_atac_elbo': 0.54, 'dsc_loss': 0.69, 'vae_loss': 1.106, 'gen_loss': 1.071, 'joint_cross_loss': 1.031, 'real_cross_loss': 1.067, 'cos_loss': 0.483}, val={'g_nll': 0.441, 'g_kl': 0.045, 'g_elbo': 0.486, 'x_rna_nll': 0.467, 'x_rna_kl': 0.009, 'x_rna_elbo': 0.476, 'x_atac_nll': 0.535, 'x_atac_kl': 0.003, 'x_atac_elbo': 0.538, 'dsc_loss': 0.689, 'vae_loss': 1.084, 'gen_loss': 1.05, 'joint_cross_loss': 1.01, 'real_cross_loss': 1.041, 'cos_loss': 0.485}, 2.6s elapsed\n",
      "[INFO] PairedSCGLUETrainer: [Epoch 130] train={'g_nll': 0.438, 'g_kl': 0.045, 'g_elbo': 0.483, 'x_rna_nll': 0.486, 'x_rna_kl': 0.009, 'x_rna_elbo': 0.495, 'x_atac_nll': 0.536, 'x_atac_kl': 0.004, 'x_atac_elbo': 0.539, 'dsc_loss': 0.692, 'vae_loss': 1.105, 'gen_loss': 1.071, 'joint_cross_loss': 1.03, 'real_cross_loss': 1.067, 'cos_loss': 0.479}, val={'g_nll': 0.438, 'g_kl': 0.045, 'g_elbo': 0.483, 'x_rna_nll': 0.466, 'x_rna_kl': 0.009, 'x_rna_elbo': 0.475, 'x_atac_nll': 0.538, 'x_atac_kl': 0.004, 'x_atac_elbo': 0.541, 'dsc_loss': 0.692, 'vae_loss': 1.087, 'gen_loss': 1.052, 'joint_cross_loss': 1.012, 'real_cross_loss': 1.045, 'cos_loss': 0.483}, 4.8s elapsed\n",
      "[INFO] PairedSCGLUETrainer: [Epoch 140] train={'g_nll': 0.437, 'g_kl': 0.044, 'g_elbo': 0.482, 'x_rna_nll': 0.486, 'x_rna_kl': 0.009, 'x_rna_elbo': 0.495, 'x_atac_nll': 0.535, 'x_atac_kl': 0.004, 'x_atac_elbo': 0.539, 'dsc_loss': 0.69, 'vae_loss': 1.105, 'gen_loss': 1.07, 'joint_cross_loss': 1.03, 'real_cross_loss': 1.067, 'cos_loss': 0.479}, val={'g_nll': 0.436, 'g_kl': 0.044, 'g_elbo': 0.48, 'x_rna_nll': 0.467, 'x_rna_kl': 0.009, 'x_rna_elbo': 0.476, 'x_atac_nll': 0.532, 'x_atac_kl': 0.003, 'x_atac_elbo': 0.535, 'dsc_loss': 0.69, 'vae_loss': 1.081, 'gen_loss': 1.046, 'joint_cross_loss': 1.007, 'real_cross_loss': 1.04, 'cos_loss': 0.477}, 2.7s elapsed\n",
      "[INFO] PairedSCGLUETrainer: [Epoch 150] train={'g_nll': 0.435, 'g_kl': 0.044, 'g_elbo': 0.479, 'x_rna_nll': 0.484, 'x_rna_kl': 0.009, 'x_rna_elbo': 0.494, 'x_atac_nll': 0.534, 'x_atac_kl': 0.003, 'x_atac_elbo': 0.537, 'dsc_loss': 0.689, 'vae_loss': 1.102, 'gen_loss': 1.068, 'joint_cross_loss': 1.027, 'real_cross_loss': 1.064, 'cos_loss': 0.48}, val={'g_nll': 0.437, 'g_kl': 0.044, 'g_elbo': 0.481, 'x_rna_nll': 0.468, 'x_rna_kl': 0.009, 'x_rna_elbo': 0.478, 'x_atac_nll': 0.535, 'x_atac_kl': 0.003, 'x_atac_elbo': 0.538, 'dsc_loss': 0.689, 'vae_loss': 1.086, 'gen_loss': 1.051, 'joint_cross_loss': 1.012, 'real_cross_loss': 1.047, 'cos_loss': 0.478}, 28.7s elapsed\n",
      "Epoch 00157: reducing learning rate of group 0 to 2.0000e-04.\n",
      "Epoch 00157: reducing learning rate of group 0 to 2.0000e-04.\n",
      "[INFO] LRScheduler: Learning rate reduction: step 1\n",
      "[INFO] PairedSCGLUETrainer: [Epoch 160] train={'g_nll': 0.432, 'g_kl': 0.044, 'g_elbo': 0.476, 'x_rna_nll': 0.484, 'x_rna_kl': 0.009, 'x_rna_elbo': 0.493, 'x_atac_nll': 0.535, 'x_atac_kl': 0.004, 'x_atac_elbo': 0.539, 'dsc_loss': 0.69, 'vae_loss': 1.102, 'gen_loss': 1.068, 'joint_cross_loss': 1.028, 'real_cross_loss': 1.065, 'cos_loss': 0.472}, val={'g_nll': 0.433, 'g_kl': 0.044, 'g_elbo': 0.476, 'x_rna_nll': 0.464, 'x_rna_kl': 0.009, 'x_rna_elbo': 0.473, 'x_atac_nll': 0.538, 'x_atac_kl': 0.003, 'x_atac_elbo': 0.541, 'dsc_loss': 0.688, 'vae_loss': 1.085, 'gen_loss': 1.05, 'joint_cross_loss': 1.011, 'real_cross_loss': 1.046, 'cos_loss': 0.481}, 2.8s elapsed\n",
      "[INFO] PairedSCGLUETrainer: [Epoch 170] train={'g_nll': 0.432, 'g_kl': 0.044, 'g_elbo': 0.476, 'x_rna_nll': 0.483, 'x_rna_kl': 0.009, 'x_rna_elbo': 0.493, 'x_atac_nll': 0.535, 'x_atac_kl': 0.004, 'x_atac_elbo': 0.539, 'dsc_loss': 0.69, 'vae_loss': 1.102, 'gen_loss': 1.067, 'joint_cross_loss': 1.027, 'real_cross_loss': 1.063, 'cos_loss': 0.471}, val={'g_nll': 0.434, 'g_kl': 0.044, 'g_elbo': 0.478, 'x_rna_nll': 0.47, 'x_rna_kl': 0.009, 'x_rna_elbo': 0.479, 'x_atac_nll': 0.537, 'x_atac_kl': 0.003, 'x_atac_elbo': 0.54, 'dsc_loss': 0.685, 'vae_loss': 1.09, 'gen_loss': 1.056, 'joint_cross_loss': 1.016, 'real_cross_loss': 1.053, 'cos_loss': 0.477}, 2.8s elapsed\n",
      "[INFO] PairedSCGLUETrainer: [Epoch 180] train={'g_nll': 0.431, 'g_kl': 0.044, 'g_elbo': 0.475, 'x_rna_nll': 0.483, 'x_rna_kl': 0.009, 'x_rna_elbo': 0.493, 'x_atac_nll': 0.536, 'x_atac_kl': 0.004, 'x_atac_elbo': 0.539, 'dsc_loss': 0.69, 'vae_loss': 1.102, 'gen_loss': 1.068, 'joint_cross_loss': 1.028, 'real_cross_loss': 1.066, 'cos_loss': 0.476}, val={'g_nll': 0.431, 'g_kl': 0.044, 'g_elbo': 0.474, 'x_rna_nll': 0.477, 'x_rna_kl': 0.009, 'x_rna_elbo': 0.486, 'x_atac_nll': 0.543, 'x_atac_kl': 0.003, 'x_atac_elbo': 0.546, 'dsc_loss': 0.693, 'vae_loss': 1.103, 'gen_loss': 1.068, 'joint_cross_loss': 1.029, 'real_cross_loss': 1.062, 'cos_loss': 0.476}, 40.0s elapsed\n",
      "[INFO] PairedSCGLUETrainer: [Epoch 190] train={'g_nll': 0.432, 'g_kl': 0.044, 'g_elbo': 0.475, 'x_rna_nll': 0.483, 'x_rna_kl': 0.009, 'x_rna_elbo': 0.492, 'x_atac_nll': 0.533, 'x_atac_kl': 0.004, 'x_atac_elbo': 0.537, 'dsc_loss': 0.688, 'vae_loss': 1.099, 'gen_loss': 1.065, 'joint_cross_loss': 1.025, 'real_cross_loss': 1.062, 'cos_loss': 0.473}, val={'g_nll': 0.428, 'g_kl': 0.044, 'g_elbo': 0.472, 'x_rna_nll': 0.464, 'x_rna_kl': 0.009, 'x_rna_elbo': 0.473, 'x_atac_nll': 0.535, 'x_atac_kl': 0.003, 'x_atac_elbo': 0.539, 'dsc_loss': 0.685, 'vae_loss': 1.081, 'gen_loss': 1.047, 'joint_cross_loss': 1.007, 'real_cross_loss': 1.04, 'cos_loss': 0.472}, 2.8s elapsed\n",
      "Epoch 00192: reducing learning rate of group 0 to 2.0000e-05.\n",
      "Epoch 00192: reducing learning rate of group 0 to 2.0000e-05.\n",
      "[INFO] LRScheduler: Learning rate reduction: step 2\n",
      "[INFO] PairedSCGLUETrainer: [Epoch 200] train={'g_nll': 0.431, 'g_kl': 0.044, 'g_elbo': 0.474, 'x_rna_nll': 0.483, 'x_rna_kl': 0.009, 'x_rna_elbo': 0.493, 'x_atac_nll': 0.535, 'x_atac_kl': 0.004, 'x_atac_elbo': 0.539, 'dsc_loss': 0.689, 'vae_loss': 1.102, 'gen_loss': 1.068, 'joint_cross_loss': 1.028, 'real_cross_loss': 1.065, 'cos_loss': 0.474}, val={'g_nll': 0.433, 'g_kl': 0.044, 'g_elbo': 0.476, 'x_rna_nll': 0.47, 'x_rna_kl': 0.009, 'x_rna_elbo': 0.479, 'x_atac_nll': 0.54, 'x_atac_kl': 0.003, 'x_atac_elbo': 0.544, 'dsc_loss': 0.689, 'vae_loss': 1.093, 'gen_loss': 1.059, 'joint_cross_loss': 1.02, 'real_cross_loss': 1.054, 'cos_loss': 0.482}, 39.5s elapsed\n",
      "[INFO] PairedSCGLUETrainer: [Epoch 210] train={'g_nll': 0.433, 'g_kl': 0.044, 'g_elbo': 0.476, 'x_rna_nll': 0.482, 'x_rna_kl': 0.009, 'x_rna_elbo': 0.492, 'x_atac_nll': 0.535, 'x_atac_kl': 0.004, 'x_atac_elbo': 0.539, 'dsc_loss': 0.689, 'vae_loss': 1.1, 'gen_loss': 1.066, 'joint_cross_loss': 1.026, 'real_cross_loss': 1.063, 'cos_loss': 0.473}, val={'g_nll': 0.435, 'g_kl': 0.044, 'g_elbo': 0.478, 'x_rna_nll': 0.468, 'x_rna_kl': 0.009, 'x_rna_elbo': 0.477, 'x_atac_nll': 0.537, 'x_atac_kl': 0.003, 'x_atac_elbo': 0.54, 'dsc_loss': 0.688, 'vae_loss': 1.087, 'gen_loss': 1.053, 'joint_cross_loss': 1.013, 'real_cross_loss': 1.047, 'cos_loss': 0.475}, 47.9s elapsed\n",
      "[INFO] PairedSCGLUETrainer: [Epoch 220] train={'g_nll': 0.43, 'g_kl': 0.044, 'g_elbo': 0.474, 'x_rna_nll': 0.483, 'x_rna_kl': 0.009, 'x_rna_elbo': 0.493, 'x_atac_nll': 0.535, 'x_atac_kl': 0.004, 'x_atac_elbo': 0.538, 'dsc_loss': 0.691, 'vae_loss': 1.101, 'gen_loss': 1.067, 'joint_cross_loss': 1.027, 'real_cross_loss': 1.064, 'cos_loss': 0.473}, val={'g_nll': 0.429, 'g_kl': 0.044, 'g_elbo': 0.472, 'x_rna_nll': 0.465, 'x_rna_kl': 0.009, 'x_rna_elbo': 0.475, 'x_atac_nll': 0.539, 'x_atac_kl': 0.003, 'x_atac_elbo': 0.542, 'dsc_loss': 0.689, 'vae_loss': 1.086, 'gen_loss': 1.052, 'joint_cross_loss': 1.013, 'real_cross_loss': 1.047, 'cos_loss': 0.471}, 3.3s elapsed\n",
      "Epoch 00227: reducing learning rate of group 0 to 2.0000e-06.\n",
      "Epoch 00227: reducing learning rate of group 0 to 2.0000e-06.\n",
      "[INFO] LRScheduler: Learning rate reduction: step 3\n",
      "[INFO] PairedSCGLUETrainer: [Epoch 230] train={'g_nll': 0.431, 'g_kl': 0.044, 'g_elbo': 0.474, 'x_rna_nll': 0.483, 'x_rna_kl': 0.009, 'x_rna_elbo': 0.493, 'x_atac_nll': 0.535, 'x_atac_kl': 0.004, 'x_atac_elbo': 0.539, 'dsc_loss': 0.689, 'vae_loss': 1.102, 'gen_loss': 1.067, 'joint_cross_loss': 1.028, 'real_cross_loss': 1.065, 'cos_loss': 0.473}, val={'g_nll': 0.434, 'g_kl': 0.044, 'g_elbo': 0.477, 'x_rna_nll': 0.465, 'x_rna_kl': 0.009, 'x_rna_elbo': 0.474, 'x_atac_nll': 0.534, 'x_atac_kl': 0.003, 'x_atac_elbo': 0.537, 'dsc_loss': 0.685, 'vae_loss': 1.081, 'gen_loss': 1.047, 'joint_cross_loss': 1.008, 'real_cross_loss': 1.042, 'cos_loss': 0.475}, 2.9s elapsed\n",
      "[INFO] PairedSCGLUETrainer: [Epoch 240] train={'g_nll': 0.433, 'g_kl': 0.044, 'g_elbo': 0.476, 'x_rna_nll': 0.484, 'x_rna_kl': 0.009, 'x_rna_elbo': 0.493, 'x_atac_nll': 0.535, 'x_atac_kl': 0.004, 'x_atac_elbo': 0.538, 'dsc_loss': 0.69, 'vae_loss': 1.102, 'gen_loss': 1.068, 'joint_cross_loss': 1.028, 'real_cross_loss': 1.065, 'cos_loss': 0.474}, val={'g_nll': 0.429, 'g_kl': 0.044, 'g_elbo': 0.472, 'x_rna_nll': 0.47, 'x_rna_kl': 0.009, 'x_rna_elbo': 0.48, 'x_atac_nll': 0.547, 'x_atac_kl': 0.003, 'x_atac_elbo': 0.55, 'dsc_loss': 0.685, 'vae_loss': 1.1, 'gen_loss': 1.066, 'joint_cross_loss': 1.026, 'real_cross_loss': 1.062, 'cos_loss': 0.48}, 20.6s elapsed\n",
      "[INFO] PairedSCGLUETrainer: [Epoch 250] train={'g_nll': 0.434, 'g_kl': 0.044, 'g_elbo': 0.477, 'x_rna_nll': 0.483, 'x_rna_kl': 0.009, 'x_rna_elbo': 0.492, 'x_atac_nll': 0.535, 'x_atac_kl': 0.004, 'x_atac_elbo': 0.539, 'dsc_loss': 0.689, 'vae_loss': 1.101, 'gen_loss': 1.067, 'joint_cross_loss': 1.027, 'real_cross_loss': 1.063, 'cos_loss': 0.471}, val={'g_nll': 0.429, 'g_kl': 0.044, 'g_elbo': 0.473, 'x_rna_nll': 0.467, 'x_rna_kl': 0.009, 'x_rna_elbo': 0.476, 'x_atac_nll': 0.53, 'x_atac_kl': 0.003, 'x_atac_elbo': 0.534, 'dsc_loss': 0.686, 'vae_loss': 1.08, 'gen_loss': 1.045, 'joint_cross_loss': 1.007, 'real_cross_loss': 1.042, 'cos_loss': 0.483}, 11.1s elapsed\n",
      "[INFO] PairedSCGLUETrainer: [Epoch 260] train={'g_nll': 0.43, 'g_kl': 0.044, 'g_elbo': 0.474, 'x_rna_nll': 0.483, 'x_rna_kl': 0.009, 'x_rna_elbo': 0.492, 'x_atac_nll': 0.536, 'x_atac_kl': 0.004, 'x_atac_elbo': 0.54, 'dsc_loss': 0.688, 'vae_loss': 1.102, 'gen_loss': 1.068, 'joint_cross_loss': 1.029, 'real_cross_loss': 1.066, 'cos_loss': 0.471}, val={'g_nll': 0.428, 'g_kl': 0.044, 'g_elbo': 0.472, 'x_rna_nll': 0.465, 'x_rna_kl': 0.009, 'x_rna_elbo': 0.474, 'x_atac_nll': 0.533, 'x_atac_kl': 0.003, 'x_atac_elbo': 0.536, 'dsc_loss': 0.692, 'vae_loss': 1.08, 'gen_loss': 1.045, 'joint_cross_loss': 1.007, 'real_cross_loss': 1.042, 'cos_loss': 0.478}, 16.7s elapsed\n",
      "[INFO] PairedSCGLUETrainer: [Epoch 270] train={'g_nll': 0.431, 'g_kl': 0.044, 'g_elbo': 0.475, 'x_rna_nll': 0.483, 'x_rna_kl': 0.009, 'x_rna_elbo': 0.492, 'x_atac_nll': 0.536, 'x_atac_kl': 0.004, 'x_atac_elbo': 0.539, 'dsc_loss': 0.689, 'vae_loss': 1.102, 'gen_loss': 1.067, 'joint_cross_loss': 1.028, 'real_cross_loss': 1.064, 'cos_loss': 0.471}, val={'g_nll': 0.432, 'g_kl': 0.044, 'g_elbo': 0.476, 'x_rna_nll': 0.469, 'x_rna_kl': 0.009, 'x_rna_elbo': 0.478, 'x_atac_nll': 0.532, 'x_atac_kl': 0.003, 'x_atac_elbo': 0.535, 'dsc_loss': 0.684, 'vae_loss': 1.083, 'gen_loss': 1.049, 'joint_cross_loss': 1.01, 'real_cross_loss': 1.045, 'cos_loss': 0.482}, 8.9s elapsed\n",
      "[INFO] PairedSCGLUETrainer: [Epoch 280] train={'g_nll': 0.431, 'g_kl': 0.044, 'g_elbo': 0.475, 'x_rna_nll': 0.483, 'x_rna_kl': 0.009, 'x_rna_elbo': 0.492, 'x_atac_nll': 0.536, 'x_atac_kl': 0.004, 'x_atac_elbo': 0.539, 'dsc_loss': 0.69, 'vae_loss': 1.102, 'gen_loss': 1.068, 'joint_cross_loss': 1.028, 'real_cross_loss': 1.065, 'cos_loss': 0.473}, val={'g_nll': 0.434, 'g_kl': 0.044, 'g_elbo': 0.477, 'x_rna_nll': 0.468, 'x_rna_kl': 0.009, 'x_rna_elbo': 0.477, 'x_atac_nll': 0.536, 'x_atac_kl': 0.003, 'x_atac_elbo': 0.539, 'dsc_loss': 0.684, 'vae_loss': 1.086, 'gen_loss': 1.052, 'joint_cross_loss': 1.012, 'real_cross_loss': 1.046, 'cos_loss': 0.484}, 2.7s elapsed\n",
      "[INFO] PairedSCGLUETrainer: [Epoch 290] train={'g_nll': 0.43, 'g_kl': 0.044, 'g_elbo': 0.473, 'x_rna_nll': 0.483, 'x_rna_kl': 0.009, 'x_rna_elbo': 0.493, 'x_atac_nll': 0.535, 'x_atac_kl': 0.004, 'x_atac_elbo': 0.539, 'dsc_loss': 0.691, 'vae_loss': 1.102, 'gen_loss': 1.067, 'joint_cross_loss': 1.028, 'real_cross_loss': 1.065, 'cos_loss': 0.475}, val={'g_nll': 0.433, 'g_kl': 0.044, 'g_elbo': 0.477, 'x_rna_nll': 0.466, 'x_rna_kl': 0.009, 'x_rna_elbo': 0.475, 'x_atac_nll': 0.531, 'x_atac_kl': 0.003, 'x_atac_elbo': 0.535, 'dsc_loss': 0.686, 'vae_loss': 1.08, 'gen_loss': 1.045, 'joint_cross_loss': 1.007, 'real_cross_loss': 1.042, 'cos_loss': 0.474}, 14.2s elapsed\n",
      "[INFO] PairedSCGLUETrainer: [Epoch 300] train={'g_nll': 0.429, 'g_kl': 0.044, 'g_elbo': 0.473, 'x_rna_nll': 0.483, 'x_rna_kl': 0.009, 'x_rna_elbo': 0.492, 'x_atac_nll': 0.536, 'x_atac_kl': 0.004, 'x_atac_elbo': 0.539, 'dsc_loss': 0.688, 'vae_loss': 1.102, 'gen_loss': 1.067, 'joint_cross_loss': 1.028, 'real_cross_loss': 1.065, 'cos_loss': 0.473}, val={'g_nll': 0.427, 'g_kl': 0.044, 'g_elbo': 0.471, 'x_rna_nll': 0.469, 'x_rna_kl': 0.009, 'x_rna_elbo': 0.478, 'x_atac_nll': 0.536, 'x_atac_kl': 0.003, 'x_atac_elbo': 0.54, 'dsc_loss': 0.683, 'vae_loss': 1.087, 'gen_loss': 1.053, 'joint_cross_loss': 1.014, 'real_cross_loss': 1.049, 'cos_loss': 0.476}, 2.7s elapsed\n",
      "[INFO] PairedSCGLUETrainer: [Epoch 310] train={'g_nll': 0.431, 'g_kl': 0.044, 'g_elbo': 0.475, 'x_rna_nll': 0.482, 'x_rna_kl': 0.009, 'x_rna_elbo': 0.492, 'x_atac_nll': 0.535, 'x_atac_kl': 0.004, 'x_atac_elbo': 0.539, 'dsc_loss': 0.689, 'vae_loss': 1.101, 'gen_loss': 1.066, 'joint_cross_loss': 1.027, 'real_cross_loss': 1.064, 'cos_loss': 0.47}, val={'g_nll': 0.431, 'g_kl': 0.044, 'g_elbo': 0.475, 'x_rna_nll': 0.47, 'x_rna_kl': 0.009, 'x_rna_elbo': 0.479, 'x_atac_nll': 0.533, 'x_atac_kl': 0.003, 'x_atac_elbo': 0.536, 'dsc_loss': 0.687, 'vae_loss': 1.085, 'gen_loss': 1.051, 'joint_cross_loss': 1.012, 'real_cross_loss': 1.048, 'cos_loss': 0.477}, 2.6s elapsed\n",
      "[INFO] PairedSCGLUETrainer: [Epoch 320] train={'g_nll': 0.431, 'g_kl': 0.044, 'g_elbo': 0.474, 'x_rna_nll': 0.482, 'x_rna_kl': 0.009, 'x_rna_elbo': 0.491, 'x_atac_nll': 0.534, 'x_atac_kl': 0.004, 'x_atac_elbo': 0.537, 'dsc_loss': 0.691, 'vae_loss': 1.099, 'gen_loss': 1.064, 'joint_cross_loss': 1.025, 'real_cross_loss': 1.062, 'cos_loss': 0.472}, val={'g_nll': 0.429, 'g_kl': 0.044, 'g_elbo': 0.472, 'x_rna_nll': 0.467, 'x_rna_kl': 0.009, 'x_rna_elbo': 0.477, 'x_atac_nll': 0.534, 'x_atac_kl': 0.003, 'x_atac_elbo': 0.538, 'dsc_loss': 0.685, 'vae_loss': 1.084, 'gen_loss': 1.05, 'joint_cross_loss': 1.011, 'real_cross_loss': 1.048, 'cos_loss': 0.476}, 5.8s elapsed\n",
      "Epoch 00326: reducing learning rate of group 0 to 2.0000e-07.\n",
      "Epoch 00326: reducing learning rate of group 0 to 2.0000e-07.\n",
      "[INFO] LRScheduler: Learning rate reduction: step 4\n",
      "[INFO] PairedSCGLUETrainer: [Epoch 330] train={'g_nll': 0.432, 'g_kl': 0.044, 'g_elbo': 0.475, 'x_rna_nll': 0.483, 'x_rna_kl': 0.009, 'x_rna_elbo': 0.492, 'x_atac_nll': 0.535, 'x_atac_kl': 0.004, 'x_atac_elbo': 0.539, 'dsc_loss': 0.69, 'vae_loss': 1.102, 'gen_loss': 1.067, 'joint_cross_loss': 1.028, 'real_cross_loss': 1.065, 'cos_loss': 0.472}, val={'g_nll': 0.429, 'g_kl': 0.044, 'g_elbo': 0.472, 'x_rna_nll': 0.467, 'x_rna_kl': 0.009, 'x_rna_elbo': 0.476, 'x_atac_nll': 0.532, 'x_atac_kl': 0.003, 'x_atac_elbo': 0.535, 'dsc_loss': 0.685, 'vae_loss': 1.081, 'gen_loss': 1.047, 'joint_cross_loss': 1.008, 'real_cross_loss': 1.043, 'cos_loss': 0.486}, 3.6s elapsed\n",
      "[INFO] PairedSCGLUETrainer: [Epoch 340] train={'g_nll': 0.43, 'g_kl': 0.044, 'g_elbo': 0.474, 'x_rna_nll': 0.483, 'x_rna_kl': 0.009, 'x_rna_elbo': 0.492, 'x_atac_nll': 0.535, 'x_atac_kl': 0.004, 'x_atac_elbo': 0.539, 'dsc_loss': 0.688, 'vae_loss': 1.101, 'gen_loss': 1.066, 'joint_cross_loss': 1.027, 'real_cross_loss': 1.064, 'cos_loss': 0.473}, val={'g_nll': 0.431, 'g_kl': 0.044, 'g_elbo': 0.475, 'x_rna_nll': 0.467, 'x_rna_kl': 0.009, 'x_rna_elbo': 0.476, 'x_atac_nll': 0.534, 'x_atac_kl': 0.003, 'x_atac_elbo': 0.537, 'dsc_loss': 0.69, 'vae_loss': 1.083, 'gen_loss': 1.049, 'joint_cross_loss': 1.01, 'real_cross_loss': 1.045, 'cos_loss': 0.477}, 2.7s elapsed\n",
      "[INFO] PairedSCGLUETrainer: [Epoch 350] train={'g_nll': 0.432, 'g_kl': 0.044, 'g_elbo': 0.475, 'x_rna_nll': 0.483, 'x_rna_kl': 0.009, 'x_rna_elbo': 0.492, 'x_atac_nll': 0.535, 'x_atac_kl': 0.004, 'x_atac_elbo': 0.539, 'dsc_loss': 0.689, 'vae_loss': 1.101, 'gen_loss': 1.066, 'joint_cross_loss': 1.027, 'real_cross_loss': 1.063, 'cos_loss': 0.471}, val={'g_nll': 0.426, 'g_kl': 0.044, 'g_elbo': 0.47, 'x_rna_nll': 0.464, 'x_rna_kl': 0.009, 'x_rna_elbo': 0.473, 'x_atac_nll': 0.531, 'x_atac_kl': 0.003, 'x_atac_elbo': 0.535, 'dsc_loss': 0.683, 'vae_loss': 1.077, 'gen_loss': 1.043, 'joint_cross_loss': 1.005, 'real_cross_loss': 1.041, 'cos_loss': 0.476}, 2.6s elapsed\n"
     ]
    },
    {
     "name": "stderr",
     "output_type": "stream",
     "text": [
      "2023-05-05 18:19:23,264 ignite.handlers.early_stopping.EarlyStopping INFO: EarlyStopping: Stop training\n"
     ]
    },
    {
     "name": "stdout",
     "output_type": "stream",
     "text": [
      "[INFO] EarlyStopping: Restoring checkpoint \"338\"...\n",
      "[INFO] EarlyStopping: Restoring checkpoint \"338\"...\n"
     ]
    },
    {
     "name": "stderr",
     "output_type": "stream",
     "text": [
      "/dss/dsshome1/01/di93bur/miniconda3/envs/scglue_env_2/lib/python3.9/multiprocessing/popen_fork.py:66: ResourceWarning: unclosed socket <zmq.Socket(zmq.PUSH) at 0x7f3dd8395b20>\n",
      "  self.pid = os.fork()\n",
      "ResourceWarning: Enable tracemalloc to get the object allocation traceback\n"
     ]
    },
    {
     "name": "stdout",
     "output_type": "stream",
     "text": [
      "[INFO] fit_SCGLUE: Estimating balancing weight...\n",
      "[INFO] estimate_balancing_weight: Clustering cells...\n",
      "[INFO] estimate_balancing_weight: Matching clusters...\n",
      "[INFO] estimate_balancing_weight: Matching array shape = (19, 16)...\n",
      "[INFO] estimate_balancing_weight: Estimating balancing weight...\n",
      "[INFO] fit_SCGLUE: Fine-tuning SCGLUE model...\n"
     ]
    },
    {
     "name": "stderr",
     "output_type": "stream",
     "text": [
      "/dss/dsshome1/01/di93bur/miniconda3/envs/scglue_env_2/lib/python3.9/site-packages/anndata/_core/anndata.py:117: ImplicitModificationWarning: Transforming to str index.\n",
      "  warnings.warn(\"Transforming to str index.\", ImplicitModificationWarning)\n",
      "/dss/dsshome1/01/di93bur/miniconda3/envs/scglue_env_2/lib/python3.9/site-packages/anndata/_core/anndata.py:117: ImplicitModificationWarning: Transforming to str index.\n",
      "  warnings.warn(\"Transforming to str index.\", ImplicitModificationWarning)\n",
      "[WARNING] PairedSCGLUEModel: It is recommended that `use_rep` dimensionality be equal or larger than `latent_dim`.\n"
     ]
    },
    {
     "name": "stdout",
     "output_type": "stream",
     "text": [
      "[INFO] check_graph: Checking variable coverage...\n",
      "[INFO] check_graph: Checking edge attributes...\n",
      "[INFO] check_graph: Checking self-loops...\n",
      "[INFO] check_graph: Checking graph symmetry...\n",
      "[INFO] PairedSCGLUEModel: Setting `graph_batch_size` = 2677\n",
      "[INFO] PairedSCGLUEModel: Setting `align_burnin` = 135\n",
      "[INFO] PairedSCGLUEModel: Setting `max_epochs` = 809\n",
      "[INFO] PairedSCGLUEModel: Setting `patience` = 68\n",
      "[INFO] PairedSCGLUEModel: Setting `reduce_lr_patience` = 34\n",
      "[INFO] PairedSCGLUETrainer: Using training directory: \"glue/fine-tune\"\n",
      "[INFO] PairedSCGLUETrainer: [Epoch 10] train={'g_nll': 0.431, 'g_kl': 0.043, 'g_elbo': 0.474, 'x_rna_nll': 0.483, 'x_rna_kl': 0.009, 'x_rna_elbo': 0.493, 'x_atac_nll': 0.537, 'x_atac_kl': 0.003, 'x_atac_elbo': 0.541, 'dsc_loss': 0.693, 'vae_loss': 1.104, 'gen_loss': 1.069, 'joint_cross_loss': 1.03, 'real_cross_loss': 1.068, 'cos_loss': 0.474}, val={'g_nll': 0.434, 'g_kl': 0.043, 'g_elbo': 0.477, 'x_rna_nll': 0.482, 'x_rna_kl': 0.009, 'x_rna_elbo': 0.492, 'x_atac_nll': 0.523, 'x_atac_kl': 0.003, 'x_atac_elbo': 0.526, 'dsc_loss': 0.676, 'vae_loss': 1.088, 'gen_loss': 1.054, 'joint_cross_loss': 1.015, 'real_cross_loss': 1.052, 'cos_loss': 0.477}, 2.7s elapsed\n",
      "[INFO] PairedSCGLUETrainer: [Epoch 20] train={'g_nll': 0.43, 'g_kl': 0.043, 'g_elbo': 0.473, 'x_rna_nll': 0.483, 'x_rna_kl': 0.009, 'x_rna_elbo': 0.493, 'x_atac_nll': 0.537, 'x_atac_kl': 0.004, 'x_atac_elbo': 0.54, 'dsc_loss': 0.691, 'vae_loss': 1.104, 'gen_loss': 1.069, 'joint_cross_loss': 1.03, 'real_cross_loss': 1.068, 'cos_loss': 0.477}, val={'g_nll': 0.425, 'g_kl': 0.043, 'g_elbo': 0.468, 'x_rna_nll': 0.483, 'x_rna_kl': 0.009, 'x_rna_elbo': 0.493, 'x_atac_nll': 0.525, 'x_atac_kl': 0.003, 'x_atac_elbo': 0.528, 'dsc_loss': 0.669, 'vae_loss': 1.091, 'gen_loss': 1.057, 'joint_cross_loss': 1.018, 'real_cross_loss': 1.054, 'cos_loss': 0.469}, 2.6s elapsed\n",
      "[INFO] PairedSCGLUETrainer: [Epoch 30] train={'g_nll': 0.429, 'g_kl': 0.042, 'g_elbo': 0.471, 'x_rna_nll': 0.483, 'x_rna_kl': 0.009, 'x_rna_elbo': 0.492, 'x_atac_nll': 0.537, 'x_atac_kl': 0.004, 'x_atac_elbo': 0.541, 'dsc_loss': 0.694, 'vae_loss': 1.103, 'gen_loss': 1.068, 'joint_cross_loss': 1.029, 'real_cross_loss': 1.067, 'cos_loss': 0.473}, val={'g_nll': 0.428, 'g_kl': 0.042, 'g_elbo': 0.47, 'x_rna_nll': 0.478, 'x_rna_kl': 0.009, 'x_rna_elbo': 0.487, 'x_atac_nll': 0.519, 'x_atac_kl': 0.003, 'x_atac_elbo': 0.523, 'dsc_loss': 0.665, 'vae_loss': 1.079, 'gen_loss': 1.046, 'joint_cross_loss': 1.008, 'real_cross_loss': 1.045, 'cos_loss': 0.482}, 2.7s elapsed\n",
      "[INFO] PairedSCGLUETrainer: [Epoch 40] train={'g_nll': 0.427, 'g_kl': 0.042, 'g_elbo': 0.469, 'x_rna_nll': 0.483, 'x_rna_kl': 0.009, 'x_rna_elbo': 0.493, 'x_atac_nll': 0.537, 'x_atac_kl': 0.004, 'x_atac_elbo': 0.54, 'dsc_loss': 0.693, 'vae_loss': 1.103, 'gen_loss': 1.068, 'joint_cross_loss': 1.029, 'real_cross_loss': 1.067, 'cos_loss': 0.477}, val={'g_nll': 0.424, 'g_kl': 0.042, 'g_elbo': 0.466, 'x_rna_nll': 0.478, 'x_rna_kl': 0.009, 'x_rna_elbo': 0.487, 'x_atac_nll': 0.517, 'x_atac_kl': 0.003, 'x_atac_elbo': 0.521, 'dsc_loss': 0.673, 'vae_loss': 1.077, 'gen_loss': 1.043, 'joint_cross_loss': 1.005, 'real_cross_loss': 1.04, 'cos_loss': 0.482}, 2.5s elapsed\n",
      "[INFO] PairedSCGLUETrainer: [Epoch 50] train={'g_nll': 0.426, 'g_kl': 0.042, 'g_elbo': 0.467, 'x_rna_nll': 0.482, 'x_rna_kl': 0.009, 'x_rna_elbo': 0.491, 'x_atac_nll': 0.536, 'x_atac_kl': 0.004, 'x_atac_elbo': 0.54, 'dsc_loss': 0.694, 'vae_loss': 1.101, 'gen_loss': 1.067, 'joint_cross_loss': 1.028, 'real_cross_loss': 1.066, 'cos_loss': 0.475}, val={'g_nll': 0.43, 'g_kl': 0.042, 'g_elbo': 0.472, 'x_rna_nll': 0.483, 'x_rna_kl': 0.009, 'x_rna_elbo': 0.493, 'x_atac_nll': 0.523, 'x_atac_kl': 0.003, 'x_atac_elbo': 0.526, 'dsc_loss': 0.663, 'vae_loss': 1.088, 'gen_loss': 1.055, 'joint_cross_loss': 1.015, 'real_cross_loss': 1.053, 'cos_loss': 0.474}, 2.6s elapsed\n",
      "[INFO] PairedSCGLUETrainer: [Epoch 60] train={'g_nll': 0.426, 'g_kl': 0.041, 'g_elbo': 0.468, 'x_rna_nll': 0.483, 'x_rna_kl': 0.009, 'x_rna_elbo': 0.492, 'x_atac_nll': 0.536, 'x_atac_kl': 0.004, 'x_atac_elbo': 0.54, 'dsc_loss': 0.692, 'vae_loss': 1.102, 'gen_loss': 1.067, 'joint_cross_loss': 1.029, 'real_cross_loss': 1.067, 'cos_loss': 0.469}, val={'g_nll': 0.424, 'g_kl': 0.041, 'g_elbo': 0.466, 'x_rna_nll': 0.478, 'x_rna_kl': 0.009, 'x_rna_elbo': 0.487, 'x_atac_nll': 0.517, 'x_atac_kl': 0.003, 'x_atac_elbo': 0.52, 'dsc_loss': 0.662, 'vae_loss': 1.076, 'gen_loss': 1.043, 'joint_cross_loss': 1.004, 'real_cross_loss': 1.04, 'cos_loss': 0.482}, 18.9s elapsed\n",
      "[INFO] PairedSCGLUETrainer: [Epoch 70] train={'g_nll': 0.426, 'g_kl': 0.041, 'g_elbo': 0.467, 'x_rna_nll': 0.483, 'x_rna_kl': 0.009, 'x_rna_elbo': 0.492, 'x_atac_nll': 0.538, 'x_atac_kl': 0.004, 'x_atac_elbo': 0.542, 'dsc_loss': 0.691, 'vae_loss': 1.104, 'gen_loss': 1.07, 'joint_cross_loss': 1.031, 'real_cross_loss': 1.07, 'cos_loss': 0.471}, val={'g_nll': 0.428, 'g_kl': 0.041, 'g_elbo': 0.469, 'x_rna_nll': 0.477, 'x_rna_kl': 0.009, 'x_rna_elbo': 0.487, 'x_atac_nll': 0.519, 'x_atac_kl': 0.004, 'x_atac_elbo': 0.522, 'dsc_loss': 0.664, 'vae_loss': 1.078, 'gen_loss': 1.045, 'joint_cross_loss': 1.006, 'real_cross_loss': 1.044, 'cos_loss': 0.479}, 2.6s elapsed\n",
      "[INFO] PairedSCGLUETrainer: [Epoch 80] train={'g_nll': 0.425, 'g_kl': 0.041, 'g_elbo': 0.466, 'x_rna_nll': 0.482, 'x_rna_kl': 0.009, 'x_rna_elbo': 0.492, 'x_atac_nll': 0.536, 'x_atac_kl': 0.004, 'x_atac_elbo': 0.54, 'dsc_loss': 0.693, 'vae_loss': 1.101, 'gen_loss': 1.066, 'joint_cross_loss': 1.028, 'real_cross_loss': 1.067, 'cos_loss': 0.47}, val={'g_nll': 0.426, 'g_kl': 0.041, 'g_elbo': 0.467, 'x_rna_nll': 0.482, 'x_rna_kl': 0.009, 'x_rna_elbo': 0.491, 'x_atac_nll': 0.521, 'x_atac_kl': 0.003, 'x_atac_elbo': 0.524, 'dsc_loss': 0.661, 'vae_loss': 1.085, 'gen_loss': 1.052, 'joint_cross_loss': 1.012, 'real_cross_loss': 1.048, 'cos_loss': 0.481}, 2.6s elapsed\n",
      "[INFO] PairedSCGLUETrainer: [Epoch 90] train={'g_nll': 0.425, 'g_kl': 0.041, 'g_elbo': 0.465, 'x_rna_nll': 0.482, 'x_rna_kl': 0.009, 'x_rna_elbo': 0.491, 'x_atac_nll': 0.536, 'x_atac_kl': 0.004, 'x_atac_elbo': 0.54, 'dsc_loss': 0.69, 'vae_loss': 1.101, 'gen_loss': 1.066, 'joint_cross_loss': 1.028, 'real_cross_loss': 1.068, 'cos_loss': 0.472}, val={'g_nll': 0.423, 'g_kl': 0.041, 'g_elbo': 0.464, 'x_rna_nll': 0.479, 'x_rna_kl': 0.009, 'x_rna_elbo': 0.488, 'x_atac_nll': 0.521, 'x_atac_kl': 0.003, 'x_atac_elbo': 0.524, 'dsc_loss': 0.66, 'vae_loss': 1.081, 'gen_loss': 1.049, 'joint_cross_loss': 1.009, 'real_cross_loss': 1.046, 'cos_loss': 0.479}, 21.3s elapsed\n",
      "[INFO] PairedSCGLUETrainer: [Epoch 100] train={'g_nll': 0.422, 'g_kl': 0.041, 'g_elbo': 0.463, 'x_rna_nll': 0.483, 'x_rna_kl': 0.009, 'x_rna_elbo': 0.492, 'x_atac_nll': 0.537, 'x_atac_kl': 0.004, 'x_atac_elbo': 0.54, 'dsc_loss': 0.687, 'vae_loss': 1.102, 'gen_loss': 1.068, 'joint_cross_loss': 1.029, 'real_cross_loss': 1.069, 'cos_loss': 0.473}, val={'g_nll': 0.423, 'g_kl': 0.041, 'g_elbo': 0.464, 'x_rna_nll': 0.483, 'x_rna_kl': 0.009, 'x_rna_elbo': 0.492, 'x_atac_nll': 0.521, 'x_atac_kl': 0.003, 'x_atac_elbo': 0.524, 'dsc_loss': 0.666, 'vae_loss': 1.086, 'gen_loss': 1.052, 'joint_cross_loss': 1.014, 'real_cross_loss': 1.053, 'cos_loss': 0.477}, 2.8s elapsed\n",
      "[INFO] PairedSCGLUETrainer: [Epoch 110] train={'g_nll': 0.423, 'g_kl': 0.04, 'g_elbo': 0.463, 'x_rna_nll': 0.482, 'x_rna_kl': 0.009, 'x_rna_elbo': 0.491, 'x_atac_nll': 0.537, 'x_atac_kl': 0.004, 'x_atac_elbo': 0.541, 'dsc_loss': 0.683, 'vae_loss': 1.102, 'gen_loss': 1.068, 'joint_cross_loss': 1.029, 'real_cross_loss': 1.068, 'cos_loss': 0.472}, val={'g_nll': 0.425, 'g_kl': 0.04, 'g_elbo': 0.465, 'x_rna_nll': 0.48, 'x_rna_kl': 0.009, 'x_rna_elbo': 0.489, 'x_atac_nll': 0.525, 'x_atac_kl': 0.003, 'x_atac_elbo': 0.528, 'dsc_loss': 0.673, 'vae_loss': 1.087, 'gen_loss': 1.053, 'joint_cross_loss': 1.016, 'real_cross_loss': 1.056, 'cos_loss': 0.476}, 2.6s elapsed\n",
      "[INFO] PairedSCGLUETrainer: [Epoch 120] train={'g_nll': 0.424, 'g_kl': 0.04, 'g_elbo': 0.465, 'x_rna_nll': 0.482, 'x_rna_kl': 0.009, 'x_rna_elbo': 0.491, 'x_atac_nll': 0.537, 'x_atac_kl': 0.004, 'x_atac_elbo': 0.54, 'dsc_loss': 0.681, 'vae_loss': 1.101, 'gen_loss': 1.067, 'joint_cross_loss': 1.028, 'real_cross_loss': 1.067, 'cos_loss': 0.474}, val={'g_nll': 0.423, 'g_kl': 0.04, 'g_elbo': 0.464, 'x_rna_nll': 0.48, 'x_rna_kl': 0.009, 'x_rna_elbo': 0.489, 'x_atac_nll': 0.52, 'x_atac_kl': 0.003, 'x_atac_elbo': 0.523, 'dsc_loss': 0.662, 'vae_loss': 1.081, 'gen_loss': 1.047, 'joint_cross_loss': 1.009, 'real_cross_loss': 1.047, 'cos_loss': 0.473}, 2.6s elapsed\n",
      "[INFO] PairedSCGLUETrainer: [Epoch 130] train={'g_nll': 0.423, 'g_kl': 0.04, 'g_elbo': 0.463, 'x_rna_nll': 0.482, 'x_rna_kl': 0.009, 'x_rna_elbo': 0.491, 'x_atac_nll': 0.536, 'x_atac_kl': 0.004, 'x_atac_elbo': 0.54, 'dsc_loss': 0.682, 'vae_loss': 1.101, 'gen_loss': 1.067, 'joint_cross_loss': 1.028, 'real_cross_loss': 1.067, 'cos_loss': 0.475}, val={'g_nll': 0.42, 'g_kl': 0.04, 'g_elbo': 0.461, 'x_rna_nll': 0.484, 'x_rna_kl': 0.009, 'x_rna_elbo': 0.493, 'x_atac_nll': 0.523, 'x_atac_kl': 0.003, 'x_atac_elbo': 0.527, 'dsc_loss': 0.668, 'vae_loss': 1.089, 'gen_loss': 1.056, 'joint_cross_loss': 1.018, 'real_cross_loss': 1.056, 'cos_loss': 0.481}, 2.7s elapsed\n",
      "[INFO] PairedSCGLUETrainer: [Epoch 140] train={'g_nll': 0.424, 'g_kl': 0.04, 'g_elbo': 0.464, 'x_rna_nll': 0.482, 'x_rna_kl': 0.009, 'x_rna_elbo': 0.492, 'x_atac_nll': 0.537, 'x_atac_kl': 0.004, 'x_atac_elbo': 0.541, 'dsc_loss': 0.682, 'vae_loss': 1.102, 'gen_loss': 1.068, 'joint_cross_loss': 1.029, 'real_cross_loss': 1.068, 'cos_loss': 0.473}, val={'g_nll': 0.427, 'g_kl': 0.04, 'g_elbo': 0.467, 'x_rna_nll': 0.48, 'x_rna_kl': 0.009, 'x_rna_elbo': 0.489, 'x_atac_nll': 0.523, 'x_atac_kl': 0.003, 'x_atac_elbo': 0.526, 'dsc_loss': 0.659, 'vae_loss': 1.084, 'gen_loss': 1.051, 'joint_cross_loss': 1.013, 'real_cross_loss': 1.049, 'cos_loss': 0.482}, 2.4s elapsed\n",
      "[INFO] PairedSCGLUETrainer: [Epoch 150] train={'g_nll': 0.423, 'g_kl': 0.04, 'g_elbo': 0.463, 'x_rna_nll': 0.482, 'x_rna_kl': 0.009, 'x_rna_elbo': 0.491, 'x_atac_nll': 0.537, 'x_atac_kl': 0.004, 'x_atac_elbo': 0.541, 'dsc_loss': 0.683, 'vae_loss': 1.102, 'gen_loss': 1.068, 'joint_cross_loss': 1.029, 'real_cross_loss': 1.068, 'cos_loss': 0.473}, val={'g_nll': 0.421, 'g_kl': 0.04, 'g_elbo': 0.461, 'x_rna_nll': 0.483, 'x_rna_kl': 0.009, 'x_rna_elbo': 0.492, 'x_atac_nll': 0.526, 'x_atac_kl': 0.003, 'x_atac_elbo': 0.529, 'dsc_loss': 0.665, 'vae_loss': 1.09, 'gen_loss': 1.057, 'joint_cross_loss': 1.018, 'real_cross_loss': 1.053, 'cos_loss': 0.475}, 2.7s elapsed\n",
      "[INFO] PairedSCGLUETrainer: [Epoch 160] train={'g_nll': 0.423, 'g_kl': 0.04, 'g_elbo': 0.462, 'x_rna_nll': 0.482, 'x_rna_kl': 0.009, 'x_rna_elbo': 0.491, 'x_atac_nll': 0.536, 'x_atac_kl': 0.004, 'x_atac_elbo': 0.539, 'dsc_loss': 0.681, 'vae_loss': 1.1, 'gen_loss': 1.066, 'joint_cross_loss': 1.027, 'real_cross_loss': 1.066, 'cos_loss': 0.476}, val={'g_nll': 0.424, 'g_kl': 0.04, 'g_elbo': 0.464, 'x_rna_nll': 0.482, 'x_rna_kl': 0.009, 'x_rna_elbo': 0.491, 'x_atac_nll': 0.525, 'x_atac_kl': 0.003, 'x_atac_elbo': 0.528, 'dsc_loss': 0.663, 'vae_loss': 1.089, 'gen_loss': 1.056, 'joint_cross_loss': 1.018, 'real_cross_loss': 1.056, 'cos_loss': 0.479}, 7.4s elapsed\n",
      "[INFO] PairedSCGLUETrainer: [Epoch 170] train={'g_nll': 0.424, 'g_kl': 0.039, 'g_elbo': 0.463, 'x_rna_nll': 0.482, 'x_rna_kl': 0.009, 'x_rna_elbo': 0.491, 'x_atac_nll': 0.537, 'x_atac_kl': 0.004, 'x_atac_elbo': 0.54, 'dsc_loss': 0.681, 'vae_loss': 1.101, 'gen_loss': 1.067, 'joint_cross_loss': 1.028, 'real_cross_loss': 1.067, 'cos_loss': 0.478}, val={'g_nll': 0.42, 'g_kl': 0.039, 'g_elbo': 0.459, 'x_rna_nll': 0.487, 'x_rna_kl': 0.009, 'x_rna_elbo': 0.496, 'x_atac_nll': 0.527, 'x_atac_kl': 0.003, 'x_atac_elbo': 0.53, 'dsc_loss': 0.662, 'vae_loss': 1.096, 'gen_loss': 1.063, 'joint_cross_loss': 1.025, 'real_cross_loss': 1.063, 'cos_loss': 0.484}, 2.6s elapsed\n",
      "[INFO] PairedSCGLUETrainer: [Epoch 180] train={'g_nll': 0.422, 'g_kl': 0.039, 'g_elbo': 0.461, 'x_rna_nll': 0.482, 'x_rna_kl': 0.009, 'x_rna_elbo': 0.491, 'x_atac_nll': 0.537, 'x_atac_kl': 0.004, 'x_atac_elbo': 0.541, 'dsc_loss': 0.683, 'vae_loss': 1.101, 'gen_loss': 1.067, 'joint_cross_loss': 1.028, 'real_cross_loss': 1.067, 'cos_loss': 0.477}, val={'g_nll': 0.421, 'g_kl': 0.039, 'g_elbo': 0.46, 'x_rna_nll': 0.481, 'x_rna_kl': 0.009, 'x_rna_elbo': 0.49, 'x_atac_nll': 0.52, 'x_atac_kl': 0.003, 'x_atac_elbo': 0.523, 'dsc_loss': 0.66, 'vae_loss': 1.083, 'gen_loss': 1.05, 'joint_cross_loss': 1.011, 'real_cross_loss': 1.047, 'cos_loss': 0.48}, 11.0s elapsed\n",
      "[INFO] PairedSCGLUETrainer: [Epoch 190] train={'g_nll': 0.422, 'g_kl': 0.039, 'g_elbo': 0.461, 'x_rna_nll': 0.481, 'x_rna_kl': 0.009, 'x_rna_elbo': 0.49, 'x_atac_nll': 0.536, 'x_atac_kl': 0.004, 'x_atac_elbo': 0.54, 'dsc_loss': 0.681, 'vae_loss': 1.1, 'gen_loss': 1.066, 'joint_cross_loss': 1.027, 'real_cross_loss': 1.065, 'cos_loss': 0.478}, val={'g_nll': 0.425, 'g_kl': 0.039, 'g_elbo': 0.464, 'x_rna_nll': 0.494, 'x_rna_kl': 0.009, 'x_rna_elbo': 0.503, 'x_atac_nll': 0.531, 'x_atac_kl': 0.003, 'x_atac_elbo': 0.534, 'dsc_loss': 0.659, 'vae_loss': 1.107, 'gen_loss': 1.074, 'joint_cross_loss': 1.034, 'real_cross_loss': 1.071, 'cos_loss': 0.477}, 2.6s elapsed\n",
      "Epoch 00191: reducing learning rate of group 0 to 2.0000e-04.\n",
      "Epoch 00191: reducing learning rate of group 0 to 2.0000e-04.\n",
      "[INFO] LRScheduler: Learning rate reduction: step 1\n",
      "[INFO] PairedSCGLUETrainer: [Epoch 200] train={'g_nll': 0.421, 'g_kl': 0.039, 'g_elbo': 0.46, 'x_rna_nll': 0.481, 'x_rna_kl': 0.009, 'x_rna_elbo': 0.49, 'x_atac_nll': 0.537, 'x_atac_kl': 0.004, 'x_atac_elbo': 0.54, 'dsc_loss': 0.687, 'vae_loss': 1.101, 'gen_loss': 1.066, 'joint_cross_loss': 1.028, 'real_cross_loss': 1.065, 'cos_loss': 0.478}, val={'g_nll': 0.422, 'g_kl': 0.039, 'g_elbo': 0.461, 'x_rna_nll': 0.482, 'x_rna_kl': 0.009, 'x_rna_elbo': 0.491, 'x_atac_nll': 0.528, 'x_atac_kl': 0.003, 'x_atac_elbo': 0.531, 'dsc_loss': 0.664, 'vae_loss': 1.092, 'gen_loss': 1.058, 'joint_cross_loss': 1.02, 'real_cross_loss': 1.056, 'cos_loss': 0.471}, 2.6s elapsed\n",
      "[INFO] PairedSCGLUETrainer: [Epoch 210] train={'g_nll': 0.421, 'g_kl': 0.039, 'g_elbo': 0.46, 'x_rna_nll': 0.481, 'x_rna_kl': 0.009, 'x_rna_elbo': 0.49, 'x_atac_nll': 0.537, 'x_atac_kl': 0.004, 'x_atac_elbo': 0.541, 'dsc_loss': 0.686, 'vae_loss': 1.1, 'gen_loss': 1.066, 'joint_cross_loss': 1.028, 'real_cross_loss': 1.066, 'cos_loss': 0.475}, val={'g_nll': 0.419, 'g_kl': 0.039, 'g_elbo': 0.458, 'x_rna_nll': 0.474, 'x_rna_kl': 0.009, 'x_rna_elbo': 0.483, 'x_atac_nll': 0.525, 'x_atac_kl': 0.003, 'x_atac_elbo': 0.528, 'dsc_loss': 0.647, 'vae_loss': 1.079, 'gen_loss': 1.047, 'joint_cross_loss': 1.008, 'real_cross_loss': 1.042, 'cos_loss': 0.48}, 2.5s elapsed\n",
      "[INFO] PairedSCGLUETrainer: [Epoch 220] train={'g_nll': 0.422, 'g_kl': 0.039, 'g_elbo': 0.461, 'x_rna_nll': 0.481, 'x_rna_kl': 0.009, 'x_rna_elbo': 0.49, 'x_atac_nll': 0.536, 'x_atac_kl': 0.004, 'x_atac_elbo': 0.54, 'dsc_loss': 0.689, 'vae_loss': 1.1, 'gen_loss': 1.065, 'joint_cross_loss': 1.027, 'real_cross_loss': 1.065, 'cos_loss': 0.476}, val={'g_nll': 0.419, 'g_kl': 0.039, 'g_elbo': 0.459, 'x_rna_nll': 0.475, 'x_rna_kl': 0.009, 'x_rna_elbo': 0.484, 'x_atac_nll': 0.516, 'x_atac_kl': 0.003, 'x_atac_elbo': 0.519, 'dsc_loss': 0.652, 'vae_loss': 1.072, 'gen_loss': 1.039, 'joint_cross_loss': 1.0, 'real_cross_loss': 1.036, 'cos_loss': 0.478}, 2.6s elapsed\n",
      "[INFO] PairedSCGLUETrainer: [Epoch 230] train={'g_nll': 0.421, 'g_kl': 0.039, 'g_elbo': 0.461, 'x_rna_nll': 0.481, 'x_rna_kl': 0.009, 'x_rna_elbo': 0.49, 'x_atac_nll': 0.535, 'x_atac_kl': 0.004, 'x_atac_elbo': 0.539, 'dsc_loss': 0.684, 'vae_loss': 1.098, 'gen_loss': 1.064, 'joint_cross_loss': 1.025, 'real_cross_loss': 1.063, 'cos_loss': 0.475}, val={'g_nll': 0.42, 'g_kl': 0.039, 'g_elbo': 0.459, 'x_rna_nll': 0.482, 'x_rna_kl': 0.009, 'x_rna_elbo': 0.491, 'x_atac_nll': 0.522, 'x_atac_kl': 0.003, 'x_atac_elbo': 0.525, 'dsc_loss': 0.649, 'vae_loss': 1.084, 'gen_loss': 1.052, 'joint_cross_loss': 1.013, 'real_cross_loss': 1.049, 'cos_loss': 0.482}, 2.7s elapsed\n",
      "Epoch 00231: reducing learning rate of group 0 to 2.0000e-05.\n",
      "Epoch 00231: reducing learning rate of group 0 to 2.0000e-05.\n",
      "[INFO] LRScheduler: Learning rate reduction: step 2\n",
      "[INFO] PairedSCGLUETrainer: [Epoch 240] train={'g_nll': 0.419, 'g_kl': 0.039, 'g_elbo': 0.458, 'x_rna_nll': 0.481, 'x_rna_kl': 0.009, 'x_rna_elbo': 0.49, 'x_atac_nll': 0.537, 'x_atac_kl': 0.004, 'x_atac_elbo': 0.541, 'dsc_loss': 0.69, 'vae_loss': 1.1, 'gen_loss': 1.066, 'joint_cross_loss': 1.028, 'real_cross_loss': 1.065, 'cos_loss': 0.476}, val={'g_nll': 0.418, 'g_kl': 0.039, 'g_elbo': 0.457, 'x_rna_nll': 0.482, 'x_rna_kl': 0.009, 'x_rna_elbo': 0.491, 'x_atac_nll': 0.512, 'x_atac_kl': 0.003, 'x_atac_elbo': 0.515, 'dsc_loss': 0.659, 'vae_loss': 1.075, 'gen_loss': 1.042, 'joint_cross_loss': 1.004, 'real_cross_loss': 1.042, 'cos_loss': 0.489}, 2.6s elapsed\n",
      "[INFO] PairedSCGLUETrainer: [Epoch 250] train={'g_nll': 0.42, 'g_kl': 0.039, 'g_elbo': 0.459, 'x_rna_nll': 0.481, 'x_rna_kl': 0.009, 'x_rna_elbo': 0.49, 'x_atac_nll': 0.537, 'x_atac_kl': 0.004, 'x_atac_elbo': 0.541, 'dsc_loss': 0.688, 'vae_loss': 1.101, 'gen_loss': 1.066, 'joint_cross_loss': 1.028, 'real_cross_loss': 1.066, 'cos_loss': 0.475}, val={'g_nll': 0.423, 'g_kl': 0.039, 'g_elbo': 0.462, 'x_rna_nll': 0.479, 'x_rna_kl': 0.009, 'x_rna_elbo': 0.488, 'x_atac_nll': 0.519, 'x_atac_kl': 0.003, 'x_atac_elbo': 0.522, 'dsc_loss': 0.661, 'vae_loss': 1.079, 'gen_loss': 1.046, 'joint_cross_loss': 1.008, 'real_cross_loss': 1.046, 'cos_loss': 0.475}, 2.6s elapsed\n",
      "[INFO] PairedSCGLUETrainer: [Epoch 260] train={'g_nll': 0.42, 'g_kl': 0.039, 'g_elbo': 0.459, 'x_rna_nll': 0.481, 'x_rna_kl': 0.009, 'x_rna_elbo': 0.49, 'x_atac_nll': 0.537, 'x_atac_kl': 0.004, 'x_atac_elbo': 0.54, 'dsc_loss': 0.687, 'vae_loss': 1.1, 'gen_loss': 1.066, 'joint_cross_loss': 1.028, 'real_cross_loss': 1.066, 'cos_loss': 0.477}, val={'g_nll': 0.424, 'g_kl': 0.039, 'g_elbo': 0.463, 'x_rna_nll': 0.484, 'x_rna_kl': 0.009, 'x_rna_elbo': 0.493, 'x_atac_nll': 0.523, 'x_atac_kl': 0.003, 'x_atac_elbo': 0.527, 'dsc_loss': 0.663, 'vae_loss': 1.089, 'gen_loss': 1.056, 'joint_cross_loss': 1.018, 'real_cross_loss': 1.056, 'cos_loss': 0.486}, 2.5s elapsed\n",
      "[INFO] PairedSCGLUETrainer: [Epoch 270] train={'g_nll': 0.422, 'g_kl': 0.039, 'g_elbo': 0.462, 'x_rna_nll': 0.481, 'x_rna_kl': 0.009, 'x_rna_elbo': 0.49, 'x_atac_nll': 0.537, 'x_atac_kl': 0.004, 'x_atac_elbo': 0.54, 'dsc_loss': 0.69, 'vae_loss': 1.1, 'gen_loss': 1.066, 'joint_cross_loss': 1.028, 'real_cross_loss': 1.067, 'cos_loss': 0.476}, val={'g_nll': 0.422, 'g_kl': 0.039, 'g_elbo': 0.462, 'x_rna_nll': 0.477, 'x_rna_kl': 0.009, 'x_rna_elbo': 0.486, 'x_atac_nll': 0.52, 'x_atac_kl': 0.003, 'x_atac_elbo': 0.523, 'dsc_loss': 0.657, 'vae_loss': 1.078, 'gen_loss': 1.045, 'joint_cross_loss': 1.006, 'real_cross_loss': 1.042, 'cos_loss': 0.484}, 2.6s elapsed\n",
      "[INFO] PairedSCGLUETrainer: [Epoch 280] train={'g_nll': 0.422, 'g_kl': 0.039, 'g_elbo': 0.461, 'x_rna_nll': 0.48, 'x_rna_kl': 0.009, 'x_rna_elbo': 0.489, 'x_atac_nll': 0.537, 'x_atac_kl': 0.004, 'x_atac_elbo': 0.541, 'dsc_loss': 0.688, 'vae_loss': 1.1, 'gen_loss': 1.066, 'joint_cross_loss': 1.028, 'real_cross_loss': 1.066, 'cos_loss': 0.477}, val={'g_nll': 0.418, 'g_kl': 0.039, 'g_elbo': 0.457, 'x_rna_nll': 0.476, 'x_rna_kl': 0.009, 'x_rna_elbo': 0.485, 'x_atac_nll': 0.52, 'x_atac_kl': 0.003, 'x_atac_elbo': 0.523, 'dsc_loss': 0.637, 'vae_loss': 1.077, 'gen_loss': 1.045, 'joint_cross_loss': 1.005, 'real_cross_loss': 1.039, 'cos_loss': 0.482}, 2.5s elapsed\n",
      "[INFO] PairedSCGLUETrainer: [Epoch 290] train={'g_nll': 0.419, 'g_kl': 0.039, 'g_elbo': 0.459, 'x_rna_nll': 0.481, 'x_rna_kl': 0.009, 'x_rna_elbo': 0.49, 'x_atac_nll': 0.536, 'x_atac_kl': 0.004, 'x_atac_elbo': 0.54, 'dsc_loss': 0.689, 'vae_loss': 1.099, 'gen_loss': 1.065, 'joint_cross_loss': 1.027, 'real_cross_loss': 1.065, 'cos_loss': 0.478}, val={'g_nll': 0.42, 'g_kl': 0.039, 'g_elbo': 0.459, 'x_rna_nll': 0.48, 'x_rna_kl': 0.009, 'x_rna_elbo': 0.489, 'x_atac_nll': 0.521, 'x_atac_kl': 0.003, 'x_atac_elbo': 0.524, 'dsc_loss': 0.654, 'vae_loss': 1.082, 'gen_loss': 1.049, 'joint_cross_loss': 1.011, 'real_cross_loss': 1.046, 'cos_loss': 0.485}, 2.5s elapsed\n",
      "Epoch 00299: reducing learning rate of group 0 to 2.0000e-06.\n",
      "Epoch 00299: reducing learning rate of group 0 to 2.0000e-06.\n",
      "[INFO] LRScheduler: Learning rate reduction: step 3\n",
      "[INFO] PairedSCGLUETrainer: [Epoch 300] train={'g_nll': 0.42, 'g_kl': 0.039, 'g_elbo': 0.46, 'x_rna_nll': 0.481, 'x_rna_kl': 0.009, 'x_rna_elbo': 0.49, 'x_atac_nll': 0.536, 'x_atac_kl': 0.004, 'x_atac_elbo': 0.539, 'dsc_loss': 0.688, 'vae_loss': 1.099, 'gen_loss': 1.064, 'joint_cross_loss': 1.026, 'real_cross_loss': 1.065, 'cos_loss': 0.477}, val={'g_nll': 0.42, 'g_kl': 0.039, 'g_elbo': 0.46, 'x_rna_nll': 0.478, 'x_rna_kl': 0.009, 'x_rna_elbo': 0.487, 'x_atac_nll': 0.523, 'x_atac_kl': 0.003, 'x_atac_elbo': 0.526, 'dsc_loss': 0.655, 'vae_loss': 1.082, 'gen_loss': 1.05, 'joint_cross_loss': 1.01, 'real_cross_loss': 1.046, 'cos_loss': 0.489}, 59.9s elapsed\n",
      "[INFO] PairedSCGLUETrainer: [Epoch 310] train={'g_nll': 0.419, 'g_kl': 0.039, 'g_elbo': 0.459, 'x_rna_nll': 0.48, 'x_rna_kl': 0.009, 'x_rna_elbo': 0.489, 'x_atac_nll': 0.538, 'x_atac_kl': 0.004, 'x_atac_elbo': 0.541, 'dsc_loss': 0.686, 'vae_loss': 1.1, 'gen_loss': 1.066, 'joint_cross_loss': 1.027, 'real_cross_loss': 1.065, 'cos_loss': 0.476}, val={'g_nll': 0.426, 'g_kl': 0.039, 'g_elbo': 0.465, 'x_rna_nll': 0.481, 'x_rna_kl': 0.009, 'x_rna_elbo': 0.49, 'x_atac_nll': 0.526, 'x_atac_kl': 0.003, 'x_atac_elbo': 0.529, 'dsc_loss': 0.656, 'vae_loss': 1.089, 'gen_loss': 1.056, 'joint_cross_loss': 1.017, 'real_cross_loss': 1.054, 'cos_loss': 0.486}, 2.6s elapsed\n",
      "[INFO] PairedSCGLUETrainer: [Epoch 320] train={'g_nll': 0.42, 'g_kl': 0.039, 'g_elbo': 0.459, 'x_rna_nll': 0.481, 'x_rna_kl': 0.009, 'x_rna_elbo': 0.49, 'x_atac_nll': 0.537, 'x_atac_kl': 0.004, 'x_atac_elbo': 0.54, 'dsc_loss': 0.688, 'vae_loss': 1.1, 'gen_loss': 1.065, 'joint_cross_loss': 1.027, 'real_cross_loss': 1.065, 'cos_loss': 0.473}, val={'g_nll': 0.424, 'g_kl': 0.039, 'g_elbo': 0.464, 'x_rna_nll': 0.478, 'x_rna_kl': 0.009, 'x_rna_elbo': 0.487, 'x_atac_nll': 0.518, 'x_atac_kl': 0.003, 'x_atac_elbo': 0.521, 'dsc_loss': 0.652, 'vae_loss': 1.077, 'gen_loss': 1.044, 'joint_cross_loss': 1.006, 'real_cross_loss': 1.042, 'cos_loss': 0.488}, 17.3s elapsed\n",
      "[INFO] PairedSCGLUETrainer: [Epoch 330] train={'g_nll': 0.42, 'g_kl': 0.039, 'g_elbo': 0.459, 'x_rna_nll': 0.479, 'x_rna_kl': 0.009, 'x_rna_elbo': 0.488, 'x_atac_nll': 0.536, 'x_atac_kl': 0.004, 'x_atac_elbo': 0.539, 'dsc_loss': 0.685, 'vae_loss': 1.097, 'gen_loss': 1.063, 'joint_cross_loss': 1.025, 'real_cross_loss': 1.063, 'cos_loss': 0.474}, val={'g_nll': 0.42, 'g_kl': 0.039, 'g_elbo': 0.46, 'x_rna_nll': 0.479, 'x_rna_kl': 0.009, 'x_rna_elbo': 0.487, 'x_atac_nll': 0.525, 'x_atac_kl': 0.003, 'x_atac_elbo': 0.528, 'dsc_loss': 0.665, 'vae_loss': 1.084, 'gen_loss': 1.051, 'joint_cross_loss': 1.013, 'real_cross_loss': 1.049, 'cos_loss': 0.483}, 9.2s elapsed\n"
     ]
    },
    {
     "name": "stderr",
     "output_type": "stream",
     "text": [
      "2023-05-05 19:18:27,820 ignite.handlers.early_stopping.EarlyStopping INFO: EarlyStopping: Stop training\n"
     ]
    },
    {
     "name": "stdout",
     "output_type": "stream",
     "text": [
      "[INFO] EarlyStopping: Restoring checkpoint \"287\"...\n",
      "[INFO] EarlyStopping: Restoring checkpoint \"287\"...\n"
     ]
    },
    {
     "name": "stderr",
     "output_type": "stream",
     "text": [
      "/dss/dsshome1/01/di93bur/miniconda3/envs/scglue_env_2/lib/python3.9/multiprocessing/popen_fork.py:66: ResourceWarning: unclosed socket <zmq.Socket(zmq.PUSH) at 0x7f3dd8395b20>\n",
      "  self.pid = os.fork()\n",
      "ResourceWarning: Enable tracemalloc to get the object allocation traceback\n",
      "/tmp/ipykernel_413349/637290968.py:24: DeprecationWarning: Call to deprecated function (or staticmethod) opt_louvain.\n",
      "  scib.cl.opt_louvain(adata,label_key='cell_type',cluster_key='cluster_key',plot=False,inplace=True,force=True,verbose = False)\n",
      " 18%|█▊        | 2/11 [4:14:23<19:43:14, 7888.25s/it]"
     ]
    },
    {
     "name": "stdout",
     "output_type": "stream",
     "text": [
      "[INFO] fit_SCGLUE: Pretraining SCGLUE model...\n"
     ]
    },
    {
     "name": "stderr",
     "output_type": "stream",
     "text": [
      "[WARNING] PairedSCGLUEModel: It is recommended that `use_rep` dimensionality be equal or larger than `latent_dim`.\n"
     ]
    },
    {
     "name": "stdout",
     "output_type": "stream",
     "text": [
      "[INFO] check_graph: Checking variable coverage...\n",
      "[INFO] check_graph: Checking edge attributes...\n",
      "[INFO] check_graph: Checking self-loops...\n",
      "[INFO] check_graph: Checking graph symmetry...\n",
      "[INFO] PairedSCGLUEModel: Setting `graph_batch_size` = 3033\n",
      "[INFO] PairedSCGLUEModel: Setting `max_epochs` = 559\n",
      "[INFO] PairedSCGLUEModel: Setting `patience` = 47\n",
      "[INFO] PairedSCGLUEModel: Setting `reduce_lr_patience` = 24\n",
      "[INFO] PairedSCGLUETrainer: Using training directory: \"glue/pretrain\"\n",
      "[INFO] PairedSCGLUETrainer: [Epoch 10] train={'g_nll': 0.611, 'g_kl': 0.035, 'g_elbo': 0.646, 'x_rna_nll': 0.45, 'x_rna_kl': 0.013, 'x_rna_elbo': 0.463, 'x_atac_nll': 0.555, 'x_atac_kl': 0.008, 'x_atac_elbo': 0.562, 'dsc_loss': 0.679, 'vae_loss': 1.098, 'gen_loss': 1.064, 'joint_cross_loss': 1.003, 'real_cross_loss': 1.024, 'cos_loss': 0.348}, val={'g_nll': 0.611, 'g_kl': 0.036, 'g_elbo': 0.646, 'x_rna_nll': 0.452, 'x_rna_kl': 0.011, 'x_rna_elbo': 0.463, 'x_atac_nll': 0.562, 'x_atac_kl': 0.006, 'x_atac_elbo': 0.569, 'dsc_loss': 0.68, 'vae_loss': 1.106, 'gen_loss': 1.072, 'joint_cross_loss': 1.015, 'real_cross_loss': 1.033, 'cos_loss': 0.34}, 10.4s elapsed\n",
      "[INFO] PairedSCGLUETrainer: [Epoch 20] train={'g_nll': 0.588, 'g_kl': 0.048, 'g_elbo': 0.636, 'x_rna_nll': 0.436, 'x_rna_kl': 0.009, 'x_rna_elbo': 0.445, 'x_atac_nll': 0.541, 'x_atac_kl': 0.005, 'x_atac_elbo': 0.546, 'dsc_loss': 0.686, 'vae_loss': 1.064, 'gen_loss': 1.03, 'joint_cross_loss': 0.979, 'real_cross_loss': 0.998, 'cos_loss': 0.439}, val={'g_nll': 0.586, 'g_kl': 0.048, 'g_elbo': 0.634, 'x_rna_nll': 0.448, 'x_rna_kl': 0.008, 'x_rna_elbo': 0.456, 'x_atac_nll': 0.552, 'x_atac_kl': 0.004, 'x_atac_elbo': 0.557, 'dsc_loss': 0.687, 'vae_loss': 1.087, 'gen_loss': 1.052, 'joint_cross_loss': 1.002, 'real_cross_loss': 1.016, 'cos_loss': 0.445}, 4.0s elapsed\n",
      "[INFO] PairedSCGLUETrainer: [Epoch 30] train={'g_nll': 0.531, 'g_kl': 0.048, 'g_elbo': 0.579, 'x_rna_nll': 0.431, 'x_rna_kl': 0.008, 'x_rna_elbo': 0.439, 'x_atac_nll': 0.538, 'x_atac_kl': 0.004, 'x_atac_elbo': 0.542, 'dsc_loss': 0.688, 'vae_loss': 1.053, 'gen_loss': 1.018, 'joint_cross_loss': 0.972, 'real_cross_loss': 0.99, 'cos_loss': 0.471}, val={'g_nll': 0.53, 'g_kl': 0.048, 'g_elbo': 0.578, 'x_rna_nll': 0.435, 'x_rna_kl': 0.008, 'x_rna_elbo': 0.443, 'x_atac_nll': 0.551, 'x_atac_kl': 0.004, 'x_atac_elbo': 0.555, 'dsc_loss': 0.689, 'vae_loss': 1.071, 'gen_loss': 1.036, 'joint_cross_loss': 0.991, 'real_cross_loss': 1.012, 'cos_loss': 0.475}, 21.3s elapsed\n",
      "[INFO] PairedSCGLUETrainer: [Epoch 40] train={'g_nll': 0.493, 'g_kl': 0.047, 'g_elbo': 0.54, 'x_rna_nll': 0.428, 'x_rna_kl': 0.008, 'x_rna_elbo': 0.436, 'x_atac_nll': 0.537, 'x_atac_kl': 0.004, 'x_atac_elbo': 0.541, 'dsc_loss': 0.69, 'vae_loss': 1.048, 'gen_loss': 1.013, 'joint_cross_loss': 0.968, 'real_cross_loss': 0.988, 'cos_loss': 0.476}, val={'g_nll': 0.492, 'g_kl': 0.047, 'g_elbo': 0.539, 'x_rna_nll': 0.432, 'x_rna_kl': 0.008, 'x_rna_elbo': 0.44, 'x_atac_nll': 0.547, 'x_atac_kl': 0.004, 'x_atac_elbo': 0.551, 'dsc_loss': 0.692, 'vae_loss': 1.061, 'gen_loss': 1.027, 'joint_cross_loss': 0.982, 'real_cross_loss': 1.002, 'cos_loss': 0.478}, 35.5s elapsed\n",
      "[INFO] PairedSCGLUETrainer: [Epoch 50] train={'g_nll': 0.476, 'g_kl': 0.045, 'g_elbo': 0.522, 'x_rna_nll': 0.427, 'x_rna_kl': 0.008, 'x_rna_elbo': 0.435, 'x_atac_nll': 0.537, 'x_atac_kl': 0.004, 'x_atac_elbo': 0.541, 'dsc_loss': 0.689, 'vae_loss': 1.045, 'gen_loss': 1.011, 'joint_cross_loss': 0.967, 'real_cross_loss': 0.988, 'cos_loss': 0.478}, val={'g_nll': 0.473, 'g_kl': 0.045, 'g_elbo': 0.518, 'x_rna_nll': 0.431, 'x_rna_kl': 0.008, 'x_rna_elbo': 0.439, 'x_atac_nll': 0.548, 'x_atac_kl': 0.004, 'x_atac_elbo': 0.552, 'dsc_loss': 0.689, 'vae_loss': 1.061, 'gen_loss': 1.027, 'joint_cross_loss': 0.984, 'real_cross_loss': 1.004, 'cos_loss': 0.478}, 19.2s elapsed\n",
      "[INFO] PairedSCGLUETrainer: [Epoch 60] train={'g_nll': 0.467, 'g_kl': 0.045, 'g_elbo': 0.511, 'x_rna_nll': 0.426, 'x_rna_kl': 0.008, 'x_rna_elbo': 0.434, 'x_atac_nll': 0.537, 'x_atac_kl': 0.004, 'x_atac_elbo': 0.541, 'dsc_loss': 0.69, 'vae_loss': 1.044, 'gen_loss': 1.009, 'joint_cross_loss': 0.966, 'real_cross_loss': 0.988, 'cos_loss': 0.477}, val={'g_nll': 0.468, 'g_kl': 0.045, 'g_elbo': 0.513, 'x_rna_nll': 0.43, 'x_rna_kl': 0.008, 'x_rna_elbo': 0.439, 'x_atac_nll': 0.546, 'x_atac_kl': 0.004, 'x_atac_elbo': 0.55, 'dsc_loss': 0.688, 'vae_loss': 1.058, 'gen_loss': 1.024, 'joint_cross_loss': 0.981, 'real_cross_loss': 1.002, 'cos_loss': 0.47}, 32.3s elapsed\n",
      "[INFO] PairedSCGLUETrainer: [Epoch 70] train={'g_nll': 0.462, 'g_kl': 0.044, 'g_elbo': 0.505, 'x_rna_nll': 0.425, 'x_rna_kl': 0.008, 'x_rna_elbo': 0.434, 'x_atac_nll': 0.537, 'x_atac_kl': 0.004, 'x_atac_elbo': 0.54, 'dsc_loss': 0.69, 'vae_loss': 1.043, 'gen_loss': 1.009, 'joint_cross_loss': 0.966, 'real_cross_loss': 0.989, 'cos_loss': 0.474}, val={'g_nll': 0.462, 'g_kl': 0.043, 'g_elbo': 0.505, 'x_rna_nll': 0.43, 'x_rna_kl': 0.008, 'x_rna_elbo': 0.438, 'x_atac_nll': 0.547, 'x_atac_kl': 0.004, 'x_atac_elbo': 0.551, 'dsc_loss': 0.692, 'vae_loss': 1.058, 'gen_loss': 1.024, 'joint_cross_loss': 0.983, 'real_cross_loss': 1.005, 'cos_loss': 0.477}, 4.1s elapsed\n",
      "[INFO] PairedSCGLUETrainer: [Epoch 80] train={'g_nll': 0.456, 'g_kl': 0.043, 'g_elbo': 0.498, 'x_rna_nll': 0.425, 'x_rna_kl': 0.008, 'x_rna_elbo': 0.433, 'x_atac_nll': 0.537, 'x_atac_kl': 0.004, 'x_atac_elbo': 0.54, 'dsc_loss': 0.69, 'vae_loss': 1.042, 'gen_loss': 1.008, 'joint_cross_loss': 0.966, 'real_cross_loss': 0.989, 'cos_loss': 0.472}, val={'g_nll': 0.455, 'g_kl': 0.043, 'g_elbo': 0.498, 'x_rna_nll': 0.429, 'x_rna_kl': 0.008, 'x_rna_elbo': 0.437, 'x_atac_nll': 0.548, 'x_atac_kl': 0.004, 'x_atac_elbo': 0.552, 'dsc_loss': 0.69, 'vae_loss': 1.058, 'gen_loss': 1.024, 'joint_cross_loss': 0.983, 'real_cross_loss': 1.007, 'cos_loss': 0.473}, 33.4s elapsed\n",
      "[INFO] PairedSCGLUETrainer: [Epoch 90] train={'g_nll': 0.452, 'g_kl': 0.042, 'g_elbo': 0.494, 'x_rna_nll': 0.425, 'x_rna_kl': 0.008, 'x_rna_elbo': 0.433, 'x_atac_nll': 0.536, 'x_atac_kl': 0.004, 'x_atac_elbo': 0.54, 'dsc_loss': 0.69, 'vae_loss': 1.041, 'gen_loss': 1.007, 'joint_cross_loss': 0.965, 'real_cross_loss': 0.988, 'cos_loss': 0.467}, val={'g_nll': 0.447, 'g_kl': 0.042, 'g_elbo': 0.489, 'x_rna_nll': 0.429, 'x_rna_kl': 0.008, 'x_rna_elbo': 0.437, 'x_atac_nll': 0.548, 'x_atac_kl': 0.004, 'x_atac_elbo': 0.551, 'dsc_loss': 0.69, 'vae_loss': 1.057, 'gen_loss': 1.023, 'joint_cross_loss': 0.981, 'real_cross_loss': 1.003, 'cos_loss': 0.463}, 4.0s elapsed\n",
      "Epoch 00098: reducing learning rate of group 0 to 2.0000e-04.\n",
      "Epoch 00098: reducing learning rate of group 0 to 2.0000e-04.\n",
      "[INFO] LRScheduler: Learning rate reduction: step 1\n",
      "[INFO] PairedSCGLUETrainer: [Epoch 100] train={'g_nll': 0.448, 'g_kl': 0.041, 'g_elbo': 0.49, 'x_rna_nll': 0.423, 'x_rna_kl': 0.008, 'x_rna_elbo': 0.431, 'x_atac_nll': 0.536, 'x_atac_kl': 0.004, 'x_atac_elbo': 0.54, 'dsc_loss': 0.691, 'vae_loss': 1.039, 'gen_loss': 1.005, 'joint_cross_loss': 0.964, 'real_cross_loss': 0.987, 'cos_loss': 0.467}, val={'g_nll': 0.446, 'g_kl': 0.041, 'g_elbo': 0.487, 'x_rna_nll': 0.429, 'x_rna_kl': 0.008, 'x_rna_elbo': 0.437, 'x_atac_nll': 0.547, 'x_atac_kl': 0.004, 'x_atac_elbo': 0.551, 'dsc_loss': 0.691, 'vae_loss': 1.056, 'gen_loss': 1.022, 'joint_cross_loss': 0.982, 'real_cross_loss': 1.005, 'cos_loss': 0.46}, 4.3s elapsed\n",
      "[INFO] PairedSCGLUETrainer: [Epoch 110] train={'g_nll': 0.449, 'g_kl': 0.041, 'g_elbo': 0.49, 'x_rna_nll': 0.423, 'x_rna_kl': 0.008, 'x_rna_elbo': 0.431, 'x_atac_nll': 0.536, 'x_atac_kl': 0.004, 'x_atac_elbo': 0.54, 'dsc_loss': 0.69, 'vae_loss': 1.039, 'gen_loss': 1.004, 'joint_cross_loss': 0.964, 'real_cross_loss': 0.986, 'cos_loss': 0.463}, val={'g_nll': 0.447, 'g_kl': 0.041, 'g_elbo': 0.488, 'x_rna_nll': 0.429, 'x_rna_kl': 0.008, 'x_rna_elbo': 0.438, 'x_atac_nll': 0.547, 'x_atac_kl': 0.004, 'x_atac_elbo': 0.551, 'dsc_loss': 0.69, 'vae_loss': 1.057, 'gen_loss': 1.022, 'joint_cross_loss': 0.981, 'real_cross_loss': 1.003, 'cos_loss': 0.462}, 37.1s elapsed\n",
      "[INFO] PairedSCGLUETrainer: [Epoch 120] train={'g_nll': 0.448, 'g_kl': 0.041, 'g_elbo': 0.489, 'x_rna_nll': 0.423, 'x_rna_kl': 0.008, 'x_rna_elbo': 0.431, 'x_atac_nll': 0.536, 'x_atac_kl': 0.004, 'x_atac_elbo': 0.54, 'dsc_loss': 0.691, 'vae_loss': 1.039, 'gen_loss': 1.004, 'joint_cross_loss': 0.964, 'real_cross_loss': 0.987, 'cos_loss': 0.462}, val={'g_nll': 0.445, 'g_kl': 0.041, 'g_elbo': 0.487, 'x_rna_nll': 0.429, 'x_rna_kl': 0.008, 'x_rna_elbo': 0.437, 'x_atac_nll': 0.547, 'x_atac_kl': 0.004, 'x_atac_elbo': 0.55, 'dsc_loss': 0.688, 'vae_loss': 1.056, 'gen_loss': 1.022, 'joint_cross_loss': 0.981, 'real_cross_loss': 1.004, 'cos_loss': 0.466}, 4.2s elapsed\n",
      "[INFO] PairedSCGLUETrainer: [Epoch 130] train={'g_nll': 0.448, 'g_kl': 0.041, 'g_elbo': 0.489, 'x_rna_nll': 0.422, 'x_rna_kl': 0.008, 'x_rna_elbo': 0.431, 'x_atac_nll': 0.536, 'x_atac_kl': 0.004, 'x_atac_elbo': 0.54, 'dsc_loss': 0.691, 'vae_loss': 1.039, 'gen_loss': 1.004, 'joint_cross_loss': 0.964, 'real_cross_loss': 0.987, 'cos_loss': 0.464}, val={'g_nll': 0.447, 'g_kl': 0.041, 'g_elbo': 0.488, 'x_rna_nll': 0.429, 'x_rna_kl': 0.008, 'x_rna_elbo': 0.437, 'x_atac_nll': 0.548, 'x_atac_kl': 0.004, 'x_atac_elbo': 0.552, 'dsc_loss': 0.692, 'vae_loss': 1.057, 'gen_loss': 1.023, 'joint_cross_loss': 0.982, 'real_cross_loss': 1.005, 'cos_loss': 0.471}, 28.9s elapsed\n",
      "[INFO] PairedSCGLUETrainer: [Epoch 140] train={'g_nll': 0.448, 'g_kl': 0.041, 'g_elbo': 0.489, 'x_rna_nll': 0.423, 'x_rna_kl': 0.008, 'x_rna_elbo': 0.431, 'x_atac_nll': 0.536, 'x_atac_kl': 0.004, 'x_atac_elbo': 0.54, 'dsc_loss': 0.691, 'vae_loss': 1.039, 'gen_loss': 1.004, 'joint_cross_loss': 0.964, 'real_cross_loss': 0.987, 'cos_loss': 0.464}, val={'g_nll': 0.451, 'g_kl': 0.041, 'g_elbo': 0.492, 'x_rna_nll': 0.429, 'x_rna_kl': 0.008, 'x_rna_elbo': 0.437, 'x_atac_nll': 0.547, 'x_atac_kl': 0.004, 'x_atac_elbo': 0.551, 'dsc_loss': 0.689, 'vae_loss': 1.057, 'gen_loss': 1.022, 'joint_cross_loss': 0.982, 'real_cross_loss': 1.006, 'cos_loss': 0.459}, 4.1s elapsed\n",
      "[INFO] PairedSCGLUETrainer: [Epoch 150] train={'g_nll': 0.447, 'g_kl': 0.041, 'g_elbo': 0.488, 'x_rna_nll': 0.422, 'x_rna_kl': 0.008, 'x_rna_elbo': 0.431, 'x_atac_nll': 0.536, 'x_atac_kl': 0.004, 'x_atac_elbo': 0.54, 'dsc_loss': 0.692, 'vae_loss': 1.039, 'gen_loss': 1.004, 'joint_cross_loss': 0.963, 'real_cross_loss': 0.986, 'cos_loss': 0.464}, val={'g_nll': 0.448, 'g_kl': 0.041, 'g_elbo': 0.489, 'x_rna_nll': 0.429, 'x_rna_kl': 0.008, 'x_rna_elbo': 0.437, 'x_atac_nll': 0.548, 'x_atac_kl': 0.004, 'x_atac_elbo': 0.552, 'dsc_loss': 0.689, 'vae_loss': 1.057, 'gen_loss': 1.023, 'joint_cross_loss': 0.982, 'real_cross_loss': 1.005, 'cos_loss': 0.466}, 22.9s elapsed\n",
      "[INFO] PairedSCGLUETrainer: [Epoch 160] train={'g_nll': 0.446, 'g_kl': 0.041, 'g_elbo': 0.487, 'x_rna_nll': 0.423, 'x_rna_kl': 0.008, 'x_rna_elbo': 0.431, 'x_atac_nll': 0.536, 'x_atac_kl': 0.004, 'x_atac_elbo': 0.54, 'dsc_loss': 0.691, 'vae_loss': 1.039, 'gen_loss': 1.004, 'joint_cross_loss': 0.964, 'real_cross_loss': 0.987, 'cos_loss': 0.464}, val={'g_nll': 0.446, 'g_kl': 0.041, 'g_elbo': 0.486, 'x_rna_nll': 0.428, 'x_rna_kl': 0.008, 'x_rna_elbo': 0.437, 'x_atac_nll': 0.547, 'x_atac_kl': 0.004, 'x_atac_elbo': 0.551, 'dsc_loss': 0.688, 'vae_loss': 1.056, 'gen_loss': 1.021, 'joint_cross_loss': 0.98, 'real_cross_loss': 1.003, 'cos_loss': 0.464}, 4.2s elapsed\n",
      "Epoch 00161: reducing learning rate of group 0 to 2.0000e-05.\n",
      "Epoch 00161: reducing learning rate of group 0 to 2.0000e-05.\n",
      "[INFO] LRScheduler: Learning rate reduction: step 2\n",
      "[INFO] PairedSCGLUETrainer: [Epoch 170] train={'g_nll': 0.446, 'g_kl': 0.041, 'g_elbo': 0.487, 'x_rna_nll': 0.422, 'x_rna_kl': 0.008, 'x_rna_elbo': 0.431, 'x_atac_nll': 0.536, 'x_atac_kl': 0.004, 'x_atac_elbo': 0.54, 'dsc_loss': 0.691, 'vae_loss': 1.039, 'gen_loss': 1.004, 'joint_cross_loss': 0.964, 'real_cross_loss': 0.986, 'cos_loss': 0.462}, val={'g_nll': 0.444, 'g_kl': 0.041, 'g_elbo': 0.485, 'x_rna_nll': 0.428, 'x_rna_kl': 0.008, 'x_rna_elbo': 0.436, 'x_atac_nll': 0.547, 'x_atac_kl': 0.004, 'x_atac_elbo': 0.551, 'dsc_loss': 0.689, 'vae_loss': 1.056, 'gen_loss': 1.021, 'joint_cross_loss': 0.981, 'real_cross_loss': 1.004, 'cos_loss': 0.464}, 5.9s elapsed\n",
      "[INFO] PairedSCGLUETrainer: [Epoch 180] train={'g_nll': 0.446, 'g_kl': 0.041, 'g_elbo': 0.487, 'x_rna_nll': 0.422, 'x_rna_kl': 0.008, 'x_rna_elbo': 0.431, 'x_atac_nll': 0.536, 'x_atac_kl': 0.004, 'x_atac_elbo': 0.54, 'dsc_loss': 0.692, 'vae_loss': 1.038, 'gen_loss': 1.004, 'joint_cross_loss': 0.963, 'real_cross_loss': 0.986, 'cos_loss': 0.463}, val={'g_nll': 0.45, 'g_kl': 0.041, 'g_elbo': 0.49, 'x_rna_nll': 0.428, 'x_rna_kl': 0.008, 'x_rna_elbo': 0.436, 'x_atac_nll': 0.547, 'x_atac_kl': 0.004, 'x_atac_elbo': 0.551, 'dsc_loss': 0.69, 'vae_loss': 1.055, 'gen_loss': 1.021, 'joint_cross_loss': 0.98, 'real_cross_loss': 1.002, 'cos_loss': 0.469}, 4.2s elapsed\n"
     ]
    },
    {
     "name": "stderr",
     "output_type": "stream",
     "text": [
      "2023-05-05 20:11:56,055 ignite.handlers.early_stopping.EarlyStopping INFO: EarlyStopping: Stop training\n"
     ]
    },
    {
     "name": "stdout",
     "output_type": "stream",
     "text": [
      "[INFO] EarlyStopping: Restoring checkpoint \"165\"...\n",
      "[INFO] EarlyStopping: Restoring checkpoint \"165\"...\n"
     ]
    },
    {
     "name": "stderr",
     "output_type": "stream",
     "text": [
      "/dss/dsshome1/01/di93bur/miniconda3/envs/scglue_env_2/lib/python3.9/multiprocessing/popen_fork.py:66: ResourceWarning: unclosed socket <zmq.Socket(zmq.PUSH) at 0x7f3dd8395b20>\n",
      "  self.pid = os.fork()\n",
      "ResourceWarning: Enable tracemalloc to get the object allocation traceback\n"
     ]
    },
    {
     "name": "stdout",
     "output_type": "stream",
     "text": [
      "[INFO] fit_SCGLUE: Estimating balancing weight...\n",
      "[INFO] estimate_balancing_weight: Clustering cells...\n",
      "[INFO] estimate_balancing_weight: Matching clusters...\n",
      "[INFO] estimate_balancing_weight: Matching array shape = (15, 16)...\n",
      "[INFO] estimate_balancing_weight: Estimating balancing weight...\n",
      "[INFO] fit_SCGLUE: Fine-tuning SCGLUE model...\n"
     ]
    },
    {
     "name": "stderr",
     "output_type": "stream",
     "text": [
      "/dss/dsshome1/01/di93bur/miniconda3/envs/scglue_env_2/lib/python3.9/site-packages/anndata/_core/anndata.py:117: ImplicitModificationWarning: Transforming to str index.\n",
      "  warnings.warn(\"Transforming to str index.\", ImplicitModificationWarning)\n",
      "/dss/dsshome1/01/di93bur/miniconda3/envs/scglue_env_2/lib/python3.9/site-packages/anndata/_core/anndata.py:117: ImplicitModificationWarning: Transforming to str index.\n",
      "  warnings.warn(\"Transforming to str index.\", ImplicitModificationWarning)\n",
      "[WARNING] PairedSCGLUEModel: It is recommended that `use_rep` dimensionality be equal or larger than `latent_dim`.\n"
     ]
    },
    {
     "name": "stdout",
     "output_type": "stream",
     "text": [
      "[INFO] check_graph: Checking variable coverage...\n",
      "[INFO] check_graph: Checking edge attributes...\n",
      "[INFO] check_graph: Checking self-loops...\n",
      "[INFO] check_graph: Checking graph symmetry...\n",
      "[INFO] PairedSCGLUEModel: Setting `graph_batch_size` = 3033\n",
      "[INFO] PairedSCGLUEModel: Setting `align_burnin` = 94\n",
      "[INFO] PairedSCGLUEModel: Setting `max_epochs` = 559\n",
      "[INFO] PairedSCGLUEModel: Setting `patience` = 47\n",
      "[INFO] PairedSCGLUEModel: Setting `reduce_lr_patience` = 24\n",
      "[INFO] PairedSCGLUETrainer: Using training directory: \"glue/fine-tune\"\n",
      "[INFO] PairedSCGLUETrainer: [Epoch 10] train={'g_nll': 0.447, 'g_kl': 0.04, 'g_elbo': 0.487, 'x_rna_nll': 0.425, 'x_rna_kl': 0.008, 'x_rna_elbo': 0.433, 'x_atac_nll': 0.539, 'x_atac_kl': 0.004, 'x_atac_elbo': 0.543, 'dsc_loss': 0.692, 'vae_loss': 1.044, 'gen_loss': 1.009, 'joint_cross_loss': 0.969, 'real_cross_loss': 0.992, 'cos_loss': 0.464}, val={'g_nll': 0.445, 'g_kl': 0.04, 'g_elbo': 0.485, 'x_rna_nll': 0.422, 'x_rna_kl': 0.008, 'x_rna_elbo': 0.431, 'x_atac_nll': 0.525, 'x_atac_kl': 0.003, 'x_atac_elbo': 0.529, 'dsc_loss': 0.677, 'vae_loss': 1.027, 'gen_loss': 0.993, 'joint_cross_loss': 0.952, 'real_cross_loss': 0.974, 'cos_loss': 0.468}, 4.5s elapsed\n",
      "[INFO] PairedSCGLUETrainer: [Epoch 20] train={'g_nll': 0.445, 'g_kl': 0.04, 'g_elbo': 0.484, 'x_rna_nll': 0.425, 'x_rna_kl': 0.008, 'x_rna_elbo': 0.433, 'x_atac_nll': 0.539, 'x_atac_kl': 0.004, 'x_atac_elbo': 0.543, 'dsc_loss': 0.692, 'vae_loss': 1.043, 'gen_loss': 1.009, 'joint_cross_loss': 0.968, 'real_cross_loss': 0.991, 'cos_loss': 0.464}, val={'g_nll': 0.442, 'g_kl': 0.04, 'g_elbo': 0.482, 'x_rna_nll': 0.42, 'x_rna_kl': 0.008, 'x_rna_elbo': 0.428, 'x_atac_nll': 0.523, 'x_atac_kl': 0.003, 'x_atac_elbo': 0.527, 'dsc_loss': 0.676, 'vae_loss': 1.022, 'gen_loss': 0.988, 'joint_cross_loss': 0.949, 'real_cross_loss': 0.971, 'cos_loss': 0.469}, 4.1s elapsed\n",
      "[INFO] PairedSCGLUETrainer: [Epoch 30] train={'g_nll': 0.443, 'g_kl': 0.039, 'g_elbo': 0.482, 'x_rna_nll': 0.425, 'x_rna_kl': 0.008, 'x_rna_elbo': 0.433, 'x_atac_nll': 0.539, 'x_atac_kl': 0.004, 'x_atac_elbo': 0.543, 'dsc_loss': 0.694, 'vae_loss': 1.043, 'gen_loss': 1.008, 'joint_cross_loss': 0.968, 'real_cross_loss': 0.992, 'cos_loss': 0.461}, val={'g_nll': 0.441, 'g_kl': 0.039, 'g_elbo': 0.48, 'x_rna_nll': 0.422, 'x_rna_kl': 0.008, 'x_rna_elbo': 0.43, 'x_atac_nll': 0.523, 'x_atac_kl': 0.004, 'x_atac_elbo': 0.526, 'dsc_loss': 0.672, 'vae_loss': 1.024, 'gen_loss': 0.99, 'joint_cross_loss': 0.95, 'real_cross_loss': 0.973, 'cos_loss': 0.462}, 4.0s elapsed\n",
      "[INFO] PairedSCGLUETrainer: [Epoch 40] train={'g_nll': 0.442, 'g_kl': 0.039, 'g_elbo': 0.48, 'x_rna_nll': 0.424, 'x_rna_kl': 0.008, 'x_rna_elbo': 0.433, 'x_atac_nll': 0.539, 'x_atac_kl': 0.004, 'x_atac_elbo': 0.543, 'dsc_loss': 0.692, 'vae_loss': 1.043, 'gen_loss': 1.008, 'joint_cross_loss': 0.968, 'real_cross_loss': 0.991, 'cos_loss': 0.461}, val={'g_nll': 0.442, 'g_kl': 0.039, 'g_elbo': 0.481, 'x_rna_nll': 0.422, 'x_rna_kl': 0.008, 'x_rna_elbo': 0.43, 'x_atac_nll': 0.523, 'x_atac_kl': 0.004, 'x_atac_elbo': 0.527, 'dsc_loss': 0.68, 'vae_loss': 1.024, 'gen_loss': 0.99, 'joint_cross_loss': 0.951, 'real_cross_loss': 0.972, 'cos_loss': 0.461}, 9.0s elapsed\n",
      "[INFO] PairedSCGLUETrainer: [Epoch 50] train={'g_nll': 0.44, 'g_kl': 0.038, 'g_elbo': 0.479, 'x_rna_nll': 0.424, 'x_rna_kl': 0.008, 'x_rna_elbo': 0.433, 'x_atac_nll': 0.539, 'x_atac_kl': 0.004, 'x_atac_elbo': 0.543, 'dsc_loss': 0.692, 'vae_loss': 1.043, 'gen_loss': 1.008, 'joint_cross_loss': 0.968, 'real_cross_loss': 0.991, 'cos_loss': 0.46}, val={'g_nll': 0.441, 'g_kl': 0.038, 'g_elbo': 0.479, 'x_rna_nll': 0.422, 'x_rna_kl': 0.008, 'x_rna_elbo': 0.43, 'x_atac_nll': 0.522, 'x_atac_kl': 0.003, 'x_atac_elbo': 0.526, 'dsc_loss': 0.674, 'vae_loss': 1.023, 'gen_loss': 0.989, 'joint_cross_loss': 0.95, 'real_cross_loss': 0.972, 'cos_loss': 0.468}, 4.1s elapsed\n",
      "[INFO] PairedSCGLUETrainer: [Epoch 60] train={'g_nll': 0.438, 'g_kl': 0.038, 'g_elbo': 0.476, 'x_rna_nll': 0.424, 'x_rna_kl': 0.008, 'x_rna_elbo': 0.432, 'x_atac_nll': 0.539, 'x_atac_kl': 0.004, 'x_atac_elbo': 0.543, 'dsc_loss': 0.692, 'vae_loss': 1.042, 'gen_loss': 1.008, 'joint_cross_loss': 0.968, 'real_cross_loss': 0.991, 'cos_loss': 0.459}, val={'g_nll': 0.438, 'g_kl': 0.038, 'g_elbo': 0.476, 'x_rna_nll': 0.422, 'x_rna_kl': 0.008, 'x_rna_elbo': 0.429, 'x_atac_nll': 0.525, 'x_atac_kl': 0.004, 'x_atac_elbo': 0.528, 'dsc_loss': 0.676, 'vae_loss': 1.025, 'gen_loss': 0.991, 'joint_cross_loss': 0.951, 'real_cross_loss': 0.974, 'cos_loss': 0.47}, 4.2s elapsed\n",
      "[INFO] PairedSCGLUETrainer: [Epoch 70] train={'g_nll': 0.439, 'g_kl': 0.038, 'g_elbo': 0.476, 'x_rna_nll': 0.424, 'x_rna_kl': 0.008, 'x_rna_elbo': 0.432, 'x_atac_nll': 0.539, 'x_atac_kl': 0.004, 'x_atac_elbo': 0.543, 'dsc_loss': 0.691, 'vae_loss': 1.042, 'gen_loss': 1.008, 'joint_cross_loss': 0.968, 'real_cross_loss': 0.991, 'cos_loss': 0.46}, val={'g_nll': 0.439, 'g_kl': 0.038, 'g_elbo': 0.477, 'x_rna_nll': 0.423, 'x_rna_kl': 0.008, 'x_rna_elbo': 0.431, 'x_atac_nll': 0.524, 'x_atac_kl': 0.004, 'x_atac_elbo': 0.527, 'dsc_loss': 0.677, 'vae_loss': 1.024, 'gen_loss': 0.991, 'joint_cross_loss': 0.951, 'real_cross_loss': 0.972, 'cos_loss': 0.456}, 4.2s elapsed\n",
      "[INFO] PairedSCGLUETrainer: [Epoch 80] train={'g_nll': 0.438, 'g_kl': 0.037, 'g_elbo': 0.476, 'x_rna_nll': 0.424, 'x_rna_kl': 0.008, 'x_rna_elbo': 0.432, 'x_atac_nll': 0.539, 'x_atac_kl': 0.004, 'x_atac_elbo': 0.543, 'dsc_loss': 0.69, 'vae_loss': 1.042, 'gen_loss': 1.008, 'joint_cross_loss': 0.968, 'real_cross_loss': 0.991, 'cos_loss': 0.46}, val={'g_nll': 0.438, 'g_kl': 0.037, 'g_elbo': 0.475, 'x_rna_nll': 0.423, 'x_rna_kl': 0.008, 'x_rna_elbo': 0.431, 'x_atac_nll': 0.526, 'x_atac_kl': 0.003, 'x_atac_elbo': 0.529, 'dsc_loss': 0.676, 'vae_loss': 1.027, 'gen_loss': 0.993, 'joint_cross_loss': 0.954, 'real_cross_loss': 0.976, 'cos_loss': 0.461}, 4.1s elapsed\n",
      "[INFO] PairedSCGLUETrainer: [Epoch 90] train={'g_nll': 0.436, 'g_kl': 0.037, 'g_elbo': 0.474, 'x_rna_nll': 0.424, 'x_rna_kl': 0.008, 'x_rna_elbo': 0.432, 'x_atac_nll': 0.539, 'x_atac_kl': 0.004, 'x_atac_elbo': 0.543, 'dsc_loss': 0.688, 'vae_loss': 1.042, 'gen_loss': 1.008, 'joint_cross_loss': 0.968, 'real_cross_loss': 0.991, 'cos_loss': 0.458}, val={'g_nll': 0.437, 'g_kl': 0.037, 'g_elbo': 0.474, 'x_rna_nll': 0.422, 'x_rna_kl': 0.008, 'x_rna_elbo': 0.43, 'x_atac_nll': 0.524, 'x_atac_kl': 0.003, 'x_atac_elbo': 0.528, 'dsc_loss': 0.678, 'vae_loss': 1.025, 'gen_loss': 0.991, 'joint_cross_loss': 0.951, 'real_cross_loss': 0.972, 'cos_loss': 0.463}, 30.3s elapsed\n",
      "[INFO] PairedSCGLUETrainer: [Epoch 100] train={'g_nll': 0.436, 'g_kl': 0.037, 'g_elbo': 0.473, 'x_rna_nll': 0.424, 'x_rna_kl': 0.008, 'x_rna_elbo': 0.432, 'x_atac_nll': 0.539, 'x_atac_kl': 0.004, 'x_atac_elbo': 0.543, 'dsc_loss': 0.689, 'vae_loss': 1.042, 'gen_loss': 1.007, 'joint_cross_loss': 0.968, 'real_cross_loss': 0.99, 'cos_loss': 0.459}, val={'g_nll': 0.44, 'g_kl': 0.037, 'g_elbo': 0.476, 'x_rna_nll': 0.423, 'x_rna_kl': 0.008, 'x_rna_elbo': 0.431, 'x_atac_nll': 0.523, 'x_atac_kl': 0.003, 'x_atac_elbo': 0.527, 'dsc_loss': 0.673, 'vae_loss': 1.024, 'gen_loss': 0.99, 'joint_cross_loss': 0.951, 'real_cross_loss': 0.973, 'cos_loss': 0.459}, 11.0s elapsed\n",
      "[INFO] PairedSCGLUETrainer: [Epoch 110] train={'g_nll': 0.436, 'g_kl': 0.037, 'g_elbo': 0.472, 'x_rna_nll': 0.424, 'x_rna_kl': 0.008, 'x_rna_elbo': 0.432, 'x_atac_nll': 0.539, 'x_atac_kl': 0.004, 'x_atac_elbo': 0.542, 'dsc_loss': 0.689, 'vae_loss': 1.042, 'gen_loss': 1.007, 'joint_cross_loss': 0.968, 'real_cross_loss': 0.99, 'cos_loss': 0.459}, val={'g_nll': 0.435, 'g_kl': 0.037, 'g_elbo': 0.472, 'x_rna_nll': 0.422, 'x_rna_kl': 0.008, 'x_rna_elbo': 0.43, 'x_atac_nll': 0.525, 'x_atac_kl': 0.003, 'x_atac_elbo': 0.528, 'dsc_loss': 0.675, 'vae_loss': 1.025, 'gen_loss': 0.991, 'joint_cross_loss': 0.952, 'real_cross_loss': 0.973, 'cos_loss': 0.471}, 26.9s elapsed\n",
      "[INFO] PairedSCGLUETrainer: [Epoch 120] train={'g_nll': 0.437, 'g_kl': 0.036, 'g_elbo': 0.473, 'x_rna_nll': 0.424, 'x_rna_kl': 0.008, 'x_rna_elbo': 0.432, 'x_atac_nll': 0.539, 'x_atac_kl': 0.004, 'x_atac_elbo': 0.542, 'dsc_loss': 0.689, 'vae_loss': 1.042, 'gen_loss': 1.007, 'joint_cross_loss': 0.968, 'real_cross_loss': 0.99, 'cos_loss': 0.46}, val={'g_nll': 0.433, 'g_kl': 0.036, 'g_elbo': 0.469, 'x_rna_nll': 0.422, 'x_rna_kl': 0.008, 'x_rna_elbo': 0.43, 'x_atac_nll': 0.523, 'x_atac_kl': 0.003, 'x_atac_elbo': 0.527, 'dsc_loss': 0.675, 'vae_loss': 1.023, 'gen_loss': 0.989, 'joint_cross_loss': 0.95, 'real_cross_loss': 0.971, 'cos_loss': 0.461}, 4.1s elapsed\n",
      "Epoch 00120: reducing learning rate of group 0 to 2.0000e-04.\n",
      "Epoch 00120: reducing learning rate of group 0 to 2.0000e-04.\n",
      "[INFO] LRScheduler: Learning rate reduction: step 1\n",
      "[INFO] PairedSCGLUETrainer: [Epoch 130] train={'g_nll': 0.435, 'g_kl': 0.036, 'g_elbo': 0.471, 'x_rna_nll': 0.423, 'x_rna_kl': 0.008, 'x_rna_elbo': 0.431, 'x_atac_nll': 0.539, 'x_atac_kl': 0.004, 'x_atac_elbo': 0.542, 'dsc_loss': 0.691, 'vae_loss': 1.04, 'gen_loss': 1.006, 'joint_cross_loss': 0.967, 'real_cross_loss': 0.989, 'cos_loss': 0.458}, val={'g_nll': 0.431, 'g_kl': 0.036, 'g_elbo': 0.468, 'x_rna_nll': 0.423, 'x_rna_kl': 0.008, 'x_rna_elbo': 0.43, 'x_atac_nll': 0.525, 'x_atac_kl': 0.003, 'x_atac_elbo': 0.528, 'dsc_loss': 0.675, 'vae_loss': 1.025, 'gen_loss': 0.991, 'joint_cross_loss': 0.953, 'real_cross_loss': 0.973, 'cos_loss': 0.458}, 4.0s elapsed\n",
      "[INFO] PairedSCGLUETrainer: [Epoch 140] train={'g_nll': 0.434, 'g_kl': 0.036, 'g_elbo': 0.47, 'x_rna_nll': 0.423, 'x_rna_kl': 0.008, 'x_rna_elbo': 0.431, 'x_atac_nll': 0.539, 'x_atac_kl': 0.004, 'x_atac_elbo': 0.542, 'dsc_loss': 0.692, 'vae_loss': 1.04, 'gen_loss': 1.006, 'joint_cross_loss': 0.967, 'real_cross_loss': 0.989, 'cos_loss': 0.458}, val={'g_nll': 0.435, 'g_kl': 0.036, 'g_elbo': 0.471, 'x_rna_nll': 0.422, 'x_rna_kl': 0.008, 'x_rna_elbo': 0.43, 'x_atac_nll': 0.525, 'x_atac_kl': 0.003, 'x_atac_elbo': 0.529, 'dsc_loss': 0.674, 'vae_loss': 1.025, 'gen_loss': 0.991, 'joint_cross_loss': 0.952, 'real_cross_loss': 0.973, 'cos_loss': 0.461}, 4.1s elapsed\n",
      "Epoch 00145: reducing learning rate of group 0 to 2.0000e-05.\n",
      "Epoch 00145: reducing learning rate of group 0 to 2.0000e-05.\n",
      "[INFO] LRScheduler: Learning rate reduction: step 2\n",
      "[INFO] PairedSCGLUETrainer: [Epoch 150] train={'g_nll': 0.434, 'g_kl': 0.036, 'g_elbo': 0.47, 'x_rna_nll': 0.423, 'x_rna_kl': 0.008, 'x_rna_elbo': 0.431, 'x_atac_nll': 0.539, 'x_atac_kl': 0.004, 'x_atac_elbo': 0.542, 'dsc_loss': 0.691, 'vae_loss': 1.04, 'gen_loss': 1.006, 'joint_cross_loss': 0.967, 'real_cross_loss': 0.989, 'cos_loss': 0.459}, val={'g_nll': 0.438, 'g_kl': 0.036, 'g_elbo': 0.474, 'x_rna_nll': 0.421, 'x_rna_kl': 0.008, 'x_rna_elbo': 0.429, 'x_atac_nll': 0.522, 'x_atac_kl': 0.003, 'x_atac_elbo': 0.525, 'dsc_loss': 0.673, 'vae_loss': 1.021, 'gen_loss': 0.987, 'joint_cross_loss': 0.948, 'real_cross_loss': 0.969, 'cos_loss': 0.461}, 27.1s elapsed\n",
      "[INFO] PairedSCGLUETrainer: [Epoch 160] train={'g_nll': 0.434, 'g_kl': 0.036, 'g_elbo': 0.47, 'x_rna_nll': 0.423, 'x_rna_kl': 0.008, 'x_rna_elbo': 0.431, 'x_atac_nll': 0.539, 'x_atac_kl': 0.004, 'x_atac_elbo': 0.542, 'dsc_loss': 0.692, 'vae_loss': 1.04, 'gen_loss': 1.005, 'joint_cross_loss': 0.966, 'real_cross_loss': 0.989, 'cos_loss': 0.456}, val={'g_nll': 0.433, 'g_kl': 0.036, 'g_elbo': 0.469, 'x_rna_nll': 0.422, 'x_rna_kl': 0.008, 'x_rna_elbo': 0.43, 'x_atac_nll': 0.526, 'x_atac_kl': 0.003, 'x_atac_elbo': 0.53, 'dsc_loss': 0.672, 'vae_loss': 1.026, 'gen_loss': 0.992, 'joint_cross_loss': 0.953, 'real_cross_loss': 0.974, 'cos_loss': 0.462}, 4.0s elapsed\n",
      "[INFO] PairedSCGLUETrainer: [Epoch 170] train={'g_nll': 0.434, 'g_kl': 0.036, 'g_elbo': 0.47, 'x_rna_nll': 0.423, 'x_rna_kl': 0.008, 'x_rna_elbo': 0.431, 'x_atac_nll': 0.539, 'x_atac_kl': 0.004, 'x_atac_elbo': 0.542, 'dsc_loss': 0.693, 'vae_loss': 1.04, 'gen_loss': 1.005, 'joint_cross_loss': 0.967, 'real_cross_loss': 0.989, 'cos_loss': 0.459}, val={'g_nll': 0.431, 'g_kl': 0.036, 'g_elbo': 0.468, 'x_rna_nll': 0.422, 'x_rna_kl': 0.008, 'x_rna_elbo': 0.429, 'x_atac_nll': 0.523, 'x_atac_kl': 0.003, 'x_atac_elbo': 0.526, 'dsc_loss': 0.671, 'vae_loss': 1.022, 'gen_loss': 0.988, 'joint_cross_loss': 0.949, 'real_cross_loss': 0.97, 'cos_loss': 0.466}, 21.3s elapsed\n",
      "[INFO] PairedSCGLUETrainer: [Epoch 180] train={'g_nll': 0.434, 'g_kl': 0.036, 'g_elbo': 0.47, 'x_rna_nll': 0.423, 'x_rna_kl': 0.008, 'x_rna_elbo': 0.431, 'x_atac_nll': 0.539, 'x_atac_kl': 0.004, 'x_atac_elbo': 0.542, 'dsc_loss': 0.693, 'vae_loss': 1.04, 'gen_loss': 1.005, 'joint_cross_loss': 0.966, 'real_cross_loss': 0.989, 'cos_loss': 0.458}, val={'g_nll': 0.438, 'g_kl': 0.036, 'g_elbo': 0.474, 'x_rna_nll': 0.422, 'x_rna_kl': 0.008, 'x_rna_elbo': 0.43, 'x_atac_nll': 0.523, 'x_atac_kl': 0.003, 'x_atac_elbo': 0.527, 'dsc_loss': 0.675, 'vae_loss': 1.023, 'gen_loss': 0.989, 'joint_cross_loss': 0.95, 'real_cross_loss': 0.971, 'cos_loss': 0.462}, 4.2s elapsed\n",
      "[INFO] PairedSCGLUETrainer: [Epoch 190] train={'g_nll': 0.435, 'g_kl': 0.036, 'g_elbo': 0.471, 'x_rna_nll': 0.423, 'x_rna_kl': 0.008, 'x_rna_elbo': 0.431, 'x_atac_nll': 0.539, 'x_atac_kl': 0.004, 'x_atac_elbo': 0.542, 'dsc_loss': 0.692, 'vae_loss': 1.04, 'gen_loss': 1.005, 'joint_cross_loss': 0.967, 'real_cross_loss': 0.989, 'cos_loss': 0.457}, val={'g_nll': 0.432, 'g_kl': 0.036, 'g_elbo': 0.468, 'x_rna_nll': 0.421, 'x_rna_kl': 0.008, 'x_rna_elbo': 0.429, 'x_atac_nll': 0.525, 'x_atac_kl': 0.003, 'x_atac_elbo': 0.528, 'dsc_loss': 0.672, 'vae_loss': 1.023, 'gen_loss': 0.99, 'joint_cross_loss': 0.951, 'real_cross_loss': 0.972, 'cos_loss': 0.463}, 4.0s elapsed\n",
      "Epoch 00191: reducing learning rate of group 0 to 2.0000e-06.\n",
      "Epoch 00191: reducing learning rate of group 0 to 2.0000e-06.\n",
      "[INFO] LRScheduler: Learning rate reduction: step 3\n",
      "[INFO] PairedSCGLUETrainer: [Epoch 200] train={'g_nll': 0.433, 'g_kl': 0.036, 'g_elbo': 0.469, 'x_rna_nll': 0.423, 'x_rna_kl': 0.008, 'x_rna_elbo': 0.431, 'x_atac_nll': 0.539, 'x_atac_kl': 0.004, 'x_atac_elbo': 0.542, 'dsc_loss': 0.693, 'vae_loss': 1.04, 'gen_loss': 1.005, 'joint_cross_loss': 0.967, 'real_cross_loss': 0.989, 'cos_loss': 0.457}, val={'g_nll': 0.435, 'g_kl': 0.036, 'g_elbo': 0.471, 'x_rna_nll': 0.423, 'x_rna_kl': 0.008, 'x_rna_elbo': 0.431, 'x_atac_nll': 0.525, 'x_atac_kl': 0.003, 'x_atac_elbo': 0.528, 'dsc_loss': 0.673, 'vae_loss': 1.026, 'gen_loss': 0.993, 'joint_cross_loss': 0.954, 'real_cross_loss': 0.976, 'cos_loss': 0.459}, 7.0s elapsed\n",
      "[INFO] PairedSCGLUETrainer: [Epoch 210] train={'g_nll': 0.434, 'g_kl': 0.036, 'g_elbo': 0.47, 'x_rna_nll': 0.423, 'x_rna_kl': 0.008, 'x_rna_elbo': 0.431, 'x_atac_nll': 0.539, 'x_atac_kl': 0.004, 'x_atac_elbo': 0.542, 'dsc_loss': 0.692, 'vae_loss': 1.04, 'gen_loss': 1.005, 'joint_cross_loss': 0.967, 'real_cross_loss': 0.989, 'cos_loss': 0.457}, val={'g_nll': 0.435, 'g_kl': 0.036, 'g_elbo': 0.471, 'x_rna_nll': 0.421, 'x_rna_kl': 0.008, 'x_rna_elbo': 0.429, 'x_atac_nll': 0.522, 'x_atac_kl': 0.003, 'x_atac_elbo': 0.526, 'dsc_loss': 0.672, 'vae_loss': 1.022, 'gen_loss': 0.988, 'joint_cross_loss': 0.949, 'real_cross_loss': 0.97, 'cos_loss': 0.463}, 4.5s elapsed\n",
      "[INFO] PairedSCGLUETrainer: [Epoch 220] train={'g_nll': 0.434, 'g_kl': 0.036, 'g_elbo': 0.47, 'x_rna_nll': 0.423, 'x_rna_kl': 0.008, 'x_rna_elbo': 0.431, 'x_atac_nll': 0.539, 'x_atac_kl': 0.004, 'x_atac_elbo': 0.542, 'dsc_loss': 0.692, 'vae_loss': 1.04, 'gen_loss': 1.006, 'joint_cross_loss': 0.967, 'real_cross_loss': 0.989, 'cos_loss': 0.457}, val={'g_nll': 0.433, 'g_kl': 0.036, 'g_elbo': 0.469, 'x_rna_nll': 0.421, 'x_rna_kl': 0.008, 'x_rna_elbo': 0.429, 'x_atac_nll': 0.524, 'x_atac_kl': 0.003, 'x_atac_elbo': 0.527, 'dsc_loss': 0.672, 'vae_loss': 1.023, 'gen_loss': 0.989, 'joint_cross_loss': 0.95, 'real_cross_loss': 0.972, 'cos_loss': 0.457}, 4.1s elapsed\n",
      "[INFO] PairedSCGLUETrainer: [Epoch 230] train={'g_nll': 0.434, 'g_kl': 0.036, 'g_elbo': 0.471, 'x_rna_nll': 0.423, 'x_rna_kl': 0.008, 'x_rna_elbo': 0.431, 'x_atac_nll': 0.539, 'x_atac_kl': 0.004, 'x_atac_elbo': 0.542, 'dsc_loss': 0.691, 'vae_loss': 1.04, 'gen_loss': 1.006, 'joint_cross_loss': 0.967, 'real_cross_loss': 0.989, 'cos_loss': 0.457}, val={'g_nll': 0.434, 'g_kl': 0.036, 'g_elbo': 0.47, 'x_rna_nll': 0.422, 'x_rna_kl': 0.008, 'x_rna_elbo': 0.43, 'x_atac_nll': 0.524, 'x_atac_kl': 0.003, 'x_atac_elbo': 0.527, 'dsc_loss': 0.672, 'vae_loss': 1.024, 'gen_loss': 0.99, 'joint_cross_loss': 0.951, 'real_cross_loss': 0.972, 'cos_loss': 0.458}, 18.4s elapsed\n",
      "Epoch 00231: reducing learning rate of group 0 to 2.0000e-07.\n",
      "Epoch 00231: reducing learning rate of group 0 to 2.0000e-07.\n",
      "[INFO] LRScheduler: Learning rate reduction: step 4\n",
      "[INFO] PairedSCGLUETrainer: [Epoch 240] train={'g_nll': 0.433, 'g_kl': 0.036, 'g_elbo': 0.469, 'x_rna_nll': 0.423, 'x_rna_kl': 0.008, 'x_rna_elbo': 0.431, 'x_atac_nll': 0.539, 'x_atac_kl': 0.004, 'x_atac_elbo': 0.542, 'dsc_loss': 0.692, 'vae_loss': 1.04, 'gen_loss': 1.005, 'joint_cross_loss': 0.967, 'real_cross_loss': 0.989, 'cos_loss': 0.459}, val={'g_nll': 0.435, 'g_kl': 0.036, 'g_elbo': 0.472, 'x_rna_nll': 0.422, 'x_rna_kl': 0.008, 'x_rna_elbo': 0.429, 'x_atac_nll': 0.523, 'x_atac_kl': 0.003, 'x_atac_elbo': 0.526, 'dsc_loss': 0.673, 'vae_loss': 1.023, 'gen_loss': 0.989, 'joint_cross_loss': 0.95, 'real_cross_loss': 0.97, 'cos_loss': 0.465}, 4.3s elapsed\n",
      "[INFO] PairedSCGLUETrainer: [Epoch 250] train={'g_nll': 0.434, 'g_kl': 0.036, 'g_elbo': 0.471, 'x_rna_nll': 0.423, 'x_rna_kl': 0.008, 'x_rna_elbo': 0.431, 'x_atac_nll': 0.539, 'x_atac_kl': 0.004, 'x_atac_elbo': 0.542, 'dsc_loss': 0.692, 'vae_loss': 1.04, 'gen_loss': 1.005, 'joint_cross_loss': 0.966, 'real_cross_loss': 0.989, 'cos_loss': 0.456}, val={'g_nll': 0.431, 'g_kl': 0.036, 'g_elbo': 0.467, 'x_rna_nll': 0.422, 'x_rna_kl': 0.008, 'x_rna_elbo': 0.43, 'x_atac_nll': 0.524, 'x_atac_kl': 0.003, 'x_atac_elbo': 0.528, 'dsc_loss': 0.673, 'vae_loss': 1.024, 'gen_loss': 0.99, 'joint_cross_loss': 0.952, 'real_cross_loss': 0.974, 'cos_loss': 0.465}, 4.3s elapsed\n"
     ]
    },
    {
     "name": "stderr",
     "output_type": "stream",
     "text": [
      "2023-05-05 21:05:56,619 ignite.handlers.early_stopping.EarlyStopping INFO: EarlyStopping: Stop training\n"
     ]
    },
    {
     "name": "stdout",
     "output_type": "stream",
     "text": [
      "[INFO] EarlyStopping: Restoring checkpoint \"206\"...\n",
      "[INFO] EarlyStopping: Restoring checkpoint \"206\"...\n"
     ]
    },
    {
     "name": "stderr",
     "output_type": "stream",
     "text": [
      "/dss/dsshome1/01/di93bur/miniconda3/envs/scglue_env_2/lib/python3.9/multiprocessing/popen_fork.py:66: ResourceWarning: unclosed socket <zmq.Socket(zmq.PUSH) at 0x7f3dd8395b20>\n",
      "  self.pid = os.fork()\n",
      "ResourceWarning: Enable tracemalloc to get the object allocation traceback\n",
      "/tmp/ipykernel_413349/637290968.py:24: DeprecationWarning: Call to deprecated function (or staticmethod) opt_louvain.\n",
      "  scib.cl.opt_louvain(adata,label_key='cell_type',cluster_key='cluster_key',plot=False,inplace=True,force=True,verbose = False)\n",
      " 27%|██▋       | 3/11 [6:02:17<16:05:39, 7242.38s/it]"
     ]
    },
    {
     "name": "stdout",
     "output_type": "stream",
     "text": [
      "[INFO] fit_SCGLUE: Pretraining SCGLUE model...\n"
     ]
    },
    {
     "name": "stderr",
     "output_type": "stream",
     "text": [
      "[WARNING] PairedSCGLUEModel: It is recommended that `use_rep` dimensionality be equal or larger than `latent_dim`.\n"
     ]
    },
    {
     "name": "stdout",
     "output_type": "stream",
     "text": [
      "[INFO] check_graph: Checking variable coverage...\n",
      "[INFO] check_graph: Checking edge attributes...\n",
      "[INFO] check_graph: Checking self-loops...\n",
      "[INFO] check_graph: Checking graph symmetry...\n",
      "[INFO] PairedSCGLUEModel: Setting `graph_batch_size` = 2984\n",
      "[INFO] PairedSCGLUEModel: Setting `max_epochs` = 698\n",
      "[INFO] PairedSCGLUEModel: Setting `patience` = 59\n",
      "[INFO] PairedSCGLUEModel: Setting `reduce_lr_patience` = 30\n",
      "[INFO] PairedSCGLUETrainer: Using training directory: \"glue/pretrain\"\n",
      "[INFO] PairedSCGLUETrainer: [Epoch 10] train={'g_nll': 0.63, 'g_kl': 0.033, 'g_elbo': 0.664, 'x_rna_nll': 0.511, 'x_rna_kl': 0.013, 'x_rna_elbo': 0.524, 'x_atac_nll': 0.558, 'x_atac_kl': 0.008, 'x_atac_elbo': 0.566, 'dsc_loss': 0.683, 'vae_loss': 1.167, 'gen_loss': 1.133, 'joint_cross_loss': 1.067, 'real_cross_loss': 1.082, 'cos_loss': 0.364}, val={'g_nll': 0.634, 'g_kl': 0.034, 'g_elbo': 0.668, 'x_rna_nll': 0.511, 'x_rna_kl': 0.012, 'x_rna_elbo': 0.523, 'x_atac_nll': 0.556, 'x_atac_kl': 0.007, 'x_atac_elbo': 0.563, 'dsc_loss': 0.687, 'vae_loss': 1.162, 'gen_loss': 1.128, 'joint_cross_loss': 1.067, 'real_cross_loss': 1.08, 'cos_loss': 0.346}, 3.1s elapsed\n",
      "[INFO] PairedSCGLUETrainer: [Epoch 20] train={'g_nll': 0.62, 'g_kl': 0.047, 'g_elbo': 0.666, 'x_rna_nll': 0.496, 'x_rna_kl': 0.007, 'x_rna_elbo': 0.503, 'x_atac_nll': 0.542, 'x_atac_kl': 0.004, 'x_atac_elbo': 0.546, 'dsc_loss': 0.686, 'vae_loss': 1.127, 'gen_loss': 1.093, 'joint_cross_loss': 1.04, 'real_cross_loss': 1.055, 'cos_loss': 0.47}, val={'g_nll': 0.613, 'g_kl': 0.047, 'g_elbo': 0.66, 'x_rna_nll': 0.501, 'x_rna_kl': 0.007, 'x_rna_elbo': 0.508, 'x_atac_nll': 0.541, 'x_atac_kl': 0.003, 'x_atac_elbo': 0.545, 'dsc_loss': 0.687, 'vae_loss': 1.131, 'gen_loss': 1.096, 'joint_cross_loss': 1.044, 'real_cross_loss': 1.058, 'cos_loss': 0.476}, 9.5s elapsed\n",
      "[INFO] PairedSCGLUETrainer: [Epoch 30] train={'g_nll': 0.566, 'g_kl': 0.05, 'g_elbo': 0.615, 'x_rna_nll': 0.492, 'x_rna_kl': 0.007, 'x_rna_elbo': 0.498, 'x_atac_nll': 0.536, 'x_atac_kl': 0.003, 'x_atac_elbo': 0.539, 'dsc_loss': 0.687, 'vae_loss': 1.113, 'gen_loss': 1.079, 'joint_cross_loss': 1.03, 'real_cross_loss': 1.046, 'cos_loss': 0.507}, val={'g_nll': 0.558, 'g_kl': 0.05, 'g_elbo': 0.607, 'x_rna_nll': 0.494, 'x_rna_kl': 0.006, 'x_rna_elbo': 0.501, 'x_atac_nll': 0.536, 'x_atac_kl': 0.003, 'x_atac_elbo': 0.539, 'dsc_loss': 0.688, 'vae_loss': 1.116, 'gen_loss': 1.081, 'joint_cross_loss': 1.033, 'real_cross_loss': 1.049, 'cos_loss': 0.51}, 3.3s elapsed\n",
      "[INFO] PairedSCGLUETrainer: [Epoch 40] train={'g_nll': 0.518, 'g_kl': 0.048, 'g_elbo': 0.566, 'x_rna_nll': 0.489, 'x_rna_kl': 0.007, 'x_rna_elbo': 0.496, 'x_atac_nll': 0.535, 'x_atac_kl': 0.003, 'x_atac_elbo': 0.538, 'dsc_loss': 0.688, 'vae_loss': 1.108, 'gen_loss': 1.074, 'joint_cross_loss': 1.027, 'real_cross_loss': 1.044, 'cos_loss': 0.518}, val={'g_nll': 0.517, 'g_kl': 0.048, 'g_elbo': 0.565, 'x_rna_nll': 0.492, 'x_rna_kl': 0.007, 'x_rna_elbo': 0.499, 'x_atac_nll': 0.533, 'x_atac_kl': 0.003, 'x_atac_elbo': 0.536, 'dsc_loss': 0.692, 'vae_loss': 1.109, 'gen_loss': 1.075, 'joint_cross_loss': 1.028, 'real_cross_loss': 1.046, 'cos_loss': 0.509}, 3.2s elapsed\n",
      "[INFO] PairedSCGLUETrainer: [Epoch 50] train={'g_nll': 0.495, 'g_kl': 0.047, 'g_elbo': 0.542, 'x_rna_nll': 0.488, 'x_rna_kl': 0.007, 'x_rna_elbo': 0.495, 'x_atac_nll': 0.534, 'x_atac_kl': 0.003, 'x_atac_elbo': 0.537, 'dsc_loss': 0.689, 'vae_loss': 1.106, 'gen_loss': 1.071, 'joint_cross_loss': 1.025, 'real_cross_loss': 1.043, 'cos_loss': 0.516}, val={'g_nll': 0.491, 'g_kl': 0.047, 'g_elbo': 0.538, 'x_rna_nll': 0.492, 'x_rna_kl': 0.007, 'x_rna_elbo': 0.499, 'x_atac_nll': 0.534, 'x_atac_kl': 0.003, 'x_atac_elbo': 0.537, 'dsc_loss': 0.687, 'vae_loss': 1.109, 'gen_loss': 1.075, 'joint_cross_loss': 1.03, 'real_cross_loss': 1.048, 'cos_loss': 0.517}, 3.4s elapsed\n",
      "[INFO] PairedSCGLUETrainer: [Epoch 60] train={'g_nll': 0.481, 'g_kl': 0.045, 'g_elbo': 0.526, 'x_rna_nll': 0.487, 'x_rna_kl': 0.007, 'x_rna_elbo': 0.494, 'x_atac_nll': 0.535, 'x_atac_kl': 0.003, 'x_atac_elbo': 0.538, 'dsc_loss': 0.69, 'vae_loss': 1.104, 'gen_loss': 1.07, 'joint_cross_loss': 1.025, 'real_cross_loss': 1.043, 'cos_loss': 0.511}, val={'g_nll': 0.482, 'g_kl': 0.045, 'g_elbo': 0.527, 'x_rna_nll': 0.491, 'x_rna_kl': 0.007, 'x_rna_elbo': 0.498, 'x_atac_nll': 0.533, 'x_atac_kl': 0.003, 'x_atac_elbo': 0.536, 'dsc_loss': 0.69, 'vae_loss': 1.107, 'gen_loss': 1.073, 'joint_cross_loss': 1.027, 'real_cross_loss': 1.048, 'cos_loss': 0.501}, 8.7s elapsed\n",
      "[INFO] PairedSCGLUETrainer: [Epoch 70] train={'g_nll': 0.471, 'g_kl': 0.044, 'g_elbo': 0.515, 'x_rna_nll': 0.487, 'x_rna_kl': 0.007, 'x_rna_elbo': 0.494, 'x_atac_nll': 0.533, 'x_atac_kl': 0.003, 'x_atac_elbo': 0.536, 'dsc_loss': 0.691, 'vae_loss': 1.102, 'gen_loss': 1.067, 'joint_cross_loss': 1.023, 'real_cross_loss': 1.042, 'cos_loss': 0.51}, val={'g_nll': 0.471, 'g_kl': 0.044, 'g_elbo': 0.516, 'x_rna_nll': 0.49, 'x_rna_kl': 0.007, 'x_rna_elbo': 0.497, 'x_atac_nll': 0.532, 'x_atac_kl': 0.003, 'x_atac_elbo': 0.535, 'dsc_loss': 0.691, 'vae_loss': 1.104, 'gen_loss': 1.07, 'joint_cross_loss': 1.026, 'real_cross_loss': 1.046, 'cos_loss': 0.514}, 3.1s elapsed\n",
      "[INFO] PairedSCGLUETrainer: [Epoch 80] train={'g_nll': 0.467, 'g_kl': 0.043, 'g_elbo': 0.511, 'x_rna_nll': 0.486, 'x_rna_kl': 0.007, 'x_rna_elbo': 0.493, 'x_atac_nll': 0.533, 'x_atac_kl': 0.003, 'x_atac_elbo': 0.536, 'dsc_loss': 0.691, 'vae_loss': 1.101, 'gen_loss': 1.067, 'joint_cross_loss': 1.023, 'real_cross_loss': 1.043, 'cos_loss': 0.505}, val={'g_nll': 0.465, 'g_kl': 0.043, 'g_elbo': 0.508, 'x_rna_nll': 0.49, 'x_rna_kl': 0.007, 'x_rna_elbo': 0.497, 'x_atac_nll': 0.532, 'x_atac_kl': 0.003, 'x_atac_elbo': 0.535, 'dsc_loss': 0.69, 'vae_loss': 1.103, 'gen_loss': 1.069, 'joint_cross_loss': 1.026, 'real_cross_loss': 1.046, 'cos_loss': 0.504}, 3.3s elapsed\n",
      "[INFO] PairedSCGLUETrainer: [Epoch 90] train={'g_nll': 0.46, 'g_kl': 0.042, 'g_elbo': 0.503, 'x_rna_nll': 0.486, 'x_rna_kl': 0.007, 'x_rna_elbo': 0.493, 'x_atac_nll': 0.534, 'x_atac_kl': 0.003, 'x_atac_elbo': 0.536, 'dsc_loss': 0.691, 'vae_loss': 1.101, 'gen_loss': 1.067, 'joint_cross_loss': 1.024, 'real_cross_loss': 1.043, 'cos_loss': 0.505}, val={'g_nll': 0.457, 'g_kl': 0.042, 'g_elbo': 0.499, 'x_rna_nll': 0.492, 'x_rna_kl': 0.007, 'x_rna_elbo': 0.499, 'x_atac_nll': 0.533, 'x_atac_kl': 0.003, 'x_atac_elbo': 0.536, 'dsc_loss': 0.69, 'vae_loss': 1.106, 'gen_loss': 1.072, 'joint_cross_loss': 1.029, 'real_cross_loss': 1.048, 'cos_loss': 0.508}, 3.4s elapsed\n",
      "[INFO] PairedSCGLUETrainer: [Epoch 100] train={'g_nll': 0.456, 'g_kl': 0.041, 'g_elbo': 0.498, 'x_rna_nll': 0.486, 'x_rna_kl': 0.007, 'x_rna_elbo': 0.494, 'x_atac_nll': 0.534, 'x_atac_kl': 0.003, 'x_atac_elbo': 0.537, 'dsc_loss': 0.691, 'vae_loss': 1.102, 'gen_loss': 1.067, 'joint_cross_loss': 1.025, 'real_cross_loss': 1.045, 'cos_loss': 0.503}, val={'g_nll': 0.447, 'g_kl': 0.041, 'g_elbo': 0.489, 'x_rna_nll': 0.491, 'x_rna_kl': 0.007, 'x_rna_elbo': 0.498, 'x_atac_nll': 0.533, 'x_atac_kl': 0.003, 'x_atac_elbo': 0.536, 'dsc_loss': 0.692, 'vae_loss': 1.106, 'gen_loss': 1.071, 'joint_cross_loss': 1.029, 'real_cross_loss': 1.048, 'cos_loss': 0.499}, 3.2s elapsed\n",
      "[INFO] PairedSCGLUETrainer: [Epoch 110] train={'g_nll': 0.452, 'g_kl': 0.04, 'g_elbo': 0.492, 'x_rna_nll': 0.485, 'x_rna_kl': 0.007, 'x_rna_elbo': 0.492, 'x_atac_nll': 0.533, 'x_atac_kl': 0.003, 'x_atac_elbo': 0.535, 'dsc_loss': 0.692, 'vae_loss': 1.099, 'gen_loss': 1.064, 'joint_cross_loss': 1.022, 'real_cross_loss': 1.043, 'cos_loss': 0.5}, val={'g_nll': 0.449, 'g_kl': 0.04, 'g_elbo': 0.49, 'x_rna_nll': 0.49, 'x_rna_kl': 0.007, 'x_rna_elbo': 0.497, 'x_atac_nll': 0.533, 'x_atac_kl': 0.003, 'x_atac_elbo': 0.535, 'dsc_loss': 0.693, 'vae_loss': 1.104, 'gen_loss': 1.069, 'joint_cross_loss': 1.028, 'real_cross_loss': 1.048, 'cos_loss': 0.496}, 3.2s elapsed\n",
      "Epoch 00113: reducing learning rate of group 0 to 2.0000e-04.\n",
      "Epoch 00113: reducing learning rate of group 0 to 2.0000e-04.\n",
      "[INFO] LRScheduler: Learning rate reduction: step 1\n",
      "[INFO] PairedSCGLUETrainer: [Epoch 120] train={'g_nll': 0.448, 'g_kl': 0.04, 'g_elbo': 0.488, 'x_rna_nll': 0.485, 'x_rna_kl': 0.007, 'x_rna_elbo': 0.492, 'x_atac_nll': 0.533, 'x_atac_kl': 0.003, 'x_atac_elbo': 0.536, 'dsc_loss': 0.69, 'vae_loss': 1.099, 'gen_loss': 1.064, 'joint_cross_loss': 1.023, 'real_cross_loss': 1.043, 'cos_loss': 0.496}, val={'g_nll': 0.446, 'g_kl': 0.04, 'g_elbo': 0.486, 'x_rna_nll': 0.49, 'x_rna_kl': 0.007, 'x_rna_elbo': 0.497, 'x_atac_nll': 0.531, 'x_atac_kl': 0.003, 'x_atac_elbo': 0.534, 'dsc_loss': 0.689, 'vae_loss': 1.102, 'gen_loss': 1.067, 'joint_cross_loss': 1.026, 'real_cross_loss': 1.046, 'cos_loss': 0.499}, 3.2s elapsed\n",
      "[INFO] PairedSCGLUETrainer: [Epoch 130] train={'g_nll': 0.45, 'g_kl': 0.04, 'g_elbo': 0.49, 'x_rna_nll': 0.485, 'x_rna_kl': 0.007, 'x_rna_elbo': 0.492, 'x_atac_nll': 0.534, 'x_atac_kl': 0.003, 'x_atac_elbo': 0.536, 'dsc_loss': 0.691, 'vae_loss': 1.099, 'gen_loss': 1.065, 'joint_cross_loss': 1.023, 'real_cross_loss': 1.043, 'cos_loss': 0.496}, val={'g_nll': 0.448, 'g_kl': 0.04, 'g_elbo': 0.488, 'x_rna_nll': 0.491, 'x_rna_kl': 0.007, 'x_rna_elbo': 0.498, 'x_atac_nll': 0.532, 'x_atac_kl': 0.003, 'x_atac_elbo': 0.534, 'dsc_loss': 0.691, 'vae_loss': 1.103, 'gen_loss': 1.068, 'joint_cross_loss': 1.027, 'real_cross_loss': 1.048, 'cos_loss': 0.5}, 4.7s elapsed\n",
      "[INFO] PairedSCGLUETrainer: [Epoch 140] train={'g_nll': 0.447, 'g_kl': 0.04, 'g_elbo': 0.486, 'x_rna_nll': 0.484, 'x_rna_kl': 0.007, 'x_rna_elbo': 0.491, 'x_atac_nll': 0.533, 'x_atac_kl': 0.003, 'x_atac_elbo': 0.536, 'dsc_loss': 0.69, 'vae_loss': 1.097, 'gen_loss': 1.063, 'joint_cross_loss': 1.021, 'real_cross_loss': 1.041, 'cos_loss': 0.496}, val={'g_nll': 0.448, 'g_kl': 0.04, 'g_elbo': 0.488, 'x_rna_nll': 0.491, 'x_rna_kl': 0.007, 'x_rna_elbo': 0.498, 'x_atac_nll': 0.533, 'x_atac_kl': 0.003, 'x_atac_elbo': 0.536, 'dsc_loss': 0.691, 'vae_loss': 1.104, 'gen_loss': 1.07, 'joint_cross_loss': 1.029, 'real_cross_loss': 1.049, 'cos_loss': 0.496}, 3.3s elapsed\n",
      "[INFO] PairedSCGLUETrainer: [Epoch 150] train={'g_nll': 0.448, 'g_kl': 0.04, 'g_elbo': 0.488, 'x_rna_nll': 0.485, 'x_rna_kl': 0.007, 'x_rna_elbo': 0.492, 'x_atac_nll': 0.534, 'x_atac_kl': 0.003, 'x_atac_elbo': 0.537, 'dsc_loss': 0.692, 'vae_loss': 1.1, 'gen_loss': 1.065, 'joint_cross_loss': 1.024, 'real_cross_loss': 1.044, 'cos_loss': 0.496}, val={'g_nll': 0.448, 'g_kl': 0.04, 'g_elbo': 0.488, 'x_rna_nll': 0.49, 'x_rna_kl': 0.007, 'x_rna_elbo': 0.497, 'x_atac_nll': 0.533, 'x_atac_kl': 0.003, 'x_atac_elbo': 0.536, 'dsc_loss': 0.688, 'vae_loss': 1.104, 'gen_loss': 1.069, 'joint_cross_loss': 1.027, 'real_cross_loss': 1.047, 'cos_loss': 0.503}, 10.4s elapsed\n",
      "[INFO] PairedSCGLUETrainer: [Epoch 160] train={'g_nll': 0.447, 'g_kl': 0.04, 'g_elbo': 0.487, 'x_rna_nll': 0.485, 'x_rna_kl': 0.007, 'x_rna_elbo': 0.492, 'x_atac_nll': 0.534, 'x_atac_kl': 0.003, 'x_atac_elbo': 0.537, 'dsc_loss': 0.692, 'vae_loss': 1.099, 'gen_loss': 1.064, 'joint_cross_loss': 1.023, 'real_cross_loss': 1.043, 'cos_loss': 0.494}, val={'g_nll': 0.445, 'g_kl': 0.04, 'g_elbo': 0.485, 'x_rna_nll': 0.489, 'x_rna_kl': 0.007, 'x_rna_elbo': 0.496, 'x_atac_nll': 0.531, 'x_atac_kl': 0.003, 'x_atac_elbo': 0.534, 'dsc_loss': 0.691, 'vae_loss': 1.1, 'gen_loss': 1.066, 'joint_cross_loss': 1.025, 'real_cross_loss': 1.045, 'cos_loss': 0.499}, 30.9s elapsed\n",
      "Epoch 00164: reducing learning rate of group 0 to 2.0000e-05.\n",
      "Epoch 00164: reducing learning rate of group 0 to 2.0000e-05.\n",
      "[INFO] LRScheduler: Learning rate reduction: step 2\n",
      "[INFO] PairedSCGLUETrainer: [Epoch 170] train={'g_nll': 0.447, 'g_kl': 0.04, 'g_elbo': 0.487, 'x_rna_nll': 0.485, 'x_rna_kl': 0.007, 'x_rna_elbo': 0.492, 'x_atac_nll': 0.533, 'x_atac_kl': 0.003, 'x_atac_elbo': 0.536, 'dsc_loss': 0.69, 'vae_loss': 1.099, 'gen_loss': 1.064, 'joint_cross_loss': 1.022, 'real_cross_loss': 1.043, 'cos_loss': 0.497}, val={'g_nll': 0.448, 'g_kl': 0.04, 'g_elbo': 0.487, 'x_rna_nll': 0.49, 'x_rna_kl': 0.007, 'x_rna_elbo': 0.497, 'x_atac_nll': 0.532, 'x_atac_kl': 0.003, 'x_atac_elbo': 0.535, 'dsc_loss': 0.692, 'vae_loss': 1.103, 'gen_loss': 1.068, 'joint_cross_loss': 1.027, 'real_cross_loss': 1.047, 'cos_loss': 0.493}, 23.3s elapsed\n",
      "[INFO] PairedSCGLUETrainer: [Epoch 180] train={'g_nll': 0.446, 'g_kl': 0.04, 'g_elbo': 0.486, 'x_rna_nll': 0.485, 'x_rna_kl': 0.007, 'x_rna_elbo': 0.492, 'x_atac_nll': 0.533, 'x_atac_kl': 0.003, 'x_atac_elbo': 0.536, 'dsc_loss': 0.691, 'vae_loss': 1.098, 'gen_loss': 1.064, 'joint_cross_loss': 1.022, 'real_cross_loss': 1.042, 'cos_loss': 0.495}, val={'g_nll': 0.447, 'g_kl': 0.04, 'g_elbo': 0.487, 'x_rna_nll': 0.489, 'x_rna_kl': 0.007, 'x_rna_elbo': 0.496, 'x_atac_nll': 0.533, 'x_atac_kl': 0.003, 'x_atac_elbo': 0.535, 'dsc_loss': 0.687, 'vae_loss': 1.103, 'gen_loss': 1.068, 'joint_cross_loss': 1.027, 'real_cross_loss': 1.047, 'cos_loss': 0.498}, 3.2s elapsed\n",
      "[INFO] PairedSCGLUETrainer: [Epoch 190] train={'g_nll': 0.448, 'g_kl': 0.04, 'g_elbo': 0.487, 'x_rna_nll': 0.485, 'x_rna_kl': 0.007, 'x_rna_elbo': 0.492, 'x_atac_nll': 0.533, 'x_atac_kl': 0.003, 'x_atac_elbo': 0.536, 'dsc_loss': 0.69, 'vae_loss': 1.098, 'gen_loss': 1.064, 'joint_cross_loss': 1.022, 'real_cross_loss': 1.042, 'cos_loss': 0.494}, val={'g_nll': 0.447, 'g_kl': 0.04, 'g_elbo': 0.487, 'x_rna_nll': 0.49, 'x_rna_kl': 0.007, 'x_rna_elbo': 0.497, 'x_atac_nll': 0.53, 'x_atac_kl': 0.003, 'x_atac_elbo': 0.533, 'dsc_loss': 0.689, 'vae_loss': 1.1, 'gen_loss': 1.066, 'joint_cross_loss': 1.025, 'real_cross_loss': 1.045, 'cos_loss': 0.495}, 3.2s elapsed\n"
     ]
    },
    {
     "name": "stderr",
     "output_type": "stream",
     "text": [
      "2023-05-05 21:47:19,254 ignite.handlers.early_stopping.EarlyStopping INFO: EarlyStopping: Stop training\n"
     ]
    },
    {
     "name": "stdout",
     "output_type": "stream",
     "text": [
      "[INFO] EarlyStopping: Restoring checkpoint \"160\"...\n",
      "[INFO] EarlyStopping: Restoring checkpoint \"160\"...\n"
     ]
    },
    {
     "name": "stderr",
     "output_type": "stream",
     "text": [
      "/dss/dsshome1/01/di93bur/miniconda3/envs/scglue_env_2/lib/python3.9/multiprocessing/popen_fork.py:66: ResourceWarning: unclosed socket <zmq.Socket(zmq.PUSH) at 0x7f3dd8395b20>\n",
      "  self.pid = os.fork()\n",
      "ResourceWarning: Enable tracemalloc to get the object allocation traceback\n"
     ]
    },
    {
     "name": "stdout",
     "output_type": "stream",
     "text": [
      "[INFO] fit_SCGLUE: Estimating balancing weight...\n",
      "[INFO] estimate_balancing_weight: Clustering cells...\n",
      "[INFO] estimate_balancing_weight: Matching clusters...\n",
      "[INFO] estimate_balancing_weight: Matching array shape = (13, 14)...\n",
      "[INFO] estimate_balancing_weight: Estimating balancing weight...\n",
      "[INFO] fit_SCGLUE: Fine-tuning SCGLUE model...\n"
     ]
    },
    {
     "name": "stderr",
     "output_type": "stream",
     "text": [
      "/dss/dsshome1/01/di93bur/miniconda3/envs/scglue_env_2/lib/python3.9/site-packages/anndata/_core/anndata.py:117: ImplicitModificationWarning: Transforming to str index.\n",
      "  warnings.warn(\"Transforming to str index.\", ImplicitModificationWarning)\n",
      "/dss/dsshome1/01/di93bur/miniconda3/envs/scglue_env_2/lib/python3.9/site-packages/anndata/_core/anndata.py:117: ImplicitModificationWarning: Transforming to str index.\n",
      "  warnings.warn(\"Transforming to str index.\", ImplicitModificationWarning)\n",
      "[WARNING] PairedSCGLUEModel: It is recommended that `use_rep` dimensionality be equal or larger than `latent_dim`.\n"
     ]
    },
    {
     "name": "stdout",
     "output_type": "stream",
     "text": [
      "[INFO] check_graph: Checking variable coverage...\n",
      "[INFO] check_graph: Checking edge attributes...\n",
      "[INFO] check_graph: Checking self-loops...\n",
      "[INFO] check_graph: Checking graph symmetry...\n",
      "[INFO] PairedSCGLUEModel: Setting `graph_batch_size` = 2984\n",
      "[INFO] PairedSCGLUEModel: Setting `align_burnin` = 117\n",
      "[INFO] PairedSCGLUEModel: Setting `max_epochs` = 698\n",
      "[INFO] PairedSCGLUEModel: Setting `patience` = 59\n",
      "[INFO] PairedSCGLUEModel: Setting `reduce_lr_patience` = 30\n",
      "[INFO] PairedSCGLUETrainer: Using training directory: \"glue/fine-tune\"\n",
      "[INFO] PairedSCGLUETrainer: [Epoch 10] train={'g_nll': 0.444, 'g_kl': 0.039, 'g_elbo': 0.483, 'x_rna_nll': 0.486, 'x_rna_kl': 0.007, 'x_rna_elbo': 0.493, 'x_atac_nll': 0.533, 'x_atac_kl': 0.003, 'x_atac_elbo': 0.535, 'dsc_loss': 0.69, 'vae_loss': 1.099, 'gen_loss': 1.065, 'joint_cross_loss': 1.024, 'real_cross_loss': 1.045, 'cos_loss': 0.495}, val={'g_nll': 0.442, 'g_kl': 0.039, 'g_elbo': 0.48, 'x_rna_nll': 0.489, 'x_rna_kl': 0.007, 'x_rna_elbo': 0.495, 'x_atac_nll': 0.533, 'x_atac_kl': 0.003, 'x_atac_elbo': 0.535, 'dsc_loss': 0.697, 'vae_loss': 1.101, 'gen_loss': 1.067, 'joint_cross_loss': 1.026, 'real_cross_loss': 1.045, 'cos_loss': 0.496}, 3.4s elapsed\n",
      "[INFO] PairedSCGLUETrainer: [Epoch 20] train={'g_nll': 0.443, 'g_kl': 0.038, 'g_elbo': 0.481, 'x_rna_nll': 0.485, 'x_rna_kl': 0.007, 'x_rna_elbo': 0.492, 'x_atac_nll': 0.532, 'x_atac_kl': 0.003, 'x_atac_elbo': 0.535, 'dsc_loss': 0.691, 'vae_loss': 1.097, 'gen_loss': 1.063, 'joint_cross_loss': 1.022, 'real_cross_loss': 1.042, 'cos_loss': 0.494}, val={'g_nll': 0.447, 'g_kl': 0.038, 'g_elbo': 0.485, 'x_rna_nll': 0.49, 'x_rna_kl': 0.007, 'x_rna_elbo': 0.496, 'x_atac_nll': 0.537, 'x_atac_kl': 0.003, 'x_atac_elbo': 0.539, 'dsc_loss': 0.7, 'vae_loss': 1.107, 'gen_loss': 1.072, 'joint_cross_loss': 1.031, 'real_cross_loss': 1.053, 'cos_loss': 0.494}, 26.8s elapsed\n",
      "[INFO] PairedSCGLUETrainer: [Epoch 30] train={'g_nll': 0.443, 'g_kl': 0.037, 'g_elbo': 0.481, 'x_rna_nll': 0.486, 'x_rna_kl': 0.007, 'x_rna_elbo': 0.493, 'x_atac_nll': 0.533, 'x_atac_kl': 0.003, 'x_atac_elbo': 0.536, 'dsc_loss': 0.692, 'vae_loss': 1.099, 'gen_loss': 1.065, 'joint_cross_loss': 1.024, 'real_cross_loss': 1.044, 'cos_loss': 0.495}, val={'g_nll': 0.444, 'g_kl': 0.037, 'g_elbo': 0.481, 'x_rna_nll': 0.489, 'x_rna_kl': 0.007, 'x_rna_elbo': 0.496, 'x_atac_nll': 0.534, 'x_atac_kl': 0.003, 'x_atac_elbo': 0.537, 'dsc_loss': 0.699, 'vae_loss': 1.103, 'gen_loss': 1.068, 'joint_cross_loss': 1.028, 'real_cross_loss': 1.048, 'cos_loss': 0.494}, 43.3s elapsed\n",
      "[INFO] PairedSCGLUETrainer: [Epoch 40] train={'g_nll': 0.441, 'g_kl': 0.037, 'g_elbo': 0.478, 'x_rna_nll': 0.486, 'x_rna_kl': 0.007, 'x_rna_elbo': 0.493, 'x_atac_nll': 0.533, 'x_atac_kl': 0.003, 'x_atac_elbo': 0.536, 'dsc_loss': 0.691, 'vae_loss': 1.099, 'gen_loss': 1.064, 'joint_cross_loss': 1.024, 'real_cross_loss': 1.044, 'cos_loss': 0.493}, val={'g_nll': 0.44, 'g_kl': 0.037, 'g_elbo': 0.477, 'x_rna_nll': 0.489, 'x_rna_kl': 0.007, 'x_rna_elbo': 0.496, 'x_atac_nll': 0.533, 'x_atac_kl': 0.003, 'x_atac_elbo': 0.536, 'dsc_loss': 0.7, 'vae_loss': 1.102, 'gen_loss': 1.067, 'joint_cross_loss': 1.027, 'real_cross_loss': 1.046, 'cos_loss': 0.494}, 3.4s elapsed\n",
      "[INFO] PairedSCGLUETrainer: [Epoch 50] train={'g_nll': 0.44, 'g_kl': 0.036, 'g_elbo': 0.476, 'x_rna_nll': 0.485, 'x_rna_kl': 0.007, 'x_rna_elbo': 0.492, 'x_atac_nll': 0.532, 'x_atac_kl': 0.003, 'x_atac_elbo': 0.535, 'dsc_loss': 0.692, 'vae_loss': 1.097, 'gen_loss': 1.063, 'joint_cross_loss': 1.023, 'real_cross_loss': 1.043, 'cos_loss': 0.49}, val={'g_nll': 0.442, 'g_kl': 0.036, 'g_elbo': 0.478, 'x_rna_nll': 0.489, 'x_rna_kl': 0.007, 'x_rna_elbo': 0.495, 'x_atac_nll': 0.535, 'x_atac_kl': 0.003, 'x_atac_elbo': 0.537, 'dsc_loss': 0.699, 'vae_loss': 1.103, 'gen_loss': 1.068, 'joint_cross_loss': 1.028, 'real_cross_loss': 1.048, 'cos_loss': 0.497}, 9.6s elapsed\n",
      "[INFO] PairedSCGLUETrainer: [Epoch 60] train={'g_nll': 0.439, 'g_kl': 0.036, 'g_elbo': 0.475, 'x_rna_nll': 0.486, 'x_rna_kl': 0.007, 'x_rna_elbo': 0.493, 'x_atac_nll': 0.534, 'x_atac_kl': 0.003, 'x_atac_elbo': 0.537, 'dsc_loss': 0.692, 'vae_loss': 1.1, 'gen_loss': 1.065, 'joint_cross_loss': 1.025, 'real_cross_loss': 1.046, 'cos_loss': 0.493}, val={'g_nll': 0.44, 'g_kl': 0.036, 'g_elbo': 0.475, 'x_rna_nll': 0.489, 'x_rna_kl': 0.007, 'x_rna_elbo': 0.495, 'x_atac_nll': 0.535, 'x_atac_kl': 0.003, 'x_atac_elbo': 0.538, 'dsc_loss': 0.702, 'vae_loss': 1.104, 'gen_loss': 1.069, 'joint_cross_loss': 1.029, 'real_cross_loss': 1.05, 'cos_loss': 0.488}, 3.2s elapsed\n",
      "[INFO] PairedSCGLUETrainer: [Epoch 70] train={'g_nll': 0.439, 'g_kl': 0.035, 'g_elbo': 0.475, 'x_rna_nll': 0.486, 'x_rna_kl': 0.007, 'x_rna_elbo': 0.493, 'x_atac_nll': 0.533, 'x_atac_kl': 0.003, 'x_atac_elbo': 0.536, 'dsc_loss': 0.69, 'vae_loss': 1.099, 'gen_loss': 1.064, 'joint_cross_loss': 1.024, 'real_cross_loss': 1.045, 'cos_loss': 0.492}, val={'g_nll': 0.44, 'g_kl': 0.035, 'g_elbo': 0.475, 'x_rna_nll': 0.489, 'x_rna_kl': 0.007, 'x_rna_elbo': 0.496, 'x_atac_nll': 0.535, 'x_atac_kl': 0.003, 'x_atac_elbo': 0.538, 'dsc_loss': 0.699, 'vae_loss': 1.104, 'gen_loss': 1.069, 'joint_cross_loss': 1.029, 'real_cross_loss': 1.049, 'cos_loss': 0.482}, 8.5s elapsed\n",
      "[INFO] PairedSCGLUETrainer: [Epoch 80] train={'g_nll': 0.437, 'g_kl': 0.035, 'g_elbo': 0.472, 'x_rna_nll': 0.486, 'x_rna_kl': 0.007, 'x_rna_elbo': 0.492, 'x_atac_nll': 0.533, 'x_atac_kl': 0.003, 'x_atac_elbo': 0.535, 'dsc_loss': 0.691, 'vae_loss': 1.098, 'gen_loss': 1.063, 'joint_cross_loss': 1.023, 'real_cross_loss': 1.044, 'cos_loss': 0.492}, val={'g_nll': 0.436, 'g_kl': 0.035, 'g_elbo': 0.471, 'x_rna_nll': 0.489, 'x_rna_kl': 0.007, 'x_rna_elbo': 0.495, 'x_atac_nll': 0.533, 'x_atac_kl': 0.003, 'x_atac_elbo': 0.536, 'dsc_loss': 0.698, 'vae_loss': 1.102, 'gen_loss': 1.067, 'joint_cross_loss': 1.027, 'real_cross_loss': 1.047, 'cos_loss': 0.497}, 29.5s elapsed\n",
      "[INFO] PairedSCGLUETrainer: [Epoch 90] train={'g_nll': 0.435, 'g_kl': 0.034, 'g_elbo': 0.47, 'x_rna_nll': 0.486, 'x_rna_kl': 0.007, 'x_rna_elbo': 0.492, 'x_atac_nll': 0.533, 'x_atac_kl': 0.003, 'x_atac_elbo': 0.536, 'dsc_loss': 0.69, 'vae_loss': 1.098, 'gen_loss': 1.063, 'joint_cross_loss': 1.024, 'real_cross_loss': 1.044, 'cos_loss': 0.493}, val={'g_nll': 0.439, 'g_kl': 0.034, 'g_elbo': 0.473, 'x_rna_nll': 0.488, 'x_rna_kl': 0.006, 'x_rna_elbo': 0.495, 'x_atac_nll': 0.535, 'x_atac_kl': 0.003, 'x_atac_elbo': 0.537, 'dsc_loss': 0.7, 'vae_loss': 1.102, 'gen_loss': 1.067, 'joint_cross_loss': 1.028, 'real_cross_loss': 1.047, 'cos_loss': 0.492}, 10.8s elapsed\n",
      "[INFO] PairedSCGLUETrainer: [Epoch 100] train={'g_nll': 0.435, 'g_kl': 0.034, 'g_elbo': 0.469, 'x_rna_nll': 0.486, 'x_rna_kl': 0.006, 'x_rna_elbo': 0.492, 'x_atac_nll': 0.533, 'x_atac_kl': 0.003, 'x_atac_elbo': 0.535, 'dsc_loss': 0.689, 'vae_loss': 1.098, 'gen_loss': 1.063, 'joint_cross_loss': 1.023, 'real_cross_loss': 1.043, 'cos_loss': 0.493}, val={'g_nll': 0.431, 'g_kl': 0.034, 'g_elbo': 0.465, 'x_rna_nll': 0.489, 'x_rna_kl': 0.006, 'x_rna_elbo': 0.495, 'x_atac_nll': 0.535, 'x_atac_kl': 0.003, 'x_atac_elbo': 0.537, 'dsc_loss': 0.698, 'vae_loss': 1.102, 'gen_loss': 1.068, 'joint_cross_loss': 1.029, 'real_cross_loss': 1.048, 'cos_loss': 0.487}, 8.3s elapsed\n",
      "[INFO] PairedSCGLUETrainer: [Epoch 110] train={'g_nll': 0.434, 'g_kl': 0.034, 'g_elbo': 0.468, 'x_rna_nll': 0.486, 'x_rna_kl': 0.006, 'x_rna_elbo': 0.492, 'x_atac_nll': 0.533, 'x_atac_kl': 0.003, 'x_atac_elbo': 0.535, 'dsc_loss': 0.689, 'vae_loss': 1.098, 'gen_loss': 1.063, 'joint_cross_loss': 1.023, 'real_cross_loss': 1.044, 'cos_loss': 0.493}, val={'g_nll': 0.436, 'g_kl': 0.034, 'g_elbo': 0.47, 'x_rna_nll': 0.49, 'x_rna_kl': 0.006, 'x_rna_elbo': 0.496, 'x_atac_nll': 0.535, 'x_atac_kl': 0.002, 'x_atac_elbo': 0.537, 'dsc_loss': 0.698, 'vae_loss': 1.104, 'gen_loss': 1.069, 'joint_cross_loss': 1.029, 'real_cross_loss': 1.048, 'cos_loss': 0.493}, 8.7s elapsed\n",
      "[INFO] PairedSCGLUETrainer: [Epoch 120] train={'g_nll': 0.433, 'g_kl': 0.033, 'g_elbo': 0.466, 'x_rna_nll': 0.485, 'x_rna_kl': 0.006, 'x_rna_elbo': 0.492, 'x_atac_nll': 0.533, 'x_atac_kl': 0.003, 'x_atac_elbo': 0.536, 'dsc_loss': 0.689, 'vae_loss': 1.097, 'gen_loss': 1.062, 'joint_cross_loss': 1.023, 'real_cross_loss': 1.042, 'cos_loss': 0.492}, val={'g_nll': 0.432, 'g_kl': 0.033, 'g_elbo': 0.466, 'x_rna_nll': 0.488, 'x_rna_kl': 0.006, 'x_rna_elbo': 0.495, 'x_atac_nll': 0.536, 'x_atac_kl': 0.002, 'x_atac_elbo': 0.538, 'dsc_loss': 0.699, 'vae_loss': 1.103, 'gen_loss': 1.068, 'joint_cross_loss': 1.029, 'real_cross_loss': 1.049, 'cos_loss': 0.497}, 26.4s elapsed\n",
      "[INFO] PairedSCGLUETrainer: [Epoch 130] train={'g_nll': 0.431, 'g_kl': 0.033, 'g_elbo': 0.464, 'x_rna_nll': 0.486, 'x_rna_kl': 0.006, 'x_rna_elbo': 0.492, 'x_atac_nll': 0.533, 'x_atac_kl': 0.003, 'x_atac_elbo': 0.536, 'dsc_loss': 0.688, 'vae_loss': 1.098, 'gen_loss': 1.063, 'joint_cross_loss': 1.024, 'real_cross_loss': 1.043, 'cos_loss': 0.491}, val={'g_nll': 0.434, 'g_kl': 0.033, 'g_elbo': 0.467, 'x_rna_nll': 0.489, 'x_rna_kl': 0.006, 'x_rna_elbo': 0.495, 'x_atac_nll': 0.535, 'x_atac_kl': 0.002, 'x_atac_elbo': 0.538, 'dsc_loss': 0.696, 'vae_loss': 1.103, 'gen_loss': 1.069, 'joint_cross_loss': 1.029, 'real_cross_loss': 1.048, 'cos_loss': 0.503}, 3.1s elapsed\n",
      "[INFO] PairedSCGLUETrainer: [Epoch 140] train={'g_nll': 0.431, 'g_kl': 0.033, 'g_elbo': 0.464, 'x_rna_nll': 0.485, 'x_rna_kl': 0.006, 'x_rna_elbo': 0.491, 'x_atac_nll': 0.533, 'x_atac_kl': 0.003, 'x_atac_elbo': 0.535, 'dsc_loss': 0.689, 'vae_loss': 1.096, 'gen_loss': 1.062, 'joint_cross_loss': 1.022, 'real_cross_loss': 1.041, 'cos_loss': 0.493}, val={'g_nll': 0.427, 'g_kl': 0.033, 'g_elbo': 0.46, 'x_rna_nll': 0.489, 'x_rna_kl': 0.006, 'x_rna_elbo': 0.495, 'x_atac_nll': 0.535, 'x_atac_kl': 0.002, 'x_atac_elbo': 0.537, 'dsc_loss': 0.696, 'vae_loss': 1.102, 'gen_loss': 1.067, 'joint_cross_loss': 1.028, 'real_cross_loss': 1.048, 'cos_loss': 0.501}, 35.9s elapsed\n",
      "[INFO] PairedSCGLUETrainer: [Epoch 150] train={'g_nll': 0.431, 'g_kl': 0.033, 'g_elbo': 0.464, 'x_rna_nll': 0.486, 'x_rna_kl': 0.006, 'x_rna_elbo': 0.492, 'x_atac_nll': 0.533, 'x_atac_kl': 0.002, 'x_atac_elbo': 0.535, 'dsc_loss': 0.688, 'vae_loss': 1.097, 'gen_loss': 1.062, 'joint_cross_loss': 1.023, 'real_cross_loss': 1.042, 'cos_loss': 0.496}, val={'g_nll': 0.429, 'g_kl': 0.033, 'g_elbo': 0.462, 'x_rna_nll': 0.489, 'x_rna_kl': 0.006, 'x_rna_elbo': 0.495, 'x_atac_nll': 0.534, 'x_atac_kl': 0.002, 'x_atac_elbo': 0.537, 'dsc_loss': 0.695, 'vae_loss': 1.102, 'gen_loss': 1.067, 'joint_cross_loss': 1.028, 'real_cross_loss': 1.047, 'cos_loss': 0.505}, 9.8s elapsed\n",
      "Epoch 00157: reducing learning rate of group 0 to 2.0000e-04.\n",
      "Epoch 00157: reducing learning rate of group 0 to 2.0000e-04.\n",
      "[INFO] LRScheduler: Learning rate reduction: step 1\n",
      "[INFO] PairedSCGLUETrainer: [Epoch 160] train={'g_nll': 0.428, 'g_kl': 0.032, 'g_elbo': 0.46, 'x_rna_nll': 0.485, 'x_rna_kl': 0.006, 'x_rna_elbo': 0.491, 'x_atac_nll': 0.533, 'x_atac_kl': 0.002, 'x_atac_elbo': 0.535, 'dsc_loss': 0.691, 'vae_loss': 1.096, 'gen_loss': 1.061, 'joint_cross_loss': 1.022, 'real_cross_loss': 1.041, 'cos_loss': 0.493}, val={'g_nll': 0.43, 'g_kl': 0.032, 'g_elbo': 0.463, 'x_rna_nll': 0.488, 'x_rna_kl': 0.006, 'x_rna_elbo': 0.494, 'x_atac_nll': 0.534, 'x_atac_kl': 0.002, 'x_atac_elbo': 0.536, 'dsc_loss': 0.697, 'vae_loss': 1.1, 'gen_loss': 1.065, 'joint_cross_loss': 1.027, 'real_cross_loss': 1.045, 'cos_loss': 0.498}, 3.4s elapsed\n",
      "[INFO] PairedSCGLUETrainer: [Epoch 170] train={'g_nll': 0.428, 'g_kl': 0.032, 'g_elbo': 0.461, 'x_rna_nll': 0.484, 'x_rna_kl': 0.006, 'x_rna_elbo': 0.49, 'x_atac_nll': 0.533, 'x_atac_kl': 0.002, 'x_atac_elbo': 0.535, 'dsc_loss': 0.691, 'vae_loss': 1.095, 'gen_loss': 1.06, 'joint_cross_loss': 1.021, 'real_cross_loss': 1.04, 'cos_loss': 0.493}, val={'g_nll': 0.424, 'g_kl': 0.032, 'g_elbo': 0.457, 'x_rna_nll': 0.488, 'x_rna_kl': 0.006, 'x_rna_elbo': 0.494, 'x_atac_nll': 0.534, 'x_atac_kl': 0.002, 'x_atac_elbo': 0.536, 'dsc_loss': 0.699, 'vae_loss': 1.1, 'gen_loss': 1.065, 'joint_cross_loss': 1.027, 'real_cross_loss': 1.045, 'cos_loss': 0.494}, 23.4s elapsed\n",
      "[INFO] PairedSCGLUETrainer: [Epoch 180] train={'g_nll': 0.429, 'g_kl': 0.032, 'g_elbo': 0.461, 'x_rna_nll': 0.484, 'x_rna_kl': 0.006, 'x_rna_elbo': 0.49, 'x_atac_nll': 0.534, 'x_atac_kl': 0.002, 'x_atac_elbo': 0.536, 'dsc_loss': 0.69, 'vae_loss': 1.096, 'gen_loss': 1.062, 'joint_cross_loss': 1.023, 'real_cross_loss': 1.041, 'cos_loss': 0.492}, val={'g_nll': 0.426, 'g_kl': 0.032, 'g_elbo': 0.458, 'x_rna_nll': 0.488, 'x_rna_kl': 0.006, 'x_rna_elbo': 0.494, 'x_atac_nll': 0.535, 'x_atac_kl': 0.002, 'x_atac_elbo': 0.537, 'dsc_loss': 0.695, 'vae_loss': 1.101, 'gen_loss': 1.066, 'joint_cross_loss': 1.028, 'real_cross_loss': 1.045, 'cos_loss': 0.5}, 34.9s elapsed\n",
      "[INFO] PairedSCGLUETrainer: [Epoch 190] train={'g_nll': 0.429, 'g_kl': 0.032, 'g_elbo': 0.461, 'x_rna_nll': 0.484, 'x_rna_kl': 0.006, 'x_rna_elbo': 0.49, 'x_atac_nll': 0.533, 'x_atac_kl': 0.002, 'x_atac_elbo': 0.535, 'dsc_loss': 0.69, 'vae_loss': 1.095, 'gen_loss': 1.061, 'joint_cross_loss': 1.022, 'real_cross_loss': 1.04, 'cos_loss': 0.495}, val={'g_nll': 0.428, 'g_kl': 0.032, 'g_elbo': 0.46, 'x_rna_nll': 0.488, 'x_rna_kl': 0.006, 'x_rna_elbo': 0.494, 'x_atac_nll': 0.535, 'x_atac_kl': 0.002, 'x_atac_elbo': 0.537, 'dsc_loss': 0.696, 'vae_loss': 1.101, 'gen_loss': 1.066, 'joint_cross_loss': 1.027, 'real_cross_loss': 1.045, 'cos_loss': 0.497}, 3.2s elapsed\n",
      "Epoch 00192: reducing learning rate of group 0 to 2.0000e-05.\n",
      "Epoch 00192: reducing learning rate of group 0 to 2.0000e-05.\n",
      "[INFO] LRScheduler: Learning rate reduction: step 2\n",
      "[INFO] PairedSCGLUETrainer: [Epoch 200] train={'g_nll': 0.428, 'g_kl': 0.032, 'g_elbo': 0.46, 'x_rna_nll': 0.484, 'x_rna_kl': 0.006, 'x_rna_elbo': 0.49, 'x_atac_nll': 0.532, 'x_atac_kl': 0.002, 'x_atac_elbo': 0.535, 'dsc_loss': 0.691, 'vae_loss': 1.094, 'gen_loss': 1.06, 'joint_cross_loss': 1.021, 'real_cross_loss': 1.039, 'cos_loss': 0.494}, val={'g_nll': 0.432, 'g_kl': 0.032, 'g_elbo': 0.464, 'x_rna_nll': 0.488, 'x_rna_kl': 0.006, 'x_rna_elbo': 0.495, 'x_atac_nll': 0.535, 'x_atac_kl': 0.002, 'x_atac_elbo': 0.538, 'dsc_loss': 0.696, 'vae_loss': 1.102, 'gen_loss': 1.068, 'joint_cross_loss': 1.029, 'real_cross_loss': 1.047, 'cos_loss': 0.497}, 3.3s elapsed\n",
      "[INFO] PairedSCGLUETrainer: [Epoch 210] train={'g_nll': 0.427, 'g_kl': 0.032, 'g_elbo': 0.46, 'x_rna_nll': 0.484, 'x_rna_kl': 0.006, 'x_rna_elbo': 0.49, 'x_atac_nll': 0.533, 'x_atac_kl': 0.002, 'x_atac_elbo': 0.535, 'dsc_loss': 0.691, 'vae_loss': 1.095, 'gen_loss': 1.061, 'joint_cross_loss': 1.022, 'real_cross_loss': 1.041, 'cos_loss': 0.494}, val={'g_nll': 0.426, 'g_kl': 0.032, 'g_elbo': 0.458, 'x_rna_nll': 0.489, 'x_rna_kl': 0.006, 'x_rna_elbo': 0.495, 'x_atac_nll': 0.535, 'x_atac_kl': 0.002, 'x_atac_elbo': 0.537, 'dsc_loss': 0.697, 'vae_loss': 1.102, 'gen_loss': 1.067, 'joint_cross_loss': 1.029, 'real_cross_loss': 1.047, 'cos_loss': 0.494}, 3.2s elapsed\n",
      "[INFO] PairedSCGLUETrainer: [Epoch 220] train={'g_nll': 0.428, 'g_kl': 0.032, 'g_elbo': 0.46, 'x_rna_nll': 0.485, 'x_rna_kl': 0.006, 'x_rna_elbo': 0.491, 'x_atac_nll': 0.533, 'x_atac_kl': 0.002, 'x_atac_elbo': 0.535, 'dsc_loss': 0.69, 'vae_loss': 1.095, 'gen_loss': 1.061, 'joint_cross_loss': 1.022, 'real_cross_loss': 1.04, 'cos_loss': 0.496}, val={'g_nll': 0.431, 'g_kl': 0.032, 'g_elbo': 0.463, 'x_rna_nll': 0.488, 'x_rna_kl': 0.006, 'x_rna_elbo': 0.494, 'x_atac_nll': 0.535, 'x_atac_kl': 0.002, 'x_atac_elbo': 0.537, 'dsc_loss': 0.695, 'vae_loss': 1.101, 'gen_loss': 1.066, 'joint_cross_loss': 1.027, 'real_cross_loss': 1.046, 'cos_loss': 0.503}, 4.3s elapsed\n"
     ]
    },
    {
     "name": "stderr",
     "output_type": "stream",
     "text": [
      "2023-05-05 22:37:19,063 ignite.handlers.early_stopping.EarlyStopping INFO: EarlyStopping: Stop training\n"
     ]
    },
    {
     "name": "stdout",
     "output_type": "stream",
     "text": [
      "[INFO] EarlyStopping: Restoring checkpoint \"187\"...\n",
      "[INFO] EarlyStopping: Restoring checkpoint \"187\"...\n"
     ]
    },
    {
     "name": "stderr",
     "output_type": "stream",
     "text": [
      "/dss/dsshome1/01/di93bur/miniconda3/envs/scglue_env_2/lib/python3.9/multiprocessing/popen_fork.py:66: ResourceWarning: unclosed socket <zmq.Socket(zmq.PUSH) at 0x7f3dd8395b20>\n",
      "  self.pid = os.fork()\n",
      "ResourceWarning: Enable tracemalloc to get the object allocation traceback\n",
      "/tmp/ipykernel_413349/637290968.py:24: DeprecationWarning: Call to deprecated function (or staticmethod) opt_louvain.\n",
      "  scib.cl.opt_louvain(adata,label_key='cell_type',cluster_key='cluster_key',plot=False,inplace=True,force=True,verbose = False)\n",
      " 36%|███▋      | 4/11 [7:33:23<12:43:08, 6541.20s/it]"
     ]
    },
    {
     "name": "stdout",
     "output_type": "stream",
     "text": [
      "[INFO] fit_SCGLUE: Pretraining SCGLUE model...\n"
     ]
    },
    {
     "name": "stderr",
     "output_type": "stream",
     "text": [
      "[WARNING] PairedSCGLUEModel: It is recommended that `use_rep` dimensionality be equal or larger than `latent_dim`.\n"
     ]
    },
    {
     "name": "stdout",
     "output_type": "stream",
     "text": [
      "[INFO] check_graph: Checking variable coverage...\n",
      "[INFO] check_graph: Checking edge attributes...\n",
      "[INFO] check_graph: Checking self-loops...\n",
      "[INFO] check_graph: Checking graph symmetry...\n",
      "[INFO] PairedSCGLUEModel: Setting `graph_batch_size` = 3427\n",
      "[INFO] PairedSCGLUEModel: Setting `max_epochs` = 504\n",
      "[INFO] PairedSCGLUEModel: Setting `patience` = 42\n",
      "[INFO] PairedSCGLUEModel: Setting `reduce_lr_patience` = 21\n",
      "[INFO] PairedSCGLUETrainer: Using training directory: \"glue/pretrain\"\n",
      "[INFO] PairedSCGLUETrainer: [Epoch 10] train={'g_nll': 0.602, 'g_kl': 0.036, 'g_elbo': 0.638, 'x_rna_nll': 0.5, 'x_rna_kl': 0.013, 'x_rna_elbo': 0.513, 'x_atac_nll': 0.578, 'x_atac_kl': 0.007, 'x_atac_elbo': 0.585, 'dsc_loss': 0.678, 'vae_loss': 1.174, 'gen_loss': 1.14, 'joint_cross_loss': 1.078, 'real_cross_loss': 1.1, 'cos_loss': 0.352}, val={'g_nll': 0.6, 'g_kl': 0.037, 'g_elbo': 0.637, 'x_rna_nll': 0.499, 'x_rna_kl': 0.012, 'x_rna_elbo': 0.511, 'x_atac_nll': 0.58, 'x_atac_kl': 0.006, 'x_atac_elbo': 0.586, 'dsc_loss': 0.675, 'vae_loss': 1.173, 'gen_loss': 1.139, 'joint_cross_loss': 1.081, 'real_cross_loss': 1.099, 'cos_loss': 0.343}, 4.7s elapsed\n",
      "[INFO] PairedSCGLUETrainer: [Epoch 20] train={'g_nll': 0.553, 'g_kl': 0.046, 'g_elbo': 0.598, 'x_rna_nll': 0.488, 'x_rna_kl': 0.01, 'x_rna_elbo': 0.498, 'x_atac_nll': 0.566, 'x_atac_kl': 0.005, 'x_atac_elbo': 0.571, 'dsc_loss': 0.686, 'vae_loss': 1.144, 'gen_loss': 1.11, 'joint_cross_loss': 1.057, 'real_cross_loss': 1.078, 'cos_loss': 0.436}, val={'g_nll': 0.553, 'g_kl': 0.046, 'g_elbo': 0.598, 'x_rna_nll': 0.488, 'x_rna_kl': 0.01, 'x_rna_elbo': 0.498, 'x_atac_nll': 0.567, 'x_atac_kl': 0.004, 'x_atac_elbo': 0.571, 'dsc_loss': 0.683, 'vae_loss': 1.144, 'gen_loss': 1.11, 'joint_cross_loss': 1.057, 'real_cross_loss': 1.077, 'cos_loss': 0.442}, 6.4s elapsed\n",
      "[INFO] PairedSCGLUETrainer: [Epoch 30] train={'g_nll': 0.505, 'g_kl': 0.044, 'g_elbo': 0.549, 'x_rna_nll': 0.484, 'x_rna_kl': 0.01, 'x_rna_elbo': 0.494, 'x_atac_nll': 0.563, 'x_atac_kl': 0.004, 'x_atac_elbo': 0.568, 'dsc_loss': 0.689, 'vae_loss': 1.135, 'gen_loss': 1.1, 'joint_cross_loss': 1.051, 'real_cross_loss': 1.072, 'cos_loss': 0.458}, val={'g_nll': 0.503, 'g_kl': 0.044, 'g_elbo': 0.547, 'x_rna_nll': 0.481, 'x_rna_kl': 0.01, 'x_rna_elbo': 0.491, 'x_atac_nll': 0.562, 'x_atac_kl': 0.004, 'x_atac_elbo': 0.566, 'dsc_loss': 0.689, 'vae_loss': 1.131, 'gen_loss': 1.096, 'joint_cross_loss': 1.047, 'real_cross_loss': 1.066, 'cos_loss': 0.454}, 4.8s elapsed\n",
      "[INFO] PairedSCGLUETrainer: [Epoch 40] train={'g_nll': 0.474, 'g_kl': 0.043, 'g_elbo': 0.517, 'x_rna_nll': 0.482, 'x_rna_kl': 0.01, 'x_rna_elbo': 0.493, 'x_atac_nll': 0.563, 'x_atac_kl': 0.004, 'x_atac_elbo': 0.568, 'dsc_loss': 0.69, 'vae_loss': 1.132, 'gen_loss': 1.098, 'joint_cross_loss': 1.049, 'real_cross_loss': 1.071, 'cos_loss': 0.454}, val={'g_nll': 0.476, 'g_kl': 0.043, 'g_elbo': 0.519, 'x_rna_nll': 0.482, 'x_rna_kl': 0.01, 'x_rna_elbo': 0.492, 'x_atac_nll': 0.563, 'x_atac_kl': 0.004, 'x_atac_elbo': 0.567, 'dsc_loss': 0.695, 'vae_loss': 1.131, 'gen_loss': 1.096, 'joint_cross_loss': 1.048, 'real_cross_loss': 1.07, 'cos_loss': 0.455}, 5.8s elapsed\n",
      "[INFO] PairedSCGLUETrainer: [Epoch 50] train={'g_nll': 0.462, 'g_kl': 0.042, 'g_elbo': 0.504, 'x_rna_nll': 0.482, 'x_rna_kl': 0.01, 'x_rna_elbo': 0.492, 'x_atac_nll': 0.563, 'x_atac_kl': 0.004, 'x_atac_elbo': 0.567, 'dsc_loss': 0.692, 'vae_loss': 1.13, 'gen_loss': 1.095, 'joint_cross_loss': 1.048, 'real_cross_loss': 1.07, 'cos_loss': 0.451}, val={'g_nll': 0.46, 'g_kl': 0.042, 'g_elbo': 0.502, 'x_rna_nll': 0.48, 'x_rna_kl': 0.01, 'x_rna_elbo': 0.49, 'x_atac_nll': 0.562, 'x_atac_kl': 0.004, 'x_atac_elbo': 0.566, 'dsc_loss': 0.69, 'vae_loss': 1.127, 'gen_loss': 1.093, 'joint_cross_loss': 1.046, 'real_cross_loss': 1.066, 'cos_loss': 0.448}, 4.9s elapsed\n",
      "[INFO] PairedSCGLUETrainer: [Epoch 60] train={'g_nll': 0.455, 'g_kl': 0.041, 'g_elbo': 0.495, 'x_rna_nll': 0.481, 'x_rna_kl': 0.01, 'x_rna_elbo': 0.491, 'x_atac_nll': 0.562, 'x_atac_kl': 0.004, 'x_atac_elbo': 0.566, 'dsc_loss': 0.691, 'vae_loss': 1.127, 'gen_loss': 1.093, 'joint_cross_loss': 1.047, 'real_cross_loss': 1.07, 'cos_loss': 0.447}, val={'g_nll': 0.455, 'g_kl': 0.041, 'g_elbo': 0.495, 'x_rna_nll': 0.479, 'x_rna_kl': 0.01, 'x_rna_elbo': 0.488, 'x_atac_nll': 0.559, 'x_atac_kl': 0.004, 'x_atac_elbo': 0.562, 'dsc_loss': 0.694, 'vae_loss': 1.122, 'gen_loss': 1.087, 'joint_cross_loss': 1.042, 'real_cross_loss': 1.063, 'cos_loss': 0.449}, 4.6s elapsed\n",
      "Epoch 00066: reducing learning rate of group 0 to 2.0000e-04.\n",
      "Epoch 00066: reducing learning rate of group 0 to 2.0000e-04.\n",
      "[INFO] LRScheduler: Learning rate reduction: step 1\n",
      "[INFO] PairedSCGLUETrainer: [Epoch 70] train={'g_nll': 0.449, 'g_kl': 0.04, 'g_elbo': 0.489, 'x_rna_nll': 0.479, 'x_rna_kl': 0.01, 'x_rna_elbo': 0.489, 'x_atac_nll': 0.563, 'x_atac_kl': 0.004, 'x_atac_elbo': 0.567, 'dsc_loss': 0.692, 'vae_loss': 1.126, 'gen_loss': 1.092, 'joint_cross_loss': 1.046, 'real_cross_loss': 1.069, 'cos_loss': 0.445}, val={'g_nll': 0.449, 'g_kl': 0.04, 'g_elbo': 0.489, 'x_rna_nll': 0.479, 'x_rna_kl': 0.01, 'x_rna_elbo': 0.489, 'x_atac_nll': 0.561, 'x_atac_kl': 0.004, 'x_atac_elbo': 0.565, 'dsc_loss': 0.693, 'vae_loss': 1.125, 'gen_loss': 1.09, 'joint_cross_loss': 1.045, 'real_cross_loss': 1.067, 'cos_loss': 0.447}, 13.3s elapsed\n",
      "[INFO] PairedSCGLUETrainer: [Epoch 80] train={'g_nll': 0.449, 'g_kl': 0.04, 'g_elbo': 0.489, 'x_rna_nll': 0.479, 'x_rna_kl': 0.01, 'x_rna_elbo': 0.489, 'x_atac_nll': 0.563, 'x_atac_kl': 0.004, 'x_atac_elbo': 0.566, 'dsc_loss': 0.69, 'vae_loss': 1.126, 'gen_loss': 1.092, 'joint_cross_loss': 1.046, 'real_cross_loss': 1.069, 'cos_loss': 0.442}, val={'g_nll': 0.448, 'g_kl': 0.04, 'g_elbo': 0.488, 'x_rna_nll': 0.481, 'x_rna_kl': 0.01, 'x_rna_elbo': 0.491, 'x_atac_nll': 0.564, 'x_atac_kl': 0.004, 'x_atac_elbo': 0.568, 'dsc_loss': 0.688, 'vae_loss': 1.13, 'gen_loss': 1.096, 'joint_cross_loss': 1.05, 'real_cross_loss': 1.071, 'cos_loss': 0.44}, 4.6s elapsed\n",
      "Epoch 00088: reducing learning rate of group 0 to 2.0000e-05.\n",
      "Epoch 00088: reducing learning rate of group 0 to 2.0000e-05.\n",
      "[INFO] LRScheduler: Learning rate reduction: step 2\n",
      "[INFO] PairedSCGLUETrainer: [Epoch 90] train={'g_nll': 0.448, 'g_kl': 0.04, 'g_elbo': 0.488, 'x_rna_nll': 0.479, 'x_rna_kl': 0.01, 'x_rna_elbo': 0.489, 'x_atac_nll': 0.563, 'x_atac_kl': 0.004, 'x_atac_elbo': 0.566, 'dsc_loss': 0.692, 'vae_loss': 1.126, 'gen_loss': 1.092, 'joint_cross_loss': 1.046, 'real_cross_loss': 1.068, 'cos_loss': 0.443}, val={'g_nll': 0.45, 'g_kl': 0.04, 'g_elbo': 0.49, 'x_rna_nll': 0.479, 'x_rna_kl': 0.01, 'x_rna_elbo': 0.489, 'x_atac_nll': 0.561, 'x_atac_kl': 0.004, 'x_atac_elbo': 0.565, 'dsc_loss': 0.691, 'vae_loss': 1.124, 'gen_loss': 1.089, 'joint_cross_loss': 1.045, 'real_cross_loss': 1.067, 'cos_loss': 0.436}, 10.9s elapsed\n",
      "[INFO] PairedSCGLUETrainer: [Epoch 100] train={'g_nll': 0.447, 'g_kl': 0.04, 'g_elbo': 0.487, 'x_rna_nll': 0.479, 'x_rna_kl': 0.01, 'x_rna_elbo': 0.489, 'x_atac_nll': 0.563, 'x_atac_kl': 0.004, 'x_atac_elbo': 0.567, 'dsc_loss': 0.691, 'vae_loss': 1.127, 'gen_loss': 1.092, 'joint_cross_loss': 1.047, 'real_cross_loss': 1.069, 'cos_loss': 0.441}, val={'g_nll': 0.446, 'g_kl': 0.04, 'g_elbo': 0.486, 'x_rna_nll': 0.48, 'x_rna_kl': 0.01, 'x_rna_elbo': 0.49, 'x_atac_nll': 0.56, 'x_atac_kl': 0.004, 'x_atac_elbo': 0.563, 'dsc_loss': 0.69, 'vae_loss': 1.124, 'gen_loss': 1.089, 'joint_cross_loss': 1.044, 'real_cross_loss': 1.065, 'cos_loss': 0.44}, 4.6s elapsed\n",
      "[INFO] PairedSCGLUETrainer: [Epoch 110] train={'g_nll': 0.448, 'g_kl': 0.04, 'g_elbo': 0.488, 'x_rna_nll': 0.479, 'x_rna_kl': 0.01, 'x_rna_elbo': 0.489, 'x_atac_nll': 0.562, 'x_atac_kl': 0.004, 'x_atac_elbo': 0.566, 'dsc_loss': 0.692, 'vae_loss': 1.125, 'gen_loss': 1.09, 'joint_cross_loss': 1.045, 'real_cross_loss': 1.068, 'cos_loss': 0.441}, val={'g_nll': 0.449, 'g_kl': 0.04, 'g_elbo': 0.489, 'x_rna_nll': 0.476, 'x_rna_kl': 0.01, 'x_rna_elbo': 0.486, 'x_atac_nll': 0.554, 'x_atac_kl': 0.004, 'x_atac_elbo': 0.557, 'dsc_loss': 0.689, 'vae_loss': 1.114, 'gen_loss': 1.079, 'joint_cross_loss': 1.034, 'real_cross_loss': 1.056, 'cos_loss': 0.435}, 5.5s elapsed\n",
      "[INFO] PairedSCGLUETrainer: [Epoch 120] train={'g_nll': 0.449, 'g_kl': 0.04, 'g_elbo': 0.489, 'x_rna_nll': 0.479, 'x_rna_kl': 0.01, 'x_rna_elbo': 0.489, 'x_atac_nll': 0.563, 'x_atac_kl': 0.004, 'x_atac_elbo': 0.567, 'dsc_loss': 0.691, 'vae_loss': 1.127, 'gen_loss': 1.092, 'joint_cross_loss': 1.046, 'real_cross_loss': 1.069, 'cos_loss': 0.442}, val={'g_nll': 0.451, 'g_kl': 0.04, 'g_elbo': 0.491, 'x_rna_nll': 0.479, 'x_rna_kl': 0.01, 'x_rna_elbo': 0.489, 'x_atac_nll': 0.559, 'x_atac_kl': 0.004, 'x_atac_elbo': 0.563, 'dsc_loss': 0.691, 'vae_loss': 1.123, 'gen_loss': 1.088, 'joint_cross_loss': 1.043, 'real_cross_loss': 1.065, 'cos_loss': 0.446}, 4.7s elapsed\n",
      "[INFO] PairedSCGLUETrainer: [Epoch 130] train={'g_nll': 0.448, 'g_kl': 0.04, 'g_elbo': 0.488, 'x_rna_nll': 0.479, 'x_rna_kl': 0.01, 'x_rna_elbo': 0.489, 'x_atac_nll': 0.562, 'x_atac_kl': 0.004, 'x_atac_elbo': 0.566, 'dsc_loss': 0.691, 'vae_loss': 1.126, 'gen_loss': 1.091, 'joint_cross_loss': 1.045, 'real_cross_loss': 1.068, 'cos_loss': 0.441}, val={'g_nll': 0.449, 'g_kl': 0.04, 'g_elbo': 0.489, 'x_rna_nll': 0.479, 'x_rna_kl': 0.01, 'x_rna_elbo': 0.489, 'x_atac_nll': 0.561, 'x_atac_kl': 0.004, 'x_atac_elbo': 0.565, 'dsc_loss': 0.692, 'vae_loss': 1.125, 'gen_loss': 1.09, 'joint_cross_loss': 1.045, 'real_cross_loss': 1.066, 'cos_loss': 0.441}, 4.6s elapsed\n",
      "Epoch 00132: reducing learning rate of group 0 to 2.0000e-06.\n",
      "Epoch 00132: reducing learning rate of group 0 to 2.0000e-06.\n",
      "[INFO] LRScheduler: Learning rate reduction: step 3\n",
      "[INFO] PairedSCGLUETrainer: [Epoch 140] train={'g_nll': 0.448, 'g_kl': 0.04, 'g_elbo': 0.487, 'x_rna_nll': 0.479, 'x_rna_kl': 0.01, 'x_rna_elbo': 0.489, 'x_atac_nll': 0.562, 'x_atac_kl': 0.004, 'x_atac_elbo': 0.566, 'dsc_loss': 0.691, 'vae_loss': 1.125, 'gen_loss': 1.091, 'joint_cross_loss': 1.045, 'real_cross_loss': 1.069, 'cos_loss': 0.442}, val={'g_nll': 0.449, 'g_kl': 0.04, 'g_elbo': 0.489, 'x_rna_nll': 0.479, 'x_rna_kl': 0.01, 'x_rna_elbo': 0.489, 'x_atac_nll': 0.566, 'x_atac_kl': 0.004, 'x_atac_elbo': 0.569, 'dsc_loss': 0.69, 'vae_loss': 1.129, 'gen_loss': 1.094, 'joint_cross_loss': 1.049, 'real_cross_loss': 1.071, 'cos_loss': 0.442}, 23.5s elapsed\n",
      "[INFO] PairedSCGLUETrainer: [Epoch 150] train={'g_nll': 0.449, 'g_kl': 0.04, 'g_elbo': 0.489, 'x_rna_nll': 0.479, 'x_rna_kl': 0.01, 'x_rna_elbo': 0.489, 'x_atac_nll': 0.563, 'x_atac_kl': 0.004, 'x_atac_elbo': 0.567, 'dsc_loss': 0.69, 'vae_loss': 1.126, 'gen_loss': 1.092, 'joint_cross_loss': 1.046, 'real_cross_loss': 1.069, 'cos_loss': 0.444}, val={'g_nll': 0.449, 'g_kl': 0.04, 'g_elbo': 0.489, 'x_rna_nll': 0.477, 'x_rna_kl': 0.01, 'x_rna_elbo': 0.487, 'x_atac_nll': 0.559, 'x_atac_kl': 0.004, 'x_atac_elbo': 0.562, 'dsc_loss': 0.69, 'vae_loss': 1.119, 'gen_loss': 1.085, 'joint_cross_loss': 1.04, 'real_cross_loss': 1.061, 'cos_loss': 0.438}, 6.6s elapsed\n"
     ]
    },
    {
     "name": "stderr",
     "output_type": "stream",
     "text": [
      "2023-05-05 23:13:26,799 ignite.handlers.early_stopping.EarlyStopping INFO: EarlyStopping: Stop training\n"
     ]
    },
    {
     "name": "stdout",
     "output_type": "stream",
     "text": [
      "[INFO] EarlyStopping: Restoring checkpoint \"145\"...\n",
      "[INFO] EarlyStopping: Restoring checkpoint \"145\"...\n"
     ]
    },
    {
     "name": "stderr",
     "output_type": "stream",
     "text": [
      "/dss/dsshome1/01/di93bur/miniconda3/envs/scglue_env_2/lib/python3.9/multiprocessing/popen_fork.py:66: ResourceWarning: unclosed socket <zmq.Socket(zmq.PUSH) at 0x7f3dd8395b20>\n",
      "  self.pid = os.fork()\n",
      "ResourceWarning: Enable tracemalloc to get the object allocation traceback\n"
     ]
    },
    {
     "name": "stdout",
     "output_type": "stream",
     "text": [
      "[INFO] fit_SCGLUE: Estimating balancing weight...\n",
      "[INFO] estimate_balancing_weight: Clustering cells...\n",
      "[INFO] estimate_balancing_weight: Matching clusters...\n",
      "[INFO] estimate_balancing_weight: Matching array shape = (16, 17)...\n",
      "[INFO] estimate_balancing_weight: Estimating balancing weight...\n",
      "[INFO] fit_SCGLUE: Fine-tuning SCGLUE model...\n"
     ]
    },
    {
     "name": "stderr",
     "output_type": "stream",
     "text": [
      "/dss/dsshome1/01/di93bur/miniconda3/envs/scglue_env_2/lib/python3.9/site-packages/anndata/_core/anndata.py:117: ImplicitModificationWarning: Transforming to str index.\n",
      "  warnings.warn(\"Transforming to str index.\", ImplicitModificationWarning)\n",
      "/dss/dsshome1/01/di93bur/miniconda3/envs/scglue_env_2/lib/python3.9/site-packages/anndata/_core/anndata.py:117: ImplicitModificationWarning: Transforming to str index.\n",
      "  warnings.warn(\"Transforming to str index.\", ImplicitModificationWarning)\n",
      "[WARNING] PairedSCGLUEModel: It is recommended that `use_rep` dimensionality be equal or larger than `latent_dim`.\n"
     ]
    },
    {
     "name": "stdout",
     "output_type": "stream",
     "text": [
      "[INFO] check_graph: Checking variable coverage...\n",
      "[INFO] check_graph: Checking edge attributes...\n",
      "[INFO] check_graph: Checking self-loops...\n",
      "[INFO] check_graph: Checking graph symmetry...\n",
      "[INFO] PairedSCGLUEModel: Setting `graph_batch_size` = 3427\n",
      "[INFO] PairedSCGLUEModel: Setting `align_burnin` = 84\n",
      "[INFO] PairedSCGLUEModel: Setting `max_epochs` = 504\n",
      "[INFO] PairedSCGLUEModel: Setting `patience` = 42\n",
      "[INFO] PairedSCGLUEModel: Setting `reduce_lr_patience` = 21\n",
      "[INFO] PairedSCGLUETrainer: Using training directory: \"glue/fine-tune\"\n",
      "[INFO] PairedSCGLUETrainer: [Epoch 10] train={'g_nll': 0.445, 'g_kl': 0.039, 'g_elbo': 0.483, 'x_rna_nll': 0.479, 'x_rna_kl': 0.01, 'x_rna_elbo': 0.489, 'x_atac_nll': 0.56, 'x_atac_kl': 0.004, 'x_atac_elbo': 0.564, 'dsc_loss': 0.69, 'vae_loss': 1.124, 'gen_loss': 1.089, 'joint_cross_loss': 1.044, 'real_cross_loss': 1.068, 'cos_loss': 0.441}, val={'g_nll': 0.443, 'g_kl': 0.039, 'g_elbo': 0.481, 'x_rna_nll': 0.487, 'x_rna_kl': 0.01, 'x_rna_elbo': 0.497, 'x_atac_nll': 0.579, 'x_atac_kl': 0.004, 'x_atac_elbo': 0.583, 'dsc_loss': 0.712, 'vae_loss': 1.152, 'gen_loss': 1.116, 'joint_cross_loss': 1.071, 'real_cross_loss': 1.092, 'cos_loss': 0.438}, 16.6s elapsed\n",
      "[INFO] PairedSCGLUETrainer: [Epoch 20] train={'g_nll': 0.44, 'g_kl': 0.038, 'g_elbo': 0.478, 'x_rna_nll': 0.479, 'x_rna_kl': 0.01, 'x_rna_elbo': 0.489, 'x_atac_nll': 0.56, 'x_atac_kl': 0.004, 'x_atac_elbo': 0.564, 'dsc_loss': 0.691, 'vae_loss': 1.123, 'gen_loss': 1.089, 'joint_cross_loss': 1.044, 'real_cross_loss': 1.068, 'cos_loss': 0.441}, val={'g_nll': 0.443, 'g_kl': 0.038, 'g_elbo': 0.481, 'x_rna_nll': 0.487, 'x_rna_kl': 0.01, 'x_rna_elbo': 0.497, 'x_atac_nll': 0.582, 'x_atac_kl': 0.004, 'x_atac_elbo': 0.586, 'dsc_loss': 0.712, 'vae_loss': 1.154, 'gen_loss': 1.118, 'joint_cross_loss': 1.074, 'real_cross_loss': 1.095, 'cos_loss': 0.432}, 4.6s elapsed\n",
      "[INFO] PairedSCGLUETrainer: [Epoch 30] train={'g_nll': 0.438, 'g_kl': 0.037, 'g_elbo': 0.475, 'x_rna_nll': 0.479, 'x_rna_kl': 0.01, 'x_rna_elbo': 0.489, 'x_atac_nll': 0.56, 'x_atac_kl': 0.004, 'x_atac_elbo': 0.564, 'dsc_loss': 0.69, 'vae_loss': 1.123, 'gen_loss': 1.089, 'joint_cross_loss': 1.044, 'real_cross_loss': 1.068, 'cos_loss': 0.436}, val={'g_nll': 0.44, 'g_kl': 0.037, 'g_elbo': 0.477, 'x_rna_nll': 0.485, 'x_rna_kl': 0.01, 'x_rna_elbo': 0.495, 'x_atac_nll': 0.583, 'x_atac_kl': 0.004, 'x_atac_elbo': 0.587, 'dsc_loss': 0.713, 'vae_loss': 1.153, 'gen_loss': 1.117, 'joint_cross_loss': 1.073, 'real_cross_loss': 1.095, 'cos_loss': 0.434}, 4.8s elapsed\n",
      "[INFO] PairedSCGLUETrainer: [Epoch 40] train={'g_nll': 0.436, 'g_kl': 0.036, 'g_elbo': 0.472, 'x_rna_nll': 0.479, 'x_rna_kl': 0.01, 'x_rna_elbo': 0.489, 'x_atac_nll': 0.56, 'x_atac_kl': 0.004, 'x_atac_elbo': 0.563, 'dsc_loss': 0.691, 'vae_loss': 1.122, 'gen_loss': 1.088, 'joint_cross_loss': 1.043, 'real_cross_loss': 1.067, 'cos_loss': 0.437}, val={'g_nll': 0.438, 'g_kl': 0.036, 'g_elbo': 0.474, 'x_rna_nll': 0.488, 'x_rna_kl': 0.01, 'x_rna_elbo': 0.498, 'x_atac_nll': 0.583, 'x_atac_kl': 0.004, 'x_atac_elbo': 0.587, 'dsc_loss': 0.708, 'vae_loss': 1.155, 'gen_loss': 1.12, 'joint_cross_loss': 1.076, 'real_cross_loss': 1.098, 'cos_loss': 0.438}, 10.2s elapsed\n",
      "[INFO] PairedSCGLUETrainer: [Epoch 50] train={'g_nll': 0.434, 'g_kl': 0.036, 'g_elbo': 0.47, 'x_rna_nll': 0.479, 'x_rna_kl': 0.01, 'x_rna_elbo': 0.488, 'x_atac_nll': 0.56, 'x_atac_kl': 0.004, 'x_atac_elbo': 0.564, 'dsc_loss': 0.691, 'vae_loss': 1.122, 'gen_loss': 1.088, 'joint_cross_loss': 1.044, 'real_cross_loss': 1.067, 'cos_loss': 0.434}, val={'g_nll': 0.435, 'g_kl': 0.036, 'g_elbo': 0.471, 'x_rna_nll': 0.49, 'x_rna_kl': 0.01, 'x_rna_elbo': 0.5, 'x_atac_nll': 0.581, 'x_atac_kl': 0.004, 'x_atac_elbo': 0.584, 'dsc_loss': 0.716, 'vae_loss': 1.155, 'gen_loss': 1.119, 'joint_cross_loss': 1.076, 'real_cross_loss': 1.098, 'cos_loss': 0.428}, 4.5s elapsed\n",
      "[INFO] PairedSCGLUETrainer: [Epoch 60] train={'g_nll': 0.434, 'g_kl': 0.035, 'g_elbo': 0.469, 'x_rna_nll': 0.479, 'x_rna_kl': 0.01, 'x_rna_elbo': 0.489, 'x_atac_nll': 0.561, 'x_atac_kl': 0.004, 'x_atac_elbo': 0.564, 'dsc_loss': 0.689, 'vae_loss': 1.123, 'gen_loss': 1.088, 'joint_cross_loss': 1.044, 'real_cross_loss': 1.068, 'cos_loss': 0.434}, val={'g_nll': 0.432, 'g_kl': 0.035, 'g_elbo': 0.468, 'x_rna_nll': 0.488, 'x_rna_kl': 0.01, 'x_rna_elbo': 0.498, 'x_atac_nll': 0.582, 'x_atac_kl': 0.004, 'x_atac_elbo': 0.585, 'dsc_loss': 0.708, 'vae_loss': 1.154, 'gen_loss': 1.118, 'joint_cross_loss': 1.075, 'real_cross_loss': 1.096, 'cos_loss': 0.434}, 20.0s elapsed\n",
      "[INFO] PairedSCGLUETrainer: [Epoch 70] train={'g_nll': 0.431, 'g_kl': 0.035, 'g_elbo': 0.466, 'x_rna_nll': 0.479, 'x_rna_kl': 0.01, 'x_rna_elbo': 0.488, 'x_atac_nll': 0.559, 'x_atac_kl': 0.004, 'x_atac_elbo': 0.563, 'dsc_loss': 0.689, 'vae_loss': 1.121, 'gen_loss': 1.087, 'joint_cross_loss': 1.043, 'real_cross_loss': 1.067, 'cos_loss': 0.434}, val={'g_nll': 0.432, 'g_kl': 0.035, 'g_elbo': 0.467, 'x_rna_nll': 0.487, 'x_rna_kl': 0.01, 'x_rna_elbo': 0.496, 'x_atac_nll': 0.581, 'x_atac_kl': 0.003, 'x_atac_elbo': 0.585, 'dsc_loss': 0.702, 'vae_loss': 1.152, 'gen_loss': 1.117, 'joint_cross_loss': 1.072, 'real_cross_loss': 1.093, 'cos_loss': 0.444}, 4.8s elapsed\n",
      "[INFO] PairedSCGLUETrainer: [Epoch 80] train={'g_nll': 0.429, 'g_kl': 0.035, 'g_elbo': 0.463, 'x_rna_nll': 0.479, 'x_rna_kl': 0.01, 'x_rna_elbo': 0.489, 'x_atac_nll': 0.561, 'x_atac_kl': 0.004, 'x_atac_elbo': 0.564, 'dsc_loss': 0.688, 'vae_loss': 1.123, 'gen_loss': 1.088, 'joint_cross_loss': 1.044, 'real_cross_loss': 1.068, 'cos_loss': 0.435}, val={'g_nll': 0.429, 'g_kl': 0.035, 'g_elbo': 0.464, 'x_rna_nll': 0.487, 'x_rna_kl': 0.009, 'x_rna_elbo': 0.496, 'x_atac_nll': 0.583, 'x_atac_kl': 0.004, 'x_atac_elbo': 0.587, 'dsc_loss': 0.71, 'vae_loss': 1.154, 'gen_loss': 1.118, 'joint_cross_loss': 1.075, 'real_cross_loss': 1.097, 'cos_loss': 0.434}, 14.2s elapsed\n",
      "[INFO] PairedSCGLUETrainer: [Epoch 90] train={'g_nll': 0.429, 'g_kl': 0.034, 'g_elbo': 0.464, 'x_rna_nll': 0.479, 'x_rna_kl': 0.01, 'x_rna_elbo': 0.489, 'x_atac_nll': 0.562, 'x_atac_kl': 0.004, 'x_atac_elbo': 0.565, 'dsc_loss': 0.688, 'vae_loss': 1.123, 'gen_loss': 1.089, 'joint_cross_loss': 1.045, 'real_cross_loss': 1.069, 'cos_loss': 0.434}, val={'g_nll': 0.432, 'g_kl': 0.034, 'g_elbo': 0.466, 'x_rna_nll': 0.489, 'x_rna_kl': 0.009, 'x_rna_elbo': 0.498, 'x_atac_nll': 0.58, 'x_atac_kl': 0.003, 'x_atac_elbo': 0.584, 'dsc_loss': 0.703, 'vae_loss': 1.152, 'gen_loss': 1.117, 'joint_cross_loss': 1.074, 'real_cross_loss': 1.096, 'cos_loss': 0.435}, 4.5s elapsed\n",
      "[INFO] PairedSCGLUETrainer: [Epoch 100] train={'g_nll': 0.428, 'g_kl': 0.034, 'g_elbo': 0.462, 'x_rna_nll': 0.479, 'x_rna_kl': 0.009, 'x_rna_elbo': 0.488, 'x_atac_nll': 0.56, 'x_atac_kl': 0.004, 'x_atac_elbo': 0.564, 'dsc_loss': 0.688, 'vae_loss': 1.121, 'gen_loss': 1.087, 'joint_cross_loss': 1.043, 'real_cross_loss': 1.067, 'cos_loss': 0.433}, val={'g_nll': 0.426, 'g_kl': 0.034, 'g_elbo': 0.46, 'x_rna_nll': 0.486, 'x_rna_kl': 0.009, 'x_rna_elbo': 0.496, 'x_atac_nll': 0.581, 'x_atac_kl': 0.003, 'x_atac_elbo': 0.584, 'dsc_loss': 0.711, 'vae_loss': 1.151, 'gen_loss': 1.115, 'joint_cross_loss': 1.072, 'real_cross_loss': 1.094, 'cos_loss': 0.429}, 8.2s elapsed\n",
      "[INFO] PairedSCGLUETrainer: [Epoch 110] train={'g_nll': 0.428, 'g_kl': 0.034, 'g_elbo': 0.462, 'x_rna_nll': 0.479, 'x_rna_kl': 0.009, 'x_rna_elbo': 0.488, 'x_atac_nll': 0.561, 'x_atac_kl': 0.004, 'x_atac_elbo': 0.564, 'dsc_loss': 0.688, 'vae_loss': 1.122, 'gen_loss': 1.087, 'joint_cross_loss': 1.044, 'real_cross_loss': 1.067, 'cos_loss': 0.433}, val={'g_nll': 0.425, 'g_kl': 0.034, 'g_elbo': 0.459, 'x_rna_nll': 0.487, 'x_rna_kl': 0.009, 'x_rna_elbo': 0.496, 'x_atac_nll': 0.58, 'x_atac_kl': 0.003, 'x_atac_elbo': 0.584, 'dsc_loss': 0.709, 'vae_loss': 1.15, 'gen_loss': 1.115, 'joint_cross_loss': 1.072, 'real_cross_loss': 1.094, 'cos_loss': 0.439}, 6.8s elapsed\n",
      "Epoch 00111: reducing learning rate of group 0 to 2.0000e-04.\n",
      "Epoch 00111: reducing learning rate of group 0 to 2.0000e-04.\n",
      "[INFO] LRScheduler: Learning rate reduction: step 1\n",
      "[INFO] PairedSCGLUETrainer: [Epoch 120] train={'g_nll': 0.427, 'g_kl': 0.034, 'g_elbo': 0.46, 'x_rna_nll': 0.478, 'x_rna_kl': 0.009, 'x_rna_elbo': 0.487, 'x_atac_nll': 0.561, 'x_atac_kl': 0.004, 'x_atac_elbo': 0.564, 'dsc_loss': 0.689, 'vae_loss': 1.121, 'gen_loss': 1.086, 'joint_cross_loss': 1.043, 'real_cross_loss': 1.066, 'cos_loss': 0.435}, val={'g_nll': 0.426, 'g_kl': 0.034, 'g_elbo': 0.46, 'x_rna_nll': 0.485, 'x_rna_kl': 0.009, 'x_rna_elbo': 0.494, 'x_atac_nll': 0.579, 'x_atac_kl': 0.003, 'x_atac_elbo': 0.582, 'dsc_loss': 0.708, 'vae_loss': 1.146, 'gen_loss': 1.111, 'joint_cross_loss': 1.068, 'real_cross_loss': 1.09, 'cos_loss': 0.437}, 40.2s elapsed\n",
      "[INFO] PairedSCGLUETrainer: [Epoch 130] train={'g_nll': 0.426, 'g_kl': 0.034, 'g_elbo': 0.46, 'x_rna_nll': 0.477, 'x_rna_kl': 0.009, 'x_rna_elbo': 0.486, 'x_atac_nll': 0.56, 'x_atac_kl': 0.004, 'x_atac_elbo': 0.563, 'dsc_loss': 0.689, 'vae_loss': 1.119, 'gen_loss': 1.085, 'joint_cross_loss': 1.041, 'real_cross_loss': 1.064, 'cos_loss': 0.434}, val={'g_nll': 0.427, 'g_kl': 0.034, 'g_elbo': 0.46, 'x_rna_nll': 0.485, 'x_rna_kl': 0.009, 'x_rna_elbo': 0.494, 'x_atac_nll': 0.579, 'x_atac_kl': 0.003, 'x_atac_elbo': 0.583, 'dsc_loss': 0.708, 'vae_loss': 1.147, 'gen_loss': 1.112, 'joint_cross_loss': 1.069, 'real_cross_loss': 1.091, 'cos_loss': 0.431}, 4.6s elapsed\n"
     ]
    },
    {
     "name": "stderr",
     "output_type": "stream",
     "text": [
      "Engine run is terminating due to exception: \n"
     ]
    },
    {
     "name": "stdout",
     "output_type": "stream",
     "text": [
      "[INFO] PairedSCGLUETrainer: Stopping training due to user interrupt...\n"
     ]
    },
    {
     "name": "stderr",
     "output_type": "stream",
     "text": [
      "/dss/dsshome1/01/di93bur/miniconda3/envs/scglue_env_2/lib/python3.9/multiprocessing/popen_fork.py:66: ResourceWarning: unclosed socket <zmq.Socket(zmq.PUSH) at 0x7f3dd8395b20>\n",
      "  self.pid = os.fork()\n",
      "ResourceWarning: Enable tracemalloc to get the object allocation traceback\n",
      "/tmp/ipykernel_413349/637290968.py:24: DeprecationWarning: Call to deprecated function (or staticmethod) opt_louvain.\n",
      "  scib.cl.opt_louvain(adata,label_key='cell_type',cluster_key='cluster_key',plot=False,inplace=True,force=True,verbose = False)\n",
      " 45%|████▌     | 5/11 [8:35:41<9:13:01, 5530.24s/it] "
     ]
    },
    {
     "name": "stdout",
     "output_type": "stream",
     "text": [
      "[INFO] fit_SCGLUE: Pretraining SCGLUE model...\n"
     ]
    },
    {
     "name": "stderr",
     "output_type": "stream",
     "text": [
      "[WARNING] PairedSCGLUEModel: It is recommended that `use_rep` dimensionality be equal or larger than `latent_dim`.\n"
     ]
    },
    {
     "name": "stdout",
     "output_type": "stream",
     "text": [
      "[INFO] check_graph: Checking variable coverage...\n",
      "[INFO] check_graph: Checking edge attributes...\n",
      "[INFO] check_graph: Checking self-loops...\n",
      "[INFO] check_graph: Checking graph symmetry...\n",
      "[INFO] PairedSCGLUEModel: Setting `graph_batch_size` = 4560\n",
      "[INFO] PairedSCGLUEModel: Setting `max_epochs` = 790\n",
      "[INFO] PairedSCGLUEModel: Setting `patience` = 66\n",
      "[INFO] PairedSCGLUEModel: Setting `reduce_lr_patience` = 33\n",
      "[INFO] PairedSCGLUETrainer: Using training directory: \"glue/pretrain\"\n",
      "[INFO] PairedSCGLUETrainer: [Epoch 10] train={'g_nll': 0.613, 'g_kl': 0.024, 'g_elbo': 0.637, 'x_rna_nll': 0.446, 'x_rna_kl': 0.014, 'x_rna_elbo': 0.459, 'x_atac_nll': 0.638, 'x_atac_kl': 0.009, 'x_atac_elbo': 0.647, 'dsc_loss': 0.681, 'vae_loss': 1.182, 'gen_loss': 1.148, 'joint_cross_loss': 1.081, 'real_cross_loss': 1.095, 'cos_loss': 0.303}, val={'g_nll': 0.613, 'g_kl': 0.024, 'g_elbo': 0.637, 'x_rna_nll': 0.451, 'x_rna_kl': 0.012, 'x_rna_elbo': 0.463, 'x_atac_nll': 0.671, 'x_atac_kl': 0.009, 'x_atac_elbo': 0.68, 'dsc_loss': 0.693, 'vae_loss': 1.219, 'gen_loss': 1.184, 'joint_cross_loss': 1.119, 'real_cross_loss': 1.131, 'cos_loss': 0.274}, 3.3s elapsed\n"
     ]
    },
    {
     "name": "stderr",
     "output_type": "stream",
     "text": [
      "Engine run is terminating due to exception: \n"
     ]
    },
    {
     "name": "stdout",
     "output_type": "stream",
     "text": [
      "[INFO] PairedSCGLUETrainer: Stopping training due to user interrupt...\n"
     ]
    },
    {
     "name": "stderr",
     "output_type": "stream",
     "text": [
      "/dss/dsshome1/01/di93bur/miniconda3/envs/scglue_env_2/lib/python3.9/multiprocessing/popen_fork.py:66: ResourceWarning: unclosed socket <zmq.Socket(zmq.PUSH) at 0x7f3dd8395b20>\n",
      "  self.pid = os.fork()\n",
      "ResourceWarning: Enable tracemalloc to get the object allocation traceback\n",
      " 45%|████▌     | 5/11 [8:38:51<10:22:37, 6226.27s/it]\n",
      "\n",
      "KeyboardInterrupt\n",
      "\n"
     ]
    }
   ],
   "source": [
    "for i in tqdm(['s1d3', 's2d1', 's2d4', 's2d5', 's3d10', 's3d3', 's3d6', 's3d7', 's4d1', 's4d8', 's4d9']):\n",
    "    atac = sc.read('data/'+i+'/atac-glue.h5ad')\n",
    "    rna = sc.read('data/'+i+'/rna-glue.h5ad')\n",
    "    guidance = nx.read_graphml('data/'+i+'/guidance.graphml.gz')\n",
    "    \n",
    "    scglue.models.configure_dataset(rna, \"NB\", use_highly_variable=True,use_layer=\"counts\", use_rep=\"X_pca\",use_obs_names=True)\n",
    "    scglue.models.configure_dataset(atac, \"NB\", use_highly_variable=True,use_layer=\"counts\", use_rep=\"X_lsi_red\",use_obs_names=True)\n",
    "    guidance_hvf = guidance.subgraph(chain(rna.var.query(\"highly_variable\").index,atac.var.query(\"highly_variable\").index)).copy()\n",
    "    \n",
    "    glue = scglue.models.fit_SCGLUE({\"rna\": rna, \"atac\": atac}, guidance_hvf,model=scglue.models.PairedSCGLUEModel,fit_kws={\"directory\": \"glue\"})\n",
    "    \n",
    "    rna.obsm[\"X_glue\"] = glue.encode_data(\"rna\", rna)\n",
    "    atac.obsm[\"X_glue\"] = glue.encode_data(\"atac\", atac)\n",
    "    adata = sc.concat([rna, atac], join = 'outer', label='batch', index_unique = '-', keys=[\"RNA\", \"ATAC\"])\n",
    "    \n",
    "    # Evaluation metrics\n",
    "    f = fcts.foscttm(rna.obsm[\"X_glue\"], atac.obsm[\"X_glue\"])\n",
    "    lta = fcts.transfer_accuracy(rna.obsm[\"X_glue\"], atac.obsm[\"X_glue\"], rna.obs['cell_type'], atac.obs['cell_type'])\n",
    "    alg_score = fcts.alignment_score(rna.obsm[\"X_glue\"], atac.obsm[\"X_glue\"])\n",
    "    rmse = fcts.calculate_rmse(rna.obsm[\"X_glue\"], atac.obsm[\"X_glue\"])\n",
    "\n",
    "    # Bio-conservation metrics\n",
    "    sc.pp.neighbors(adata, use_rep='X_glue')\n",
    "    scib.cl.opt_louvain(adata,label_key='cell_type',cluster_key='cluster_key',plot=False,inplace=True,force=True,verbose = False)\n",
    "    nmi = scib.me.nmi(adata, cluster_key='cluster_key', label_key='cell_type')\n",
    "    asw_label = scib.me.silhouette(adata, label_key='cell_type', embed='X_glue')\n",
    "    ari = scib.me.ari(adata, cluster_key='cluster_key', label_key='cell_type')\n",
    "\n",
    "    # Batch correction metrics\n",
    "    asw_batch = scib.me.silhouette_batch(adata,batch_key='batch',label_key='cell_type',embed='X_glue',verbose=False)\n",
    "    graph_connectivity = scib.me.graph_connectivity(adata, label_key='cell_type')\n",
    "    \n",
    "    results.append([i, f, lta, alg_score, rmse, nmi, asw_label, ari, asw_batch, graph_connectivity])"
   ]
  },
  {
   "cell_type": "code",
   "execution_count": 26,
   "id": "8f10b200",
   "metadata": {},
   "outputs": [],
   "source": [
    "df_results = pd.DataFrame(\n",
    "    results,\n",
    "    columns = [\"donor\", \"foscttm\", \"label_transfer_accuracy\", \"alignment_score\", \"rmse\", \"nmi\", \"asw_label\", \"ari\", \"asw_batch\", \"graph_connectivity\"]\n",
    ")"
   ]
  },
  {
   "cell_type": "code",
   "execution_count": 28,
   "id": "00ee0dd6",
   "metadata": {},
   "outputs": [],
   "source": [
    "df_results.to_csv('output/scglue_2.csv', index = False)"
   ]
  },
  {
   "cell_type": "code",
   "execution_count": 29,
   "id": "ef3039a3",
   "metadata": {},
   "outputs": [
    {
     "name": "stderr",
     "output_type": "stream",
     "text": [
      "  0%|          | 0/2 [00:00<?, ?it/s]"
     ]
    },
    {
     "name": "stdout",
     "output_type": "stream",
     "text": [
      "[INFO] fit_SCGLUE: Pretraining SCGLUE model...\n"
     ]
    },
    {
     "name": "stderr",
     "output_type": "stream",
     "text": [
      "[WARNING] PairedSCGLUEModel: It is recommended that `use_rep` dimensionality be equal or larger than `latent_dim`.\n"
     ]
    },
    {
     "name": "stdout",
     "output_type": "stream",
     "text": [
      "[INFO] check_graph: Checking variable coverage...\n",
      "[INFO] check_graph: Checking edge attributes...\n",
      "[INFO] check_graph: Checking self-loops...\n",
      "[INFO] check_graph: Checking graph symmetry...\n",
      "[INFO] PairedSCGLUEModel: Setting `graph_batch_size` = 4560\n",
      "[INFO] PairedSCGLUEModel: Setting `max_epochs` = 790\n",
      "[INFO] PairedSCGLUEModel: Setting `patience` = 66\n",
      "[INFO] PairedSCGLUEModel: Setting `reduce_lr_patience` = 33\n",
      "[INFO] PairedSCGLUETrainer: Using training directory: \"glue/pretrain\"\n",
      "[INFO] PairedSCGLUETrainer: [Epoch 10] train={'g_nll': 0.613, 'g_kl': 0.024, 'g_elbo': 0.637, 'x_rna_nll': 0.446, 'x_rna_kl': 0.014, 'x_rna_elbo': 0.459, 'x_atac_nll': 0.638, 'x_atac_kl': 0.009, 'x_atac_elbo': 0.647, 'dsc_loss': 0.681, 'vae_loss': 1.182, 'gen_loss': 1.148, 'joint_cross_loss': 1.081, 'real_cross_loss': 1.095, 'cos_loss': 0.304}, val={'g_nll': 0.613, 'g_kl': 0.024, 'g_elbo': 0.637, 'x_rna_nll': 0.451, 'x_rna_kl': 0.012, 'x_rna_elbo': 0.463, 'x_atac_nll': 0.671, 'x_atac_kl': 0.009, 'x_atac_elbo': 0.68, 'dsc_loss': 0.693, 'vae_loss': 1.219, 'gen_loss': 1.184, 'joint_cross_loss': 1.119, 'real_cross_loss': 1.13, 'cos_loss': 0.273}, 3.2s elapsed\n",
      "[INFO] PairedSCGLUETrainer: [Epoch 20] train={'g_nll': 0.615, 'g_kl': 0.033, 'g_elbo': 0.648, 'x_rna_nll': 0.435, 'x_rna_kl': 0.01, 'x_rna_elbo': 0.445, 'x_atac_nll': 0.625, 'x_atac_kl': 0.005, 'x_atac_elbo': 0.63, 'dsc_loss': 0.69, 'vae_loss': 1.151, 'gen_loss': 1.116, 'joint_cross_loss': 1.059, 'real_cross_loss': 1.072, 'cos_loss': 0.369}, val={'g_nll': 0.614, 'g_kl': 0.033, 'g_elbo': 0.647, 'x_rna_nll': 0.44, 'x_rna_kl': 0.009, 'x_rna_elbo': 0.449, 'x_atac_nll': 0.664, 'x_atac_kl': 0.005, 'x_atac_elbo': 0.668, 'dsc_loss': 0.691, 'vae_loss': 1.195, 'gen_loss': 1.16, 'joint_cross_loss': 1.104, 'real_cross_loss': 1.116, 'cos_loss': 0.363}, 8.8s elapsed\n",
      "[INFO] PairedSCGLUETrainer: [Epoch 30] train={'g_nll': 0.578, 'g_kl': 0.037, 'g_elbo': 0.616, 'x_rna_nll': 0.429, 'x_rna_kl': 0.009, 'x_rna_elbo': 0.438, 'x_atac_nll': 0.62, 'x_atac_kl': 0.004, 'x_atac_elbo': 0.624, 'dsc_loss': 0.69, 'vae_loss': 1.137, 'gen_loss': 1.103, 'joint_cross_loss': 1.05, 'real_cross_loss': 1.063, 'cos_loss': 0.421}, val={'g_nll': 0.576, 'g_kl': 0.037, 'g_elbo': 0.614, 'x_rna_nll': 0.435, 'x_rna_kl': 0.008, 'x_rna_elbo': 0.443, 'x_atac_nll': 0.657, 'x_atac_kl': 0.004, 'x_atac_elbo': 0.661, 'dsc_loss': 0.691, 'vae_loss': 1.181, 'gen_loss': 1.146, 'joint_cross_loss': 1.092, 'real_cross_loss': 1.103, 'cos_loss': 0.424}, 11.0s elapsed\n",
      "[INFO] PairedSCGLUETrainer: [Epoch 40] train={'g_nll': 0.531, 'g_kl': 0.037, 'g_elbo': 0.568, 'x_rna_nll': 0.427, 'x_rna_kl': 0.009, 'x_rna_elbo': 0.436, 'x_atac_nll': 0.617, 'x_atac_kl': 0.004, 'x_atac_elbo': 0.621, 'dsc_loss': 0.693, 'vae_loss': 1.131, 'gen_loss': 1.096, 'joint_cross_loss': 1.046, 'real_cross_loss': 1.06, 'cos_loss': 0.437}, val={'g_nll': 0.527, 'g_kl': 0.037, 'g_elbo': 0.565, 'x_rna_nll': 0.434, 'x_rna_kl': 0.008, 'x_rna_elbo': 0.443, 'x_atac_nll': 0.653, 'x_atac_kl': 0.004, 'x_atac_elbo': 0.657, 'dsc_loss': 0.695, 'vae_loss': 1.174, 'gen_loss': 1.14, 'joint_cross_loss': 1.087, 'real_cross_loss': 1.099, 'cos_loss': 0.439}, 3.3s elapsed\n",
      "[INFO] PairedSCGLUETrainer: [Epoch 50] train={'g_nll': 0.499, 'g_kl': 0.036, 'g_elbo': 0.536, 'x_rna_nll': 0.425, 'x_rna_kl': 0.009, 'x_rna_elbo': 0.434, 'x_atac_nll': 0.617, 'x_atac_kl': 0.004, 'x_atac_elbo': 0.62, 'dsc_loss': 0.692, 'vae_loss': 1.127, 'gen_loss': 1.092, 'joint_cross_loss': 1.043, 'real_cross_loss': 1.057, 'cos_loss': 0.448}, val={'g_nll': 0.499, 'g_kl': 0.037, 'g_elbo': 0.536, 'x_rna_nll': 0.433, 'x_rna_kl': 0.009, 'x_rna_elbo': 0.442, 'x_atac_nll': 0.653, 'x_atac_kl': 0.004, 'x_atac_elbo': 0.657, 'dsc_loss': 0.696, 'vae_loss': 1.172, 'gen_loss': 1.138, 'joint_cross_loss': 1.087, 'real_cross_loss': 1.099, 'cos_loss': 0.448}, 3.2s elapsed\n",
      "[INFO] PairedSCGLUETrainer: [Epoch 60] train={'g_nll': 0.483, 'g_kl': 0.036, 'g_elbo': 0.519, 'x_rna_nll': 0.424, 'x_rna_kl': 0.009, 'x_rna_elbo': 0.433, 'x_atac_nll': 0.616, 'x_atac_kl': 0.004, 'x_atac_elbo': 0.62, 'dsc_loss': 0.691, 'vae_loss': 1.125, 'gen_loss': 1.09, 'joint_cross_loss': 1.042, 'real_cross_loss': 1.056, 'cos_loss': 0.448}, val={'g_nll': 0.483, 'g_kl': 0.036, 'g_elbo': 0.519, 'x_rna_nll': 0.435, 'x_rna_kl': 0.009, 'x_rna_elbo': 0.444, 'x_atac_nll': 0.662, 'x_atac_kl': 0.004, 'x_atac_elbo': 0.666, 'dsc_loss': 0.691, 'vae_loss': 1.184, 'gen_loss': 1.149, 'joint_cross_loss': 1.099, 'real_cross_loss': 1.112, 'cos_loss': 0.45}, 3.2s elapsed\n",
      "[INFO] PairedSCGLUETrainer: [Epoch 70] train={'g_nll': 0.475, 'g_kl': 0.035, 'g_elbo': 0.51, 'x_rna_nll': 0.424, 'x_rna_kl': 0.009, 'x_rna_elbo': 0.433, 'x_atac_nll': 0.617, 'x_atac_kl': 0.004, 'x_atac_elbo': 0.62, 'dsc_loss': 0.692, 'vae_loss': 1.124, 'gen_loss': 1.09, 'joint_cross_loss': 1.042, 'real_cross_loss': 1.056, 'cos_loss': 0.447}, val={'g_nll': 0.477, 'g_kl': 0.035, 'g_elbo': 0.512, 'x_rna_nll': 0.437, 'x_rna_kl': 0.009, 'x_rna_elbo': 0.446, 'x_atac_nll': 0.659, 'x_atac_kl': 0.004, 'x_atac_elbo': 0.663, 'dsc_loss': 0.694, 'vae_loss': 1.182, 'gen_loss': 1.147, 'joint_cross_loss': 1.097, 'real_cross_loss': 1.11, 'cos_loss': 0.446}, 3.3s elapsed\n",
      "[INFO] PairedSCGLUETrainer: [Epoch 80] train={'g_nll': 0.471, 'g_kl': 0.035, 'g_elbo': 0.505, 'x_rna_nll': 0.423, 'x_rna_kl': 0.009, 'x_rna_elbo': 0.432, 'x_atac_nll': 0.615, 'x_atac_kl': 0.004, 'x_atac_elbo': 0.619, 'dsc_loss': 0.692, 'vae_loss': 1.122, 'gen_loss': 1.088, 'joint_cross_loss': 1.04, 'real_cross_loss': 1.054, 'cos_loss': 0.444}, val={'g_nll': 0.466, 'g_kl': 0.035, 'g_elbo': 0.501, 'x_rna_nll': 0.43, 'x_rna_kl': 0.009, 'x_rna_elbo': 0.439, 'x_atac_nll': 0.655, 'x_atac_kl': 0.004, 'x_atac_elbo': 0.659, 'dsc_loss': 0.695, 'vae_loss': 1.17, 'gen_loss': 1.136, 'joint_cross_loss': 1.087, 'real_cross_loss': 1.1, 'cos_loss': 0.435}, 3.2s elapsed\n",
      "[INFO] PairedSCGLUETrainer: [Epoch 90] train={'g_nll': 0.467, 'g_kl': 0.034, 'g_elbo': 0.501, 'x_rna_nll': 0.423, 'x_rna_kl': 0.009, 'x_rna_elbo': 0.432, 'x_atac_nll': 0.617, 'x_atac_kl': 0.004, 'x_atac_elbo': 0.62, 'dsc_loss': 0.693, 'vae_loss': 1.123, 'gen_loss': 1.089, 'joint_cross_loss': 1.041, 'real_cross_loss': 1.056, 'cos_loss': 0.441}, val={'g_nll': 0.466, 'g_kl': 0.034, 'g_elbo': 0.5, 'x_rna_nll': 0.428, 'x_rna_kl': 0.009, 'x_rna_elbo': 0.437, 'x_atac_nll': 0.65, 'x_atac_kl': 0.004, 'x_atac_elbo': 0.653, 'dsc_loss': 0.694, 'vae_loss': 1.163, 'gen_loss': 1.128, 'joint_cross_loss': 1.079, 'real_cross_loss': 1.092, 'cos_loss': 0.444}, 3.3s elapsed\n",
      "[INFO] PairedSCGLUETrainer: [Epoch 100] train={'g_nll': 0.462, 'g_kl': 0.034, 'g_elbo': 0.496, 'x_rna_nll': 0.423, 'x_rna_kl': 0.009, 'x_rna_elbo': 0.432, 'x_atac_nll': 0.616, 'x_atac_kl': 0.004, 'x_atac_elbo': 0.619, 'dsc_loss': 0.692, 'vae_loss': 1.122, 'gen_loss': 1.087, 'joint_cross_loss': 1.04, 'real_cross_loss': 1.055, 'cos_loss': 0.439}, val={'g_nll': 0.462, 'g_kl': 0.034, 'g_elbo': 0.495, 'x_rna_nll': 0.428, 'x_rna_kl': 0.009, 'x_rna_elbo': 0.437, 'x_atac_nll': 0.65, 'x_atac_kl': 0.004, 'x_atac_elbo': 0.654, 'dsc_loss': 0.697, 'vae_loss': 1.163, 'gen_loss': 1.128, 'joint_cross_loss': 1.08, 'real_cross_loss': 1.093, 'cos_loss': 0.438}, 5.8s elapsed\n",
      "[INFO] PairedSCGLUETrainer: [Epoch 110] train={'g_nll': 0.46, 'g_kl': 0.033, 'g_elbo': 0.493, 'x_rna_nll': 0.422, 'x_rna_kl': 0.009, 'x_rna_elbo': 0.431, 'x_atac_nll': 0.615, 'x_atac_kl': 0.004, 'x_atac_elbo': 0.619, 'dsc_loss': 0.692, 'vae_loss': 1.12, 'gen_loss': 1.086, 'joint_cross_loss': 1.039, 'real_cross_loss': 1.054, 'cos_loss': 0.436}, val={'g_nll': 0.458, 'g_kl': 0.033, 'g_elbo': 0.491, 'x_rna_nll': 0.432, 'x_rna_kl': 0.009, 'x_rna_elbo': 0.441, 'x_atac_nll': 0.665, 'x_atac_kl': 0.004, 'x_atac_elbo': 0.668, 'dsc_loss': 0.691, 'vae_loss': 1.182, 'gen_loss': 1.147, 'joint_cross_loss': 1.098, 'real_cross_loss': 1.111, 'cos_loss': 0.44}, 8.1s elapsed\n",
      "Epoch 00110: reducing learning rate of group 0 to 2.0000e-04.\n",
      "Epoch 00110: reducing learning rate of group 0 to 2.0000e-04.\n",
      "[INFO] LRScheduler: Learning rate reduction: step 1\n",
      "[INFO] PairedSCGLUETrainer: [Epoch 120] train={'g_nll': 0.456, 'g_kl': 0.033, 'g_elbo': 0.489, 'x_rna_nll': 0.421, 'x_rna_kl': 0.009, 'x_rna_elbo': 0.43, 'x_atac_nll': 0.615, 'x_atac_kl': 0.004, 'x_atac_elbo': 0.619, 'dsc_loss': 0.691, 'vae_loss': 1.119, 'gen_loss': 1.084, 'joint_cross_loss': 1.038, 'real_cross_loss': 1.052, 'cos_loss': 0.433}, val={'g_nll': 0.458, 'g_kl': 0.033, 'g_elbo': 0.491, 'x_rna_nll': 0.432, 'x_rna_kl': 0.009, 'x_rna_elbo': 0.44, 'x_atac_nll': 0.655, 'x_atac_kl': 0.004, 'x_atac_elbo': 0.659, 'dsc_loss': 0.69, 'vae_loss': 1.172, 'gen_loss': 1.137, 'joint_cross_loss': 1.088, 'real_cross_loss': 1.102, 'cos_loss': 0.43}, 4.6s elapsed\n",
      "[INFO] PairedSCGLUETrainer: [Epoch 130] train={'g_nll': 0.457, 'g_kl': 0.033, 'g_elbo': 0.49, 'x_rna_nll': 0.42, 'x_rna_kl': 0.009, 'x_rna_elbo': 0.43, 'x_atac_nll': 0.616, 'x_atac_kl': 0.004, 'x_atac_elbo': 0.62, 'dsc_loss': 0.691, 'vae_loss': 1.12, 'gen_loss': 1.085, 'joint_cross_loss': 1.039, 'real_cross_loss': 1.053, 'cos_loss': 0.429}, val={'g_nll': 0.457, 'g_kl': 0.033, 'g_elbo': 0.49, 'x_rna_nll': 0.431, 'x_rna_kl': 0.009, 'x_rna_elbo': 0.44, 'x_atac_nll': 0.655, 'x_atac_kl': 0.004, 'x_atac_elbo': 0.659, 'dsc_loss': 0.693, 'vae_loss': 1.17, 'gen_loss': 1.136, 'joint_cross_loss': 1.087, 'real_cross_loss': 1.1, 'cos_loss': 0.436}, 8.0s elapsed\n",
      "[INFO] PairedSCGLUETrainer: [Epoch 140] train={'g_nll': 0.457, 'g_kl': 0.033, 'g_elbo': 0.49, 'x_rna_nll': 0.42, 'x_rna_kl': 0.009, 'x_rna_elbo': 0.429, 'x_atac_nll': 0.615, 'x_atac_kl': 0.004, 'x_atac_elbo': 0.619, 'dsc_loss': 0.692, 'vae_loss': 1.118, 'gen_loss': 1.084, 'joint_cross_loss': 1.037, 'real_cross_loss': 1.052, 'cos_loss': 0.429}, val={'g_nll': 0.457, 'g_kl': 0.033, 'g_elbo': 0.49, 'x_rna_nll': 0.431, 'x_rna_kl': 0.009, 'x_rna_elbo': 0.44, 'x_atac_nll': 0.654, 'x_atac_kl': 0.004, 'x_atac_elbo': 0.658, 'dsc_loss': 0.691, 'vae_loss': 1.169, 'gen_loss': 1.134, 'joint_cross_loss': 1.086, 'real_cross_loss': 1.099, 'cos_loss': 0.427}, 7.6s elapsed\n",
      "[INFO] PairedSCGLUETrainer: [Epoch 150] train={'g_nll': 0.456, 'g_kl': 0.033, 'g_elbo': 0.489, 'x_rna_nll': 0.42, 'x_rna_kl': 0.009, 'x_rna_elbo': 0.43, 'x_atac_nll': 0.615, 'x_atac_kl': 0.004, 'x_atac_elbo': 0.619, 'dsc_loss': 0.691, 'vae_loss': 1.119, 'gen_loss': 1.084, 'joint_cross_loss': 1.038, 'real_cross_loss': 1.052, 'cos_loss': 0.431}, val={'g_nll': 0.453, 'g_kl': 0.033, 'g_elbo': 0.486, 'x_rna_nll': 0.428, 'x_rna_kl': 0.009, 'x_rna_elbo': 0.437, 'x_atac_nll': 0.657, 'x_atac_kl': 0.004, 'x_atac_elbo': 0.661, 'dsc_loss': 0.691, 'vae_loss': 1.17, 'gen_loss': 1.135, 'joint_cross_loss': 1.087, 'real_cross_loss': 1.1, 'cos_loss': 0.428}, 3.3s elapsed\n",
      "[INFO] PairedSCGLUETrainer: [Epoch 160] train={'g_nll': 0.455, 'g_kl': 0.033, 'g_elbo': 0.489, 'x_rna_nll': 0.42, 'x_rna_kl': 0.009, 'x_rna_elbo': 0.43, 'x_atac_nll': 0.615, 'x_atac_kl': 0.004, 'x_atac_elbo': 0.619, 'dsc_loss': 0.692, 'vae_loss': 1.119, 'gen_loss': 1.084, 'joint_cross_loss': 1.038, 'real_cross_loss': 1.052, 'cos_loss': 0.432}, val={'g_nll': 0.455, 'g_kl': 0.033, 'g_elbo': 0.488, 'x_rna_nll': 0.431, 'x_rna_kl': 0.009, 'x_rna_elbo': 0.44, 'x_atac_nll': 0.649, 'x_atac_kl': 0.004, 'x_atac_elbo': 0.653, 'dsc_loss': 0.693, 'vae_loss': 1.165, 'gen_loss': 1.13, 'joint_cross_loss': 1.082, 'real_cross_loss': 1.095, 'cos_loss': 0.437}, 3.3s elapsed\n",
      "Epoch 00160: reducing learning rate of group 0 to 2.0000e-05.\n",
      "Epoch 00160: reducing learning rate of group 0 to 2.0000e-05.\n",
      "[INFO] LRScheduler: Learning rate reduction: step 2\n",
      "[INFO] PairedSCGLUETrainer: [Epoch 170] train={'g_nll': 0.456, 'g_kl': 0.033, 'g_elbo': 0.489, 'x_rna_nll': 0.42, 'x_rna_kl': 0.009, 'x_rna_elbo': 0.43, 'x_atac_nll': 0.615, 'x_atac_kl': 0.004, 'x_atac_elbo': 0.619, 'dsc_loss': 0.69, 'vae_loss': 1.118, 'gen_loss': 1.083, 'joint_cross_loss': 1.037, 'real_cross_loss': 1.052, 'cos_loss': 0.427}, val={'g_nll': 0.453, 'g_kl': 0.033, 'g_elbo': 0.486, 'x_rna_nll': 0.427, 'x_rna_kl': 0.009, 'x_rna_elbo': 0.436, 'x_atac_nll': 0.658, 'x_atac_kl': 0.004, 'x_atac_elbo': 0.662, 'dsc_loss': 0.691, 'vae_loss': 1.17, 'gen_loss': 1.135, 'joint_cross_loss': 1.087, 'real_cross_loss': 1.1, 'cos_loss': 0.439}, 8.0s elapsed\n",
      "[INFO] PairedSCGLUETrainer: [Epoch 180] train={'g_nll': 0.456, 'g_kl': 0.033, 'g_elbo': 0.489, 'x_rna_nll': 0.42, 'x_rna_kl': 0.009, 'x_rna_elbo': 0.429, 'x_atac_nll': 0.615, 'x_atac_kl': 0.004, 'x_atac_elbo': 0.619, 'dsc_loss': 0.693, 'vae_loss': 1.118, 'gen_loss': 1.083, 'joint_cross_loss': 1.037, 'real_cross_loss': 1.051, 'cos_loss': 0.429}, val={'g_nll': 0.458, 'g_kl': 0.033, 'g_elbo': 0.491, 'x_rna_nll': 0.43, 'x_rna_kl': 0.009, 'x_rna_elbo': 0.439, 'x_atac_nll': 0.655, 'x_atac_kl': 0.004, 'x_atac_elbo': 0.658, 'dsc_loss': 0.689, 'vae_loss': 1.169, 'gen_loss': 1.135, 'joint_cross_loss': 1.086, 'real_cross_loss': 1.099, 'cos_loss': 0.432}, 3.2s elapsed\n",
      "[INFO] PairedSCGLUETrainer: [Epoch 190] train={'g_nll': 0.455, 'g_kl': 0.033, 'g_elbo': 0.488, 'x_rna_nll': 0.42, 'x_rna_kl': 0.009, 'x_rna_elbo': 0.429, 'x_atac_nll': 0.615, 'x_atac_kl': 0.004, 'x_atac_elbo': 0.619, 'dsc_loss': 0.691, 'vae_loss': 1.117, 'gen_loss': 1.083, 'joint_cross_loss': 1.037, 'real_cross_loss': 1.051, 'cos_loss': 0.43}, val={'g_nll': 0.457, 'g_kl': 0.033, 'g_elbo': 0.49, 'x_rna_nll': 0.428, 'x_rna_kl': 0.009, 'x_rna_elbo': 0.437, 'x_atac_nll': 0.656, 'x_atac_kl': 0.004, 'x_atac_elbo': 0.66, 'dsc_loss': 0.689, 'vae_loss': 1.169, 'gen_loss': 1.134, 'joint_cross_loss': 1.086, 'real_cross_loss': 1.099, 'cos_loss': 0.428}, 3.4s elapsed\n"
     ]
    },
    {
     "name": "stderr",
     "output_type": "stream",
     "text": [
      "2023-05-06 00:12:08,611 ignite.handlers.early_stopping.EarlyStopping INFO: EarlyStopping: Stop training\n"
     ]
    },
    {
     "name": "stdout",
     "output_type": "stream",
     "text": [
      "[INFO] EarlyStopping: No usable checkpoint found. Skipping checkpoint restoration.\n",
      "[INFO] EarlyStopping: No usable checkpoint found. Skipping checkpoint restoration.\n"
     ]
    },
    {
     "name": "stderr",
     "output_type": "stream",
     "text": [
      "/dss/dsshome1/01/di93bur/miniconda3/envs/scglue_env_2/lib/python3.9/multiprocessing/popen_fork.py:66: ResourceWarning: unclosed socket <zmq.Socket(zmq.PUSH) at 0x7f3dd8395b20>\n",
      "  self.pid = os.fork()\n",
      "ResourceWarning: Enable tracemalloc to get the object allocation traceback\n"
     ]
    },
    {
     "name": "stdout",
     "output_type": "stream",
     "text": [
      "[INFO] fit_SCGLUE: Estimating balancing weight...\n",
      "[INFO] estimate_balancing_weight: Clustering cells...\n",
      "[INFO] estimate_balancing_weight: Matching clusters...\n",
      "[INFO] estimate_balancing_weight: Matching array shape = (18, 17)...\n",
      "[INFO] estimate_balancing_weight: Estimating balancing weight...\n",
      "[INFO] fit_SCGLUE: Fine-tuning SCGLUE model...\n"
     ]
    },
    {
     "name": "stderr",
     "output_type": "stream",
     "text": [
      "/dss/dsshome1/01/di93bur/miniconda3/envs/scglue_env_2/lib/python3.9/site-packages/anndata/_core/anndata.py:117: ImplicitModificationWarning: Transforming to str index.\n",
      "  warnings.warn(\"Transforming to str index.\", ImplicitModificationWarning)\n",
      "/dss/dsshome1/01/di93bur/miniconda3/envs/scglue_env_2/lib/python3.9/site-packages/anndata/_core/anndata.py:117: ImplicitModificationWarning: Transforming to str index.\n",
      "  warnings.warn(\"Transforming to str index.\", ImplicitModificationWarning)\n",
      "[WARNING] PairedSCGLUEModel: It is recommended that `use_rep` dimensionality be equal or larger than `latent_dim`.\n"
     ]
    },
    {
     "name": "stdout",
     "output_type": "stream",
     "text": [
      "[INFO] check_graph: Checking variable coverage...\n",
      "[INFO] check_graph: Checking edge attributes...\n",
      "[INFO] check_graph: Checking self-loops...\n",
      "[INFO] check_graph: Checking graph symmetry...\n",
      "[INFO] PairedSCGLUEModel: Setting `graph_batch_size` = 4560\n",
      "[INFO] PairedSCGLUEModel: Setting `align_burnin` = 132\n",
      "[INFO] PairedSCGLUEModel: Setting `max_epochs` = 790\n",
      "[INFO] PairedSCGLUEModel: Setting `patience` = 66\n",
      "[INFO] PairedSCGLUEModel: Setting `reduce_lr_patience` = 33\n",
      "[INFO] PairedSCGLUETrainer: Using training directory: \"glue/fine-tune\"\n",
      "[INFO] PairedSCGLUETrainer: [Epoch 10] train={'g_nll': 0.453, 'g_kl': 0.033, 'g_elbo': 0.485, 'x_rna_nll': 0.422, 'x_rna_kl': 0.009, 'x_rna_elbo': 0.431, 'x_atac_nll': 0.62, 'x_atac_kl': 0.004, 'x_atac_elbo': 0.624, 'dsc_loss': 0.693, 'vae_loss': 1.126, 'gen_loss': 1.091, 'joint_cross_loss': 1.044, 'real_cross_loss': 1.059, 'cos_loss': 0.434}, val={'g_nll': 0.452, 'g_kl': 0.032, 'g_elbo': 0.484, 'x_rna_nll': 0.417, 'x_rna_kl': 0.009, 'x_rna_elbo': 0.426, 'x_atac_nll': 0.613, 'x_atac_kl': 0.004, 'x_atac_elbo': 0.616, 'dsc_loss': 0.693, 'vae_loss': 1.112, 'gen_loss': 1.077, 'joint_cross_loss': 1.032, 'real_cross_loss': 1.044, 'cos_loss': 0.437}, 19.2s elapsed\n",
      "[INFO] PairedSCGLUETrainer: [Epoch 20] train={'g_nll': 0.452, 'g_kl': 0.032, 'g_elbo': 0.484, 'x_rna_nll': 0.423, 'x_rna_kl': 0.009, 'x_rna_elbo': 0.432, 'x_atac_nll': 0.621, 'x_atac_kl': 0.004, 'x_atac_elbo': 0.624, 'dsc_loss': 0.689, 'vae_loss': 1.127, 'gen_loss': 1.092, 'joint_cross_loss': 1.046, 'real_cross_loss': 1.06, 'cos_loss': 0.431}, val={'g_nll': 0.45, 'g_kl': 0.032, 'g_elbo': 0.482, 'x_rna_nll': 0.419, 'x_rna_kl': 0.009, 'x_rna_elbo': 0.428, 'x_atac_nll': 0.617, 'x_atac_kl': 0.003, 'x_atac_elbo': 0.62, 'dsc_loss': 0.702, 'vae_loss': 1.118, 'gen_loss': 1.083, 'joint_cross_loss': 1.038, 'real_cross_loss': 1.051, 'cos_loss': 0.434}, 4.6s elapsed\n",
      "[INFO] PairedSCGLUETrainer: [Epoch 30] train={'g_nll': 0.449, 'g_kl': 0.032, 'g_elbo': 0.481, 'x_rna_nll': 0.423, 'x_rna_kl': 0.009, 'x_rna_elbo': 0.432, 'x_atac_nll': 0.62, 'x_atac_kl': 0.004, 'x_atac_elbo': 0.623, 'dsc_loss': 0.691, 'vae_loss': 1.125, 'gen_loss': 1.09, 'joint_cross_loss': 1.044, 'real_cross_loss': 1.059, 'cos_loss': 0.427}, val={'g_nll': 0.453, 'g_kl': 0.032, 'g_elbo': 0.485, 'x_rna_nll': 0.419, 'x_rna_kl': 0.009, 'x_rna_elbo': 0.428, 'x_atac_nll': 0.612, 'x_atac_kl': 0.003, 'x_atac_elbo': 0.615, 'dsc_loss': 0.698, 'vae_loss': 1.112, 'gen_loss': 1.077, 'joint_cross_loss': 1.032, 'real_cross_loss': 1.045, 'cos_loss': 0.425}, 3.4s elapsed\n",
      "[INFO] PairedSCGLUETrainer: [Epoch 40] train={'g_nll': 0.448, 'g_kl': 0.031, 'g_elbo': 0.48, 'x_rna_nll': 0.423, 'x_rna_kl': 0.009, 'x_rna_elbo': 0.432, 'x_atac_nll': 0.621, 'x_atac_kl': 0.004, 'x_atac_elbo': 0.624, 'dsc_loss': 0.691, 'vae_loss': 1.126, 'gen_loss': 1.091, 'joint_cross_loss': 1.045, 'real_cross_loss': 1.059, 'cos_loss': 0.426}, val={'g_nll': 0.447, 'g_kl': 0.031, 'g_elbo': 0.479, 'x_rna_nll': 0.417, 'x_rna_kl': 0.009, 'x_rna_elbo': 0.426, 'x_atac_nll': 0.613, 'x_atac_kl': 0.003, 'x_atac_elbo': 0.616, 'dsc_loss': 0.699, 'vae_loss': 1.112, 'gen_loss': 1.077, 'joint_cross_loss': 1.032, 'real_cross_loss': 1.046, 'cos_loss': 0.439}, 17.0s elapsed\n",
      "[INFO] PairedSCGLUETrainer: [Epoch 50] train={'g_nll': 0.446, 'g_kl': 0.031, 'g_elbo': 0.477, 'x_rna_nll': 0.423, 'x_rna_kl': 0.009, 'x_rna_elbo': 0.432, 'x_atac_nll': 0.62, 'x_atac_kl': 0.004, 'x_atac_elbo': 0.624, 'dsc_loss': 0.691, 'vae_loss': 1.125, 'gen_loss': 1.091, 'joint_cross_loss': 1.045, 'real_cross_loss': 1.059, 'cos_loss': 0.425}, val={'g_nll': 0.443, 'g_kl': 0.031, 'g_elbo': 0.474, 'x_rna_nll': 0.417, 'x_rna_kl': 0.009, 'x_rna_elbo': 0.426, 'x_atac_nll': 0.608, 'x_atac_kl': 0.003, 'x_atac_elbo': 0.611, 'dsc_loss': 0.687, 'vae_loss': 1.106, 'gen_loss': 1.072, 'joint_cross_loss': 1.027, 'real_cross_loss': 1.039, 'cos_loss': 0.419}, 3.4s elapsed\n",
      "[INFO] PairedSCGLUETrainer: [Epoch 60] train={'g_nll': 0.445, 'g_kl': 0.031, 'g_elbo': 0.475, 'x_rna_nll': 0.422, 'x_rna_kl': 0.009, 'x_rna_elbo': 0.431, 'x_atac_nll': 0.621, 'x_atac_kl': 0.004, 'x_atac_elbo': 0.624, 'dsc_loss': 0.689, 'vae_loss': 1.125, 'gen_loss': 1.09, 'joint_cross_loss': 1.044, 'real_cross_loss': 1.059, 'cos_loss': 0.424}, val={'g_nll': 0.444, 'g_kl': 0.031, 'g_elbo': 0.475, 'x_rna_nll': 0.417, 'x_rna_kl': 0.009, 'x_rna_elbo': 0.426, 'x_atac_nll': 0.616, 'x_atac_kl': 0.003, 'x_atac_elbo': 0.62, 'dsc_loss': 0.694, 'vae_loss': 1.114, 'gen_loss': 1.08, 'joint_cross_loss': 1.035, 'real_cross_loss': 1.048, 'cos_loss': 0.424}, 9.5s elapsed\n",
      "[INFO] PairedSCGLUETrainer: [Epoch 70] train={'g_nll': 0.444, 'g_kl': 0.03, 'g_elbo': 0.474, 'x_rna_nll': 0.422, 'x_rna_kl': 0.009, 'x_rna_elbo': 0.431, 'x_atac_nll': 0.62, 'x_atac_kl': 0.004, 'x_atac_elbo': 0.623, 'dsc_loss': 0.692, 'vae_loss': 1.124, 'gen_loss': 1.089, 'joint_cross_loss': 1.044, 'real_cross_loss': 1.059, 'cos_loss': 0.425}, val={'g_nll': 0.444, 'g_kl': 0.03, 'g_elbo': 0.474, 'x_rna_nll': 0.415, 'x_rna_kl': 0.009, 'x_rna_elbo': 0.424, 'x_atac_nll': 0.612, 'x_atac_kl': 0.003, 'x_atac_elbo': 0.615, 'dsc_loss': 0.7, 'vae_loss': 1.108, 'gen_loss': 1.073, 'joint_cross_loss': 1.028, 'real_cross_loss': 1.041, 'cos_loss': 0.421}, 10.4s elapsed\n",
      "[INFO] PairedSCGLUETrainer: [Epoch 80] train={'g_nll': 0.441, 'g_kl': 0.03, 'g_elbo': 0.471, 'x_rna_nll': 0.422, 'x_rna_kl': 0.009, 'x_rna_elbo': 0.431, 'x_atac_nll': 0.62, 'x_atac_kl': 0.003, 'x_atac_elbo': 0.623, 'dsc_loss': 0.69, 'vae_loss': 1.124, 'gen_loss': 1.089, 'joint_cross_loss': 1.044, 'real_cross_loss': 1.058, 'cos_loss': 0.423}, val={'g_nll': 0.439, 'g_kl': 0.03, 'g_elbo': 0.469, 'x_rna_nll': 0.417, 'x_rna_kl': 0.009, 'x_rna_elbo': 0.426, 'x_atac_nll': 0.604, 'x_atac_kl': 0.003, 'x_atac_elbo': 0.608, 'dsc_loss': 0.688, 'vae_loss': 1.102, 'gen_loss': 1.067, 'joint_cross_loss': 1.023, 'real_cross_loss': 1.036, 'cos_loss': 0.425}, 3.5s elapsed\n",
      "[INFO] PairedSCGLUETrainer: [Epoch 90] train={'g_nll': 0.441, 'g_kl': 0.03, 'g_elbo': 0.47, 'x_rna_nll': 0.423, 'x_rna_kl': 0.009, 'x_rna_elbo': 0.432, 'x_atac_nll': 0.621, 'x_atac_kl': 0.003, 'x_atac_elbo': 0.625, 'dsc_loss': 0.691, 'vae_loss': 1.126, 'gen_loss': 1.091, 'joint_cross_loss': 1.046, 'real_cross_loss': 1.061, 'cos_loss': 0.42}, val={'g_nll': 0.437, 'g_kl': 0.03, 'g_elbo': 0.467, 'x_rna_nll': 0.426, 'x_rna_kl': 0.009, 'x_rna_elbo': 0.435, 'x_atac_nll': 0.616, 'x_atac_kl': 0.003, 'x_atac_elbo': 0.62, 'dsc_loss': 0.692, 'vae_loss': 1.124, 'gen_loss': 1.089, 'joint_cross_loss': 1.044, 'real_cross_loss': 1.058, 'cos_loss': 0.429}, 11.6s elapsed\n",
      "[INFO] PairedSCGLUETrainer: [Epoch 100] train={'g_nll': 0.439, 'g_kl': 0.029, 'g_elbo': 0.469, 'x_rna_nll': 0.422, 'x_rna_kl': 0.009, 'x_rna_elbo': 0.431, 'x_atac_nll': 0.62, 'x_atac_kl': 0.003, 'x_atac_elbo': 0.624, 'dsc_loss': 0.691, 'vae_loss': 1.124, 'gen_loss': 1.089, 'joint_cross_loss': 1.044, 'real_cross_loss': 1.059, 'cos_loss': 0.42}, val={'g_nll': 0.44, 'g_kl': 0.029, 'g_elbo': 0.469, 'x_rna_nll': 0.415, 'x_rna_kl': 0.009, 'x_rna_elbo': 0.424, 'x_atac_nll': 0.599, 'x_atac_kl': 0.003, 'x_atac_elbo': 0.603, 'dsc_loss': 0.693, 'vae_loss': 1.095, 'gen_loss': 1.06, 'joint_cross_loss': 1.016, 'real_cross_loss': 1.03, 'cos_loss': 0.426}, 3.2s elapsed\n",
      "[INFO] PairedSCGLUETrainer: [Epoch 110] train={'g_nll': 0.438, 'g_kl': 0.029, 'g_elbo': 0.467, 'x_rna_nll': 0.422, 'x_rna_kl': 0.009, 'x_rna_elbo': 0.431, 'x_atac_nll': 0.62, 'x_atac_kl': 0.003, 'x_atac_elbo': 0.624, 'dsc_loss': 0.689, 'vae_loss': 1.124, 'gen_loss': 1.089, 'joint_cross_loss': 1.044, 'real_cross_loss': 1.059, 'cos_loss': 0.42}, val={'g_nll': 0.438, 'g_kl': 0.029, 'g_elbo': 0.467, 'x_rna_nll': 0.422, 'x_rna_kl': 0.009, 'x_rna_elbo': 0.431, 'x_atac_nll': 0.614, 'x_atac_kl': 0.003, 'x_atac_elbo': 0.617, 'dsc_loss': 0.705, 'vae_loss': 1.117, 'gen_loss': 1.081, 'joint_cross_loss': 1.038, 'real_cross_loss': 1.051, 'cos_loss': 0.43}, 3.3s elapsed\n",
      "[INFO] PairedSCGLUETrainer: [Epoch 120] train={'g_nll': 0.437, 'g_kl': 0.029, 'g_elbo': 0.466, 'x_rna_nll': 0.422, 'x_rna_kl': 0.009, 'x_rna_elbo': 0.431, 'x_atac_nll': 0.621, 'x_atac_kl': 0.003, 'x_atac_elbo': 0.624, 'dsc_loss': 0.688, 'vae_loss': 1.124, 'gen_loss': 1.09, 'joint_cross_loss': 1.045, 'real_cross_loss': 1.06, 'cos_loss': 0.418}, val={'g_nll': 0.439, 'g_kl': 0.029, 'g_elbo': 0.467, 'x_rna_nll': 0.417, 'x_rna_kl': 0.009, 'x_rna_elbo': 0.425, 'x_atac_nll': 0.608, 'x_atac_kl': 0.003, 'x_atac_elbo': 0.611, 'dsc_loss': 0.692, 'vae_loss': 1.105, 'gen_loss': 1.071, 'joint_cross_loss': 1.026, 'real_cross_loss': 1.039, 'cos_loss': 0.429}, 3.6s elapsed\n",
      "[INFO] PairedSCGLUETrainer: [Epoch 130] train={'g_nll': 0.437, 'g_kl': 0.029, 'g_elbo': 0.465, 'x_rna_nll': 0.422, 'x_rna_kl': 0.009, 'x_rna_elbo': 0.431, 'x_atac_nll': 0.62, 'x_atac_kl': 0.003, 'x_atac_elbo': 0.623, 'dsc_loss': 0.689, 'vae_loss': 1.123, 'gen_loss': 1.089, 'joint_cross_loss': 1.043, 'real_cross_loss': 1.058, 'cos_loss': 0.42}, val={'g_nll': 0.434, 'g_kl': 0.029, 'g_elbo': 0.463, 'x_rna_nll': 0.413, 'x_rna_kl': 0.009, 'x_rna_elbo': 0.421, 'x_atac_nll': 0.614, 'x_atac_kl': 0.003, 'x_atac_elbo': 0.617, 'dsc_loss': 0.689, 'vae_loss': 1.107, 'gen_loss': 1.072, 'joint_cross_loss': 1.028, 'real_cross_loss': 1.041, 'cos_loss': 0.423}, 25.6s elapsed\n",
      "[INFO] PairedSCGLUETrainer: [Epoch 140] train={'g_nll': 0.435, 'g_kl': 0.028, 'g_elbo': 0.463, 'x_rna_nll': 0.422, 'x_rna_kl': 0.009, 'x_rna_elbo': 0.431, 'x_atac_nll': 0.62, 'x_atac_kl': 0.003, 'x_atac_elbo': 0.624, 'dsc_loss': 0.688, 'vae_loss': 1.124, 'gen_loss': 1.089, 'joint_cross_loss': 1.044, 'real_cross_loss': 1.059, 'cos_loss': 0.419}, val={'g_nll': 0.436, 'g_kl': 0.028, 'g_elbo': 0.464, 'x_rna_nll': 0.421, 'x_rna_kl': 0.009, 'x_rna_elbo': 0.429, 'x_atac_nll': 0.616, 'x_atac_kl': 0.003, 'x_atac_elbo': 0.62, 'dsc_loss': 0.692, 'vae_loss': 1.118, 'gen_loss': 1.083, 'joint_cross_loss': 1.039, 'real_cross_loss': 1.053, 'cos_loss': 0.423}, 3.4s elapsed\n",
      "[INFO] PairedSCGLUETrainer: [Epoch 150] train={'g_nll': 0.434, 'g_kl': 0.028, 'g_elbo': 0.463, 'x_rna_nll': 0.422, 'x_rna_kl': 0.009, 'x_rna_elbo': 0.431, 'x_atac_nll': 0.62, 'x_atac_kl': 0.003, 'x_atac_elbo': 0.623, 'dsc_loss': 0.686, 'vae_loss': 1.124, 'gen_loss': 1.089, 'joint_cross_loss': 1.044, 'real_cross_loss': 1.059, 'cos_loss': 0.421}, val={'g_nll': 0.433, 'g_kl': 0.028, 'g_elbo': 0.461, 'x_rna_nll': 0.414, 'x_rna_kl': 0.009, 'x_rna_elbo': 0.422, 'x_atac_nll': 0.612, 'x_atac_kl': 0.003, 'x_atac_elbo': 0.615, 'dsc_loss': 0.689, 'vae_loss': 1.106, 'gen_loss': 1.071, 'joint_cross_loss': 1.028, 'real_cross_loss': 1.041, 'cos_loss': 0.427}, 3.4s elapsed\n",
      "[INFO] PairedSCGLUETrainer: [Epoch 160] train={'g_nll': 0.434, 'g_kl': 0.028, 'g_elbo': 0.462, 'x_rna_nll': 0.422, 'x_rna_kl': 0.009, 'x_rna_elbo': 0.431, 'x_atac_nll': 0.62, 'x_atac_kl': 0.003, 'x_atac_elbo': 0.623, 'dsc_loss': 0.688, 'vae_loss': 1.123, 'gen_loss': 1.089, 'joint_cross_loss': 1.044, 'real_cross_loss': 1.059, 'cos_loss': 0.42}, val={'g_nll': 0.436, 'g_kl': 0.028, 'g_elbo': 0.464, 'x_rna_nll': 0.418, 'x_rna_kl': 0.008, 'x_rna_elbo': 0.427, 'x_atac_nll': 0.614, 'x_atac_kl': 0.003, 'x_atac_elbo': 0.618, 'dsc_loss': 0.701, 'vae_loss': 1.113, 'gen_loss': 1.078, 'joint_cross_loss': 1.035, 'real_cross_loss': 1.049, 'cos_loss': 0.424}, 11.4s elapsed\n",
      "[INFO] PairedSCGLUETrainer: [Epoch 170] train={'g_nll': 0.433, 'g_kl': 0.028, 'g_elbo': 0.461, 'x_rna_nll': 0.421, 'x_rna_kl': 0.009, 'x_rna_elbo': 0.43, 'x_atac_nll': 0.62, 'x_atac_kl': 0.003, 'x_atac_elbo': 0.623, 'dsc_loss': 0.687, 'vae_loss': 1.122, 'gen_loss': 1.088, 'joint_cross_loss': 1.043, 'real_cross_loss': 1.058, 'cos_loss': 0.421}, val={'g_nll': 0.431, 'g_kl': 0.028, 'g_elbo': 0.459, 'x_rna_nll': 0.419, 'x_rna_kl': 0.009, 'x_rna_elbo': 0.428, 'x_atac_nll': 0.616, 'x_atac_kl': 0.003, 'x_atac_elbo': 0.619, 'dsc_loss': 0.7, 'vae_loss': 1.116, 'gen_loss': 1.081, 'joint_cross_loss': 1.037, 'real_cross_loss': 1.051, 'cos_loss': 0.423}, 3.5s elapsed\n",
      "[INFO] PairedSCGLUETrainer: [Epoch 180] train={'g_nll': 0.432, 'g_kl': 0.028, 'g_elbo': 0.46, 'x_rna_nll': 0.422, 'x_rna_kl': 0.009, 'x_rna_elbo': 0.431, 'x_atac_nll': 0.621, 'x_atac_kl': 0.003, 'x_atac_elbo': 0.624, 'dsc_loss': 0.689, 'vae_loss': 1.124, 'gen_loss': 1.089, 'joint_cross_loss': 1.044, 'real_cross_loss': 1.059, 'cos_loss': 0.419}, val={'g_nll': 0.436, 'g_kl': 0.028, 'g_elbo': 0.463, 'x_rna_nll': 0.417, 'x_rna_kl': 0.008, 'x_rna_elbo': 0.425, 'x_atac_nll': 0.613, 'x_atac_kl': 0.003, 'x_atac_elbo': 0.616, 'dsc_loss': 0.693, 'vae_loss': 1.11, 'gen_loss': 1.075, 'joint_cross_loss': 1.031, 'real_cross_loss': 1.045, 'cos_loss': 0.431}, 3.5s elapsed\n",
      "Epoch 00188: reducing learning rate of group 0 to 2.0000e-04.\n",
      "Epoch 00188: reducing learning rate of group 0 to 2.0000e-04.\n",
      "[INFO] LRScheduler: Learning rate reduction: step 1\n",
      "[INFO] PairedSCGLUETrainer: [Epoch 190] train={'g_nll': 0.431, 'g_kl': 0.028, 'g_elbo': 0.459, 'x_rna_nll': 0.421, 'x_rna_kl': 0.009, 'x_rna_elbo': 0.43, 'x_atac_nll': 0.621, 'x_atac_kl': 0.003, 'x_atac_elbo': 0.624, 'dsc_loss': 0.691, 'vae_loss': 1.123, 'gen_loss': 1.088, 'joint_cross_loss': 1.044, 'real_cross_loss': 1.059, 'cos_loss': 0.42}, val={'g_nll': 0.43, 'g_kl': 0.028, 'g_elbo': 0.458, 'x_rna_nll': 0.414, 'x_rna_kl': 0.008, 'x_rna_elbo': 0.423, 'x_atac_nll': 0.612, 'x_atac_kl': 0.003, 'x_atac_elbo': 0.615, 'dsc_loss': 0.691, 'vae_loss': 1.106, 'gen_loss': 1.071, 'joint_cross_loss': 1.028, 'real_cross_loss': 1.041, 'cos_loss': 0.418}, 3.7s elapsed\n",
      "[INFO] PairedSCGLUETrainer: [Epoch 200] train={'g_nll': 0.43, 'g_kl': 0.028, 'g_elbo': 0.458, 'x_rna_nll': 0.42, 'x_rna_kl': 0.009, 'x_rna_elbo': 0.429, 'x_atac_nll': 0.621, 'x_atac_kl': 0.003, 'x_atac_elbo': 0.624, 'dsc_loss': 0.69, 'vae_loss': 1.122, 'gen_loss': 1.087, 'joint_cross_loss': 1.043, 'real_cross_loss': 1.058, 'cos_loss': 0.415}, val={'g_nll': 0.427, 'g_kl': 0.028, 'g_elbo': 0.455, 'x_rna_nll': 0.415, 'x_rna_kl': 0.009, 'x_rna_elbo': 0.423, 'x_atac_nll': 0.608, 'x_atac_kl': 0.003, 'x_atac_elbo': 0.611, 'dsc_loss': 0.689, 'vae_loss': 1.103, 'gen_loss': 1.068, 'joint_cross_loss': 1.025, 'real_cross_loss': 1.038, 'cos_loss': 0.418}, 16.9s elapsed\n",
      "[INFO] PairedSCGLUETrainer: [Epoch 210] train={'g_nll': 0.432, 'g_kl': 0.028, 'g_elbo': 0.46, 'x_rna_nll': 0.42, 'x_rna_kl': 0.009, 'x_rna_elbo': 0.429, 'x_atac_nll': 0.62, 'x_atac_kl': 0.003, 'x_atac_elbo': 0.623, 'dsc_loss': 0.689, 'vae_loss': 1.121, 'gen_loss': 1.087, 'joint_cross_loss': 1.042, 'real_cross_loss': 1.057, 'cos_loss': 0.417}, val={'g_nll': 0.43, 'g_kl': 0.028, 'g_elbo': 0.458, 'x_rna_nll': 0.42, 'x_rna_kl': 0.009, 'x_rna_elbo': 0.429, 'x_atac_nll': 0.614, 'x_atac_kl': 0.003, 'x_atac_elbo': 0.617, 'dsc_loss': 0.694, 'vae_loss': 1.114, 'gen_loss': 1.08, 'joint_cross_loss': 1.036, 'real_cross_loss': 1.049, 'cos_loss': 0.417}, 3.6s elapsed\n",
      "[INFO] PairedSCGLUETrainer: [Epoch 220] train={'g_nll': 0.431, 'g_kl': 0.028, 'g_elbo': 0.458, 'x_rna_nll': 0.421, 'x_rna_kl': 0.009, 'x_rna_elbo': 0.429, 'x_atac_nll': 0.621, 'x_atac_kl': 0.003, 'x_atac_elbo': 0.624, 'dsc_loss': 0.689, 'vae_loss': 1.122, 'gen_loss': 1.088, 'joint_cross_loss': 1.043, 'real_cross_loss': 1.058, 'cos_loss': 0.416}, val={'g_nll': 0.434, 'g_kl': 0.028, 'g_elbo': 0.462, 'x_rna_nll': 0.42, 'x_rna_kl': 0.009, 'x_rna_elbo': 0.429, 'x_atac_nll': 0.613, 'x_atac_kl': 0.003, 'x_atac_elbo': 0.616, 'dsc_loss': 0.693, 'vae_loss': 1.114, 'gen_loss': 1.079, 'joint_cross_loss': 1.035, 'real_cross_loss': 1.049, 'cos_loss': 0.417}, 5.3s elapsed\n",
      "Epoch 00222: reducing learning rate of group 0 to 2.0000e-05.\n",
      "Epoch 00222: reducing learning rate of group 0 to 2.0000e-05.\n",
      "[INFO] LRScheduler: Learning rate reduction: step 2\n",
      "[INFO] PairedSCGLUETrainer: [Epoch 230] train={'g_nll': 0.43, 'g_kl': 0.028, 'g_elbo': 0.457, 'x_rna_nll': 0.421, 'x_rna_kl': 0.009, 'x_rna_elbo': 0.43, 'x_atac_nll': 0.62, 'x_atac_kl': 0.003, 'x_atac_elbo': 0.624, 'dsc_loss': 0.691, 'vae_loss': 1.122, 'gen_loss': 1.087, 'joint_cross_loss': 1.043, 'real_cross_loss': 1.058, 'cos_loss': 0.414}, val={'g_nll': 0.432, 'g_kl': 0.028, 'g_elbo': 0.46, 'x_rna_nll': 0.416, 'x_rna_kl': 0.009, 'x_rna_elbo': 0.424, 'x_atac_nll': 0.608, 'x_atac_kl': 0.003, 'x_atac_elbo': 0.611, 'dsc_loss': 0.693, 'vae_loss': 1.104, 'gen_loss': 1.069, 'joint_cross_loss': 1.026, 'real_cross_loss': 1.04, 'cos_loss': 0.425}, 10.0s elapsed\n",
      "[INFO] PairedSCGLUETrainer: [Epoch 240] train={'g_nll': 0.432, 'g_kl': 0.028, 'g_elbo': 0.459, 'x_rna_nll': 0.421, 'x_rna_kl': 0.009, 'x_rna_elbo': 0.43, 'x_atac_nll': 0.62, 'x_atac_kl': 0.003, 'x_atac_elbo': 0.624, 'dsc_loss': 0.69, 'vae_loss': 1.122, 'gen_loss': 1.087, 'joint_cross_loss': 1.043, 'real_cross_loss': 1.058, 'cos_loss': 0.414}, val={'g_nll': 0.431, 'g_kl': 0.028, 'g_elbo': 0.459, 'x_rna_nll': 0.412, 'x_rna_kl': 0.009, 'x_rna_elbo': 0.42, 'x_atac_nll': 0.604, 'x_atac_kl': 0.003, 'x_atac_elbo': 0.607, 'dsc_loss': 0.697, 'vae_loss': 1.096, 'gen_loss': 1.061, 'joint_cross_loss': 1.018, 'real_cross_loss': 1.031, 'cos_loss': 0.422}, 3.8s elapsed\n",
      "[INFO] PairedSCGLUETrainer: [Epoch 250] train={'g_nll': 0.431, 'g_kl': 0.028, 'g_elbo': 0.459, 'x_rna_nll': 0.42, 'x_rna_kl': 0.009, 'x_rna_elbo': 0.429, 'x_atac_nll': 0.62, 'x_atac_kl': 0.003, 'x_atac_elbo': 0.624, 'dsc_loss': 0.691, 'vae_loss': 1.121, 'gen_loss': 1.087, 'joint_cross_loss': 1.043, 'real_cross_loss': 1.057, 'cos_loss': 0.417}, val={'g_nll': 0.429, 'g_kl': 0.028, 'g_elbo': 0.456, 'x_rna_nll': 0.416, 'x_rna_kl': 0.009, 'x_rna_elbo': 0.424, 'x_atac_nll': 0.61, 'x_atac_kl': 0.003, 'x_atac_elbo': 0.613, 'dsc_loss': 0.694, 'vae_loss': 1.105, 'gen_loss': 1.071, 'joint_cross_loss': 1.027, 'real_cross_loss': 1.041, 'cos_loss': 0.421}, 3.9s elapsed\n",
      "[INFO] PairedSCGLUETrainer: [Epoch 260] train={'g_nll': 0.431, 'g_kl': 0.028, 'g_elbo': 0.459, 'x_rna_nll': 0.421, 'x_rna_kl': 0.009, 'x_rna_elbo': 0.429, 'x_atac_nll': 0.621, 'x_atac_kl': 0.003, 'x_atac_elbo': 0.624, 'dsc_loss': 0.69, 'vae_loss': 1.122, 'gen_loss': 1.088, 'joint_cross_loss': 1.044, 'real_cross_loss': 1.058, 'cos_loss': 0.416}, val={'g_nll': 0.431, 'g_kl': 0.028, 'g_elbo': 0.458, 'x_rna_nll': 0.416, 'x_rna_kl': 0.009, 'x_rna_elbo': 0.425, 'x_atac_nll': 0.613, 'x_atac_kl': 0.003, 'x_atac_elbo': 0.616, 'dsc_loss': 0.694, 'vae_loss': 1.109, 'gen_loss': 1.074, 'joint_cross_loss': 1.031, 'real_cross_loss': 1.044, 'cos_loss': 0.42}, 3.9s elapsed\n",
      "[INFO] PairedSCGLUETrainer: [Epoch 270] train={'g_nll': 0.431, 'g_kl': 0.028, 'g_elbo': 0.458, 'x_rna_nll': 0.42, 'x_rna_kl': 0.009, 'x_rna_elbo': 0.429, 'x_atac_nll': 0.621, 'x_atac_kl': 0.003, 'x_atac_elbo': 0.624, 'dsc_loss': 0.69, 'vae_loss': 1.122, 'gen_loss': 1.087, 'joint_cross_loss': 1.043, 'real_cross_loss': 1.058, 'cos_loss': 0.417}, val={'g_nll': 0.43, 'g_kl': 0.028, 'g_elbo': 0.458, 'x_rna_nll': 0.416, 'x_rna_kl': 0.009, 'x_rna_elbo': 0.425, 'x_atac_nll': 0.613, 'x_atac_kl': 0.003, 'x_atac_elbo': 0.616, 'dsc_loss': 0.689, 'vae_loss': 1.11, 'gen_loss': 1.075, 'joint_cross_loss': 1.031, 'real_cross_loss': 1.045, 'cos_loss': 0.42}, 3.8s elapsed\n",
      "Epoch 00274: reducing learning rate of group 0 to 2.0000e-06.\n",
      "Epoch 00274: reducing learning rate of group 0 to 2.0000e-06.\n",
      "[INFO] LRScheduler: Learning rate reduction: step 3\n",
      "[INFO] PairedSCGLUETrainer: [Epoch 280] train={'g_nll': 0.431, 'g_kl': 0.028, 'g_elbo': 0.459, 'x_rna_nll': 0.421, 'x_rna_kl': 0.009, 'x_rna_elbo': 0.429, 'x_atac_nll': 0.621, 'x_atac_kl': 0.003, 'x_atac_elbo': 0.624, 'dsc_loss': 0.691, 'vae_loss': 1.123, 'gen_loss': 1.088, 'joint_cross_loss': 1.044, 'real_cross_loss': 1.059, 'cos_loss': 0.415}, val={'g_nll': 0.431, 'g_kl': 0.028, 'g_elbo': 0.459, 'x_rna_nll': 0.417, 'x_rna_kl': 0.009, 'x_rna_elbo': 0.426, 'x_atac_nll': 0.612, 'x_atac_kl': 0.003, 'x_atac_elbo': 0.615, 'dsc_loss': 0.689, 'vae_loss': 1.109, 'gen_loss': 1.075, 'joint_cross_loss': 1.032, 'real_cross_loss': 1.046, 'cos_loss': 0.417}, 3.8s elapsed\n",
      "[INFO] PairedSCGLUETrainer: [Epoch 290] train={'g_nll': 0.431, 'g_kl': 0.028, 'g_elbo': 0.459, 'x_rna_nll': 0.42, 'x_rna_kl': 0.009, 'x_rna_elbo': 0.429, 'x_atac_nll': 0.621, 'x_atac_kl': 0.003, 'x_atac_elbo': 0.624, 'dsc_loss': 0.69, 'vae_loss': 1.122, 'gen_loss': 1.088, 'joint_cross_loss': 1.043, 'real_cross_loss': 1.058, 'cos_loss': 0.417}, val={'g_nll': 0.434, 'g_kl': 0.028, 'g_elbo': 0.462, 'x_rna_nll': 0.416, 'x_rna_kl': 0.009, 'x_rna_elbo': 0.425, 'x_atac_nll': 0.62, 'x_atac_kl': 0.003, 'x_atac_elbo': 0.623, 'dsc_loss': 0.692, 'vae_loss': 1.117, 'gen_loss': 1.082, 'joint_cross_loss': 1.038, 'real_cross_loss': 1.051, 'cos_loss': 0.424}, 3.9s elapsed\n",
      "[INFO] PairedSCGLUETrainer: [Epoch 300] train={'g_nll': 0.43, 'g_kl': 0.028, 'g_elbo': 0.458, 'x_rna_nll': 0.421, 'x_rna_kl': 0.009, 'x_rna_elbo': 0.43, 'x_atac_nll': 0.62, 'x_atac_kl': 0.003, 'x_atac_elbo': 0.623, 'dsc_loss': 0.69, 'vae_loss': 1.122, 'gen_loss': 1.087, 'joint_cross_loss': 1.043, 'real_cross_loss': 1.058, 'cos_loss': 0.418}, val={'g_nll': 0.428, 'g_kl': 0.028, 'g_elbo': 0.456, 'x_rna_nll': 0.42, 'x_rna_kl': 0.009, 'x_rna_elbo': 0.428, 'x_atac_nll': 0.614, 'x_atac_kl': 0.003, 'x_atac_elbo': 0.617, 'dsc_loss': 0.691, 'vae_loss': 1.114, 'gen_loss': 1.079, 'joint_cross_loss': 1.035, 'real_cross_loss': 1.049, 'cos_loss': 0.414}, 3.7s elapsed\n"
     ]
    },
    {
     "name": "stderr",
     "output_type": "stream",
     "text": [
      "2023-05-06 00:51:01,646 ignite.handlers.early_stopping.EarlyStopping INFO: EarlyStopping: Stop training\n"
     ]
    },
    {
     "name": "stdout",
     "output_type": "stream",
     "text": [
      "[INFO] EarlyStopping: Restoring checkpoint \"287\"...\n",
      "[INFO] EarlyStopping: Restoring checkpoint \"287\"...\n"
     ]
    },
    {
     "name": "stderr",
     "output_type": "stream",
     "text": [
      "/dss/dsshome1/01/di93bur/miniconda3/envs/scglue_env_2/lib/python3.9/multiprocessing/popen_fork.py:66: ResourceWarning: unclosed socket <zmq.Socket(zmq.PUSH) at 0x7f3dd8395b20>\n",
      "  self.pid = os.fork()\n",
      "ResourceWarning: Enable tracemalloc to get the object allocation traceback\n",
      "/tmp/ipykernel_413349/2621457291.py:24: DeprecationWarning: Call to deprecated function (or staticmethod) opt_louvain.\n",
      "  scib.cl.opt_louvain(adata,label_key='cell_type',cluster_key='cluster_key',plot=False,inplace=True,force=True,verbose = False)\n",
      " 50%|█████     | 1/2 [1:06:37<1:06:37, 3997.47s/it]"
     ]
    },
    {
     "name": "stdout",
     "output_type": "stream",
     "text": [
      "[INFO] fit_SCGLUE: Pretraining SCGLUE model...\n"
     ]
    },
    {
     "name": "stderr",
     "output_type": "stream",
     "text": [
      "[WARNING] PairedSCGLUEModel: It is recommended that `use_rep` dimensionality be equal or larger than `latent_dim`.\n"
     ]
    },
    {
     "name": "stdout",
     "output_type": "stream",
     "text": [
      "[INFO] check_graph: Checking variable coverage...\n",
      "[INFO] check_graph: Checking edge attributes...\n",
      "[INFO] check_graph: Checking self-loops...\n",
      "[INFO] check_graph: Checking graph symmetry...\n",
      "[INFO] PairedSCGLUEModel: Setting `graph_batch_size` = 3398\n",
      "[INFO] PairedSCGLUEModel: Setting `max_epochs` = 2033\n",
      "[INFO] PairedSCGLUEModel: Setting `patience` = 170\n",
      "[INFO] PairedSCGLUEModel: Setting `reduce_lr_patience` = 85\n",
      "[INFO] PairedSCGLUETrainer: Using training directory: \"glue/pretrain\"\n",
      "[INFO] PairedSCGLUETrainer: [Epoch 10] train={'g_nll': 0.583, 'g_kl': 0.019, 'g_elbo': 0.602, 'x_rna_nll': 0.535, 'x_rna_kl': 0.018, 'x_rna_elbo': 0.554, 'x_atac_nll': 0.598, 'x_atac_kl': 0.014, 'x_atac_elbo': 0.612, 'dsc_loss': 0.649, 'vae_loss': 1.244, 'gen_loss': 1.211, 'joint_cross_loss': 1.13, 'real_cross_loss': 1.158, 'cos_loss': 0.403}, val={'g_nll': 0.584, 'g_kl': 0.019, 'g_elbo': 0.603, 'x_rna_nll': 0.519, 'x_rna_kl': 0.017, 'x_rna_elbo': 0.536, 'x_atac_nll': 0.613, 'x_atac_kl': 0.014, 'x_atac_elbo': 0.626, 'dsc_loss': 0.634, 'vae_loss': 1.24, 'gen_loss': 1.208, 'joint_cross_loss': 1.133, 'real_cross_loss': 1.158, 'cos_loss': 0.359}, 1.3s elapsed\n",
      "[INFO] PairedSCGLUETrainer: [Epoch 20] train={'g_nll': 0.609, 'g_kl': 0.026, 'g_elbo': 0.635, 'x_rna_nll': 0.521, 'x_rna_kl': 0.016, 'x_rna_elbo': 0.536, 'x_atac_nll': 0.582, 'x_atac_kl': 0.011, 'x_atac_elbo': 0.593, 'dsc_loss': 0.671, 'vae_loss': 1.207, 'gen_loss': 1.173, 'joint_cross_loss': 1.099, 'real_cross_loss': 1.125, 'cos_loss': 0.37}, val={'g_nll': 0.609, 'g_kl': 0.026, 'g_elbo': 0.635, 'x_rna_nll': 0.492, 'x_rna_kl': 0.015, 'x_rna_elbo': 0.506, 'x_atac_nll': 0.587, 'x_atac_kl': 0.01, 'x_atac_elbo': 0.597, 'dsc_loss': 0.679, 'vae_loss': 1.18, 'gen_loss': 1.146, 'joint_cross_loss': 1.081, 'real_cross_loss': 1.107, 'cos_loss': 0.333}, 8.5s elapsed\n",
      "[INFO] PairedSCGLUETrainer: [Epoch 30] train={'g_nll': 0.62, 'g_kl': 0.032, 'g_elbo': 0.652, 'x_rna_nll': 0.504, 'x_rna_kl': 0.012, 'x_rna_elbo': 0.517, 'x_atac_nll': 0.571, 'x_atac_kl': 0.007, 'x_atac_elbo': 0.579, 'dsc_loss': 0.678, 'vae_loss': 1.172, 'gen_loss': 1.139, 'joint_cross_loss': 1.075, 'real_cross_loss': 1.099, 'cos_loss': 0.374}, val={'g_nll': 0.62, 'g_kl': 0.032, 'g_elbo': 0.652, 'x_rna_nll': 0.503, 'x_rna_kl': 0.011, 'x_rna_elbo': 0.514, 'x_atac_nll': 0.586, 'x_atac_kl': 0.007, 'x_atac_elbo': 0.593, 'dsc_loss': 0.677, 'vae_loss': 1.184, 'gen_loss': 1.15, 'joint_cross_loss': 1.091, 'real_cross_loss': 1.113, 'cos_loss': 0.361}, 1.3s elapsed\n",
      "[INFO] PairedSCGLUETrainer: [Epoch 40] train={'g_nll': 0.622, 'g_kl': 0.037, 'g_elbo': 0.659, 'x_rna_nll': 0.497, 'x_rna_kl': 0.01, 'x_rna_elbo': 0.507, 'x_atac_nll': 0.565, 'x_atac_kl': 0.005, 'x_atac_elbo': 0.57, 'dsc_loss': 0.679, 'vae_loss': 1.155, 'gen_loss': 1.121, 'joint_cross_loss': 1.063, 'real_cross_loss': 1.087, 'cos_loss': 0.407}, val={'g_nll': 0.622, 'g_kl': 0.037, 'g_elbo': 0.659, 'x_rna_nll': 0.508, 'x_rna_kl': 0.009, 'x_rna_elbo': 0.517, 'x_atac_nll': 0.572, 'x_atac_kl': 0.005, 'x_atac_elbo': 0.576, 'dsc_loss': 0.672, 'vae_loss': 1.171, 'gen_loss': 1.138, 'joint_cross_loss': 1.081, 'real_cross_loss': 1.105, 'cos_loss': 0.398}, 1.3s elapsed\n",
      "[INFO] PairedSCGLUETrainer: [Epoch 50] train={'g_nll': 0.613, 'g_kl': 0.041, 'g_elbo': 0.654, 'x_rna_nll': 0.492, 'x_rna_kl': 0.009, 'x_rna_elbo': 0.502, 'x_atac_nll': 0.559, 'x_atac_kl': 0.005, 'x_atac_elbo': 0.564, 'dsc_loss': 0.685, 'vae_loss': 1.143, 'gen_loss': 1.109, 'joint_cross_loss': 1.054, 'real_cross_loss': 1.078, 'cos_loss': 0.446}, val={'g_nll': 0.616, 'g_kl': 0.041, 'g_elbo': 0.657, 'x_rna_nll': 0.495, 'x_rna_kl': 0.008, 'x_rna_elbo': 0.504, 'x_atac_nll': 0.572, 'x_atac_kl': 0.004, 'x_atac_elbo': 0.576, 'dsc_loss': 0.691, 'vae_loss': 1.158, 'gen_loss': 1.123, 'joint_cross_loss': 1.069, 'real_cross_loss': 1.09, 'cos_loss': 0.443}, 1.3s elapsed\n",
      "[INFO] PairedSCGLUETrainer: [Epoch 60] train={'g_nll': 0.592, 'g_kl': 0.044, 'g_elbo': 0.635, 'x_rna_nll': 0.491, 'x_rna_kl': 0.009, 'x_rna_elbo': 0.5, 'x_atac_nll': 0.555, 'x_atac_kl': 0.004, 'x_atac_elbo': 0.559, 'dsc_loss': 0.684, 'vae_loss': 1.136, 'gen_loss': 1.102, 'joint_cross_loss': 1.048, 'real_cross_loss': 1.071, 'cos_loss': 0.465}, val={'g_nll': 0.591, 'g_kl': 0.044, 'g_elbo': 0.634, 'x_rna_nll': 0.483, 'x_rna_kl': 0.008, 'x_rna_elbo': 0.49, 'x_atac_nll': 0.563, 'x_atac_kl': 0.004, 'x_atac_elbo': 0.567, 'dsc_loss': 0.683, 'vae_loss': 1.134, 'gen_loss': 1.1, 'joint_cross_loss': 1.048, 'real_cross_loss': 1.069, 'cos_loss': 0.475}, 1.3s elapsed\n",
      "[INFO] PairedSCGLUETrainer: [Epoch 70] train={'g_nll': 0.565, 'g_kl': 0.045, 'g_elbo': 0.61, 'x_rna_nll': 0.487, 'x_rna_kl': 0.008, 'x_rna_elbo': 0.495, 'x_atac_nll': 0.552, 'x_atac_kl': 0.004, 'x_atac_elbo': 0.556, 'dsc_loss': 0.682, 'vae_loss': 1.127, 'gen_loss': 1.093, 'joint_cross_loss': 1.043, 'real_cross_loss': 1.067, 'cos_loss': 0.48}, val={'g_nll': 0.564, 'g_kl': 0.045, 'g_elbo': 0.609, 'x_rna_nll': 0.476, 'x_rna_kl': 0.008, 'x_rna_elbo': 0.483, 'x_atac_nll': 0.561, 'x_atac_kl': 0.004, 'x_atac_elbo': 0.565, 'dsc_loss': 0.69, 'vae_loss': 1.124, 'gen_loss': 1.09, 'joint_cross_loss': 1.04, 'real_cross_loss': 1.062, 'cos_loss': 0.484}, 1.5s elapsed\n",
      "[INFO] PairedSCGLUETrainer: [Epoch 80] train={'g_nll': 0.541, 'g_kl': 0.046, 'g_elbo': 0.587, 'x_rna_nll': 0.485, 'x_rna_kl': 0.008, 'x_rna_elbo': 0.493, 'x_atac_nll': 0.55, 'x_atac_kl': 0.004, 'x_atac_elbo': 0.554, 'dsc_loss': 0.686, 'vae_loss': 1.122, 'gen_loss': 1.088, 'joint_cross_loss': 1.038, 'real_cross_loss': 1.064, 'cos_loss': 0.492}, val={'g_nll': 0.537, 'g_kl': 0.046, 'g_elbo': 0.582, 'x_rna_nll': 0.482, 'x_rna_kl': 0.008, 'x_rna_elbo': 0.49, 'x_atac_nll': 0.573, 'x_atac_kl': 0.004, 'x_atac_elbo': 0.577, 'dsc_loss': 0.683, 'vae_loss': 1.143, 'gen_loss': 1.109, 'joint_cross_loss': 1.06, 'real_cross_loss': 1.083, 'cos_loss': 0.494}, 1.3s elapsed\n",
      "[INFO] PairedSCGLUETrainer: [Epoch 90] train={'g_nll': 0.519, 'g_kl': 0.045, 'g_elbo': 0.564, 'x_rna_nll': 0.484, 'x_rna_kl': 0.008, 'x_rna_elbo': 0.492, 'x_atac_nll': 0.549, 'x_atac_kl': 0.004, 'x_atac_elbo': 0.553, 'dsc_loss': 0.686, 'vae_loss': 1.12, 'gen_loss': 1.085, 'joint_cross_loss': 1.038, 'real_cross_loss': 1.064, 'cos_loss': 0.499}, val={'g_nll': 0.516, 'g_kl': 0.045, 'g_elbo': 0.561, 'x_rna_nll': 0.487, 'x_rna_kl': 0.008, 'x_rna_elbo': 0.495, 'x_atac_nll': 0.568, 'x_atac_kl': 0.004, 'x_atac_elbo': 0.572, 'dsc_loss': 0.68, 'vae_loss': 1.142, 'gen_loss': 1.108, 'joint_cross_loss': 1.059, 'real_cross_loss': 1.086, 'cos_loss': 0.513}, 6.3s elapsed\n",
      "[INFO] PairedSCGLUETrainer: [Epoch 100] train={'g_nll': 0.504, 'g_kl': 0.045, 'g_elbo': 0.548, 'x_rna_nll': 0.483, 'x_rna_kl': 0.008, 'x_rna_elbo': 0.491, 'x_atac_nll': 0.549, 'x_atac_kl': 0.004, 'x_atac_elbo': 0.553, 'dsc_loss': 0.688, 'vae_loss': 1.118, 'gen_loss': 1.084, 'joint_cross_loss': 1.037, 'real_cross_loss': 1.064, 'cos_loss': 0.494}, val={'g_nll': 0.503, 'g_kl': 0.045, 'g_elbo': 0.548, 'x_rna_nll': 0.483, 'x_rna_kl': 0.008, 'x_rna_elbo': 0.491, 'x_atac_nll': 0.562, 'x_atac_kl': 0.004, 'x_atac_elbo': 0.566, 'dsc_loss': 0.687, 'vae_loss': 1.132, 'gen_loss': 1.098, 'joint_cross_loss': 1.049, 'real_cross_loss': 1.074, 'cos_loss': 0.517}, 30.3s elapsed\n",
      "[INFO] PairedSCGLUETrainer: [Epoch 110] train={'g_nll': 0.494, 'g_kl': 0.044, 'g_elbo': 0.538, 'x_rna_nll': 0.481, 'x_rna_kl': 0.009, 'x_rna_elbo': 0.49, 'x_atac_nll': 0.548, 'x_atac_kl': 0.004, 'x_atac_elbo': 0.552, 'dsc_loss': 0.686, 'vae_loss': 1.115, 'gen_loss': 1.081, 'joint_cross_loss': 1.034, 'real_cross_loss': 1.062, 'cos_loss': 0.495}, val={'g_nll': 0.495, 'g_kl': 0.044, 'g_elbo': 0.539, 'x_rna_nll': 0.483, 'x_rna_kl': 0.008, 'x_rna_elbo': 0.491, 'x_atac_nll': 0.562, 'x_atac_kl': 0.004, 'x_atac_elbo': 0.566, 'dsc_loss': 0.69, 'vae_loss': 1.131, 'gen_loss': 1.097, 'joint_cross_loss': 1.05, 'real_cross_loss': 1.078, 'cos_loss': 0.517}, 1.3s elapsed\n",
      "[INFO] PairedSCGLUETrainer: [Epoch 120] train={'g_nll': 0.489, 'g_kl': 0.044, 'g_elbo': 0.533, 'x_rna_nll': 0.48, 'x_rna_kl': 0.009, 'x_rna_elbo': 0.489, 'x_atac_nll': 0.547, 'x_atac_kl': 0.004, 'x_atac_elbo': 0.551, 'dsc_loss': 0.691, 'vae_loss': 1.113, 'gen_loss': 1.079, 'joint_cross_loss': 1.033, 'real_cross_loss': 1.062, 'cos_loss': 0.497}, val={'g_nll': 0.486, 'g_kl': 0.044, 'g_elbo': 0.53, 'x_rna_nll': 0.48, 'x_rna_kl': 0.008, 'x_rna_elbo': 0.489, 'x_atac_nll': 0.557, 'x_atac_kl': 0.004, 'x_atac_elbo': 0.561, 'dsc_loss': 0.692, 'vae_loss': 1.123, 'gen_loss': 1.088, 'joint_cross_loss': 1.042, 'real_cross_loss': 1.07, 'cos_loss': 0.492}, 3.6s elapsed\n",
      "[INFO] PairedSCGLUETrainer: [Epoch 130] train={'g_nll': 0.483, 'g_kl': 0.044, 'g_elbo': 0.527, 'x_rna_nll': 0.479, 'x_rna_kl': 0.009, 'x_rna_elbo': 0.488, 'x_atac_nll': 0.547, 'x_atac_kl': 0.004, 'x_atac_elbo': 0.552, 'dsc_loss': 0.689, 'vae_loss': 1.113, 'gen_loss': 1.078, 'joint_cross_loss': 1.033, 'real_cross_loss': 1.062, 'cos_loss': 0.498}, val={'g_nll': 0.48, 'g_kl': 0.044, 'g_elbo': 0.523, 'x_rna_nll': 0.482, 'x_rna_kl': 0.009, 'x_rna_elbo': 0.49, 'x_atac_nll': 0.564, 'x_atac_kl': 0.004, 'x_atac_elbo': 0.568, 'dsc_loss': 0.695, 'vae_loss': 1.132, 'gen_loss': 1.097, 'joint_cross_loss': 1.05, 'real_cross_loss': 1.08, 'cos_loss': 0.507}, 1.4s elapsed\n",
      "[INFO] PairedSCGLUETrainer: [Epoch 140] train={'g_nll': 0.475, 'g_kl': 0.043, 'g_elbo': 0.518, 'x_rna_nll': 0.479, 'x_rna_kl': 0.009, 'x_rna_elbo': 0.489, 'x_atac_nll': 0.548, 'x_atac_kl': 0.004, 'x_atac_elbo': 0.552, 'dsc_loss': 0.69, 'vae_loss': 1.113, 'gen_loss': 1.078, 'joint_cross_loss': 1.033, 'real_cross_loss': 1.063, 'cos_loss': 0.488}, val={'g_nll': 0.473, 'g_kl': 0.043, 'g_elbo': 0.517, 'x_rna_nll': 0.481, 'x_rna_kl': 0.009, 'x_rna_elbo': 0.489, 'x_atac_nll': 0.561, 'x_atac_kl': 0.004, 'x_atac_elbo': 0.565, 'dsc_loss': 0.69, 'vae_loss': 1.127, 'gen_loss': 1.093, 'joint_cross_loss': 1.047, 'real_cross_loss': 1.078, 'cos_loss': 0.505}, 1.3s elapsed\n",
      "[INFO] PairedSCGLUETrainer: [Epoch 150] train={'g_nll': 0.473, 'g_kl': 0.043, 'g_elbo': 0.516, 'x_rna_nll': 0.479, 'x_rna_kl': 0.009, 'x_rna_elbo': 0.488, 'x_atac_nll': 0.547, 'x_atac_kl': 0.004, 'x_atac_elbo': 0.551, 'dsc_loss': 0.689, 'vae_loss': 1.112, 'gen_loss': 1.078, 'joint_cross_loss': 1.033, 'real_cross_loss': 1.063, 'cos_loss': 0.494}, val={'g_nll': 0.468, 'g_kl': 0.043, 'g_elbo': 0.511, 'x_rna_nll': 0.476, 'x_rna_kl': 0.009, 'x_rna_elbo': 0.485, 'x_atac_nll': 0.557, 'x_atac_kl': 0.004, 'x_atac_elbo': 0.561, 'dsc_loss': 0.69, 'vae_loss': 1.119, 'gen_loss': 1.084, 'joint_cross_loss': 1.039, 'real_cross_loss': 1.069, 'cos_loss': 0.502}, 2.2s elapsed\n",
      "[INFO] PairedSCGLUETrainer: [Epoch 160] train={'g_nll': 0.47, 'g_kl': 0.043, 'g_elbo': 0.513, 'x_rna_nll': 0.478, 'x_rna_kl': 0.009, 'x_rna_elbo': 0.487, 'x_atac_nll': 0.547, 'x_atac_kl': 0.004, 'x_atac_elbo': 0.551, 'dsc_loss': 0.688, 'vae_loss': 1.111, 'gen_loss': 1.076, 'joint_cross_loss': 1.032, 'real_cross_loss': 1.062, 'cos_loss': 0.49}, val={'g_nll': 0.471, 'g_kl': 0.043, 'g_elbo': 0.514, 'x_rna_nll': 0.483, 'x_rna_kl': 0.009, 'x_rna_elbo': 0.492, 'x_atac_nll': 0.536, 'x_atac_kl': 0.004, 'x_atac_elbo': 0.539, 'dsc_loss': 0.687, 'vae_loss': 1.104, 'gen_loss': 1.069, 'joint_cross_loss': 1.024, 'real_cross_loss': 1.054, 'cos_loss': 0.506}, 1.3s elapsed\n",
      "[INFO] PairedSCGLUETrainer: [Epoch 170] train={'g_nll': 0.467, 'g_kl': 0.042, 'g_elbo': 0.509, 'x_rna_nll': 0.478, 'x_rna_kl': 0.009, 'x_rna_elbo': 0.487, 'x_atac_nll': 0.547, 'x_atac_kl': 0.004, 'x_atac_elbo': 0.551, 'dsc_loss': 0.69, 'vae_loss': 1.111, 'gen_loss': 1.076, 'joint_cross_loss': 1.032, 'real_cross_loss': 1.063, 'cos_loss': 0.487}, val={'g_nll': 0.467, 'g_kl': 0.042, 'g_elbo': 0.51, 'x_rna_nll': 0.48, 'x_rna_kl': 0.009, 'x_rna_elbo': 0.489, 'x_atac_nll': 0.549, 'x_atac_kl': 0.004, 'x_atac_elbo': 0.552, 'dsc_loss': 0.696, 'vae_loss': 1.114, 'gen_loss': 1.079, 'joint_cross_loss': 1.034, 'real_cross_loss': 1.065, 'cos_loss': 0.516}, 64.2s elapsed\n",
      "[INFO] PairedSCGLUETrainer: [Epoch 180] train={'g_nll': 0.462, 'g_kl': 0.042, 'g_elbo': 0.504, 'x_rna_nll': 0.479, 'x_rna_kl': 0.009, 'x_rna_elbo': 0.488, 'x_atac_nll': 0.547, 'x_atac_kl': 0.004, 'x_atac_elbo': 0.551, 'dsc_loss': 0.69, 'vae_loss': 1.111, 'gen_loss': 1.077, 'joint_cross_loss': 1.032, 'real_cross_loss': 1.063, 'cos_loss': 0.486}, val={'g_nll': 0.455, 'g_kl': 0.042, 'g_elbo': 0.497, 'x_rna_nll': 0.47, 'x_rna_kl': 0.009, 'x_rna_elbo': 0.48, 'x_atac_nll': 0.565, 'x_atac_kl': 0.004, 'x_atac_elbo': 0.569, 'dsc_loss': 0.696, 'vae_loss': 1.12, 'gen_loss': 1.085, 'joint_cross_loss': 1.041, 'real_cross_loss': 1.07, 'cos_loss': 0.505}, 1.3s elapsed\n",
      "[INFO] PairedSCGLUETrainer: [Epoch 190] train={'g_nll': 0.459, 'g_kl': 0.042, 'g_elbo': 0.501, 'x_rna_nll': 0.478, 'x_rna_kl': 0.009, 'x_rna_elbo': 0.488, 'x_atac_nll': 0.548, 'x_atac_kl': 0.004, 'x_atac_elbo': 0.551, 'dsc_loss': 0.69, 'vae_loss': 1.111, 'gen_loss': 1.076, 'joint_cross_loss': 1.032, 'real_cross_loss': 1.064, 'cos_loss': 0.487}, val={'g_nll': 0.454, 'g_kl': 0.042, 'g_elbo': 0.496, 'x_rna_nll': 0.475, 'x_rna_kl': 0.009, 'x_rna_elbo': 0.484, 'x_atac_nll': 0.557, 'x_atac_kl': 0.004, 'x_atac_elbo': 0.561, 'dsc_loss': 0.69, 'vae_loss': 1.117, 'gen_loss': 1.083, 'joint_cross_loss': 1.038, 'real_cross_loss': 1.071, 'cos_loss': 0.514}, 1.4s elapsed\n",
      "[INFO] PairedSCGLUETrainer: [Epoch 200] train={'g_nll': 0.457, 'g_kl': 0.042, 'g_elbo': 0.499, 'x_rna_nll': 0.477, 'x_rna_kl': 0.009, 'x_rna_elbo': 0.487, 'x_atac_nll': 0.546, 'x_atac_kl': 0.004, 'x_atac_elbo': 0.55, 'dsc_loss': 0.692, 'vae_loss': 1.109, 'gen_loss': 1.074, 'joint_cross_loss': 1.03, 'real_cross_loss': 1.062, 'cos_loss': 0.486}, val={'g_nll': 0.461, 'g_kl': 0.041, 'g_elbo': 0.502, 'x_rna_nll': 0.478, 'x_rna_kl': 0.009, 'x_rna_elbo': 0.488, 'x_atac_nll': 0.557, 'x_atac_kl': 0.004, 'x_atac_elbo': 0.561, 'dsc_loss': 0.688, 'vae_loss': 1.121, 'gen_loss': 1.086, 'joint_cross_loss': 1.042, 'real_cross_loss': 1.075, 'cos_loss': 0.492}, 1.3s elapsed\n",
      "[INFO] PairedSCGLUETrainer: [Epoch 210] train={'g_nll': 0.454, 'g_kl': 0.041, 'g_elbo': 0.495, 'x_rna_nll': 0.477, 'x_rna_kl': 0.009, 'x_rna_elbo': 0.487, 'x_atac_nll': 0.547, 'x_atac_kl': 0.004, 'x_atac_elbo': 0.551, 'dsc_loss': 0.691, 'vae_loss': 1.11, 'gen_loss': 1.075, 'joint_cross_loss': 1.031, 'real_cross_loss': 1.063, 'cos_loss': 0.484}, val={'g_nll': 0.458, 'g_kl': 0.041, 'g_elbo': 0.499, 'x_rna_nll': 0.475, 'x_rna_kl': 0.009, 'x_rna_elbo': 0.484, 'x_atac_nll': 0.552, 'x_atac_kl': 0.004, 'x_atac_elbo': 0.555, 'dsc_loss': 0.693, 'vae_loss': 1.112, 'gen_loss': 1.077, 'joint_cross_loss': 1.033, 'real_cross_loss': 1.065, 'cos_loss': 0.498}, 1.3s elapsed\n",
      "[INFO] PairedSCGLUETrainer: [Epoch 220] train={'g_nll': 0.452, 'g_kl': 0.041, 'g_elbo': 0.493, 'x_rna_nll': 0.477, 'x_rna_kl': 0.009, 'x_rna_elbo': 0.486, 'x_atac_nll': 0.546, 'x_atac_kl': 0.004, 'x_atac_elbo': 0.55, 'dsc_loss': 0.69, 'vae_loss': 1.108, 'gen_loss': 1.073, 'joint_cross_loss': 1.03, 'real_cross_loss': 1.061, 'cos_loss': 0.485}, val={'g_nll': 0.453, 'g_kl': 0.041, 'g_elbo': 0.494, 'x_rna_nll': 0.485, 'x_rna_kl': 0.009, 'x_rna_elbo': 0.494, 'x_atac_nll': 0.558, 'x_atac_kl': 0.004, 'x_atac_elbo': 0.562, 'dsc_loss': 0.688, 'vae_loss': 1.129, 'gen_loss': 1.094, 'joint_cross_loss': 1.05, 'real_cross_loss': 1.085, 'cos_loss': 0.496}, 1.4s elapsed\n",
      "Epoch 00224: reducing learning rate of group 0 to 2.0000e-04.\n",
      "Epoch 00224: reducing learning rate of group 0 to 2.0000e-04.\n",
      "[INFO] LRScheduler: Learning rate reduction: step 1\n",
      "[INFO] PairedSCGLUETrainer: [Epoch 230] train={'g_nll': 0.448, 'g_kl': 0.041, 'g_elbo': 0.489, 'x_rna_nll': 0.476, 'x_rna_kl': 0.01, 'x_rna_elbo': 0.485, 'x_atac_nll': 0.546, 'x_atac_kl': 0.004, 'x_atac_elbo': 0.55, 'dsc_loss': 0.689, 'vae_loss': 1.106, 'gen_loss': 1.072, 'joint_cross_loss': 1.029, 'real_cross_loss': 1.06, 'cos_loss': 0.482}, val={'g_nll': 0.45, 'g_kl': 0.041, 'g_elbo': 0.49, 'x_rna_nll': 0.478, 'x_rna_kl': 0.009, 'x_rna_elbo': 0.487, 'x_atac_nll': 0.549, 'x_atac_kl': 0.004, 'x_atac_elbo': 0.553, 'dsc_loss': 0.685, 'vae_loss': 1.112, 'gen_loss': 1.078, 'joint_cross_loss': 1.034, 'real_cross_loss': 1.067, 'cos_loss': 0.504}, 1.6s elapsed\n",
      "[INFO] PairedSCGLUETrainer: [Epoch 240] train={'g_nll': 0.449, 'g_kl': 0.041, 'g_elbo': 0.49, 'x_rna_nll': 0.475, 'x_rna_kl': 0.01, 'x_rna_elbo': 0.485, 'x_atac_nll': 0.546, 'x_atac_kl': 0.004, 'x_atac_elbo': 0.55, 'dsc_loss': 0.693, 'vae_loss': 1.106, 'gen_loss': 1.071, 'joint_cross_loss': 1.029, 'real_cross_loss': 1.06, 'cos_loss': 0.478}, val={'g_nll': 0.449, 'g_kl': 0.041, 'g_elbo': 0.489, 'x_rna_nll': 0.485, 'x_rna_kl': 0.009, 'x_rna_elbo': 0.494, 'x_atac_nll': 0.553, 'x_atac_kl': 0.004, 'x_atac_elbo': 0.557, 'dsc_loss': 0.694, 'vae_loss': 1.123, 'gen_loss': 1.088, 'joint_cross_loss': 1.044, 'real_cross_loss': 1.075, 'cos_loss': 0.502}, 1.3s elapsed\n",
      "[INFO] PairedSCGLUETrainer: [Epoch 250] train={'g_nll': 0.451, 'g_kl': 0.041, 'g_elbo': 0.491, 'x_rna_nll': 0.476, 'x_rna_kl': 0.01, 'x_rna_elbo': 0.486, 'x_atac_nll': 0.546, 'x_atac_kl': 0.004, 'x_atac_elbo': 0.55, 'dsc_loss': 0.689, 'vae_loss': 1.107, 'gen_loss': 1.072, 'joint_cross_loss': 1.029, 'real_cross_loss': 1.061, 'cos_loss': 0.478}, val={'g_nll': 0.453, 'g_kl': 0.041, 'g_elbo': 0.494, 'x_rna_nll': 0.479, 'x_rna_kl': 0.009, 'x_rna_elbo': 0.489, 'x_atac_nll': 0.551, 'x_atac_kl': 0.004, 'x_atac_elbo': 0.554, 'dsc_loss': 0.686, 'vae_loss': 1.115, 'gen_loss': 1.081, 'joint_cross_loss': 1.036, 'real_cross_loss': 1.069, 'cos_loss': 0.504}, 1.4s elapsed\n",
      "[INFO] PairedSCGLUETrainer: [Epoch 260] train={'g_nll': 0.449, 'g_kl': 0.041, 'g_elbo': 0.489, 'x_rna_nll': 0.475, 'x_rna_kl': 0.01, 'x_rna_elbo': 0.485, 'x_atac_nll': 0.546, 'x_atac_kl': 0.004, 'x_atac_elbo': 0.55, 'dsc_loss': 0.69, 'vae_loss': 1.106, 'gen_loss': 1.071, 'joint_cross_loss': 1.028, 'real_cross_loss': 1.059, 'cos_loss': 0.477}, val={'g_nll': 0.449, 'g_kl': 0.041, 'g_elbo': 0.489, 'x_rna_nll': 0.479, 'x_rna_kl': 0.009, 'x_rna_elbo': 0.489, 'x_atac_nll': 0.564, 'x_atac_kl': 0.004, 'x_atac_elbo': 0.568, 'dsc_loss': 0.687, 'vae_loss': 1.128, 'gen_loss': 1.094, 'joint_cross_loss': 1.05, 'real_cross_loss': 1.084, 'cos_loss': 0.485}, 1.3s elapsed\n",
      "[INFO] PairedSCGLUETrainer: [Epoch 270] train={'g_nll': 0.45, 'g_kl': 0.041, 'g_elbo': 0.491, 'x_rna_nll': 0.475, 'x_rna_kl': 0.01, 'x_rna_elbo': 0.485, 'x_atac_nll': 0.547, 'x_atac_kl': 0.004, 'x_atac_elbo': 0.551, 'dsc_loss': 0.689, 'vae_loss': 1.106, 'gen_loss': 1.072, 'joint_cross_loss': 1.029, 'real_cross_loss': 1.059, 'cos_loss': 0.479}, val={'g_nll': 0.445, 'g_kl': 0.041, 'g_elbo': 0.486, 'x_rna_nll': 0.476, 'x_rna_kl': 0.009, 'x_rna_elbo': 0.485, 'x_atac_nll': 0.56, 'x_atac_kl': 0.004, 'x_atac_elbo': 0.564, 'dsc_loss': 0.687, 'vae_loss': 1.121, 'gen_loss': 1.086, 'joint_cross_loss': 1.043, 'real_cross_loss': 1.077, 'cos_loss': 0.503}, 49.6s elapsed\n",
      "[INFO] PairedSCGLUETrainer: [Epoch 280] train={'g_nll': 0.447, 'g_kl': 0.041, 'g_elbo': 0.488, 'x_rna_nll': 0.475, 'x_rna_kl': 0.01, 'x_rna_elbo': 0.485, 'x_atac_nll': 0.547, 'x_atac_kl': 0.004, 'x_atac_elbo': 0.551, 'dsc_loss': 0.691, 'vae_loss': 1.106, 'gen_loss': 1.071, 'joint_cross_loss': 1.028, 'real_cross_loss': 1.059, 'cos_loss': 0.476}, val={'g_nll': 0.447, 'g_kl': 0.041, 'g_elbo': 0.488, 'x_rna_nll': 0.475, 'x_rna_kl': 0.009, 'x_rna_elbo': 0.484, 'x_atac_nll': 0.554, 'x_atac_kl': 0.004, 'x_atac_elbo': 0.557, 'dsc_loss': 0.69, 'vae_loss': 1.113, 'gen_loss': 1.079, 'joint_cross_loss': 1.035, 'real_cross_loss': 1.07, 'cos_loss': 0.495}, 1.3s elapsed\n",
      "[INFO] PairedSCGLUETrainer: [Epoch 290] train={'g_nll': 0.449, 'g_kl': 0.041, 'g_elbo': 0.49, 'x_rna_nll': 0.475, 'x_rna_kl': 0.01, 'x_rna_elbo': 0.485, 'x_atac_nll': 0.546, 'x_atac_kl': 0.004, 'x_atac_elbo': 0.55, 'dsc_loss': 0.691, 'vae_loss': 1.106, 'gen_loss': 1.071, 'joint_cross_loss': 1.028, 'real_cross_loss': 1.059, 'cos_loss': 0.478}, val={'g_nll': 0.448, 'g_kl': 0.041, 'g_elbo': 0.488, 'x_rna_nll': 0.478, 'x_rna_kl': 0.009, 'x_rna_elbo': 0.488, 'x_atac_nll': 0.565, 'x_atac_kl': 0.004, 'x_atac_elbo': 0.569, 'dsc_loss': 0.69, 'vae_loss': 1.128, 'gen_loss': 1.094, 'joint_cross_loss': 1.05, 'real_cross_loss': 1.083, 'cos_loss': 0.482}, 1.4s elapsed\n",
      "[INFO] PairedSCGLUETrainer: [Epoch 300] train={'g_nll': 0.449, 'g_kl': 0.041, 'g_elbo': 0.49, 'x_rna_nll': 0.475, 'x_rna_kl': 0.01, 'x_rna_elbo': 0.485, 'x_atac_nll': 0.546, 'x_atac_kl': 0.004, 'x_atac_elbo': 0.55, 'dsc_loss': 0.69, 'vae_loss': 1.106, 'gen_loss': 1.071, 'joint_cross_loss': 1.028, 'real_cross_loss': 1.06, 'cos_loss': 0.479}, val={'g_nll': 0.446, 'g_kl': 0.041, 'g_elbo': 0.487, 'x_rna_nll': 0.469, 'x_rna_kl': 0.009, 'x_rna_elbo': 0.478, 'x_atac_nll': 0.56, 'x_atac_kl': 0.004, 'x_atac_elbo': 0.564, 'dsc_loss': 0.689, 'vae_loss': 1.113, 'gen_loss': 1.079, 'joint_cross_loss': 1.035, 'real_cross_loss': 1.068, 'cos_loss': 0.495}, 14.2s elapsed\n",
      "[INFO] PairedSCGLUETrainer: [Epoch 310] train={'g_nll': 0.446, 'g_kl': 0.041, 'g_elbo': 0.487, 'x_rna_nll': 0.475, 'x_rna_kl': 0.01, 'x_rna_elbo': 0.484, 'x_atac_nll': 0.546, 'x_atac_kl': 0.004, 'x_atac_elbo': 0.55, 'dsc_loss': 0.691, 'vae_loss': 1.105, 'gen_loss': 1.071, 'joint_cross_loss': 1.028, 'real_cross_loss': 1.058, 'cos_loss': 0.483}, val={'g_nll': 0.452, 'g_kl': 0.041, 'g_elbo': 0.493, 'x_rna_nll': 0.471, 'x_rna_kl': 0.009, 'x_rna_elbo': 0.48, 'x_atac_nll': 0.549, 'x_atac_kl': 0.004, 'x_atac_elbo': 0.552, 'dsc_loss': 0.691, 'vae_loss': 1.104, 'gen_loss': 1.069, 'joint_cross_loss': 1.025, 'real_cross_loss': 1.057, 'cos_loss': 0.505}, 1.3s elapsed\n",
      "[INFO] PairedSCGLUETrainer: [Epoch 320] train={'g_nll': 0.447, 'g_kl': 0.041, 'g_elbo': 0.488, 'x_rna_nll': 0.475, 'x_rna_kl': 0.01, 'x_rna_elbo': 0.485, 'x_atac_nll': 0.546, 'x_atac_kl': 0.004, 'x_atac_elbo': 0.55, 'dsc_loss': 0.693, 'vae_loss': 1.105, 'gen_loss': 1.07, 'joint_cross_loss': 1.028, 'real_cross_loss': 1.059, 'cos_loss': 0.475}, val={'g_nll': 0.449, 'g_kl': 0.041, 'g_elbo': 0.49, 'x_rna_nll': 0.483, 'x_rna_kl': 0.009, 'x_rna_elbo': 0.492, 'x_atac_nll': 0.551, 'x_atac_kl': 0.004, 'x_atac_elbo': 0.555, 'dsc_loss': 0.692, 'vae_loss': 1.119, 'gen_loss': 1.084, 'joint_cross_loss': 1.041, 'real_cross_loss': 1.076, 'cos_loss': 0.484}, 1.4s elapsed\n",
      "[INFO] PairedSCGLUETrainer: [Epoch 330] train={'g_nll': 0.449, 'g_kl': 0.041, 'g_elbo': 0.489, 'x_rna_nll': 0.475, 'x_rna_kl': 0.01, 'x_rna_elbo': 0.485, 'x_atac_nll': 0.546, 'x_atac_kl': 0.004, 'x_atac_elbo': 0.55, 'dsc_loss': 0.691, 'vae_loss': 1.106, 'gen_loss': 1.071, 'joint_cross_loss': 1.028, 'real_cross_loss': 1.059, 'cos_loss': 0.477}, val={'g_nll': 0.45, 'g_kl': 0.041, 'g_elbo': 0.491, 'x_rna_nll': 0.487, 'x_rna_kl': 0.009, 'x_rna_elbo': 0.496, 'x_atac_nll': 0.561, 'x_atac_kl': 0.004, 'x_atac_elbo': 0.565, 'dsc_loss': 0.686, 'vae_loss': 1.134, 'gen_loss': 1.099, 'joint_cross_loss': 1.054, 'real_cross_loss': 1.089, 'cos_loss': 0.504}, 2.1s elapsed\n",
      "[INFO] PairedSCGLUETrainer: [Epoch 340] train={'g_nll': 0.45, 'g_kl': 0.041, 'g_elbo': 0.491, 'x_rna_nll': 0.475, 'x_rna_kl': 0.01, 'x_rna_elbo': 0.485, 'x_atac_nll': 0.546, 'x_atac_kl': 0.004, 'x_atac_elbo': 0.55, 'dsc_loss': 0.689, 'vae_loss': 1.106, 'gen_loss': 1.071, 'joint_cross_loss': 1.028, 'real_cross_loss': 1.059, 'cos_loss': 0.48}, val={'g_nll': 0.447, 'g_kl': 0.041, 'g_elbo': 0.488, 'x_rna_nll': 0.473, 'x_rna_kl': 0.009, 'x_rna_elbo': 0.482, 'x_atac_nll': 0.555, 'x_atac_kl': 0.004, 'x_atac_elbo': 0.558, 'dsc_loss': 0.69, 'vae_loss': 1.112, 'gen_loss': 1.078, 'joint_cross_loss': 1.035, 'real_cross_loss': 1.068, 'cos_loss': 0.502}, 1.3s elapsed\n",
      "[INFO] PairedSCGLUETrainer: [Epoch 350] train={'g_nll': 0.45, 'g_kl': 0.041, 'g_elbo': 0.491, 'x_rna_nll': 0.475, 'x_rna_kl': 0.01, 'x_rna_elbo': 0.484, 'x_atac_nll': 0.546, 'x_atac_kl': 0.004, 'x_atac_elbo': 0.55, 'dsc_loss': 0.69, 'vae_loss': 1.105, 'gen_loss': 1.071, 'joint_cross_loss': 1.028, 'real_cross_loss': 1.059, 'cos_loss': 0.478}, val={'g_nll': 0.453, 'g_kl': 0.041, 'g_elbo': 0.493, 'x_rna_nll': 0.474, 'x_rna_kl': 0.009, 'x_rna_elbo': 0.483, 'x_atac_nll': 0.553, 'x_atac_kl': 0.004, 'x_atac_elbo': 0.556, 'dsc_loss': 0.688, 'vae_loss': 1.111, 'gen_loss': 1.077, 'joint_cross_loss': 1.034, 'real_cross_loss': 1.068, 'cos_loss': 0.492}, 18.9s elapsed\n",
      "[INFO] PairedSCGLUETrainer: [Epoch 360] train={'g_nll': 0.446, 'g_kl': 0.041, 'g_elbo': 0.487, 'x_rna_nll': 0.475, 'x_rna_kl': 0.01, 'x_rna_elbo': 0.484, 'x_atac_nll': 0.546, 'x_atac_kl': 0.004, 'x_atac_elbo': 0.55, 'dsc_loss': 0.69, 'vae_loss': 1.105, 'gen_loss': 1.07, 'joint_cross_loss': 1.027, 'real_cross_loss': 1.058, 'cos_loss': 0.474}, val={'g_nll': 0.452, 'g_kl': 0.041, 'g_elbo': 0.492, 'x_rna_nll': 0.469, 'x_rna_kl': 0.009, 'x_rna_elbo': 0.478, 'x_atac_nll': 0.552, 'x_atac_kl': 0.004, 'x_atac_elbo': 0.556, 'dsc_loss': 0.688, 'vae_loss': 1.104, 'gen_loss': 1.07, 'joint_cross_loss': 1.026, 'real_cross_loss': 1.058, 'cos_loss': 0.489}, 1.3s elapsed\n",
      "Epoch 00364: reducing learning rate of group 0 to 2.0000e-05.\n",
      "Epoch 00364: reducing learning rate of group 0 to 2.0000e-05.\n",
      "[INFO] LRScheduler: Learning rate reduction: step 2\n",
      "[INFO] PairedSCGLUETrainer: [Epoch 370] train={'g_nll': 0.449, 'g_kl': 0.041, 'g_elbo': 0.49, 'x_rna_nll': 0.475, 'x_rna_kl': 0.01, 'x_rna_elbo': 0.485, 'x_atac_nll': 0.546, 'x_atac_kl': 0.004, 'x_atac_elbo': 0.55, 'dsc_loss': 0.692, 'vae_loss': 1.105, 'gen_loss': 1.07, 'joint_cross_loss': 1.028, 'real_cross_loss': 1.059, 'cos_loss': 0.48}, val={'g_nll': 0.448, 'g_kl': 0.041, 'g_elbo': 0.488, 'x_rna_nll': 0.466, 'x_rna_kl': 0.009, 'x_rna_elbo': 0.475, 'x_atac_nll': 0.539, 'x_atac_kl': 0.004, 'x_atac_elbo': 0.543, 'dsc_loss': 0.691, 'vae_loss': 1.089, 'gen_loss': 1.054, 'joint_cross_loss': 1.011, 'real_cross_loss': 1.042, 'cos_loss': 0.502}, 1.4s elapsed\n",
      "[INFO] PairedSCGLUETrainer: [Epoch 380] train={'g_nll': 0.448, 'g_kl': 0.041, 'g_elbo': 0.488, 'x_rna_nll': 0.475, 'x_rna_kl': 0.01, 'x_rna_elbo': 0.485, 'x_atac_nll': 0.546, 'x_atac_kl': 0.004, 'x_atac_elbo': 0.55, 'dsc_loss': 0.691, 'vae_loss': 1.106, 'gen_loss': 1.071, 'joint_cross_loss': 1.029, 'real_cross_loss': 1.059, 'cos_loss': 0.476}, val={'g_nll': 0.448, 'g_kl': 0.041, 'g_elbo': 0.489, 'x_rna_nll': 0.473, 'x_rna_kl': 0.009, 'x_rna_elbo': 0.482, 'x_atac_nll': 0.553, 'x_atac_kl': 0.004, 'x_atac_elbo': 0.557, 'dsc_loss': 0.68, 'vae_loss': 1.111, 'gen_loss': 1.077, 'joint_cross_loss': 1.032, 'real_cross_loss': 1.065, 'cos_loss': 0.507}, 1.4s elapsed\n",
      "[INFO] PairedSCGLUETrainer: [Epoch 390] train={'g_nll': 0.449, 'g_kl': 0.041, 'g_elbo': 0.489, 'x_rna_nll': 0.475, 'x_rna_kl': 0.01, 'x_rna_elbo': 0.484, 'x_atac_nll': 0.546, 'x_atac_kl': 0.004, 'x_atac_elbo': 0.55, 'dsc_loss': 0.689, 'vae_loss': 1.105, 'gen_loss': 1.071, 'joint_cross_loss': 1.028, 'real_cross_loss': 1.059, 'cos_loss': 0.476}, val={'g_nll': 0.453, 'g_kl': 0.041, 'g_elbo': 0.494, 'x_rna_nll': 0.469, 'x_rna_kl': 0.009, 'x_rna_elbo': 0.478, 'x_atac_nll': 0.565, 'x_atac_kl': 0.004, 'x_atac_elbo': 0.568, 'dsc_loss': 0.685, 'vae_loss': 1.118, 'gen_loss': 1.084, 'joint_cross_loss': 1.04, 'real_cross_loss': 1.072, 'cos_loss': 0.512}, 11.4s elapsed\n",
      "[INFO] PairedSCGLUETrainer: [Epoch 400] train={'g_nll': 0.448, 'g_kl': 0.041, 'g_elbo': 0.488, 'x_rna_nll': 0.475, 'x_rna_kl': 0.01, 'x_rna_elbo': 0.484, 'x_atac_nll': 0.546, 'x_atac_kl': 0.004, 'x_atac_elbo': 0.55, 'dsc_loss': 0.69, 'vae_loss': 1.105, 'gen_loss': 1.07, 'joint_cross_loss': 1.028, 'real_cross_loss': 1.059, 'cos_loss': 0.474}, val={'g_nll': 0.446, 'g_kl': 0.041, 'g_elbo': 0.487, 'x_rna_nll': 0.476, 'x_rna_kl': 0.009, 'x_rna_elbo': 0.485, 'x_atac_nll': 0.561, 'x_atac_kl': 0.004, 'x_atac_elbo': 0.564, 'dsc_loss': 0.682, 'vae_loss': 1.122, 'gen_loss': 1.088, 'joint_cross_loss': 1.043, 'real_cross_loss': 1.075, 'cos_loss': 0.504}, 10.9s elapsed\n",
      "[INFO] PairedSCGLUETrainer: [Epoch 410] train={'g_nll': 0.449, 'g_kl': 0.041, 'g_elbo': 0.489, 'x_rna_nll': 0.475, 'x_rna_kl': 0.01, 'x_rna_elbo': 0.484, 'x_atac_nll': 0.546, 'x_atac_kl': 0.004, 'x_atac_elbo': 0.55, 'dsc_loss': 0.691, 'vae_loss': 1.105, 'gen_loss': 1.071, 'joint_cross_loss': 1.028, 'real_cross_loss': 1.058, 'cos_loss': 0.482}, val={'g_nll': 0.444, 'g_kl': 0.041, 'g_elbo': 0.485, 'x_rna_nll': 0.476, 'x_rna_kl': 0.009, 'x_rna_elbo': 0.485, 'x_atac_nll': 0.555, 'x_atac_kl': 0.004, 'x_atac_elbo': 0.559, 'dsc_loss': 0.687, 'vae_loss': 1.115, 'gen_loss': 1.081, 'joint_cross_loss': 1.037, 'real_cross_loss': 1.069, 'cos_loss': 0.493}, 1.4s elapsed\n",
      "[INFO] PairedSCGLUETrainer: [Epoch 420] train={'g_nll': 0.448, 'g_kl': 0.041, 'g_elbo': 0.488, 'x_rna_nll': 0.475, 'x_rna_kl': 0.01, 'x_rna_elbo': 0.485, 'x_atac_nll': 0.546, 'x_atac_kl': 0.004, 'x_atac_elbo': 0.55, 'dsc_loss': 0.689, 'vae_loss': 1.106, 'gen_loss': 1.071, 'joint_cross_loss': 1.029, 'real_cross_loss': 1.06, 'cos_loss': 0.477}, val={'g_nll': 0.449, 'g_kl': 0.041, 'g_elbo': 0.489, 'x_rna_nll': 0.473, 'x_rna_kl': 0.009, 'x_rna_elbo': 0.482, 'x_atac_nll': 0.555, 'x_atac_kl': 0.004, 'x_atac_elbo': 0.558, 'dsc_loss': 0.689, 'vae_loss': 1.112, 'gen_loss': 1.077, 'joint_cross_loss': 1.034, 'real_cross_loss': 1.066, 'cos_loss': 0.488}, 1.3s elapsed\n",
      "[INFO] PairedSCGLUETrainer: [Epoch 430] train={'g_nll': 0.447, 'g_kl': 0.041, 'g_elbo': 0.487, 'x_rna_nll': 0.475, 'x_rna_kl': 0.01, 'x_rna_elbo': 0.485, 'x_atac_nll': 0.546, 'x_atac_kl': 0.004, 'x_atac_elbo': 0.55, 'dsc_loss': 0.691, 'vae_loss': 1.105, 'gen_loss': 1.071, 'joint_cross_loss': 1.028, 'real_cross_loss': 1.06, 'cos_loss': 0.475}, val={'g_nll': 0.445, 'g_kl': 0.041, 'g_elbo': 0.486, 'x_rna_nll': 0.48, 'x_rna_kl': 0.009, 'x_rna_elbo': 0.489, 'x_atac_nll': 0.559, 'x_atac_kl': 0.004, 'x_atac_elbo': 0.562, 'dsc_loss': 0.686, 'vae_loss': 1.123, 'gen_loss': 1.089, 'joint_cross_loss': 1.046, 'real_cross_loss': 1.082, 'cos_loss': 0.493}, 1.3s elapsed\n",
      "[INFO] PairedSCGLUETrainer: [Epoch 440] train={'g_nll': 0.448, 'g_kl': 0.041, 'g_elbo': 0.488, 'x_rna_nll': 0.475, 'x_rna_kl': 0.01, 'x_rna_elbo': 0.484, 'x_atac_nll': 0.546, 'x_atac_kl': 0.004, 'x_atac_elbo': 0.55, 'dsc_loss': 0.691, 'vae_loss': 1.105, 'gen_loss': 1.07, 'joint_cross_loss': 1.027, 'real_cross_loss': 1.059, 'cos_loss': 0.475}, val={'g_nll': 0.444, 'g_kl': 0.041, 'g_elbo': 0.484, 'x_rna_nll': 0.481, 'x_rna_kl': 0.009, 'x_rna_elbo': 0.49, 'x_atac_nll': 0.568, 'x_atac_kl': 0.004, 'x_atac_elbo': 0.571, 'dsc_loss': 0.684, 'vae_loss': 1.134, 'gen_loss': 1.099, 'joint_cross_loss': 1.055, 'real_cross_loss': 1.089, 'cos_loss': 0.478}, 101.4s elapsed\n"
     ]
    },
    {
     "name": "stderr",
     "output_type": "stream",
     "text": [
      "2023-05-06 02:17:32,799 ignite.handlers.early_stopping.EarlyStopping INFO: EarlyStopping: Stop training\n"
     ]
    },
    {
     "name": "stdout",
     "output_type": "stream",
     "text": [
      "[INFO] EarlyStopping: Restoring checkpoint \"370\"...\n",
      "[INFO] EarlyStopping: Restoring checkpoint \"370\"...\n"
     ]
    },
    {
     "name": "stderr",
     "output_type": "stream",
     "text": [
      "/dss/dsshome1/01/di93bur/miniconda3/envs/scglue_env_2/lib/python3.9/multiprocessing/popen_fork.py:66: ResourceWarning: unclosed socket <zmq.Socket(zmq.PUSH) at 0x7f3dd8395b20>\n",
      "  self.pid = os.fork()\n",
      "ResourceWarning: Enable tracemalloc to get the object allocation traceback\n"
     ]
    },
    {
     "name": "stdout",
     "output_type": "stream",
     "text": [
      "[INFO] fit_SCGLUE: Estimating balancing weight...\n",
      "[INFO] estimate_balancing_weight: Clustering cells...\n",
      "[INFO] estimate_balancing_weight: Matching clusters...\n",
      "[INFO] estimate_balancing_weight: Matching array shape = (15, 13)...\n",
      "[INFO] estimate_balancing_weight: Estimating balancing weight...\n",
      "[INFO] fit_SCGLUE: Fine-tuning SCGLUE model...\n"
     ]
    },
    {
     "name": "stderr",
     "output_type": "stream",
     "text": [
      "/dss/dsshome1/01/di93bur/miniconda3/envs/scglue_env_2/lib/python3.9/site-packages/anndata/_core/anndata.py:117: ImplicitModificationWarning: Transforming to str index.\n",
      "  warnings.warn(\"Transforming to str index.\", ImplicitModificationWarning)\n",
      "/dss/dsshome1/01/di93bur/miniconda3/envs/scglue_env_2/lib/python3.9/site-packages/anndata/_core/anndata.py:117: ImplicitModificationWarning: Transforming to str index.\n",
      "  warnings.warn(\"Transforming to str index.\", ImplicitModificationWarning)\n",
      "[WARNING] PairedSCGLUEModel: It is recommended that `use_rep` dimensionality be equal or larger than `latent_dim`.\n"
     ]
    },
    {
     "name": "stdout",
     "output_type": "stream",
     "text": [
      "[INFO] check_graph: Checking variable coverage...\n",
      "[INFO] check_graph: Checking edge attributes...\n",
      "[INFO] check_graph: Checking self-loops...\n",
      "[INFO] check_graph: Checking graph symmetry...\n",
      "[INFO] PairedSCGLUEModel: Setting `graph_batch_size` = 3398\n",
      "[INFO] PairedSCGLUEModel: Setting `align_burnin` = 339\n",
      "[INFO] PairedSCGLUEModel: Setting `max_epochs` = 2033\n",
      "[INFO] PairedSCGLUEModel: Setting `patience` = 170\n",
      "[INFO] PairedSCGLUEModel: Setting `reduce_lr_patience` = 85\n",
      "[INFO] PairedSCGLUETrainer: Using training directory: \"glue/fine-tune\"\n",
      "[INFO] PairedSCGLUETrainer: [Epoch 10] train={'g_nll': 0.446, 'g_kl': 0.04, 'g_elbo': 0.486, 'x_rna_nll': 0.477, 'x_rna_kl': 0.01, 'x_rna_elbo': 0.487, 'x_atac_nll': 0.551, 'x_atac_kl': 0.004, 'x_atac_elbo': 0.555, 'dsc_loss': 0.697, 'vae_loss': 1.112, 'gen_loss': 1.078, 'joint_cross_loss': 1.035, 'real_cross_loss': 1.068, 'cos_loss': 0.48}, val={'g_nll': 0.442, 'g_kl': 0.04, 'g_elbo': 0.482, 'x_rna_nll': 0.489, 'x_rna_kl': 0.01, 'x_rna_elbo': 0.499, 'x_atac_nll': 0.529, 'x_atac_kl': 0.004, 'x_atac_elbo': 0.533, 'dsc_loss': 0.685, 'vae_loss': 1.102, 'gen_loss': 1.068, 'joint_cross_loss': 1.025, 'real_cross_loss': 1.053, 'cos_loss': 0.492}, 1.3s elapsed\n",
      "[INFO] PairedSCGLUETrainer: [Epoch 20] train={'g_nll': 0.444, 'g_kl': 0.04, 'g_elbo': 0.484, 'x_rna_nll': 0.478, 'x_rna_kl': 0.01, 'x_rna_elbo': 0.487, 'x_atac_nll': 0.551, 'x_atac_kl': 0.004, 'x_atac_elbo': 0.555, 'dsc_loss': 0.692, 'vae_loss': 1.113, 'gen_loss': 1.078, 'joint_cross_loss': 1.036, 'real_cross_loss': 1.069, 'cos_loss': 0.484}, val={'g_nll': 0.447, 'g_kl': 0.04, 'g_elbo': 0.486, 'x_rna_nll': 0.477, 'x_rna_kl': 0.01, 'x_rna_elbo': 0.486, 'x_atac_nll': 0.517, 'x_atac_kl': 0.004, 'x_atac_elbo': 0.521, 'dsc_loss': 0.683, 'vae_loss': 1.077, 'gen_loss': 1.043, 'joint_cross_loss': 1.001, 'real_cross_loss': 1.032, 'cos_loss': 0.47}, 1.3s elapsed\n",
      "[INFO] PairedSCGLUETrainer: [Epoch 30] train={'g_nll': 0.443, 'g_kl': 0.04, 'g_elbo': 0.483, 'x_rna_nll': 0.477, 'x_rna_kl': 0.009, 'x_rna_elbo': 0.486, 'x_atac_nll': 0.551, 'x_atac_kl': 0.004, 'x_atac_elbo': 0.555, 'dsc_loss': 0.689, 'vae_loss': 1.112, 'gen_loss': 1.077, 'joint_cross_loss': 1.034, 'real_cross_loss': 1.066, 'cos_loss': 0.479}, val={'g_nll': 0.445, 'g_kl': 0.04, 'g_elbo': 0.485, 'x_rna_nll': 0.476, 'x_rna_kl': 0.009, 'x_rna_elbo': 0.485, 'x_atac_nll': 0.524, 'x_atac_kl': 0.004, 'x_atac_elbo': 0.528, 'dsc_loss': 0.689, 'vae_loss': 1.083, 'gen_loss': 1.049, 'joint_cross_loss': 1.006, 'real_cross_loss': 1.037, 'cos_loss': 0.494}, 1.3s elapsed\n",
      "[INFO] PairedSCGLUETrainer: [Epoch 40] train={'g_nll': 0.444, 'g_kl': 0.039, 'g_elbo': 0.483, 'x_rna_nll': 0.476, 'x_rna_kl': 0.009, 'x_rna_elbo': 0.486, 'x_atac_nll': 0.551, 'x_atac_kl': 0.004, 'x_atac_elbo': 0.554, 'dsc_loss': 0.692, 'vae_loss': 1.111, 'gen_loss': 1.076, 'joint_cross_loss': 1.034, 'real_cross_loss': 1.066, 'cos_loss': 0.476}, val={'g_nll': 0.44, 'g_kl': 0.039, 'g_elbo': 0.479, 'x_rna_nll': 0.485, 'x_rna_kl': 0.01, 'x_rna_elbo': 0.494, 'x_atac_nll': 0.527, 'x_atac_kl': 0.004, 'x_atac_elbo': 0.531, 'dsc_loss': 0.682, 'vae_loss': 1.095, 'gen_loss': 1.061, 'joint_cross_loss': 1.016, 'real_cross_loss': 1.044, 'cos_loss': 0.474}, 1.8s elapsed\n",
      "[INFO] PairedSCGLUETrainer: [Epoch 50] train={'g_nll': 0.442, 'g_kl': 0.039, 'g_elbo': 0.481, 'x_rna_nll': 0.476, 'x_rna_kl': 0.009, 'x_rna_elbo': 0.485, 'x_atac_nll': 0.55, 'x_atac_kl': 0.004, 'x_atac_elbo': 0.554, 'dsc_loss': 0.693, 'vae_loss': 1.11, 'gen_loss': 1.076, 'joint_cross_loss': 1.034, 'real_cross_loss': 1.067, 'cos_loss': 0.48}, val={'g_nll': 0.442, 'g_kl': 0.039, 'g_elbo': 0.481, 'x_rna_nll': 0.478, 'x_rna_kl': 0.01, 'x_rna_elbo': 0.488, 'x_atac_nll': 0.524, 'x_atac_kl': 0.004, 'x_atac_elbo': 0.527, 'dsc_loss': 0.686, 'vae_loss': 1.085, 'gen_loss': 1.051, 'joint_cross_loss': 1.009, 'real_cross_loss': 1.04, 'cos_loss': 0.478}, 1.3s elapsed\n",
      "[INFO] PairedSCGLUETrainer: [Epoch 60] train={'g_nll': 0.44, 'g_kl': 0.039, 'g_elbo': 0.479, 'x_rna_nll': 0.476, 'x_rna_kl': 0.01, 'x_rna_elbo': 0.485, 'x_atac_nll': 0.55, 'x_atac_kl': 0.004, 'x_atac_elbo': 0.554, 'dsc_loss': 0.689, 'vae_loss': 1.11, 'gen_loss': 1.076, 'joint_cross_loss': 1.033, 'real_cross_loss': 1.065, 'cos_loss': 0.477}, val={'g_nll': 0.438, 'g_kl': 0.039, 'g_elbo': 0.477, 'x_rna_nll': 0.477, 'x_rna_kl': 0.01, 'x_rna_elbo': 0.487, 'x_atac_nll': 0.526, 'x_atac_kl': 0.004, 'x_atac_elbo': 0.529, 'dsc_loss': 0.696, 'vae_loss': 1.086, 'gen_loss': 1.051, 'joint_cross_loss': 1.01, 'real_cross_loss': 1.042, 'cos_loss': 0.474}, 1.3s elapsed\n",
      "[INFO] PairedSCGLUETrainer: [Epoch 70] train={'g_nll': 0.438, 'g_kl': 0.039, 'g_elbo': 0.477, 'x_rna_nll': 0.476, 'x_rna_kl': 0.01, 'x_rna_elbo': 0.485, 'x_atac_nll': 0.55, 'x_atac_kl': 0.004, 'x_atac_elbo': 0.554, 'dsc_loss': 0.692, 'vae_loss': 1.11, 'gen_loss': 1.075, 'joint_cross_loss': 1.033, 'real_cross_loss': 1.066, 'cos_loss': 0.476}, val={'g_nll': 0.437, 'g_kl': 0.039, 'g_elbo': 0.476, 'x_rna_nll': 0.481, 'x_rna_kl': 0.01, 'x_rna_elbo': 0.49, 'x_atac_nll': 0.512, 'x_atac_kl': 0.004, 'x_atac_elbo': 0.516, 'dsc_loss': 0.694, 'vae_loss': 1.076, 'gen_loss': 1.041, 'joint_cross_loss': 1.0, 'real_cross_loss': 1.032, 'cos_loss': 0.474}, 1.4s elapsed\n",
      "[INFO] PairedSCGLUETrainer: [Epoch 80] train={'g_nll': 0.438, 'g_kl': 0.038, 'g_elbo': 0.477, 'x_rna_nll': 0.476, 'x_rna_kl': 0.009, 'x_rna_elbo': 0.485, 'x_atac_nll': 0.551, 'x_atac_kl': 0.004, 'x_atac_elbo': 0.555, 'dsc_loss': 0.689, 'vae_loss': 1.111, 'gen_loss': 1.076, 'joint_cross_loss': 1.034, 'real_cross_loss': 1.067, 'cos_loss': 0.477}, val={'g_nll': 0.444, 'g_kl': 0.039, 'g_elbo': 0.482, 'x_rna_nll': 0.476, 'x_rna_kl': 0.01, 'x_rna_elbo': 0.485, 'x_atac_nll': 0.515, 'x_atac_kl': 0.004, 'x_atac_elbo': 0.519, 'dsc_loss': 0.705, 'vae_loss': 1.073, 'gen_loss': 1.038, 'joint_cross_loss': 0.998, 'real_cross_loss': 1.031, 'cos_loss': 0.473}, 1.4s elapsed\n",
      "[INFO] PairedSCGLUETrainer: [Epoch 90] train={'g_nll': 0.435, 'g_kl': 0.039, 'g_elbo': 0.473, 'x_rna_nll': 0.476, 'x_rna_kl': 0.01, 'x_rna_elbo': 0.486, 'x_atac_nll': 0.551, 'x_atac_kl': 0.004, 'x_atac_elbo': 0.555, 'dsc_loss': 0.689, 'vae_loss': 1.111, 'gen_loss': 1.077, 'joint_cross_loss': 1.035, 'real_cross_loss': 1.068, 'cos_loss': 0.474}, val={'g_nll': 0.431, 'g_kl': 0.039, 'g_elbo': 0.47, 'x_rna_nll': 0.474, 'x_rna_kl': 0.009, 'x_rna_elbo': 0.483, 'x_atac_nll': 0.536, 'x_atac_kl': 0.004, 'x_atac_elbo': 0.54, 'dsc_loss': 0.686, 'vae_loss': 1.092, 'gen_loss': 1.058, 'joint_cross_loss': 1.016, 'real_cross_loss': 1.048, 'cos_loss': 0.487}, 1.3s elapsed\n",
      "[INFO] PairedSCGLUETrainer: [Epoch 100] train={'g_nll': 0.436, 'g_kl': 0.038, 'g_elbo': 0.474, 'x_rna_nll': 0.475, 'x_rna_kl': 0.01, 'x_rna_elbo': 0.485, 'x_atac_nll': 0.55, 'x_atac_kl': 0.004, 'x_atac_elbo': 0.554, 'dsc_loss': 0.688, 'vae_loss': 1.109, 'gen_loss': 1.074, 'joint_cross_loss': 1.032, 'real_cross_loss': 1.064, 'cos_loss': 0.475}, val={'g_nll': 0.435, 'g_kl': 0.038, 'g_elbo': 0.474, 'x_rna_nll': 0.48, 'x_rna_kl': 0.01, 'x_rna_elbo': 0.49, 'x_atac_nll': 0.525, 'x_atac_kl': 0.004, 'x_atac_elbo': 0.529, 'dsc_loss': 0.681, 'vae_loss': 1.088, 'gen_loss': 1.054, 'joint_cross_loss': 1.012, 'real_cross_loss': 1.046, 'cos_loss': 0.476}, 1.4s elapsed\n",
      "[INFO] PairedSCGLUETrainer: [Epoch 110] train={'g_nll': 0.434, 'g_kl': 0.038, 'g_elbo': 0.472, 'x_rna_nll': 0.476, 'x_rna_kl': 0.01, 'x_rna_elbo': 0.485, 'x_atac_nll': 0.551, 'x_atac_kl': 0.004, 'x_atac_elbo': 0.555, 'dsc_loss': 0.69, 'vae_loss': 1.11, 'gen_loss': 1.076, 'joint_cross_loss': 1.034, 'real_cross_loss': 1.067, 'cos_loss': 0.475}, val={'g_nll': 0.435, 'g_kl': 0.038, 'g_elbo': 0.473, 'x_rna_nll': 0.487, 'x_rna_kl': 0.009, 'x_rna_elbo': 0.497, 'x_atac_nll': 0.522, 'x_atac_kl': 0.004, 'x_atac_elbo': 0.526, 'dsc_loss': 0.696, 'vae_loss': 1.092, 'gen_loss': 1.057, 'joint_cross_loss': 1.016, 'real_cross_loss': 1.049, 'cos_loss': 0.465}, 1.3s elapsed\n",
      "[INFO] PairedSCGLUETrainer: [Epoch 120] train={'g_nll': 0.432, 'g_kl': 0.038, 'g_elbo': 0.47, 'x_rna_nll': 0.475, 'x_rna_kl': 0.01, 'x_rna_elbo': 0.485, 'x_atac_nll': 0.55, 'x_atac_kl': 0.004, 'x_atac_elbo': 0.553, 'dsc_loss': 0.691, 'vae_loss': 1.109, 'gen_loss': 1.074, 'joint_cross_loss': 1.033, 'real_cross_loss': 1.066, 'cos_loss': 0.476}, val={'g_nll': 0.437, 'g_kl': 0.038, 'g_elbo': 0.475, 'x_rna_nll': 0.481, 'x_rna_kl': 0.01, 'x_rna_elbo': 0.491, 'x_atac_nll': 0.522, 'x_atac_kl': 0.004, 'x_atac_elbo': 0.525, 'dsc_loss': 0.662, 'vae_loss': 1.086, 'gen_loss': 1.053, 'joint_cross_loss': 1.009, 'real_cross_loss': 1.042, 'cos_loss': 0.48}, 1.6s elapsed\n",
      "[INFO] PairedSCGLUETrainer: [Epoch 130] train={'g_nll': 0.432, 'g_kl': 0.038, 'g_elbo': 0.47, 'x_rna_nll': 0.475, 'x_rna_kl': 0.01, 'x_rna_elbo': 0.485, 'x_atac_nll': 0.551, 'x_atac_kl': 0.004, 'x_atac_elbo': 0.555, 'dsc_loss': 0.686, 'vae_loss': 1.109, 'gen_loss': 1.075, 'joint_cross_loss': 1.034, 'real_cross_loss': 1.066, 'cos_loss': 0.473}, val={'g_nll': 0.429, 'g_kl': 0.038, 'g_elbo': 0.467, 'x_rna_nll': 0.475, 'x_rna_kl': 0.01, 'x_rna_elbo': 0.485, 'x_atac_nll': 0.518, 'x_atac_kl': 0.004, 'x_atac_elbo': 0.522, 'dsc_loss': 0.689, 'vae_loss': 1.076, 'gen_loss': 1.041, 'joint_cross_loss': 1.001, 'real_cross_loss': 1.034, 'cos_loss': 0.482}, 2.8s elapsed\n",
      "[INFO] PairedSCGLUETrainer: [Epoch 140] train={'g_nll': 0.431, 'g_kl': 0.037, 'g_elbo': 0.469, 'x_rna_nll': 0.475, 'x_rna_kl': 0.01, 'x_rna_elbo': 0.484, 'x_atac_nll': 0.55, 'x_atac_kl': 0.004, 'x_atac_elbo': 0.554, 'dsc_loss': 0.686, 'vae_loss': 1.109, 'gen_loss': 1.074, 'joint_cross_loss': 1.033, 'real_cross_loss': 1.067, 'cos_loss': 0.475}, val={'g_nll': 0.432, 'g_kl': 0.037, 'g_elbo': 0.469, 'x_rna_nll': 0.48, 'x_rna_kl': 0.01, 'x_rna_elbo': 0.489, 'x_atac_nll': 0.525, 'x_atac_kl': 0.004, 'x_atac_elbo': 0.529, 'dsc_loss': 0.684, 'vae_loss': 1.088, 'gen_loss': 1.053, 'joint_cross_loss': 1.013, 'real_cross_loss': 1.049, 'cos_loss': 0.473}, 1.3s elapsed\n",
      "[INFO] PairedSCGLUETrainer: [Epoch 150] train={'g_nll': 0.431, 'g_kl': 0.038, 'g_elbo': 0.469, 'x_rna_nll': 0.476, 'x_rna_kl': 0.009, 'x_rna_elbo': 0.485, 'x_atac_nll': 0.551, 'x_atac_kl': 0.004, 'x_atac_elbo': 0.554, 'dsc_loss': 0.692, 'vae_loss': 1.11, 'gen_loss': 1.075, 'joint_cross_loss': 1.034, 'real_cross_loss': 1.067, 'cos_loss': 0.475}, val={'g_nll': 0.427, 'g_kl': 0.037, 'g_elbo': 0.464, 'x_rna_nll': 0.477, 'x_rna_kl': 0.009, 'x_rna_elbo': 0.487, 'x_atac_nll': 0.517, 'x_atac_kl': 0.004, 'x_atac_elbo': 0.52, 'dsc_loss': 0.667, 'vae_loss': 1.076, 'gen_loss': 1.043, 'joint_cross_loss': 1.002, 'real_cross_loss': 1.033, 'cos_loss': 0.485}, 1.3s elapsed\n",
      "[INFO] PairedSCGLUETrainer: [Epoch 160] train={'g_nll': 0.431, 'g_kl': 0.037, 'g_elbo': 0.468, 'x_rna_nll': 0.475, 'x_rna_kl': 0.01, 'x_rna_elbo': 0.485, 'x_atac_nll': 0.55, 'x_atac_kl': 0.004, 'x_atac_elbo': 0.554, 'dsc_loss': 0.687, 'vae_loss': 1.109, 'gen_loss': 1.075, 'joint_cross_loss': 1.033, 'real_cross_loss': 1.066, 'cos_loss': 0.472}, val={'g_nll': 0.43, 'g_kl': 0.037, 'g_elbo': 0.467, 'x_rna_nll': 0.482, 'x_rna_kl': 0.01, 'x_rna_elbo': 0.492, 'x_atac_nll': 0.513, 'x_atac_kl': 0.004, 'x_atac_elbo': 0.517, 'dsc_loss': 0.676, 'vae_loss': 1.078, 'gen_loss': 1.044, 'joint_cross_loss': 1.003, 'real_cross_loss': 1.039, 'cos_loss': 0.48}, 3.6s elapsed\n",
      "[INFO] PairedSCGLUETrainer: [Epoch 170] train={'g_nll': 0.43, 'g_kl': 0.037, 'g_elbo': 0.467, 'x_rna_nll': 0.475, 'x_rna_kl': 0.009, 'x_rna_elbo': 0.485, 'x_atac_nll': 0.551, 'x_atac_kl': 0.004, 'x_atac_elbo': 0.554, 'dsc_loss': 0.682, 'vae_loss': 1.109, 'gen_loss': 1.075, 'joint_cross_loss': 1.034, 'real_cross_loss': 1.068, 'cos_loss': 0.478}, val={'g_nll': 0.433, 'g_kl': 0.037, 'g_elbo': 0.471, 'x_rna_nll': 0.478, 'x_rna_kl': 0.01, 'x_rna_elbo': 0.488, 'x_atac_nll': 0.51, 'x_atac_kl': 0.003, 'x_atac_elbo': 0.514, 'dsc_loss': 0.674, 'vae_loss': 1.07, 'gen_loss': 1.036, 'joint_cross_loss': 0.995, 'real_cross_loss': 1.032, 'cos_loss': 0.471}, 1.4s elapsed\n",
      "[INFO] PairedSCGLUETrainer: [Epoch 180] train={'g_nll': 0.429, 'g_kl': 0.037, 'g_elbo': 0.466, 'x_rna_nll': 0.475, 'x_rna_kl': 0.009, 'x_rna_elbo': 0.484, 'x_atac_nll': 0.55, 'x_atac_kl': 0.004, 'x_atac_elbo': 0.554, 'dsc_loss': 0.682, 'vae_loss': 1.108, 'gen_loss': 1.074, 'joint_cross_loss': 1.032, 'real_cross_loss': 1.065, 'cos_loss': 0.474}, val={'g_nll': 0.433, 'g_kl': 0.037, 'g_elbo': 0.47, 'x_rna_nll': 0.475, 'x_rna_kl': 0.01, 'x_rna_elbo': 0.485, 'x_atac_nll': 0.521, 'x_atac_kl': 0.004, 'x_atac_elbo': 0.525, 'dsc_loss': 0.699, 'vae_loss': 1.079, 'gen_loss': 1.044, 'joint_cross_loss': 1.005, 'real_cross_loss': 1.041, 'cos_loss': 0.473}, 16.3s elapsed\n",
      "[INFO] PairedSCGLUETrainer: [Epoch 190] train={'g_nll': 0.429, 'g_kl': 0.037, 'g_elbo': 0.466, 'x_rna_nll': 0.475, 'x_rna_kl': 0.009, 'x_rna_elbo': 0.485, 'x_atac_nll': 0.551, 'x_atac_kl': 0.004, 'x_atac_elbo': 0.555, 'dsc_loss': 0.682, 'vae_loss': 1.11, 'gen_loss': 1.076, 'joint_cross_loss': 1.034, 'real_cross_loss': 1.066, 'cos_loss': 0.474}, val={'g_nll': 0.429, 'g_kl': 0.037, 'g_elbo': 0.466, 'x_rna_nll': 0.476, 'x_rna_kl': 0.01, 'x_rna_elbo': 0.486, 'x_atac_nll': 0.515, 'x_atac_kl': 0.004, 'x_atac_elbo': 0.519, 'dsc_loss': 0.667, 'vae_loss': 1.074, 'gen_loss': 1.04, 'joint_cross_loss': 1.0, 'real_cross_loss': 1.038, 'cos_loss': 0.475}, 1.3s elapsed\n",
      "[INFO] PairedSCGLUETrainer: [Epoch 200] train={'g_nll': 0.43, 'g_kl': 0.037, 'g_elbo': 0.467, 'x_rna_nll': 0.475, 'x_rna_kl': 0.009, 'x_rna_elbo': 0.485, 'x_atac_nll': 0.551, 'x_atac_kl': 0.004, 'x_atac_elbo': 0.554, 'dsc_loss': 0.683, 'vae_loss': 1.109, 'gen_loss': 1.075, 'joint_cross_loss': 1.033, 'real_cross_loss': 1.066, 'cos_loss': 0.474}, val={'g_nll': 0.431, 'g_kl': 0.037, 'g_elbo': 0.468, 'x_rna_nll': 0.487, 'x_rna_kl': 0.009, 'x_rna_elbo': 0.496, 'x_atac_nll': 0.531, 'x_atac_kl': 0.003, 'x_atac_elbo': 0.535, 'dsc_loss': 0.658, 'vae_loss': 1.101, 'gen_loss': 1.068, 'joint_cross_loss': 1.026, 'real_cross_loss': 1.061, 'cos_loss': 0.49}, 13.0s elapsed\n",
      "[INFO] PairedSCGLUETrainer: [Epoch 210] train={'g_nll': 0.428, 'g_kl': 0.037, 'g_elbo': 0.465, 'x_rna_nll': 0.475, 'x_rna_kl': 0.009, 'x_rna_elbo': 0.485, 'x_atac_nll': 0.551, 'x_atac_kl': 0.004, 'x_atac_elbo': 0.554, 'dsc_loss': 0.673, 'vae_loss': 1.109, 'gen_loss': 1.075, 'joint_cross_loss': 1.034, 'real_cross_loss': 1.067, 'cos_loss': 0.477}, val={'g_nll': 0.433, 'g_kl': 0.037, 'g_elbo': 0.47, 'x_rna_nll': 0.487, 'x_rna_kl': 0.01, 'x_rna_elbo': 0.497, 'x_atac_nll': 0.52, 'x_atac_kl': 0.004, 'x_atac_elbo': 0.523, 'dsc_loss': 0.649, 'vae_loss': 1.09, 'gen_loss': 1.057, 'joint_cross_loss': 1.015, 'real_cross_loss': 1.05, 'cos_loss': 0.475}, 1.3s elapsed\n",
      "[INFO] PairedSCGLUETrainer: [Epoch 220] train={'g_nll': 0.431, 'g_kl': 0.037, 'g_elbo': 0.467, 'x_rna_nll': 0.475, 'x_rna_kl': 0.009, 'x_rna_elbo': 0.484, 'x_atac_nll': 0.55, 'x_atac_kl': 0.004, 'x_atac_elbo': 0.553, 'dsc_loss': 0.679, 'vae_loss': 1.107, 'gen_loss': 1.074, 'joint_cross_loss': 1.032, 'real_cross_loss': 1.065, 'cos_loss': 0.474}, val={'g_nll': 0.432, 'g_kl': 0.037, 'g_elbo': 0.469, 'x_rna_nll': 0.494, 'x_rna_kl': 0.01, 'x_rna_elbo': 0.504, 'x_atac_nll': 0.525, 'x_atac_kl': 0.003, 'x_atac_elbo': 0.528, 'dsc_loss': 0.654, 'vae_loss': 1.103, 'gen_loss': 1.07, 'joint_cross_loss': 1.026, 'real_cross_loss': 1.062, 'cos_loss': 0.487}, 1.3s elapsed\n",
      "[INFO] PairedSCGLUETrainer: [Epoch 230] train={'g_nll': 0.43, 'g_kl': 0.037, 'g_elbo': 0.467, 'x_rna_nll': 0.475, 'x_rna_kl': 0.009, 'x_rna_elbo': 0.485, 'x_atac_nll': 0.551, 'x_atac_kl': 0.003, 'x_atac_elbo': 0.554, 'dsc_loss': 0.674, 'vae_loss': 1.109, 'gen_loss': 1.076, 'joint_cross_loss': 1.034, 'real_cross_loss': 1.066, 'cos_loss': 0.477}, val={'g_nll': 0.425, 'g_kl': 0.037, 'g_elbo': 0.462, 'x_rna_nll': 0.479, 'x_rna_kl': 0.009, 'x_rna_elbo': 0.488, 'x_atac_nll': 0.517, 'x_atac_kl': 0.004, 'x_atac_elbo': 0.521, 'dsc_loss': 0.643, 'vae_loss': 1.078, 'gen_loss': 1.046, 'joint_cross_loss': 1.003, 'real_cross_loss': 1.035, 'cos_loss': 0.478}, 7.4s elapsed\n",
      "[INFO] PairedSCGLUETrainer: [Epoch 240] train={'g_nll': 0.431, 'g_kl': 0.037, 'g_elbo': 0.468, 'x_rna_nll': 0.475, 'x_rna_kl': 0.009, 'x_rna_elbo': 0.484, 'x_atac_nll': 0.55, 'x_atac_kl': 0.004, 'x_atac_elbo': 0.553, 'dsc_loss': 0.675, 'vae_loss': 1.108, 'gen_loss': 1.074, 'joint_cross_loss': 1.032, 'real_cross_loss': 1.065, 'cos_loss': 0.478}, val={'g_nll': 0.429, 'g_kl': 0.037, 'g_elbo': 0.465, 'x_rna_nll': 0.477, 'x_rna_kl': 0.01, 'x_rna_elbo': 0.486, 'x_atac_nll': 0.509, 'x_atac_kl': 0.004, 'x_atac_elbo': 0.513, 'dsc_loss': 0.696, 'vae_loss': 1.067, 'gen_loss': 1.032, 'joint_cross_loss': 0.993, 'real_cross_loss': 1.026, 'cos_loss': 0.463}, 2.8s elapsed\n",
      "[INFO] PairedSCGLUETrainer: [Epoch 250] train={'g_nll': 0.431, 'g_kl': 0.037, 'g_elbo': 0.467, 'x_rna_nll': 0.475, 'x_rna_kl': 0.009, 'x_rna_elbo': 0.485, 'x_atac_nll': 0.551, 'x_atac_kl': 0.004, 'x_atac_elbo': 0.554, 'dsc_loss': 0.676, 'vae_loss': 1.109, 'gen_loss': 1.075, 'joint_cross_loss': 1.034, 'real_cross_loss': 1.067, 'cos_loss': 0.477}, val={'g_nll': 0.423, 'g_kl': 0.036, 'g_elbo': 0.46, 'x_rna_nll': 0.477, 'x_rna_kl': 0.01, 'x_rna_elbo': 0.487, 'x_atac_nll': 0.52, 'x_atac_kl': 0.003, 'x_atac_elbo': 0.523, 'dsc_loss': 0.676, 'vae_loss': 1.079, 'gen_loss': 1.045, 'joint_cross_loss': 1.004, 'real_cross_loss': 1.039, 'cos_loss': 0.486}, 11.2s elapsed\n",
      "[INFO] PairedSCGLUETrainer: [Epoch 260] train={'g_nll': 0.428, 'g_kl': 0.036, 'g_elbo': 0.464, 'x_rna_nll': 0.475, 'x_rna_kl': 0.009, 'x_rna_elbo': 0.484, 'x_atac_nll': 0.55, 'x_atac_kl': 0.004, 'x_atac_elbo': 0.554, 'dsc_loss': 0.673, 'vae_loss': 1.108, 'gen_loss': 1.074, 'joint_cross_loss': 1.032, 'real_cross_loss': 1.064, 'cos_loss': 0.475}, val={'g_nll': 0.424, 'g_kl': 0.036, 'g_elbo': 0.46, 'x_rna_nll': 0.477, 'x_rna_kl': 0.009, 'x_rna_elbo': 0.486, 'x_atac_nll': 0.519, 'x_atac_kl': 0.003, 'x_atac_elbo': 0.522, 'dsc_loss': 0.635, 'vae_loss': 1.077, 'gen_loss': 1.046, 'joint_cross_loss': 1.004, 'real_cross_loss': 1.04, 'cos_loss': 0.483}, 1.3s elapsed\n",
      "[INFO] PairedSCGLUETrainer: [Epoch 270] train={'g_nll': 0.429, 'g_kl': 0.036, 'g_elbo': 0.465, 'x_rna_nll': 0.475, 'x_rna_kl': 0.009, 'x_rna_elbo': 0.484, 'x_atac_nll': 0.55, 'x_atac_kl': 0.004, 'x_atac_elbo': 0.553, 'dsc_loss': 0.674, 'vae_loss': 1.107, 'gen_loss': 1.074, 'joint_cross_loss': 1.032, 'real_cross_loss': 1.065, 'cos_loss': 0.475}, val={'g_nll': 0.425, 'g_kl': 0.036, 'g_elbo': 0.462, 'x_rna_nll': 0.473, 'x_rna_kl': 0.009, 'x_rna_elbo': 0.482, 'x_atac_nll': 0.514, 'x_atac_kl': 0.003, 'x_atac_elbo': 0.517, 'dsc_loss': 0.632, 'vae_loss': 1.068, 'gen_loss': 1.037, 'joint_cross_loss': 0.994, 'real_cross_loss': 1.028, 'cos_loss': 0.487}, 6.2s elapsed\n",
      "[INFO] PairedSCGLUETrainer: [Epoch 280] train={'g_nll': 0.425, 'g_kl': 0.036, 'g_elbo': 0.461, 'x_rna_nll': 0.476, 'x_rna_kl': 0.009, 'x_rna_elbo': 0.485, 'x_atac_nll': 0.552, 'x_atac_kl': 0.003, 'x_atac_elbo': 0.555, 'dsc_loss': 0.671, 'vae_loss': 1.11, 'gen_loss': 1.077, 'joint_cross_loss': 1.035, 'real_cross_loss': 1.067, 'cos_loss': 0.475}, val={'g_nll': 0.432, 'g_kl': 0.036, 'g_elbo': 0.468, 'x_rna_nll': 0.482, 'x_rna_kl': 0.009, 'x_rna_elbo': 0.491, 'x_atac_nll': 0.521, 'x_atac_kl': 0.003, 'x_atac_elbo': 0.524, 'dsc_loss': 0.642, 'vae_loss': 1.085, 'gen_loss': 1.052, 'joint_cross_loss': 1.009, 'real_cross_loss': 1.041, 'cos_loss': 0.486}, 113.7s elapsed\n",
      "[INFO] PairedSCGLUETrainer: [Epoch 290] train={'g_nll': 0.427, 'g_kl': 0.036, 'g_elbo': 0.464, 'x_rna_nll': 0.475, 'x_rna_kl': 0.009, 'x_rna_elbo': 0.484, 'x_atac_nll': 0.551, 'x_atac_kl': 0.003, 'x_atac_elbo': 0.554, 'dsc_loss': 0.675, 'vae_loss': 1.108, 'gen_loss': 1.075, 'joint_cross_loss': 1.033, 'real_cross_loss': 1.065, 'cos_loss': 0.48}, val={'g_nll': 0.435, 'g_kl': 0.036, 'g_elbo': 0.471, 'x_rna_nll': 0.486, 'x_rna_kl': 0.009, 'x_rna_elbo': 0.495, 'x_atac_nll': 0.524, 'x_atac_kl': 0.003, 'x_atac_elbo': 0.527, 'dsc_loss': 0.641, 'vae_loss': 1.093, 'gen_loss': 1.061, 'joint_cross_loss': 1.017, 'real_cross_loss': 1.052, 'cos_loss': 0.485}, 35.5s elapsed\n",
      "[INFO] PairedSCGLUETrainer: [Epoch 300] train={'g_nll': 0.426, 'g_kl': 0.036, 'g_elbo': 0.462, 'x_rna_nll': 0.475, 'x_rna_kl': 0.009, 'x_rna_elbo': 0.485, 'x_atac_nll': 0.55, 'x_atac_kl': 0.004, 'x_atac_elbo': 0.554, 'dsc_loss': 0.675, 'vae_loss': 1.108, 'gen_loss': 1.075, 'joint_cross_loss': 1.033, 'real_cross_loss': 1.066, 'cos_loss': 0.472}, val={'g_nll': 0.428, 'g_kl': 0.036, 'g_elbo': 0.464, 'x_rna_nll': 0.48, 'x_rna_kl': 0.009, 'x_rna_elbo': 0.489, 'x_atac_nll': 0.518, 'x_atac_kl': 0.003, 'x_atac_elbo': 0.521, 'dsc_loss': 0.646, 'vae_loss': 1.08, 'gen_loss': 1.048, 'joint_cross_loss': 1.006, 'real_cross_loss': 1.042, 'cos_loss': 0.504}, 6.9s elapsed\n",
      "[INFO] PairedSCGLUETrainer: [Epoch 310] train={'g_nll': 0.427, 'g_kl': 0.036, 'g_elbo': 0.463, 'x_rna_nll': 0.475, 'x_rna_kl': 0.009, 'x_rna_elbo': 0.485, 'x_atac_nll': 0.551, 'x_atac_kl': 0.004, 'x_atac_elbo': 0.554, 'dsc_loss': 0.675, 'vae_loss': 1.109, 'gen_loss': 1.075, 'joint_cross_loss': 1.033, 'real_cross_loss': 1.065, 'cos_loss': 0.477}, val={'g_nll': 0.422, 'g_kl': 0.036, 'g_elbo': 0.458, 'x_rna_nll': 0.473, 'x_rna_kl': 0.009, 'x_rna_elbo': 0.482, 'x_atac_nll': 0.53, 'x_atac_kl': 0.003, 'x_atac_elbo': 0.533, 'dsc_loss': 0.638, 'vae_loss': 1.084, 'gen_loss': 1.052, 'joint_cross_loss': 1.01, 'real_cross_loss': 1.043, 'cos_loss': 0.475}, 1.3s elapsed\n",
      "[INFO] PairedSCGLUETrainer: [Epoch 320] train={'g_nll': 0.423, 'g_kl': 0.036, 'g_elbo': 0.459, 'x_rna_nll': 0.476, 'x_rna_kl': 0.009, 'x_rna_elbo': 0.485, 'x_atac_nll': 0.551, 'x_atac_kl': 0.003, 'x_atac_elbo': 0.554, 'dsc_loss': 0.669, 'vae_loss': 1.109, 'gen_loss': 1.076, 'joint_cross_loss': 1.034, 'real_cross_loss': 1.067, 'cos_loss': 0.475}, val={'g_nll': 0.428, 'g_kl': 0.036, 'g_elbo': 0.464, 'x_rna_nll': 0.478, 'x_rna_kl': 0.009, 'x_rna_elbo': 0.487, 'x_atac_nll': 0.518, 'x_atac_kl': 0.003, 'x_atac_elbo': 0.521, 'dsc_loss': 0.626, 'vae_loss': 1.078, 'gen_loss': 1.047, 'joint_cross_loss': 1.004, 'real_cross_loss': 1.04, 'cos_loss': 0.489}, 1.3s elapsed\n",
      "[INFO] PairedSCGLUETrainer: [Epoch 330] train={'g_nll': 0.427, 'g_kl': 0.036, 'g_elbo': 0.463, 'x_rna_nll': 0.475, 'x_rna_kl': 0.009, 'x_rna_elbo': 0.484, 'x_atac_nll': 0.55, 'x_atac_kl': 0.003, 'x_atac_elbo': 0.554, 'dsc_loss': 0.682, 'vae_loss': 1.108, 'gen_loss': 1.074, 'joint_cross_loss': 1.032, 'real_cross_loss': 1.064, 'cos_loss': 0.476}, val={'g_nll': 0.425, 'g_kl': 0.036, 'g_elbo': 0.461, 'x_rna_nll': 0.479, 'x_rna_kl': 0.009, 'x_rna_elbo': 0.489, 'x_atac_nll': 0.517, 'x_atac_kl': 0.003, 'x_atac_elbo': 0.521, 'dsc_loss': 0.644, 'vae_loss': 1.078, 'gen_loss': 1.046, 'joint_cross_loss': 1.004, 'real_cross_loss': 1.037, 'cos_loss': 0.486}, 31.0s elapsed\n",
      "[INFO] PairedSCGLUETrainer: [Epoch 340] train={'g_nll': 0.425, 'g_kl': 0.036, 'g_elbo': 0.461, 'x_rna_nll': 0.475, 'x_rna_kl': 0.009, 'x_rna_elbo': 0.484, 'x_atac_nll': 0.55, 'x_atac_kl': 0.004, 'x_atac_elbo': 0.554, 'dsc_loss': 0.677, 'vae_loss': 1.108, 'gen_loss': 1.074, 'joint_cross_loss': 1.032, 'real_cross_loss': 1.065, 'cos_loss': 0.475}, val={'g_nll': 0.42, 'g_kl': 0.036, 'g_elbo': 0.456, 'x_rna_nll': 0.479, 'x_rna_kl': 0.009, 'x_rna_elbo': 0.488, 'x_atac_nll': 0.52, 'x_atac_kl': 0.003, 'x_atac_elbo': 0.523, 'dsc_loss': 0.625, 'vae_loss': 1.08, 'gen_loss': 1.049, 'joint_cross_loss': 1.006, 'real_cross_loss': 1.04, 'cos_loss': 0.483}, 4.6s elapsed\n",
      "[INFO] PairedSCGLUETrainer: [Epoch 350] train={'g_nll': 0.425, 'g_kl': 0.036, 'g_elbo': 0.461, 'x_rna_nll': 0.475, 'x_rna_kl': 0.009, 'x_rna_elbo': 0.484, 'x_atac_nll': 0.551, 'x_atac_kl': 0.003, 'x_atac_elbo': 0.554, 'dsc_loss': 0.675, 'vae_loss': 1.108, 'gen_loss': 1.075, 'joint_cross_loss': 1.033, 'real_cross_loss': 1.065, 'cos_loss': 0.476}, val={'g_nll': 0.424, 'g_kl': 0.036, 'g_elbo': 0.459, 'x_rna_nll': 0.485, 'x_rna_kl': 0.009, 'x_rna_elbo': 0.494, 'x_atac_nll': 0.522, 'x_atac_kl': 0.003, 'x_atac_elbo': 0.525, 'dsc_loss': 0.643, 'vae_loss': 1.088, 'gen_loss': 1.056, 'joint_cross_loss': 1.014, 'real_cross_loss': 1.048, 'cos_loss': 0.478}, 1.3s elapsed\n",
      "[INFO] PairedSCGLUETrainer: [Epoch 360] train={'g_nll': 0.426, 'g_kl': 0.036, 'g_elbo': 0.461, 'x_rna_nll': 0.475, 'x_rna_kl': 0.009, 'x_rna_elbo': 0.484, 'x_atac_nll': 0.55, 'x_atac_kl': 0.004, 'x_atac_elbo': 0.554, 'dsc_loss': 0.672, 'vae_loss': 1.107, 'gen_loss': 1.074, 'joint_cross_loss': 1.032, 'real_cross_loss': 1.065, 'cos_loss': 0.475}, val={'g_nll': 0.424, 'g_kl': 0.036, 'g_elbo': 0.459, 'x_rna_nll': 0.478, 'x_rna_kl': 0.009, 'x_rna_elbo': 0.487, 'x_atac_nll': 0.511, 'x_atac_kl': 0.003, 'x_atac_elbo': 0.514, 'dsc_loss': 0.614, 'vae_loss': 1.069, 'gen_loss': 1.039, 'joint_cross_loss': 0.997, 'real_cross_loss': 1.034, 'cos_loss': 0.487}, 33.7s elapsed\n",
      "[INFO] PairedSCGLUETrainer: [Epoch 370] train={'g_nll': 0.426, 'g_kl': 0.035, 'g_elbo': 0.461, 'x_rna_nll': 0.475, 'x_rna_kl': 0.009, 'x_rna_elbo': 0.484, 'x_atac_nll': 0.551, 'x_atac_kl': 0.004, 'x_atac_elbo': 0.554, 'dsc_loss': 0.675, 'vae_loss': 1.108, 'gen_loss': 1.075, 'joint_cross_loss': 1.033, 'real_cross_loss': 1.064, 'cos_loss': 0.479}, val={'g_nll': 0.425, 'g_kl': 0.035, 'g_elbo': 0.46, 'x_rna_nll': 0.479, 'x_rna_kl': 0.009, 'x_rna_elbo': 0.488, 'x_atac_nll': 0.513, 'x_atac_kl': 0.003, 'x_atac_elbo': 0.517, 'dsc_loss': 0.621, 'vae_loss': 1.073, 'gen_loss': 1.042, 'joint_cross_loss': 0.999, 'real_cross_loss': 1.033, 'cos_loss': 0.478}, 1.3s elapsed\n",
      "[INFO] PairedSCGLUETrainer: [Epoch 380] train={'g_nll': 0.425, 'g_kl': 0.036, 'g_elbo': 0.461, 'x_rna_nll': 0.475, 'x_rna_kl': 0.009, 'x_rna_elbo': 0.484, 'x_atac_nll': 0.551, 'x_atac_kl': 0.003, 'x_atac_elbo': 0.554, 'dsc_loss': 0.676, 'vae_loss': 1.108, 'gen_loss': 1.074, 'joint_cross_loss': 1.033, 'real_cross_loss': 1.064, 'cos_loss': 0.476}, val={'g_nll': 0.426, 'g_kl': 0.035, 'g_elbo': 0.461, 'x_rna_nll': 0.479, 'x_rna_kl': 0.009, 'x_rna_elbo': 0.488, 'x_atac_nll': 0.519, 'x_atac_kl': 0.003, 'x_atac_elbo': 0.523, 'dsc_loss': 0.638, 'vae_loss': 1.08, 'gen_loss': 1.048, 'joint_cross_loss': 1.006, 'real_cross_loss': 1.041, 'cos_loss': 0.497}, 1.4s elapsed\n",
      "[INFO] PairedSCGLUETrainer: [Epoch 390] train={'g_nll': 0.423, 'g_kl': 0.035, 'g_elbo': 0.458, 'x_rna_nll': 0.474, 'x_rna_kl': 0.009, 'x_rna_elbo': 0.483, 'x_atac_nll': 0.55, 'x_atac_kl': 0.003, 'x_atac_elbo': 0.554, 'dsc_loss': 0.669, 'vae_loss': 1.107, 'gen_loss': 1.073, 'joint_cross_loss': 1.032, 'real_cross_loss': 1.063, 'cos_loss': 0.474}, val={'g_nll': 0.425, 'g_kl': 0.035, 'g_elbo': 0.46, 'x_rna_nll': 0.485, 'x_rna_kl': 0.009, 'x_rna_elbo': 0.494, 'x_atac_nll': 0.521, 'x_atac_kl': 0.003, 'x_atac_elbo': 0.524, 'dsc_loss': 0.651, 'vae_loss': 1.088, 'gen_loss': 1.056, 'joint_cross_loss': 1.014, 'real_cross_loss': 1.049, 'cos_loss': 0.481}, 1.3s elapsed\n",
      "[INFO] PairedSCGLUETrainer: [Epoch 400] train={'g_nll': 0.424, 'g_kl': 0.035, 'g_elbo': 0.46, 'x_rna_nll': 0.474, 'x_rna_kl': 0.009, 'x_rna_elbo': 0.483, 'x_atac_nll': 0.55, 'x_atac_kl': 0.003, 'x_atac_elbo': 0.554, 'dsc_loss': 0.672, 'vae_loss': 1.107, 'gen_loss': 1.073, 'joint_cross_loss': 1.032, 'real_cross_loss': 1.064, 'cos_loss': 0.474}, val={'g_nll': 0.43, 'g_kl': 0.035, 'g_elbo': 0.465, 'x_rna_nll': 0.485, 'x_rna_kl': 0.009, 'x_rna_elbo': 0.494, 'x_atac_nll': 0.522, 'x_atac_kl': 0.003, 'x_atac_elbo': 0.525, 'dsc_loss': 0.617, 'vae_loss': 1.089, 'gen_loss': 1.058, 'joint_cross_loss': 1.014, 'real_cross_loss': 1.048, 'cos_loss': 0.486}, 11.5s elapsed\n",
      "[INFO] PairedSCGLUETrainer: [Epoch 410] train={'g_nll': 0.423, 'g_kl': 0.035, 'g_elbo': 0.458, 'x_rna_nll': 0.475, 'x_rna_kl': 0.009, 'x_rna_elbo': 0.484, 'x_atac_nll': 0.551, 'x_atac_kl': 0.003, 'x_atac_elbo': 0.554, 'dsc_loss': 0.674, 'vae_loss': 1.108, 'gen_loss': 1.074, 'joint_cross_loss': 1.032, 'real_cross_loss': 1.063, 'cos_loss': 0.475}, val={'g_nll': 0.43, 'g_kl': 0.035, 'g_elbo': 0.465, 'x_rna_nll': 0.482, 'x_rna_kl': 0.009, 'x_rna_elbo': 0.491, 'x_atac_nll': 0.523, 'x_atac_kl': 0.003, 'x_atac_elbo': 0.526, 'dsc_loss': 0.651, 'vae_loss': 1.087, 'gen_loss': 1.055, 'joint_cross_loss': 1.013, 'real_cross_loss': 1.047, 'cos_loss': 0.492}, 1.3s elapsed\n",
      "[INFO] PairedSCGLUETrainer: [Epoch 420] train={'g_nll': 0.423, 'g_kl': 0.035, 'g_elbo': 0.458, 'x_rna_nll': 0.475, 'x_rna_kl': 0.009, 'x_rna_elbo': 0.484, 'x_atac_nll': 0.551, 'x_atac_kl': 0.003, 'x_atac_elbo': 0.555, 'dsc_loss': 0.676, 'vae_loss': 1.109, 'gen_loss': 1.075, 'joint_cross_loss': 1.033, 'real_cross_loss': 1.065, 'cos_loss': 0.474}, val={'g_nll': 0.428, 'g_kl': 0.035, 'g_elbo': 0.463, 'x_rna_nll': 0.483, 'x_rna_kl': 0.009, 'x_rna_elbo': 0.492, 'x_atac_nll': 0.516, 'x_atac_kl': 0.003, 'x_atac_elbo': 0.52, 'dsc_loss': 0.657, 'vae_loss': 1.081, 'gen_loss': 1.048, 'joint_cross_loss': 1.006, 'real_cross_loss': 1.041, 'cos_loss': 0.473}, 4.4s elapsed\n",
      "[INFO] PairedSCGLUETrainer: [Epoch 430] train={'g_nll': 0.425, 'g_kl': 0.035, 'g_elbo': 0.46, 'x_rna_nll': 0.475, 'x_rna_kl': 0.009, 'x_rna_elbo': 0.484, 'x_atac_nll': 0.55, 'x_atac_kl': 0.003, 'x_atac_elbo': 0.554, 'dsc_loss': 0.673, 'vae_loss': 1.108, 'gen_loss': 1.074, 'joint_cross_loss': 1.032, 'real_cross_loss': 1.063, 'cos_loss': 0.476}, val={'g_nll': 0.416, 'g_kl': 0.035, 'g_elbo': 0.452, 'x_rna_nll': 0.479, 'x_rna_kl': 0.009, 'x_rna_elbo': 0.488, 'x_atac_nll': 0.518, 'x_atac_kl': 0.003, 'x_atac_elbo': 0.521, 'dsc_loss': 0.641, 'vae_loss': 1.077, 'gen_loss': 1.045, 'joint_cross_loss': 1.004, 'real_cross_loss': 1.038, 'cos_loss': 0.466}, 1.3s elapsed\n",
      "Epoch 00430: reducing learning rate of group 0 to 2.0000e-04.\n",
      "Epoch 00430: reducing learning rate of group 0 to 2.0000e-04.\n",
      "[INFO] LRScheduler: Learning rate reduction: step 1\n",
      "[INFO] PairedSCGLUETrainer: [Epoch 440] train={'g_nll': 0.42, 'g_kl': 0.035, 'g_elbo': 0.455, 'x_rna_nll': 0.474, 'x_rna_kl': 0.009, 'x_rna_elbo': 0.483, 'x_atac_nll': 0.551, 'x_atac_kl': 0.004, 'x_atac_elbo': 0.555, 'dsc_loss': 0.685, 'vae_loss': 1.107, 'gen_loss': 1.073, 'joint_cross_loss': 1.032, 'real_cross_loss': 1.063, 'cos_loss': 0.472}, val={'g_nll': 0.425, 'g_kl': 0.035, 'g_elbo': 0.46, 'x_rna_nll': 0.476, 'x_rna_kl': 0.009, 'x_rna_elbo': 0.485, 'x_atac_nll': 0.522, 'x_atac_kl': 0.003, 'x_atac_elbo': 0.526, 'dsc_loss': 0.622, 'vae_loss': 1.08, 'gen_loss': 1.048, 'joint_cross_loss': 1.006, 'real_cross_loss': 1.041, 'cos_loss': 0.487}, 1.3s elapsed\n",
      "[INFO] PairedSCGLUETrainer: [Epoch 450] train={'g_nll': 0.423, 'g_kl': 0.035, 'g_elbo': 0.458, 'x_rna_nll': 0.473, 'x_rna_kl': 0.009, 'x_rna_elbo': 0.482, 'x_atac_nll': 0.55, 'x_atac_kl': 0.004, 'x_atac_elbo': 0.554, 'dsc_loss': 0.681, 'vae_loss': 1.106, 'gen_loss': 1.072, 'joint_cross_loss': 1.031, 'real_cross_loss': 1.061, 'cos_loss': 0.471}, val={'g_nll': 0.418, 'g_kl': 0.035, 'g_elbo': 0.453, 'x_rna_nll': 0.489, 'x_rna_kl': 0.009, 'x_rna_elbo': 0.498, 'x_atac_nll': 0.528, 'x_atac_kl': 0.003, 'x_atac_elbo': 0.531, 'dsc_loss': 0.616, 'vae_loss': 1.099, 'gen_loss': 1.068, 'joint_cross_loss': 1.023, 'real_cross_loss': 1.055, 'cos_loss': 0.485}, 19.4s elapsed\n",
      "[INFO] PairedSCGLUETrainer: [Epoch 460] train={'g_nll': 0.422, 'g_kl': 0.035, 'g_elbo': 0.457, 'x_rna_nll': 0.474, 'x_rna_kl': 0.009, 'x_rna_elbo': 0.483, 'x_atac_nll': 0.551, 'x_atac_kl': 0.004, 'x_atac_elbo': 0.554, 'dsc_loss': 0.681, 'vae_loss': 1.107, 'gen_loss': 1.073, 'joint_cross_loss': 1.032, 'real_cross_loss': 1.063, 'cos_loss': 0.475}, val={'g_nll': 0.423, 'g_kl': 0.035, 'g_elbo': 0.458, 'x_rna_nll': 0.479, 'x_rna_kl': 0.009, 'x_rna_elbo': 0.488, 'x_atac_nll': 0.526, 'x_atac_kl': 0.003, 'x_atac_elbo': 0.529, 'dsc_loss': 0.646, 'vae_loss': 1.086, 'gen_loss': 1.054, 'joint_cross_loss': 1.012, 'real_cross_loss': 1.046, 'cos_loss': 0.489}, 1.3s elapsed\n",
      "[INFO] PairedSCGLUETrainer: [Epoch 470] train={'g_nll': 0.424, 'g_kl': 0.035, 'g_elbo': 0.459, 'x_rna_nll': 0.473, 'x_rna_kl': 0.009, 'x_rna_elbo': 0.483, 'x_atac_nll': 0.551, 'x_atac_kl': 0.004, 'x_atac_elbo': 0.554, 'dsc_loss': 0.68, 'vae_loss': 1.106, 'gen_loss': 1.072, 'joint_cross_loss': 1.031, 'real_cross_loss': 1.063, 'cos_loss': 0.469}, val={'g_nll': 0.423, 'g_kl': 0.035, 'g_elbo': 0.458, 'x_rna_nll': 0.484, 'x_rna_kl': 0.009, 'x_rna_elbo': 0.493, 'x_atac_nll': 0.526, 'x_atac_kl': 0.003, 'x_atac_elbo': 0.53, 'dsc_loss': 0.646, 'vae_loss': 1.092, 'gen_loss': 1.06, 'joint_cross_loss': 1.018, 'real_cross_loss': 1.052, 'cos_loss': 0.471}, 1.3s elapsed\n",
      "[INFO] PairedSCGLUETrainer: [Epoch 480] train={'g_nll': 0.424, 'g_kl': 0.035, 'g_elbo': 0.459, 'x_rna_nll': 0.474, 'x_rna_kl': 0.009, 'x_rna_elbo': 0.483, 'x_atac_nll': 0.55, 'x_atac_kl': 0.003, 'x_atac_elbo': 0.554, 'dsc_loss': 0.682, 'vae_loss': 1.106, 'gen_loss': 1.072, 'joint_cross_loss': 1.031, 'real_cross_loss': 1.062, 'cos_loss': 0.475}, val={'g_nll': 0.417, 'g_kl': 0.035, 'g_elbo': 0.452, 'x_rna_nll': 0.472, 'x_rna_kl': 0.009, 'x_rna_elbo': 0.481, 'x_atac_nll': 0.515, 'x_atac_kl': 0.003, 'x_atac_elbo': 0.518, 'dsc_loss': 0.643, 'vae_loss': 1.067, 'gen_loss': 1.035, 'joint_cross_loss': 0.994, 'real_cross_loss': 1.028, 'cos_loss': 0.482}, 1.8s elapsed\n",
      "[INFO] PairedSCGLUETrainer: [Epoch 490] train={'g_nll': 0.422, 'g_kl': 0.035, 'g_elbo': 0.457, 'x_rna_nll': 0.474, 'x_rna_kl': 0.009, 'x_rna_elbo': 0.483, 'x_atac_nll': 0.55, 'x_atac_kl': 0.004, 'x_atac_elbo': 0.554, 'dsc_loss': 0.678, 'vae_loss': 1.106, 'gen_loss': 1.072, 'joint_cross_loss': 1.031, 'real_cross_loss': 1.062, 'cos_loss': 0.471}, val={'g_nll': 0.425, 'g_kl': 0.035, 'g_elbo': 0.46, 'x_rna_nll': 0.485, 'x_rna_kl': 0.009, 'x_rna_elbo': 0.494, 'x_atac_nll': 0.523, 'x_atac_kl': 0.003, 'x_atac_elbo': 0.526, 'dsc_loss': 0.631, 'vae_loss': 1.09, 'gen_loss': 1.058, 'joint_cross_loss': 1.016, 'real_cross_loss': 1.05, 'cos_loss': 0.487}, 26.9s elapsed\n",
      "[INFO] PairedSCGLUETrainer: [Epoch 500] train={'g_nll': 0.422, 'g_kl': 0.035, 'g_elbo': 0.457, 'x_rna_nll': 0.474, 'x_rna_kl': 0.009, 'x_rna_elbo': 0.483, 'x_atac_nll': 0.551, 'x_atac_kl': 0.004, 'x_atac_elbo': 0.554, 'dsc_loss': 0.677, 'vae_loss': 1.107, 'gen_loss': 1.073, 'joint_cross_loss': 1.031, 'real_cross_loss': 1.063, 'cos_loss': 0.476}, val={'g_nll': 0.425, 'g_kl': 0.035, 'g_elbo': 0.46, 'x_rna_nll': 0.484, 'x_rna_kl': 0.009, 'x_rna_elbo': 0.493, 'x_atac_nll': 0.523, 'x_atac_kl': 0.003, 'x_atac_elbo': 0.526, 'dsc_loss': 0.635, 'vae_loss': 1.089, 'gen_loss': 1.057, 'joint_cross_loss': 1.014, 'real_cross_loss': 1.046, 'cos_loss': 0.498}, 24.1s elapsed\n",
      "[INFO] PairedSCGLUETrainer: [Epoch 510] train={'g_nll': 0.423, 'g_kl': 0.035, 'g_elbo': 0.458, 'x_rna_nll': 0.473, 'x_rna_kl': 0.009, 'x_rna_elbo': 0.483, 'x_atac_nll': 0.551, 'x_atac_kl': 0.004, 'x_atac_elbo': 0.555, 'dsc_loss': 0.679, 'vae_loss': 1.107, 'gen_loss': 1.073, 'joint_cross_loss': 1.032, 'real_cross_loss': 1.063, 'cos_loss': 0.467}, val={'g_nll': 0.422, 'g_kl': 0.035, 'g_elbo': 0.457, 'x_rna_nll': 0.479, 'x_rna_kl': 0.009, 'x_rna_elbo': 0.489, 'x_atac_nll': 0.523, 'x_atac_kl': 0.003, 'x_atac_elbo': 0.526, 'dsc_loss': 0.629, 'vae_loss': 1.084, 'gen_loss': 1.052, 'joint_cross_loss': 1.011, 'real_cross_loss': 1.048, 'cos_loss': 0.486}, 1.3s elapsed\n",
      "[INFO] PairedSCGLUETrainer: [Epoch 520] train={'g_nll': 0.423, 'g_kl': 0.035, 'g_elbo': 0.458, 'x_rna_nll': 0.473, 'x_rna_kl': 0.009, 'x_rna_elbo': 0.483, 'x_atac_nll': 0.55, 'x_atac_kl': 0.004, 'x_atac_elbo': 0.554, 'dsc_loss': 0.681, 'vae_loss': 1.106, 'gen_loss': 1.072, 'joint_cross_loss': 1.031, 'real_cross_loss': 1.061, 'cos_loss': 0.467}, val={'g_nll': 0.421, 'g_kl': 0.035, 'g_elbo': 0.456, 'x_rna_nll': 0.491, 'x_rna_kl': 0.009, 'x_rna_elbo': 0.5, 'x_atac_nll': 0.54, 'x_atac_kl': 0.003, 'x_atac_elbo': 0.543, 'dsc_loss': 0.622, 'vae_loss': 1.113, 'gen_loss': 1.082, 'joint_cross_loss': 1.038, 'real_cross_loss': 1.071, 'cos_loss': 0.479}, 1.3s elapsed\n",
      "Epoch 00527: reducing learning rate of group 0 to 2.0000e-05.\n",
      "Epoch 00527: reducing learning rate of group 0 to 2.0000e-05.\n",
      "[INFO] LRScheduler: Learning rate reduction: step 2\n",
      "[INFO] PairedSCGLUETrainer: [Epoch 530] train={'g_nll': 0.422, 'g_kl': 0.035, 'g_elbo': 0.457, 'x_rna_nll': 0.473, 'x_rna_kl': 0.009, 'x_rna_elbo': 0.482, 'x_atac_nll': 0.551, 'x_atac_kl': 0.003, 'x_atac_elbo': 0.554, 'dsc_loss': 0.68, 'vae_loss': 1.106, 'gen_loss': 1.072, 'joint_cross_loss': 1.031, 'real_cross_loss': 1.061, 'cos_loss': 0.47}, val={'g_nll': 0.428, 'g_kl': 0.035, 'g_elbo': 0.463, 'x_rna_nll': 0.487, 'x_rna_kl': 0.009, 'x_rna_elbo': 0.496, 'x_atac_nll': 0.516, 'x_atac_kl': 0.003, 'x_atac_elbo': 0.519, 'dsc_loss': 0.626, 'vae_loss': 1.085, 'gen_loss': 1.054, 'joint_cross_loss': 1.01, 'real_cross_loss': 1.043, 'cos_loss': 0.482}, 10.4s elapsed\n",
      "[INFO] PairedSCGLUETrainer: [Epoch 540] train={'g_nll': 0.42, 'g_kl': 0.035, 'g_elbo': 0.455, 'x_rna_nll': 0.474, 'x_rna_kl': 0.009, 'x_rna_elbo': 0.483, 'x_atac_nll': 0.551, 'x_atac_kl': 0.004, 'x_atac_elbo': 0.555, 'dsc_loss': 0.687, 'vae_loss': 1.107, 'gen_loss': 1.072, 'joint_cross_loss': 1.032, 'real_cross_loss': 1.063, 'cos_loss': 0.47}, val={'g_nll': 0.418, 'g_kl': 0.035, 'g_elbo': 0.453, 'x_rna_nll': 0.498, 'x_rna_kl': 0.009, 'x_rna_elbo': 0.507, 'x_atac_nll': 0.525, 'x_atac_kl': 0.003, 'x_atac_elbo': 0.529, 'dsc_loss': 0.658, 'vae_loss': 1.106, 'gen_loss': 1.073, 'joint_cross_loss': 1.031, 'real_cross_loss': 1.066, 'cos_loss': 0.483}, 1.3s elapsed\n",
      "[INFO] PairedSCGLUETrainer: [Epoch 550] train={'g_nll': 0.423, 'g_kl': 0.035, 'g_elbo': 0.458, 'x_rna_nll': 0.473, 'x_rna_kl': 0.009, 'x_rna_elbo': 0.482, 'x_atac_nll': 0.55, 'x_atac_kl': 0.004, 'x_atac_elbo': 0.554, 'dsc_loss': 0.679, 'vae_loss': 1.106, 'gen_loss': 1.072, 'joint_cross_loss': 1.031, 'real_cross_loss': 1.062, 'cos_loss': 0.468}, val={'g_nll': 0.415, 'g_kl': 0.035, 'g_elbo': 0.45, 'x_rna_nll': 0.48, 'x_rna_kl': 0.009, 'x_rna_elbo': 0.489, 'x_atac_nll': 0.517, 'x_atac_kl': 0.003, 'x_atac_elbo': 0.521, 'dsc_loss': 0.63, 'vae_loss': 1.079, 'gen_loss': 1.047, 'joint_cross_loss': 1.005, 'real_cross_loss': 1.039, 'cos_loss': 0.495}, 1.3s elapsed\n",
      "[INFO] PairedSCGLUETrainer: [Epoch 560] train={'g_nll': 0.422, 'g_kl': 0.035, 'g_elbo': 0.457, 'x_rna_nll': 0.473, 'x_rna_kl': 0.009, 'x_rna_elbo': 0.483, 'x_atac_nll': 0.551, 'x_atac_kl': 0.004, 'x_atac_elbo': 0.554, 'dsc_loss': 0.677, 'vae_loss': 1.106, 'gen_loss': 1.072, 'joint_cross_loss': 1.031, 'real_cross_loss': 1.062, 'cos_loss': 0.472}, val={'g_nll': 0.422, 'g_kl': 0.035, 'g_elbo': 0.457, 'x_rna_nll': 0.476, 'x_rna_kl': 0.009, 'x_rna_elbo': 0.485, 'x_atac_nll': 0.498, 'x_atac_kl': 0.003, 'x_atac_elbo': 0.501, 'dsc_loss': 0.642, 'vae_loss': 1.055, 'gen_loss': 1.023, 'joint_cross_loss': 0.982, 'real_cross_loss': 1.018, 'cos_loss': 0.497}, 1.3s elapsed\n",
      "[INFO] PairedSCGLUETrainer: [Epoch 570] train={'g_nll': 0.42, 'g_kl': 0.035, 'g_elbo': 0.455, 'x_rna_nll': 0.473, 'x_rna_kl': 0.009, 'x_rna_elbo': 0.483, 'x_atac_nll': 0.55, 'x_atac_kl': 0.004, 'x_atac_elbo': 0.554, 'dsc_loss': 0.681, 'vae_loss': 1.106, 'gen_loss': 1.072, 'joint_cross_loss': 1.031, 'real_cross_loss': 1.061, 'cos_loss': 0.471}, val={'g_nll': 0.424, 'g_kl': 0.035, 'g_elbo': 0.459, 'x_rna_nll': 0.476, 'x_rna_kl': 0.009, 'x_rna_elbo': 0.485, 'x_atac_nll': 0.51, 'x_atac_kl': 0.003, 'x_atac_elbo': 0.513, 'dsc_loss': 0.617, 'vae_loss': 1.067, 'gen_loss': 1.036, 'joint_cross_loss': 0.994, 'real_cross_loss': 1.031, 'cos_loss': 0.494}, 1.3s elapsed\n",
      "[INFO] PairedSCGLUETrainer: [Epoch 580] train={'g_nll': 0.423, 'g_kl': 0.035, 'g_elbo': 0.458, 'x_rna_nll': 0.473, 'x_rna_kl': 0.009, 'x_rna_elbo': 0.482, 'x_atac_nll': 0.55, 'x_atac_kl': 0.004, 'x_atac_elbo': 0.554, 'dsc_loss': 0.685, 'vae_loss': 1.105, 'gen_loss': 1.071, 'joint_cross_loss': 1.03, 'real_cross_loss': 1.061, 'cos_loss': 0.469}, val={'g_nll': 0.425, 'g_kl': 0.035, 'g_elbo': 0.46, 'x_rna_nll': 0.476, 'x_rna_kl': 0.009, 'x_rna_elbo': 0.485, 'x_atac_nll': 0.523, 'x_atac_kl': 0.003, 'x_atac_elbo': 0.526, 'dsc_loss': 0.635, 'vae_loss': 1.08, 'gen_loss': 1.048, 'joint_cross_loss': 1.007, 'real_cross_loss': 1.041, 'cos_loss': 0.482}, 1.3s elapsed\n",
      "[INFO] PairedSCGLUETrainer: [Epoch 590] train={'g_nll': 0.424, 'g_kl': 0.035, 'g_elbo': 0.459, 'x_rna_nll': 0.474, 'x_rna_kl': 0.009, 'x_rna_elbo': 0.483, 'x_atac_nll': 0.551, 'x_atac_kl': 0.004, 'x_atac_elbo': 0.554, 'dsc_loss': 0.677, 'vae_loss': 1.107, 'gen_loss': 1.073, 'joint_cross_loss': 1.032, 'real_cross_loss': 1.063, 'cos_loss': 0.473}, val={'g_nll': 0.425, 'g_kl': 0.035, 'g_elbo': 0.46, 'x_rna_nll': 0.481, 'x_rna_kl': 0.009, 'x_rna_elbo': 0.49, 'x_atac_nll': 0.524, 'x_atac_kl': 0.003, 'x_atac_elbo': 0.527, 'dsc_loss': 0.64, 'vae_loss': 1.086, 'gen_loss': 1.054, 'joint_cross_loss': 1.011, 'real_cross_loss': 1.043, 'cos_loss': 0.483}, 1.3s elapsed\n",
      "[INFO] PairedSCGLUETrainer: [Epoch 600] train={'g_nll': 0.423, 'g_kl': 0.035, 'g_elbo': 0.458, 'x_rna_nll': 0.474, 'x_rna_kl': 0.009, 'x_rna_elbo': 0.483, 'x_atac_nll': 0.55, 'x_atac_kl': 0.004, 'x_atac_elbo': 0.554, 'dsc_loss': 0.684, 'vae_loss': 1.107, 'gen_loss': 1.073, 'joint_cross_loss': 1.032, 'real_cross_loss': 1.063, 'cos_loss': 0.473}, val={'g_nll': 0.419, 'g_kl': 0.035, 'g_elbo': 0.454, 'x_rna_nll': 0.47, 'x_rna_kl': 0.009, 'x_rna_elbo': 0.479, 'x_atac_nll': 0.521, 'x_atac_kl': 0.003, 'x_atac_elbo': 0.524, 'dsc_loss': 0.628, 'vae_loss': 1.072, 'gen_loss': 1.04, 'joint_cross_loss': 0.999, 'real_cross_loss': 1.033, 'cos_loss': 0.49}, 1.3s elapsed\n",
      "[INFO] PairedSCGLUETrainer: [Epoch 610] train={'g_nll': 0.423, 'g_kl': 0.035, 'g_elbo': 0.458, 'x_rna_nll': 0.474, 'x_rna_kl': 0.009, 'x_rna_elbo': 0.483, 'x_atac_nll': 0.551, 'x_atac_kl': 0.004, 'x_atac_elbo': 0.554, 'dsc_loss': 0.679, 'vae_loss': 1.107, 'gen_loss': 1.073, 'joint_cross_loss': 1.032, 'real_cross_loss': 1.063, 'cos_loss': 0.473}, val={'g_nll': 0.424, 'g_kl': 0.035, 'g_elbo': 0.459, 'x_rna_nll': 0.484, 'x_rna_kl': 0.009, 'x_rna_elbo': 0.494, 'x_atac_nll': 0.521, 'x_atac_kl': 0.003, 'x_atac_elbo': 0.524, 'dsc_loss': 0.634, 'vae_loss': 1.086, 'gen_loss': 1.055, 'joint_cross_loss': 1.012, 'real_cross_loss': 1.046, 'cos_loss': 0.478}, 1.3s elapsed\n",
      "[INFO] PairedSCGLUETrainer: [Epoch 620] train={'g_nll': 0.424, 'g_kl': 0.035, 'g_elbo': 0.459, 'x_rna_nll': 0.473, 'x_rna_kl': 0.009, 'x_rna_elbo': 0.482, 'x_atac_nll': 0.55, 'x_atac_kl': 0.004, 'x_atac_elbo': 0.554, 'dsc_loss': 0.68, 'vae_loss': 1.106, 'gen_loss': 1.072, 'joint_cross_loss': 1.031, 'real_cross_loss': 1.063, 'cos_loss': 0.472}, val={'g_nll': 0.422, 'g_kl': 0.035, 'g_elbo': 0.457, 'x_rna_nll': 0.481, 'x_rna_kl': 0.009, 'x_rna_elbo': 0.49, 'x_atac_nll': 0.521, 'x_atac_kl': 0.003, 'x_atac_elbo': 0.524, 'dsc_loss': 0.633, 'vae_loss': 1.083, 'gen_loss': 1.052, 'joint_cross_loss': 1.009, 'real_cross_loss': 1.044, 'cos_loss': 0.485}, 10.2s elapsed\n",
      "[INFO] PairedSCGLUETrainer: [Epoch 630] train={'g_nll': 0.423, 'g_kl': 0.035, 'g_elbo': 0.458, 'x_rna_nll': 0.473, 'x_rna_kl': 0.009, 'x_rna_elbo': 0.482, 'x_atac_nll': 0.55, 'x_atac_kl': 0.004, 'x_atac_elbo': 0.553, 'dsc_loss': 0.677, 'vae_loss': 1.105, 'gen_loss': 1.071, 'joint_cross_loss': 1.03, 'real_cross_loss': 1.061, 'cos_loss': 0.469}, val={'g_nll': 0.422, 'g_kl': 0.035, 'g_elbo': 0.457, 'x_rna_nll': 0.482, 'x_rna_kl': 0.01, 'x_rna_elbo': 0.491, 'x_atac_nll': 0.527, 'x_atac_kl': 0.003, 'x_atac_elbo': 0.53, 'dsc_loss': 0.66, 'vae_loss': 1.091, 'gen_loss': 1.058, 'joint_cross_loss': 1.017, 'real_cross_loss': 1.05, 'cos_loss': 0.473}, 1.3s elapsed\n",
      "[INFO] PairedSCGLUETrainer: [Epoch 640] train={'g_nll': 0.42, 'g_kl': 0.035, 'g_elbo': 0.455, 'x_rna_nll': 0.474, 'x_rna_kl': 0.009, 'x_rna_elbo': 0.483, 'x_atac_nll': 0.55, 'x_atac_kl': 0.004, 'x_atac_elbo': 0.554, 'dsc_loss': 0.682, 'vae_loss': 1.106, 'gen_loss': 1.072, 'joint_cross_loss': 1.031, 'real_cross_loss': 1.062, 'cos_loss': 0.468}, val={'g_nll': 0.425, 'g_kl': 0.035, 'g_elbo': 0.46, 'x_rna_nll': 0.479, 'x_rna_kl': 0.009, 'x_rna_elbo': 0.489, 'x_atac_nll': 0.519, 'x_atac_kl': 0.003, 'x_atac_elbo': 0.523, 'dsc_loss': 0.629, 'vae_loss': 1.08, 'gen_loss': 1.049, 'joint_cross_loss': 1.006, 'real_cross_loss': 1.041, 'cos_loss': 0.487}, 2.2s elapsed\n",
      "[INFO] PairedSCGLUETrainer: [Epoch 650] train={'g_nll': 0.424, 'g_kl': 0.035, 'g_elbo': 0.459, 'x_rna_nll': 0.474, 'x_rna_kl': 0.009, 'x_rna_elbo': 0.483, 'x_atac_nll': 0.551, 'x_atac_kl': 0.004, 'x_atac_elbo': 0.554, 'dsc_loss': 0.684, 'vae_loss': 1.106, 'gen_loss': 1.072, 'joint_cross_loss': 1.031, 'real_cross_loss': 1.062, 'cos_loss': 0.468}, val={'g_nll': 0.424, 'g_kl': 0.035, 'g_elbo': 0.459, 'x_rna_nll': 0.487, 'x_rna_kl': 0.009, 'x_rna_elbo': 0.496, 'x_atac_nll': 0.525, 'x_atac_kl': 0.003, 'x_atac_elbo': 0.529, 'dsc_loss': 0.635, 'vae_loss': 1.095, 'gen_loss': 1.063, 'joint_cross_loss': 1.02, 'real_cross_loss': 1.055, 'cos_loss': 0.488}, 3.7s elapsed\n",
      "[INFO] PairedSCGLUETrainer: [Epoch 660] train={'g_nll': 0.424, 'g_kl': 0.035, 'g_elbo': 0.459, 'x_rna_nll': 0.473, 'x_rna_kl': 0.009, 'x_rna_elbo': 0.483, 'x_atac_nll': 0.55, 'x_atac_kl': 0.004, 'x_atac_elbo': 0.553, 'dsc_loss': 0.676, 'vae_loss': 1.106, 'gen_loss': 1.072, 'joint_cross_loss': 1.03, 'real_cross_loss': 1.061, 'cos_loss': 0.473}, val={'g_nll': 0.421, 'g_kl': 0.035, 'g_elbo': 0.456, 'x_rna_nll': 0.483, 'x_rna_kl': 0.009, 'x_rna_elbo': 0.493, 'x_atac_nll': 0.527, 'x_atac_kl': 0.003, 'x_atac_elbo': 0.531, 'dsc_loss': 0.624, 'vae_loss': 1.092, 'gen_loss': 1.061, 'joint_cross_loss': 1.018, 'real_cross_loss': 1.051, 'cos_loss': 0.491}, 1.3s elapsed\n",
      "[INFO] PairedSCGLUETrainer: [Epoch 670] train={'g_nll': 0.42, 'g_kl': 0.035, 'g_elbo': 0.455, 'x_rna_nll': 0.473, 'x_rna_kl': 0.009, 'x_rna_elbo': 0.483, 'x_atac_nll': 0.551, 'x_atac_kl': 0.004, 'x_atac_elbo': 0.554, 'dsc_loss': 0.681, 'vae_loss': 1.107, 'gen_loss': 1.072, 'joint_cross_loss': 1.031, 'real_cross_loss': 1.062, 'cos_loss': 0.466}, val={'g_nll': 0.419, 'g_kl': 0.035, 'g_elbo': 0.454, 'x_rna_nll': 0.486, 'x_rna_kl': 0.009, 'x_rna_elbo': 0.496, 'x_atac_nll': 0.536, 'x_atac_kl': 0.003, 'x_atac_elbo': 0.539, 'dsc_loss': 0.61, 'vae_loss': 1.104, 'gen_loss': 1.074, 'joint_cross_loss': 1.029, 'real_cross_loss': 1.061, 'cos_loss': 0.495}, 1.3s elapsed\n",
      "[INFO] PairedSCGLUETrainer: [Epoch 680] train={'g_nll': 0.424, 'g_kl': 0.035, 'g_elbo': 0.459, 'x_rna_nll': 0.473, 'x_rna_kl': 0.009, 'x_rna_elbo': 0.482, 'x_atac_nll': 0.55, 'x_atac_kl': 0.004, 'x_atac_elbo': 0.554, 'dsc_loss': 0.685, 'vae_loss': 1.106, 'gen_loss': 1.072, 'joint_cross_loss': 1.03, 'real_cross_loss': 1.061, 'cos_loss': 0.47}, val={'g_nll': 0.429, 'g_kl': 0.035, 'g_elbo': 0.464, 'x_rna_nll': 0.48, 'x_rna_kl': 0.009, 'x_rna_elbo': 0.489, 'x_atac_nll': 0.527, 'x_atac_kl': 0.003, 'x_atac_elbo': 0.531, 'dsc_loss': 0.641, 'vae_loss': 1.089, 'gen_loss': 1.057, 'joint_cross_loss': 1.014, 'real_cross_loss': 1.047, 'cos_loss': 0.481}, 4.0s elapsed\n",
      "Epoch 00685: reducing learning rate of group 0 to 2.0000e-06.\n",
      "Epoch 00685: reducing learning rate of group 0 to 2.0000e-06.\n",
      "[INFO] LRScheduler: Learning rate reduction: step 3\n",
      "[INFO] PairedSCGLUETrainer: [Epoch 690] train={'g_nll': 0.423, 'g_kl': 0.035, 'g_elbo': 0.458, 'x_rna_nll': 0.473, 'x_rna_kl': 0.009, 'x_rna_elbo': 0.483, 'x_atac_nll': 0.551, 'x_atac_kl': 0.004, 'x_atac_elbo': 0.554, 'dsc_loss': 0.687, 'vae_loss': 1.106, 'gen_loss': 1.072, 'joint_cross_loss': 1.031, 'real_cross_loss': 1.062, 'cos_loss': 0.47}, val={'g_nll': 0.421, 'g_kl': 0.035, 'g_elbo': 0.456, 'x_rna_nll': 0.469, 'x_rna_kl': 0.009, 'x_rna_elbo': 0.478, 'x_atac_nll': 0.517, 'x_atac_kl': 0.003, 'x_atac_elbo': 0.52, 'dsc_loss': 0.618, 'vae_loss': 1.067, 'gen_loss': 1.036, 'joint_cross_loss': 0.993, 'real_cross_loss': 1.025, 'cos_loss': 0.495}, 1.3s elapsed\n",
      "[INFO] PairedSCGLUETrainer: [Epoch 700] train={'g_nll': 0.422, 'g_kl': 0.035, 'g_elbo': 0.457, 'x_rna_nll': 0.473, 'x_rna_kl': 0.009, 'x_rna_elbo': 0.482, 'x_atac_nll': 0.551, 'x_atac_kl': 0.004, 'x_atac_elbo': 0.554, 'dsc_loss': 0.679, 'vae_loss': 1.106, 'gen_loss': 1.072, 'joint_cross_loss': 1.031, 'real_cross_loss': 1.062, 'cos_loss': 0.471}, val={'g_nll': 0.427, 'g_kl': 0.035, 'g_elbo': 0.462, 'x_rna_nll': 0.494, 'x_rna_kl': 0.009, 'x_rna_elbo': 0.504, 'x_atac_nll': 0.525, 'x_atac_kl': 0.003, 'x_atac_elbo': 0.528, 'dsc_loss': 0.613, 'vae_loss': 1.102, 'gen_loss': 1.072, 'joint_cross_loss': 1.028, 'real_cross_loss': 1.065, 'cos_loss': 0.489}, 7.8s elapsed\n",
      "[INFO] PairedSCGLUETrainer: [Epoch 710] train={'g_nll': 0.422, 'g_kl': 0.035, 'g_elbo': 0.457, 'x_rna_nll': 0.473, 'x_rna_kl': 0.009, 'x_rna_elbo': 0.482, 'x_atac_nll': 0.55, 'x_atac_kl': 0.004, 'x_atac_elbo': 0.554, 'dsc_loss': 0.678, 'vae_loss': 1.105, 'gen_loss': 1.071, 'joint_cross_loss': 1.03, 'real_cross_loss': 1.061, 'cos_loss': 0.469}, val={'g_nll': 0.424, 'g_kl': 0.035, 'g_elbo': 0.459, 'x_rna_nll': 0.48, 'x_rna_kl': 0.009, 'x_rna_elbo': 0.489, 'x_atac_nll': 0.521, 'x_atac_kl': 0.003, 'x_atac_elbo': 0.525, 'dsc_loss': 0.641, 'vae_loss': 1.083, 'gen_loss': 1.051, 'joint_cross_loss': 1.009, 'real_cross_loss': 1.042, 'cos_loss': 0.48}, 10.6s elapsed\n",
      "[INFO] PairedSCGLUETrainer: [Epoch 720] train={'g_nll': 0.422, 'g_kl': 0.035, 'g_elbo': 0.457, 'x_rna_nll': 0.473, 'x_rna_kl': 0.009, 'x_rna_elbo': 0.482, 'x_atac_nll': 0.55, 'x_atac_kl': 0.004, 'x_atac_elbo': 0.554, 'dsc_loss': 0.684, 'vae_loss': 1.106, 'gen_loss': 1.072, 'joint_cross_loss': 1.031, 'real_cross_loss': 1.062, 'cos_loss': 0.471}, val={'g_nll': 0.425, 'g_kl': 0.035, 'g_elbo': 0.46, 'x_rna_nll': 0.476, 'x_rna_kl': 0.009, 'x_rna_elbo': 0.485, 'x_atac_nll': 0.52, 'x_atac_kl': 0.003, 'x_atac_elbo': 0.523, 'dsc_loss': 0.643, 'vae_loss': 1.077, 'gen_loss': 1.044, 'joint_cross_loss': 1.002, 'real_cross_loss': 1.034, 'cos_loss': 0.48}, 1.4s elapsed\n",
      "[INFO] PairedSCGLUETrainer: [Epoch 730] train={'g_nll': 0.423, 'g_kl': 0.035, 'g_elbo': 0.458, 'x_rna_nll': 0.473, 'x_rna_kl': 0.009, 'x_rna_elbo': 0.482, 'x_atac_nll': 0.55, 'x_atac_kl': 0.004, 'x_atac_elbo': 0.553, 'dsc_loss': 0.684, 'vae_loss': 1.105, 'gen_loss': 1.071, 'joint_cross_loss': 1.03, 'real_cross_loss': 1.061, 'cos_loss': 0.474}, val={'g_nll': 0.42, 'g_kl': 0.035, 'g_elbo': 0.455, 'x_rna_nll': 0.476, 'x_rna_kl': 0.009, 'x_rna_elbo': 0.485, 'x_atac_nll': 0.516, 'x_atac_kl': 0.003, 'x_atac_elbo': 0.519, 'dsc_loss': 0.629, 'vae_loss': 1.073, 'gen_loss': 1.041, 'joint_cross_loss': 0.999, 'real_cross_loss': 1.034, 'cos_loss': 0.48}, 1.3s elapsed\n",
      "[INFO] PairedSCGLUETrainer: [Epoch 740] train={'g_nll': 0.422, 'g_kl': 0.035, 'g_elbo': 0.457, 'x_rna_nll': 0.474, 'x_rna_kl': 0.009, 'x_rna_elbo': 0.483, 'x_atac_nll': 0.55, 'x_atac_kl': 0.004, 'x_atac_elbo': 0.554, 'dsc_loss': 0.683, 'vae_loss': 1.106, 'gen_loss': 1.072, 'joint_cross_loss': 1.031, 'real_cross_loss': 1.062, 'cos_loss': 0.473}, val={'g_nll': 0.417, 'g_kl': 0.035, 'g_elbo': 0.452, 'x_rna_nll': 0.484, 'x_rna_kl': 0.009, 'x_rna_elbo': 0.494, 'x_atac_nll': 0.525, 'x_atac_kl': 0.003, 'x_atac_elbo': 0.528, 'dsc_loss': 0.665, 'vae_loss': 1.091, 'gen_loss': 1.058, 'joint_cross_loss': 1.017, 'real_cross_loss': 1.052, 'cos_loss': 0.473}, 4.0s elapsed\n",
      "[INFO] PairedSCGLUETrainer: [Epoch 750] train={'g_nll': 0.421, 'g_kl': 0.035, 'g_elbo': 0.456, 'x_rna_nll': 0.474, 'x_rna_kl': 0.009, 'x_rna_elbo': 0.483, 'x_atac_nll': 0.55, 'x_atac_kl': 0.004, 'x_atac_elbo': 0.554, 'dsc_loss': 0.681, 'vae_loss': 1.107, 'gen_loss': 1.073, 'joint_cross_loss': 1.031, 'real_cross_loss': 1.062, 'cos_loss': 0.473}, val={'g_nll': 0.42, 'g_kl': 0.035, 'g_elbo': 0.455, 'x_rna_nll': 0.475, 'x_rna_kl': 0.009, 'x_rna_elbo': 0.485, 'x_atac_nll': 0.519, 'x_atac_kl': 0.003, 'x_atac_elbo': 0.522, 'dsc_loss': 0.622, 'vae_loss': 1.076, 'gen_loss': 1.044, 'joint_cross_loss': 1.001, 'real_cross_loss': 1.036, 'cos_loss': 0.471}, 1.4s elapsed\n",
      "[INFO] PairedSCGLUETrainer: [Epoch 760] train={'g_nll': 0.421, 'g_kl': 0.035, 'g_elbo': 0.456, 'x_rna_nll': 0.473, 'x_rna_kl': 0.009, 'x_rna_elbo': 0.483, 'x_atac_nll': 0.55, 'x_atac_kl': 0.004, 'x_atac_elbo': 0.553, 'dsc_loss': 0.676, 'vae_loss': 1.105, 'gen_loss': 1.072, 'joint_cross_loss': 1.031, 'real_cross_loss': 1.062, 'cos_loss': 0.471}, val={'g_nll': 0.424, 'g_kl': 0.035, 'g_elbo': 0.459, 'x_rna_nll': 0.485, 'x_rna_kl': 0.009, 'x_rna_elbo': 0.494, 'x_atac_nll': 0.525, 'x_atac_kl': 0.003, 'x_atac_elbo': 0.528, 'dsc_loss': 0.624, 'vae_loss': 1.092, 'gen_loss': 1.06, 'joint_cross_loss': 1.017, 'real_cross_loss': 1.052, 'cos_loss': 0.483}, 12.0s elapsed\n"
     ]
    },
    {
     "name": "stderr",
     "output_type": "stream",
     "text": [
      "2023-05-06 04:33:54,239 ignite.handlers.early_stopping.EarlyStopping INFO: EarlyStopping: Stop training\n"
     ]
    },
    {
     "name": "stdout",
     "output_type": "stream",
     "text": [
      "[INFO] EarlyStopping: Restoring checkpoint \"664\"...\n",
      "[INFO] EarlyStopping: Restoring checkpoint \"664\"...\n"
     ]
    },
    {
     "name": "stderr",
     "output_type": "stream",
     "text": [
      "/dss/dsshome1/01/di93bur/miniconda3/envs/scglue_env_2/lib/python3.9/multiprocessing/popen_fork.py:66: ResourceWarning: unclosed socket <zmq.Socket(zmq.PUSH) at 0x7f3dd8395b20>\n",
      "  self.pid = os.fork()\n",
      "ResourceWarning: Enable tracemalloc to get the object allocation traceback\n",
      "/tmp/ipykernel_413349/2621457291.py:24: DeprecationWarning: Call to deprecated function (or staticmethod) opt_louvain.\n",
      "  scib.cl.opt_louvain(adata,label_key='cell_type',cluster_key='cluster_key',plot=False,inplace=True,force=True,verbose = False)\n",
      "100%|██████████| 2/2 [4:49:05<00:00, 8672.54s/it]  \n"
     ]
    }
   ],
   "source": [
    "for i in tqdm(['s3d3', 's3d6']):\n",
    "    atac = sc.read('data/'+i+'/atac-glue.h5ad')\n",
    "    rna = sc.read('data/'+i+'/rna-glue.h5ad')\n",
    "    guidance = nx.read_graphml('data/'+i+'/guidance.graphml.gz')\n",
    "    \n",
    "    scglue.models.configure_dataset(rna, \"NB\", use_highly_variable=True,use_layer=\"counts\", use_rep=\"X_pca\",use_obs_names=True)\n",
    "    scglue.models.configure_dataset(atac, \"NB\", use_highly_variable=True,use_layer=\"counts\", use_rep=\"X_lsi_red\",use_obs_names=True)\n",
    "    guidance_hvf = guidance.subgraph(chain(rna.var.query(\"highly_variable\").index,atac.var.query(\"highly_variable\").index)).copy()\n",
    "    \n",
    "    glue = scglue.models.fit_SCGLUE({\"rna\": rna, \"atac\": atac}, guidance_hvf,model=scglue.models.PairedSCGLUEModel,fit_kws={\"directory\": \"glue\"})\n",
    "    \n",
    "    rna.obsm[\"X_glue\"] = glue.encode_data(\"rna\", rna)\n",
    "    atac.obsm[\"X_glue\"] = glue.encode_data(\"atac\", atac)\n",
    "    adata = sc.concat([rna, atac], join = 'outer', label='batch', index_unique = '-', keys=[\"RNA\", \"ATAC\"])\n",
    "    \n",
    "    # Evaluation metrics\n",
    "    f = fcts.foscttm(rna.obsm[\"X_glue\"], atac.obsm[\"X_glue\"])\n",
    "    lta = fcts.transfer_accuracy(rna.obsm[\"X_glue\"], atac.obsm[\"X_glue\"], rna.obs['cell_type'], atac.obs['cell_type'])\n",
    "    alg_score = fcts.alignment_score(rna.obsm[\"X_glue\"], atac.obsm[\"X_glue\"])\n",
    "    rmse = fcts.calculate_rmse(rna.obsm[\"X_glue\"], atac.obsm[\"X_glue\"])\n",
    "\n",
    "    # Bio-conservation metrics\n",
    "    sc.pp.neighbors(adata, use_rep='X_glue')\n",
    "    scib.cl.opt_louvain(adata,label_key='cell_type',cluster_key='cluster_key',plot=False,inplace=True,force=True,verbose = False)\n",
    "    nmi = scib.me.nmi(adata, cluster_key='cluster_key', label_key='cell_type')\n",
    "    asw_label = scib.me.silhouette(adata, label_key='cell_type', embed='X_glue')\n",
    "    ari = scib.me.ari(adata, cluster_key='cluster_key', label_key='cell_type')\n",
    "\n",
    "    # Batch correction metrics\n",
    "    asw_batch = scib.me.silhouette_batch(adata,batch_key='batch',label_key='cell_type',embed='X_glue',verbose=False)\n",
    "    graph_connectivity = scib.me.graph_connectivity(adata, label_key='cell_type')\n",
    "    \n",
    "    results.append([i, f, lta, alg_score, rmse, nmi, asw_label, ari, asw_batch, graph_connectivity])\n",
    "    df_results = pd.DataFrame(\n",
    "        results,\n",
    "        columns = [\"donor\", \"foscttm\", \"label_transfer_accuracy\", \"alignment_score\", \"rmse\", \"nmi\", \"asw_label\", \"ari\", \"asw_batch\", \"graph_connectivity\"]\n",
    "    )\n",
    "    df_results.to_csv('output/scglue_2.csv', index = False)"
   ]
  },
  {
   "cell_type": "code",
   "execution_count": 30,
   "id": "c4fc0779",
   "metadata": {},
   "outputs": [],
   "source": [
    "df_results = pd.DataFrame(\n",
    "    results,\n",
    "    columns = [\"donor\", \"foscttm\", \"label_transfer_accuracy\", \"alignment_score\", \"rmse\", \"nmi\", \"asw_label\", \"ari\", \"asw_batch\", \"graph_connectivity\"]\n",
    ")\n",
    "df_results.to_csv('output/scglue_2.csv', index = False)"
   ]
  },
  {
   "cell_type": "code",
   "execution_count": 31,
   "id": "e47427c8",
   "metadata": {},
   "outputs": [
    {
     "data": {
      "text/html": [
       "<div>\n",
       "<style scoped>\n",
       "    .dataframe tbody tr th:only-of-type {\n",
       "        vertical-align: middle;\n",
       "    }\n",
       "\n",
       "    .dataframe tbody tr th {\n",
       "        vertical-align: top;\n",
       "    }\n",
       "\n",
       "    .dataframe thead th {\n",
       "        text-align: right;\n",
       "    }\n",
       "</style>\n",
       "<table border=\"1\" class=\"dataframe\">\n",
       "  <thead>\n",
       "    <tr style=\"text-align: right;\">\n",
       "      <th></th>\n",
       "      <th>donor</th>\n",
       "      <th>foscttm</th>\n",
       "      <th>label_transfer_accuracy</th>\n",
       "      <th>alignment_score</th>\n",
       "      <th>rmse</th>\n",
       "      <th>nmi</th>\n",
       "      <th>asw_label</th>\n",
       "      <th>ari</th>\n",
       "      <th>asw_batch</th>\n",
       "      <th>graph_connectivity</th>\n",
       "    </tr>\n",
       "  </thead>\n",
       "  <tbody>\n",
       "    <tr>\n",
       "      <th>0</th>\n",
       "      <td>s1d2</td>\n",
       "      <td>0.0422</td>\n",
       "      <td>0.842285</td>\n",
       "      <td>0.956476</td>\n",
       "      <td>0.169282</td>\n",
       "      <td>0.700974</td>\n",
       "      <td>0.585814</td>\n",
       "      <td>0.648648</td>\n",
       "      <td>0.910727</td>\n",
       "      <td>0.951778</td>\n",
       "    </tr>\n",
       "    <tr>\n",
       "      <th>1</th>\n",
       "      <td>s1d3</td>\n",
       "      <td>0.0326</td>\n",
       "      <td>0.843421</td>\n",
       "      <td>0.968863</td>\n",
       "      <td>0.149477</td>\n",
       "      <td>0.718436</td>\n",
       "      <td>0.570090</td>\n",
       "      <td>0.513514</td>\n",
       "      <td>0.937366</td>\n",
       "      <td>0.972907</td>\n",
       "    </tr>\n",
       "    <tr>\n",
       "      <th>2</th>\n",
       "      <td>s2d1</td>\n",
       "      <td>0.0815</td>\n",
       "      <td>0.860190</td>\n",
       "      <td>0.900669</td>\n",
       "      <td>0.168181</td>\n",
       "      <td>0.724143</td>\n",
       "      <td>0.582817</td>\n",
       "      <td>0.735471</td>\n",
       "      <td>0.888634</td>\n",
       "      <td>0.905477</td>\n",
       "    </tr>\n",
       "    <tr>\n",
       "      <th>3</th>\n",
       "      <td>s2d4</td>\n",
       "      <td>0.0582</td>\n",
       "      <td>0.872689</td>\n",
       "      <td>0.931155</td>\n",
       "      <td>0.125049</td>\n",
       "      <td>0.751659</td>\n",
       "      <td>0.614832</td>\n",
       "      <td>0.707645</td>\n",
       "      <td>0.900886</td>\n",
       "      <td>0.927510</td>\n",
       "    </tr>\n",
       "    <tr>\n",
       "      <th>4</th>\n",
       "      <td>s2d5</td>\n",
       "      <td>0.1006</td>\n",
       "      <td>0.902758</td>\n",
       "      <td>0.874909</td>\n",
       "      <td>0.138881</td>\n",
       "      <td>0.773474</td>\n",
       "      <td>0.620914</td>\n",
       "      <td>0.814020</td>\n",
       "      <td>0.868497</td>\n",
       "      <td>0.923431</td>\n",
       "    </tr>\n",
       "    <tr>\n",
       "      <th>5</th>\n",
       "      <td>s3d10</td>\n",
       "      <td>0.0426</td>\n",
       "      <td>0.869046</td>\n",
       "      <td>0.931326</td>\n",
       "      <td>0.134223</td>\n",
       "      <td>0.795790</td>\n",
       "      <td>0.625322</td>\n",
       "      <td>0.720174</td>\n",
       "      <td>0.935331</td>\n",
       "      <td>0.967390</td>\n",
       "    </tr>\n",
       "    <tr>\n",
       "      <th>6</th>\n",
       "      <td>s3d3</td>\n",
       "      <td>0.0356</td>\n",
       "      <td>0.851561</td>\n",
       "      <td>0.971671</td>\n",
       "      <td>0.172021</td>\n",
       "      <td>0.779735</td>\n",
       "      <td>0.590462</td>\n",
       "      <td>0.642080</td>\n",
       "      <td>0.958223</td>\n",
       "      <td>0.972580</td>\n",
       "    </tr>\n",
       "    <tr>\n",
       "      <th>7</th>\n",
       "      <td>s3d6</td>\n",
       "      <td>0.0859</td>\n",
       "      <td>0.814175</td>\n",
       "      <td>0.970419</td>\n",
       "      <td>0.260126</td>\n",
       "      <td>0.640087</td>\n",
       "      <td>0.538489</td>\n",
       "      <td>0.572510</td>\n",
       "      <td>0.920650</td>\n",
       "      <td>0.944417</td>\n",
       "    </tr>\n",
       "  </tbody>\n",
       "</table>\n",
       "</div>"
      ],
      "text/plain": [
       "   donor  foscttm  label_transfer_accuracy  alignment_score      rmse   \n",
       "0   s1d2   0.0422                 0.842285         0.956476  0.169282  \\\n",
       "1   s1d3   0.0326                 0.843421         0.968863  0.149477   \n",
       "2   s2d1   0.0815                 0.860190         0.900669  0.168181   \n",
       "3   s2d4   0.0582                 0.872689         0.931155  0.125049   \n",
       "4   s2d5   0.1006                 0.902758         0.874909  0.138881   \n",
       "5  s3d10   0.0426                 0.869046         0.931326  0.134223   \n",
       "6   s3d3   0.0356                 0.851561         0.971671  0.172021   \n",
       "7   s3d6   0.0859                 0.814175         0.970419  0.260126   \n",
       "\n",
       "        nmi  asw_label       ari  asw_batch  graph_connectivity  \n",
       "0  0.700974   0.585814  0.648648   0.910727            0.951778  \n",
       "1  0.718436   0.570090  0.513514   0.937366            0.972907  \n",
       "2  0.724143   0.582817  0.735471   0.888634            0.905477  \n",
       "3  0.751659   0.614832  0.707645   0.900886            0.927510  \n",
       "4  0.773474   0.620914  0.814020   0.868497            0.923431  \n",
       "5  0.795790   0.625322  0.720174   0.935331            0.967390  \n",
       "6  0.779735   0.590462  0.642080   0.958223            0.972580  \n",
       "7  0.640087   0.538489  0.572510   0.920650            0.944417  "
      ]
     },
     "execution_count": 31,
     "metadata": {},
     "output_type": "execute_result"
    }
   ],
   "source": [
    "df_results"
   ]
  },
  {
   "cell_type": "code",
   "execution_count": null,
   "id": "07bfad88",
   "metadata": {},
   "outputs": [
    {
     "name": "stderr",
     "output_type": "stream",
     "text": [
      "  0%|          | 0/2 [00:00<?, ?it/s]"
     ]
    },
    {
     "name": "stdout",
     "output_type": "stream",
     "text": [
      "[INFO] fit_SCGLUE: Pretraining SCGLUE model...\n"
     ]
    },
    {
     "name": "stderr",
     "output_type": "stream",
     "text": [
      "[WARNING] PairedSCGLUEModel: It is recommended that `use_rep` dimensionality be equal or larger than `latent_dim`.\n"
     ]
    },
    {
     "name": "stdout",
     "output_type": "stream",
     "text": [
      "[INFO] check_graph: Checking variable coverage...\n",
      "[INFO] check_graph: Checking edge attributes...\n",
      "[INFO] check_graph: Checking self-loops...\n",
      "[INFO] check_graph: Checking graph symmetry...\n",
      "[INFO] PairedSCGLUEModel: Setting `graph_batch_size` = 4337\n",
      "[INFO] PairedSCGLUEModel: Setting `max_epochs` = 346\n",
      "[INFO] PairedSCGLUEModel: Setting `patience` = 29\n",
      "[INFO] PairedSCGLUEModel: Setting `reduce_lr_patience` = 15\n",
      "[INFO] PairedSCGLUETrainer: Using training directory: \"glue/pretrain\"\n",
      "[INFO] PairedSCGLUETrainer: [Epoch 10] train={'g_nll': 0.604, 'g_kl': 0.036, 'g_elbo': 0.64, 'x_rna_nll': 0.401, 'x_rna_kl': 0.008, 'x_rna_elbo': 0.408, 'x_atac_nll': 0.605, 'x_atac_kl': 0.004, 'x_atac_elbo': 0.609, 'dsc_loss': 0.691, 'vae_loss': 1.091, 'gen_loss': 1.057, 'joint_cross_loss': 1.004, 'real_cross_loss': 1.014, 'cos_loss': 0.408}, val={'g_nll': 0.598, 'g_kl': 0.036, 'g_elbo': 0.634, 'x_rna_nll': 0.405, 'x_rna_kl': 0.007, 'x_rna_elbo': 0.412, 'x_atac_nll': 0.605, 'x_atac_kl': 0.004, 'x_atac_elbo': 0.609, 'dsc_loss': 0.692, 'vae_loss': 1.095, 'gen_loss': 1.061, 'joint_cross_loss': 1.01, 'real_cross_loss': 1.018, 'cos_loss': 0.405}, 16.6s elapsed\n",
      "[INFO] PairedSCGLUETrainer: [Epoch 20] train={'g_nll': 0.502, 'g_kl': 0.037, 'g_elbo': 0.539, 'x_rna_nll': 0.396, 'x_rna_kl': 0.007, 'x_rna_elbo': 0.402, 'x_atac_nll': 0.597, 'x_atac_kl': 0.004, 'x_atac_elbo': 0.6, 'dsc_loss': 0.691, 'vae_loss': 1.074, 'gen_loss': 1.039, 'joint_cross_loss': 0.993, 'real_cross_loss': 1.002, 'cos_loss': 0.479}, val={'g_nll': 0.499, 'g_kl': 0.037, 'g_elbo': 0.536, 'x_rna_nll': 0.401, 'x_rna_kl': 0.007, 'x_rna_elbo': 0.407, 'x_atac_nll': 0.598, 'x_atac_kl': 0.003, 'x_atac_elbo': 0.602, 'dsc_loss': 0.69, 'vae_loss': 1.08, 'gen_loss': 1.046, 'joint_cross_loss': 1.0, 'real_cross_loss': 1.009, 'cos_loss': 0.479}, 10.8s elapsed\n",
      "[INFO] PairedSCGLUETrainer: [Epoch 30] train={'g_nll': 0.479, 'g_kl': 0.036, 'g_elbo': 0.514, 'x_rna_nll': 0.394, 'x_rna_kl': 0.007, 'x_rna_elbo': 0.401, 'x_atac_nll': 0.596, 'x_atac_kl': 0.003, 'x_atac_elbo': 0.599, 'dsc_loss': 0.693, 'vae_loss': 1.07, 'gen_loss': 1.036, 'joint_cross_loss': 0.991, 'real_cross_loss': 1.0, 'cos_loss': 0.475}, val={'g_nll': 0.474, 'g_kl': 0.036, 'g_elbo': 0.51, 'x_rna_nll': 0.4, 'x_rna_kl': 0.007, 'x_rna_elbo': 0.407, 'x_atac_nll': 0.598, 'x_atac_kl': 0.003, 'x_atac_elbo': 0.602, 'dsc_loss': 0.694, 'vae_loss': 1.079, 'gen_loss': 1.044, 'joint_cross_loss': 0.999, 'real_cross_loss': 1.008, 'cos_loss': 0.475}, 8.0s elapsed\n",
      "[INFO] PairedSCGLUETrainer: [Epoch 40] train={'g_nll': 0.468, 'g_kl': 0.034, 'g_elbo': 0.503, 'x_rna_nll': 0.394, 'x_rna_kl': 0.007, 'x_rna_elbo': 0.401, 'x_atac_nll': 0.596, 'x_atac_kl': 0.003, 'x_atac_elbo': 0.599, 'dsc_loss': 0.692, 'vae_loss': 1.069, 'gen_loss': 1.034, 'joint_cross_loss': 0.99, 'real_cross_loss': 1.0, 'cos_loss': 0.47}, val={'g_nll': 0.465, 'g_kl': 0.034, 'g_elbo': 0.5, 'x_rna_nll': 0.4, 'x_rna_kl': 0.007, 'x_rna_elbo': 0.407, 'x_atac_nll': 0.598, 'x_atac_kl': 0.003, 'x_atac_elbo': 0.601, 'dsc_loss': 0.691, 'vae_loss': 1.077, 'gen_loss': 1.043, 'joint_cross_loss': 0.998, 'real_cross_loss': 1.008, 'cos_loss': 0.466}, 8.6s elapsed\n",
      "[INFO] PairedSCGLUETrainer: [Epoch 50] train={'g_nll': 0.462, 'g_kl': 0.033, 'g_elbo': 0.495, 'x_rna_nll': 0.393, 'x_rna_kl': 0.007, 'x_rna_elbo': 0.4, 'x_atac_nll': 0.596, 'x_atac_kl': 0.003, 'x_atac_elbo': 0.599, 'dsc_loss': 0.693, 'vae_loss': 1.068, 'gen_loss': 1.034, 'joint_cross_loss': 0.99, 'real_cross_loss': 0.999, 'cos_loss': 0.462}, val={'g_nll': 0.457, 'g_kl': 0.033, 'g_elbo': 0.491, 'x_rna_nll': 0.399, 'x_rna_kl': 0.007, 'x_rna_elbo': 0.405, 'x_atac_nll': 0.599, 'x_atac_kl': 0.003, 'x_atac_elbo': 0.602, 'dsc_loss': 0.692, 'vae_loss': 1.076, 'gen_loss': 1.042, 'joint_cross_loss': 0.998, 'real_cross_loss': 1.008, 'cos_loss': 0.464}, 11.2s elapsed\n",
      "[INFO] PairedSCGLUETrainer: [Epoch 60] train={'g_nll': 0.456, 'g_kl': 0.032, 'g_elbo': 0.489, 'x_rna_nll': 0.393, 'x_rna_kl': 0.007, 'x_rna_elbo': 0.4, 'x_atac_nll': 0.596, 'x_atac_kl': 0.003, 'x_atac_elbo': 0.599, 'dsc_loss': 0.693, 'vae_loss': 1.068, 'gen_loss': 1.033, 'joint_cross_loss': 0.99, 'real_cross_loss': 0.999, 'cos_loss': 0.458}, val={'g_nll': 0.457, 'g_kl': 0.032, 'g_elbo': 0.489, 'x_rna_nll': 0.4, 'x_rna_kl': 0.007, 'x_rna_elbo': 0.407, 'x_atac_nll': 0.598, 'x_atac_kl': 0.003, 'x_atac_elbo': 0.601, 'dsc_loss': 0.692, 'vae_loss': 1.077, 'gen_loss': 1.042, 'joint_cross_loss': 0.999, 'real_cross_loss': 1.008, 'cos_loss': 0.458}, 14.6s elapsed\n",
      "[INFO] PairedSCGLUETrainer: [Epoch 70] train={'g_nll': 0.451, 'g_kl': 0.031, 'g_elbo': 0.483, 'x_rna_nll': 0.393, 'x_rna_kl': 0.007, 'x_rna_elbo': 0.4, 'x_atac_nll': 0.596, 'x_atac_kl': 0.003, 'x_atac_elbo': 0.599, 'dsc_loss': 0.693, 'vae_loss': 1.067, 'gen_loss': 1.032, 'joint_cross_loss': 0.989, 'real_cross_loss': 0.999, 'cos_loss': 0.456}, val={'g_nll': 0.451, 'g_kl': 0.031, 'g_elbo': 0.482, 'x_rna_nll': 0.4, 'x_rna_kl': 0.007, 'x_rna_elbo': 0.406, 'x_atac_nll': 0.598, 'x_atac_kl': 0.003, 'x_atac_elbo': 0.601, 'dsc_loss': 0.691, 'vae_loss': 1.076, 'gen_loss': 1.042, 'joint_cross_loss': 0.999, 'real_cross_loss': 1.008, 'cos_loss': 0.453}, 9.0s elapsed\n",
      "[INFO] PairedSCGLUETrainer: [Epoch 80] train={'g_nll': 0.447, 'g_kl': 0.03, 'g_elbo': 0.478, 'x_rna_nll': 0.393, 'x_rna_kl': 0.007, 'x_rna_elbo': 0.399, 'x_atac_nll': 0.595, 'x_atac_kl': 0.003, 'x_atac_elbo': 0.599, 'dsc_loss': 0.693, 'vae_loss': 1.066, 'gen_loss': 1.031, 'joint_cross_loss': 0.989, 'real_cross_loss': 0.998, 'cos_loss': 0.453}, val={'g_nll': 0.446, 'g_kl': 0.03, 'g_elbo': 0.477, 'x_rna_nll': 0.399, 'x_rna_kl': 0.006, 'x_rna_elbo': 0.405, 'x_atac_nll': 0.597, 'x_atac_kl': 0.003, 'x_atac_elbo': 0.6, 'dsc_loss': 0.692, 'vae_loss': 1.074, 'gen_loss': 1.039, 'joint_cross_loss': 0.997, 'real_cross_loss': 1.005, 'cos_loss': 0.457}, 15.3s elapsed\n",
      "[INFO] PairedSCGLUETrainer: [Epoch 90] train={'g_nll': 0.445, 'g_kl': 0.03, 'g_elbo': 0.475, 'x_rna_nll': 0.393, 'x_rna_kl': 0.007, 'x_rna_elbo': 0.399, 'x_atac_nll': 0.595, 'x_atac_kl': 0.003, 'x_atac_elbo': 0.598, 'dsc_loss': 0.692, 'vae_loss': 1.065, 'gen_loss': 1.031, 'joint_cross_loss': 0.989, 'real_cross_loss': 0.998, 'cos_loss': 0.452}, val={'g_nll': 0.442, 'g_kl': 0.029, 'g_elbo': 0.472, 'x_rna_nll': 0.398, 'x_rna_kl': 0.006, 'x_rna_elbo': 0.405, 'x_atac_nll': 0.598, 'x_atac_kl': 0.003, 'x_atac_elbo': 0.601, 'dsc_loss': 0.692, 'vae_loss': 1.074, 'gen_loss': 1.039, 'joint_cross_loss': 0.997, 'real_cross_loss': 1.007, 'cos_loss': 0.446}, 11.4s elapsed\n",
      "[INFO] PairedSCGLUETrainer: [Epoch 100] train={'g_nll': 0.442, 'g_kl': 0.029, 'g_elbo': 0.471, 'x_rna_nll': 0.392, 'x_rna_kl': 0.006, 'x_rna_elbo': 0.399, 'x_atac_nll': 0.595, 'x_atac_kl': 0.003, 'x_atac_elbo': 0.598, 'dsc_loss': 0.692, 'vae_loss': 1.065, 'gen_loss': 1.03, 'joint_cross_loss': 0.989, 'real_cross_loss': 0.998, 'cos_loss': 0.451}, val={'g_nll': 0.441, 'g_kl': 0.029, 'g_elbo': 0.47, 'x_rna_nll': 0.398, 'x_rna_kl': 0.006, 'x_rna_elbo': 0.404, 'x_atac_nll': 0.597, 'x_atac_kl': 0.003, 'x_atac_elbo': 0.6, 'dsc_loss': 0.692, 'vae_loss': 1.073, 'gen_loss': 1.038, 'joint_cross_loss': 0.996, 'real_cross_loss': 1.006, 'cos_loss': 0.452}, 10.4s elapsed\n",
      "[INFO] PairedSCGLUETrainer: [Epoch 110] train={'g_nll': 0.439, 'g_kl': 0.028, 'g_elbo': 0.467, 'x_rna_nll': 0.392, 'x_rna_kl': 0.006, 'x_rna_elbo': 0.399, 'x_atac_nll': 0.596, 'x_atac_kl': 0.003, 'x_atac_elbo': 0.599, 'dsc_loss': 0.693, 'vae_loss': 1.065, 'gen_loss': 1.03, 'joint_cross_loss': 0.989, 'real_cross_loss': 0.998, 'cos_loss': 0.448}, val={'g_nll': 0.437, 'g_kl': 0.028, 'g_elbo': 0.465, 'x_rna_nll': 0.398, 'x_rna_kl': 0.006, 'x_rna_elbo': 0.405, 'x_atac_nll': 0.597, 'x_atac_kl': 0.003, 'x_atac_elbo': 0.6, 'dsc_loss': 0.692, 'vae_loss': 1.073, 'gen_loss': 1.038, 'joint_cross_loss': 0.997, 'real_cross_loss': 1.006, 'cos_loss': 0.451}, 11.2s elapsed\n",
      "Epoch 00110: reducing learning rate of group 0 to 2.0000e-04.\n",
      "Epoch 00110: reducing learning rate of group 0 to 2.0000e-04.\n",
      "[INFO] LRScheduler: Learning rate reduction: step 1\n",
      "[INFO] PairedSCGLUETrainer: [Epoch 120] train={'g_nll': 0.438, 'g_kl': 0.028, 'g_elbo': 0.466, 'x_rna_nll': 0.392, 'x_rna_kl': 0.006, 'x_rna_elbo': 0.398, 'x_atac_nll': 0.595, 'x_atac_kl': 0.003, 'x_atac_elbo': 0.598, 'dsc_loss': 0.692, 'vae_loss': 1.063, 'gen_loss': 1.029, 'joint_cross_loss': 0.987, 'real_cross_loss': 0.997, 'cos_loss': 0.446}, val={'g_nll': 0.435, 'g_kl': 0.028, 'g_elbo': 0.463, 'x_rna_nll': 0.398, 'x_rna_kl': 0.006, 'x_rna_elbo': 0.405, 'x_atac_nll': 0.597, 'x_atac_kl': 0.003, 'x_atac_elbo': 0.6, 'dsc_loss': 0.69, 'vae_loss': 1.072, 'gen_loss': 1.038, 'joint_cross_loss': 0.997, 'real_cross_loss': 1.006, 'cos_loss': 0.448}, 20.2s elapsed\n",
      "[INFO] PairedSCGLUETrainer: [Epoch 130] train={'g_nll': 0.439, 'g_kl': 0.028, 'g_elbo': 0.467, 'x_rna_nll': 0.392, 'x_rna_kl': 0.006, 'x_rna_elbo': 0.398, 'x_atac_nll': 0.595, 'x_atac_kl': 0.003, 'x_atac_elbo': 0.598, 'dsc_loss': 0.692, 'vae_loss': 1.064, 'gen_loss': 1.029, 'joint_cross_loss': 0.988, 'real_cross_loss': 0.998, 'cos_loss': 0.446}, val={'g_nll': 0.438, 'g_kl': 0.028, 'g_elbo': 0.466, 'x_rna_nll': 0.398, 'x_rna_kl': 0.006, 'x_rna_elbo': 0.404, 'x_atac_nll': 0.599, 'x_atac_kl': 0.003, 'x_atac_elbo': 0.602, 'dsc_loss': 0.692, 'vae_loss': 1.074, 'gen_loss': 1.039, 'joint_cross_loss': 0.998, 'real_cross_loss': 1.007, 'cos_loss': 0.447}, 12.1s elapsed\n",
      "Epoch 00130: reducing learning rate of group 0 to 2.0000e-05.\n",
      "Epoch 00130: reducing learning rate of group 0 to 2.0000e-05.\n",
      "[INFO] LRScheduler: Learning rate reduction: step 2\n",
      "[INFO] PairedSCGLUETrainer: [Epoch 140] train={'g_nll': 0.438, 'g_kl': 0.028, 'g_elbo': 0.466, 'x_rna_nll': 0.392, 'x_rna_kl': 0.006, 'x_rna_elbo': 0.398, 'x_atac_nll': 0.595, 'x_atac_kl': 0.003, 'x_atac_elbo': 0.598, 'dsc_loss': 0.691, 'vae_loss': 1.064, 'gen_loss': 1.029, 'joint_cross_loss': 0.988, 'real_cross_loss': 0.997, 'cos_loss': 0.446}, val={'g_nll': 0.438, 'g_kl': 0.028, 'g_elbo': 0.466, 'x_rna_nll': 0.398, 'x_rna_kl': 0.006, 'x_rna_elbo': 0.405, 'x_atac_nll': 0.597, 'x_atac_kl': 0.003, 'x_atac_elbo': 0.6, 'dsc_loss': 0.692, 'vae_loss': 1.073, 'gen_loss': 1.038, 'joint_cross_loss': 0.997, 'real_cross_loss': 1.006, 'cos_loss': 0.446}, 27.0s elapsed\n",
      "[INFO] PairedSCGLUETrainer: [Epoch 150] train={'g_nll': 0.439, 'g_kl': 0.028, 'g_elbo': 0.467, 'x_rna_nll': 0.392, 'x_rna_kl': 0.006, 'x_rna_elbo': 0.398, 'x_atac_nll': 0.595, 'x_atac_kl': 0.003, 'x_atac_elbo': 0.598, 'dsc_loss': 0.692, 'vae_loss': 1.064, 'gen_loss': 1.029, 'joint_cross_loss': 0.988, 'real_cross_loss': 0.997, 'cos_loss': 0.446}, val={'g_nll': 0.437, 'g_kl': 0.028, 'g_elbo': 0.465, 'x_rna_nll': 0.399, 'x_rna_kl': 0.006, 'x_rna_elbo': 0.405, 'x_atac_nll': 0.598, 'x_atac_kl': 0.003, 'x_atac_elbo': 0.601, 'dsc_loss': 0.692, 'vae_loss': 1.074, 'gen_loss': 1.039, 'joint_cross_loss': 0.998, 'real_cross_loss': 1.007, 'cos_loss': 0.451}, 11.0s elapsed\n",
      "Epoch 00155: reducing learning rate of group 0 to 2.0000e-06.\n",
      "Epoch 00155: reducing learning rate of group 0 to 2.0000e-06.\n",
      "[INFO] LRScheduler: Learning rate reduction: step 3\n",
      "[INFO] PairedSCGLUETrainer: [Epoch 160] train={'g_nll': 0.437, 'g_kl': 0.028, 'g_elbo': 0.465, 'x_rna_nll': 0.391, 'x_rna_kl': 0.006, 'x_rna_elbo': 0.398, 'x_atac_nll': 0.595, 'x_atac_kl': 0.003, 'x_atac_elbo': 0.598, 'dsc_loss': 0.692, 'vae_loss': 1.063, 'gen_loss': 1.029, 'joint_cross_loss': 0.987, 'real_cross_loss': 0.997, 'cos_loss': 0.447}, val={'g_nll': 0.439, 'g_kl': 0.028, 'g_elbo': 0.467, 'x_rna_nll': 0.398, 'x_rna_kl': 0.006, 'x_rna_elbo': 0.405, 'x_atac_nll': 0.598, 'x_atac_kl': 0.003, 'x_atac_elbo': 0.601, 'dsc_loss': 0.693, 'vae_loss': 1.073, 'gen_loss': 1.039, 'joint_cross_loss': 0.997, 'real_cross_loss': 1.006, 'cos_loss': 0.447}, 9.0s elapsed\n"
     ]
    },
    {
     "name": "stderr",
     "output_type": "stream",
     "text": [
      "2023-05-06 12:50:08,987 ignite.handlers.early_stopping.EarlyStopping INFO: EarlyStopping: Stop training\n"
     ]
    },
    {
     "name": "stdout",
     "output_type": "stream",
     "text": [
      "[INFO] EarlyStopping: Restoring checkpoint \"155\"...\n",
      "[INFO] EarlyStopping: Restoring checkpoint \"155\"...\n"
     ]
    },
    {
     "name": "stderr",
     "output_type": "stream",
     "text": [
      "/dss/dsshome1/01/di93bur/miniconda3/envs/scglue_env_2/lib/python3.9/multiprocessing/popen_fork.py:66: ResourceWarning: unclosed socket <zmq.Socket(zmq.PUSH) at 0x7f3dd8395b20>\n",
      "  self.pid = os.fork()\n",
      "ResourceWarning: Enable tracemalloc to get the object allocation traceback\n"
     ]
    },
    {
     "name": "stdout",
     "output_type": "stream",
     "text": [
      "[INFO] fit_SCGLUE: Estimating balancing weight...\n",
      "[INFO] estimate_balancing_weight: Clustering cells...\n",
      "[INFO] estimate_balancing_weight: Matching clusters...\n",
      "[INFO] estimate_balancing_weight: Matching array shape = (16, 18)...\n",
      "[INFO] estimate_balancing_weight: Estimating balancing weight...\n",
      "[INFO] fit_SCGLUE: Fine-tuning SCGLUE model...\n"
     ]
    },
    {
     "name": "stderr",
     "output_type": "stream",
     "text": [
      "/dss/dsshome1/01/di93bur/miniconda3/envs/scglue_env_2/lib/python3.9/site-packages/anndata/_core/anndata.py:117: ImplicitModificationWarning: Transforming to str index.\n",
      "  warnings.warn(\"Transforming to str index.\", ImplicitModificationWarning)\n",
      "/dss/dsshome1/01/di93bur/miniconda3/envs/scglue_env_2/lib/python3.9/site-packages/anndata/_core/anndata.py:117: ImplicitModificationWarning: Transforming to str index.\n",
      "  warnings.warn(\"Transforming to str index.\", ImplicitModificationWarning)\n",
      "[WARNING] PairedSCGLUEModel: It is recommended that `use_rep` dimensionality be equal or larger than `latent_dim`.\n"
     ]
    },
    {
     "name": "stdout",
     "output_type": "stream",
     "text": [
      "[INFO] check_graph: Checking variable coverage...\n",
      "[INFO] check_graph: Checking edge attributes...\n",
      "[INFO] check_graph: Checking self-loops...\n",
      "[INFO] check_graph: Checking graph symmetry...\n",
      "[INFO] PairedSCGLUEModel: Setting `graph_batch_size` = 4337\n",
      "[INFO] PairedSCGLUEModel: Setting `align_burnin` = 58\n",
      "[INFO] PairedSCGLUEModel: Setting `max_epochs` = 346\n",
      "[INFO] PairedSCGLUEModel: Setting `patience` = 29\n",
      "[INFO] PairedSCGLUEModel: Setting `reduce_lr_patience` = 15\n",
      "[INFO] PairedSCGLUETrainer: Using training directory: \"glue/fine-tune\"\n",
      "[INFO] PairedSCGLUETrainer: [Epoch 10] train={'g_nll': 0.437, 'g_kl': 0.027, 'g_elbo': 0.465, 'x_rna_nll': 0.392, 'x_rna_kl': 0.006, 'x_rna_elbo': 0.399, 'x_atac_nll': 0.595, 'x_atac_kl': 0.003, 'x_atac_elbo': 0.598, 'dsc_loss': 0.692, 'vae_loss': 1.064, 'gen_loss': 1.03, 'joint_cross_loss': 0.989, 'real_cross_loss': 0.998, 'cos_loss': 0.448}, val={'g_nll': 0.433, 'g_kl': 0.027, 'g_elbo': 0.461, 'x_rna_nll': 0.392, 'x_rna_kl': 0.006, 'x_rna_elbo': 0.398, 'x_atac_nll': 0.596, 'x_atac_kl': 0.003, 'x_atac_elbo': 0.599, 'dsc_loss': 0.693, 'vae_loss': 1.064, 'gen_loss': 1.029, 'joint_cross_loss': 0.989, 'real_cross_loss': 0.998, 'cos_loss': 0.445}, 13.0s elapsed\n",
      "[INFO] PairedSCGLUETrainer: [Epoch 20] train={'g_nll': 0.437, 'g_kl': 0.027, 'g_elbo': 0.464, 'x_rna_nll': 0.393, 'x_rna_kl': 0.006, 'x_rna_elbo': 0.399, 'x_atac_nll': 0.596, 'x_atac_kl': 0.003, 'x_atac_elbo': 0.599, 'dsc_loss': 0.691, 'vae_loss': 1.065, 'gen_loss': 1.031, 'joint_cross_loss': 0.99, 'real_cross_loss': 0.999, 'cos_loss': 0.447}, val={'g_nll': 0.436, 'g_kl': 0.027, 'g_elbo': 0.463, 'x_rna_nll': 0.392, 'x_rna_kl': 0.006, 'x_rna_elbo': 0.398, 'x_atac_nll': 0.596, 'x_atac_kl': 0.003, 'x_atac_elbo': 0.599, 'dsc_loss': 0.695, 'vae_loss': 1.064, 'gen_loss': 1.029, 'joint_cross_loss': 0.988, 'real_cross_loss': 0.998, 'cos_loss': 0.444}, 29.4s elapsed\n",
      "[INFO] PairedSCGLUETrainer: [Epoch 30] train={'g_nll': 0.437, 'g_kl': 0.026, 'g_elbo': 0.463, 'x_rna_nll': 0.393, 'x_rna_kl': 0.006, 'x_rna_elbo': 0.399, 'x_atac_nll': 0.596, 'x_atac_kl': 0.003, 'x_atac_elbo': 0.599, 'dsc_loss': 0.692, 'vae_loss': 1.065, 'gen_loss': 1.031, 'joint_cross_loss': 0.99, 'real_cross_loss': 1.0, 'cos_loss': 0.447}, val={'g_nll': 0.438, 'g_kl': 0.026, 'g_elbo': 0.464, 'x_rna_nll': 0.392, 'x_rna_kl': 0.006, 'x_rna_elbo': 0.398, 'x_atac_nll': 0.595, 'x_atac_kl': 0.003, 'x_atac_elbo': 0.598, 'dsc_loss': 0.694, 'vae_loss': 1.063, 'gen_loss': 1.029, 'joint_cross_loss': 0.989, 'real_cross_loss': 0.998, 'cos_loss': 0.444}, 10.2s elapsed\n",
      "[INFO] PairedSCGLUETrainer: [Epoch 40] train={'g_nll': 0.436, 'g_kl': 0.026, 'g_elbo': 0.463, 'x_rna_nll': 0.393, 'x_rna_kl': 0.006, 'x_rna_elbo': 0.399, 'x_atac_nll': 0.596, 'x_atac_kl': 0.003, 'x_atac_elbo': 0.599, 'dsc_loss': 0.691, 'vae_loss': 1.065, 'gen_loss': 1.03, 'joint_cross_loss': 0.989, 'real_cross_loss': 0.999, 'cos_loss': 0.446}, val={'g_nll': 0.434, 'g_kl': 0.026, 'g_elbo': 0.46, 'x_rna_nll': 0.392, 'x_rna_kl': 0.006, 'x_rna_elbo': 0.398, 'x_atac_nll': 0.597, 'x_atac_kl': 0.003, 'x_atac_elbo': 0.599, 'dsc_loss': 0.695, 'vae_loss': 1.065, 'gen_loss': 1.03, 'joint_cross_loss': 0.99, 'real_cross_loss': 1.0, 'cos_loss': 0.448}, 12.3s elapsed\n",
      "[INFO] PairedSCGLUETrainer: [Epoch 50] train={'g_nll': 0.437, 'g_kl': 0.026, 'g_elbo': 0.463, 'x_rna_nll': 0.393, 'x_rna_kl': 0.006, 'x_rna_elbo': 0.399, 'x_atac_nll': 0.596, 'x_atac_kl': 0.003, 'x_atac_elbo': 0.599, 'dsc_loss': 0.691, 'vae_loss': 1.065, 'gen_loss': 1.031, 'joint_cross_loss': 0.99, 'real_cross_loss': 1.0, 'cos_loss': 0.447}, val={'g_nll': 0.437, 'g_kl': 0.026, 'g_elbo': 0.463, 'x_rna_nll': 0.393, 'x_rna_kl': 0.006, 'x_rna_elbo': 0.399, 'x_atac_nll': 0.597, 'x_atac_kl': 0.003, 'x_atac_elbo': 0.6, 'dsc_loss': 0.694, 'vae_loss': 1.066, 'gen_loss': 1.031, 'joint_cross_loss': 0.99, 'real_cross_loss': 1.0, 'cos_loss': 0.449}, 8.6s elapsed\n",
      "[INFO] PairedSCGLUETrainer: [Epoch 60] train={'g_nll': 0.436, 'g_kl': 0.026, 'g_elbo': 0.461, 'x_rna_nll': 0.393, 'x_rna_kl': 0.006, 'x_rna_elbo': 0.399, 'x_atac_nll': 0.596, 'x_atac_kl': 0.003, 'x_atac_elbo': 0.599, 'dsc_loss': 0.691, 'vae_loss': 1.065, 'gen_loss': 1.03, 'joint_cross_loss': 0.99, 'real_cross_loss': 1.0, 'cos_loss': 0.445}, val={'g_nll': 0.437, 'g_kl': 0.026, 'g_elbo': 0.463, 'x_rna_nll': 0.391, 'x_rna_kl': 0.006, 'x_rna_elbo': 0.398, 'x_atac_nll': 0.595, 'x_atac_kl': 0.003, 'x_atac_elbo': 0.598, 'dsc_loss': 0.696, 'vae_loss': 1.063, 'gen_loss': 1.028, 'joint_cross_loss': 0.988, 'real_cross_loss': 0.997, 'cos_loss': 0.443}, 7.9s elapsed\n",
      "[INFO] PairedSCGLUETrainer: [Epoch 70] train={'g_nll': 0.435, 'g_kl': 0.026, 'g_elbo': 0.461, 'x_rna_nll': 0.392, 'x_rna_kl': 0.006, 'x_rna_elbo': 0.399, 'x_atac_nll': 0.595, 'x_atac_kl': 0.003, 'x_atac_elbo': 0.598, 'dsc_loss': 0.691, 'vae_loss': 1.064, 'gen_loss': 1.029, 'joint_cross_loss': 0.989, 'real_cross_loss': 0.999, 'cos_loss': 0.444}, val={'g_nll': 0.434, 'g_kl': 0.025, 'g_elbo': 0.459, 'x_rna_nll': 0.391, 'x_rna_kl': 0.006, 'x_rna_elbo': 0.397, 'x_atac_nll': 0.595, 'x_atac_kl': 0.003, 'x_atac_elbo': 0.597, 'dsc_loss': 0.695, 'vae_loss': 1.062, 'gen_loss': 1.027, 'joint_cross_loss': 0.987, 'real_cross_loss': 0.996, 'cos_loss': 0.445}, 20.1s elapsed\n",
      "[INFO] PairedSCGLUETrainer: [Epoch 80] train={'g_nll': 0.435, 'g_kl': 0.025, 'g_elbo': 0.46, 'x_rna_nll': 0.393, 'x_rna_kl': 0.006, 'x_rna_elbo': 0.399, 'x_atac_nll': 0.596, 'x_atac_kl': 0.003, 'x_atac_elbo': 0.599, 'dsc_loss': 0.69, 'vae_loss': 1.065, 'gen_loss': 1.03, 'joint_cross_loss': 0.99, 'real_cross_loss': 1.0, 'cos_loss': 0.446}, val={'g_nll': 0.435, 'g_kl': 0.025, 'g_elbo': 0.46, 'x_rna_nll': 0.392, 'x_rna_kl': 0.006, 'x_rna_elbo': 0.398, 'x_atac_nll': 0.596, 'x_atac_kl': 0.003, 'x_atac_elbo': 0.599, 'dsc_loss': 0.694, 'vae_loss': 1.064, 'gen_loss': 1.03, 'joint_cross_loss': 0.99, 'real_cross_loss': 0.999, 'cos_loss': 0.449}, 15.0s elapsed\n",
      "Epoch 00081: reducing learning rate of group 0 to 2.0000e-04.\n",
      "Epoch 00081: reducing learning rate of group 0 to 2.0000e-04.\n",
      "[INFO] LRScheduler: Learning rate reduction: step 1\n",
      "[INFO] PairedSCGLUETrainer: [Epoch 90] train={'g_nll': 0.434, 'g_kl': 0.025, 'g_elbo': 0.46, 'x_rna_nll': 0.392, 'x_rna_kl': 0.006, 'x_rna_elbo': 0.398, 'x_atac_nll': 0.595, 'x_atac_kl': 0.003, 'x_atac_elbo': 0.598, 'dsc_loss': 0.692, 'vae_loss': 1.064, 'gen_loss': 1.029, 'joint_cross_loss': 0.989, 'real_cross_loss': 0.999, 'cos_loss': 0.444}, val={'g_nll': 0.434, 'g_kl': 0.025, 'g_elbo': 0.459, 'x_rna_nll': 0.391, 'x_rna_kl': 0.006, 'x_rna_elbo': 0.397, 'x_atac_nll': 0.596, 'x_atac_kl': 0.003, 'x_atac_elbo': 0.599, 'dsc_loss': 0.693, 'vae_loss': 1.063, 'gen_loss': 1.028, 'joint_cross_loss': 0.988, 'real_cross_loss': 0.997, 'cos_loss': 0.442}, 17.5s elapsed\n",
      "[INFO] PairedSCGLUETrainer: [Epoch 100] train={'g_nll': 0.434, 'g_kl': 0.025, 'g_elbo': 0.459, 'x_rna_nll': 0.392, 'x_rna_kl': 0.006, 'x_rna_elbo': 0.399, 'x_atac_nll': 0.595, 'x_atac_kl': 0.003, 'x_atac_elbo': 0.598, 'dsc_loss': 0.692, 'vae_loss': 1.064, 'gen_loss': 1.029, 'joint_cross_loss': 0.989, 'real_cross_loss': 0.999, 'cos_loss': 0.444}, val={'g_nll': 0.432, 'g_kl': 0.025, 'g_elbo': 0.457, 'x_rna_nll': 0.392, 'x_rna_kl': 0.006, 'x_rna_elbo': 0.398, 'x_atac_nll': 0.596, 'x_atac_kl': 0.003, 'x_atac_elbo': 0.599, 'dsc_loss': 0.692, 'vae_loss': 1.064, 'gen_loss': 1.029, 'joint_cross_loss': 0.989, 'real_cross_loss': 0.999, 'cos_loss': 0.447}, 12.0s elapsed\n",
      "[INFO] PairedSCGLUETrainer: [Epoch 110] train={'g_nll': 0.434, 'g_kl': 0.025, 'g_elbo': 0.46, 'x_rna_nll': 0.392, 'x_rna_kl': 0.006, 'x_rna_elbo': 0.398, 'x_atac_nll': 0.595, 'x_atac_kl': 0.003, 'x_atac_elbo': 0.598, 'dsc_loss': 0.692, 'vae_loss': 1.064, 'gen_loss': 1.029, 'joint_cross_loss': 0.989, 'real_cross_loss': 0.999, 'cos_loss': 0.445}, val={'g_nll': 0.435, 'g_kl': 0.025, 'g_elbo': 0.46, 'x_rna_nll': 0.391, 'x_rna_kl': 0.006, 'x_rna_elbo': 0.398, 'x_atac_nll': 0.596, 'x_atac_kl': 0.003, 'x_atac_elbo': 0.598, 'dsc_loss': 0.693, 'vae_loss': 1.063, 'gen_loss': 1.028, 'joint_cross_loss': 0.988, 'real_cross_loss': 0.997, 'cos_loss': 0.442}, 10.1s elapsed\n",
      "Epoch 00110: reducing learning rate of group 0 to 2.0000e-05.\n",
      "Epoch 00110: reducing learning rate of group 0 to 2.0000e-05.\n",
      "[INFO] LRScheduler: Learning rate reduction: step 2\n"
     ]
    },
    {
     "name": "stderr",
     "output_type": "stream",
     "text": [
      "2023-05-06 13:25:46,661 ignite.handlers.early_stopping.EarlyStopping INFO: EarlyStopping: Stop training\n"
     ]
    },
    {
     "name": "stdout",
     "output_type": "stream",
     "text": [
      "[INFO] EarlyStopping: Restoring checkpoint \"94\"...\n",
      "[INFO] EarlyStopping: Restoring checkpoint \"94\"...\n"
     ]
    },
    {
     "name": "stderr",
     "output_type": "stream",
     "text": [
      "/dss/dsshome1/01/di93bur/miniconda3/envs/scglue_env_2/lib/python3.9/multiprocessing/popen_fork.py:66: ResourceWarning: unclosed socket <zmq.Socket(zmq.PUSH) at 0x7f3dd8395b20>\n",
      "  self.pid = os.fork()\n",
      "ResourceWarning: Enable tracemalloc to get the object allocation traceback\n",
      "/tmp/ipykernel_413349/2845210802.py:24: DeprecationWarning: Call to deprecated function (or staticmethod) opt_louvain.\n",
      "  scib.cl.opt_louvain(adata,label_key='cell_type',cluster_key='cluster_key',plot=False,inplace=True,force=True,verbose = False)\n",
      " 50%|█████     | 1/2 [1:21:51<1:21:51, 4911.48s/it]"
     ]
    },
    {
     "name": "stdout",
     "output_type": "stream",
     "text": [
      "[INFO] fit_SCGLUE: Pretraining SCGLUE model...\n"
     ]
    },
    {
     "name": "stderr",
     "output_type": "stream",
     "text": [
      "[WARNING] PairedSCGLUEModel: It is recommended that `use_rep` dimensionality be equal or larger than `latent_dim`.\n"
     ]
    },
    {
     "name": "stdout",
     "output_type": "stream",
     "text": [
      "[INFO] check_graph: Checking variable coverage...\n",
      "[INFO] check_graph: Checking edge attributes...\n",
      "[INFO] check_graph: Checking self-loops...\n",
      "[INFO] check_graph: Checking graph symmetry...\n",
      "[INFO] PairedSCGLUEModel: Setting `graph_batch_size` = 4737\n",
      "[INFO] PairedSCGLUEModel: Setting `max_epochs` = 790\n",
      "[INFO] PairedSCGLUEModel: Setting `patience` = 66\n",
      "[INFO] PairedSCGLUEModel: Setting `reduce_lr_patience` = 33\n",
      "[INFO] PairedSCGLUETrainer: Using training directory: \"glue/pretrain\"\n",
      "[INFO] PairedSCGLUETrainer: [Epoch 10] train={'g_nll': 0.624, 'g_kl': 0.024, 'g_elbo': 0.648, 'x_rna_nll': 0.395, 'x_rna_kl': 0.011, 'x_rna_elbo': 0.406, 'x_atac_nll': 0.626, 'x_atac_kl': 0.009, 'x_atac_elbo': 0.635, 'dsc_loss': 0.692, 'vae_loss': 1.113, 'gen_loss': 1.079, 'joint_cross_loss': 1.017, 'real_cross_loss': 1.027, 'cos_loss': 0.304}, val={'g_nll': 0.626, 'g_kl': 0.025, 'g_elbo': 0.651, 'x_rna_nll': 0.397, 'x_rna_kl': 0.01, 'x_rna_elbo': 0.407, 'x_atac_nll': 0.637, 'x_atac_kl': 0.008, 'x_atac_elbo': 0.645, 'dsc_loss': 0.69, 'vae_loss': 1.124, 'gen_loss': 1.09, 'joint_cross_loss': 1.031, 'real_cross_loss': 1.039, 'cos_loss': 0.276}, 3.6s elapsed\n",
      "[INFO] PairedSCGLUETrainer: [Epoch 20] train={'g_nll': 0.618, 'g_kl': 0.032, 'g_elbo': 0.651, 'x_rna_nll': 0.386, 'x_rna_kl': 0.008, 'x_rna_elbo': 0.394, 'x_atac_nll': 0.611, 'x_atac_kl': 0.005, 'x_atac_elbo': 0.616, 'dsc_loss': 0.692, 'vae_loss': 1.084, 'gen_loss': 1.05, 'joint_cross_loss': 0.996, 'real_cross_loss': 1.004, 'cos_loss': 0.374}, val={'g_nll': 0.614, 'g_kl': 0.033, 'g_elbo': 0.647, 'x_rna_nll': 0.395, 'x_rna_kl': 0.008, 'x_rna_elbo': 0.402, 'x_atac_nll': 0.619, 'x_atac_kl': 0.005, 'x_atac_elbo': 0.624, 'dsc_loss': 0.696, 'vae_loss': 1.1, 'gen_loss': 1.065, 'joint_cross_loss': 1.012, 'real_cross_loss': 1.019, 'cos_loss': 0.37}, 3.5s elapsed\n",
      "[INFO] PairedSCGLUETrainer: [Epoch 30] train={'g_nll': 0.561, 'g_kl': 0.036, 'g_elbo': 0.597, 'x_rna_nll': 0.383, 'x_rna_kl': 0.007, 'x_rna_elbo': 0.39, 'x_atac_nll': 0.603, 'x_atac_kl': 0.004, 'x_atac_elbo': 0.606, 'dsc_loss': 0.692, 'vae_loss': 1.069, 'gen_loss': 1.034, 'joint_cross_loss': 0.985, 'real_cross_loss': 0.993, 'cos_loss': 0.444}, val={'g_nll': 0.56, 'g_kl': 0.036, 'g_elbo': 0.596, 'x_rna_nll': 0.389, 'x_rna_kl': 0.007, 'x_rna_elbo': 0.396, 'x_atac_nll': 0.611, 'x_atac_kl': 0.004, 'x_atac_elbo': 0.615, 'dsc_loss': 0.695, 'vae_loss': 1.084, 'gen_loss': 1.049, 'joint_cross_loss': 1.0, 'real_cross_loss': 1.007, 'cos_loss': 0.445}, 5.8s elapsed\n",
      "[INFO] PairedSCGLUETrainer: [Epoch 40] train={'g_nll': 0.527, 'g_kl': 0.036, 'g_elbo': 0.563, 'x_rna_nll': 0.381, 'x_rna_kl': 0.007, 'x_rna_elbo': 0.388, 'x_atac_nll': 0.601, 'x_atac_kl': 0.004, 'x_atac_elbo': 0.605, 'dsc_loss': 0.691, 'vae_loss': 1.064, 'gen_loss': 1.029, 'joint_cross_loss': 0.982, 'real_cross_loss': 0.991, 'cos_loss': 0.462}, val={'g_nll': 0.523, 'g_kl': 0.036, 'g_elbo': 0.559, 'x_rna_nll': 0.388, 'x_rna_kl': 0.007, 'x_rna_elbo': 0.395, 'x_atac_nll': 0.611, 'x_atac_kl': 0.003, 'x_atac_elbo': 0.614, 'dsc_loss': 0.694, 'vae_loss': 1.081, 'gen_loss': 1.046, 'joint_cross_loss': 0.999, 'real_cross_loss': 1.006, 'cos_loss': 0.464}, 13.2s elapsed\n",
      "[INFO] PairedSCGLUETrainer: [Epoch 50] train={'g_nll': 0.507, 'g_kl': 0.035, 'g_elbo': 0.542, 'x_rna_nll': 0.38, 'x_rna_kl': 0.007, 'x_rna_elbo': 0.387, 'x_atac_nll': 0.601, 'x_atac_kl': 0.004, 'x_atac_elbo': 0.605, 'dsc_loss': 0.691, 'vae_loss': 1.062, 'gen_loss': 1.027, 'joint_cross_loss': 0.981, 'real_cross_loss': 0.99, 'cos_loss': 0.463}, val={'g_nll': 0.51, 'g_kl': 0.035, 'g_elbo': 0.545, 'x_rna_nll': 0.389, 'x_rna_kl': 0.007, 'x_rna_elbo': 0.396, 'x_atac_nll': 0.608, 'x_atac_kl': 0.004, 'x_atac_elbo': 0.611, 'dsc_loss': 0.693, 'vae_loss': 1.079, 'gen_loss': 1.044, 'joint_cross_loss': 0.997, 'real_cross_loss': 1.005, 'cos_loss': 0.47}, 11.4s elapsed\n",
      "[INFO] PairedSCGLUETrainer: [Epoch 60] train={'g_nll': 0.489, 'g_kl': 0.034, 'g_elbo': 0.523, 'x_rna_nll': 0.379, 'x_rna_kl': 0.007, 'x_rna_elbo': 0.386, 'x_atac_nll': 0.601, 'x_atac_kl': 0.004, 'x_atac_elbo': 0.604, 'dsc_loss': 0.692, 'vae_loss': 1.06, 'gen_loss': 1.026, 'joint_cross_loss': 0.98, 'real_cross_loss': 0.989, 'cos_loss': 0.46}, val={'g_nll': 0.492, 'g_kl': 0.034, 'g_elbo': 0.526, 'x_rna_nll': 0.384, 'x_rna_kl': 0.007, 'x_rna_elbo': 0.391, 'x_atac_nll': 0.606, 'x_atac_kl': 0.004, 'x_atac_elbo': 0.61, 'dsc_loss': 0.693, 'vae_loss': 1.071, 'gen_loss': 1.036, 'joint_cross_loss': 0.991, 'real_cross_loss': 0.999, 'cos_loss': 0.464}, 3.6s elapsed\n",
      "[INFO] PairedSCGLUETrainer: [Epoch 70] train={'g_nll': 0.48, 'g_kl': 0.034, 'g_elbo': 0.513, 'x_rna_nll': 0.378, 'x_rna_kl': 0.008, 'x_rna_elbo': 0.385, 'x_atac_nll': 0.6, 'x_atac_kl': 0.004, 'x_atac_elbo': 0.604, 'dsc_loss': 0.692, 'vae_loss': 1.059, 'gen_loss': 1.024, 'joint_cross_loss': 0.979, 'real_cross_loss': 0.988, 'cos_loss': 0.459}, val={'g_nll': 0.478, 'g_kl': 0.034, 'g_elbo': 0.512, 'x_rna_nll': 0.388, 'x_rna_kl': 0.007, 'x_rna_elbo': 0.396, 'x_atac_nll': 0.611, 'x_atac_kl': 0.004, 'x_atac_elbo': 0.615, 'dsc_loss': 0.696, 'vae_loss': 1.08, 'gen_loss': 1.045, 'joint_cross_loss': 1.0, 'real_cross_loss': 1.008, 'cos_loss': 0.453}, 9.0s elapsed\n",
      "[INFO] PairedSCGLUETrainer: [Epoch 80] train={'g_nll': 0.472, 'g_kl': 0.033, 'g_elbo': 0.506, 'x_rna_nll': 0.379, 'x_rna_kl': 0.007, 'x_rna_elbo': 0.386, 'x_atac_nll': 0.6, 'x_atac_kl': 0.004, 'x_atac_elbo': 0.604, 'dsc_loss': 0.692, 'vae_loss': 1.058, 'gen_loss': 1.024, 'joint_cross_loss': 0.979, 'real_cross_loss': 0.988, 'cos_loss': 0.452}, val={'g_nll': 0.471, 'g_kl': 0.033, 'g_elbo': 0.504, 'x_rna_nll': 0.388, 'x_rna_kl': 0.007, 'x_rna_elbo': 0.395, 'x_atac_nll': 0.609, 'x_atac_kl': 0.004, 'x_atac_elbo': 0.613, 'dsc_loss': 0.694, 'vae_loss': 1.077, 'gen_loss': 1.043, 'joint_cross_loss': 0.998, 'real_cross_loss': 1.006, 'cos_loss': 0.448}, 9.8s elapsed\n",
      "[INFO] PairedSCGLUETrainer: [Epoch 90] train={'g_nll': 0.468, 'g_kl': 0.033, 'g_elbo': 0.501, 'x_rna_nll': 0.378, 'x_rna_kl': 0.008, 'x_rna_elbo': 0.386, 'x_atac_nll': 0.6, 'x_atac_kl': 0.004, 'x_atac_elbo': 0.604, 'dsc_loss': 0.691, 'vae_loss': 1.057, 'gen_loss': 1.023, 'joint_cross_loss': 0.978, 'real_cross_loss': 0.988, 'cos_loss': 0.45}, val={'g_nll': 0.466, 'g_kl': 0.033, 'g_elbo': 0.499, 'x_rna_nll': 0.388, 'x_rna_kl': 0.007, 'x_rna_elbo': 0.395, 'x_atac_nll': 0.611, 'x_atac_kl': 0.004, 'x_atac_elbo': 0.615, 'dsc_loss': 0.691, 'vae_loss': 1.079, 'gen_loss': 1.045, 'joint_cross_loss': 0.999, 'real_cross_loss': 1.008, 'cos_loss': 0.449}, 3.6s elapsed\n",
      "Epoch 00093: reducing learning rate of group 0 to 2.0000e-04.\n",
      "Epoch 00093: reducing learning rate of group 0 to 2.0000e-04.\n",
      "[INFO] LRScheduler: Learning rate reduction: step 1\n",
      "[INFO] PairedSCGLUETrainer: [Epoch 100] train={'g_nll': 0.465, 'g_kl': 0.033, 'g_elbo': 0.498, 'x_rna_nll': 0.377, 'x_rna_kl': 0.008, 'x_rna_elbo': 0.384, 'x_atac_nll': 0.599, 'x_atac_kl': 0.004, 'x_atac_elbo': 0.603, 'dsc_loss': 0.692, 'vae_loss': 1.055, 'gen_loss': 1.021, 'joint_cross_loss': 0.977, 'real_cross_loss': 0.986, 'cos_loss': 0.445}, val={'g_nll': 0.469, 'g_kl': 0.033, 'g_elbo': 0.501, 'x_rna_nll': 0.383, 'x_rna_kl': 0.007, 'x_rna_elbo': 0.391, 'x_atac_nll': 0.613, 'x_atac_kl': 0.004, 'x_atac_elbo': 0.617, 'dsc_loss': 0.691, 'vae_loss': 1.077, 'gen_loss': 1.042, 'joint_cross_loss': 0.997, 'real_cross_loss': 1.006, 'cos_loss': 0.452}, 3.6s elapsed\n",
      "[INFO] PairedSCGLUETrainer: [Epoch 110] train={'g_nll': 0.465, 'g_kl': 0.033, 'g_elbo': 0.497, 'x_rna_nll': 0.377, 'x_rna_kl': 0.008, 'x_rna_elbo': 0.384, 'x_atac_nll': 0.6, 'x_atac_kl': 0.004, 'x_atac_elbo': 0.603, 'dsc_loss': 0.691, 'vae_loss': 1.056, 'gen_loss': 1.021, 'joint_cross_loss': 0.977, 'real_cross_loss': 0.986, 'cos_loss': 0.445}, val={'g_nll': 0.465, 'g_kl': 0.033, 'g_elbo': 0.498, 'x_rna_nll': 0.389, 'x_rna_kl': 0.007, 'x_rna_elbo': 0.397, 'x_atac_nll': 0.614, 'x_atac_kl': 0.004, 'x_atac_elbo': 0.618, 'dsc_loss': 0.691, 'vae_loss': 1.084, 'gen_loss': 1.049, 'joint_cross_loss': 1.004, 'real_cross_loss': 1.013, 'cos_loss': 0.453}, 5.3s elapsed\n",
      "[INFO] PairedSCGLUETrainer: [Epoch 120] train={'g_nll': 0.465, 'g_kl': 0.033, 'g_elbo': 0.498, 'x_rna_nll': 0.377, 'x_rna_kl': 0.008, 'x_rna_elbo': 0.384, 'x_atac_nll': 0.599, 'x_atac_kl': 0.004, 'x_atac_elbo': 0.603, 'dsc_loss': 0.691, 'vae_loss': 1.055, 'gen_loss': 1.021, 'joint_cross_loss': 0.976, 'real_cross_loss': 0.986, 'cos_loss': 0.445}, val={'g_nll': 0.463, 'g_kl': 0.033, 'g_elbo': 0.495, 'x_rna_nll': 0.386, 'x_rna_kl': 0.007, 'x_rna_elbo': 0.394, 'x_atac_nll': 0.612, 'x_atac_kl': 0.004, 'x_atac_elbo': 0.616, 'dsc_loss': 0.685, 'vae_loss': 1.079, 'gen_loss': 1.044, 'joint_cross_loss': 0.999, 'real_cross_loss': 1.007, 'cos_loss': 0.451}, 3.7s elapsed\n",
      "[INFO] PairedSCGLUETrainer: [Epoch 130] train={'g_nll': 0.464, 'g_kl': 0.033, 'g_elbo': 0.497, 'x_rna_nll': 0.376, 'x_rna_kl': 0.008, 'x_rna_elbo': 0.384, 'x_atac_nll': 0.599, 'x_atac_kl': 0.004, 'x_atac_elbo': 0.603, 'dsc_loss': 0.69, 'vae_loss': 1.055, 'gen_loss': 1.02, 'joint_cross_loss': 0.976, 'real_cross_loss': 0.985, 'cos_loss': 0.444}, val={'g_nll': 0.466, 'g_kl': 0.033, 'g_elbo': 0.499, 'x_rna_nll': 0.387, 'x_rna_kl': 0.007, 'x_rna_elbo': 0.395, 'x_atac_nll': 0.602, 'x_atac_kl': 0.004, 'x_atac_elbo': 0.606, 'dsc_loss': 0.694, 'vae_loss': 1.069, 'gen_loss': 1.035, 'joint_cross_loss': 0.99, 'real_cross_loss': 0.998, 'cos_loss': 0.449}, 15.0s elapsed\n",
      "[INFO] PairedSCGLUETrainer: [Epoch 140] train={'g_nll': 0.465, 'g_kl': 0.033, 'g_elbo': 0.498, 'x_rna_nll': 0.376, 'x_rna_kl': 0.008, 'x_rna_elbo': 0.384, 'x_atac_nll': 0.6, 'x_atac_kl': 0.004, 'x_atac_elbo': 0.603, 'dsc_loss': 0.691, 'vae_loss': 1.055, 'gen_loss': 1.021, 'joint_cross_loss': 0.977, 'real_cross_loss': 0.986, 'cos_loss': 0.443}, val={'g_nll': 0.463, 'g_kl': 0.033, 'g_elbo': 0.496, 'x_rna_nll': 0.385, 'x_rna_kl': 0.007, 'x_rna_elbo': 0.393, 'x_atac_nll': 0.608, 'x_atac_kl': 0.004, 'x_atac_elbo': 0.611, 'dsc_loss': 0.69, 'vae_loss': 1.073, 'gen_loss': 1.038, 'joint_cross_loss': 0.994, 'real_cross_loss': 1.002, 'cos_loss': 0.449}, 14.9s elapsed\n",
      "[INFO] PairedSCGLUETrainer: [Epoch 150] train={'g_nll': 0.463, 'g_kl': 0.032, 'g_elbo': 0.495, 'x_rna_nll': 0.376, 'x_rna_kl': 0.008, 'x_rna_elbo': 0.384, 'x_atac_nll': 0.599, 'x_atac_kl': 0.004, 'x_atac_elbo': 0.603, 'dsc_loss': 0.69, 'vae_loss': 1.054, 'gen_loss': 1.02, 'joint_cross_loss': 0.976, 'real_cross_loss': 0.985, 'cos_loss': 0.443}, val={'g_nll': 0.464, 'g_kl': 0.032, 'g_elbo': 0.497, 'x_rna_nll': 0.383, 'x_rna_kl': 0.007, 'x_rna_elbo': 0.391, 'x_atac_nll': 0.607, 'x_atac_kl': 0.004, 'x_atac_elbo': 0.611, 'dsc_loss': 0.694, 'vae_loss': 1.07, 'gen_loss': 1.036, 'joint_cross_loss': 0.991, 'real_cross_loss': 0.999, 'cos_loss': 0.446}, 3.7s elapsed\n",
      "Epoch 00153: reducing learning rate of group 0 to 2.0000e-05.\n",
      "Epoch 00153: reducing learning rate of group 0 to 2.0000e-05.\n",
      "[INFO] LRScheduler: Learning rate reduction: step 2\n"
     ]
    }
   ],
   "source": [
    "for i in tqdm(['s4d8', 's4d9']):\n",
    "    atac = sc.read('data/'+i+'/atac-glue.h5ad')\n",
    "    rna = sc.read('data/'+i+'/rna-glue.h5ad')\n",
    "    guidance = nx.read_graphml('data/'+i+'/guidance.graphml.gz')\n",
    "    \n",
    "    scglue.models.configure_dataset(rna, \"NB\", use_highly_variable=True,use_layer=\"counts\", use_rep=\"X_pca\",use_obs_names=True)\n",
    "    scglue.models.configure_dataset(atac, \"NB\", use_highly_variable=True,use_layer=\"counts\", use_rep=\"X_lsi_red\",use_obs_names=True)\n",
    "    guidance_hvf = guidance.subgraph(chain(rna.var.query(\"highly_variable\").index,atac.var.query(\"highly_variable\").index)).copy()\n",
    "    \n",
    "    glue = scglue.models.fit_SCGLUE({\"rna\": rna, \"atac\": atac}, guidance_hvf,model=scglue.models.PairedSCGLUEModel,fit_kws={\"directory\": \"glue\"})\n",
    "    \n",
    "    rna.obsm[\"X_glue\"] = glue.encode_data(\"rna\", rna)\n",
    "    atac.obsm[\"X_glue\"] = glue.encode_data(\"atac\", atac)\n",
    "    adata = sc.concat([rna, atac], join = 'outer', label='batch', index_unique = '-', keys=[\"RNA\", \"ATAC\"])\n",
    "    \n",
    "    # Evaluation metrics\n",
    "    f = fcts.foscttm(rna.obsm[\"X_glue\"], atac.obsm[\"X_glue\"])\n",
    "    lta = fcts.transfer_accuracy(rna.obsm[\"X_glue\"], atac.obsm[\"X_glue\"], rna.obs['cell_type'], atac.obs['cell_type'])\n",
    "    alg_score = fcts.alignment_score(rna.obsm[\"X_glue\"], atac.obsm[\"X_glue\"])\n",
    "    rmse = fcts.calculate_rmse(rna.obsm[\"X_glue\"], atac.obsm[\"X_glue\"])\n",
    "\n",
    "    # Bio-conservation metrics\n",
    "    sc.pp.neighbors(adata, use_rep='X_glue')\n",
    "    scib.cl.opt_louvain(adata,label_key='cell_type',cluster_key='cluster_key',plot=False,inplace=True,force=True,verbose = False)\n",
    "    nmi = scib.me.nmi(adata, cluster_key='cluster_key', label_key='cell_type')\n",
    "    asw_label = scib.me.silhouette(adata, label_key='cell_type', embed='X_glue')\n",
    "    ari = scib.me.ari(adata, cluster_key='cluster_key', label_key='cell_type')\n",
    "\n",
    "    # Batch correction metrics\n",
    "    asw_batch = scib.me.silhouette_batch(adata,batch_key='batch',label_key='cell_type',embed='X_glue',verbose=False)\n",
    "    graph_connectivity = scib.me.graph_connectivity(adata, label_key='cell_type')\n",
    "    \n",
    "    results.append([i, f, lta, alg_score, rmse, nmi, asw_label, ari, asw_batch, graph_connectivity])\n",
    "    df_results = pd.DataFrame(\n",
    "        results,\n",
    "        columns = [\"donor\", \"foscttm\", \"label_transfer_accuracy\", \"alignment_score\", \"rmse\", \"nmi\", \"asw_label\", \"ari\", \"asw_batch\", \"graph_connectivity\"]\n",
    "    )\n",
    "    df_results.to_csv('output/scglue_2.csv', index = False)"
   ]
  },
  {
   "cell_type": "code",
   "execution_count": null,
   "id": "33a4925a",
   "metadata": {},
   "outputs": [],
   "source": [
    "df_results = pd.DataFrame(\n",
    "    results,\n",
    "    columns = [\"donor\", \"foscttm\", \"label_transfer_accuracy\", \"alignment_score\", \"rmse\", \"nmi\", \"asw_label\", \"ari\", \"asw_batch\", \"graph_connectivity\"]\n",
    ")\n",
    "df_results.to_csv('output/scglue_2.csv', index = False)"
   ]
  },
  {
   "cell_type": "code",
   "execution_count": 37,
   "id": "973265da",
   "metadata": {},
   "outputs": [
    {
     "data": {
      "text/html": [
       "<div>\n",
       "<style scoped>\n",
       "    .dataframe tbody tr th:only-of-type {\n",
       "        vertical-align: middle;\n",
       "    }\n",
       "\n",
       "    .dataframe tbody tr th {\n",
       "        vertical-align: top;\n",
       "    }\n",
       "\n",
       "    .dataframe thead th {\n",
       "        text-align: right;\n",
       "    }\n",
       "</style>\n",
       "<table border=\"1\" class=\"dataframe\">\n",
       "  <thead>\n",
       "    <tr style=\"text-align: right;\">\n",
       "      <th></th>\n",
       "      <th>donor</th>\n",
       "      <th>foscttm</th>\n",
       "      <th>label_transfer_accuracy</th>\n",
       "      <th>alignment_score</th>\n",
       "      <th>rmse</th>\n",
       "      <th>nmi</th>\n",
       "      <th>asw_label</th>\n",
       "      <th>ari</th>\n",
       "      <th>asw_batch</th>\n",
       "      <th>graph_connectivity</th>\n",
       "    </tr>\n",
       "  </thead>\n",
       "  <tbody>\n",
       "    <tr>\n",
       "      <th>0</th>\n",
       "      <td>s1d2</td>\n",
       "      <td>0.0422</td>\n",
       "      <td>0.842285</td>\n",
       "      <td>0.956476</td>\n",
       "      <td>0.169282</td>\n",
       "      <td>0.700974</td>\n",
       "      <td>0.585814</td>\n",
       "      <td>0.648648</td>\n",
       "      <td>0.910727</td>\n",
       "      <td>0.951778</td>\n",
       "    </tr>\n",
       "    <tr>\n",
       "      <th>1</th>\n",
       "      <td>s1d3</td>\n",
       "      <td>0.0326</td>\n",
       "      <td>0.843421</td>\n",
       "      <td>0.968863</td>\n",
       "      <td>0.149477</td>\n",
       "      <td>0.718436</td>\n",
       "      <td>0.570090</td>\n",
       "      <td>0.513514</td>\n",
       "      <td>0.937366</td>\n",
       "      <td>0.972907</td>\n",
       "    </tr>\n",
       "    <tr>\n",
       "      <th>2</th>\n",
       "      <td>s2d1</td>\n",
       "      <td>0.0815</td>\n",
       "      <td>0.860190</td>\n",
       "      <td>0.900669</td>\n",
       "      <td>0.168181</td>\n",
       "      <td>0.724143</td>\n",
       "      <td>0.582817</td>\n",
       "      <td>0.735471</td>\n",
       "      <td>0.888634</td>\n",
       "      <td>0.905477</td>\n",
       "    </tr>\n",
       "    <tr>\n",
       "      <th>3</th>\n",
       "      <td>s2d4</td>\n",
       "      <td>0.0582</td>\n",
       "      <td>0.872689</td>\n",
       "      <td>0.931155</td>\n",
       "      <td>0.125049</td>\n",
       "      <td>0.751659</td>\n",
       "      <td>0.614832</td>\n",
       "      <td>0.707645</td>\n",
       "      <td>0.900886</td>\n",
       "      <td>0.927510</td>\n",
       "    </tr>\n",
       "    <tr>\n",
       "      <th>4</th>\n",
       "      <td>s2d5</td>\n",
       "      <td>0.1006</td>\n",
       "      <td>0.902758</td>\n",
       "      <td>0.874909</td>\n",
       "      <td>0.138881</td>\n",
       "      <td>0.773474</td>\n",
       "      <td>0.620914</td>\n",
       "      <td>0.814020</td>\n",
       "      <td>0.868497</td>\n",
       "      <td>0.923431</td>\n",
       "    </tr>\n",
       "    <tr>\n",
       "      <th>5</th>\n",
       "      <td>s3d10</td>\n",
       "      <td>0.0426</td>\n",
       "      <td>0.869046</td>\n",
       "      <td>0.931326</td>\n",
       "      <td>0.134223</td>\n",
       "      <td>0.795790</td>\n",
       "      <td>0.625322</td>\n",
       "      <td>0.720174</td>\n",
       "      <td>0.935331</td>\n",
       "      <td>0.967390</td>\n",
       "    </tr>\n",
       "    <tr>\n",
       "      <th>6</th>\n",
       "      <td>s3d3</td>\n",
       "      <td>0.0356</td>\n",
       "      <td>0.851561</td>\n",
       "      <td>0.971671</td>\n",
       "      <td>0.172021</td>\n",
       "      <td>0.779735</td>\n",
       "      <td>0.590462</td>\n",
       "      <td>0.642080</td>\n",
       "      <td>0.958223</td>\n",
       "      <td>0.972580</td>\n",
       "    </tr>\n",
       "    <tr>\n",
       "      <th>7</th>\n",
       "      <td>s3d6</td>\n",
       "      <td>0.0859</td>\n",
       "      <td>0.814175</td>\n",
       "      <td>0.970419</td>\n",
       "      <td>0.260126</td>\n",
       "      <td>0.640087</td>\n",
       "      <td>0.538489</td>\n",
       "      <td>0.572510</td>\n",
       "      <td>0.920650</td>\n",
       "      <td>0.944417</td>\n",
       "    </tr>\n",
       "    <tr>\n",
       "      <th>8</th>\n",
       "      <td>s4d8</td>\n",
       "      <td>0.0535</td>\n",
       "      <td>0.878595</td>\n",
       "      <td>0.944370</td>\n",
       "      <td>0.130804</td>\n",
       "      <td>0.717416</td>\n",
       "      <td>0.588160</td>\n",
       "      <td>0.572616</td>\n",
       "      <td>0.932714</td>\n",
       "      <td>0.982795</td>\n",
       "    </tr>\n",
       "    <tr>\n",
       "      <th>9</th>\n",
       "      <td>s4d9</td>\n",
       "      <td>0.0424</td>\n",
       "      <td>0.825896</td>\n",
       "      <td>0.963974</td>\n",
       "      <td>0.141999</td>\n",
       "      <td>0.765939</td>\n",
       "      <td>0.585352</td>\n",
       "      <td>0.707864</td>\n",
       "      <td>0.942531</td>\n",
       "      <td>0.964065</td>\n",
       "    </tr>\n",
       "  </tbody>\n",
       "</table>\n",
       "</div>"
      ],
      "text/plain": [
       "   donor  foscttm  label_transfer_accuracy  alignment_score      rmse   \n",
       "0   s1d2   0.0422                 0.842285         0.956476  0.169282  \\\n",
       "1   s1d3   0.0326                 0.843421         0.968863  0.149477   \n",
       "2   s2d1   0.0815                 0.860190         0.900669  0.168181   \n",
       "3   s2d4   0.0582                 0.872689         0.931155  0.125049   \n",
       "4   s2d5   0.1006                 0.902758         0.874909  0.138881   \n",
       "5  s3d10   0.0426                 0.869046         0.931326  0.134223   \n",
       "6   s3d3   0.0356                 0.851561         0.971671  0.172021   \n",
       "7   s3d6   0.0859                 0.814175         0.970419  0.260126   \n",
       "8   s4d8   0.0535                 0.878595         0.944370  0.130804   \n",
       "9   s4d9   0.0424                 0.825896         0.963974  0.141999   \n",
       "\n",
       "        nmi  asw_label       ari  asw_batch  graph_connectivity  \n",
       "0  0.700974   0.585814  0.648648   0.910727            0.951778  \n",
       "1  0.718436   0.570090  0.513514   0.937366            0.972907  \n",
       "2  0.724143   0.582817  0.735471   0.888634            0.905477  \n",
       "3  0.751659   0.614832  0.707645   0.900886            0.927510  \n",
       "4  0.773474   0.620914  0.814020   0.868497            0.923431  \n",
       "5  0.795790   0.625322  0.720174   0.935331            0.967390  \n",
       "6  0.779735   0.590462  0.642080   0.958223            0.972580  \n",
       "7  0.640087   0.538489  0.572510   0.920650            0.944417  \n",
       "8  0.717416   0.588160  0.572616   0.932714            0.982795  \n",
       "9  0.765939   0.585352  0.707864   0.942531            0.964065  "
      ]
     },
     "execution_count": 37,
     "metadata": {},
     "output_type": "execute_result"
    }
   ],
   "source": [
    "df_results"
   ]
  },
  {
   "cell_type": "code",
   "execution_count": null,
   "id": "5dd001bf",
   "metadata": {},
   "outputs": [],
   "source": []
  },
  {
   "cell_type": "code",
   "execution_count": null,
   "id": "687e3470",
   "metadata": {},
   "outputs": [],
   "source": []
  }
 ],
 "metadata": {
  "kernelspec": {
   "display_name": "scglue_env_2",
   "language": "python",
   "name": "scglue_env_2"
  },
  "language_info": {
   "codemirror_mode": {
    "name": "ipython",
    "version": 3
   },
   "file_extension": ".py",
   "mimetype": "text/x-python",
   "name": "python",
   "nbconvert_exporter": "python",
   "pygments_lexer": "ipython3",
   "version": "3.9.16"
  }
 },
 "nbformat": 4,
 "nbformat_minor": 5
}
