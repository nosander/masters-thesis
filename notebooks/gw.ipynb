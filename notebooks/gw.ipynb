{
 "cells": [
  {
   "cell_type": "code",
   "execution_count": 1,
   "id": "96fbaba8",
   "metadata": {},
   "outputs": [],
   "source": [
    "%load_ext autoreload\n",
    "%autoreload 2"
   ]
  },
  {
   "cell_type": "code",
   "execution_count": 2,
   "id": "a6221e5a",
   "metadata": {},
   "outputs": [],
   "source": [
    "import warnings\n",
    "\n",
    "import moscot.plotting as mpl\n",
    "from moscot.problems.cross_modality import TranslationProblem\n",
    "from moscot.problems.generic import GWProblem\n",
    "\n",
    "import scanpy as sc\n",
    "import anndata as ad\n",
    "import numpy as np\n",
    "import scipy\n",
    "import matplotlib.pyplot as plt\n",
    "import pandas as pd\n",
    "from sklearn import preprocessing as pp\n",
    "\n",
    "import time\n",
    "from tqdm import tqdm\n",
    "import seaborn as sns\n",
    "import scib_metrics\n",
    "import scib\n",
    "import helper_functions as fcts\n",
    "\n",
    "warnings.simplefilter(\"ignore\", UserWarning)\n",
    "warnings.simplefilter(\"ignore\", DeprecationWarning)"
   ]
  },
  {
   "cell_type": "code",
   "execution_count": 19,
   "id": "662b0f1c",
   "metadata": {},
   "outputs": [
    {
     "name": "stderr",
     "output_type": "stream",
     "text": [
      "  0%|          | 0/13 [00:00<?, ?it/s]\n",
      "  0%|          | 0/6 [00:00<?, ?it/s]\u001b[A"
     ]
    },
    {
     "name": "stdout",
     "output_type": "stream",
     "text": [
      "\u001b[34mINFO    \u001b[0m Solving `\u001b[1;36m1\u001b[0m` problems                                                                                      \n",
      "\u001b[34mINFO    \u001b[0m Solving problem OTProblem\u001b[1m[\u001b[0m\u001b[33mstage\u001b[0m=\u001b[32m'prepared'\u001b[0m, \u001b[33mshape\u001b[0m=\u001b[1m(\u001b[0m\u001b[1;36m6224\u001b[0m, \u001b[1;36m6224\u001b[0m\u001b[1m)\u001b[0m\u001b[1m]\u001b[0m.                                          \n"
     ]
    },
    {
     "name": "stderr",
     "output_type": "stream",
     "text": [
      "/dss/dsshome1/01/di93bur/miniconda3/envs/moscot_env_2/lib/python3.9/site-packages/jax/_src/deprecations.py:51: DeprecationWarning: jax.numpy.DeviceArray is deprecated. Use jax.Array.\n",
      "  warnings.warn(message, DeprecationWarning)\n",
      "/tmp/ipykernel_2231583/654217373.py:28: DeprecationWarning: Call to deprecated function (or staticmethod) opt_louvain.\n",
      "  scib.cl.opt_louvain(adata,label_key='cell_type',cluster_key='cluster_key',plot=False,inplace=True,force=True,verbose = False)\n",
      "\n",
      " 17%|█▋        | 1/6 [01:20<06:44, 80.96s/it]\u001b[A"
     ]
    },
    {
     "name": "stdout",
     "output_type": "stream",
     "text": [
      "\u001b[34mINFO    \u001b[0m Solving `\u001b[1;36m1\u001b[0m` problems                                                                                      \n",
      "\u001b[34mINFO    \u001b[0m Solving problem OTProblem\u001b[1m[\u001b[0m\u001b[33mstage\u001b[0m=\u001b[32m'prepared'\u001b[0m, \u001b[33mshape\u001b[0m=\u001b[1m(\u001b[0m\u001b[1;36m6224\u001b[0m, \u001b[1;36m6224\u001b[0m\u001b[1m)\u001b[0m\u001b[1m]\u001b[0m.                                          \n"
     ]
    },
    {
     "name": "stderr",
     "output_type": "stream",
     "text": [
      "/dss/dsshome1/01/di93bur/miniconda3/envs/moscot_env_2/lib/python3.9/site-packages/jax/_src/deprecations.py:51: DeprecationWarning: jax.numpy.DeviceArray is deprecated. Use jax.Array.\n",
      "  warnings.warn(message, DeprecationWarning)\n",
      "/tmp/ipykernel_2231583/654217373.py:28: DeprecationWarning: Call to deprecated function (or staticmethod) opt_louvain.\n",
      "  scib.cl.opt_louvain(adata,label_key='cell_type',cluster_key='cluster_key',plot=False,inplace=True,force=True,verbose = False)\n",
      "\n",
      " 33%|███▎      | 2/6 [02:23<04:41, 70.28s/it]\u001b[A"
     ]
    },
    {
     "name": "stdout",
     "output_type": "stream",
     "text": [
      "\u001b[34mINFO    \u001b[0m Solving `\u001b[1;36m1\u001b[0m` problems                                                                                      \n",
      "\u001b[34mINFO    \u001b[0m Solving problem OTProblem\u001b[1m[\u001b[0m\u001b[33mstage\u001b[0m=\u001b[32m'prepared'\u001b[0m, \u001b[33mshape\u001b[0m=\u001b[1m(\u001b[0m\u001b[1;36m6224\u001b[0m, \u001b[1;36m6224\u001b[0m\u001b[1m)\u001b[0m\u001b[1m]\u001b[0m.                                          \n"
     ]
    },
    {
     "name": "stderr",
     "output_type": "stream",
     "text": [
      "/dss/dsshome1/01/di93bur/miniconda3/envs/moscot_env_2/lib/python3.9/site-packages/jax/_src/deprecations.py:51: DeprecationWarning: jax.numpy.DeviceArray is deprecated. Use jax.Array.\n",
      "  warnings.warn(message, DeprecationWarning)\n",
      "/tmp/ipykernel_2231583/654217373.py:28: DeprecationWarning: Call to deprecated function (or staticmethod) opt_louvain.\n",
      "  scib.cl.opt_louvain(adata,label_key='cell_type',cluster_key='cluster_key',plot=False,inplace=True,force=True,verbose = False)\n",
      "\n",
      " 50%|█████     | 3/6 [03:19<03:10, 63.54s/it]\u001b[A"
     ]
    },
    {
     "name": "stdout",
     "output_type": "stream",
     "text": [
      "\u001b[34mINFO    \u001b[0m Solving `\u001b[1;36m1\u001b[0m` problems                                                                                      \n",
      "\u001b[34mINFO    \u001b[0m Solving problem OTProblem\u001b[1m[\u001b[0m\u001b[33mstage\u001b[0m=\u001b[32m'prepared'\u001b[0m, \u001b[33mshape\u001b[0m=\u001b[1m(\u001b[0m\u001b[1;36m6224\u001b[0m, \u001b[1;36m6224\u001b[0m\u001b[1m)\u001b[0m\u001b[1m]\u001b[0m.                                          \n"
     ]
    },
    {
     "name": "stderr",
     "output_type": "stream",
     "text": [
      "/dss/dsshome1/01/di93bur/miniconda3/envs/moscot_env_2/lib/python3.9/site-packages/jax/_src/deprecations.py:51: DeprecationWarning: jax.numpy.DeviceArray is deprecated. Use jax.Array.\n",
      "  warnings.warn(message, DeprecationWarning)\n",
      "/tmp/ipykernel_2231583/654217373.py:28: DeprecationWarning: Call to deprecated function (or staticmethod) opt_louvain.\n",
      "  scib.cl.opt_louvain(adata,label_key='cell_type',cluster_key='cluster_key',plot=False,inplace=True,force=True,verbose = False)\n",
      "\n",
      " 67%|██████▋   | 4/6 [04:08<01:55, 57.84s/it]\u001b[A"
     ]
    },
    {
     "name": "stdout",
     "output_type": "stream",
     "text": [
      "\u001b[34mINFO    \u001b[0m Solving `\u001b[1;36m1\u001b[0m` problems                                                                                      \n",
      "\u001b[34mINFO    \u001b[0m Solving problem OTProblem\u001b[1m[\u001b[0m\u001b[33mstage\u001b[0m=\u001b[32m'prepared'\u001b[0m, \u001b[33mshape\u001b[0m=\u001b[1m(\u001b[0m\u001b[1;36m6224\u001b[0m, \u001b[1;36m6224\u001b[0m\u001b[1m)\u001b[0m\u001b[1m]\u001b[0m.                                          \n"
     ]
    },
    {
     "name": "stderr",
     "output_type": "stream",
     "text": [
      "/dss/dsshome1/01/di93bur/miniconda3/envs/moscot_env_2/lib/python3.9/site-packages/jax/_src/deprecations.py:51: DeprecationWarning: jax.numpy.DeviceArray is deprecated. Use jax.Array.\n",
      "  warnings.warn(message, DeprecationWarning)\n",
      "/tmp/ipykernel_2231583/654217373.py:28: DeprecationWarning: Call to deprecated function (or staticmethod) opt_louvain.\n",
      "  scib.cl.opt_louvain(adata,label_key='cell_type',cluster_key='cluster_key',plot=False,inplace=True,force=True,verbose = False)\n",
      "\n",
      " 83%|████████▎ | 5/6 [04:58<00:55, 55.02s/it]\u001b[A"
     ]
    },
    {
     "name": "stdout",
     "output_type": "stream",
     "text": [
      "\u001b[34mINFO    \u001b[0m Solving `\u001b[1;36m1\u001b[0m` problems                                                                                      \n",
      "\u001b[34mINFO    \u001b[0m Solving problem OTProblem\u001b[1m[\u001b[0m\u001b[33mstage\u001b[0m=\u001b[32m'prepared'\u001b[0m, \u001b[33mshape\u001b[0m=\u001b[1m(\u001b[0m\u001b[1;36m6224\u001b[0m, \u001b[1;36m6224\u001b[0m\u001b[1m)\u001b[0m\u001b[1m]\u001b[0m.                                          \n"
     ]
    },
    {
     "name": "stderr",
     "output_type": "stream",
     "text": [
      "/dss/dsshome1/01/di93bur/miniconda3/envs/moscot_env_2/lib/python3.9/site-packages/jax/_src/deprecations.py:51: DeprecationWarning: jax.numpy.DeviceArray is deprecated. Use jax.Array.\n",
      "  warnings.warn(message, DeprecationWarning)\n",
      "/tmp/ipykernel_2231583/654217373.py:28: DeprecationWarning: Call to deprecated function (or staticmethod) opt_louvain.\n",
      "  scib.cl.opt_louvain(adata,label_key='cell_type',cluster_key='cluster_key',plot=False,inplace=True,force=True,verbose = False)\n",
      "\n",
      "100%|██████████| 6/6 [05:47<00:00, 57.87s/it]\u001b[A\n",
      "  8%|▊         | 1/13 [05:48<1:09:45, 348.75s/it]\n",
      "  0%|          | 0/6 [00:00<?, ?it/s]\u001b[A"
     ]
    },
    {
     "name": "stdout",
     "output_type": "stream",
     "text": [
      "\u001b[34mINFO    \u001b[0m Solving `\u001b[1;36m1\u001b[0m` problems                                                                                      \n",
      "\u001b[34mINFO    \u001b[0m Solving problem OTProblem\u001b[1m[\u001b[0m\u001b[33mstage\u001b[0m=\u001b[32m'prepared'\u001b[0m, \u001b[33mshape\u001b[0m=\u001b[1m(\u001b[0m\u001b[1;36m6740\u001b[0m, \u001b[1;36m6740\u001b[0m\u001b[1m)\u001b[0m\u001b[1m]\u001b[0m.                                          \n"
     ]
    },
    {
     "name": "stderr",
     "output_type": "stream",
     "text": [
      "/dss/dsshome1/01/di93bur/miniconda3/envs/moscot_env_2/lib/python3.9/site-packages/jax/_src/deprecations.py:51: DeprecationWarning: jax.numpy.DeviceArray is deprecated. Use jax.Array.\n",
      "  warnings.warn(message, DeprecationWarning)\n",
      "/tmp/ipykernel_2231583/654217373.py:28: DeprecationWarning: Call to deprecated function (or staticmethod) opt_louvain.\n",
      "  scib.cl.opt_louvain(adata,label_key='cell_type',cluster_key='cluster_key',plot=False,inplace=True,force=True,verbose = False)\n",
      "\n",
      " 17%|█▋        | 1/6 [01:22<06:53, 82.70s/it]\u001b[A"
     ]
    },
    {
     "name": "stdout",
     "output_type": "stream",
     "text": [
      "\u001b[34mINFO    \u001b[0m Solving `\u001b[1;36m1\u001b[0m` problems                                                                                      \n",
      "\u001b[34mINFO    \u001b[0m Solving problem OTProblem\u001b[1m[\u001b[0m\u001b[33mstage\u001b[0m=\u001b[32m'prepared'\u001b[0m, \u001b[33mshape\u001b[0m=\u001b[1m(\u001b[0m\u001b[1;36m6740\u001b[0m, \u001b[1;36m6740\u001b[0m\u001b[1m)\u001b[0m\u001b[1m]\u001b[0m.                                          \n"
     ]
    },
    {
     "name": "stderr",
     "output_type": "stream",
     "text": [
      "/dss/dsshome1/01/di93bur/miniconda3/envs/moscot_env_2/lib/python3.9/site-packages/jax/_src/deprecations.py:51: DeprecationWarning: jax.numpy.DeviceArray is deprecated. Use jax.Array.\n",
      "  warnings.warn(message, DeprecationWarning)\n",
      "/tmp/ipykernel_2231583/654217373.py:28: DeprecationWarning: Call to deprecated function (or staticmethod) opt_louvain.\n",
      "  scib.cl.opt_louvain(adata,label_key='cell_type',cluster_key='cluster_key',plot=False,inplace=True,force=True,verbose = False)\n",
      "\n",
      " 33%|███▎      | 2/6 [02:38<05:14, 78.61s/it]\u001b[A"
     ]
    },
    {
     "name": "stdout",
     "output_type": "stream",
     "text": [
      "\u001b[34mINFO    \u001b[0m Solving `\u001b[1;36m1\u001b[0m` problems                                                                                      \n",
      "\u001b[34mINFO    \u001b[0m Solving problem OTProblem\u001b[1m[\u001b[0m\u001b[33mstage\u001b[0m=\u001b[32m'prepared'\u001b[0m, \u001b[33mshape\u001b[0m=\u001b[1m(\u001b[0m\u001b[1;36m6740\u001b[0m, \u001b[1;36m6740\u001b[0m\u001b[1m)\u001b[0m\u001b[1m]\u001b[0m.                                          \n"
     ]
    },
    {
     "name": "stderr",
     "output_type": "stream",
     "text": [
      "/dss/dsshome1/01/di93bur/miniconda3/envs/moscot_env_2/lib/python3.9/site-packages/jax/_src/deprecations.py:51: DeprecationWarning: jax.numpy.DeviceArray is deprecated. Use jax.Array.\n",
      "  warnings.warn(message, DeprecationWarning)\n",
      "/tmp/ipykernel_2231583/654217373.py:28: DeprecationWarning: Call to deprecated function (or staticmethod) opt_louvain.\n",
      "  scib.cl.opt_louvain(adata,label_key='cell_type',cluster_key='cluster_key',plot=False,inplace=True,force=True,verbose = False)\n",
      "\n",
      " 50%|█████     | 3/6 [03:42<03:36, 72.12s/it]\u001b[A"
     ]
    },
    {
     "name": "stdout",
     "output_type": "stream",
     "text": [
      "\u001b[34mINFO    \u001b[0m Solving `\u001b[1;36m1\u001b[0m` problems                                                                                      \n",
      "\u001b[34mINFO    \u001b[0m Solving problem OTProblem\u001b[1m[\u001b[0m\u001b[33mstage\u001b[0m=\u001b[32m'prepared'\u001b[0m, \u001b[33mshape\u001b[0m=\u001b[1m(\u001b[0m\u001b[1;36m6740\u001b[0m, \u001b[1;36m6740\u001b[0m\u001b[1m)\u001b[0m\u001b[1m]\u001b[0m.                                          \n"
     ]
    },
    {
     "name": "stderr",
     "output_type": "stream",
     "text": [
      "/dss/dsshome1/01/di93bur/miniconda3/envs/moscot_env_2/lib/python3.9/site-packages/jax/_src/deprecations.py:51: DeprecationWarning: jax.numpy.DeviceArray is deprecated. Use jax.Array.\n",
      "  warnings.warn(message, DeprecationWarning)\n",
      "/tmp/ipykernel_2231583/654217373.py:28: DeprecationWarning: Call to deprecated function (or staticmethod) opt_louvain.\n",
      "  scib.cl.opt_louvain(adata,label_key='cell_type',cluster_key='cluster_key',plot=False,inplace=True,force=True,verbose = False)\n",
      "\n",
      " 67%|██████▋   | 4/6 [04:40<02:12, 66.44s/it]\u001b[A"
     ]
    },
    {
     "name": "stdout",
     "output_type": "stream",
     "text": [
      "\u001b[34mINFO    \u001b[0m Solving `\u001b[1;36m1\u001b[0m` problems                                                                                      \n",
      "\u001b[34mINFO    \u001b[0m Solving problem OTProblem\u001b[1m[\u001b[0m\u001b[33mstage\u001b[0m=\u001b[32m'prepared'\u001b[0m, \u001b[33mshape\u001b[0m=\u001b[1m(\u001b[0m\u001b[1;36m6740\u001b[0m, \u001b[1;36m6740\u001b[0m\u001b[1m)\u001b[0m\u001b[1m]\u001b[0m.                                          \n"
     ]
    },
    {
     "name": "stderr",
     "output_type": "stream",
     "text": [
      "/dss/dsshome1/01/di93bur/miniconda3/envs/moscot_env_2/lib/python3.9/site-packages/jax/_src/deprecations.py:51: DeprecationWarning: jax.numpy.DeviceArray is deprecated. Use jax.Array.\n",
      "  warnings.warn(message, DeprecationWarning)\n",
      "/tmp/ipykernel_2231583/654217373.py:28: DeprecationWarning: Call to deprecated function (or staticmethod) opt_louvain.\n",
      "  scib.cl.opt_louvain(adata,label_key='cell_type',cluster_key='cluster_key',plot=False,inplace=True,force=True,verbose = False)\n",
      "\n",
      " 83%|████████▎ | 5/6 [05:38<01:03, 63.24s/it]\u001b[A"
     ]
    },
    {
     "name": "stdout",
     "output_type": "stream",
     "text": [
      "\u001b[34mINFO    \u001b[0m Solving `\u001b[1;36m1\u001b[0m` problems                                                                                      \n",
      "\u001b[34mINFO    \u001b[0m Solving problem OTProblem\u001b[1m[\u001b[0m\u001b[33mstage\u001b[0m=\u001b[32m'prepared'\u001b[0m, \u001b[33mshape\u001b[0m=\u001b[1m(\u001b[0m\u001b[1;36m6740\u001b[0m, \u001b[1;36m6740\u001b[0m\u001b[1m)\u001b[0m\u001b[1m]\u001b[0m.                                          \n"
     ]
    },
    {
     "name": "stderr",
     "output_type": "stream",
     "text": [
      "/dss/dsshome1/01/di93bur/miniconda3/envs/moscot_env_2/lib/python3.9/site-packages/jax/_src/deprecations.py:51: DeprecationWarning: jax.numpy.DeviceArray is deprecated. Use jax.Array.\n",
      "  warnings.warn(message, DeprecationWarning)\n",
      "/tmp/ipykernel_2231583/654217373.py:28: DeprecationWarning: Call to deprecated function (or staticmethod) opt_louvain.\n",
      "  scib.cl.opt_louvain(adata,label_key='cell_type',cluster_key='cluster_key',plot=False,inplace=True,force=True,verbose = False)\n",
      "\n",
      "100%|██████████| 6/6 [06:36<00:00, 66.05s/it]\u001b[A\n",
      " 15%|█▌        | 2/13 [12:32<1:09:54, 381.30s/it]\n",
      "  0%|          | 0/6 [00:00<?, ?it/s]\u001b[A"
     ]
    },
    {
     "name": "stdout",
     "output_type": "stream",
     "text": [
      "\u001b[34mINFO    \u001b[0m Solving `\u001b[1;36m1\u001b[0m` problems                                                                                      \n",
      "\u001b[34mINFO    \u001b[0m Solving problem OTProblem\u001b[1m[\u001b[0m\u001b[33mstage\u001b[0m=\u001b[32m'prepared'\u001b[0m, \u001b[33mshape\u001b[0m=\u001b[1m(\u001b[0m\u001b[1;36m4279\u001b[0m, \u001b[1;36m4279\u001b[0m\u001b[1m)\u001b[0m\u001b[1m]\u001b[0m.                                          \n"
     ]
    },
    {
     "name": "stderr",
     "output_type": "stream",
     "text": [
      "/dss/dsshome1/01/di93bur/miniconda3/envs/moscot_env_2/lib/python3.9/site-packages/jax/_src/deprecations.py:51: DeprecationWarning: jax.numpy.DeviceArray is deprecated. Use jax.Array.\n",
      "  warnings.warn(message, DeprecationWarning)\n",
      "/tmp/ipykernel_2231583/654217373.py:28: DeprecationWarning: Call to deprecated function (or staticmethod) opt_louvain.\n",
      "  scib.cl.opt_louvain(adata,label_key='cell_type',cluster_key='cluster_key',plot=False,inplace=True,force=True,verbose = False)\n",
      "\n",
      " 17%|█▋        | 1/6 [00:43<03:38, 43.69s/it]\u001b[A"
     ]
    },
    {
     "name": "stdout",
     "output_type": "stream",
     "text": [
      "\u001b[34mINFO    \u001b[0m Solving `\u001b[1;36m1\u001b[0m` problems                                                                                      \n",
      "\u001b[34mINFO    \u001b[0m Solving problem OTProblem\u001b[1m[\u001b[0m\u001b[33mstage\u001b[0m=\u001b[32m'prepared'\u001b[0m, \u001b[33mshape\u001b[0m=\u001b[1m(\u001b[0m\u001b[1;36m4279\u001b[0m, \u001b[1;36m4279\u001b[0m\u001b[1m)\u001b[0m\u001b[1m]\u001b[0m.                                          \n"
     ]
    },
    {
     "name": "stderr",
     "output_type": "stream",
     "text": [
      "/dss/dsshome1/01/di93bur/miniconda3/envs/moscot_env_2/lib/python3.9/site-packages/jax/_src/deprecations.py:51: DeprecationWarning: jax.numpy.DeviceArray is deprecated. Use jax.Array.\n",
      "  warnings.warn(message, DeprecationWarning)\n",
      "/tmp/ipykernel_2231583/654217373.py:28: DeprecationWarning: Call to deprecated function (or staticmethod) opt_louvain.\n",
      "  scib.cl.opt_louvain(adata,label_key='cell_type',cluster_key='cluster_key',plot=False,inplace=True,force=True,verbose = False)\n",
      "\n",
      " 33%|███▎      | 2/6 [01:16<02:29, 37.41s/it]\u001b[A"
     ]
    },
    {
     "name": "stdout",
     "output_type": "stream",
     "text": [
      "\u001b[34mINFO    \u001b[0m Solving `\u001b[1;36m1\u001b[0m` problems                                                                                      \n",
      "\u001b[34mINFO    \u001b[0m Solving problem OTProblem\u001b[1m[\u001b[0m\u001b[33mstage\u001b[0m=\u001b[32m'prepared'\u001b[0m, \u001b[33mshape\u001b[0m=\u001b[1m(\u001b[0m\u001b[1;36m4279\u001b[0m, \u001b[1;36m4279\u001b[0m\u001b[1m)\u001b[0m\u001b[1m]\u001b[0m.                                          \n"
     ]
    },
    {
     "name": "stderr",
     "output_type": "stream",
     "text": [
      "/dss/dsshome1/01/di93bur/miniconda3/envs/moscot_env_2/lib/python3.9/site-packages/jax/_src/deprecations.py:51: DeprecationWarning: jax.numpy.DeviceArray is deprecated. Use jax.Array.\n",
      "  warnings.warn(message, DeprecationWarning)\n",
      "/tmp/ipykernel_2231583/654217373.py:28: DeprecationWarning: Call to deprecated function (or staticmethod) opt_louvain.\n",
      "  scib.cl.opt_louvain(adata,label_key='cell_type',cluster_key='cluster_key',plot=False,inplace=True,force=True,verbose = False)\n",
      "\n",
      " 50%|█████     | 3/6 [01:48<01:44, 34.78s/it]\u001b[A"
     ]
    },
    {
     "name": "stdout",
     "output_type": "stream",
     "text": [
      "\u001b[34mINFO    \u001b[0m Solving `\u001b[1;36m1\u001b[0m` problems                                                                                      \n",
      "\u001b[34mINFO    \u001b[0m Solving problem OTProblem\u001b[1m[\u001b[0m\u001b[33mstage\u001b[0m=\u001b[32m'prepared'\u001b[0m, \u001b[33mshape\u001b[0m=\u001b[1m(\u001b[0m\u001b[1;36m4279\u001b[0m, \u001b[1;36m4279\u001b[0m\u001b[1m)\u001b[0m\u001b[1m]\u001b[0m.                                          \n"
     ]
    },
    {
     "name": "stderr",
     "output_type": "stream",
     "text": [
      "/dss/dsshome1/01/di93bur/miniconda3/envs/moscot_env_2/lib/python3.9/site-packages/jax/_src/deprecations.py:51: DeprecationWarning: jax.numpy.DeviceArray is deprecated. Use jax.Array.\n",
      "  warnings.warn(message, DeprecationWarning)\n",
      "/tmp/ipykernel_2231583/654217373.py:28: DeprecationWarning: Call to deprecated function (or staticmethod) opt_louvain.\n",
      "  scib.cl.opt_louvain(adata,label_key='cell_type',cluster_key='cluster_key',plot=False,inplace=True,force=True,verbose = False)\n",
      "\n",
      " 67%|██████▋   | 4/6 [02:17<01:05, 32.74s/it]\u001b[A"
     ]
    },
    {
     "name": "stdout",
     "output_type": "stream",
     "text": [
      "\u001b[34mINFO    \u001b[0m Solving `\u001b[1;36m1\u001b[0m` problems                                                                                      \n",
      "\u001b[34mINFO    \u001b[0m Solving problem OTProblem\u001b[1m[\u001b[0m\u001b[33mstage\u001b[0m=\u001b[32m'prepared'\u001b[0m, \u001b[33mshape\u001b[0m=\u001b[1m(\u001b[0m\u001b[1;36m4279\u001b[0m, \u001b[1;36m4279\u001b[0m\u001b[1m)\u001b[0m\u001b[1m]\u001b[0m.                                          \n"
     ]
    },
    {
     "name": "stderr",
     "output_type": "stream",
     "text": [
      "/dss/dsshome1/01/di93bur/miniconda3/envs/moscot_env_2/lib/python3.9/site-packages/jax/_src/deprecations.py:51: DeprecationWarning: jax.numpy.DeviceArray is deprecated. Use jax.Array.\n",
      "  warnings.warn(message, DeprecationWarning)\n",
      "/tmp/ipykernel_2231583/654217373.py:28: DeprecationWarning: Call to deprecated function (or staticmethod) opt_louvain.\n",
      "  scib.cl.opt_louvain(adata,label_key='cell_type',cluster_key='cluster_key',plot=False,inplace=True,force=True,verbose = False)\n",
      "\n",
      " 83%|████████▎ | 5/6 [02:48<00:32, 32.12s/it]\u001b[A"
     ]
    },
    {
     "name": "stdout",
     "output_type": "stream",
     "text": [
      "\u001b[34mINFO    \u001b[0m Solving `\u001b[1;36m1\u001b[0m` problems                                                                                      \n",
      "\u001b[34mINFO    \u001b[0m Solving problem OTProblem\u001b[1m[\u001b[0m\u001b[33mstage\u001b[0m=\u001b[32m'prepared'\u001b[0m, \u001b[33mshape\u001b[0m=\u001b[1m(\u001b[0m\u001b[1;36m4279\u001b[0m, \u001b[1;36m4279\u001b[0m\u001b[1m)\u001b[0m\u001b[1m]\u001b[0m.                                          \n"
     ]
    },
    {
     "name": "stderr",
     "output_type": "stream",
     "text": [
      "/dss/dsshome1/01/di93bur/miniconda3/envs/moscot_env_2/lib/python3.9/site-packages/jax/_src/deprecations.py:51: DeprecationWarning: jax.numpy.DeviceArray is deprecated. Use jax.Array.\n",
      "  warnings.warn(message, DeprecationWarning)\n",
      "/tmp/ipykernel_2231583/654217373.py:28: DeprecationWarning: Call to deprecated function (or staticmethod) opt_louvain.\n",
      "  scib.cl.opt_louvain(adata,label_key='cell_type',cluster_key='cluster_key',plot=False,inplace=True,force=True,verbose = False)\n",
      "\n",
      "100%|██████████| 6/6 [03:15<00:00, 32.53s/it]\u001b[A\n",
      " 23%|██▎       | 3/13 [15:53<49:50, 299.04s/it]  \n",
      "  0%|          | 0/6 [00:00<?, ?it/s]\u001b[A"
     ]
    },
    {
     "name": "stdout",
     "output_type": "stream",
     "text": [
      "\u001b[34mINFO    \u001b[0m Solving `\u001b[1;36m1\u001b[0m` problems                                                                                      \n",
      "\u001b[34mINFO    \u001b[0m Solving problem OTProblem\u001b[1m[\u001b[0m\u001b[33mstage\u001b[0m=\u001b[32m'prepared'\u001b[0m, \u001b[33mshape\u001b[0m=\u001b[1m(\u001b[0m\u001b[1;36m4220\u001b[0m, \u001b[1;36m4220\u001b[0m\u001b[1m)\u001b[0m\u001b[1m]\u001b[0m.                                          \n"
     ]
    },
    {
     "name": "stderr",
     "output_type": "stream",
     "text": [
      "/dss/dsshome1/01/di93bur/miniconda3/envs/moscot_env_2/lib/python3.9/site-packages/jax/_src/deprecations.py:51: DeprecationWarning: jax.numpy.DeviceArray is deprecated. Use jax.Array.\n",
      "  warnings.warn(message, DeprecationWarning)\n",
      "/tmp/ipykernel_2231583/654217373.py:28: DeprecationWarning: Call to deprecated function (or staticmethod) opt_louvain.\n",
      "  scib.cl.opt_louvain(adata,label_key='cell_type',cluster_key='cluster_key',plot=False,inplace=True,force=True,verbose = False)\n",
      "\n",
      " 17%|█▋        | 1/6 [00:41<03:28, 41.76s/it]\u001b[A"
     ]
    },
    {
     "name": "stdout",
     "output_type": "stream",
     "text": [
      "\u001b[34mINFO    \u001b[0m Solving `\u001b[1;36m1\u001b[0m` problems                                                                                      \n",
      "\u001b[34mINFO    \u001b[0m Solving problem OTProblem\u001b[1m[\u001b[0m\u001b[33mstage\u001b[0m=\u001b[32m'prepared'\u001b[0m, \u001b[33mshape\u001b[0m=\u001b[1m(\u001b[0m\u001b[1;36m4220\u001b[0m, \u001b[1;36m4220\u001b[0m\u001b[1m)\u001b[0m\u001b[1m]\u001b[0m.                                          \n"
     ]
    },
    {
     "name": "stderr",
     "output_type": "stream",
     "text": [
      "/dss/dsshome1/01/di93bur/miniconda3/envs/moscot_env_2/lib/python3.9/site-packages/jax/_src/deprecations.py:51: DeprecationWarning: jax.numpy.DeviceArray is deprecated. Use jax.Array.\n",
      "  warnings.warn(message, DeprecationWarning)\n",
      "/tmp/ipykernel_2231583/654217373.py:28: DeprecationWarning: Call to deprecated function (or staticmethod) opt_louvain.\n",
      "  scib.cl.opt_louvain(adata,label_key='cell_type',cluster_key='cluster_key',plot=False,inplace=True,force=True,verbose = False)\n",
      "\n",
      " 33%|███▎      | 2/6 [01:14<02:25, 36.45s/it]\u001b[A"
     ]
    },
    {
     "name": "stdout",
     "output_type": "stream",
     "text": [
      "\u001b[34mINFO    \u001b[0m Solving `\u001b[1;36m1\u001b[0m` problems                                                                                      \n",
      "\u001b[34mINFO    \u001b[0m Solving problem OTProblem\u001b[1m[\u001b[0m\u001b[33mstage\u001b[0m=\u001b[32m'prepared'\u001b[0m, \u001b[33mshape\u001b[0m=\u001b[1m(\u001b[0m\u001b[1;36m4220\u001b[0m, \u001b[1;36m4220\u001b[0m\u001b[1m)\u001b[0m\u001b[1m]\u001b[0m.                                          \n"
     ]
    },
    {
     "name": "stderr",
     "output_type": "stream",
     "text": [
      "/dss/dsshome1/01/di93bur/miniconda3/envs/moscot_env_2/lib/python3.9/site-packages/jax/_src/deprecations.py:51: DeprecationWarning: jax.numpy.DeviceArray is deprecated. Use jax.Array.\n",
      "  warnings.warn(message, DeprecationWarning)\n",
      "/tmp/ipykernel_2231583/654217373.py:28: DeprecationWarning: Call to deprecated function (or staticmethod) opt_louvain.\n",
      "  scib.cl.opt_louvain(adata,label_key='cell_type',cluster_key='cluster_key',plot=False,inplace=True,force=True,verbose = False)\n",
      "\n",
      " 50%|█████     | 3/6 [01:42<01:38, 32.71s/it]\u001b[A"
     ]
    },
    {
     "name": "stdout",
     "output_type": "stream",
     "text": [
      "\u001b[34mINFO    \u001b[0m Solving `\u001b[1;36m1\u001b[0m` problems                                                                                      \n",
      "\u001b[34mINFO    \u001b[0m Solving problem OTProblem\u001b[1m[\u001b[0m\u001b[33mstage\u001b[0m=\u001b[32m'prepared'\u001b[0m, \u001b[33mshape\u001b[0m=\u001b[1m(\u001b[0m\u001b[1;36m4220\u001b[0m, \u001b[1;36m4220\u001b[0m\u001b[1m)\u001b[0m\u001b[1m]\u001b[0m.                                          \n"
     ]
    },
    {
     "name": "stderr",
     "output_type": "stream",
     "text": [
      "/dss/dsshome1/01/di93bur/miniconda3/envs/moscot_env_2/lib/python3.9/site-packages/jax/_src/deprecations.py:51: DeprecationWarning: jax.numpy.DeviceArray is deprecated. Use jax.Array.\n",
      "  warnings.warn(message, DeprecationWarning)\n",
      "/tmp/ipykernel_2231583/654217373.py:28: DeprecationWarning: Call to deprecated function (or staticmethod) opt_louvain.\n",
      "  scib.cl.opt_louvain(adata,label_key='cell_type',cluster_key='cluster_key',plot=False,inplace=True,force=True,verbose = False)\n",
      "\n",
      " 67%|██████▋   | 4/6 [02:14<01:04, 32.17s/it]\u001b[A"
     ]
    },
    {
     "name": "stdout",
     "output_type": "stream",
     "text": [
      "\u001b[34mINFO    \u001b[0m Solving `\u001b[1;36m1\u001b[0m` problems                                                                                      \n",
      "\u001b[34mINFO    \u001b[0m Solving problem OTProblem\u001b[1m[\u001b[0m\u001b[33mstage\u001b[0m=\u001b[32m'prepared'\u001b[0m, \u001b[33mshape\u001b[0m=\u001b[1m(\u001b[0m\u001b[1;36m4220\u001b[0m, \u001b[1;36m4220\u001b[0m\u001b[1m)\u001b[0m\u001b[1m]\u001b[0m.                                          \n"
     ]
    },
    {
     "name": "stderr",
     "output_type": "stream",
     "text": [
      "/dss/dsshome1/01/di93bur/miniconda3/envs/moscot_env_2/lib/python3.9/site-packages/jax/_src/deprecations.py:51: DeprecationWarning: jax.numpy.DeviceArray is deprecated. Use jax.Array.\n",
      "  warnings.warn(message, DeprecationWarning)\n",
      "/tmp/ipykernel_2231583/654217373.py:28: DeprecationWarning: Call to deprecated function (or staticmethod) opt_louvain.\n",
      "  scib.cl.opt_louvain(adata,label_key='cell_type',cluster_key='cluster_key',plot=False,inplace=True,force=True,verbose = False)\n",
      "\n",
      " 83%|████████▎ | 5/6 [02:44<00:31, 31.67s/it]\u001b[A"
     ]
    },
    {
     "name": "stdout",
     "output_type": "stream",
     "text": [
      "\u001b[34mINFO    \u001b[0m Solving `\u001b[1;36m1\u001b[0m` problems                                                                                      \n",
      "\u001b[34mINFO    \u001b[0m Solving problem OTProblem\u001b[1m[\u001b[0m\u001b[33mstage\u001b[0m=\u001b[32m'prepared'\u001b[0m, \u001b[33mshape\u001b[0m=\u001b[1m(\u001b[0m\u001b[1;36m4220\u001b[0m, \u001b[1;36m4220\u001b[0m\u001b[1m)\u001b[0m\u001b[1m]\u001b[0m.                                          \n"
     ]
    },
    {
     "name": "stderr",
     "output_type": "stream",
     "text": [
      "/dss/dsshome1/01/di93bur/miniconda3/envs/moscot_env_2/lib/python3.9/site-packages/jax/_src/deprecations.py:51: DeprecationWarning: jax.numpy.DeviceArray is deprecated. Use jax.Array.\n",
      "  warnings.warn(message, DeprecationWarning)\n",
      "/tmp/ipykernel_2231583/654217373.py:28: DeprecationWarning: Call to deprecated function (or staticmethod) opt_louvain.\n",
      "  scib.cl.opt_louvain(adata,label_key='cell_type',cluster_key='cluster_key',plot=False,inplace=True,force=True,verbose = False)\n",
      "\n",
      "100%|██████████| 6/6 [03:15<00:00, 32.55s/it]\u001b[A\n",
      " 31%|███       | 4/13 [19:11<38:49, 258.88s/it]\n",
      "  0%|          | 0/6 [00:00<?, ?it/s]\u001b[A"
     ]
    },
    {
     "name": "stdout",
     "output_type": "stream",
     "text": [
      "\u001b[34mINFO    \u001b[0m Solving `\u001b[1;36m1\u001b[0m` problems                                                                                      \n",
      "\u001b[34mINFO    \u001b[0m Solving problem OTProblem\u001b[1m[\u001b[0m\u001b[33mstage\u001b[0m=\u001b[32m'prepared'\u001b[0m, \u001b[33mshape\u001b[0m=\u001b[1m(\u001b[0m\u001b[1;36m6111\u001b[0m, \u001b[1;36m6111\u001b[0m\u001b[1m)\u001b[0m\u001b[1m]\u001b[0m.                                          \n"
     ]
    },
    {
     "name": "stderr",
     "output_type": "stream",
     "text": [
      "/dss/dsshome1/01/di93bur/miniconda3/envs/moscot_env_2/lib/python3.9/site-packages/jax/_src/deprecations.py:51: DeprecationWarning: jax.numpy.DeviceArray is deprecated. Use jax.Array.\n",
      "  warnings.warn(message, DeprecationWarning)\n",
      "/tmp/ipykernel_2231583/654217373.py:28: DeprecationWarning: Call to deprecated function (or staticmethod) opt_louvain.\n",
      "  scib.cl.opt_louvain(adata,label_key='cell_type',cluster_key='cluster_key',plot=False,inplace=True,force=True,verbose = False)\n",
      "\n",
      " 17%|█▋        | 1/6 [01:14<06:10, 74.19s/it]\u001b[A"
     ]
    },
    {
     "name": "stdout",
     "output_type": "stream",
     "text": [
      "\u001b[34mINFO    \u001b[0m Solving `\u001b[1;36m1\u001b[0m` problems                                                                                      \n",
      "\u001b[34mINFO    \u001b[0m Solving problem OTProblem\u001b[1m[\u001b[0m\u001b[33mstage\u001b[0m=\u001b[32m'prepared'\u001b[0m, \u001b[33mshape\u001b[0m=\u001b[1m(\u001b[0m\u001b[1;36m6111\u001b[0m, \u001b[1;36m6111\u001b[0m\u001b[1m)\u001b[0m\u001b[1m]\u001b[0m.                                          \n"
     ]
    },
    {
     "name": "stderr",
     "output_type": "stream",
     "text": [
      "/dss/dsshome1/01/di93bur/miniconda3/envs/moscot_env_2/lib/python3.9/site-packages/jax/_src/deprecations.py:51: DeprecationWarning: jax.numpy.DeviceArray is deprecated. Use jax.Array.\n",
      "  warnings.warn(message, DeprecationWarning)\n",
      "/tmp/ipykernel_2231583/654217373.py:28: DeprecationWarning: Call to deprecated function (or staticmethod) opt_louvain.\n",
      "  scib.cl.opt_louvain(adata,label_key='cell_type',cluster_key='cluster_key',plot=False,inplace=True,force=True,verbose = False)\n",
      "\n",
      " 33%|███▎      | 2/6 [02:14<04:23, 65.83s/it]\u001b[A"
     ]
    },
    {
     "name": "stdout",
     "output_type": "stream",
     "text": [
      "\u001b[34mINFO    \u001b[0m Solving `\u001b[1;36m1\u001b[0m` problems                                                                                      \n",
      "\u001b[34mINFO    \u001b[0m Solving problem OTProblem\u001b[1m[\u001b[0m\u001b[33mstage\u001b[0m=\u001b[32m'prepared'\u001b[0m, \u001b[33mshape\u001b[0m=\u001b[1m(\u001b[0m\u001b[1;36m6111\u001b[0m, \u001b[1;36m6111\u001b[0m\u001b[1m)\u001b[0m\u001b[1m]\u001b[0m.                                          \n"
     ]
    },
    {
     "name": "stderr",
     "output_type": "stream",
     "text": [
      "/dss/dsshome1/01/di93bur/miniconda3/envs/moscot_env_2/lib/python3.9/site-packages/jax/_src/deprecations.py:51: DeprecationWarning: jax.numpy.DeviceArray is deprecated. Use jax.Array.\n",
      "  warnings.warn(message, DeprecationWarning)\n",
      "/tmp/ipykernel_2231583/654217373.py:28: DeprecationWarning: Call to deprecated function (or staticmethod) opt_louvain.\n",
      "  scib.cl.opt_louvain(adata,label_key='cell_type',cluster_key='cluster_key',plot=False,inplace=True,force=True,verbose = False)\n",
      "\n",
      " 50%|█████     | 3/6 [03:03<02:54, 58.31s/it]\u001b[A"
     ]
    },
    {
     "name": "stdout",
     "output_type": "stream",
     "text": [
      "\u001b[34mINFO    \u001b[0m Solving `\u001b[1;36m1\u001b[0m` problems                                                                                      \n",
      "\u001b[34mINFO    \u001b[0m Solving problem OTProblem\u001b[1m[\u001b[0m\u001b[33mstage\u001b[0m=\u001b[32m'prepared'\u001b[0m, \u001b[33mshape\u001b[0m=\u001b[1m(\u001b[0m\u001b[1;36m6111\u001b[0m, \u001b[1;36m6111\u001b[0m\u001b[1m)\u001b[0m\u001b[1m]\u001b[0m.                                          \n"
     ]
    },
    {
     "name": "stderr",
     "output_type": "stream",
     "text": [
      "/dss/dsshome1/01/di93bur/miniconda3/envs/moscot_env_2/lib/python3.9/site-packages/jax/_src/deprecations.py:51: DeprecationWarning: jax.numpy.DeviceArray is deprecated. Use jax.Array.\n",
      "  warnings.warn(message, DeprecationWarning)\n",
      "/tmp/ipykernel_2231583/654217373.py:28: DeprecationWarning: Call to deprecated function (or staticmethod) opt_louvain.\n",
      "  scib.cl.opt_louvain(adata,label_key='cell_type',cluster_key='cluster_key',plot=False,inplace=True,force=True,verbose = False)\n",
      "\n",
      " 67%|██████▋   | 4/6 [03:54<01:51, 55.53s/it]\u001b[A"
     ]
    },
    {
     "name": "stdout",
     "output_type": "stream",
     "text": [
      "\u001b[34mINFO    \u001b[0m Solving `\u001b[1;36m1\u001b[0m` problems                                                                                      \n",
      "\u001b[34mINFO    \u001b[0m Solving problem OTProblem\u001b[1m[\u001b[0m\u001b[33mstage\u001b[0m=\u001b[32m'prepared'\u001b[0m, \u001b[33mshape\u001b[0m=\u001b[1m(\u001b[0m\u001b[1;36m6111\u001b[0m, \u001b[1;36m6111\u001b[0m\u001b[1m)\u001b[0m\u001b[1m]\u001b[0m.                                          \n"
     ]
    },
    {
     "name": "stderr",
     "output_type": "stream",
     "text": [
      "/dss/dsshome1/01/di93bur/miniconda3/envs/moscot_env_2/lib/python3.9/site-packages/jax/_src/deprecations.py:51: DeprecationWarning: jax.numpy.DeviceArray is deprecated. Use jax.Array.\n",
      "  warnings.warn(message, DeprecationWarning)\n",
      "/tmp/ipykernel_2231583/654217373.py:28: DeprecationWarning: Call to deprecated function (or staticmethod) opt_louvain.\n",
      "  scib.cl.opt_louvain(adata,label_key='cell_type',cluster_key='cluster_key',plot=False,inplace=True,force=True,verbose = False)\n",
      "\n",
      " 83%|████████▎ | 5/6 [04:42<00:52, 52.66s/it]\u001b[A"
     ]
    },
    {
     "name": "stdout",
     "output_type": "stream",
     "text": [
      "\u001b[34mINFO    \u001b[0m Solving `\u001b[1;36m1\u001b[0m` problems                                                                                      \n",
      "\u001b[34mINFO    \u001b[0m Solving problem OTProblem\u001b[1m[\u001b[0m\u001b[33mstage\u001b[0m=\u001b[32m'prepared'\u001b[0m, \u001b[33mshape\u001b[0m=\u001b[1m(\u001b[0m\u001b[1;36m6111\u001b[0m, \u001b[1;36m6111\u001b[0m\u001b[1m)\u001b[0m\u001b[1m]\u001b[0m.                                          \n"
     ]
    },
    {
     "name": "stderr",
     "output_type": "stream",
     "text": [
      "/dss/dsshome1/01/di93bur/miniconda3/envs/moscot_env_2/lib/python3.9/site-packages/jax/_src/deprecations.py:51: DeprecationWarning: jax.numpy.DeviceArray is deprecated. Use jax.Array.\n",
      "  warnings.warn(message, DeprecationWarning)\n",
      "/tmp/ipykernel_2231583/654217373.py:28: DeprecationWarning: Call to deprecated function (or staticmethod) opt_louvain.\n",
      "  scib.cl.opt_louvain(adata,label_key='cell_type',cluster_key='cluster_key',plot=False,inplace=True,force=True,verbose = False)\n",
      "\n",
      "100%|██████████| 6/6 [05:28<00:00, 54.74s/it]\u001b[A\n",
      " 38%|███▊      | 5/13 [24:46<38:11, 286.38s/it]\n",
      "  0%|          | 0/6 [00:00<?, ?it/s]\u001b[A"
     ]
    },
    {
     "name": "stdout",
     "output_type": "stream",
     "text": [
      "\u001b[34mINFO    \u001b[0m Solving `\u001b[1;36m1\u001b[0m` problems                                                                                      \n",
      "\u001b[34mINFO    \u001b[0m Solving problem OTProblem\u001b[1m[\u001b[0m\u001b[33mstage\u001b[0m=\u001b[32m'prepared'\u001b[0m, \u001b[33mshape\u001b[0m=\u001b[1m(\u001b[0m\u001b[1;36m4895\u001b[0m, \u001b[1;36m4895\u001b[0m\u001b[1m)\u001b[0m\u001b[1m]\u001b[0m.                                          \n"
     ]
    },
    {
     "name": "stderr",
     "output_type": "stream",
     "text": [
      "/dss/dsshome1/01/di93bur/miniconda3/envs/moscot_env_2/lib/python3.9/site-packages/jax/_src/deprecations.py:51: DeprecationWarning: jax.numpy.DeviceArray is deprecated. Use jax.Array.\n",
      "  warnings.warn(message, DeprecationWarning)\n",
      "/tmp/ipykernel_2231583/654217373.py:28: DeprecationWarning: Call to deprecated function (or staticmethod) opt_louvain.\n",
      "  scib.cl.opt_louvain(adata,label_key='cell_type',cluster_key='cluster_key',plot=False,inplace=True,force=True,verbose = False)\n",
      "\n",
      " 17%|█▋        | 1/6 [00:55<04:37, 55.45s/it]\u001b[A"
     ]
    },
    {
     "name": "stdout",
     "output_type": "stream",
     "text": [
      "\u001b[34mINFO    \u001b[0m Solving `\u001b[1;36m1\u001b[0m` problems                                                                                      \n",
      "\u001b[34mINFO    \u001b[0m Solving problem OTProblem\u001b[1m[\u001b[0m\u001b[33mstage\u001b[0m=\u001b[32m'prepared'\u001b[0m, \u001b[33mshape\u001b[0m=\u001b[1m(\u001b[0m\u001b[1;36m4895\u001b[0m, \u001b[1;36m4895\u001b[0m\u001b[1m)\u001b[0m\u001b[1m]\u001b[0m.                                          \n"
     ]
    },
    {
     "name": "stderr",
     "output_type": "stream",
     "text": [
      "/dss/dsshome1/01/di93bur/miniconda3/envs/moscot_env_2/lib/python3.9/site-packages/jax/_src/deprecations.py:51: DeprecationWarning: jax.numpy.DeviceArray is deprecated. Use jax.Array.\n",
      "  warnings.warn(message, DeprecationWarning)\n",
      "/tmp/ipykernel_2231583/654217373.py:28: DeprecationWarning: Call to deprecated function (or staticmethod) opt_louvain.\n",
      "  scib.cl.opt_louvain(adata,label_key='cell_type',cluster_key='cluster_key',plot=False,inplace=True,force=True,verbose = False)\n",
      "\n",
      " 33%|███▎      | 2/6 [01:37<03:10, 47.53s/it]\u001b[A"
     ]
    },
    {
     "name": "stdout",
     "output_type": "stream",
     "text": [
      "\u001b[34mINFO    \u001b[0m Solving `\u001b[1;36m1\u001b[0m` problems                                                                                      \n",
      "\u001b[34mINFO    \u001b[0m Solving problem OTProblem\u001b[1m[\u001b[0m\u001b[33mstage\u001b[0m=\u001b[32m'prepared'\u001b[0m, \u001b[33mshape\u001b[0m=\u001b[1m(\u001b[0m\u001b[1;36m4895\u001b[0m, \u001b[1;36m4895\u001b[0m\u001b[1m)\u001b[0m\u001b[1m]\u001b[0m.                                          \n"
     ]
    },
    {
     "name": "stderr",
     "output_type": "stream",
     "text": [
      "/dss/dsshome1/01/di93bur/miniconda3/envs/moscot_env_2/lib/python3.9/site-packages/jax/_src/deprecations.py:51: DeprecationWarning: jax.numpy.DeviceArray is deprecated. Use jax.Array.\n",
      "  warnings.warn(message, DeprecationWarning)\n",
      "/tmp/ipykernel_2231583/654217373.py:28: DeprecationWarning: Call to deprecated function (or staticmethod) opt_louvain.\n",
      "  scib.cl.opt_louvain(adata,label_key='cell_type',cluster_key='cluster_key',plot=False,inplace=True,force=True,verbose = False)\n",
      "\n",
      " 50%|█████     | 3/6 [02:15<02:08, 42.98s/it]\u001b[A"
     ]
    },
    {
     "name": "stdout",
     "output_type": "stream",
     "text": [
      "\u001b[34mINFO    \u001b[0m Solving `\u001b[1;36m1\u001b[0m` problems                                                                                      \n",
      "\u001b[34mINFO    \u001b[0m Solving problem OTProblem\u001b[1m[\u001b[0m\u001b[33mstage\u001b[0m=\u001b[32m'prepared'\u001b[0m, \u001b[33mshape\u001b[0m=\u001b[1m(\u001b[0m\u001b[1;36m4895\u001b[0m, \u001b[1;36m4895\u001b[0m\u001b[1m)\u001b[0m\u001b[1m]\u001b[0m.                                          \n"
     ]
    },
    {
     "name": "stderr",
     "output_type": "stream",
     "text": [
      "/dss/dsshome1/01/di93bur/miniconda3/envs/moscot_env_2/lib/python3.9/site-packages/jax/_src/deprecations.py:51: DeprecationWarning: jax.numpy.DeviceArray is deprecated. Use jax.Array.\n",
      "  warnings.warn(message, DeprecationWarning)\n",
      "/tmp/ipykernel_2231583/654217373.py:28: DeprecationWarning: Call to deprecated function (or staticmethod) opt_louvain.\n",
      "  scib.cl.opt_louvain(adata,label_key='cell_type',cluster_key='cluster_key',plot=False,inplace=True,force=True,verbose = False)\n",
      "\n",
      " 67%|██████▋   | 4/6 [02:51<01:20, 40.48s/it]\u001b[A"
     ]
    },
    {
     "name": "stdout",
     "output_type": "stream",
     "text": [
      "\u001b[34mINFO    \u001b[0m Solving `\u001b[1;36m1\u001b[0m` problems                                                                                      \n",
      "\u001b[34mINFO    \u001b[0m Solving problem OTProblem\u001b[1m[\u001b[0m\u001b[33mstage\u001b[0m=\u001b[32m'prepared'\u001b[0m, \u001b[33mshape\u001b[0m=\u001b[1m(\u001b[0m\u001b[1;36m4895\u001b[0m, \u001b[1;36m4895\u001b[0m\u001b[1m)\u001b[0m\u001b[1m]\u001b[0m.                                          \n"
     ]
    },
    {
     "name": "stderr",
     "output_type": "stream",
     "text": [
      "/dss/dsshome1/01/di93bur/miniconda3/envs/moscot_env_2/lib/python3.9/site-packages/jax/_src/deprecations.py:51: DeprecationWarning: jax.numpy.DeviceArray is deprecated. Use jax.Array.\n",
      "  warnings.warn(message, DeprecationWarning)\n",
      "/tmp/ipykernel_2231583/654217373.py:28: DeprecationWarning: Call to deprecated function (or staticmethod) opt_louvain.\n",
      "  scib.cl.opt_louvain(adata,label_key='cell_type',cluster_key='cluster_key',plot=False,inplace=True,force=True,verbose = False)\n",
      "\n",
      " 83%|████████▎ | 5/6 [03:28<00:39, 39.24s/it]\u001b[A"
     ]
    },
    {
     "name": "stdout",
     "output_type": "stream",
     "text": [
      "\u001b[34mINFO    \u001b[0m Solving `\u001b[1;36m1\u001b[0m` problems                                                                                      \n",
      "\u001b[34mINFO    \u001b[0m Solving problem OTProblem\u001b[1m[\u001b[0m\u001b[33mstage\u001b[0m=\u001b[32m'prepared'\u001b[0m, \u001b[33mshape\u001b[0m=\u001b[1m(\u001b[0m\u001b[1;36m4895\u001b[0m, \u001b[1;36m4895\u001b[0m\u001b[1m)\u001b[0m\u001b[1m]\u001b[0m.                                          \n"
     ]
    },
    {
     "name": "stderr",
     "output_type": "stream",
     "text": [
      "/dss/dsshome1/01/di93bur/miniconda3/envs/moscot_env_2/lib/python3.9/site-packages/jax/_src/deprecations.py:51: DeprecationWarning: jax.numpy.DeviceArray is deprecated. Use jax.Array.\n",
      "  warnings.warn(message, DeprecationWarning)\n",
      "/tmp/ipykernel_2231583/654217373.py:28: DeprecationWarning: Call to deprecated function (or staticmethod) opt_louvain.\n",
      "  scib.cl.opt_louvain(adata,label_key='cell_type',cluster_key='cluster_key',plot=False,inplace=True,force=True,verbose = False)\n",
      "\n",
      "100%|██████████| 6/6 [04:07<00:00, 41.20s/it]\u001b[A\n",
      " 46%|████▌     | 6/13 [28:59<32:06, 275.18s/it]\n",
      "  0%|          | 0/6 [00:00<?, ?it/s]\u001b[A"
     ]
    },
    {
     "name": "stdout",
     "output_type": "stream",
     "text": [
      "\u001b[34mINFO    \u001b[0m Solving `\u001b[1;36m1\u001b[0m` problems                                                                                      \n",
      "\u001b[34mINFO    \u001b[0m Solving problem OTProblem\u001b[1m[\u001b[0m\u001b[33mstage\u001b[0m=\u001b[32m'prepared'\u001b[0m, \u001b[33mshape\u001b[0m=\u001b[1m(\u001b[0m\u001b[1;36m6781\u001b[0m, \u001b[1;36m6781\u001b[0m\u001b[1m)\u001b[0m\u001b[1m]\u001b[0m.                                          \n"
     ]
    },
    {
     "name": "stderr",
     "output_type": "stream",
     "text": [
      "/dss/dsshome1/01/di93bur/miniconda3/envs/moscot_env_2/lib/python3.9/site-packages/jax/_src/deprecations.py:51: DeprecationWarning: jax.numpy.DeviceArray is deprecated. Use jax.Array.\n",
      "  warnings.warn(message, DeprecationWarning)\n",
      "/tmp/ipykernel_2231583/654217373.py:28: DeprecationWarning: Call to deprecated function (or staticmethod) opt_louvain.\n",
      "  scib.cl.opt_louvain(adata,label_key='cell_type',cluster_key='cluster_key',plot=False,inplace=True,force=True,verbose = False)\n",
      "\n",
      " 17%|█▋        | 1/6 [01:34<07:52, 94.52s/it]\u001b[A"
     ]
    },
    {
     "name": "stdout",
     "output_type": "stream",
     "text": [
      "\u001b[34mINFO    \u001b[0m Solving `\u001b[1;36m1\u001b[0m` problems                                                                                      \n",
      "\u001b[34mINFO    \u001b[0m Solving problem OTProblem\u001b[1m[\u001b[0m\u001b[33mstage\u001b[0m=\u001b[32m'prepared'\u001b[0m, \u001b[33mshape\u001b[0m=\u001b[1m(\u001b[0m\u001b[1;36m6781\u001b[0m, \u001b[1;36m6781\u001b[0m\u001b[1m)\u001b[0m\u001b[1m]\u001b[0m.                                          \n"
     ]
    },
    {
     "name": "stderr",
     "output_type": "stream",
     "text": [
      "/dss/dsshome1/01/di93bur/miniconda3/envs/moscot_env_2/lib/python3.9/site-packages/jax/_src/deprecations.py:51: DeprecationWarning: jax.numpy.DeviceArray is deprecated. Use jax.Array.\n",
      "  warnings.warn(message, DeprecationWarning)\n",
      "/tmp/ipykernel_2231583/654217373.py:28: DeprecationWarning: Call to deprecated function (or staticmethod) opt_louvain.\n",
      "  scib.cl.opt_louvain(adata,label_key='cell_type',cluster_key='cluster_key',plot=False,inplace=True,force=True,verbose = False)\n",
      "\n",
      " 33%|███▎      | 2/6 [02:40<05:11, 77.97s/it]\u001b[A"
     ]
    },
    {
     "name": "stdout",
     "output_type": "stream",
     "text": [
      "\u001b[34mINFO    \u001b[0m Solving `\u001b[1;36m1\u001b[0m` problems                                                                                      \n",
      "\u001b[34mINFO    \u001b[0m Solving problem OTProblem\u001b[1m[\u001b[0m\u001b[33mstage\u001b[0m=\u001b[32m'prepared'\u001b[0m, \u001b[33mshape\u001b[0m=\u001b[1m(\u001b[0m\u001b[1;36m6781\u001b[0m, \u001b[1;36m6781\u001b[0m\u001b[1m)\u001b[0m\u001b[1m]\u001b[0m.                                          \n"
     ]
    },
    {
     "name": "stderr",
     "output_type": "stream",
     "text": [
      "/dss/dsshome1/01/di93bur/miniconda3/envs/moscot_env_2/lib/python3.9/site-packages/jax/_src/deprecations.py:51: DeprecationWarning: jax.numpy.DeviceArray is deprecated. Use jax.Array.\n",
      "  warnings.warn(message, DeprecationWarning)\n",
      "/tmp/ipykernel_2231583/654217373.py:28: DeprecationWarning: Call to deprecated function (or staticmethod) opt_louvain.\n",
      "  scib.cl.opt_louvain(adata,label_key='cell_type',cluster_key='cluster_key',plot=False,inplace=True,force=True,verbose = False)\n",
      "\n",
      " 50%|█████     | 3/6 [03:40<03:28, 69.38s/it]\u001b[A"
     ]
    },
    {
     "name": "stdout",
     "output_type": "stream",
     "text": [
      "\u001b[34mINFO    \u001b[0m Solving `\u001b[1;36m1\u001b[0m` problems                                                                                      \n",
      "\u001b[34mINFO    \u001b[0m Solving problem OTProblem\u001b[1m[\u001b[0m\u001b[33mstage\u001b[0m=\u001b[32m'prepared'\u001b[0m, \u001b[33mshape\u001b[0m=\u001b[1m(\u001b[0m\u001b[1;36m6781\u001b[0m, \u001b[1;36m6781\u001b[0m\u001b[1m)\u001b[0m\u001b[1m]\u001b[0m.                                          \n"
     ]
    },
    {
     "name": "stderr",
     "output_type": "stream",
     "text": [
      "/dss/dsshome1/01/di93bur/miniconda3/envs/moscot_env_2/lib/python3.9/site-packages/jax/_src/deprecations.py:51: DeprecationWarning: jax.numpy.DeviceArray is deprecated. Use jax.Array.\n",
      "  warnings.warn(message, DeprecationWarning)\n",
      "/tmp/ipykernel_2231583/654217373.py:28: DeprecationWarning: Call to deprecated function (or staticmethod) opt_louvain.\n",
      "  scib.cl.opt_louvain(adata,label_key='cell_type',cluster_key='cluster_key',plot=False,inplace=True,force=True,verbose = False)\n",
      "\n",
      " 67%|██████▋   | 4/6 [04:41<02:12, 66.29s/it]\u001b[A"
     ]
    },
    {
     "name": "stdout",
     "output_type": "stream",
     "text": [
      "\u001b[34mINFO    \u001b[0m Solving `\u001b[1;36m1\u001b[0m` problems                                                                                      \n",
      "\u001b[34mINFO    \u001b[0m Solving problem OTProblem\u001b[1m[\u001b[0m\u001b[33mstage\u001b[0m=\u001b[32m'prepared'\u001b[0m, \u001b[33mshape\u001b[0m=\u001b[1m(\u001b[0m\u001b[1;36m6781\u001b[0m, \u001b[1;36m6781\u001b[0m\u001b[1m)\u001b[0m\u001b[1m]\u001b[0m.                                          \n"
     ]
    },
    {
     "name": "stderr",
     "output_type": "stream",
     "text": [
      "/dss/dsshome1/01/di93bur/miniconda3/envs/moscot_env_2/lib/python3.9/site-packages/jax/_src/deprecations.py:51: DeprecationWarning: jax.numpy.DeviceArray is deprecated. Use jax.Array.\n",
      "  warnings.warn(message, DeprecationWarning)\n",
      "/tmp/ipykernel_2231583/654217373.py:28: DeprecationWarning: Call to deprecated function (or staticmethod) opt_louvain.\n",
      "  scib.cl.opt_louvain(adata,label_key='cell_type',cluster_key='cluster_key',plot=False,inplace=True,force=True,verbose = False)\n",
      "\n",
      " 83%|████████▎ | 5/6 [05:42<01:04, 64.38s/it]\u001b[A"
     ]
    },
    {
     "name": "stdout",
     "output_type": "stream",
     "text": [
      "\u001b[34mINFO    \u001b[0m Solving `\u001b[1;36m1\u001b[0m` problems                                                                                      \n",
      "\u001b[34mINFO    \u001b[0m Solving problem OTProblem\u001b[1m[\u001b[0m\u001b[33mstage\u001b[0m=\u001b[32m'prepared'\u001b[0m, \u001b[33mshape\u001b[0m=\u001b[1m(\u001b[0m\u001b[1;36m6781\u001b[0m, \u001b[1;36m6781\u001b[0m\u001b[1m)\u001b[0m\u001b[1m]\u001b[0m.                                          \n"
     ]
    },
    {
     "name": "stderr",
     "output_type": "stream",
     "text": [
      "/dss/dsshome1/01/di93bur/miniconda3/envs/moscot_env_2/lib/python3.9/site-packages/jax/_src/deprecations.py:51: DeprecationWarning: jax.numpy.DeviceArray is deprecated. Use jax.Array.\n",
      "  warnings.warn(message, DeprecationWarning)\n",
      "/tmp/ipykernel_2231583/654217373.py:28: DeprecationWarning: Call to deprecated function (or staticmethod) opt_louvain.\n",
      "  scib.cl.opt_louvain(adata,label_key='cell_type',cluster_key='cluster_key',plot=False,inplace=True,force=True,verbose = False)\n",
      "\n",
      "100%|██████████| 6/6 [06:38<00:00, 66.48s/it]\u001b[A\n",
      " 54%|█████▍    | 7/13 [35:44<31:45, 317.58s/it]\n",
      "  0%|          | 0/6 [00:00<?, ?it/s]\u001b[A"
     ]
    },
    {
     "name": "stdout",
     "output_type": "stream",
     "text": [
      "\u001b[34mINFO    \u001b[0m Solving `\u001b[1;36m1\u001b[0m` problems                                                                                      \n",
      "\u001b[34mINFO    \u001b[0m Solving problem OTProblem\u001b[1m[\u001b[0m\u001b[33mstage\u001b[0m=\u001b[32m'prepared'\u001b[0m, \u001b[33mshape\u001b[0m=\u001b[1m(\u001b[0m\u001b[1;36m4325\u001b[0m, \u001b[1;36m4325\u001b[0m\u001b[1m)\u001b[0m\u001b[1m]\u001b[0m.                                          \n"
     ]
    },
    {
     "name": "stderr",
     "output_type": "stream",
     "text": [
      "/dss/dsshome1/01/di93bur/miniconda3/envs/moscot_env_2/lib/python3.9/site-packages/jax/_src/deprecations.py:51: DeprecationWarning: jax.numpy.DeviceArray is deprecated. Use jax.Array.\n",
      "  warnings.warn(message, DeprecationWarning)\n",
      "/tmp/ipykernel_2231583/654217373.py:28: DeprecationWarning: Call to deprecated function (or staticmethod) opt_louvain.\n",
      "  scib.cl.opt_louvain(adata,label_key='cell_type',cluster_key='cluster_key',plot=False,inplace=True,force=True,verbose = False)\n",
      "\n",
      " 17%|█▋        | 1/6 [00:39<03:19, 39.96s/it]\u001b[A"
     ]
    },
    {
     "name": "stdout",
     "output_type": "stream",
     "text": [
      "\u001b[34mINFO    \u001b[0m Solving `\u001b[1;36m1\u001b[0m` problems                                                                                      \n",
      "\u001b[34mINFO    \u001b[0m Solving problem OTProblem\u001b[1m[\u001b[0m\u001b[33mstage\u001b[0m=\u001b[32m'prepared'\u001b[0m, \u001b[33mshape\u001b[0m=\u001b[1m(\u001b[0m\u001b[1;36m4325\u001b[0m, \u001b[1;36m4325\u001b[0m\u001b[1m)\u001b[0m\u001b[1m]\u001b[0m.                                          \n"
     ]
    },
    {
     "name": "stderr",
     "output_type": "stream",
     "text": [
      "/dss/dsshome1/01/di93bur/miniconda3/envs/moscot_env_2/lib/python3.9/site-packages/jax/_src/deprecations.py:51: DeprecationWarning: jax.numpy.DeviceArray is deprecated. Use jax.Array.\n",
      "  warnings.warn(message, DeprecationWarning)\n",
      "/tmp/ipykernel_2231583/654217373.py:28: DeprecationWarning: Call to deprecated function (or staticmethod) opt_louvain.\n",
      "  scib.cl.opt_louvain(adata,label_key='cell_type',cluster_key='cluster_key',plot=False,inplace=True,force=True,verbose = False)\n",
      "\n",
      " 33%|███▎      | 2/6 [01:11<02:19, 34.81s/it]\u001b[A"
     ]
    },
    {
     "name": "stdout",
     "output_type": "stream",
     "text": [
      "\u001b[34mINFO    \u001b[0m Solving `\u001b[1;36m1\u001b[0m` problems                                                                                      \n",
      "\u001b[34mINFO    \u001b[0m Solving problem OTProblem\u001b[1m[\u001b[0m\u001b[33mstage\u001b[0m=\u001b[32m'prepared'\u001b[0m, \u001b[33mshape\u001b[0m=\u001b[1m(\u001b[0m\u001b[1;36m4325\u001b[0m, \u001b[1;36m4325\u001b[0m\u001b[1m)\u001b[0m\u001b[1m]\u001b[0m.                                          \n"
     ]
    },
    {
     "name": "stderr",
     "output_type": "stream",
     "text": [
      "/dss/dsshome1/01/di93bur/miniconda3/envs/moscot_env_2/lib/python3.9/site-packages/jax/_src/deprecations.py:51: DeprecationWarning: jax.numpy.DeviceArray is deprecated. Use jax.Array.\n",
      "  warnings.warn(message, DeprecationWarning)\n",
      "/tmp/ipykernel_2231583/654217373.py:28: DeprecationWarning: Call to deprecated function (or staticmethod) opt_louvain.\n",
      "  scib.cl.opt_louvain(adata,label_key='cell_type',cluster_key='cluster_key',plot=False,inplace=True,force=True,verbose = False)\n",
      "\n",
      " 50%|█████     | 3/6 [01:40<01:36, 32.09s/it]\u001b[A"
     ]
    },
    {
     "name": "stdout",
     "output_type": "stream",
     "text": [
      "\u001b[34mINFO    \u001b[0m Solving `\u001b[1;36m1\u001b[0m` problems                                                                                      \n",
      "\u001b[34mINFO    \u001b[0m Solving problem OTProblem\u001b[1m[\u001b[0m\u001b[33mstage\u001b[0m=\u001b[32m'prepared'\u001b[0m, \u001b[33mshape\u001b[0m=\u001b[1m(\u001b[0m\u001b[1;36m4325\u001b[0m, \u001b[1;36m4325\u001b[0m\u001b[1m)\u001b[0m\u001b[1m]\u001b[0m.                                          \n"
     ]
    },
    {
     "name": "stderr",
     "output_type": "stream",
     "text": [
      "/dss/dsshome1/01/di93bur/miniconda3/envs/moscot_env_2/lib/python3.9/site-packages/jax/_src/deprecations.py:51: DeprecationWarning: jax.numpy.DeviceArray is deprecated. Use jax.Array.\n",
      "  warnings.warn(message, DeprecationWarning)\n",
      "/tmp/ipykernel_2231583/654217373.py:28: DeprecationWarning: Call to deprecated function (or staticmethod) opt_louvain.\n",
      "  scib.cl.opt_louvain(adata,label_key='cell_type',cluster_key='cluster_key',plot=False,inplace=True,force=True,verbose = False)\n",
      "\n",
      " 67%|██████▋   | 4/6 [02:10<01:02, 31.40s/it]\u001b[A"
     ]
    },
    {
     "name": "stdout",
     "output_type": "stream",
     "text": [
      "\u001b[34mINFO    \u001b[0m Solving `\u001b[1;36m1\u001b[0m` problems                                                                                      \n",
      "\u001b[34mINFO    \u001b[0m Solving problem OTProblem\u001b[1m[\u001b[0m\u001b[33mstage\u001b[0m=\u001b[32m'prepared'\u001b[0m, \u001b[33mshape\u001b[0m=\u001b[1m(\u001b[0m\u001b[1;36m4325\u001b[0m, \u001b[1;36m4325\u001b[0m\u001b[1m)\u001b[0m\u001b[1m]\u001b[0m.                                          \n"
     ]
    },
    {
     "name": "stderr",
     "output_type": "stream",
     "text": [
      "/dss/dsshome1/01/di93bur/miniconda3/envs/moscot_env_2/lib/python3.9/site-packages/jax/_src/deprecations.py:51: DeprecationWarning: jax.numpy.DeviceArray is deprecated. Use jax.Array.\n",
      "  warnings.warn(message, DeprecationWarning)\n",
      "/tmp/ipykernel_2231583/654217373.py:28: DeprecationWarning: Call to deprecated function (or staticmethod) opt_louvain.\n",
      "  scib.cl.opt_louvain(adata,label_key='cell_type',cluster_key='cluster_key',plot=False,inplace=True,force=True,verbose = False)\n",
      "\n",
      " 83%|████████▎ | 5/6 [02:38<00:30, 30.29s/it]\u001b[A"
     ]
    },
    {
     "name": "stdout",
     "output_type": "stream",
     "text": [
      "\u001b[34mINFO    \u001b[0m Solving `\u001b[1;36m1\u001b[0m` problems                                                                                      \n",
      "\u001b[34mINFO    \u001b[0m Solving problem OTProblem\u001b[1m[\u001b[0m\u001b[33mstage\u001b[0m=\u001b[32m'prepared'\u001b[0m, \u001b[33mshape\u001b[0m=\u001b[1m(\u001b[0m\u001b[1;36m4325\u001b[0m, \u001b[1;36m4325\u001b[0m\u001b[1m)\u001b[0m\u001b[1m]\u001b[0m.                                          \n"
     ]
    },
    {
     "name": "stderr",
     "output_type": "stream",
     "text": [
      "/dss/dsshome1/01/di93bur/miniconda3/envs/moscot_env_2/lib/python3.9/site-packages/jax/_src/deprecations.py:51: DeprecationWarning: jax.numpy.DeviceArray is deprecated. Use jax.Array.\n",
      "  warnings.warn(message, DeprecationWarning)\n",
      "/tmp/ipykernel_2231583/654217373.py:28: DeprecationWarning: Call to deprecated function (or staticmethod) opt_louvain.\n",
      "  scib.cl.opt_louvain(adata,label_key='cell_type',cluster_key='cluster_key',plot=False,inplace=True,force=True,verbose = False)\n",
      "\n",
      "100%|██████████| 6/6 [03:10<00:00, 31.68s/it]\u001b[A\n",
      " 62%|██████▏   | 8/13 [38:58<23:10, 278.14s/it]\n",
      "  0%|          | 0/6 [00:00<?, ?it/s]\u001b[A"
     ]
    },
    {
     "name": "stdout",
     "output_type": "stream",
     "text": [
      "\u001b[34mINFO    \u001b[0m Solving `\u001b[1;36m1\u001b[0m` problems                                                                                      \n",
      "\u001b[34mINFO    \u001b[0m Solving problem OTProblem\u001b[1m[\u001b[0m\u001b[33mstage\u001b[0m=\u001b[32m'prepared'\u001b[0m, \u001b[33mshape\u001b[0m=\u001b[1m(\u001b[0m\u001b[1;36m1679\u001b[0m, \u001b[1;36m1679\u001b[0m\u001b[1m)\u001b[0m\u001b[1m]\u001b[0m.                                          \n"
     ]
    },
    {
     "name": "stderr",
     "output_type": "stream",
     "text": [
      "/dss/dsshome1/01/di93bur/miniconda3/envs/moscot_env_2/lib/python3.9/site-packages/jax/_src/deprecations.py:51: DeprecationWarning: jax.numpy.DeviceArray is deprecated. Use jax.Array.\n",
      "  warnings.warn(message, DeprecationWarning)\n",
      "/tmp/ipykernel_2231583/654217373.py:28: DeprecationWarning: Call to deprecated function (or staticmethod) opt_louvain.\n",
      "  scib.cl.opt_louvain(adata,label_key='cell_type',cluster_key='cluster_key',plot=False,inplace=True,force=True,verbose = False)\n",
      "\n",
      " 17%|█▋        | 1/6 [00:11<00:58, 11.75s/it]\u001b[A"
     ]
    },
    {
     "name": "stdout",
     "output_type": "stream",
     "text": [
      "\u001b[34mINFO    \u001b[0m Solving `\u001b[1;36m1\u001b[0m` problems                                                                                      \n",
      "\u001b[34mINFO    \u001b[0m Solving problem OTProblem\u001b[1m[\u001b[0m\u001b[33mstage\u001b[0m=\u001b[32m'prepared'\u001b[0m, \u001b[33mshape\u001b[0m=\u001b[1m(\u001b[0m\u001b[1;36m1679\u001b[0m, \u001b[1;36m1679\u001b[0m\u001b[1m)\u001b[0m\u001b[1m]\u001b[0m.                                          \n"
     ]
    },
    {
     "name": "stderr",
     "output_type": "stream",
     "text": [
      "/dss/dsshome1/01/di93bur/miniconda3/envs/moscot_env_2/lib/python3.9/site-packages/jax/_src/deprecations.py:51: DeprecationWarning: jax.numpy.DeviceArray is deprecated. Use jax.Array.\n",
      "  warnings.warn(message, DeprecationWarning)\n",
      "/tmp/ipykernel_2231583/654217373.py:28: DeprecationWarning: Call to deprecated function (or staticmethod) opt_louvain.\n",
      "  scib.cl.opt_louvain(adata,label_key='cell_type',cluster_key='cluster_key',plot=False,inplace=True,force=True,verbose = False)\n",
      "\n",
      " 33%|███▎      | 2/6 [00:23<00:47, 11.92s/it]\u001b[A"
     ]
    },
    {
     "name": "stdout",
     "output_type": "stream",
     "text": [
      "\u001b[34mINFO    \u001b[0m Solving `\u001b[1;36m1\u001b[0m` problems                                                                                      \n",
      "\u001b[34mINFO    \u001b[0m Solving problem OTProblem\u001b[1m[\u001b[0m\u001b[33mstage\u001b[0m=\u001b[32m'prepared'\u001b[0m, \u001b[33mshape\u001b[0m=\u001b[1m(\u001b[0m\u001b[1;36m1679\u001b[0m, \u001b[1;36m1679\u001b[0m\u001b[1m)\u001b[0m\u001b[1m]\u001b[0m.                                          \n"
     ]
    },
    {
     "name": "stderr",
     "output_type": "stream",
     "text": [
      "/dss/dsshome1/01/di93bur/miniconda3/envs/moscot_env_2/lib/python3.9/site-packages/jax/_src/deprecations.py:51: DeprecationWarning: jax.numpy.DeviceArray is deprecated. Use jax.Array.\n",
      "  warnings.warn(message, DeprecationWarning)\n",
      "/tmp/ipykernel_2231583/654217373.py:28: DeprecationWarning: Call to deprecated function (or staticmethod) opt_louvain.\n",
      "  scib.cl.opt_louvain(adata,label_key='cell_type',cluster_key='cluster_key',plot=False,inplace=True,force=True,verbose = False)\n",
      "\n",
      " 50%|█████     | 3/6 [00:34<00:33, 11.18s/it]\u001b[A"
     ]
    },
    {
     "name": "stdout",
     "output_type": "stream",
     "text": [
      "\u001b[34mINFO    \u001b[0m Solving `\u001b[1;36m1\u001b[0m` problems                                                                                      \n",
      "\u001b[34mINFO    \u001b[0m Solving problem OTProblem\u001b[1m[\u001b[0m\u001b[33mstage\u001b[0m=\u001b[32m'prepared'\u001b[0m, \u001b[33mshape\u001b[0m=\u001b[1m(\u001b[0m\u001b[1;36m1679\u001b[0m, \u001b[1;36m1679\u001b[0m\u001b[1m)\u001b[0m\u001b[1m]\u001b[0m.                                          \n"
     ]
    },
    {
     "name": "stderr",
     "output_type": "stream",
     "text": [
      "/dss/dsshome1/01/di93bur/miniconda3/envs/moscot_env_2/lib/python3.9/site-packages/jax/_src/deprecations.py:51: DeprecationWarning: jax.numpy.DeviceArray is deprecated. Use jax.Array.\n",
      "  warnings.warn(message, DeprecationWarning)\n",
      "/tmp/ipykernel_2231583/654217373.py:28: DeprecationWarning: Call to deprecated function (or staticmethod) opt_louvain.\n",
      "  scib.cl.opt_louvain(adata,label_key='cell_type',cluster_key='cluster_key',plot=False,inplace=True,force=True,verbose = False)\n",
      "\n",
      " 67%|██████▋   | 4/6 [00:42<00:20, 10.22s/it]\u001b[A"
     ]
    },
    {
     "name": "stdout",
     "output_type": "stream",
     "text": [
      "\u001b[34mINFO    \u001b[0m Solving `\u001b[1;36m1\u001b[0m` problems                                                                                      \n",
      "\u001b[34mINFO    \u001b[0m Solving problem OTProblem\u001b[1m[\u001b[0m\u001b[33mstage\u001b[0m=\u001b[32m'prepared'\u001b[0m, \u001b[33mshape\u001b[0m=\u001b[1m(\u001b[0m\u001b[1;36m1679\u001b[0m, \u001b[1;36m1679\u001b[0m\u001b[1m)\u001b[0m\u001b[1m]\u001b[0m.                                          \n"
     ]
    },
    {
     "name": "stderr",
     "output_type": "stream",
     "text": [
      "/dss/dsshome1/01/di93bur/miniconda3/envs/moscot_env_2/lib/python3.9/site-packages/jax/_src/deprecations.py:51: DeprecationWarning: jax.numpy.DeviceArray is deprecated. Use jax.Array.\n",
      "  warnings.warn(message, DeprecationWarning)\n",
      "/tmp/ipykernel_2231583/654217373.py:28: DeprecationWarning: Call to deprecated function (or staticmethod) opt_louvain.\n",
      "  scib.cl.opt_louvain(adata,label_key='cell_type',cluster_key='cluster_key',plot=False,inplace=True,force=True,verbose = False)\n",
      "\n",
      " 83%|████████▎ | 5/6 [00:52<00:09,  9.91s/it]\u001b[A"
     ]
    },
    {
     "name": "stdout",
     "output_type": "stream",
     "text": [
      "\u001b[34mINFO    \u001b[0m Solving `\u001b[1;36m1\u001b[0m` problems                                                                                      \n",
      "\u001b[34mINFO    \u001b[0m Solving problem OTProblem\u001b[1m[\u001b[0m\u001b[33mstage\u001b[0m=\u001b[32m'prepared'\u001b[0m, \u001b[33mshape\u001b[0m=\u001b[1m(\u001b[0m\u001b[1;36m1679\u001b[0m, \u001b[1;36m1679\u001b[0m\u001b[1m)\u001b[0m\u001b[1m]\u001b[0m.                                          \n"
     ]
    },
    {
     "name": "stderr",
     "output_type": "stream",
     "text": [
      "/dss/dsshome1/01/di93bur/miniconda3/envs/moscot_env_2/lib/python3.9/site-packages/jax/_src/deprecations.py:51: DeprecationWarning: jax.numpy.DeviceArray is deprecated. Use jax.Array.\n",
      "  warnings.warn(message, DeprecationWarning)\n",
      "/tmp/ipykernel_2231583/654217373.py:28: DeprecationWarning: Call to deprecated function (or staticmethod) opt_louvain.\n",
      "  scib.cl.opt_louvain(adata,label_key='cell_type',cluster_key='cluster_key',plot=False,inplace=True,force=True,verbose = False)\n",
      "\n",
      "100%|██████████| 6/6 [01:01<00:00, 10.29s/it]\u001b[A\n",
      " 69%|██████▉   | 9/13 [40:02<14:05, 211.36s/it]\n",
      "  0%|          | 0/6 [00:00<?, ?it/s]\u001b[A"
     ]
    },
    {
     "name": "stdout",
     "output_type": "stream",
     "text": [
      "\u001b[34mINFO    \u001b[0m Solving `\u001b[1;36m1\u001b[0m` problems                                                                                      \n",
      "\u001b[34mINFO    \u001b[0m Solving problem OTProblem\u001b[1m[\u001b[0m\u001b[33mstage\u001b[0m=\u001b[32m'prepared'\u001b[0m, \u001b[33mshape\u001b[0m=\u001b[1m(\u001b[0m\u001b[1;36m1771\u001b[0m, \u001b[1;36m1771\u001b[0m\u001b[1m)\u001b[0m\u001b[1m]\u001b[0m.                                          \n"
     ]
    },
    {
     "name": "stderr",
     "output_type": "stream",
     "text": [
      "/dss/dsshome1/01/di93bur/miniconda3/envs/moscot_env_2/lib/python3.9/site-packages/jax/_src/deprecations.py:51: DeprecationWarning: jax.numpy.DeviceArray is deprecated. Use jax.Array.\n",
      "  warnings.warn(message, DeprecationWarning)\n",
      "/tmp/ipykernel_2231583/654217373.py:28: DeprecationWarning: Call to deprecated function (or staticmethod) opt_louvain.\n",
      "  scib.cl.opt_louvain(adata,label_key='cell_type',cluster_key='cluster_key',plot=False,inplace=True,force=True,verbose = False)\n",
      "\n",
      " 17%|█▋        | 1/6 [00:13<01:07, 13.54s/it]\u001b[A"
     ]
    },
    {
     "name": "stdout",
     "output_type": "stream",
     "text": [
      "\u001b[34mINFO    \u001b[0m Solving `\u001b[1;36m1\u001b[0m` problems                                                                                      \n",
      "\u001b[34mINFO    \u001b[0m Solving problem OTProblem\u001b[1m[\u001b[0m\u001b[33mstage\u001b[0m=\u001b[32m'prepared'\u001b[0m, \u001b[33mshape\u001b[0m=\u001b[1m(\u001b[0m\u001b[1;36m1771\u001b[0m, \u001b[1;36m1771\u001b[0m\u001b[1m)\u001b[0m\u001b[1m]\u001b[0m.                                          \n"
     ]
    },
    {
     "name": "stderr",
     "output_type": "stream",
     "text": [
      "/dss/dsshome1/01/di93bur/miniconda3/envs/moscot_env_2/lib/python3.9/site-packages/jax/_src/deprecations.py:51: DeprecationWarning: jax.numpy.DeviceArray is deprecated. Use jax.Array.\n",
      "  warnings.warn(message, DeprecationWarning)\n",
      "/tmp/ipykernel_2231583/654217373.py:28: DeprecationWarning: Call to deprecated function (or staticmethod) opt_louvain.\n",
      "  scib.cl.opt_louvain(adata,label_key='cell_type',cluster_key='cluster_key',plot=False,inplace=True,force=True,verbose = False)\n",
      "\n",
      " 33%|███▎      | 2/6 [00:24<00:48, 12.08s/it]\u001b[A"
     ]
    },
    {
     "name": "stdout",
     "output_type": "stream",
     "text": [
      "\u001b[34mINFO    \u001b[0m Solving `\u001b[1;36m1\u001b[0m` problems                                                                                      \n",
      "\u001b[34mINFO    \u001b[0m Solving problem OTProblem\u001b[1m[\u001b[0m\u001b[33mstage\u001b[0m=\u001b[32m'prepared'\u001b[0m, \u001b[33mshape\u001b[0m=\u001b[1m(\u001b[0m\u001b[1;36m1771\u001b[0m, \u001b[1;36m1771\u001b[0m\u001b[1m)\u001b[0m\u001b[1m]\u001b[0m.                                          \n"
     ]
    },
    {
     "name": "stderr",
     "output_type": "stream",
     "text": [
      "/dss/dsshome1/01/di93bur/miniconda3/envs/moscot_env_2/lib/python3.9/site-packages/jax/_src/deprecations.py:51: DeprecationWarning: jax.numpy.DeviceArray is deprecated. Use jax.Array.\n",
      "  warnings.warn(message, DeprecationWarning)\n",
      "/tmp/ipykernel_2231583/654217373.py:28: DeprecationWarning: Call to deprecated function (or staticmethod) opt_louvain.\n",
      "  scib.cl.opt_louvain(adata,label_key='cell_type',cluster_key='cluster_key',plot=False,inplace=True,force=True,verbose = False)\n",
      "\n",
      " 50%|█████     | 3/6 [00:34<00:33, 11.24s/it]\u001b[A"
     ]
    },
    {
     "name": "stdout",
     "output_type": "stream",
     "text": [
      "\u001b[34mINFO    \u001b[0m Solving `\u001b[1;36m1\u001b[0m` problems                                                                                      \n",
      "\u001b[34mINFO    \u001b[0m Solving problem OTProblem\u001b[1m[\u001b[0m\u001b[33mstage\u001b[0m=\u001b[32m'prepared'\u001b[0m, \u001b[33mshape\u001b[0m=\u001b[1m(\u001b[0m\u001b[1;36m1771\u001b[0m, \u001b[1;36m1771\u001b[0m\u001b[1m)\u001b[0m\u001b[1m]\u001b[0m.                                          \n"
     ]
    },
    {
     "name": "stderr",
     "output_type": "stream",
     "text": [
      "/dss/dsshome1/01/di93bur/miniconda3/envs/moscot_env_2/lib/python3.9/site-packages/jax/_src/deprecations.py:51: DeprecationWarning: jax.numpy.DeviceArray is deprecated. Use jax.Array.\n",
      "  warnings.warn(message, DeprecationWarning)\n",
      "/tmp/ipykernel_2231583/654217373.py:28: DeprecationWarning: Call to deprecated function (or staticmethod) opt_louvain.\n",
      "  scib.cl.opt_louvain(adata,label_key='cell_type',cluster_key='cluster_key',plot=False,inplace=True,force=True,verbose = False)\n",
      "\n",
      " 67%|██████▋   | 4/6 [00:45<00:22, 11.15s/it]\u001b[A"
     ]
    },
    {
     "name": "stdout",
     "output_type": "stream",
     "text": [
      "\u001b[34mINFO    \u001b[0m Solving `\u001b[1;36m1\u001b[0m` problems                                                                                      \n",
      "\u001b[34mINFO    \u001b[0m Solving problem OTProblem\u001b[1m[\u001b[0m\u001b[33mstage\u001b[0m=\u001b[32m'prepared'\u001b[0m, \u001b[33mshape\u001b[0m=\u001b[1m(\u001b[0m\u001b[1;36m1771\u001b[0m, \u001b[1;36m1771\u001b[0m\u001b[1m)\u001b[0m\u001b[1m]\u001b[0m.                                          \n"
     ]
    },
    {
     "name": "stderr",
     "output_type": "stream",
     "text": [
      "/dss/dsshome1/01/di93bur/miniconda3/envs/moscot_env_2/lib/python3.9/site-packages/jax/_src/deprecations.py:51: DeprecationWarning: jax.numpy.DeviceArray is deprecated. Use jax.Array.\n",
      "  warnings.warn(message, DeprecationWarning)\n",
      "/tmp/ipykernel_2231583/654217373.py:28: DeprecationWarning: Call to deprecated function (or staticmethod) opt_louvain.\n",
      "  scib.cl.opt_louvain(adata,label_key='cell_type',cluster_key='cluster_key',plot=False,inplace=True,force=True,verbose = False)\n",
      "\n",
      " 83%|████████▎ | 5/6 [00:57<00:11, 11.21s/it]\u001b[A"
     ]
    },
    {
     "name": "stdout",
     "output_type": "stream",
     "text": [
      "\u001b[34mINFO    \u001b[0m Solving `\u001b[1;36m1\u001b[0m` problems                                                                                      \n",
      "\u001b[34mINFO    \u001b[0m Solving problem OTProblem\u001b[1m[\u001b[0m\u001b[33mstage\u001b[0m=\u001b[32m'prepared'\u001b[0m, \u001b[33mshape\u001b[0m=\u001b[1m(\u001b[0m\u001b[1;36m1771\u001b[0m, \u001b[1;36m1771\u001b[0m\u001b[1m)\u001b[0m\u001b[1m]\u001b[0m.                                          \n"
     ]
    },
    {
     "name": "stderr",
     "output_type": "stream",
     "text": [
      "/dss/dsshome1/01/di93bur/miniconda3/envs/moscot_env_2/lib/python3.9/site-packages/jax/_src/deprecations.py:51: DeprecationWarning: jax.numpy.DeviceArray is deprecated. Use jax.Array.\n",
      "  warnings.warn(message, DeprecationWarning)\n",
      "/tmp/ipykernel_2231583/654217373.py:28: DeprecationWarning: Call to deprecated function (or staticmethod) opt_louvain.\n",
      "  scib.cl.opt_louvain(adata,label_key='cell_type',cluster_key='cluster_key',plot=False,inplace=True,force=True,verbose = False)\n",
      "\n",
      "100%|██████████| 6/6 [01:07<00:00, 11.27s/it]\u001b[A\n",
      " 77%|███████▋  | 10/13 [41:12<08:22, 167.61s/it]\n",
      "  0%|          | 0/6 [00:00<?, ?it/s]\u001b[A"
     ]
    },
    {
     "name": "stdout",
     "output_type": "stream",
     "text": [
      "\u001b[34mINFO    \u001b[0m Solving `\u001b[1;36m1\u001b[0m` problems                                                                                      \n",
      "\u001b[34mINFO    \u001b[0m Solving problem OTProblem\u001b[1m[\u001b[0m\u001b[33mstage\u001b[0m=\u001b[32m'prepared'\u001b[0m, \u001b[33mshape\u001b[0m=\u001b[1m(\u001b[0m\u001b[1;36m8023\u001b[0m, \u001b[1;36m8023\u001b[0m\u001b[1m)\u001b[0m\u001b[1m]\u001b[0m.                                          \n"
     ]
    },
    {
     "name": "stderr",
     "output_type": "stream",
     "text": [
      "/dss/dsshome1/01/di93bur/miniconda3/envs/moscot_env_2/lib/python3.9/site-packages/jax/_src/deprecations.py:51: DeprecationWarning: jax.numpy.DeviceArray is deprecated. Use jax.Array.\n",
      "  warnings.warn(message, DeprecationWarning)\n",
      "/tmp/ipykernel_2231583/654217373.py:28: DeprecationWarning: Call to deprecated function (or staticmethod) opt_louvain.\n",
      "  scib.cl.opt_louvain(adata,label_key='cell_type',cluster_key='cluster_key',plot=False,inplace=True,force=True,verbose = False)\n",
      "\n",
      " 17%|█▋        | 1/6 [01:46<08:54, 106.99s/it]\u001b[A"
     ]
    },
    {
     "name": "stdout",
     "output_type": "stream",
     "text": [
      "\u001b[34mINFO    \u001b[0m Solving `\u001b[1;36m1\u001b[0m` problems                                                                                      \n",
      "\u001b[34mINFO    \u001b[0m Solving problem OTProblem\u001b[1m[\u001b[0m\u001b[33mstage\u001b[0m=\u001b[32m'prepared'\u001b[0m, \u001b[33mshape\u001b[0m=\u001b[1m(\u001b[0m\u001b[1;36m8023\u001b[0m, \u001b[1;36m8023\u001b[0m\u001b[1m)\u001b[0m\u001b[1m]\u001b[0m.                                          \n"
     ]
    },
    {
     "name": "stderr",
     "output_type": "stream",
     "text": [
      "/dss/dsshome1/01/di93bur/miniconda3/envs/moscot_env_2/lib/python3.9/site-packages/jax/_src/deprecations.py:51: DeprecationWarning: jax.numpy.DeviceArray is deprecated. Use jax.Array.\n",
      "  warnings.warn(message, DeprecationWarning)\n",
      "/tmp/ipykernel_2231583/654217373.py:28: DeprecationWarning: Call to deprecated function (or staticmethod) opt_louvain.\n",
      "  scib.cl.opt_louvain(adata,label_key='cell_type',cluster_key='cluster_key',plot=False,inplace=True,force=True,verbose = False)\n",
      "\n",
      " 33%|███▎      | 2/6 [03:07<06:06, 91.68s/it] \u001b[A"
     ]
    },
    {
     "name": "stdout",
     "output_type": "stream",
     "text": [
      "\u001b[34mINFO    \u001b[0m Solving `\u001b[1;36m1\u001b[0m` problems                                                                                      \n",
      "\u001b[34mINFO    \u001b[0m Solving problem OTProblem\u001b[1m[\u001b[0m\u001b[33mstage\u001b[0m=\u001b[32m'prepared'\u001b[0m, \u001b[33mshape\u001b[0m=\u001b[1m(\u001b[0m\u001b[1;36m8023\u001b[0m, \u001b[1;36m8023\u001b[0m\u001b[1m)\u001b[0m\u001b[1m]\u001b[0m.                                          \n"
     ]
    },
    {
     "name": "stderr",
     "output_type": "stream",
     "text": [
      "/dss/dsshome1/01/di93bur/miniconda3/envs/moscot_env_2/lib/python3.9/site-packages/jax/_src/deprecations.py:51: DeprecationWarning: jax.numpy.DeviceArray is deprecated. Use jax.Array.\n",
      "  warnings.warn(message, DeprecationWarning)\n",
      "/tmp/ipykernel_2231583/654217373.py:28: DeprecationWarning: Call to deprecated function (or staticmethod) opt_louvain.\n",
      "  scib.cl.opt_louvain(adata,label_key='cell_type',cluster_key='cluster_key',plot=False,inplace=True,force=True,verbose = False)\n",
      "\n",
      " 50%|█████     | 3/6 [04:30<04:21, 87.32s/it]\u001b[A"
     ]
    },
    {
     "name": "stdout",
     "output_type": "stream",
     "text": [
      "\u001b[34mINFO    \u001b[0m Solving `\u001b[1;36m1\u001b[0m` problems                                                                                      \n",
      "\u001b[34mINFO    \u001b[0m Solving problem OTProblem\u001b[1m[\u001b[0m\u001b[33mstage\u001b[0m=\u001b[32m'prepared'\u001b[0m, \u001b[33mshape\u001b[0m=\u001b[1m(\u001b[0m\u001b[1;36m8023\u001b[0m, \u001b[1;36m8023\u001b[0m\u001b[1m)\u001b[0m\u001b[1m]\u001b[0m.                                          \n"
     ]
    },
    {
     "name": "stderr",
     "output_type": "stream",
     "text": [
      "/dss/dsshome1/01/di93bur/miniconda3/envs/moscot_env_2/lib/python3.9/site-packages/jax/_src/deprecations.py:51: DeprecationWarning: jax.numpy.DeviceArray is deprecated. Use jax.Array.\n",
      "  warnings.warn(message, DeprecationWarning)\n",
      "/tmp/ipykernel_2231583/654217373.py:28: DeprecationWarning: Call to deprecated function (or staticmethod) opt_louvain.\n",
      "  scib.cl.opt_louvain(adata,label_key='cell_type',cluster_key='cluster_key',plot=False,inplace=True,force=True,verbose = False)\n",
      "\n",
      " 67%|██████▋   | 4/6 [05:40<02:41, 80.73s/it]\u001b[A"
     ]
    },
    {
     "name": "stdout",
     "output_type": "stream",
     "text": [
      "\u001b[34mINFO    \u001b[0m Solving `\u001b[1;36m1\u001b[0m` problems                                                                                      \n",
      "\u001b[34mINFO    \u001b[0m Solving problem OTProblem\u001b[1m[\u001b[0m\u001b[33mstage\u001b[0m=\u001b[32m'prepared'\u001b[0m, \u001b[33mshape\u001b[0m=\u001b[1m(\u001b[0m\u001b[1;36m8023\u001b[0m, \u001b[1;36m8023\u001b[0m\u001b[1m)\u001b[0m\u001b[1m]\u001b[0m.                                          \n"
     ]
    },
    {
     "name": "stderr",
     "output_type": "stream",
     "text": [
      "/dss/dsshome1/01/di93bur/miniconda3/envs/moscot_env_2/lib/python3.9/site-packages/jax/_src/deprecations.py:51: DeprecationWarning: jax.numpy.DeviceArray is deprecated. Use jax.Array.\n",
      "  warnings.warn(message, DeprecationWarning)\n",
      "/tmp/ipykernel_2231583/654217373.py:28: DeprecationWarning: Call to deprecated function (or staticmethod) opt_louvain.\n",
      "  scib.cl.opt_louvain(adata,label_key='cell_type',cluster_key='cluster_key',plot=False,inplace=True,force=True,verbose = False)\n",
      "\n",
      " 83%|████████▎ | 5/6 [06:55<01:18, 78.41s/it]\u001b[A"
     ]
    },
    {
     "name": "stdout",
     "output_type": "stream",
     "text": [
      "\u001b[34mINFO    \u001b[0m Solving `\u001b[1;36m1\u001b[0m` problems                                                                                      \n",
      "\u001b[34mINFO    \u001b[0m Solving problem OTProblem\u001b[1m[\u001b[0m\u001b[33mstage\u001b[0m=\u001b[32m'prepared'\u001b[0m, \u001b[33mshape\u001b[0m=\u001b[1m(\u001b[0m\u001b[1;36m8023\u001b[0m, \u001b[1;36m8023\u001b[0m\u001b[1m)\u001b[0m\u001b[1m]\u001b[0m.                                          \n"
     ]
    },
    {
     "name": "stderr",
     "output_type": "stream",
     "text": [
      "/dss/dsshome1/01/di93bur/miniconda3/envs/moscot_env_2/lib/python3.9/site-packages/jax/_src/deprecations.py:51: DeprecationWarning: jax.numpy.DeviceArray is deprecated. Use jax.Array.\n",
      "  warnings.warn(message, DeprecationWarning)\n",
      "/tmp/ipykernel_2231583/654217373.py:28: DeprecationWarning: Call to deprecated function (or staticmethod) opt_louvain.\n",
      "  scib.cl.opt_louvain(adata,label_key='cell_type',cluster_key='cluster_key',plot=False,inplace=True,force=True,verbose = False)\n",
      "\n",
      "100%|██████████| 6/6 [08:14<00:00, 82.35s/it]\u001b[A\n",
      " 85%|████████▍ | 11/13 [49:32<08:58, 269.41s/it]\n",
      "  0%|          | 0/6 [00:00<?, ?it/s]\u001b[A"
     ]
    },
    {
     "name": "stdout",
     "output_type": "stream",
     "text": [
      "\u001b[34mINFO    \u001b[0m Solving `\u001b[1;36m1\u001b[0m` problems                                                                                      \n",
      "\u001b[34mINFO    \u001b[0m Solving problem OTProblem\u001b[1m[\u001b[0m\u001b[33mstage\u001b[0m=\u001b[32m'prepared'\u001b[0m, \u001b[33mshape\u001b[0m=\u001b[1m(\u001b[0m\u001b[1;36m9876\u001b[0m, \u001b[1;36m9876\u001b[0m\u001b[1m)\u001b[0m\u001b[1m]\u001b[0m.                                          \n"
     ]
    },
    {
     "name": "stderr",
     "output_type": "stream",
     "text": [
      "/dss/dsshome1/01/di93bur/miniconda3/envs/moscot_env_2/lib/python3.9/site-packages/jax/_src/deprecations.py:51: DeprecationWarning: jax.numpy.DeviceArray is deprecated. Use jax.Array.\n",
      "  warnings.warn(message, DeprecationWarning)\n",
      "/tmp/ipykernel_2231583/654217373.py:28: DeprecationWarning: Call to deprecated function (or staticmethod) opt_louvain.\n",
      "  scib.cl.opt_louvain(adata,label_key='cell_type',cluster_key='cluster_key',plot=False,inplace=True,force=True,verbose = False)\n",
      "\n",
      " 17%|█▋        | 1/6 [02:11<10:59, 131.96s/it]\u001b[A"
     ]
    },
    {
     "name": "stdout",
     "output_type": "stream",
     "text": [
      "\u001b[34mINFO    \u001b[0m Solving `\u001b[1;36m1\u001b[0m` problems                                                                                      \n",
      "\u001b[34mINFO    \u001b[0m Solving problem OTProblem\u001b[1m[\u001b[0m\u001b[33mstage\u001b[0m=\u001b[32m'prepared'\u001b[0m, \u001b[33mshape\u001b[0m=\u001b[1m(\u001b[0m\u001b[1;36m9876\u001b[0m, \u001b[1;36m9876\u001b[0m\u001b[1m)\u001b[0m\u001b[1m]\u001b[0m.                                          \n"
     ]
    },
    {
     "name": "stderr",
     "output_type": "stream",
     "text": [
      "/dss/dsshome1/01/di93bur/miniconda3/envs/moscot_env_2/lib/python3.9/site-packages/jax/_src/deprecations.py:51: DeprecationWarning: jax.numpy.DeviceArray is deprecated. Use jax.Array.\n",
      "  warnings.warn(message, DeprecationWarning)\n",
      "/tmp/ipykernel_2231583/654217373.py:28: DeprecationWarning: Call to deprecated function (or staticmethod) opt_louvain.\n",
      "  scib.cl.opt_louvain(adata,label_key='cell_type',cluster_key='cluster_key',plot=False,inplace=True,force=True,verbose = False)\n",
      "\n",
      " 33%|███▎      | 2/6 [04:06<08:06, 121.70s/it]\u001b[A"
     ]
    },
    {
     "name": "stdout",
     "output_type": "stream",
     "text": [
      "\u001b[34mINFO    \u001b[0m Solving `\u001b[1;36m1\u001b[0m` problems                                                                                      \n",
      "\u001b[34mINFO    \u001b[0m Solving problem OTProblem\u001b[1m[\u001b[0m\u001b[33mstage\u001b[0m=\u001b[32m'prepared'\u001b[0m, \u001b[33mshape\u001b[0m=\u001b[1m(\u001b[0m\u001b[1;36m9876\u001b[0m, \u001b[1;36m9876\u001b[0m\u001b[1m)\u001b[0m\u001b[1m]\u001b[0m.                                          \n"
     ]
    },
    {
     "name": "stderr",
     "output_type": "stream",
     "text": [
      "/dss/dsshome1/01/di93bur/miniconda3/envs/moscot_env_2/lib/python3.9/site-packages/jax/_src/deprecations.py:51: DeprecationWarning: jax.numpy.DeviceArray is deprecated. Use jax.Array.\n",
      "  warnings.warn(message, DeprecationWarning)\n",
      "/tmp/ipykernel_2231583/654217373.py:28: DeprecationWarning: Call to deprecated function (or staticmethod) opt_louvain.\n",
      "  scib.cl.opt_louvain(adata,label_key='cell_type',cluster_key='cluster_key',plot=False,inplace=True,force=True,verbose = False)\n",
      "\n",
      " 50%|█████     | 3/6 [06:05<06:00, 120.28s/it]\u001b[A"
     ]
    },
    {
     "name": "stdout",
     "output_type": "stream",
     "text": [
      "\u001b[34mINFO    \u001b[0m Solving `\u001b[1;36m1\u001b[0m` problems                                                                                      \n",
      "\u001b[34mINFO    \u001b[0m Solving problem OTProblem\u001b[1m[\u001b[0m\u001b[33mstage\u001b[0m=\u001b[32m'prepared'\u001b[0m, \u001b[33mshape\u001b[0m=\u001b[1m(\u001b[0m\u001b[1;36m9876\u001b[0m, \u001b[1;36m9876\u001b[0m\u001b[1m)\u001b[0m\u001b[1m]\u001b[0m.                                          \n"
     ]
    },
    {
     "name": "stderr",
     "output_type": "stream",
     "text": [
      "/dss/dsshome1/01/di93bur/miniconda3/envs/moscot_env_2/lib/python3.9/site-packages/jax/_src/deprecations.py:51: DeprecationWarning: jax.numpy.DeviceArray is deprecated. Use jax.Array.\n",
      "  warnings.warn(message, DeprecationWarning)\n",
      "/tmp/ipykernel_2231583/654217373.py:28: DeprecationWarning: Call to deprecated function (or staticmethod) opt_louvain.\n",
      "  scib.cl.opt_louvain(adata,label_key='cell_type',cluster_key='cluster_key',plot=False,inplace=True,force=True,verbose = False)\n",
      "\n",
      " 67%|██████▋   | 4/6 [07:50<03:48, 114.28s/it]\u001b[A"
     ]
    },
    {
     "name": "stdout",
     "output_type": "stream",
     "text": [
      "\u001b[34mINFO    \u001b[0m Solving `\u001b[1;36m1\u001b[0m` problems                                                                                      \n",
      "\u001b[34mINFO    \u001b[0m Solving problem OTProblem\u001b[1m[\u001b[0m\u001b[33mstage\u001b[0m=\u001b[32m'prepared'\u001b[0m, \u001b[33mshape\u001b[0m=\u001b[1m(\u001b[0m\u001b[1;36m9876\u001b[0m, \u001b[1;36m9876\u001b[0m\u001b[1m)\u001b[0m\u001b[1m]\u001b[0m.                                          \n"
     ]
    },
    {
     "name": "stderr",
     "output_type": "stream",
     "text": [
      "/dss/dsshome1/01/di93bur/miniconda3/envs/moscot_env_2/lib/python3.9/site-packages/jax/_src/deprecations.py:51: DeprecationWarning: jax.numpy.DeviceArray is deprecated. Use jax.Array.\n",
      "  warnings.warn(message, DeprecationWarning)\n",
      "/tmp/ipykernel_2231583/654217373.py:28: DeprecationWarning: Call to deprecated function (or staticmethod) opt_louvain.\n",
      "  scib.cl.opt_louvain(adata,label_key='cell_type',cluster_key='cluster_key',plot=False,inplace=True,force=True,verbose = False)\n",
      "\n",
      " 83%|████████▎ | 5/6 [09:44<01:54, 114.41s/it]\u001b[A"
     ]
    },
    {
     "name": "stdout",
     "output_type": "stream",
     "text": [
      "\u001b[34mINFO    \u001b[0m Solving `\u001b[1;36m1\u001b[0m` problems                                                                                      \n",
      "\u001b[34mINFO    \u001b[0m Solving problem OTProblem\u001b[1m[\u001b[0m\u001b[33mstage\u001b[0m=\u001b[32m'prepared'\u001b[0m, \u001b[33mshape\u001b[0m=\u001b[1m(\u001b[0m\u001b[1;36m9876\u001b[0m, \u001b[1;36m9876\u001b[0m\u001b[1m)\u001b[0m\u001b[1m]\u001b[0m.                                          \n"
     ]
    },
    {
     "name": "stderr",
     "output_type": "stream",
     "text": [
      "/dss/dsshome1/01/di93bur/miniconda3/envs/moscot_env_2/lib/python3.9/site-packages/jax/_src/deprecations.py:51: DeprecationWarning: jax.numpy.DeviceArray is deprecated. Use jax.Array.\n",
      "  warnings.warn(message, DeprecationWarning)\n",
      "/tmp/ipykernel_2231583/654217373.py:28: DeprecationWarning: Call to deprecated function (or staticmethod) opt_louvain.\n",
      "  scib.cl.opt_louvain(adata,label_key='cell_type',cluster_key='cluster_key',plot=False,inplace=True,force=True,verbose = False)\n",
      "\n",
      "100%|██████████| 6/6 [11:44<00:00, 117.39s/it]\u001b[A\n",
      " 92%|█████████▏| 12/13 [1:01:18<06:42, 402.25s/it]\n",
      "  0%|          | 0/6 [00:00<?, ?it/s]\u001b[A"
     ]
    },
    {
     "name": "stdout",
     "output_type": "stream",
     "text": [
      "\u001b[34mINFO    \u001b[0m Solving `\u001b[1;36m1\u001b[0m` problems                                                                                      \n",
      "\u001b[34mINFO    \u001b[0m Solving problem OTProblem\u001b[1m[\u001b[0m\u001b[33mstage\u001b[0m=\u001b[32m'prepared'\u001b[0m, \u001b[33mshape\u001b[0m=\u001b[1m(\u001b[0m\u001b[1;36m4325\u001b[0m, \u001b[1;36m4325\u001b[0m\u001b[1m)\u001b[0m\u001b[1m]\u001b[0m.                                          \n"
     ]
    },
    {
     "name": "stderr",
     "output_type": "stream",
     "text": [
      "/dss/dsshome1/01/di93bur/miniconda3/envs/moscot_env_2/lib/python3.9/site-packages/jax/_src/deprecations.py:51: DeprecationWarning: jax.numpy.DeviceArray is deprecated. Use jax.Array.\n",
      "  warnings.warn(message, DeprecationWarning)\n",
      "/tmp/ipykernel_2231583/654217373.py:28: DeprecationWarning: Call to deprecated function (or staticmethod) opt_louvain.\n",
      "  scib.cl.opt_louvain(adata,label_key='cell_type',cluster_key='cluster_key',plot=False,inplace=True,force=True,verbose = False)\n",
      "\n",
      " 17%|█▋        | 1/6 [00:35<02:59, 35.89s/it]\u001b[A"
     ]
    },
    {
     "name": "stdout",
     "output_type": "stream",
     "text": [
      "\u001b[34mINFO    \u001b[0m Solving `\u001b[1;36m1\u001b[0m` problems                                                                                      \n",
      "\u001b[34mINFO    \u001b[0m Solving problem OTProblem\u001b[1m[\u001b[0m\u001b[33mstage\u001b[0m=\u001b[32m'prepared'\u001b[0m, \u001b[33mshape\u001b[0m=\u001b[1m(\u001b[0m\u001b[1;36m4325\u001b[0m, \u001b[1;36m4325\u001b[0m\u001b[1m)\u001b[0m\u001b[1m]\u001b[0m.                                          \n"
     ]
    },
    {
     "name": "stderr",
     "output_type": "stream",
     "text": [
      "/dss/dsshome1/01/di93bur/miniconda3/envs/moscot_env_2/lib/python3.9/site-packages/jax/_src/deprecations.py:51: DeprecationWarning: jax.numpy.DeviceArray is deprecated. Use jax.Array.\n",
      "  warnings.warn(message, DeprecationWarning)\n",
      "/tmp/ipykernel_2231583/654217373.py:28: DeprecationWarning: Call to deprecated function (or staticmethod) opt_louvain.\n",
      "  scib.cl.opt_louvain(adata,label_key='cell_type',cluster_key='cluster_key',plot=False,inplace=True,force=True,verbose = False)\n",
      "\n",
      " 33%|███▎      | 2/6 [01:07<02:12, 33.15s/it]\u001b[A"
     ]
    },
    {
     "name": "stdout",
     "output_type": "stream",
     "text": [
      "\u001b[34mINFO    \u001b[0m Solving `\u001b[1;36m1\u001b[0m` problems                                                                                      \n",
      "\u001b[34mINFO    \u001b[0m Solving problem OTProblem\u001b[1m[\u001b[0m\u001b[33mstage\u001b[0m=\u001b[32m'prepared'\u001b[0m, \u001b[33mshape\u001b[0m=\u001b[1m(\u001b[0m\u001b[1;36m4325\u001b[0m, \u001b[1;36m4325\u001b[0m\u001b[1m)\u001b[0m\u001b[1m]\u001b[0m.                                          \n"
     ]
    },
    {
     "name": "stderr",
     "output_type": "stream",
     "text": [
      "/dss/dsshome1/01/di93bur/miniconda3/envs/moscot_env_2/lib/python3.9/site-packages/jax/_src/deprecations.py:51: DeprecationWarning: jax.numpy.DeviceArray is deprecated. Use jax.Array.\n",
      "  warnings.warn(message, DeprecationWarning)\n",
      "/tmp/ipykernel_2231583/654217373.py:28: DeprecationWarning: Call to deprecated function (or staticmethod) opt_louvain.\n",
      "  scib.cl.opt_louvain(adata,label_key='cell_type',cluster_key='cluster_key',plot=False,inplace=True,force=True,verbose = False)\n",
      "\n",
      " 50%|█████     | 3/6 [01:36<01:34, 31.42s/it]\u001b[A"
     ]
    },
    {
     "name": "stdout",
     "output_type": "stream",
     "text": [
      "\u001b[34mINFO    \u001b[0m Solving `\u001b[1;36m1\u001b[0m` problems                                                                                      \n",
      "\u001b[34mINFO    \u001b[0m Solving problem OTProblem\u001b[1m[\u001b[0m\u001b[33mstage\u001b[0m=\u001b[32m'prepared'\u001b[0m, \u001b[33mshape\u001b[0m=\u001b[1m(\u001b[0m\u001b[1;36m4325\u001b[0m, \u001b[1;36m4325\u001b[0m\u001b[1m)\u001b[0m\u001b[1m]\u001b[0m.                                          \n"
     ]
    },
    {
     "name": "stderr",
     "output_type": "stream",
     "text": [
      "/dss/dsshome1/01/di93bur/miniconda3/envs/moscot_env_2/lib/python3.9/site-packages/jax/_src/deprecations.py:51: DeprecationWarning: jax.numpy.DeviceArray is deprecated. Use jax.Array.\n",
      "  warnings.warn(message, DeprecationWarning)\n",
      "/tmp/ipykernel_2231583/654217373.py:28: DeprecationWarning: Call to deprecated function (or staticmethod) opt_louvain.\n",
      "  scib.cl.opt_louvain(adata,label_key='cell_type',cluster_key='cluster_key',plot=False,inplace=True,force=True,verbose = False)\n",
      "\n",
      " 67%|██████▋   | 4/6 [02:05<01:00, 30.32s/it]\u001b[A"
     ]
    },
    {
     "name": "stdout",
     "output_type": "stream",
     "text": [
      "\u001b[34mINFO    \u001b[0m Solving `\u001b[1;36m1\u001b[0m` problems                                                                                      \n",
      "\u001b[34mINFO    \u001b[0m Solving problem OTProblem\u001b[1m[\u001b[0m\u001b[33mstage\u001b[0m=\u001b[32m'prepared'\u001b[0m, \u001b[33mshape\u001b[0m=\u001b[1m(\u001b[0m\u001b[1;36m4325\u001b[0m, \u001b[1;36m4325\u001b[0m\u001b[1m)\u001b[0m\u001b[1m]\u001b[0m.                                          \n"
     ]
    },
    {
     "name": "stderr",
     "output_type": "stream",
     "text": [
      "/dss/dsshome1/01/di93bur/miniconda3/envs/moscot_env_2/lib/python3.9/site-packages/jax/_src/deprecations.py:51: DeprecationWarning: jax.numpy.DeviceArray is deprecated. Use jax.Array.\n",
      "  warnings.warn(message, DeprecationWarning)\n",
      "/tmp/ipykernel_2231583/654217373.py:28: DeprecationWarning: Call to deprecated function (or staticmethod) opt_louvain.\n",
      "  scib.cl.opt_louvain(adata,label_key='cell_type',cluster_key='cluster_key',plot=False,inplace=True,force=True,verbose = False)\n",
      "\n",
      " 83%|████████▎ | 5/6 [02:35<00:30, 30.23s/it]\u001b[A"
     ]
    },
    {
     "name": "stdout",
     "output_type": "stream",
     "text": [
      "\u001b[34mINFO    \u001b[0m Solving `\u001b[1;36m1\u001b[0m` problems                                                                                      \n",
      "\u001b[34mINFO    \u001b[0m Solving problem OTProblem\u001b[1m[\u001b[0m\u001b[33mstage\u001b[0m=\u001b[32m'prepared'\u001b[0m, \u001b[33mshape\u001b[0m=\u001b[1m(\u001b[0m\u001b[1;36m4325\u001b[0m, \u001b[1;36m4325\u001b[0m\u001b[1m)\u001b[0m\u001b[1m]\u001b[0m.                                          \n"
     ]
    },
    {
     "name": "stderr",
     "output_type": "stream",
     "text": [
      "/dss/dsshome1/01/di93bur/miniconda3/envs/moscot_env_2/lib/python3.9/site-packages/jax/_src/deprecations.py:51: DeprecationWarning: jax.numpy.DeviceArray is deprecated. Use jax.Array.\n",
      "  warnings.warn(message, DeprecationWarning)\n",
      "/tmp/ipykernel_2231583/654217373.py:28: DeprecationWarning: Call to deprecated function (or staticmethod) opt_louvain.\n",
      "  scib.cl.opt_louvain(adata,label_key='cell_type',cluster_key='cluster_key',plot=False,inplace=True,force=True,verbose = False)\n",
      "\n",
      "100%|██████████| 6/6 [03:04<00:00, 30.69s/it]\u001b[A\n",
      "100%|██████████| 13/13 [1:04:25<00:00, 297.33s/it]\n"
     ]
    }
   ],
   "source": [
    "results = []\n",
    "for i in tqdm(['s1d1', 's1d2', 's1d3', 's2d1', 's2d4', 's2d5', 's3d10', 's3d3', 's3d6', 's3d7', 's4d1', 's4d8', 's4d9']):\n",
    "    atac = sc.read('data/'+i+'/atac-emb_gc.h5ad')\n",
    "    rna = sc.read('data/'+i+'/rna-emb_gc.h5ad')\n",
    "    rna.obsm['X_pca_norm'] = pp.normalize(rna.obsm['X_pca'])\n",
    "    atac.obsm['X_lsi_norm'] = pp.normalize(atac.obsm['X_lsi_red']) \n",
    "    for eps in tqdm([1e-3,.5e-2,1e-2,.5e-1,1e-1, .5]):\n",
    "        tp = TranslationProblem(adata_src=rna, adata_tgt=atac)\n",
    "        tp = tp.prepare(\n",
    "            src_attr=\"X_pca_norm\",\n",
    "            tgt_attr=\"X_lsi_norm\"\n",
    "        )\n",
    "        tp = tp.solve(alpha=1.0, epsilon=eps)\n",
    "        conv = tp[('src', 'tgt')].solution.converged\n",
    "        T = tp[('src', 'tgt')].solution.transport_matrix\n",
    "        translated_norm = T.dot(atac.obsm['X_lsi_norm'])/ np.sum(T,axis=1)[:,None]\n",
    "        adata = sc.concat([rna, atac], join = 'outer', label='batch', index_unique = '-', keys=[\"RNA (translated)\", \"ATAC\"])\n",
    "        adata.obsm[\"X_scot\"] = np.concatenate((translated_norm, atac.obsm['X_lsi_norm']), axis=0)\n",
    "\n",
    "        # Evaluation metrics\n",
    "        f = fcts.foscttm(translated_norm, atac.obsm['X_lsi_norm'])\n",
    "        lta = fcts.transfer_accuracy(translated_norm, atac.obsm['X_lsi_norm'], atac.obs['cell_type'], rna.obs['cell_type'])\n",
    "        alg_score = fcts.alignment_score(np.array(translated_norm), np.array(atac.obsm['X_lsi_norm']))\n",
    "        rmse = fcts.calculate_rmse(translated_norm, atac.obsm['X_lsi_norm'])\n",
    "        \n",
    "        # Bio-conservation metrics\n",
    "        sc.pp.neighbors(adata, use_rep='X_scot')\n",
    "        scib.cl.opt_louvain(adata,label_key='cell_type',cluster_key='cluster_key',plot=False,inplace=True,force=True,verbose = False)\n",
    "        nmi = scib.me.nmi(adata, cluster_key='cluster_key', label_key='cell_type')\n",
    "        asw_label = scib.me.silhouette(adata, label_key='cell_type', embed='X_scot')\n",
    "        ari = scib.me.ari(adata, cluster_key='cluster_key', label_key='cell_type')\n",
    "\n",
    "        # Batch correction metrics\n",
    "        asw_batch = scib.me.silhouette_batch(adata,batch_key='batch',label_key='cell_type',embed='X_scot',verbose=False)\n",
    "        graph_connectivity = scib.me.graph_connectivity(adata, label_key='cell_type')\n",
    "\n",
    "        results.append([i, eps, conv, f, lta, alg_score, rmse, nmi, asw_label, ari, asw_batch, graph_connectivity])"
   ]
  },
  {
   "cell_type": "code",
   "execution_count": null,
   "id": "91116ec4",
   "metadata": {},
   "outputs": [],
   "source": [
    "df_results = pd.DataFrame(\n",
    "    results,\n",
    "    columns =['donor', 'epsilon', 'converged', 'foscttm', \"label_transfer_accuracy\", \"alignment_score\", \"rmse\", \"nmi\", \"asw_label\", \"ari\", \"asw_batch\", \"graph_connectivity\"]\n",
    ")\n",
    "df_results[['nmi', 'ari']] = df_results['nmi_ari'].apply(pd.Series)\n",
    "df_results.to_csv('results_gw.csv', index = False)"
   ]
  },
  {
   "cell_type": "code",
   "execution_count": null,
   "id": "51ae08ee",
   "metadata": {},
   "outputs": [],
   "source": []
  }
 ],
 "metadata": {
  "kernelspec": {
   "display_name": "moscot_env_2",
   "language": "python",
   "name": "moscot_env_2"
  },
  "language_info": {
   "codemirror_mode": {
    "name": "ipython",
    "version": 3
   },
   "file_extension": ".py",
   "mimetype": "text/x-python",
   "name": "python",
   "nbconvert_exporter": "python",
   "pygments_lexer": "ipython3",
   "version": "3.9.16"
  }
 },
 "nbformat": 4,
 "nbformat_minor": 5
}
